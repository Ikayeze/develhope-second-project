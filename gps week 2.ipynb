{
 "cells": [
  {
   "cell_type": "code",
   "execution_count": 1,
   "id": "9a419200",
   "metadata": {
    "ExecuteTime": {
     "end_time": "2023-01-24T11:05:32.164055Z",
     "start_time": "2023-01-24T11:05:30.329294Z"
    }
   },
   "outputs": [],
   "source": [
    "import pandas as pd \n",
    "import seaborn as sns\n",
    "import matplotlib.pyplot as plt\n",
    "import numpy as np"
   ]
  },
  {
   "cell_type": "code",
   "execution_count": 91,
   "id": "99a25588",
   "metadata": {
    "ExecuteTime": {
     "end_time": "2023-01-24T14:18:59.488808Z",
     "start_time": "2023-01-24T14:18:59.176641Z"
    }
   },
   "outputs": [],
   "source": [
    "df = pd.read_csv('C:\\\\Users\\\\HP\\\\Downloads\\\\___numpy-pandas-exercises.zip___1665998822272\\\\googleplaystore.csv')"
   ]
  },
  {
   "cell_type": "code",
   "execution_count": 92,
   "id": "ee7dd10f",
   "metadata": {
    "ExecuteTime": {
     "end_time": "2023-01-24T14:19:03.033371Z",
     "start_time": "2023-01-24T14:19:03.008902Z"
    }
   },
   "outputs": [
    {
     "data": {
      "text/plain": [
       "(10841, 13)"
      ]
     },
     "execution_count": 92,
     "metadata": {},
     "output_type": "execute_result"
    }
   ],
   "source": [
    "df.shape"
   ]
  },
  {
   "cell_type": "code",
   "execution_count": 93,
   "id": "dcaaa7dd",
   "metadata": {
    "ExecuteTime": {
     "end_time": "2023-01-24T14:19:07.822274Z",
     "start_time": "2023-01-24T14:19:07.744663Z"
    }
   },
   "outputs": [
    {
     "data": {
      "text/html": [
       "<div>\n",
       "<style scoped>\n",
       "    .dataframe tbody tr th:only-of-type {\n",
       "        vertical-align: middle;\n",
       "    }\n",
       "\n",
       "    .dataframe tbody tr th {\n",
       "        vertical-align: top;\n",
       "    }\n",
       "\n",
       "    .dataframe thead th {\n",
       "        text-align: right;\n",
       "    }\n",
       "</style>\n",
       "<table border=\"1\" class=\"dataframe\">\n",
       "  <thead>\n",
       "    <tr style=\"text-align: right;\">\n",
       "      <th></th>\n",
       "      <th>App</th>\n",
       "      <th>Category</th>\n",
       "      <th>Rating</th>\n",
       "      <th>Reviews</th>\n",
       "      <th>Size</th>\n",
       "      <th>Installs</th>\n",
       "      <th>Type</th>\n",
       "      <th>Price</th>\n",
       "      <th>Content Rating</th>\n",
       "      <th>Genres</th>\n",
       "      <th>Last Updated</th>\n",
       "      <th>Current Ver</th>\n",
       "      <th>Android Ver</th>\n",
       "    </tr>\n",
       "  </thead>\n",
       "  <tbody>\n",
       "    <tr>\n",
       "      <th>0</th>\n",
       "      <td>Photo Editor &amp; Candy Camera &amp; Grid &amp; ScrapBook</td>\n",
       "      <td>ART_AND_DESIGN</td>\n",
       "      <td>4.1</td>\n",
       "      <td>159</td>\n",
       "      <td>19M</td>\n",
       "      <td>10,000+</td>\n",
       "      <td>Free</td>\n",
       "      <td>0</td>\n",
       "      <td>Everyone</td>\n",
       "      <td>Art &amp; Design</td>\n",
       "      <td>January 7, 2018</td>\n",
       "      <td>1.0.0</td>\n",
       "      <td>4.0.3 and up</td>\n",
       "    </tr>\n",
       "    <tr>\n",
       "      <th>1</th>\n",
       "      <td>Coloring book moana</td>\n",
       "      <td>ART_AND_DESIGN</td>\n",
       "      <td>3.9</td>\n",
       "      <td>967</td>\n",
       "      <td>14M</td>\n",
       "      <td>500,000+</td>\n",
       "      <td>Free</td>\n",
       "      <td>0</td>\n",
       "      <td>Everyone</td>\n",
       "      <td>Art &amp; Design;Pretend Play</td>\n",
       "      <td>January 15, 2018</td>\n",
       "      <td>2.0.0</td>\n",
       "      <td>4.0.3 and up</td>\n",
       "    </tr>\n",
       "    <tr>\n",
       "      <th>2</th>\n",
       "      <td>U Launcher Lite – FREE Live Cool Themes, Hide ...</td>\n",
       "      <td>ART_AND_DESIGN</td>\n",
       "      <td>4.7</td>\n",
       "      <td>87510</td>\n",
       "      <td>8.7M</td>\n",
       "      <td>5,000,000+</td>\n",
       "      <td>Free</td>\n",
       "      <td>0</td>\n",
       "      <td>Everyone</td>\n",
       "      <td>Art &amp; Design</td>\n",
       "      <td>August 1, 2018</td>\n",
       "      <td>1.2.4</td>\n",
       "      <td>4.0.3 and up</td>\n",
       "    </tr>\n",
       "    <tr>\n",
       "      <th>3</th>\n",
       "      <td>Sketch - Draw &amp; Paint</td>\n",
       "      <td>ART_AND_DESIGN</td>\n",
       "      <td>4.5</td>\n",
       "      <td>215644</td>\n",
       "      <td>25M</td>\n",
       "      <td>50,000,000+</td>\n",
       "      <td>Free</td>\n",
       "      <td>0</td>\n",
       "      <td>Teen</td>\n",
       "      <td>Art &amp; Design</td>\n",
       "      <td>June 8, 2018</td>\n",
       "      <td>Varies with device</td>\n",
       "      <td>4.2 and up</td>\n",
       "    </tr>\n",
       "    <tr>\n",
       "      <th>4</th>\n",
       "      <td>Pixel Draw - Number Art Coloring Book</td>\n",
       "      <td>ART_AND_DESIGN</td>\n",
       "      <td>4.3</td>\n",
       "      <td>967</td>\n",
       "      <td>2.8M</td>\n",
       "      <td>100,000+</td>\n",
       "      <td>Free</td>\n",
       "      <td>0</td>\n",
       "      <td>Everyone</td>\n",
       "      <td>Art &amp; Design;Creativity</td>\n",
       "      <td>June 20, 2018</td>\n",
       "      <td>1.1</td>\n",
       "      <td>4.4 and up</td>\n",
       "    </tr>\n",
       "  </tbody>\n",
       "</table>\n",
       "</div>"
      ],
      "text/plain": [
       "                                                 App        Category  Rating  \\\n",
       "0     Photo Editor & Candy Camera & Grid & ScrapBook  ART_AND_DESIGN     4.1   \n",
       "1                                Coloring book moana  ART_AND_DESIGN     3.9   \n",
       "2  U Launcher Lite – FREE Live Cool Themes, Hide ...  ART_AND_DESIGN     4.7   \n",
       "3                              Sketch - Draw & Paint  ART_AND_DESIGN     4.5   \n",
       "4              Pixel Draw - Number Art Coloring Book  ART_AND_DESIGN     4.3   \n",
       "\n",
       "  Reviews  Size     Installs  Type Price Content Rating  \\\n",
       "0     159   19M      10,000+  Free     0       Everyone   \n",
       "1     967   14M     500,000+  Free     0       Everyone   \n",
       "2   87510  8.7M   5,000,000+  Free     0       Everyone   \n",
       "3  215644   25M  50,000,000+  Free     0           Teen   \n",
       "4     967  2.8M     100,000+  Free     0       Everyone   \n",
       "\n",
       "                      Genres      Last Updated         Current Ver  \\\n",
       "0               Art & Design   January 7, 2018               1.0.0   \n",
       "1  Art & Design;Pretend Play  January 15, 2018               2.0.0   \n",
       "2               Art & Design    August 1, 2018               1.2.4   \n",
       "3               Art & Design      June 8, 2018  Varies with device   \n",
       "4    Art & Design;Creativity     June 20, 2018                 1.1   \n",
       "\n",
       "    Android Ver  \n",
       "0  4.0.3 and up  \n",
       "1  4.0.3 and up  \n",
       "2  4.0.3 and up  \n",
       "3    4.2 and up  \n",
       "4    4.4 and up  "
      ]
     },
     "execution_count": 93,
     "metadata": {},
     "output_type": "execute_result"
    }
   ],
   "source": [
    "df.head()"
   ]
  },
  {
   "cell_type": "code",
   "execution_count": 98,
   "id": "9f5151c7",
   "metadata": {
    "ExecuteTime": {
     "end_time": "2023-01-24T16:45:32.913061Z",
     "start_time": "2023-01-24T16:45:32.773815Z"
    }
   },
   "outputs": [
    {
     "data": {
      "text/html": [
       "<div>\n",
       "<style scoped>\n",
       "    .dataframe tbody tr th:only-of-type {\n",
       "        vertical-align: middle;\n",
       "    }\n",
       "\n",
       "    .dataframe tbody tr th {\n",
       "        vertical-align: top;\n",
       "    }\n",
       "\n",
       "    .dataframe thead th {\n",
       "        text-align: right;\n",
       "    }\n",
       "</style>\n",
       "<table border=\"1\" class=\"dataframe\">\n",
       "  <thead>\n",
       "    <tr style=\"text-align: right;\">\n",
       "      <th></th>\n",
       "      <th>Rating</th>\n",
       "    </tr>\n",
       "  </thead>\n",
       "  <tbody>\n",
       "    <tr>\n",
       "      <th>count</th>\n",
       "      <td>9367.000000</td>\n",
       "    </tr>\n",
       "    <tr>\n",
       "      <th>mean</th>\n",
       "      <td>4.193338</td>\n",
       "    </tr>\n",
       "    <tr>\n",
       "      <th>std</th>\n",
       "      <td>0.537431</td>\n",
       "    </tr>\n",
       "    <tr>\n",
       "      <th>min</th>\n",
       "      <td>1.000000</td>\n",
       "    </tr>\n",
       "    <tr>\n",
       "      <th>25%</th>\n",
       "      <td>4.000000</td>\n",
       "    </tr>\n",
       "    <tr>\n",
       "      <th>50%</th>\n",
       "      <td>4.300000</td>\n",
       "    </tr>\n",
       "    <tr>\n",
       "      <th>75%</th>\n",
       "      <td>4.500000</td>\n",
       "    </tr>\n",
       "    <tr>\n",
       "      <th>max</th>\n",
       "      <td>19.000000</td>\n",
       "    </tr>\n",
       "  </tbody>\n",
       "</table>\n",
       "</div>"
      ],
      "text/plain": [
       "            Rating\n",
       "count  9367.000000\n",
       "mean      4.193338\n",
       "std       0.537431\n",
       "min       1.000000\n",
       "25%       4.000000\n",
       "50%       4.300000\n",
       "75%       4.500000\n",
       "max      19.000000"
      ]
     },
     "execution_count": 98,
     "metadata": {},
     "output_type": "execute_result"
    }
   ],
   "source": [
    "df.describe()"
   ]
  },
  {
   "cell_type": "code",
   "execution_count": null,
   "id": "93a0bd24",
   "metadata": {},
   "outputs": [],
   "source": []
  },
  {
   "cell_type": "code",
   "execution_count": 94,
   "id": "1a687843",
   "metadata": {
    "ExecuteTime": {
     "end_time": "2023-01-24T14:19:12.773229Z",
     "start_time": "2023-01-24T14:19:12.705599Z"
    }
   },
   "outputs": [
    {
     "data": {
      "text/plain": [
       "<bound method DataFrame.drop_duplicates of                                                      App             Category  \\\n",
       "0         Photo Editor & Candy Camera & Grid & ScrapBook       ART_AND_DESIGN   \n",
       "1                                    Coloring book moana       ART_AND_DESIGN   \n",
       "2      U Launcher Lite – FREE Live Cool Themes, Hide ...       ART_AND_DESIGN   \n",
       "3                                  Sketch - Draw & Paint       ART_AND_DESIGN   \n",
       "4                  Pixel Draw - Number Art Coloring Book       ART_AND_DESIGN   \n",
       "...                                                  ...                  ...   \n",
       "10836                                   Sya9a Maroc - FR               FAMILY   \n",
       "10837                   Fr. Mike Schmitz Audio Teachings               FAMILY   \n",
       "10838                             Parkinson Exercices FR              MEDICAL   \n",
       "10839                      The SCP Foundation DB fr nn5n  BOOKS_AND_REFERENCE   \n",
       "10840      iHoroscope - 2018 Daily Horoscope & Astrology            LIFESTYLE   \n",
       "\n",
       "       Rating Reviews                Size     Installs  Type Price  \\\n",
       "0         4.1     159                 19M      10,000+  Free     0   \n",
       "1         3.9     967                 14M     500,000+  Free     0   \n",
       "2         4.7   87510                8.7M   5,000,000+  Free     0   \n",
       "3         4.5  215644                 25M  50,000,000+  Free     0   \n",
       "4         4.3     967                2.8M     100,000+  Free     0   \n",
       "...       ...     ...                 ...          ...   ...   ...   \n",
       "10836     4.5      38                 53M       5,000+  Free     0   \n",
       "10837     5.0       4                3.6M         100+  Free     0   \n",
       "10838     NaN       3                9.5M       1,000+  Free     0   \n",
       "10839     4.5     114  Varies with device       1,000+  Free     0   \n",
       "10840     4.5  398307                 19M  10,000,000+  Free     0   \n",
       "\n",
       "      Content Rating                     Genres      Last Updated  \\\n",
       "0           Everyone               Art & Design   January 7, 2018   \n",
       "1           Everyone  Art & Design;Pretend Play  January 15, 2018   \n",
       "2           Everyone               Art & Design    August 1, 2018   \n",
       "3               Teen               Art & Design      June 8, 2018   \n",
       "4           Everyone    Art & Design;Creativity     June 20, 2018   \n",
       "...              ...                        ...               ...   \n",
       "10836       Everyone                  Education     July 25, 2017   \n",
       "10837       Everyone                  Education      July 6, 2018   \n",
       "10838       Everyone                    Medical  January 20, 2017   \n",
       "10839     Mature 17+          Books & Reference  January 19, 2015   \n",
       "10840       Everyone                  Lifestyle     July 25, 2018   \n",
       "\n",
       "              Current Ver         Android Ver  \n",
       "0                   1.0.0        4.0.3 and up  \n",
       "1                   2.0.0        4.0.3 and up  \n",
       "2                   1.2.4        4.0.3 and up  \n",
       "3      Varies with device          4.2 and up  \n",
       "4                     1.1          4.4 and up  \n",
       "...                   ...                 ...  \n",
       "10836                1.48          4.1 and up  \n",
       "10837                 1.0          4.1 and up  \n",
       "10838                 1.0          2.2 and up  \n",
       "10839  Varies with device  Varies with device  \n",
       "10840  Varies with device  Varies with device  \n",
       "\n",
       "[10841 rows x 13 columns]>"
      ]
     },
     "execution_count": 94,
     "metadata": {},
     "output_type": "execute_result"
    }
   ],
   "source": [
    "df.drop_duplicates"
   ]
  },
  {
   "cell_type": "code",
   "execution_count": 26,
   "id": "5408c20f",
   "metadata": {
    "ExecuteTime": {
     "end_time": "2023-01-24T11:39:47.973381Z",
     "start_time": "2023-01-24T11:39:47.964410Z"
    }
   },
   "outputs": [
    {
     "data": {
      "text/plain": [
       "(10841, 13)"
      ]
     },
     "execution_count": 26,
     "metadata": {},
     "output_type": "execute_result"
    }
   ],
   "source": [
    "df.shape"
   ]
  },
  {
   "cell_type": "markdown",
   "id": "dc318a67",
   "metadata": {},
   "source": [
    "###  show unique categories table"
   ]
  },
  {
   "cell_type": "code",
   "execution_count": 6,
   "id": "76827269",
   "metadata": {
    "ExecuteTime": {
     "end_time": "2023-01-24T11:10:09.399423Z",
     "start_time": "2023-01-24T11:10:09.387456Z"
    }
   },
   "outputs": [],
   "source": [
    "unique_categorties = df[['Category']].drop_duplicates()"
   ]
  },
  {
   "cell_type": "code",
   "execution_count": 7,
   "id": "7b660443",
   "metadata": {
    "ExecuteTime": {
     "end_time": "2023-01-24T11:10:22.266874Z",
     "start_time": "2023-01-24T11:10:22.240165Z"
    }
   },
   "outputs": [
    {
     "data": {
      "text/html": [
       "<div>\n",
       "<style scoped>\n",
       "    .dataframe tbody tr th:only-of-type {\n",
       "        vertical-align: middle;\n",
       "    }\n",
       "\n",
       "    .dataframe tbody tr th {\n",
       "        vertical-align: top;\n",
       "    }\n",
       "\n",
       "    .dataframe thead th {\n",
       "        text-align: right;\n",
       "    }\n",
       "</style>\n",
       "<table border=\"1\" class=\"dataframe\">\n",
       "  <thead>\n",
       "    <tr style=\"text-align: right;\">\n",
       "      <th></th>\n",
       "      <th>Category</th>\n",
       "    </tr>\n",
       "  </thead>\n",
       "  <tbody>\n",
       "    <tr>\n",
       "      <th>0</th>\n",
       "      <td>ART_AND_DESIGN</td>\n",
       "    </tr>\n",
       "    <tr>\n",
       "      <th>49</th>\n",
       "      <td>AUTO_AND_VEHICLES</td>\n",
       "    </tr>\n",
       "    <tr>\n",
       "      <th>98</th>\n",
       "      <td>BEAUTY</td>\n",
       "    </tr>\n",
       "    <tr>\n",
       "      <th>139</th>\n",
       "      <td>BOOKS_AND_REFERENCE</td>\n",
       "    </tr>\n",
       "    <tr>\n",
       "      <th>187</th>\n",
       "      <td>BUSINESS</td>\n",
       "    </tr>\n",
       "    <tr>\n",
       "      <th>297</th>\n",
       "      <td>COMICS</td>\n",
       "    </tr>\n",
       "    <tr>\n",
       "      <th>335</th>\n",
       "      <td>COMMUNICATION</td>\n",
       "    </tr>\n",
       "    <tr>\n",
       "      <th>476</th>\n",
       "      <td>DATING</td>\n",
       "    </tr>\n",
       "    <tr>\n",
       "      <th>699</th>\n",
       "      <td>EDUCATION</td>\n",
       "    </tr>\n",
       "    <tr>\n",
       "      <th>855</th>\n",
       "      <td>ENTERTAINMENT</td>\n",
       "    </tr>\n",
       "    <tr>\n",
       "      <th>1004</th>\n",
       "      <td>EVENTS</td>\n",
       "    </tr>\n",
       "    <tr>\n",
       "      <th>1048</th>\n",
       "      <td>FINANCE</td>\n",
       "    </tr>\n",
       "    <tr>\n",
       "      <th>1176</th>\n",
       "      <td>FOOD_AND_DRINK</td>\n",
       "    </tr>\n",
       "    <tr>\n",
       "      <th>1256</th>\n",
       "      <td>HEALTH_AND_FITNESS</td>\n",
       "    </tr>\n",
       "    <tr>\n",
       "      <th>1446</th>\n",
       "      <td>HOUSE_AND_HOME</td>\n",
       "    </tr>\n",
       "    <tr>\n",
       "      <th>1514</th>\n",
       "      <td>LIBRARIES_AND_DEMO</td>\n",
       "    </tr>\n",
       "    <tr>\n",
       "      <th>1562</th>\n",
       "      <td>LIFESTYLE</td>\n",
       "    </tr>\n",
       "    <tr>\n",
       "      <th>1653</th>\n",
       "      <td>GAME</td>\n",
       "    </tr>\n",
       "    <tr>\n",
       "      <th>2014</th>\n",
       "      <td>FAMILY</td>\n",
       "    </tr>\n",
       "    <tr>\n",
       "      <th>2243</th>\n",
       "      <td>MEDICAL</td>\n",
       "    </tr>\n",
       "    <tr>\n",
       "      <th>2544</th>\n",
       "      <td>SOCIAL</td>\n",
       "    </tr>\n",
       "    <tr>\n",
       "      <th>2654</th>\n",
       "      <td>SHOPPING</td>\n",
       "    </tr>\n",
       "    <tr>\n",
       "      <th>2801</th>\n",
       "      <td>PHOTOGRAPHY</td>\n",
       "    </tr>\n",
       "    <tr>\n",
       "      <th>2959</th>\n",
       "      <td>SPORTS</td>\n",
       "    </tr>\n",
       "    <tr>\n",
       "      <th>3102</th>\n",
       "      <td>TRAVEL_AND_LOCAL</td>\n",
       "    </tr>\n",
       "    <tr>\n",
       "      <th>3233</th>\n",
       "      <td>TOOLS</td>\n",
       "    </tr>\n",
       "    <tr>\n",
       "      <th>3352</th>\n",
       "      <td>PERSONALIZATION</td>\n",
       "    </tr>\n",
       "    <tr>\n",
       "      <th>3450</th>\n",
       "      <td>PRODUCTIVITY</td>\n",
       "    </tr>\n",
       "    <tr>\n",
       "      <th>3575</th>\n",
       "      <td>PARENTING</td>\n",
       "    </tr>\n",
       "    <tr>\n",
       "      <th>3626</th>\n",
       "      <td>WEATHER</td>\n",
       "    </tr>\n",
       "    <tr>\n",
       "      <th>3665</th>\n",
       "      <td>VIDEO_PLAYERS</td>\n",
       "    </tr>\n",
       "    <tr>\n",
       "      <th>3715</th>\n",
       "      <td>NEWS_AND_MAGAZINES</td>\n",
       "    </tr>\n",
       "    <tr>\n",
       "      <th>3820</th>\n",
       "      <td>MAPS_AND_NAVIGATION</td>\n",
       "    </tr>\n",
       "    <tr>\n",
       "      <th>10472</th>\n",
       "      <td>1.9</td>\n",
       "    </tr>\n",
       "  </tbody>\n",
       "</table>\n",
       "</div>"
      ],
      "text/plain": [
       "                  Category\n",
       "0           ART_AND_DESIGN\n",
       "49       AUTO_AND_VEHICLES\n",
       "98                  BEAUTY\n",
       "139    BOOKS_AND_REFERENCE\n",
       "187               BUSINESS\n",
       "297                 COMICS\n",
       "335          COMMUNICATION\n",
       "476                 DATING\n",
       "699              EDUCATION\n",
       "855          ENTERTAINMENT\n",
       "1004                EVENTS\n",
       "1048               FINANCE\n",
       "1176        FOOD_AND_DRINK\n",
       "1256    HEALTH_AND_FITNESS\n",
       "1446        HOUSE_AND_HOME\n",
       "1514    LIBRARIES_AND_DEMO\n",
       "1562             LIFESTYLE\n",
       "1653                  GAME\n",
       "2014                FAMILY\n",
       "2243               MEDICAL\n",
       "2544                SOCIAL\n",
       "2654              SHOPPING\n",
       "2801           PHOTOGRAPHY\n",
       "2959                SPORTS\n",
       "3102      TRAVEL_AND_LOCAL\n",
       "3233                 TOOLS\n",
       "3352       PERSONALIZATION\n",
       "3450          PRODUCTIVITY\n",
       "3575             PARENTING\n",
       "3626               WEATHER\n",
       "3665         VIDEO_PLAYERS\n",
       "3715    NEWS_AND_MAGAZINES\n",
       "3820   MAPS_AND_NAVIGATION\n",
       "10472                  1.9"
      ]
     },
     "execution_count": 7,
     "metadata": {},
     "output_type": "execute_result"
    }
   ],
   "source": [
    "unique_categorties"
   ]
  },
  {
   "cell_type": "markdown",
   "id": "8dabb032",
   "metadata": {},
   "source": [
    "###  barchart of categories vs total number of installs"
   ]
  },
  {
   "cell_type": "code",
   "execution_count": 99,
   "id": "b0e82ac3",
   "metadata": {
    "ExecuteTime": {
     "end_time": "2023-01-24T17:10:23.034189Z",
     "start_time": "2023-01-24T17:10:22.973957Z"
    }
   },
   "outputs": [
    {
     "data": {
      "text/html": [
       "<div>\n",
       "<style scoped>\n",
       "    .dataframe tbody tr th:only-of-type {\n",
       "        vertical-align: middle;\n",
       "    }\n",
       "\n",
       "    .dataframe tbody tr th {\n",
       "        vertical-align: top;\n",
       "    }\n",
       "\n",
       "    .dataframe thead th {\n",
       "        text-align: right;\n",
       "    }\n",
       "</style>\n",
       "<table border=\"1\" class=\"dataframe\">\n",
       "  <thead>\n",
       "    <tr style=\"text-align: right;\">\n",
       "      <th></th>\n",
       "      <th>Installs</th>\n",
       "    </tr>\n",
       "  </thead>\n",
       "  <tbody>\n",
       "    <tr>\n",
       "      <th>0</th>\n",
       "      <td>10,000+</td>\n",
       "    </tr>\n",
       "    <tr>\n",
       "      <th>1</th>\n",
       "      <td>500,000+</td>\n",
       "    </tr>\n",
       "    <tr>\n",
       "      <th>2</th>\n",
       "      <td>5,000,000+</td>\n",
       "    </tr>\n",
       "    <tr>\n",
       "      <th>3</th>\n",
       "      <td>50,000,000+</td>\n",
       "    </tr>\n",
       "    <tr>\n",
       "      <th>4</th>\n",
       "      <td>100,000+</td>\n",
       "    </tr>\n",
       "    <tr>\n",
       "      <th>...</th>\n",
       "      <td>...</td>\n",
       "    </tr>\n",
       "    <tr>\n",
       "      <th>10836</th>\n",
       "      <td>5,000+</td>\n",
       "    </tr>\n",
       "    <tr>\n",
       "      <th>10837</th>\n",
       "      <td>100+</td>\n",
       "    </tr>\n",
       "    <tr>\n",
       "      <th>10838</th>\n",
       "      <td>1,000+</td>\n",
       "    </tr>\n",
       "    <tr>\n",
       "      <th>10839</th>\n",
       "      <td>1,000+</td>\n",
       "    </tr>\n",
       "    <tr>\n",
       "      <th>10840</th>\n",
       "      <td>10,000,000+</td>\n",
       "    </tr>\n",
       "  </tbody>\n",
       "</table>\n",
       "<p>10841 rows × 1 columns</p>\n",
       "</div>"
      ],
      "text/plain": [
       "          Installs\n",
       "0          10,000+\n",
       "1         500,000+\n",
       "2       5,000,000+\n",
       "3      50,000,000+\n",
       "4         100,000+\n",
       "...            ...\n",
       "10836       5,000+\n",
       "10837         100+\n",
       "10838       1,000+\n",
       "10839       1,000+\n",
       "10840  10,000,000+\n",
       "\n",
       "[10841 rows x 1 columns]"
      ]
     },
     "execution_count": 99,
     "metadata": {},
     "output_type": "execute_result"
    }
   ],
   "source": [
    "df[['Installs']]"
   ]
  },
  {
   "cell_type": "code",
   "execution_count": 102,
   "id": "9228e2c3",
   "metadata": {
    "ExecuteTime": {
     "end_time": "2023-01-24T17:11:35.386490Z",
     "start_time": "2023-01-24T17:11:35.350286Z"
    }
   },
   "outputs": [
    {
     "data": {
      "text/plain": [
       "array(['10,000+', '500,000+', '5,000,000+', '50,000,000+', '100,000+',\n",
       "       '50,000+', '1,000,000+', '10,000,000+', '5,000+', '100,000,000+',\n",
       "       '1,000,000,000+', '1,000+', '500,000,000+', '50+', '100+', '500+',\n",
       "       '10+', '1+', '5+', '0+', '0', 'Free'], dtype=object)"
      ]
     },
     "execution_count": 102,
     "metadata": {},
     "output_type": "execute_result"
    }
   ],
   "source": [
    "df['Installs'].unique()"
   ]
  },
  {
   "cell_type": "code",
   "execution_count": 106,
   "id": "cab17786",
   "metadata": {
    "ExecuteTime": {
     "end_time": "2023-01-24T17:24:22.923987Z",
     "start_time": "2023-01-24T17:24:22.854348Z"
    }
   },
   "outputs": [
    {
     "data": {
      "text/html": [
       "<div>\n",
       "<style scoped>\n",
       "    .dataframe tbody tr th:only-of-type {\n",
       "        vertical-align: middle;\n",
       "    }\n",
       "\n",
       "    .dataframe tbody tr th {\n",
       "        vertical-align: top;\n",
       "    }\n",
       "\n",
       "    .dataframe thead th {\n",
       "        text-align: right;\n",
       "    }\n",
       "</style>\n",
       "<table border=\"1\" class=\"dataframe\">\n",
       "  <thead>\n",
       "    <tr style=\"text-align: right;\">\n",
       "      <th></th>\n",
       "      <th>App</th>\n",
       "      <th>Category</th>\n",
       "      <th>Rating</th>\n",
       "      <th>Reviews</th>\n",
       "      <th>Size</th>\n",
       "      <th>Installs</th>\n",
       "      <th>Type</th>\n",
       "      <th>Price</th>\n",
       "      <th>Content Rating</th>\n",
       "      <th>Genres</th>\n",
       "      <th>Last Updated</th>\n",
       "      <th>Current Ver</th>\n",
       "      <th>Android Ver</th>\n",
       "    </tr>\n",
       "  </thead>\n",
       "  <tbody>\n",
       "    <tr>\n",
       "      <th>10472</th>\n",
       "      <td>Life Made WI-Fi Touchscreen Photo Frame</td>\n",
       "      <td>1.9</td>\n",
       "      <td>19.0</td>\n",
       "      <td>3.0M</td>\n",
       "      <td>1,000+</td>\n",
       "      <td>Free</td>\n",
       "      <td>0</td>\n",
       "      <td>Everyone</td>\n",
       "      <td>NaN</td>\n",
       "      <td>February 11, 2018</td>\n",
       "      <td>1.0.19</td>\n",
       "      <td>4.0 and up</td>\n",
       "      <td>NaN</td>\n",
       "    </tr>\n",
       "  </tbody>\n",
       "</table>\n",
       "</div>"
      ],
      "text/plain": [
       "                                           App Category  Rating Reviews  \\\n",
       "10472  Life Made WI-Fi Touchscreen Photo Frame      1.9    19.0    3.0M   \n",
       "\n",
       "         Size Installs Type     Price Content Rating             Genres  \\\n",
       "10472  1,000+     Free    0  Everyone            NaN  February 11, 2018   \n",
       "\n",
       "      Last Updated Current Ver Android Ver  \n",
       "10472       1.0.19  4.0 and up         NaN  "
      ]
     },
     "execution_count": 106,
     "metadata": {},
     "output_type": "execute_result"
    }
   ],
   "source": [
    "\n",
    "df[(df['Installs'] == 'Free')]"
   ]
  },
  {
   "cell_type": "code",
   "execution_count": 107,
   "id": "e42f74fe",
   "metadata": {
    "ExecuteTime": {
     "end_time": "2023-01-24T17:27:26.833846Z",
     "start_time": "2023-01-24T17:27:26.815028Z"
    }
   },
   "outputs": [],
   "source": [
    "df.loc[10472,'Installs'] = '1000+'"
   ]
  },
  {
   "cell_type": "code",
   "execution_count": 108,
   "id": "2ded80ff",
   "metadata": {
    "ExecuteTime": {
     "end_time": "2023-01-24T17:29:25.682910Z",
     "start_time": "2023-01-24T17:29:25.662716Z"
    }
   },
   "outputs": [],
   "source": [
    "df.loc[10472,'Category'] = 'not defined'"
   ]
  },
  {
   "cell_type": "code",
   "execution_count": 109,
   "id": "bb790209",
   "metadata": {
    "ExecuteTime": {
     "end_time": "2023-01-24T17:31:36.429114Z",
     "start_time": "2023-01-24T17:31:36.401484Z"
    }
   },
   "outputs": [],
   "source": [
    "df.loc[10472,'Price'] = '0'"
   ]
  },
  {
   "cell_type": "code",
   "execution_count": 110,
   "id": "11d3fc6a",
   "metadata": {
    "ExecuteTime": {
     "end_time": "2023-01-24T17:32:20.910762Z",
     "start_time": "2023-01-24T17:32:20.878773Z"
    }
   },
   "outputs": [
    {
     "data": {
      "text/plain": [
       "App               Life Made WI-Fi Touchscreen Photo Frame\n",
       "Category                                      not defined\n",
       "Rating                                               19.0\n",
       "Reviews                                              3.0M\n",
       "Size                                               1,000+\n",
       "Installs                                            1000+\n",
       "Type                                                    0\n",
       "Price                                                   0\n",
       "Content Rating                                        NaN\n",
       "Genres                                  February 11, 2018\n",
       "Last Updated                                       1.0.19\n",
       "Current Ver                                    4.0 and up\n",
       "Android Ver                                           NaN\n",
       "Name: 10472, dtype: object"
      ]
     },
     "execution_count": 110,
     "metadata": {},
     "output_type": "execute_result"
    }
   ],
   "source": [
    "df.loc[10472]"
   ]
  },
  {
   "cell_type": "code",
   "execution_count": 111,
   "id": "e08a00cf",
   "metadata": {
    "ExecuteTime": {
     "end_time": "2023-01-24T17:35:29.615508Z",
     "start_time": "2023-01-24T17:35:29.422569Z"
    }
   },
   "outputs": [],
   "source": [
    "df[\"Installs\"] = df[\"Installs\"].replace('[\\+,]', '', regex = True).astype(float)"
   ]
  },
  {
   "cell_type": "code",
   "execution_count": 160,
   "id": "7286fd38",
   "metadata": {
    "ExecuteTime": {
     "end_time": "2023-01-24T18:52:04.703563Z",
     "start_time": "2023-01-24T18:52:04.673345Z"
    }
   },
   "outputs": [],
   "source": [
    "total = df.groupby('Category')['Installs'].sum().sort_index()"
   ]
  },
  {
   "cell_type": "code",
   "execution_count": 161,
   "id": "1d1a8652",
   "metadata": {
    "ExecuteTime": {
     "end_time": "2023-01-24T18:52:12.183600Z",
     "start_time": "2023-01-24T18:52:12.111489Z"
    }
   },
   "outputs": [
    {
     "data": {
      "text/html": [
       "<div>\n",
       "<style scoped>\n",
       "    .dataframe tbody tr th:only-of-type {\n",
       "        vertical-align: middle;\n",
       "    }\n",
       "\n",
       "    .dataframe tbody tr th {\n",
       "        vertical-align: top;\n",
       "    }\n",
       "\n",
       "    .dataframe thead th {\n",
       "        text-align: right;\n",
       "    }\n",
       "</style>\n",
       "<table border=\"1\" class=\"dataframe\">\n",
       "  <thead>\n",
       "    <tr style=\"text-align: right;\">\n",
       "      <th></th>\n",
       "      <th>Installs</th>\n",
       "    </tr>\n",
       "    <tr>\n",
       "      <th>Category</th>\n",
       "      <th></th>\n",
       "    </tr>\n",
       "  </thead>\n",
       "  <tbody>\n",
       "    <tr>\n",
       "      <th>ART_AND_DESIGN</th>\n",
       "      <td>1.243381e+08</td>\n",
       "    </tr>\n",
       "    <tr>\n",
       "      <th>AUTO_AND_VEHICLES</th>\n",
       "      <td>5.313021e+07</td>\n",
       "    </tr>\n",
       "    <tr>\n",
       "      <th>BEAUTY</th>\n",
       "      <td>2.719705e+07</td>\n",
       "    </tr>\n",
       "    <tr>\n",
       "      <th>BOOKS_AND_REFERENCE</th>\n",
       "      <td>1.921470e+09</td>\n",
       "    </tr>\n",
       "    <tr>\n",
       "      <th>BUSINESS</th>\n",
       "      <td>1.001915e+09</td>\n",
       "    </tr>\n",
       "    <tr>\n",
       "      <th>COMICS</th>\n",
       "      <td>5.608615e+07</td>\n",
       "    </tr>\n",
       "    <tr>\n",
       "      <th>COMMUNICATION</th>\n",
       "      <td>3.264728e+10</td>\n",
       "    </tr>\n",
       "    <tr>\n",
       "      <th>DATING</th>\n",
       "      <td>2.643108e+08</td>\n",
       "    </tr>\n",
       "    <tr>\n",
       "      <th>EDUCATION</th>\n",
       "      <td>8.714520e+08</td>\n",
       "    </tr>\n",
       "    <tr>\n",
       "      <th>ENTERTAINMENT</th>\n",
       "      <td>2.869160e+09</td>\n",
       "    </tr>\n",
       "    <tr>\n",
       "      <th>EVENTS</th>\n",
       "      <td>1.597316e+07</td>\n",
       "    </tr>\n",
       "    <tr>\n",
       "      <th>FAMILY</th>\n",
       "      <td>1.025826e+10</td>\n",
       "    </tr>\n",
       "    <tr>\n",
       "      <th>FINANCE</th>\n",
       "      <td>8.766487e+08</td>\n",
       "    </tr>\n",
       "    <tr>\n",
       "      <th>FOOD_AND_DRINK</th>\n",
       "      <td>2.738988e+08</td>\n",
       "    </tr>\n",
       "    <tr>\n",
       "      <th>GAME</th>\n",
       "      <td>3.508602e+10</td>\n",
       "    </tr>\n",
       "    <tr>\n",
       "      <th>HEALTH_AND_FITNESS</th>\n",
       "      <td>1.583073e+09</td>\n",
       "    </tr>\n",
       "    <tr>\n",
       "      <th>HOUSE_AND_HOME</th>\n",
       "      <td>1.687125e+08</td>\n",
       "    </tr>\n",
       "    <tr>\n",
       "      <th>LIBRARIES_AND_DEMO</th>\n",
       "      <td>6.299591e+07</td>\n",
       "    </tr>\n",
       "    <tr>\n",
       "      <th>LIFESTYLE</th>\n",
       "      <td>5.376435e+08</td>\n",
       "    </tr>\n",
       "    <tr>\n",
       "      <th>MAPS_AND_NAVIGATION</th>\n",
       "      <td>7.242819e+08</td>\n",
       "    </tr>\n",
       "    <tr>\n",
       "      <th>MEDICAL</th>\n",
       "      <td>5.325744e+07</td>\n",
       "    </tr>\n",
       "    <tr>\n",
       "      <th>NEWS_AND_MAGAZINES</th>\n",
       "      <td>7.496318e+09</td>\n",
       "    </tr>\n",
       "    <tr>\n",
       "      <th>PARENTING</th>\n",
       "      <td>3.152111e+07</td>\n",
       "    </tr>\n",
       "    <tr>\n",
       "      <th>PERSONALIZATION</th>\n",
       "      <td>2.325495e+09</td>\n",
       "    </tr>\n",
       "    <tr>\n",
       "      <th>PHOTOGRAPHY</th>\n",
       "      <td>1.008825e+10</td>\n",
       "    </tr>\n",
       "    <tr>\n",
       "      <th>PRODUCTIVITY</th>\n",
       "      <td>1.417609e+10</td>\n",
       "    </tr>\n",
       "    <tr>\n",
       "      <th>SHOPPING</th>\n",
       "      <td>3.247849e+09</td>\n",
       "    </tr>\n",
       "    <tr>\n",
       "      <th>SOCIAL</th>\n",
       "      <td>1.406987e+10</td>\n",
       "    </tr>\n",
       "    <tr>\n",
       "      <th>SPORTS</th>\n",
       "      <td>1.751174e+09</td>\n",
       "    </tr>\n",
       "    <tr>\n",
       "      <th>TOOLS</th>\n",
       "      <td>1.145277e+10</td>\n",
       "    </tr>\n",
       "    <tr>\n",
       "      <th>TRAVEL_AND_LOCAL</th>\n",
       "      <td>6.868887e+09</td>\n",
       "    </tr>\n",
       "    <tr>\n",
       "      <th>VIDEO_PLAYERS</th>\n",
       "      <td>6.222003e+09</td>\n",
       "    </tr>\n",
       "    <tr>\n",
       "      <th>WEATHER</th>\n",
       "      <td>4.261005e+08</td>\n",
       "    </tr>\n",
       "    <tr>\n",
       "      <th>not defined</th>\n",
       "      <td>1.000000e+03</td>\n",
       "    </tr>\n",
       "  </tbody>\n",
       "</table>\n",
       "</div>"
      ],
      "text/plain": [
       "                         Installs\n",
       "Category                         \n",
       "ART_AND_DESIGN       1.243381e+08\n",
       "AUTO_AND_VEHICLES    5.313021e+07\n",
       "BEAUTY               2.719705e+07\n",
       "BOOKS_AND_REFERENCE  1.921470e+09\n",
       "BUSINESS             1.001915e+09\n",
       "COMICS               5.608615e+07\n",
       "COMMUNICATION        3.264728e+10\n",
       "DATING               2.643108e+08\n",
       "EDUCATION            8.714520e+08\n",
       "ENTERTAINMENT        2.869160e+09\n",
       "EVENTS               1.597316e+07\n",
       "FAMILY               1.025826e+10\n",
       "FINANCE              8.766487e+08\n",
       "FOOD_AND_DRINK       2.738988e+08\n",
       "GAME                 3.508602e+10\n",
       "HEALTH_AND_FITNESS   1.583073e+09\n",
       "HOUSE_AND_HOME       1.687125e+08\n",
       "LIBRARIES_AND_DEMO   6.299591e+07\n",
       "LIFESTYLE            5.376435e+08\n",
       "MAPS_AND_NAVIGATION  7.242819e+08\n",
       "MEDICAL              5.325744e+07\n",
       "NEWS_AND_MAGAZINES   7.496318e+09\n",
       "PARENTING            3.152111e+07\n",
       "PERSONALIZATION      2.325495e+09\n",
       "PHOTOGRAPHY          1.008825e+10\n",
       "PRODUCTIVITY         1.417609e+10\n",
       "SHOPPING             3.247849e+09\n",
       "SOCIAL               1.406987e+10\n",
       "SPORTS               1.751174e+09\n",
       "TOOLS                1.145277e+10\n",
       "TRAVEL_AND_LOCAL     6.868887e+09\n",
       "VIDEO_PLAYERS        6.222003e+09\n",
       "WEATHER              4.261005e+08\n",
       "not defined          1.000000e+03"
      ]
     },
     "execution_count": 161,
     "metadata": {},
     "output_type": "execute_result"
    }
   ],
   "source": [
    "total.to_frame()"
   ]
  },
  {
   "cell_type": "code",
   "execution_count": 162,
   "id": "e587e5c2",
   "metadata": {
    "ExecuteTime": {
     "end_time": "2023-01-24T18:52:31.554880Z",
     "start_time": "2023-01-24T18:52:31.533388Z"
    }
   },
   "outputs": [
    {
     "data": {
      "text/plain": [
       "Index(['ART_AND_DESIGN', 'AUTO_AND_VEHICLES', 'BEAUTY', 'BOOKS_AND_REFERENCE',\n",
       "       'BUSINESS', 'COMICS', 'COMMUNICATION', 'DATING', 'EDUCATION',\n",
       "       'ENTERTAINMENT', 'EVENTS', 'FAMILY', 'FINANCE', 'FOOD_AND_DRINK',\n",
       "       'GAME', 'HEALTH_AND_FITNESS', 'HOUSE_AND_HOME', 'LIBRARIES_AND_DEMO',\n",
       "       'LIFESTYLE', 'MAPS_AND_NAVIGATION', 'MEDICAL', 'NEWS_AND_MAGAZINES',\n",
       "       'PARENTING', 'PERSONALIZATION', 'PHOTOGRAPHY', 'PRODUCTIVITY',\n",
       "       'SHOPPING', 'SOCIAL', 'SPORTS', 'TOOLS', 'TRAVEL_AND_LOCAL',\n",
       "       'VIDEO_PLAYERS', 'WEATHER', 'not defined'],\n",
       "      dtype='object', name='Category')"
      ]
     },
     "execution_count": 162,
     "metadata": {},
     "output_type": "execute_result"
    }
   ],
   "source": [
    "total.index"
   ]
  },
  {
   "cell_type": "code",
   "execution_count": 163,
   "id": "c50286a5",
   "metadata": {
    "ExecuteTime": {
     "end_time": "2023-01-24T18:52:36.250922Z",
     "start_time": "2023-01-24T18:52:36.217236Z"
    }
   },
   "outputs": [
    {
     "data": {
      "text/plain": [
       "array([1.24338100e+08, 5.31302110e+07, 2.71970500e+07, 1.92146958e+09,\n",
       "       1.00191486e+09, 5.60861500e+07, 3.26472763e+10, 2.64310807e+08,\n",
       "       8.71452000e+08, 2.86916000e+09, 1.59731610e+07, 1.02582635e+10,\n",
       "       8.76648734e+08, 2.73898751e+08, 3.50860244e+10, 1.58307251e+09,\n",
       "       1.68712461e+08, 6.29959100e+07, 5.37643539e+08, 7.24281890e+08,\n",
       "       5.32574370e+07, 7.49631776e+09, 3.15211100e+07, 2.32549478e+09,\n",
       "       1.00882477e+10, 1.41760914e+10, 3.24784878e+09, 1.40698679e+10,\n",
       "       1.75117450e+09, 1.14527719e+10, 6.86888715e+09, 6.22200272e+09,\n",
       "       4.26100520e+08, 1.00000000e+03])"
      ]
     },
     "execution_count": 163,
     "metadata": {},
     "output_type": "execute_result"
    }
   ],
   "source": [
    " p = total.values"
   ]
  },
  {
   "cell_type": "code",
   "execution_count": 184,
   "id": "41b553ad",
   "metadata": {
    "ExecuteTime": {
     "end_time": "2023-01-24T19:09:53.588038Z",
     "start_time": "2023-01-24T19:09:53.245089Z"
    }
   },
   "outputs": [
    {
     "data": {
      "text/plain": [
       "Text(0.5, 1.0, 'installs per category')"
      ]
     },
     "execution_count": 184,
     "metadata": {},
     "output_type": "execute_result"
    },
    {
     "data": {
      "image/png": "[encoded data removed]",
      "text/plain": [
       "<Figure size 1000x1000 with 1 Axes>"
      ]
     },
     "metadata": {},
     "output_type": "display_data"
    }
   ],
   "source": [
    "plt.figure(figsize=(10,10))\n",
    "plt.xticks(rotation = 0)\n",
    "plt.barh(total.index,total.values)\n",
    "plt.title('installs per category')"
   ]
  },
  {
   "cell_type": "markdown",
   "id": "751162c3",
   "metadata": {
    "ExecuteTime": {
     "end_time": "2023-01-24T11:53:01.666948Z",
     "start_time": "2023-01-24T11:53:01.656975Z"
    }
   },
   "source": [
    "###   Plot a bar chart for the total prices of each paid app in each category ( the sum of all prices in the same category)"
   ]
  },
  {
   "cell_type": "code",
   "execution_count": 165,
   "id": "9f2f309f",
   "metadata": {
    "ExecuteTime": {
     "end_time": "2023-01-24T18:52:58.495419Z",
     "start_time": "2023-01-24T18:52:58.463426Z"
    }
   },
   "outputs": [
    {
     "data": {
      "text/plain": [
       "App                object\n",
       "Category           object\n",
       "Rating            float64\n",
       "Reviews            object\n",
       "Size               object\n",
       "Installs          float64\n",
       "Type               object\n",
       "Price             float64\n",
       "Content Rating     object\n",
       "Genres             object\n",
       "Last Updated       object\n",
       "Current Ver        object\n",
       "Android Ver        object\n",
       "dtype: object"
      ]
     },
     "execution_count": 165,
     "metadata": {},
     "output_type": "execute_result"
    }
   ],
   "source": [
    "df.dtypes"
   ]
  },
  {
   "cell_type": "code",
   "execution_count": 89,
   "id": "f2a398d6",
   "metadata": {
    "ExecuteTime": {
     "end_time": "2023-01-24T14:18:19.707956Z",
     "start_time": "2023-01-24T14:18:19.673951Z"
    }
   },
   "outputs": [
    {
     "data": {
      "text/plain": [
       "App                object\n",
       "Category           object\n",
       "Rating            float64\n",
       "Reviews            object\n",
       "Size               object\n",
       "Installs           object\n",
       "Type               object\n",
       "Price             float64\n",
       "Content Rating     object\n",
       "Genres             object\n",
       "Last Updated       object\n",
       "Current Ver        object\n",
       "Android Ver        object\n",
       "dtype: object"
      ]
     },
     "execution_count": 89,
     "metadata": {},
     "output_type": "execute_result"
    }
   ],
   "source": [
    "df.dtypes"
   ]
  },
  {
   "cell_type": "code",
   "execution_count": 118,
   "id": "48160ae5",
   "metadata": {
    "ExecuteTime": {
     "end_time": "2023-01-24T17:43:16.636693Z",
     "start_time": "2023-01-24T17:43:16.460265Z"
    }
   },
   "outputs": [],
   "source": [
    "df[\"Price\"] = df[\"Price\"].replace('[\\$,]', '', regex = True).astype(float)"
   ]
  },
  {
   "cell_type": "code",
   "execution_count": 158,
   "id": "7a884b03",
   "metadata": {
    "ExecuteTime": {
     "end_time": "2023-01-24T18:51:35.267999Z",
     "start_time": "2023-01-24T18:51:35.234403Z"
    }
   },
   "outputs": [],
   "source": [
    "price =  df.groupby('Category')['Price'].sum().sort_index()"
   ]
  },
  {
   "cell_type": "code",
   "execution_count": 185,
   "id": "2a5f4aa1",
   "metadata": {
    "ExecuteTime": {
     "end_time": "2023-01-24T19:11:09.710787Z",
     "start_time": "2023-01-24T19:11:09.685853Z"
    }
   },
   "outputs": [
    {
     "data": {
      "text/html": [
       "<div>\n",
       "<style scoped>\n",
       "    .dataframe tbody tr th:only-of-type {\n",
       "        vertical-align: middle;\n",
       "    }\n",
       "\n",
       "    .dataframe tbody tr th {\n",
       "        vertical-align: top;\n",
       "    }\n",
       "\n",
       "    .dataframe thead th {\n",
       "        text-align: right;\n",
       "    }\n",
       "</style>\n",
       "<table border=\"1\" class=\"dataframe\">\n",
       "  <thead>\n",
       "    <tr style=\"text-align: right;\">\n",
       "      <th></th>\n",
       "      <th>Price</th>\n",
       "    </tr>\n",
       "    <tr>\n",
       "      <th>Category</th>\n",
       "      <th></th>\n",
       "    </tr>\n",
       "  </thead>\n",
       "  <tbody>\n",
       "    <tr>\n",
       "      <th>ART_AND_DESIGN</th>\n",
       "      <td>5.97</td>\n",
       "    </tr>\n",
       "    <tr>\n",
       "      <th>AUTO_AND_VEHICLES</th>\n",
       "      <td>13.47</td>\n",
       "    </tr>\n",
       "    <tr>\n",
       "      <th>BEAUTY</th>\n",
       "      <td>0.00</td>\n",
       "    </tr>\n",
       "    <tr>\n",
       "      <th>BOOKS_AND_REFERENCE</th>\n",
       "      <td>119.77</td>\n",
       "    </tr>\n",
       "    <tr>\n",
       "      <th>BUSINESS</th>\n",
       "      <td>185.27</td>\n",
       "    </tr>\n",
       "    <tr>\n",
       "      <th>COMICS</th>\n",
       "      <td>0.00</td>\n",
       "    </tr>\n",
       "    <tr>\n",
       "      <th>COMMUNICATION</th>\n",
       "      <td>83.14</td>\n",
       "    </tr>\n",
       "    <tr>\n",
       "      <th>DATING</th>\n",
       "      <td>31.43</td>\n",
       "    </tr>\n",
       "    <tr>\n",
       "      <th>EDUCATION</th>\n",
       "      <td>17.96</td>\n",
       "    </tr>\n",
       "    <tr>\n",
       "      <th>ENTERTAINMENT</th>\n",
       "      <td>7.98</td>\n",
       "    </tr>\n",
       "    <tr>\n",
       "      <th>EVENTS</th>\n",
       "      <td>109.99</td>\n",
       "    </tr>\n",
       "    <tr>\n",
       "      <th>FAMILY</th>\n",
       "      <td>2434.78</td>\n",
       "    </tr>\n",
       "    <tr>\n",
       "      <th>FINANCE</th>\n",
       "      <td>2900.83</td>\n",
       "    </tr>\n",
       "    <tr>\n",
       "      <th>FOOD_AND_DRINK</th>\n",
       "      <td>8.48</td>\n",
       "    </tr>\n",
       "    <tr>\n",
       "      <th>GAME</th>\n",
       "      <td>287.30</td>\n",
       "    </tr>\n",
       "    <tr>\n",
       "      <th>HEALTH_AND_FITNESS</th>\n",
       "      <td>67.34</td>\n",
       "    </tr>\n",
       "    <tr>\n",
       "      <th>HOUSE_AND_HOME</th>\n",
       "      <td>0.00</td>\n",
       "    </tr>\n",
       "    <tr>\n",
       "      <th>LIBRARIES_AND_DEMO</th>\n",
       "      <td>0.99</td>\n",
       "    </tr>\n",
       "    <tr>\n",
       "      <th>LIFESTYLE</th>\n",
       "      <td>2360.87</td>\n",
       "    </tr>\n",
       "    <tr>\n",
       "      <th>MAPS_AND_NAVIGATION</th>\n",
       "      <td>26.95</td>\n",
       "    </tr>\n",
       "    <tr>\n",
       "      <th>MEDICAL</th>\n",
       "      <td>1439.96</td>\n",
       "    </tr>\n",
       "    <tr>\n",
       "      <th>NEWS_AND_MAGAZINES</th>\n",
       "      <td>3.98</td>\n",
       "    </tr>\n",
       "    <tr>\n",
       "      <th>PARENTING</th>\n",
       "      <td>9.58</td>\n",
       "    </tr>\n",
       "    <tr>\n",
       "      <th>PERSONALIZATION</th>\n",
       "      <td>153.96</td>\n",
       "    </tr>\n",
       "    <tr>\n",
       "      <th>PHOTOGRAPHY</th>\n",
       "      <td>134.21</td>\n",
       "    </tr>\n",
       "    <tr>\n",
       "      <th>PRODUCTIVITY</th>\n",
       "      <td>250.93</td>\n",
       "    </tr>\n",
       "    <tr>\n",
       "      <th>SHOPPING</th>\n",
       "      <td>5.48</td>\n",
       "    </tr>\n",
       "    <tr>\n",
       "      <th>SOCIAL</th>\n",
       "      <td>15.97</td>\n",
       "    </tr>\n",
       "    <tr>\n",
       "      <th>SPORTS</th>\n",
       "      <td>100.00</td>\n",
       "    </tr>\n",
       "    <tr>\n",
       "      <th>TOOLS</th>\n",
       "      <td>267.25</td>\n",
       "    </tr>\n",
       "    <tr>\n",
       "      <th>TRAVEL_AND_LOCAL</th>\n",
       "      <td>49.95</td>\n",
       "    </tr>\n",
       "    <tr>\n",
       "      <th>VIDEO_PLAYERS</th>\n",
       "      <td>10.46</td>\n",
       "    </tr>\n",
       "    <tr>\n",
       "      <th>WEATHER</th>\n",
       "      <td>32.42</td>\n",
       "    </tr>\n",
       "    <tr>\n",
       "      <th>not defined</th>\n",
       "      <td>0.00</td>\n",
       "    </tr>\n",
       "  </tbody>\n",
       "</table>\n",
       "</div>"
      ],
      "text/plain": [
       "                       Price\n",
       "Category                    \n",
       "ART_AND_DESIGN          5.97\n",
       "AUTO_AND_VEHICLES      13.47\n",
       "BEAUTY                  0.00\n",
       "BOOKS_AND_REFERENCE   119.77\n",
       "BUSINESS              185.27\n",
       "COMICS                  0.00\n",
       "COMMUNICATION          83.14\n",
       "DATING                 31.43\n",
       "EDUCATION              17.96\n",
       "ENTERTAINMENT           7.98\n",
       "EVENTS                109.99\n",
       "FAMILY               2434.78\n",
       "FINANCE              2900.83\n",
       "FOOD_AND_DRINK          8.48\n",
       "GAME                  287.30\n",
       "HEALTH_AND_FITNESS     67.34\n",
       "HOUSE_AND_HOME          0.00\n",
       "LIBRARIES_AND_DEMO      0.99\n",
       "LIFESTYLE            2360.87\n",
       "MAPS_AND_NAVIGATION    26.95\n",
       "MEDICAL              1439.96\n",
       "NEWS_AND_MAGAZINES      3.98\n",
       "PARENTING               9.58\n",
       "PERSONALIZATION       153.96\n",
       "PHOTOGRAPHY           134.21\n",
       "PRODUCTIVITY          250.93\n",
       "SHOPPING                5.48\n",
       "SOCIAL                 15.97\n",
       "SPORTS                100.00\n",
       "TOOLS                 267.25\n",
       "TRAVEL_AND_LOCAL       49.95\n",
       "VIDEO_PLAYERS          10.46\n",
       "WEATHER                32.42\n",
       "not defined             0.00"
      ]
     },
     "execution_count": 185,
     "metadata": {},
     "output_type": "execute_result"
    }
   ],
   "source": [
    "price.to_frame()"
   ]
  },
  {
   "cell_type": "code",
   "execution_count": 187,
   "id": "ff541d6c",
   "metadata": {
    "ExecuteTime": {
     "end_time": "2023-01-24T19:11:20.280523Z",
     "start_time": "2023-01-24T19:11:20.274539Z"
    }
   },
   "outputs": [],
   "source": [
    "x = price.index\n",
    "y = price.values "
   ]
  },
  {
   "cell_type": "code",
   "execution_count": 188,
   "id": "e30ef10d",
   "metadata": {
    "ExecuteTime": {
     "end_time": "2023-01-24T19:11:22.603378Z",
     "start_time": "2023-01-24T19:11:22.575453Z"
    }
   },
   "outputs": [
    {
     "data": {
      "text/plain": [
       "array([5.97000e+00, 1.34700e+01, 0.00000e+00, 1.19770e+02, 1.85270e+02,\n",
       "       0.00000e+00, 8.31400e+01, 3.14300e+01, 1.79600e+01, 7.98000e+00,\n",
       "       1.09990e+02, 2.43478e+03, 2.90083e+03, 8.48000e+00, 2.87300e+02,\n",
       "       6.73400e+01, 0.00000e+00, 9.90000e-01, 2.36087e+03, 2.69500e+01,\n",
       "       1.43996e+03, 3.98000e+00, 9.58000e+00, 1.53960e+02, 1.34210e+02,\n",
       "       2.50930e+02, 5.48000e+00, 1.59700e+01, 1.00000e+02, 2.67250e+02,\n",
       "       4.99500e+01, 1.04600e+01, 3.24200e+01, 0.00000e+00])"
      ]
     },
     "execution_count": 188,
     "metadata": {},
     "output_type": "execute_result"
    }
   ],
   "source": [
    "y"
   ]
  },
  {
   "cell_type": "code",
   "execution_count": 154,
   "id": "de2a206d",
   "metadata": {
    "ExecuteTime": {
     "end_time": "2023-01-24T18:13:54.190984Z",
     "start_time": "2023-01-24T18:13:53.411161Z"
    }
   },
   "outputs": [
    {
     "data": {
      "image/png": "[encoded data removed]",
      "text/plain": [
       "<Figure size 1000x1000 with 1 Axes>"
      ]
     },
     "metadata": {},
     "output_type": "display_data"
    }
   ],
   "source": [
    "plt.figure(figsize=(10,10))\n",
    "plt.xticks(rotation = 0)\n",
    "plt.barh(x ,y )\n",
    "plt.title('amount per category')\n",
    "plt.show()\n"
   ]
  },
  {
   "cell_type": "markdown",
   "id": "9b1f2524",
   "metadata": {},
   "source": [
    "###  Plot a bar chart of the total profit of each category by multiplying the price by the number of installs"
   ]
  },
  {
   "cell_type": "code",
   "execution_count": 197,
   "id": "fb9a0d0e",
   "metadata": {
    "ExecuteTime": {
     "end_time": "2023-01-24T19:27:30.566250Z",
     "start_time": "2023-01-24T19:27:30.546305Z"
    }
   },
   "outputs": [],
   "source": [
    "profit = pd.concat([total,price], axis=1)"
   ]
  },
  {
   "cell_type": "code",
   "execution_count": 198,
   "id": "123ee002",
   "metadata": {
    "ExecuteTime": {
     "end_time": "2023-01-24T19:27:37.553942Z",
     "start_time": "2023-01-24T19:27:37.528010Z"
    }
   },
   "outputs": [
    {
     "data": {
      "text/html": [
       "<div>\n",
       "<style scoped>\n",
       "    .dataframe tbody tr th:only-of-type {\n",
       "        vertical-align: middle;\n",
       "    }\n",
       "\n",
       "    .dataframe tbody tr th {\n",
       "        vertical-align: top;\n",
       "    }\n",
       "\n",
       "    .dataframe thead th {\n",
       "        text-align: right;\n",
       "    }\n",
       "</style>\n",
       "<table border=\"1\" class=\"dataframe\">\n",
       "  <thead>\n",
       "    <tr style=\"text-align: right;\">\n",
       "      <th></th>\n",
       "      <th>Installs</th>\n",
       "      <th>Price</th>\n",
       "    </tr>\n",
       "    <tr>\n",
       "      <th>Category</th>\n",
       "      <th></th>\n",
       "      <th></th>\n",
       "    </tr>\n",
       "  </thead>\n",
       "  <tbody>\n",
       "    <tr>\n",
       "      <th>ART_AND_DESIGN</th>\n",
       "      <td>1.243381e+08</td>\n",
       "      <td>5.97</td>\n",
       "    </tr>\n",
       "    <tr>\n",
       "      <th>AUTO_AND_VEHICLES</th>\n",
       "      <td>5.313021e+07</td>\n",
       "      <td>13.47</td>\n",
       "    </tr>\n",
       "    <tr>\n",
       "      <th>BEAUTY</th>\n",
       "      <td>2.719705e+07</td>\n",
       "      <td>0.00</td>\n",
       "    </tr>\n",
       "    <tr>\n",
       "      <th>BOOKS_AND_REFERENCE</th>\n",
       "      <td>1.921470e+09</td>\n",
       "      <td>119.77</td>\n",
       "    </tr>\n",
       "    <tr>\n",
       "      <th>BUSINESS</th>\n",
       "      <td>1.001915e+09</td>\n",
       "      <td>185.27</td>\n",
       "    </tr>\n",
       "    <tr>\n",
       "      <th>COMICS</th>\n",
       "      <td>5.608615e+07</td>\n",
       "      <td>0.00</td>\n",
       "    </tr>\n",
       "    <tr>\n",
       "      <th>COMMUNICATION</th>\n",
       "      <td>3.264728e+10</td>\n",
       "      <td>83.14</td>\n",
       "    </tr>\n",
       "    <tr>\n",
       "      <th>DATING</th>\n",
       "      <td>2.643108e+08</td>\n",
       "      <td>31.43</td>\n",
       "    </tr>\n",
       "    <tr>\n",
       "      <th>EDUCATION</th>\n",
       "      <td>8.714520e+08</td>\n",
       "      <td>17.96</td>\n",
       "    </tr>\n",
       "    <tr>\n",
       "      <th>ENTERTAINMENT</th>\n",
       "      <td>2.869160e+09</td>\n",
       "      <td>7.98</td>\n",
       "    </tr>\n",
       "    <tr>\n",
       "      <th>EVENTS</th>\n",
       "      <td>1.597316e+07</td>\n",
       "      <td>109.99</td>\n",
       "    </tr>\n",
       "    <tr>\n",
       "      <th>FAMILY</th>\n",
       "      <td>1.025826e+10</td>\n",
       "      <td>2434.78</td>\n",
       "    </tr>\n",
       "    <tr>\n",
       "      <th>FINANCE</th>\n",
       "      <td>8.766487e+08</td>\n",
       "      <td>2900.83</td>\n",
       "    </tr>\n",
       "    <tr>\n",
       "      <th>FOOD_AND_DRINK</th>\n",
       "      <td>2.738988e+08</td>\n",
       "      <td>8.48</td>\n",
       "    </tr>\n",
       "    <tr>\n",
       "      <th>GAME</th>\n",
       "      <td>3.508602e+10</td>\n",
       "      <td>287.30</td>\n",
       "    </tr>\n",
       "    <tr>\n",
       "      <th>HEALTH_AND_FITNESS</th>\n",
       "      <td>1.583073e+09</td>\n",
       "      <td>67.34</td>\n",
       "    </tr>\n",
       "    <tr>\n",
       "      <th>HOUSE_AND_HOME</th>\n",
       "      <td>1.687125e+08</td>\n",
       "      <td>0.00</td>\n",
       "    </tr>\n",
       "    <tr>\n",
       "      <th>LIBRARIES_AND_DEMO</th>\n",
       "      <td>6.299591e+07</td>\n",
       "      <td>0.99</td>\n",
       "    </tr>\n",
       "    <tr>\n",
       "      <th>LIFESTYLE</th>\n",
       "      <td>5.376435e+08</td>\n",
       "      <td>2360.87</td>\n",
       "    </tr>\n",
       "    <tr>\n",
       "      <th>MAPS_AND_NAVIGATION</th>\n",
       "      <td>7.242819e+08</td>\n",
       "      <td>26.95</td>\n",
       "    </tr>\n",
       "    <tr>\n",
       "      <th>MEDICAL</th>\n",
       "      <td>5.325744e+07</td>\n",
       "      <td>1439.96</td>\n",
       "    </tr>\n",
       "    <tr>\n",
       "      <th>NEWS_AND_MAGAZINES</th>\n",
       "      <td>7.496318e+09</td>\n",
       "      <td>3.98</td>\n",
       "    </tr>\n",
       "    <tr>\n",
       "      <th>PARENTING</th>\n",
       "      <td>3.152111e+07</td>\n",
       "      <td>9.58</td>\n",
       "    </tr>\n",
       "    <tr>\n",
       "      <th>PERSONALIZATION</th>\n",
       "      <td>2.325495e+09</td>\n",
       "      <td>153.96</td>\n",
       "    </tr>\n",
       "    <tr>\n",
       "      <th>PHOTOGRAPHY</th>\n",
       "      <td>1.008825e+10</td>\n",
       "      <td>134.21</td>\n",
       "    </tr>\n",
       "    <tr>\n",
       "      <th>PRODUCTIVITY</th>\n",
       "      <td>1.417609e+10</td>\n",
       "      <td>250.93</td>\n",
       "    </tr>\n",
       "    <tr>\n",
       "      <th>SHOPPING</th>\n",
       "      <td>3.247849e+09</td>\n",
       "      <td>5.48</td>\n",
       "    </tr>\n",
       "    <tr>\n",
       "      <th>SOCIAL</th>\n",
       "      <td>1.406987e+10</td>\n",
       "      <td>15.97</td>\n",
       "    </tr>\n",
       "    <tr>\n",
       "      <th>SPORTS</th>\n",
       "      <td>1.751174e+09</td>\n",
       "      <td>100.00</td>\n",
       "    </tr>\n",
       "    <tr>\n",
       "      <th>TOOLS</th>\n",
       "      <td>1.145277e+10</td>\n",
       "      <td>267.25</td>\n",
       "    </tr>\n",
       "    <tr>\n",
       "      <th>TRAVEL_AND_LOCAL</th>\n",
       "      <td>6.868887e+09</td>\n",
       "      <td>49.95</td>\n",
       "    </tr>\n",
       "    <tr>\n",
       "      <th>VIDEO_PLAYERS</th>\n",
       "      <td>6.222003e+09</td>\n",
       "      <td>10.46</td>\n",
       "    </tr>\n",
       "    <tr>\n",
       "      <th>WEATHER</th>\n",
       "      <td>4.261005e+08</td>\n",
       "      <td>32.42</td>\n",
       "    </tr>\n",
       "    <tr>\n",
       "      <th>not defined</th>\n",
       "      <td>1.000000e+03</td>\n",
       "      <td>0.00</td>\n",
       "    </tr>\n",
       "  </tbody>\n",
       "</table>\n",
       "</div>"
      ],
      "text/plain": [
       "                         Installs    Price\n",
       "Category                                  \n",
       "ART_AND_DESIGN       1.243381e+08     5.97\n",
       "AUTO_AND_VEHICLES    5.313021e+07    13.47\n",
       "BEAUTY               2.719705e+07     0.00\n",
       "BOOKS_AND_REFERENCE  1.921470e+09   119.77\n",
       "BUSINESS             1.001915e+09   185.27\n",
       "COMICS               5.608615e+07     0.00\n",
       "COMMUNICATION        3.264728e+10    83.14\n",
       "DATING               2.643108e+08    31.43\n",
       "EDUCATION            8.714520e+08    17.96\n",
       "ENTERTAINMENT        2.869160e+09     7.98\n",
       "EVENTS               1.597316e+07   109.99\n",
       "FAMILY               1.025826e+10  2434.78\n",
       "FINANCE              8.766487e+08  2900.83\n",
       "FOOD_AND_DRINK       2.738988e+08     8.48\n",
       "GAME                 3.508602e+10   287.30\n",
       "HEALTH_AND_FITNESS   1.583073e+09    67.34\n",
       "HOUSE_AND_HOME       1.687125e+08     0.00\n",
       "LIBRARIES_AND_DEMO   6.299591e+07     0.99\n",
       "LIFESTYLE            5.376435e+08  2360.87\n",
       "MAPS_AND_NAVIGATION  7.242819e+08    26.95\n",
       "MEDICAL              5.325744e+07  1439.96\n",
       "NEWS_AND_MAGAZINES   7.496318e+09     3.98\n",
       "PARENTING            3.152111e+07     9.58\n",
       "PERSONALIZATION      2.325495e+09   153.96\n",
       "PHOTOGRAPHY          1.008825e+10   134.21\n",
       "PRODUCTIVITY         1.417609e+10   250.93\n",
       "SHOPPING             3.247849e+09     5.48\n",
       "SOCIAL               1.406987e+10    15.97\n",
       "SPORTS               1.751174e+09   100.00\n",
       "TOOLS                1.145277e+10   267.25\n",
       "TRAVEL_AND_LOCAL     6.868887e+09    49.95\n",
       "VIDEO_PLAYERS        6.222003e+09    10.46\n",
       "WEATHER              4.261005e+08    32.42\n",
       "not defined          1.000000e+03     0.00"
      ]
     },
     "execution_count": 198,
     "metadata": {},
     "output_type": "execute_result"
    }
   ],
   "source": [
    " profit"
   ]
  },
  {
   "cell_type": "code",
   "execution_count": 202,
   "id": "470ed78d",
   "metadata": {
    "ExecuteTime": {
     "end_time": "2023-01-24T19:31:39.770613Z",
     "start_time": "2023-01-24T19:31:39.727602Z"
    }
   },
   "outputs": [],
   "source": [
    "profit['profit'] =profit['Installs'] *profit['Price']"
   ]
  },
  {
   "cell_type": "code",
   "execution_count": 203,
   "id": "77ae8711",
   "metadata": {
    "ExecuteTime": {
     "end_time": "2023-01-24T19:31:57.021595Z",
     "start_time": "2023-01-24T19:31:56.982699Z"
    }
   },
   "outputs": [
    {
     "data": {
      "text/html": [
       "<div>\n",
       "<style scoped>\n",
       "    .dataframe tbody tr th:only-of-type {\n",
       "        vertical-align: middle;\n",
       "    }\n",
       "\n",
       "    .dataframe tbody tr th {\n",
       "        vertical-align: top;\n",
       "    }\n",
       "\n",
       "    .dataframe thead th {\n",
       "        text-align: right;\n",
       "    }\n",
       "</style>\n",
       "<table border=\"1\" class=\"dataframe\">\n",
       "  <thead>\n",
       "    <tr style=\"text-align: right;\">\n",
       "      <th></th>\n",
       "      <th>Installs</th>\n",
       "      <th>Price</th>\n",
       "      <th>profit</th>\n",
       "    </tr>\n",
       "    <tr>\n",
       "      <th>Category</th>\n",
       "      <th></th>\n",
       "      <th></th>\n",
       "      <th></th>\n",
       "    </tr>\n",
       "  </thead>\n",
       "  <tbody>\n",
       "    <tr>\n",
       "      <th>ART_AND_DESIGN</th>\n",
       "      <td>1.243381e+08</td>\n",
       "      <td>5.97</td>\n",
       "      <td>7.422985e+08</td>\n",
       "    </tr>\n",
       "    <tr>\n",
       "      <th>AUTO_AND_VEHICLES</th>\n",
       "      <td>5.313021e+07</td>\n",
       "      <td>13.47</td>\n",
       "      <td>7.156639e+08</td>\n",
       "    </tr>\n",
       "    <tr>\n",
       "      <th>BEAUTY</th>\n",
       "      <td>2.719705e+07</td>\n",
       "      <td>0.00</td>\n",
       "      <td>0.000000e+00</td>\n",
       "    </tr>\n",
       "    <tr>\n",
       "      <th>BOOKS_AND_REFERENCE</th>\n",
       "      <td>1.921470e+09</td>\n",
       "      <td>119.77</td>\n",
       "      <td>2.301344e+11</td>\n",
       "    </tr>\n",
       "    <tr>\n",
       "      <th>BUSINESS</th>\n",
       "      <td>1.001915e+09</td>\n",
       "      <td>185.27</td>\n",
       "      <td>1.856248e+11</td>\n",
       "    </tr>\n",
       "    <tr>\n",
       "      <th>COMICS</th>\n",
       "      <td>5.608615e+07</td>\n",
       "      <td>0.00</td>\n",
       "      <td>0.000000e+00</td>\n",
       "    </tr>\n",
       "    <tr>\n",
       "      <th>COMMUNICATION</th>\n",
       "      <td>3.264728e+10</td>\n",
       "      <td>83.14</td>\n",
       "      <td>2.714295e+12</td>\n",
       "    </tr>\n",
       "    <tr>\n",
       "      <th>DATING</th>\n",
       "      <td>2.643108e+08</td>\n",
       "      <td>31.43</td>\n",
       "      <td>8.307289e+09</td>\n",
       "    </tr>\n",
       "    <tr>\n",
       "      <th>EDUCATION</th>\n",
       "      <td>8.714520e+08</td>\n",
       "      <td>17.96</td>\n",
       "      <td>1.565128e+10</td>\n",
       "    </tr>\n",
       "    <tr>\n",
       "      <th>ENTERTAINMENT</th>\n",
       "      <td>2.869160e+09</td>\n",
       "      <td>7.98</td>\n",
       "      <td>2.289590e+10</td>\n",
       "    </tr>\n",
       "    <tr>\n",
       "      <th>EVENTS</th>\n",
       "      <td>1.597316e+07</td>\n",
       "      <td>109.99</td>\n",
       "      <td>1.756888e+09</td>\n",
       "    </tr>\n",
       "    <tr>\n",
       "      <th>FAMILY</th>\n",
       "      <td>1.025826e+10</td>\n",
       "      <td>2434.78</td>\n",
       "      <td>2.497661e+13</td>\n",
       "    </tr>\n",
       "    <tr>\n",
       "      <th>FINANCE</th>\n",
       "      <td>8.766487e+08</td>\n",
       "      <td>2900.83</td>\n",
       "      <td>2.543009e+12</td>\n",
       "    </tr>\n",
       "    <tr>\n",
       "      <th>FOOD_AND_DRINK</th>\n",
       "      <td>2.738988e+08</td>\n",
       "      <td>8.48</td>\n",
       "      <td>2.322661e+09</td>\n",
       "    </tr>\n",
       "    <tr>\n",
       "      <th>GAME</th>\n",
       "      <td>3.508602e+10</td>\n",
       "      <td>287.30</td>\n",
       "      <td>1.008021e+13</td>\n",
       "    </tr>\n",
       "    <tr>\n",
       "      <th>HEALTH_AND_FITNESS</th>\n",
       "      <td>1.583073e+09</td>\n",
       "      <td>67.34</td>\n",
       "      <td>1.066041e+11</td>\n",
       "    </tr>\n",
       "    <tr>\n",
       "      <th>HOUSE_AND_HOME</th>\n",
       "      <td>1.687125e+08</td>\n",
       "      <td>0.00</td>\n",
       "      <td>0.000000e+00</td>\n",
       "    </tr>\n",
       "    <tr>\n",
       "      <th>LIBRARIES_AND_DEMO</th>\n",
       "      <td>6.299591e+07</td>\n",
       "      <td>0.99</td>\n",
       "      <td>6.236595e+07</td>\n",
       "    </tr>\n",
       "    <tr>\n",
       "      <th>LIFESTYLE</th>\n",
       "      <td>5.376435e+08</td>\n",
       "      <td>2360.87</td>\n",
       "      <td>1.269307e+12</td>\n",
       "    </tr>\n",
       "    <tr>\n",
       "      <th>MAPS_AND_NAVIGATION</th>\n",
       "      <td>7.242819e+08</td>\n",
       "      <td>26.95</td>\n",
       "      <td>1.951940e+10</td>\n",
       "    </tr>\n",
       "    <tr>\n",
       "      <th>MEDICAL</th>\n",
       "      <td>5.325744e+07</td>\n",
       "      <td>1439.96</td>\n",
       "      <td>7.668858e+10</td>\n",
       "    </tr>\n",
       "    <tr>\n",
       "      <th>NEWS_AND_MAGAZINES</th>\n",
       "      <td>7.496318e+09</td>\n",
       "      <td>3.98</td>\n",
       "      <td>2.983534e+10</td>\n",
       "    </tr>\n",
       "    <tr>\n",
       "      <th>PARENTING</th>\n",
       "      <td>3.152111e+07</td>\n",
       "      <td>9.58</td>\n",
       "      <td>3.019722e+08</td>\n",
       "    </tr>\n",
       "    <tr>\n",
       "      <th>PERSONALIZATION</th>\n",
       "      <td>2.325495e+09</td>\n",
       "      <td>153.96</td>\n",
       "      <td>3.580332e+11</td>\n",
       "    </tr>\n",
       "    <tr>\n",
       "      <th>PHOTOGRAPHY</th>\n",
       "      <td>1.008825e+10</td>\n",
       "      <td>134.21</td>\n",
       "      <td>1.353944e+12</td>\n",
       "    </tr>\n",
       "    <tr>\n",
       "      <th>PRODUCTIVITY</th>\n",
       "      <td>1.417609e+10</td>\n",
       "      <td>250.93</td>\n",
       "      <td>3.557207e+12</td>\n",
       "    </tr>\n",
       "    <tr>\n",
       "      <th>SHOPPING</th>\n",
       "      <td>3.247849e+09</td>\n",
       "      <td>5.48</td>\n",
       "      <td>1.779821e+10</td>\n",
       "    </tr>\n",
       "    <tr>\n",
       "      <th>SOCIAL</th>\n",
       "      <td>1.406987e+10</td>\n",
       "      <td>15.97</td>\n",
       "      <td>2.246958e+11</td>\n",
       "    </tr>\n",
       "    <tr>\n",
       "      <th>SPORTS</th>\n",
       "      <td>1.751174e+09</td>\n",
       "      <td>100.00</td>\n",
       "      <td>1.751174e+11</td>\n",
       "    </tr>\n",
       "    <tr>\n",
       "      <th>TOOLS</th>\n",
       "      <td>1.145277e+10</td>\n",
       "      <td>267.25</td>\n",
       "      <td>3.060753e+12</td>\n",
       "    </tr>\n",
       "    <tr>\n",
       "      <th>TRAVEL_AND_LOCAL</th>\n",
       "      <td>6.868887e+09</td>\n",
       "      <td>49.95</td>\n",
       "      <td>3.431009e+11</td>\n",
       "    </tr>\n",
       "    <tr>\n",
       "      <th>VIDEO_PLAYERS</th>\n",
       "      <td>6.222003e+09</td>\n",
       "      <td>10.46</td>\n",
       "      <td>6.508215e+10</td>\n",
       "    </tr>\n",
       "    <tr>\n",
       "      <th>WEATHER</th>\n",
       "      <td>4.261005e+08</td>\n",
       "      <td>32.42</td>\n",
       "      <td>1.381418e+10</td>\n",
       "    </tr>\n",
       "    <tr>\n",
       "      <th>not defined</th>\n",
       "      <td>1.000000e+03</td>\n",
       "      <td>0.00</td>\n",
       "      <td>0.000000e+00</td>\n",
       "    </tr>\n",
       "  </tbody>\n",
       "</table>\n",
       "</div>"
      ],
      "text/plain": [
       "                         Installs    Price        profit\n",
       "Category                                                \n",
       "ART_AND_DESIGN       1.243381e+08     5.97  7.422985e+08\n",
       "AUTO_AND_VEHICLES    5.313021e+07    13.47  7.156639e+08\n",
       "BEAUTY               2.719705e+07     0.00  0.000000e+00\n",
       "BOOKS_AND_REFERENCE  1.921470e+09   119.77  2.301344e+11\n",
       "BUSINESS             1.001915e+09   185.27  1.856248e+11\n",
       "COMICS               5.608615e+07     0.00  0.000000e+00\n",
       "COMMUNICATION        3.264728e+10    83.14  2.714295e+12\n",
       "DATING               2.643108e+08    31.43  8.307289e+09\n",
       "EDUCATION            8.714520e+08    17.96  1.565128e+10\n",
       "ENTERTAINMENT        2.869160e+09     7.98  2.289590e+10\n",
       "EVENTS               1.597316e+07   109.99  1.756888e+09\n",
       "FAMILY               1.025826e+10  2434.78  2.497661e+13\n",
       "FINANCE              8.766487e+08  2900.83  2.543009e+12\n",
       "FOOD_AND_DRINK       2.738988e+08     8.48  2.322661e+09\n",
       "GAME                 3.508602e+10   287.30  1.008021e+13\n",
       "HEALTH_AND_FITNESS   1.583073e+09    67.34  1.066041e+11\n",
       "HOUSE_AND_HOME       1.687125e+08     0.00  0.000000e+00\n",
       "LIBRARIES_AND_DEMO   6.299591e+07     0.99  6.236595e+07\n",
       "LIFESTYLE            5.376435e+08  2360.87  1.269307e+12\n",
       "MAPS_AND_NAVIGATION  7.242819e+08    26.95  1.951940e+10\n",
       "MEDICAL              5.325744e+07  1439.96  7.668858e+10\n",
       "NEWS_AND_MAGAZINES   7.496318e+09     3.98  2.983534e+10\n",
       "PARENTING            3.152111e+07     9.58  3.019722e+08\n",
       "PERSONALIZATION      2.325495e+09   153.96  3.580332e+11\n",
       "PHOTOGRAPHY          1.008825e+10   134.21  1.353944e+12\n",
       "PRODUCTIVITY         1.417609e+10   250.93  3.557207e+12\n",
       "SHOPPING             3.247849e+09     5.48  1.779821e+10\n",
       "SOCIAL               1.406987e+10    15.97  2.246958e+11\n",
       "SPORTS               1.751174e+09   100.00  1.751174e+11\n",
       "TOOLS                1.145277e+10   267.25  3.060753e+12\n",
       "TRAVEL_AND_LOCAL     6.868887e+09    49.95  3.431009e+11\n",
       "VIDEO_PLAYERS        6.222003e+09    10.46  6.508215e+10\n",
       "WEATHER              4.261005e+08    32.42  1.381418e+10\n",
       "not defined          1.000000e+03     0.00  0.000000e+00"
      ]
     },
     "execution_count": 203,
     "metadata": {},
     "output_type": "execute_result"
    }
   ],
   "source": [
    "profit"
   ]
  },
  {
   "cell_type": "code",
   "execution_count": 204,
   "id": "0f1e174d",
   "metadata": {
    "ExecuteTime": {
     "end_time": "2023-01-24T19:35:47.058457Z",
     "start_time": "2023-01-24T19:35:46.721990Z"
    }
   },
   "outputs": [
    {
     "data": {
      "image/png": "[encoded data removed]",
      "text/plain": [
       "<Figure size 1000x1000 with 1 Axes>"
      ]
     },
     "metadata": {},
     "output_type": "display_data"
    }
   ],
   "source": [
    " plt.figure(figsize=(10,10))\n",
    "plt.xticks(rotation = 0)\n",
    "plt.barh(profit.index,profit['profit'] )\n",
    "plt.title('profit per category')\n",
    "plt.show()\n"
   ]
  },
  {
   "cell_type": "code",
   "execution_count": null,
   "id": "e315bca3",
   "metadata": {},
   "outputs": [],
   "source": []
  }
 ],
 "metadata": {
  "kernelspec": {
   "display_name": "Python 3 (ipykernel)",
   "language": "python",
   "name": "python3"
  },
  "language_info": {
   "codemirror_mode": {
    "name": "ipython",
    "version": 3
   },
   "file_extension": ".py",
   "mimetype": "text/x-python",
   "name": "python",
   "nbconvert_exporter": "python",
   "pygments_lexer": "ipython3",
   "version": "3.9.13"
  },
  "toc": {
   "base_numbering": 1,
   "nav_menu": {},
   "number_sections": true,
   "sideBar": true,
   "skip_h1_title": false,
   "title_cell": "Table of Contents",
   "title_sidebar": "Contents",
   "toc_cell": false,
   "toc_position": {},
   "toc_section_display": true,
   "toc_window_display": false
  },
  "varInspector": {
   "cols": {
    "lenName": 16,
    "lenType": 16,
    "lenVar": 40
   },
   "kernels_config": {
    "python": {
     "delete_cmd_postfix": "",
     "delete_cmd_prefix": "del ",
     "library": "var_list.py",
     "varRefreshCmd": "print(var_dic_list())"
    },
    "r": {
     "delete_cmd_postfix": ") ",
     "delete_cmd_prefix": "rm(",
     "library": "var_list.r",
     "varRefreshCmd": "cat(var_dic_list()) "
    }
   },
   "types_to_exclude": [
    "module",
    "function",
    "builtin_function_or_method",
    "instance",
    "_Feature"
   ],
   "window_display": false
  }
 },
 "nbformat": 4,
 "nbformat_minor": 5
}
