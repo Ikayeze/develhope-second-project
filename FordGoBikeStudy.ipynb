{
 "cells": [
  {
   "cell_type": "code",
   "execution_count": 438,
   "id": "63d2e2ad",
   "metadata": {
    "ExecuteTime": {
     "end_time": "2023-03-09T01:13:33.972082Z",
     "start_time": "2023-03-09T01:13:33.959084Z"
    }
   },
   "outputs": [],
   "source": [
    "import pyspark\n",
    "import pyspark.sql.functions\n",
    "import pyspark.sql.functions as func\n",
    "from pyspark.sql import SparkSession\n",
    "from pyspark.sql.types import StructType,StructField, StringType, IntegerType\n",
    "from pyspark.sql.functions import col\n",
    "from pyspark.sql.functions import sum\n",
    "from pyspark.sql.functions import count\n",
    "\n",
    "import time\n",
    "import datetime\n",
    "from datetime import datetime as dt, timedelta\n",
    "\n",
    "import matplotlib.pyplot as plt\n",
    "\n",
    "import pandas as pd\n",
    "from haversine import haversine, Unit"
   ]
  },
  {
   "cell_type": "code",
   "execution_count": 6,
   "id": "27b4d228",
   "metadata": {
    "ExecuteTime": {
     "end_time": "2023-03-08T21:34:05.089876Z",
     "start_time": "2023-03-08T21:33:54.977504Z"
    }
   },
   "outputs": [],
   "source": [
    "spark = SparkSession.builder.master(\"local[*]\").appName(\"ford_go_bike\").getOrCreate()"
   ]
  },
  {
   "cell_type": "code",
   "execution_count": 7,
   "id": "bda5387c",
   "metadata": {
    "ExecuteTime": {
     "end_time": "2023-03-08T21:34:54.293228Z",
     "start_time": "2023-03-08T21:34:54.281028Z"
    }
   },
   "outputs": [
    {
     "data": {
      "text/html": [
       "\n",
       "            <div>\n",
       "                <p><b>SparkSession - in-memory</b></p>\n",
       "                \n",
       "        <div>\n",
       "            <p><b>SparkContext</b></p>\n",
       "\n",
       "            <p><a href=\"http://Kepler-452b:4040\">Spark UI</a></p>\n",
       "\n",
       "            <dl>\n",
       "              <dt>Version</dt>\n",
       "                <dd><code>v3.3.2</code></dd>\n",
       "              <dt>Master</dt>\n",
       "                <dd><code>local[*]</code></dd>\n",
       "              <dt>AppName</dt>\n",
       "                <dd><code>ford_go_bike</code></dd>\n",
       "            </dl>\n",
       "        </div>\n",
       "        \n",
       "            </div>\n",
       "        "
      ],
      "text/plain": [
       "<pyspark.sql.session.SparkSession at 0x2c6c187a8b0>"
      ]
     },
     "execution_count": 7,
     "metadata": {},
     "output_type": "execute_result"
    }
   ],
   "source": [
    "spark"
   ]
  },
  {
   "cell_type": "code",
   "execution_count": 8,
   "id": "ddfd8fb3",
   "metadata": {
    "ExecuteTime": {
     "end_time": "2023-03-08T21:38:14.206634Z",
     "start_time": "2023-03-08T21:38:10.217010Z"
    }
   },
   "outputs": [],
   "source": [
    "df = spark.read.option(\"header\", \"true\").format(\"csv\").load(\"C:/Users/mkaya/OneDrive/Masaüstü/develhope-second-project/201902-fordgobike-tripdata.csv\")"
   ]
  },
  {
   "cell_type": "code",
   "execution_count": 10,
   "id": "5ccbe0c1",
   "metadata": {
    "ExecuteTime": {
     "end_time": "2023-03-08T21:38:23.163825Z",
     "start_time": "2023-03-08T21:38:23.154824Z"
    }
   },
   "outputs": [
    {
     "name": "stdout",
     "output_type": "stream",
     "text": [
      "root\n",
      " |-- duration_sec: string (nullable = true)\n",
      " |-- start_time: string (nullable = true)\n",
      " |-- end_time: string (nullable = true)\n",
      " |-- start_station_id: string (nullable = true)\n",
      " |-- start_station_name: string (nullable = true)\n",
      " |-- start_station_latitude: string (nullable = true)\n",
      " |-- start_station_longitude: string (nullable = true)\n",
      " |-- end_station_id: string (nullable = true)\n",
      " |-- end_station_name: string (nullable = true)\n",
      " |-- end_station_latitude: string (nullable = true)\n",
      " |-- end_station_longitude: string (nullable = true)\n",
      " |-- bike_id: string (nullable = true)\n",
      " |-- user_type: string (nullable = true)\n",
      " |-- member_birth_year: string (nullable = true)\n",
      " |-- member_gender: string (nullable = true)\n",
      " |-- bike_share_for_all_trip: string (nullable = true)\n",
      "\n"
     ]
    }
   ],
   "source": [
    "df.printSchema()"
   ]
  },
  {
   "cell_type": "code",
   "execution_count": 218,
   "id": "575163a9",
   "metadata": {
    "ExecuteTime": {
     "end_time": "2023-03-08T23:47:44.356631Z",
     "start_time": "2023-03-08T23:47:43.887637Z"
    }
   },
   "outputs": [],
   "source": [
    "pDf = pd.read_csv(\"C:/Users/mkaya/OneDrive/Masaüstü/develhope-second-project/201902-fordgobike-tripdata.csv\")"
   ]
  },
  {
   "cell_type": "code",
   "execution_count": 208,
   "id": "14366e53",
   "metadata": {
    "ExecuteTime": {
     "end_time": "2023-03-08T23:45:34.920790Z",
     "start_time": "2023-03-08T23:45:34.759961Z"
    }
   },
   "outputs": [
    {
     "name": "stdout",
     "output_type": "stream",
     "text": [
      "<class 'pandas.core.frame.DataFrame'>\n",
      "RangeIndex: 183412 entries, 0 to 183411\n",
      "Data columns (total 16 columns):\n",
      " #   Column                   Non-Null Count   Dtype  \n",
      "---  ------                   --------------   -----  \n",
      " 0   duration_sec             183412 non-null  int64  \n",
      " 1   start_time               183412 non-null  object \n",
      " 2   end_time                 183412 non-null  object \n",
      " 3   start_station_id         183215 non-null  float64\n",
      " 4   start_station_name       183215 non-null  object \n",
      " 5   start_station_latitude   183412 non-null  float64\n",
      " 6   start_station_longitude  183412 non-null  float64\n",
      " 7   end_station_id           183215 non-null  float64\n",
      " 8   end_station_name         183215 non-null  object \n",
      " 9   end_station_latitude     183412 non-null  float64\n",
      " 10  end_station_longitude    183412 non-null  float64\n",
      " 11  bike_id                  183412 non-null  int64  \n",
      " 12  user_type                183412 non-null  object \n",
      " 13  member_birth_year        175147 non-null  float64\n",
      " 14  member_gender            175147 non-null  object \n",
      " 15  bike_share_for_all_trip  183412 non-null  object \n",
      "dtypes: float64(7), int64(2), object(7)\n",
      "memory usage: 22.4+ MB\n"
     ]
    }
   ],
   "source": [
    "pDf.info()"
   ]
  },
  {
   "cell_type": "code",
   "execution_count": 219,
   "id": "01d7fd66",
   "metadata": {
    "ExecuteTime": {
     "end_time": "2023-03-08T23:47:50.416652Z",
     "start_time": "2023-03-08T23:47:46.633026Z"
    }
   },
   "outputs": [],
   "source": [
    "pDf[\"distance\"] = pDf.apply(lambda x: haversine((x[\"start_station_latitude\"], x[\"start_station_longitude\"]), (x[\"end_station_latitude\"], x[\"end_station_longitude\"])),axis=1)"
   ]
  },
  {
   "cell_type": "code",
   "execution_count": 183,
   "id": "2b6596ed",
   "metadata": {
    "ExecuteTime": {
     "end_time": "2023-03-08T23:35:30.142529Z",
     "start_time": "2023-03-08T23:35:29.978807Z"
    }
   },
   "outputs": [
    {
     "name": "stdout",
     "output_type": "stream",
     "text": [
      "<class 'pandas.core.frame.DataFrame'>\n",
      "RangeIndex: 183412 entries, 0 to 183411\n",
      "Data columns (total 17 columns):\n",
      " #   Column                   Non-Null Count   Dtype  \n",
      "---  ------                   --------------   -----  \n",
      " 0   duration_sec             183412 non-null  int64  \n",
      " 1   start_time               183412 non-null  object \n",
      " 2   end_time                 183412 non-null  object \n",
      " 3   start_station_id         183215 non-null  float64\n",
      " 4   start_station_name       183215 non-null  object \n",
      " 5   start_station_latitude   183412 non-null  float64\n",
      " 6   start_station_longitude  183412 non-null  float64\n",
      " 7   end_station_id           183215 non-null  float64\n",
      " 8   end_station_name         183215 non-null  object \n",
      " 9   end_station_latitude     183412 non-null  float64\n",
      " 10  end_station_longitude    183412 non-null  float64\n",
      " 11  bike_id                  183412 non-null  int64  \n",
      " 12  user_type                183412 non-null  object \n",
      " 13  member_birth_year        175147 non-null  float64\n",
      " 14  member_gender            175147 non-null  object \n",
      " 15  bike_share_for_all_trip  183412 non-null  object \n",
      " 16  distance                 183412 non-null  float64\n",
      "dtypes: float64(8), int64(2), object(7)\n",
      "memory usage: 23.8+ MB\n"
     ]
    }
   ],
   "source": [
    "pDf.info()"
   ]
  },
  {
   "cell_type": "code",
   "execution_count": 36,
   "id": "4984e55e",
   "metadata": {
    "ExecuteTime": {
     "end_time": "2023-03-08T21:57:54.696804Z",
     "start_time": "2023-03-08T21:57:54.661724Z"
    }
   },
   "outputs": [
    {
     "data": {
      "text/html": [
       "<div>\n",
       "<style scoped>\n",
       "    .dataframe tbody tr th:only-of-type {\n",
       "        vertical-align: middle;\n",
       "    }\n",
       "\n",
       "    .dataframe tbody tr th {\n",
       "        vertical-align: top;\n",
       "    }\n",
       "\n",
       "    .dataframe thead th {\n",
       "        text-align: right;\n",
       "    }\n",
       "</style>\n",
       "<table border=\"1\" class=\"dataframe\">\n",
       "  <thead>\n",
       "    <tr style=\"text-align: right;\">\n",
       "      <th></th>\n",
       "      <th>duration_sec</th>\n",
       "      <th>start_time</th>\n",
       "      <th>end_time</th>\n",
       "      <th>start_station_id</th>\n",
       "      <th>start_station_name</th>\n",
       "      <th>start_station_latitude</th>\n",
       "      <th>start_station_longitude</th>\n",
       "      <th>end_station_id</th>\n",
       "      <th>end_station_name</th>\n",
       "      <th>end_station_latitude</th>\n",
       "      <th>end_station_longitude</th>\n",
       "      <th>bike_id</th>\n",
       "      <th>user_type</th>\n",
       "      <th>member_birth_year</th>\n",
       "      <th>member_gender</th>\n",
       "      <th>bike_share_for_all_trip</th>\n",
       "      <th>distance</th>\n",
       "    </tr>\n",
       "  </thead>\n",
       "  <tbody>\n",
       "    <tr>\n",
       "      <th>0</th>\n",
       "      <td>52185</td>\n",
       "      <td>2019-02-28 17:32:10.1450</td>\n",
       "      <td>2019-03-01 08:01:55.9750</td>\n",
       "      <td>21.0</td>\n",
       "      <td>Montgomery St BART Station (Market St at 2nd St)</td>\n",
       "      <td>37.789625</td>\n",
       "      <td>-122.400811</td>\n",
       "      <td>13.0</td>\n",
       "      <td>Commercial St at Montgomery St</td>\n",
       "      <td>37.794231</td>\n",
       "      <td>-122.402923</td>\n",
       "      <td>4902</td>\n",
       "      <td>Customer</td>\n",
       "      <td>1984.0</td>\n",
       "      <td>Male</td>\n",
       "      <td>No</td>\n",
       "      <td>0.544709</td>\n",
       "    </tr>\n",
       "    <tr>\n",
       "      <th>1</th>\n",
       "      <td>42521</td>\n",
       "      <td>2019-02-28 18:53:21.7890</td>\n",
       "      <td>2019-03-01 06:42:03.0560</td>\n",
       "      <td>23.0</td>\n",
       "      <td>The Embarcadero at Steuart St</td>\n",
       "      <td>37.791464</td>\n",
       "      <td>-122.391034</td>\n",
       "      <td>81.0</td>\n",
       "      <td>Berry St at 4th St</td>\n",
       "      <td>37.775880</td>\n",
       "      <td>-122.393170</td>\n",
       "      <td>2535</td>\n",
       "      <td>Customer</td>\n",
       "      <td>NaN</td>\n",
       "      <td>NaN</td>\n",
       "      <td>No</td>\n",
       "      <td>1.743002</td>\n",
       "    </tr>\n",
       "    <tr>\n",
       "      <th>2</th>\n",
       "      <td>61854</td>\n",
       "      <td>2019-02-28 12:13:13.2180</td>\n",
       "      <td>2019-03-01 05:24:08.1460</td>\n",
       "      <td>86.0</td>\n",
       "      <td>Market St at Dolores St</td>\n",
       "      <td>37.769305</td>\n",
       "      <td>-122.426826</td>\n",
       "      <td>3.0</td>\n",
       "      <td>Powell St BART Station (Market St at 4th St)</td>\n",
       "      <td>37.786375</td>\n",
       "      <td>-122.404904</td>\n",
       "      <td>5905</td>\n",
       "      <td>Customer</td>\n",
       "      <td>1972.0</td>\n",
       "      <td>Male</td>\n",
       "      <td>No</td>\n",
       "      <td>2.704549</td>\n",
       "    </tr>\n",
       "    <tr>\n",
       "      <th>3</th>\n",
       "      <td>36490</td>\n",
       "      <td>2019-02-28 17:54:26.0100</td>\n",
       "      <td>2019-03-01 04:02:36.8420</td>\n",
       "      <td>375.0</td>\n",
       "      <td>Grove St at Masonic Ave</td>\n",
       "      <td>37.774836</td>\n",
       "      <td>-122.446546</td>\n",
       "      <td>70.0</td>\n",
       "      <td>Central Ave at Fell St</td>\n",
       "      <td>37.773311</td>\n",
       "      <td>-122.444293</td>\n",
       "      <td>6638</td>\n",
       "      <td>Subscriber</td>\n",
       "      <td>1989.0</td>\n",
       "      <td>Other</td>\n",
       "      <td>No</td>\n",
       "      <td>0.260739</td>\n",
       "    </tr>\n",
       "    <tr>\n",
       "      <th>4</th>\n",
       "      <td>1585</td>\n",
       "      <td>2019-02-28 23:54:18.5490</td>\n",
       "      <td>2019-03-01 00:20:44.0740</td>\n",
       "      <td>7.0</td>\n",
       "      <td>Frank H Ogawa Plaza</td>\n",
       "      <td>37.804562</td>\n",
       "      <td>-122.271738</td>\n",
       "      <td>222.0</td>\n",
       "      <td>10th Ave at E 15th St</td>\n",
       "      <td>37.792714</td>\n",
       "      <td>-122.248780</td>\n",
       "      <td>4898</td>\n",
       "      <td>Subscriber</td>\n",
       "      <td>1974.0</td>\n",
       "      <td>Male</td>\n",
       "      <td>Yes</td>\n",
       "      <td>2.409305</td>\n",
       "    </tr>\n",
       "    <tr>\n",
       "      <th>...</th>\n",
       "      <td>...</td>\n",
       "      <td>...</td>\n",
       "      <td>...</td>\n",
       "      <td>...</td>\n",
       "      <td>...</td>\n",
       "      <td>...</td>\n",
       "      <td>...</td>\n",
       "      <td>...</td>\n",
       "      <td>...</td>\n",
       "      <td>...</td>\n",
       "      <td>...</td>\n",
       "      <td>...</td>\n",
       "      <td>...</td>\n",
       "      <td>...</td>\n",
       "      <td>...</td>\n",
       "      <td>...</td>\n",
       "      <td>...</td>\n",
       "    </tr>\n",
       "    <tr>\n",
       "      <th>183407</th>\n",
       "      <td>480</td>\n",
       "      <td>2019-02-01 00:04:49.7240</td>\n",
       "      <td>2019-02-01 00:12:50.0340</td>\n",
       "      <td>27.0</td>\n",
       "      <td>Beale St at Harrison St</td>\n",
       "      <td>37.788059</td>\n",
       "      <td>-122.391865</td>\n",
       "      <td>324.0</td>\n",
       "      <td>Union Square (Powell St at Post St)</td>\n",
       "      <td>37.788300</td>\n",
       "      <td>-122.408531</td>\n",
       "      <td>4832</td>\n",
       "      <td>Subscriber</td>\n",
       "      <td>1996.0</td>\n",
       "      <td>Male</td>\n",
       "      <td>No</td>\n",
       "      <td>1.464768</td>\n",
       "    </tr>\n",
       "    <tr>\n",
       "      <th>183408</th>\n",
       "      <td>313</td>\n",
       "      <td>2019-02-01 00:05:34.7440</td>\n",
       "      <td>2019-02-01 00:10:48.5020</td>\n",
       "      <td>21.0</td>\n",
       "      <td>Montgomery St BART Station (Market St at 2nd St)</td>\n",
       "      <td>37.789625</td>\n",
       "      <td>-122.400811</td>\n",
       "      <td>66.0</td>\n",
       "      <td>3rd St at Townsend St</td>\n",
       "      <td>37.778742</td>\n",
       "      <td>-122.392741</td>\n",
       "      <td>4960</td>\n",
       "      <td>Subscriber</td>\n",
       "      <td>1984.0</td>\n",
       "      <td>Male</td>\n",
       "      <td>No</td>\n",
       "      <td>1.402718</td>\n",
       "    </tr>\n",
       "    <tr>\n",
       "      <th>183409</th>\n",
       "      <td>141</td>\n",
       "      <td>2019-02-01 00:06:05.5490</td>\n",
       "      <td>2019-02-01 00:08:27.2200</td>\n",
       "      <td>278.0</td>\n",
       "      <td>The Alameda at Bush St</td>\n",
       "      <td>37.331932</td>\n",
       "      <td>-121.904888</td>\n",
       "      <td>277.0</td>\n",
       "      <td>Morrison Ave at Julian St</td>\n",
       "      <td>37.333658</td>\n",
       "      <td>-121.908586</td>\n",
       "      <td>3824</td>\n",
       "      <td>Subscriber</td>\n",
       "      <td>1990.0</td>\n",
       "      <td>Male</td>\n",
       "      <td>Yes</td>\n",
       "      <td>0.379066</td>\n",
       "    </tr>\n",
       "    <tr>\n",
       "      <th>183410</th>\n",
       "      <td>139</td>\n",
       "      <td>2019-02-01 00:05:34.3600</td>\n",
       "      <td>2019-02-01 00:07:54.2870</td>\n",
       "      <td>220.0</td>\n",
       "      <td>San Pablo Ave at MLK Jr Way</td>\n",
       "      <td>37.811351</td>\n",
       "      <td>-122.273422</td>\n",
       "      <td>216.0</td>\n",
       "      <td>San Pablo Ave at 27th St</td>\n",
       "      <td>37.817827</td>\n",
       "      <td>-122.275698</td>\n",
       "      <td>5095</td>\n",
       "      <td>Subscriber</td>\n",
       "      <td>1988.0</td>\n",
       "      <td>Male</td>\n",
       "      <td>No</td>\n",
       "      <td>0.747284</td>\n",
       "    </tr>\n",
       "    <tr>\n",
       "      <th>183411</th>\n",
       "      <td>271</td>\n",
       "      <td>2019-02-01 00:00:20.6360</td>\n",
       "      <td>2019-02-01 00:04:52.0580</td>\n",
       "      <td>24.0</td>\n",
       "      <td>Spear St at Folsom St</td>\n",
       "      <td>37.789677</td>\n",
       "      <td>-122.390428</td>\n",
       "      <td>37.0</td>\n",
       "      <td>2nd St at Folsom St</td>\n",
       "      <td>37.785000</td>\n",
       "      <td>-122.395936</td>\n",
       "      <td>1057</td>\n",
       "      <td>Subscriber</td>\n",
       "      <td>1989.0</td>\n",
       "      <td>Male</td>\n",
       "      <td>No</td>\n",
       "      <td>0.710396</td>\n",
       "    </tr>\n",
       "  </tbody>\n",
       "</table>\n",
       "<p>183412 rows × 17 columns</p>\n",
       "</div>"
      ],
      "text/plain": [
       "        duration_sec                start_time                  end_time  \\\n",
       "0              52185  2019-02-28 17:32:10.1450  2019-03-01 08:01:55.9750   \n",
       "1              42521  2019-02-28 18:53:21.7890  2019-03-01 06:42:03.0560   \n",
       "2              61854  2019-02-28 12:13:13.2180  2019-03-01 05:24:08.1460   \n",
       "3              36490  2019-02-28 17:54:26.0100  2019-03-01 04:02:36.8420   \n",
       "4               1585  2019-02-28 23:54:18.5490  2019-03-01 00:20:44.0740   \n",
       "...              ...                       ...                       ...   \n",
       "183407           480  2019-02-01 00:04:49.7240  2019-02-01 00:12:50.0340   \n",
       "183408           313  2019-02-01 00:05:34.7440  2019-02-01 00:10:48.5020   \n",
       "183409           141  2019-02-01 00:06:05.5490  2019-02-01 00:08:27.2200   \n",
       "183410           139  2019-02-01 00:05:34.3600  2019-02-01 00:07:54.2870   \n",
       "183411           271  2019-02-01 00:00:20.6360  2019-02-01 00:04:52.0580   \n",
       "\n",
       "        start_station_id                                start_station_name  \\\n",
       "0                   21.0  Montgomery St BART Station (Market St at 2nd St)   \n",
       "1                   23.0                     The Embarcadero at Steuart St   \n",
       "2                   86.0                           Market St at Dolores St   \n",
       "3                  375.0                           Grove St at Masonic Ave   \n",
       "4                    7.0                               Frank H Ogawa Plaza   \n",
       "...                  ...                                               ...   \n",
       "183407              27.0                           Beale St at Harrison St   \n",
       "183408              21.0  Montgomery St BART Station (Market St at 2nd St)   \n",
       "183409             278.0                            The Alameda at Bush St   \n",
       "183410             220.0                       San Pablo Ave at MLK Jr Way   \n",
       "183411              24.0                             Spear St at Folsom St   \n",
       "\n",
       "        start_station_latitude  start_station_longitude  end_station_id  \\\n",
       "0                    37.789625              -122.400811            13.0   \n",
       "1                    37.791464              -122.391034            81.0   \n",
       "2                    37.769305              -122.426826             3.0   \n",
       "3                    37.774836              -122.446546            70.0   \n",
       "4                    37.804562              -122.271738           222.0   \n",
       "...                        ...                      ...             ...   \n",
       "183407               37.788059              -122.391865           324.0   \n",
       "183408               37.789625              -122.400811            66.0   \n",
       "183409               37.331932              -121.904888           277.0   \n",
       "183410               37.811351              -122.273422           216.0   \n",
       "183411               37.789677              -122.390428            37.0   \n",
       "\n",
       "                                    end_station_name  end_station_latitude  \\\n",
       "0                     Commercial St at Montgomery St             37.794231   \n",
       "1                                 Berry St at 4th St             37.775880   \n",
       "2       Powell St BART Station (Market St at 4th St)             37.786375   \n",
       "3                             Central Ave at Fell St             37.773311   \n",
       "4                              10th Ave at E 15th St             37.792714   \n",
       "...                                              ...                   ...   \n",
       "183407           Union Square (Powell St at Post St)             37.788300   \n",
       "183408                         3rd St at Townsend St             37.778742   \n",
       "183409                     Morrison Ave at Julian St             37.333658   \n",
       "183410                      San Pablo Ave at 27th St             37.817827   \n",
       "183411                           2nd St at Folsom St             37.785000   \n",
       "\n",
       "        end_station_longitude  bike_id   user_type  member_birth_year  \\\n",
       "0                 -122.402923     4902    Customer             1984.0   \n",
       "1                 -122.393170     2535    Customer                NaN   \n",
       "2                 -122.404904     5905    Customer             1972.0   \n",
       "3                 -122.444293     6638  Subscriber             1989.0   \n",
       "4                 -122.248780     4898  Subscriber             1974.0   \n",
       "...                       ...      ...         ...                ...   \n",
       "183407            -122.408531     4832  Subscriber             1996.0   \n",
       "183408            -122.392741     4960  Subscriber             1984.0   \n",
       "183409            -121.908586     3824  Subscriber             1990.0   \n",
       "183410            -122.275698     5095  Subscriber             1988.0   \n",
       "183411            -122.395936     1057  Subscriber             1989.0   \n",
       "\n",
       "       member_gender bike_share_for_all_trip  distance  \n",
       "0               Male                      No  0.544709  \n",
       "1                NaN                      No  1.743002  \n",
       "2               Male                      No  2.704549  \n",
       "3              Other                      No  0.260739  \n",
       "4               Male                     Yes  2.409305  \n",
       "...              ...                     ...       ...  \n",
       "183407          Male                      No  1.464768  \n",
       "183408          Male                      No  1.402718  \n",
       "183409          Male                     Yes  0.379066  \n",
       "183410          Male                      No  0.747284  \n",
       "183411          Male                      No  0.710396  \n",
       "\n",
       "[183412 rows x 17 columns]"
      ]
     },
     "execution_count": 36,
     "metadata": {},
     "output_type": "execute_result"
    }
   ],
   "source": [
    "pDf"
   ]
  },
  {
   "cell_type": "code",
   "execution_count": 220,
   "id": "d20d8b87",
   "metadata": {
    "ExecuteTime": {
     "end_time": "2023-03-08T23:47:54.108095Z",
     "start_time": "2023-03-08T23:47:53.953681Z"
    }
   },
   "outputs": [],
   "source": [
    "pDf['start_time'] = pd.to_datetime(pDf['start_time'])"
   ]
  },
  {
   "cell_type": "code",
   "execution_count": 221,
   "id": "acff535f",
   "metadata": {
    "ExecuteTime": {
     "end_time": "2023-03-08T23:47:54.404653Z",
     "start_time": "2023-03-08T23:47:54.231079Z"
    }
   },
   "outputs": [],
   "source": [
    "pDf['end_time'] = pd.to_datetime(pDf['end_time'])"
   ]
  },
  {
   "cell_type": "code",
   "execution_count": 53,
   "id": "65d4d585",
   "metadata": {
    "ExecuteTime": {
     "end_time": "2023-03-08T22:16:31.491056Z",
     "start_time": "2023-03-08T22:16:31.482056Z"
    }
   },
   "outputs": [],
   "source": [
    "spark.conf.set(\"spark.sql.execution.arrow.enabled\",\"true\")"
   ]
  },
  {
   "cell_type": "code",
   "execution_count": 54,
   "id": "621dd4d6",
   "metadata": {
    "ExecuteTime": {
     "end_time": "2023-03-08T22:17:31.578613Z",
     "start_time": "2023-03-08T22:16:49.619985Z"
    },
    "collapsed": true
   },
   "outputs": [
    {
     "name": "stderr",
     "output_type": "stream",
     "text": [
      "C:\\ProgramData\\Anaconda3\\lib\\site-packages\\pyspark\\sql\\pandas\\conversion.py:329: UserWarning: createDataFrame attempted Arrow optimization because 'spark.sql.execution.arrow.pyspark.enabled' is set to true; however, failed by the reason below:\n",
      "  An error occurred while calling z:org.apache.spark.sql.api.python.PythonSQLUtils.readArrowStreamFromFile. Trace:\n",
      "py4j.Py4JException: Method readArrowStreamFromFile([class org.apache.spark.sql.SQLContext, class java.lang.String]) does not exist\r\n",
      "\tat py4j.reflection.ReflectionEngine.getMethod(ReflectionEngine.java:318)\r\n",
      "\tat py4j.reflection.ReflectionEngine.getMethod(ReflectionEngine.java:339)\r\n",
      "\tat py4j.Gateway.invoke(Gateway.java:276)\r\n",
      "\tat py4j.commands.AbstractCommand.invokeMethod(AbstractCommand.java:132)\r\n",
      "\tat py4j.commands.CallCommand.execute(CallCommand.java:79)\r\n",
      "\tat py4j.ClientServerConnection.waitForCommands(ClientServerConnection.java:182)\r\n",
      "\tat py4j.ClientServerConnection.run(ClientServerConnection.java:106)\r\n",
      "\tat java.lang.Thread.run(Thread.java:750)\r\n",
      "\n",
      "\n",
      "Attempting non-optimization as 'spark.sql.execution.arrow.pyspark.fallback.enabled' is set to true.\n",
      "  warnings.warn(msg)\n"
     ]
    },
    {
     "ename": "TypeError",
     "evalue": "field member_gender: Can not merge type <class 'pyspark.sql.types.StringType'> and <class 'pyspark.sql.types.DoubleType'>",
     "output_type": "error",
     "traceback": [
      "\u001b[1;31m---------------------------------------------------------------------------\u001b[0m",
      "\u001b[1;31mTypeError\u001b[0m                                 Traceback (most recent call last)",
      "\u001b[1;32m~\\AppData\\Local\\Temp\\ipykernel_15380\\963094684.py\u001b[0m in \u001b[0;36m<module>\u001b[1;34m\u001b[0m\n\u001b[1;32m----> 1\u001b[1;33m \u001b[0mdf\u001b[0m \u001b[1;33m=\u001b[0m \u001b[0mspark\u001b[0m\u001b[1;33m.\u001b[0m\u001b[0mcreateDataFrame\u001b[0m\u001b[1;33m(\u001b[0m\u001b[0mpDf\u001b[0m\u001b[1;33m)\u001b[0m\u001b[1;33m\u001b[0m\u001b[1;33m\u001b[0m\u001b[0m\n\u001b[0m",
      "\u001b[1;32mC:\\ProgramData\\Anaconda3\\lib\\site-packages\\pyspark\\sql\\session.py\u001b[0m in \u001b[0;36mcreateDataFrame\u001b[1;34m(self, data, schema, samplingRatio, verifySchema)\u001b[0m\n\u001b[0;32m    671\u001b[0m         \u001b[1;32mif\u001b[0m \u001b[0mhas_pandas\u001b[0m \u001b[1;32mand\u001b[0m \u001b[0misinstance\u001b[0m\u001b[1;33m(\u001b[0m\u001b[0mdata\u001b[0m\u001b[1;33m,\u001b[0m \u001b[0mpandas\u001b[0m\u001b[1;33m.\u001b[0m\u001b[0mDataFrame\u001b[0m\u001b[1;33m)\u001b[0m\u001b[1;33m:\u001b[0m\u001b[1;33m\u001b[0m\u001b[1;33m\u001b[0m\u001b[0m\n\u001b[0;32m    672\u001b[0m             \u001b[1;31m# Create a DataFrame from pandas DataFrame.\u001b[0m\u001b[1;33m\u001b[0m\u001b[1;33m\u001b[0m\u001b[0m\n\u001b[1;32m--> 673\u001b[1;33m             return super(SparkSession, self).createDataFrame(\n\u001b[0m\u001b[0;32m    674\u001b[0m                 data, schema, samplingRatio, verifySchema)\n\u001b[0;32m    675\u001b[0m         \u001b[1;32mreturn\u001b[0m \u001b[0mself\u001b[0m\u001b[1;33m.\u001b[0m\u001b[0m_create_dataframe\u001b[0m\u001b[1;33m(\u001b[0m\u001b[0mdata\u001b[0m\u001b[1;33m,\u001b[0m \u001b[0mschema\u001b[0m\u001b[1;33m,\u001b[0m \u001b[0msamplingRatio\u001b[0m\u001b[1;33m,\u001b[0m \u001b[0mverifySchema\u001b[0m\u001b[1;33m)\u001b[0m\u001b[1;33m\u001b[0m\u001b[1;33m\u001b[0m\u001b[0m\n",
      "\u001b[1;32mC:\\ProgramData\\Anaconda3\\lib\\site-packages\\pyspark\\sql\\pandas\\conversion.py\u001b[0m in \u001b[0;36mcreateDataFrame\u001b[1;34m(self, data, schema, samplingRatio, verifySchema)\u001b[0m\n\u001b[0;32m    338\u001b[0m                     \u001b[1;32mraise\u001b[0m\u001b[1;33m\u001b[0m\u001b[1;33m\u001b[0m\u001b[0m\n\u001b[0;32m    339\u001b[0m         \u001b[0mdata\u001b[0m \u001b[1;33m=\u001b[0m \u001b[0mself\u001b[0m\u001b[1;33m.\u001b[0m\u001b[0m_convert_from_pandas\u001b[0m\u001b[1;33m(\u001b[0m\u001b[0mdata\u001b[0m\u001b[1;33m,\u001b[0m \u001b[0mschema\u001b[0m\u001b[1;33m,\u001b[0m \u001b[0mtimezone\u001b[0m\u001b[1;33m)\u001b[0m\u001b[1;33m\u001b[0m\u001b[1;33m\u001b[0m\u001b[0m\n\u001b[1;32m--> 340\u001b[1;33m         \u001b[1;32mreturn\u001b[0m \u001b[0mself\u001b[0m\u001b[1;33m.\u001b[0m\u001b[0m_create_dataframe\u001b[0m\u001b[1;33m(\u001b[0m\u001b[0mdata\u001b[0m\u001b[1;33m,\u001b[0m \u001b[0mschema\u001b[0m\u001b[1;33m,\u001b[0m \u001b[0msamplingRatio\u001b[0m\u001b[1;33m,\u001b[0m \u001b[0mverifySchema\u001b[0m\u001b[1;33m)\u001b[0m\u001b[1;33m\u001b[0m\u001b[1;33m\u001b[0m\u001b[0m\n\u001b[0m\u001b[0;32m    341\u001b[0m \u001b[1;33m\u001b[0m\u001b[0m\n\u001b[0;32m    342\u001b[0m     \u001b[1;32mdef\u001b[0m \u001b[0m_convert_from_pandas\u001b[0m\u001b[1;33m(\u001b[0m\u001b[0mself\u001b[0m\u001b[1;33m,\u001b[0m \u001b[0mpdf\u001b[0m\u001b[1;33m,\u001b[0m \u001b[0mschema\u001b[0m\u001b[1;33m,\u001b[0m \u001b[0mtimezone\u001b[0m\u001b[1;33m)\u001b[0m\u001b[1;33m:\u001b[0m\u001b[1;33m\u001b[0m\u001b[1;33m\u001b[0m\u001b[0m\n",
      "\u001b[1;32mC:\\ProgramData\\Anaconda3\\lib\\site-packages\\pyspark\\sql\\session.py\u001b[0m in \u001b[0;36m_create_dataframe\u001b[1;34m(self, data, schema, samplingRatio, verifySchema)\u001b[0m\n\u001b[0;32m    698\u001b[0m             \u001b[0mrdd\u001b[0m\u001b[1;33m,\u001b[0m \u001b[0mschema\u001b[0m \u001b[1;33m=\u001b[0m \u001b[0mself\u001b[0m\u001b[1;33m.\u001b[0m\u001b[0m_createFromRDD\u001b[0m\u001b[1;33m(\u001b[0m\u001b[0mdata\u001b[0m\u001b[1;33m.\u001b[0m\u001b[0mmap\u001b[0m\u001b[1;33m(\u001b[0m\u001b[0mprepare\u001b[0m\u001b[1;33m)\u001b[0m\u001b[1;33m,\u001b[0m \u001b[0mschema\u001b[0m\u001b[1;33m,\u001b[0m \u001b[0msamplingRatio\u001b[0m\u001b[1;33m)\u001b[0m\u001b[1;33m\u001b[0m\u001b[1;33m\u001b[0m\u001b[0m\n\u001b[0;32m    699\u001b[0m         \u001b[1;32melse\u001b[0m\u001b[1;33m:\u001b[0m\u001b[1;33m\u001b[0m\u001b[1;33m\u001b[0m\u001b[0m\n\u001b[1;32m--> 700\u001b[1;33m             \u001b[0mrdd\u001b[0m\u001b[1;33m,\u001b[0m \u001b[0mschema\u001b[0m \u001b[1;33m=\u001b[0m \u001b[0mself\u001b[0m\u001b[1;33m.\u001b[0m\u001b[0m_createFromLocal\u001b[0m\u001b[1;33m(\u001b[0m\u001b[0mmap\u001b[0m\u001b[1;33m(\u001b[0m\u001b[0mprepare\u001b[0m\u001b[1;33m,\u001b[0m \u001b[0mdata\u001b[0m\u001b[1;33m)\u001b[0m\u001b[1;33m,\u001b[0m \u001b[0mschema\u001b[0m\u001b[1;33m)\u001b[0m\u001b[1;33m\u001b[0m\u001b[1;33m\u001b[0m\u001b[0m\n\u001b[0m\u001b[0;32m    701\u001b[0m         \u001b[0mjrdd\u001b[0m \u001b[1;33m=\u001b[0m \u001b[0mself\u001b[0m\u001b[1;33m.\u001b[0m\u001b[0m_jvm\u001b[0m\u001b[1;33m.\u001b[0m\u001b[0mSerDeUtil\u001b[0m\u001b[1;33m.\u001b[0m\u001b[0mtoJavaArray\u001b[0m\u001b[1;33m(\u001b[0m\u001b[0mrdd\u001b[0m\u001b[1;33m.\u001b[0m\u001b[0m_to_java_object_rdd\u001b[0m\u001b[1;33m(\u001b[0m\u001b[1;33m)\u001b[0m\u001b[1;33m)\u001b[0m\u001b[1;33m\u001b[0m\u001b[1;33m\u001b[0m\u001b[0m\n\u001b[0;32m    702\u001b[0m         \u001b[0mjdf\u001b[0m \u001b[1;33m=\u001b[0m \u001b[0mself\u001b[0m\u001b[1;33m.\u001b[0m\u001b[0m_jsparkSession\u001b[0m\u001b[1;33m.\u001b[0m\u001b[0mapplySchemaToPythonRDD\u001b[0m\u001b[1;33m(\u001b[0m\u001b[0mjrdd\u001b[0m\u001b[1;33m.\u001b[0m\u001b[0mrdd\u001b[0m\u001b[1;33m(\u001b[0m\u001b[1;33m)\u001b[0m\u001b[1;33m,\u001b[0m \u001b[0mschema\u001b[0m\u001b[1;33m.\u001b[0m\u001b[0mjson\u001b[0m\u001b[1;33m(\u001b[0m\u001b[1;33m)\u001b[0m\u001b[1;33m)\u001b[0m\u001b[1;33m\u001b[0m\u001b[1;33m\u001b[0m\u001b[0m\n",
      "\u001b[1;32mC:\\ProgramData\\Anaconda3\\lib\\site-packages\\pyspark\\sql\\session.py\u001b[0m in \u001b[0;36m_createFromLocal\u001b[1;34m(self, data, schema)\u001b[0m\n\u001b[0;32m    510\u001b[0m \u001b[1;33m\u001b[0m\u001b[0m\n\u001b[0;32m    511\u001b[0m         \u001b[1;32mif\u001b[0m \u001b[0mschema\u001b[0m \u001b[1;32mis\u001b[0m \u001b[1;32mNone\u001b[0m \u001b[1;32mor\u001b[0m \u001b[0misinstance\u001b[0m\u001b[1;33m(\u001b[0m\u001b[0mschema\u001b[0m\u001b[1;33m,\u001b[0m \u001b[1;33m(\u001b[0m\u001b[0mlist\u001b[0m\u001b[1;33m,\u001b[0m \u001b[0mtuple\u001b[0m\u001b[1;33m)\u001b[0m\u001b[1;33m)\u001b[0m\u001b[1;33m:\u001b[0m\u001b[1;33m\u001b[0m\u001b[1;33m\u001b[0m\u001b[0m\n\u001b[1;32m--> 512\u001b[1;33m             \u001b[0mstruct\u001b[0m \u001b[1;33m=\u001b[0m \u001b[0mself\u001b[0m\u001b[1;33m.\u001b[0m\u001b[0m_inferSchemaFromList\u001b[0m\u001b[1;33m(\u001b[0m\u001b[0mdata\u001b[0m\u001b[1;33m,\u001b[0m \u001b[0mnames\u001b[0m\u001b[1;33m=\u001b[0m\u001b[0mschema\u001b[0m\u001b[1;33m)\u001b[0m\u001b[1;33m\u001b[0m\u001b[1;33m\u001b[0m\u001b[0m\n\u001b[0m\u001b[0;32m    513\u001b[0m             \u001b[0mconverter\u001b[0m \u001b[1;33m=\u001b[0m \u001b[0m_create_converter\u001b[0m\u001b[1;33m(\u001b[0m\u001b[0mstruct\u001b[0m\u001b[1;33m)\u001b[0m\u001b[1;33m\u001b[0m\u001b[1;33m\u001b[0m\u001b[0m\n\u001b[0;32m    514\u001b[0m             \u001b[0mdata\u001b[0m \u001b[1;33m=\u001b[0m \u001b[0mmap\u001b[0m\u001b[1;33m(\u001b[0m\u001b[0mconverter\u001b[0m\u001b[1;33m,\u001b[0m \u001b[0mdata\u001b[0m\u001b[1;33m)\u001b[0m\u001b[1;33m\u001b[0m\u001b[1;33m\u001b[0m\u001b[0m\n",
      "\u001b[1;32mC:\\ProgramData\\Anaconda3\\lib\\site-packages\\pyspark\\sql\\session.py\u001b[0m in \u001b[0;36m_inferSchemaFromList\u001b[1;34m(self, data, names)\u001b[0m\n\u001b[0;32m    437\u001b[0m         \u001b[1;32mif\u001b[0m \u001b[1;32mnot\u001b[0m \u001b[0mdata\u001b[0m\u001b[1;33m:\u001b[0m\u001b[1;33m\u001b[0m\u001b[1;33m\u001b[0m\u001b[0m\n\u001b[0;32m    438\u001b[0m             \u001b[1;32mraise\u001b[0m \u001b[0mValueError\u001b[0m\u001b[1;33m(\u001b[0m\u001b[1;34m\"can not infer schema from empty dataset\"\u001b[0m\u001b[1;33m)\u001b[0m\u001b[1;33m\u001b[0m\u001b[1;33m\u001b[0m\u001b[0m\n\u001b[1;32m--> 439\u001b[1;33m         \u001b[0mschema\u001b[0m \u001b[1;33m=\u001b[0m \u001b[0mreduce\u001b[0m\u001b[1;33m(\u001b[0m\u001b[0m_merge_type\u001b[0m\u001b[1;33m,\u001b[0m \u001b[1;33m(\u001b[0m\u001b[0m_infer_schema\u001b[0m\u001b[1;33m(\u001b[0m\u001b[0mrow\u001b[0m\u001b[1;33m,\u001b[0m \u001b[0mnames\u001b[0m\u001b[1;33m)\u001b[0m \u001b[1;32mfor\u001b[0m \u001b[0mrow\u001b[0m \u001b[1;32min\u001b[0m \u001b[0mdata\u001b[0m\u001b[1;33m)\u001b[0m\u001b[1;33m)\u001b[0m\u001b[1;33m\u001b[0m\u001b[1;33m\u001b[0m\u001b[0m\n\u001b[0m\u001b[0;32m    440\u001b[0m         \u001b[1;32mif\u001b[0m \u001b[0m_has_nulltype\u001b[0m\u001b[1;33m(\u001b[0m\u001b[0mschema\u001b[0m\u001b[1;33m)\u001b[0m\u001b[1;33m:\u001b[0m\u001b[1;33m\u001b[0m\u001b[1;33m\u001b[0m\u001b[0m\n\u001b[0;32m    441\u001b[0m             \u001b[1;32mraise\u001b[0m \u001b[0mValueError\u001b[0m\u001b[1;33m(\u001b[0m\u001b[1;34m\"Some of types cannot be determined after inferring\"\u001b[0m\u001b[1;33m)\u001b[0m\u001b[1;33m\u001b[0m\u001b[1;33m\u001b[0m\u001b[0m\n",
      "\u001b[1;32mC:\\ProgramData\\Anaconda3\\lib\\site-packages\\pyspark\\sql\\types.py\u001b[0m in \u001b[0;36m_merge_type\u001b[1;34m(a, b, name)\u001b[0m\n\u001b[0;32m   1107\u001b[0m     \u001b[1;32mif\u001b[0m \u001b[0misinstance\u001b[0m\u001b[1;33m(\u001b[0m\u001b[0ma\u001b[0m\u001b[1;33m,\u001b[0m \u001b[0mStructType\u001b[0m\u001b[1;33m)\u001b[0m\u001b[1;33m:\u001b[0m\u001b[1;33m\u001b[0m\u001b[1;33m\u001b[0m\u001b[0m\n\u001b[0;32m   1108\u001b[0m         \u001b[0mnfs\u001b[0m \u001b[1;33m=\u001b[0m \u001b[0mdict\u001b[0m\u001b[1;33m(\u001b[0m\u001b[1;33m(\u001b[0m\u001b[0mf\u001b[0m\u001b[1;33m.\u001b[0m\u001b[0mname\u001b[0m\u001b[1;33m,\u001b[0m \u001b[0mf\u001b[0m\u001b[1;33m.\u001b[0m\u001b[0mdataType\u001b[0m\u001b[1;33m)\u001b[0m \u001b[1;32mfor\u001b[0m \u001b[0mf\u001b[0m \u001b[1;32min\u001b[0m \u001b[0mb\u001b[0m\u001b[1;33m.\u001b[0m\u001b[0mfields\u001b[0m\u001b[1;33m)\u001b[0m\u001b[1;33m\u001b[0m\u001b[1;33m\u001b[0m\u001b[0m\n\u001b[1;32m-> 1109\u001b[1;33m         fields = [StructField(f.name, _merge_type(f.dataType, nfs.get(f.name, NullType()),\n\u001b[0m\u001b[0;32m   1110\u001b[0m                                                   name=new_name(f.name)))\n\u001b[0;32m   1111\u001b[0m                   for f in a.fields]\n",
      "\u001b[1;32mC:\\ProgramData\\Anaconda3\\lib\\site-packages\\pyspark\\sql\\types.py\u001b[0m in \u001b[0;36m<listcomp>\u001b[1;34m(.0)\u001b[0m\n\u001b[0;32m   1107\u001b[0m     \u001b[1;32mif\u001b[0m \u001b[0misinstance\u001b[0m\u001b[1;33m(\u001b[0m\u001b[0ma\u001b[0m\u001b[1;33m,\u001b[0m \u001b[0mStructType\u001b[0m\u001b[1;33m)\u001b[0m\u001b[1;33m:\u001b[0m\u001b[1;33m\u001b[0m\u001b[1;33m\u001b[0m\u001b[0m\n\u001b[0;32m   1108\u001b[0m         \u001b[0mnfs\u001b[0m \u001b[1;33m=\u001b[0m \u001b[0mdict\u001b[0m\u001b[1;33m(\u001b[0m\u001b[1;33m(\u001b[0m\u001b[0mf\u001b[0m\u001b[1;33m.\u001b[0m\u001b[0mname\u001b[0m\u001b[1;33m,\u001b[0m \u001b[0mf\u001b[0m\u001b[1;33m.\u001b[0m\u001b[0mdataType\u001b[0m\u001b[1;33m)\u001b[0m \u001b[1;32mfor\u001b[0m \u001b[0mf\u001b[0m \u001b[1;32min\u001b[0m \u001b[0mb\u001b[0m\u001b[1;33m.\u001b[0m\u001b[0mfields\u001b[0m\u001b[1;33m)\u001b[0m\u001b[1;33m\u001b[0m\u001b[1;33m\u001b[0m\u001b[0m\n\u001b[1;32m-> 1109\u001b[1;33m         fields = [StructField(f.name, _merge_type(f.dataType, nfs.get(f.name, NullType()),\n\u001b[0m\u001b[0;32m   1110\u001b[0m                                                   name=new_name(f.name)))\n\u001b[0;32m   1111\u001b[0m                   for f in a.fields]\n",
      "\u001b[1;32mC:\\ProgramData\\Anaconda3\\lib\\site-packages\\pyspark\\sql\\types.py\u001b[0m in \u001b[0;36m_merge_type\u001b[1;34m(a, b, name)\u001b[0m\n\u001b[0;32m   1102\u001b[0m     \u001b[1;32melif\u001b[0m \u001b[0mtype\u001b[0m\u001b[1;33m(\u001b[0m\u001b[0ma\u001b[0m\u001b[1;33m)\u001b[0m \u001b[1;32mis\u001b[0m \u001b[1;32mnot\u001b[0m \u001b[0mtype\u001b[0m\u001b[1;33m(\u001b[0m\u001b[0mb\u001b[0m\u001b[1;33m)\u001b[0m\u001b[1;33m:\u001b[0m\u001b[1;33m\u001b[0m\u001b[1;33m\u001b[0m\u001b[0m\n\u001b[0;32m   1103\u001b[0m         \u001b[1;31m# TODO: type cast (such as int -> long)\u001b[0m\u001b[1;33m\u001b[0m\u001b[1;33m\u001b[0m\u001b[0m\n\u001b[1;32m-> 1104\u001b[1;33m         \u001b[1;32mraise\u001b[0m \u001b[0mTypeError\u001b[0m\u001b[1;33m(\u001b[0m\u001b[0mnew_msg\u001b[0m\u001b[1;33m(\u001b[0m\u001b[1;34m\"Can not merge type %s and %s\"\u001b[0m \u001b[1;33m%\u001b[0m \u001b[1;33m(\u001b[0m\u001b[0mtype\u001b[0m\u001b[1;33m(\u001b[0m\u001b[0ma\u001b[0m\u001b[1;33m)\u001b[0m\u001b[1;33m,\u001b[0m \u001b[0mtype\u001b[0m\u001b[1;33m(\u001b[0m\u001b[0mb\u001b[0m\u001b[1;33m)\u001b[0m\u001b[1;33m)\u001b[0m\u001b[1;33m)\u001b[0m\u001b[1;33m)\u001b[0m\u001b[1;33m\u001b[0m\u001b[1;33m\u001b[0m\u001b[0m\n\u001b[0m\u001b[0;32m   1105\u001b[0m \u001b[1;33m\u001b[0m\u001b[0m\n\u001b[0;32m   1106\u001b[0m     \u001b[1;31m# same type\u001b[0m\u001b[1;33m\u001b[0m\u001b[1;33m\u001b[0m\u001b[0m\n",
      "\u001b[1;31mTypeError\u001b[0m: field member_gender: Can not merge type <class 'pyspark.sql.types.StringType'> and <class 'pyspark.sql.types.DoubleType'>"
     ]
    }
   ],
   "source": [
    "df = spark.createDataFrame(pDf)"
   ]
  },
  {
   "cell_type": "code",
   "execution_count": 55,
   "id": "4230a3b7",
   "metadata": {
    "ExecuteTime": {
     "end_time": "2023-03-08T22:20:04.418747Z",
     "start_time": "2023-03-08T22:20:01.852745Z"
    }
   },
   "outputs": [],
   "source": [
    "pDf.to_csv('forgobike&distances.csv')"
   ]
  },
  {
   "cell_type": "code",
   "execution_count": 56,
   "id": "8d22f55b",
   "metadata": {
    "ExecuteTime": {
     "end_time": "2023-03-08T22:20:49.663407Z",
     "start_time": "2023-03-08T22:20:49.481960Z"
    }
   },
   "outputs": [],
   "source": [
    "df = spark.read.format(\"csv\").option(\"header\", \"true\").load(\"C:/Users/mkaya/OneDrive/Masaüstü/develhope-second-project/forgobike&distances.csv\")"
   ]
  },
  {
   "cell_type": "code",
   "execution_count": 57,
   "id": "9b1b2a40",
   "metadata": {
    "ExecuteTime": {
     "end_time": "2023-03-08T22:20:56.766428Z",
     "start_time": "2023-03-08T22:20:56.762425Z"
    }
   },
   "outputs": [
    {
     "name": "stdout",
     "output_type": "stream",
     "text": [
      "root\n",
      " |-- _c0: string (nullable = true)\n",
      " |-- duration_sec: string (nullable = true)\n",
      " |-- start_time: string (nullable = true)\n",
      " |-- end_time: string (nullable = true)\n",
      " |-- start_station_id: string (nullable = true)\n",
      " |-- start_station_name: string (nullable = true)\n",
      " |-- start_station_latitude: string (nullable = true)\n",
      " |-- start_station_longitude: string (nullable = true)\n",
      " |-- end_station_id: string (nullable = true)\n",
      " |-- end_station_name: string (nullable = true)\n",
      " |-- end_station_latitude: string (nullable = true)\n",
      " |-- end_station_longitude: string (nullable = true)\n",
      " |-- bike_id: string (nullable = true)\n",
      " |-- user_type: string (nullable = true)\n",
      " |-- member_birth_year: string (nullable = true)\n",
      " |-- member_gender: string (nullable = true)\n",
      " |-- bike_share_for_all_trip: string (nullable = true)\n",
      " |-- distance: string (nullable = true)\n",
      "\n"
     ]
    }
   ],
   "source": [
    "df.printSchema()"
   ]
  },
  {
   "cell_type": "code",
   "execution_count": 65,
   "id": "aa6ee42d",
   "metadata": {
    "ExecuteTime": {
     "end_time": "2023-03-08T22:22:55.171600Z",
     "start_time": "2023-03-08T22:22:55.105192Z"
    }
   },
   "outputs": [
    {
     "name": "stdout",
     "output_type": "stream",
     "text": [
      "+---+------------+\n",
      "|_c0|duration_sec|\n",
      "+---+------------+\n",
      "|  0|       52185|\n",
      "|  1|       42521|\n",
      "|  2|       61854|\n",
      "|  3|       36490|\n",
      "|  4|        1585|\n",
      "|  5|        1793|\n",
      "|  6|        1147|\n",
      "|  7|        1615|\n",
      "|  8|        1570|\n",
      "|  9|        1049|\n",
      "| 10|         458|\n",
      "| 11|         506|\n",
      "| 12|        1176|\n",
      "| 13|         915|\n",
      "| 14|         395|\n",
      "| 15|         208|\n",
      "| 16|         548|\n",
      "| 17|         674|\n",
      "| 18|         557|\n",
      "| 19|         874|\n",
      "+---+------------+\n",
      "only showing top 20 rows\n",
      "\n"
     ]
    }
   ],
   "source": [
    "df.select(df.columns[:2]).show()"
   ]
  },
  {
   "cell_type": "code",
   "execution_count": 68,
   "id": "d01ccb3d",
   "metadata": {
    "ExecuteTime": {
     "end_time": "2023-03-08T22:23:38.370859Z",
     "start_time": "2023-03-08T22:23:38.358952Z"
    }
   },
   "outputs": [],
   "source": [
    "df = df.withColumnRenamed(\"_c0\", \"index\")"
   ]
  },
  {
   "cell_type": "code",
   "execution_count": 70,
   "id": "dd45ba67",
   "metadata": {
    "ExecuteTime": {
     "end_time": "2023-03-08T22:24:14.377985Z",
     "start_time": "2023-03-08T22:24:14.283130Z"
    }
   },
   "outputs": [
    {
     "name": "stdout",
     "output_type": "stream",
     "text": [
      "+-----+------------+--------------------+--------------------+----------------+\n",
      "|index|duration_sec|          start_time|            end_time|start_station_id|\n",
      "+-----+------------+--------------------+--------------------+----------------+\n",
      "|    0|       52185|2019-02-28 17:32:...|2019-03-01 08:01:...|            21.0|\n",
      "|    1|       42521|2019-02-28 18:53:...|2019-03-01 06:42:...|            23.0|\n",
      "|    2|       61854|2019-02-28 12:13:...|2019-03-01 05:24:...|            86.0|\n",
      "|    3|       36490|2019-02-28 17:54:...|2019-03-01 04:02:...|           375.0|\n",
      "|    4|        1585|2019-02-28 23:54:...|2019-03-01 00:20:...|             7.0|\n",
      "|    5|        1793|2019-02-28 23:49:...|2019-03-01 00:19:...|            93.0|\n",
      "|    6|        1147|2019-02-28 23:55:...|2019-03-01 00:14:...|           300.0|\n",
      "|    7|        1615|2019-02-28 23:41:...|2019-03-01 00:08:...|            10.0|\n",
      "|    8|        1570|2019-02-28 23:41:...|2019-03-01 00:07:...|            10.0|\n",
      "|    9|        1049|2019-02-28 23:49:...|2019-03-01 00:07:...|            19.0|\n",
      "|   10|         458|2019-02-28 23:57:...|2019-03-01 00:05:...|           370.0|\n",
      "|   11|         506|2019-02-28 23:56:...|2019-03-01 00:05:...|            44.0|\n",
      "|   12|        1176|2019-02-28 23:45:...|2019-03-01 00:04:...|           127.0|\n",
      "|   13|         915|2019-02-28 23:49:...|2019-03-01 00:04:...|           252.0|\n",
      "|   14|         395|2019-02-28 23:56:...|2019-03-01 00:03:...|           243.0|\n",
      "|   15|         208|2019-02-28 23:59:...|2019-03-01 00:02:...|           349.0|\n",
      "|   16|         548|2019-02-28 23:50:...|2019-02-28 23:59:...|           131.0|\n",
      "|   17|         674|2019-02-28 23:48:...|2019-02-28 23:59:...|            74.0|\n",
      "|   18|         557|2019-02-28 23:49:...|2019-02-28 23:58:...|           321.0|\n",
      "|   19|         874|2019-02-28 23:43:...|2019-02-28 23:57:...|           180.0|\n",
      "+-----+------------+--------------------+--------------------+----------------+\n",
      "only showing top 20 rows\n",
      "\n"
     ]
    }
   ],
   "source": [
    "df.select(df.columns[:5]).show()"
   ]
  },
  {
   "cell_type": "code",
   "execution_count": 80,
   "id": "cf8b00bd",
   "metadata": {
    "ExecuteTime": {
     "end_time": "2023-03-08T22:28:09.901839Z",
     "start_time": "2023-03-08T22:28:09.889612Z"
    }
   },
   "outputs": [],
   "source": [
    "df = df.withColumn(\"distance\", col(\"distance\").cast(\"float\"))"
   ]
  },
  {
   "cell_type": "markdown",
   "id": "5d54c725",
   "metadata": {},
   "source": [
    "# Calculate the total distance for each bike and list the top 10"
   ]
  },
  {
   "cell_type": "code",
   "execution_count": 82,
   "id": "5335fb85",
   "metadata": {
    "ExecuteTime": {
     "end_time": "2023-03-08T22:35:07.434013Z",
     "start_time": "2023-03-08T22:35:06.501100Z"
    }
   },
   "outputs": [
    {
     "name": "stdout",
     "output_type": "stream",
     "text": [
      "+-------+------------------+\n",
      "|bike_id|     sum(distance)|\n",
      "+-------+------------------+\n",
      "|   4814|331.18280985951424|\n",
      "|   4834|324.11771696805954|\n",
      "|   4794|321.91396340727806|\n",
      "|   5145|318.38095666468143|\n",
      "|   5014|314.82032037712634|\n",
      "|   4956| 313.2944630086422|\n",
      "|   4422|312.36364245414734|\n",
      "|   5351| 310.7782586524263|\n",
      "|   4742| 309.6173991262913|\n",
      "|   4778| 308.6100791990757|\n",
      "+-------+------------------+\n",
      "only showing top 10 rows\n",
      "\n"
     ]
    }
   ],
   "source": [
    "df.groupby('bike_id').agg({'distance':'sum'}).orderBy('sum(distance)', ascending = False).show(10)"
   ]
  },
  {
   "cell_type": "code",
   "execution_count": 101,
   "id": "53fe5f69",
   "metadata": {
    "ExecuteTime": {
     "end_time": "2023-03-08T22:54:43.338757Z",
     "start_time": "2023-03-08T22:54:43.305581Z"
    }
   },
   "outputs": [],
   "source": [
    "df.createOrReplaceTempView(\"df\")"
   ]
  },
  {
   "cell_type": "markdown",
   "id": "5323f078",
   "metadata": {},
   "source": [
    "# Calculate the number of trips for each start station list top 10 and find the ratio of using as male or female"
   ]
  },
  {
   "cell_type": "code",
   "execution_count": 336,
   "id": "ecfc7973",
   "metadata": {
    "ExecuteTime": {
     "end_time": "2023-03-09T00:26:12.320857Z",
     "start_time": "2023-03-09T00:26:11.562242Z"
    }
   },
   "outputs": [
    {
     "data": {
      "text/plain": [
       "[58.0, 67.0, 81.0, 21.0, 3.0, 15.0, 30.0, 5.0, 22.0, 16.0]"
      ]
     },
     "execution_count": 336,
     "metadata": {},
     "output_type": "execute_result"
    }
   ],
   "source": [
    "start_stations = []\n",
    "top_stations = spark.sql(\"SELECT start_station_id, COUNT(ALL start_station_id) FROM df GROUP BY start_station_id ORDER BY count(start_station_id) desc LIMIT 10\").collect()\n",
    "for i in top_stations:\n",
    "    start_stations.append(float(i[0]))\n",
    "start_stations"
   ]
  },
  {
   "cell_type": "code",
   "execution_count": 186,
   "id": "59792449",
   "metadata": {
    "ExecuteTime": {
     "end_time": "2023-03-08T23:35:47.598500Z",
     "start_time": "2023-03-08T23:35:47.478932Z"
    }
   },
   "outputs": [
    {
     "name": "stdout",
     "output_type": "stream",
     "text": [
      "<class 'pandas.core.frame.DataFrame'>\n",
      "RangeIndex: 183412 entries, 0 to 183411\n",
      "Data columns (total 17 columns):\n",
      " #   Column                   Non-Null Count   Dtype         \n",
      "---  ------                   --------------   -----         \n",
      " 0   duration_sec             183412 non-null  int64         \n",
      " 1   start_time               183412 non-null  datetime64[ns]\n",
      " 2   end_time                 183412 non-null  datetime64[ns]\n",
      " 3   start_station_id         183215 non-null  float64       \n",
      " 4   start_station_name       183215 non-null  object        \n",
      " 5   start_station_latitude   183412 non-null  float64       \n",
      " 6   start_station_longitude  183412 non-null  float64       \n",
      " 7   end_station_id           183215 non-null  float64       \n",
      " 8   end_station_name         183215 non-null  object        \n",
      " 9   end_station_latitude     183412 non-null  float64       \n",
      " 10  end_station_longitude    183412 non-null  float64       \n",
      " 11  bike_id                  183412 non-null  int64         \n",
      " 12  user_type                183412 non-null  object        \n",
      " 13  member_birth_year        175147 non-null  float64       \n",
      " 14  member_gender            175147 non-null  object        \n",
      " 15  bike_share_for_all_trip  183412 non-null  object        \n",
      " 16  distance                 183412 non-null  float64       \n",
      "dtypes: datetime64[ns](2), float64(8), int64(2), object(5)\n",
      "memory usage: 23.8+ MB\n"
     ]
    }
   ],
   "source": [
    "pDf.info()"
   ]
  },
  {
   "cell_type": "code",
   "execution_count": 324,
   "id": "dbe825ed",
   "metadata": {
    "ExecuteTime": {
     "end_time": "2023-03-09T00:23:33.795244Z",
     "start_time": "2023-03-09T00:23:33.774497Z"
    }
   },
   "outputs": [
    {
     "name": "stderr",
     "output_type": "stream",
     "text": [
      "C:\\Users\\mkaya\\AppData\\Local\\Temp\\ipykernel_15380\\4292331174.py:1: SettingWithCopyWarning: \n",
      "A value is trying to be set on a copy of a slice from a DataFrame\n",
      "\n",
      "See the caveats in the documentation: https://pandas.pydata.org/pandas-docs/stable/user_guide/indexing.html#returning-a-view-versus-a-copy\n",
      "  pDf['member_gender'][pDf[\"member_gender\"] == 'Male'] = 1\n"
     ]
    }
   ],
   "source": [
    "pDf['member_gender'][pDf[\"member_gender\"] == 'Male'] = 1"
   ]
  },
  {
   "cell_type": "code",
   "execution_count": 326,
   "id": "c1e7d61d",
   "metadata": {
    "ExecuteTime": {
     "end_time": "2023-03-09T00:23:50.550343Z",
     "start_time": "2023-03-09T00:23:50.528578Z"
    }
   },
   "outputs": [
    {
     "name": "stderr",
     "output_type": "stream",
     "text": [
      "C:\\Users\\mkaya\\AppData\\Local\\Temp\\ipykernel_15380\\2226487565.py:1: SettingWithCopyWarning: \n",
      "A value is trying to be set on a copy of a slice from a DataFrame\n",
      "\n",
      "See the caveats in the documentation: https://pandas.pydata.org/pandas-docs/stable/user_guide/indexing.html#returning-a-view-versus-a-copy\n",
      "  pDf['member_gender'][pDf['member_gender'] == 'Female'] = 0\n"
     ]
    }
   ],
   "source": [
    "pDf['member_gender'][pDf['member_gender'] == 'Female'] = 0"
   ]
  },
  {
   "cell_type": "code",
   "execution_count": 328,
   "id": "7e1f2d6c",
   "metadata": {
    "ExecuteTime": {
     "end_time": "2023-03-09T00:24:04.939888Z",
     "start_time": "2023-03-09T00:24:04.914269Z"
    },
    "scrolled": true
   },
   "outputs": [
    {
     "name": "stderr",
     "output_type": "stream",
     "text": [
      "C:\\Users\\mkaya\\AppData\\Local\\Temp\\ipykernel_15380\\893596964.py:1: SettingWithCopyWarning: \n",
      "A value is trying to be set on a copy of a slice from a DataFrame\n",
      "\n",
      "See the caveats in the documentation: https://pandas.pydata.org/pandas-docs/stable/user_guide/indexing.html#returning-a-view-versus-a-copy\n",
      "  pDf['member_gender'][(pDf['member_gender'] != 1) & (pDf['member_gender'] != 0)] = None\n"
     ]
    }
   ],
   "source": [
    "pDf['member_gender'][(pDf['member_gender'] != 1) & (pDf['member_gender'] != 0)] = None"
   ]
  },
  {
   "cell_type": "code",
   "execution_count": 329,
   "id": "365c0765",
   "metadata": {
    "ExecuteTime": {
     "end_time": "2023-03-09T00:24:05.714749Z",
     "start_time": "2023-03-09T00:24:05.697932Z"
    }
   },
   "outputs": [
    {
     "data": {
      "text/plain": [
       "array([1, None, 0], dtype=object)"
      ]
     },
     "execution_count": 329,
     "metadata": {},
     "output_type": "execute_result"
    }
   ],
   "source": [
    "pDf['member_gender'].unique()"
   ]
  },
  {
   "cell_type": "code",
   "execution_count": 333,
   "id": "a9cea83d",
   "metadata": {
    "ExecuteTime": {
     "end_time": "2023-03-09T00:24:47.719462Z",
     "start_time": "2023-03-09T00:24:47.695464Z"
    }
   },
   "outputs": [],
   "source": [
    "pDf['member_gender'] = pDf['member_gender'].astype('float64')"
   ]
  },
  {
   "cell_type": "code",
   "execution_count": 335,
   "id": "70162586",
   "metadata": {
    "ExecuteTime": {
     "end_time": "2023-03-09T00:25:00.603405Z",
     "start_time": "2023-03-09T00:25:00.503795Z"
    },
    "scrolled": false
   },
   "outputs": [
    {
     "name": "stdout",
     "output_type": "stream",
     "text": [
      "<class 'pandas.core.frame.DataFrame'>\n",
      "RangeIndex: 183412 entries, 0 to 183411\n",
      "Data columns (total 17 columns):\n",
      " #   Column                   Non-Null Count   Dtype         \n",
      "---  ------                   --------------   -----         \n",
      " 0   duration_sec             183412 non-null  int64         \n",
      " 1   start_time               183412 non-null  datetime64[ns]\n",
      " 2   end_time                 183412 non-null  datetime64[ns]\n",
      " 3   start_station_id         183215 non-null  float64       \n",
      " 4   start_station_name       183215 non-null  object        \n",
      " 5   start_station_latitude   183412 non-null  float64       \n",
      " 6   start_station_longitude  183412 non-null  float64       \n",
      " 7   end_station_id           183215 non-null  float64       \n",
      " 8   end_station_name         183215 non-null  object        \n",
      " 9   end_station_latitude     183412 non-null  float64       \n",
      " 10  end_station_longitude    183412 non-null  float64       \n",
      " 11  bike_id                  183412 non-null  int64         \n",
      " 12  user_type                183412 non-null  object        \n",
      " 13  member_birth_year        175147 non-null  float64       \n",
      " 14  member_gender            171495 non-null  float64       \n",
      " 15  bike_share_for_all_trip  183412 non-null  object        \n",
      " 16  distance                 183412 non-null  float64       \n",
      "dtypes: datetime64[ns](2), float64(9), int64(2), object(4)\n",
      "memory usage: 23.8+ MB\n"
     ]
    }
   ],
   "source": [
    "pDf.info()"
   ]
  },
  {
   "cell_type": "code",
   "execution_count": 497,
   "id": "99ea2f3b",
   "metadata": {
    "ExecuteTime": {
     "end_time": "2023-03-09T01:55:35.889922Z",
     "start_time": "2023-03-09T01:55:35.659357Z"
    }
   },
   "outputs": [
    {
     "data": {
      "text/html": [
       "<div>\n",
       "<style scoped>\n",
       "    .dataframe tbody tr th:only-of-type {\n",
       "        vertical-align: middle;\n",
       "    }\n",
       "\n",
       "    .dataframe tbody tr th {\n",
       "        vertical-align: top;\n",
       "    }\n",
       "\n",
       "    .dataframe thead th {\n",
       "        text-align: right;\n",
       "    }\n",
       "</style>\n",
       "<table border=\"1\" class=\"dataframe\">\n",
       "  <thead>\n",
       "    <tr style=\"text-align: right;\">\n",
       "      <th></th>\n",
       "      <th>duration_sec</th>\n",
       "      <th>start_time</th>\n",
       "      <th>end_time</th>\n",
       "      <th>start_station_name</th>\n",
       "      <th>start_station_latitude</th>\n",
       "      <th>start_station_longitude</th>\n",
       "      <th>end_station_id</th>\n",
       "      <th>end_station_name</th>\n",
       "      <th>end_station_latitude</th>\n",
       "      <th>end_station_longitude</th>\n",
       "      <th>bike_id</th>\n",
       "      <th>user_type</th>\n",
       "      <th>member_birth_year</th>\n",
       "      <th>member_gender</th>\n",
       "      <th>bike_share_for_all_trip</th>\n",
       "      <th>distance</th>\n",
       "      <th>member_age</th>\n",
       "      <th>male/female_ratio</th>\n",
       "    </tr>\n",
       "    <tr>\n",
       "      <th>start_station_id</th>\n",
       "      <th></th>\n",
       "      <th></th>\n",
       "      <th></th>\n",
       "      <th></th>\n",
       "      <th></th>\n",
       "      <th></th>\n",
       "      <th></th>\n",
       "      <th></th>\n",
       "      <th></th>\n",
       "      <th></th>\n",
       "      <th></th>\n",
       "      <th></th>\n",
       "      <th></th>\n",
       "      <th></th>\n",
       "      <th></th>\n",
       "      <th></th>\n",
       "      <th></th>\n",
       "      <th></th>\n",
       "    </tr>\n",
       "  </thead>\n",
       "  <tbody>\n",
       "    <tr>\n",
       "      <th>58.0</th>\n",
       "      <td>1066</td>\n",
       "      <td>2019-02-28 23:31:16.139</td>\n",
       "      <td>2019-02-28 23:49:02.792</td>\n",
       "      <td>Market St at 10th St</td>\n",
       "      <td>37.776619</td>\n",
       "      <td>-122.417385</td>\n",
       "      <td>145.0</td>\n",
       "      <td>29th St at Church St</td>\n",
       "      <td>37.743684</td>\n",
       "      <td>-122.426806</td>\n",
       "      <td>5938</td>\n",
       "      <td>Subscriber</td>\n",
       "      <td>1992.0</td>\n",
       "      <td>0.0</td>\n",
       "      <td>No</td>\n",
       "      <td>3.754696</td>\n",
       "      <td>31.0</td>\n",
       "      <td>3.082192</td>\n",
       "    </tr>\n",
       "    <tr>\n",
       "      <th>58.0</th>\n",
       "      <td>401</td>\n",
       "      <td>2019-02-28 23:30:52.471</td>\n",
       "      <td>2019-02-28 23:37:33.955</td>\n",
       "      <td>Market St at 10th St</td>\n",
       "      <td>37.776619</td>\n",
       "      <td>-122.417385</td>\n",
       "      <td>62.0</td>\n",
       "      <td>Victoria Manalo Draves Park</td>\n",
       "      <td>37.777791</td>\n",
       "      <td>-122.406432</td>\n",
       "      <td>5407</td>\n",
       "      <td>Subscriber</td>\n",
       "      <td>1990.0</td>\n",
       "      <td>0.0</td>\n",
       "      <td>No</td>\n",
       "      <td>0.971427</td>\n",
       "      <td>33.0</td>\n",
       "      <td>3.082192</td>\n",
       "    </tr>\n",
       "    <tr>\n",
       "      <th>58.0</th>\n",
       "      <td>371</td>\n",
       "      <td>2019-02-28 23:01:15.077</td>\n",
       "      <td>2019-02-28 23:07:26.459</td>\n",
       "      <td>Market St at 10th St</td>\n",
       "      <td>37.776619</td>\n",
       "      <td>-122.417385</td>\n",
       "      <td>98.0</td>\n",
       "      <td>Valencia St at 16th St</td>\n",
       "      <td>37.765052</td>\n",
       "      <td>-122.421866</td>\n",
       "      <td>6435</td>\n",
       "      <td>Subscriber</td>\n",
       "      <td>1994.0</td>\n",
       "      <td>1.0</td>\n",
       "      <td>No</td>\n",
       "      <td>1.345150</td>\n",
       "      <td>29.0</td>\n",
       "      <td>3.082192</td>\n",
       "    </tr>\n",
       "    <tr>\n",
       "      <th>58.0</th>\n",
       "      <td>376</td>\n",
       "      <td>2019-02-28 23:00:05.223</td>\n",
       "      <td>2019-02-28 23:06:21.515</td>\n",
       "      <td>Market St at 10th St</td>\n",
       "      <td>37.776619</td>\n",
       "      <td>-122.417385</td>\n",
       "      <td>21.0</td>\n",
       "      <td>Montgomery St BART Station (Market St at 2nd St)</td>\n",
       "      <td>37.789625</td>\n",
       "      <td>-122.400811</td>\n",
       "      <td>5731</td>\n",
       "      <td>Subscriber</td>\n",
       "      <td>1982.0</td>\n",
       "      <td>1.0</td>\n",
       "      <td>No</td>\n",
       "      <td>2.052599</td>\n",
       "      <td>41.0</td>\n",
       "      <td>3.082192</td>\n",
       "    </tr>\n",
       "    <tr>\n",
       "      <th>58.0</th>\n",
       "      <td>535</td>\n",
       "      <td>2019-02-28 21:57:24.567</td>\n",
       "      <td>2019-02-28 22:06:19.605</td>\n",
       "      <td>Market St at 10th St</td>\n",
       "      <td>37.776619</td>\n",
       "      <td>-122.417385</td>\n",
       "      <td>16.0</td>\n",
       "      <td>Steuart St at Market St</td>\n",
       "      <td>37.794130</td>\n",
       "      <td>-122.394430</td>\n",
       "      <td>5546</td>\n",
       "      <td>Subscriber</td>\n",
       "      <td>1986.0</td>\n",
       "      <td>1.0</td>\n",
       "      <td>No</td>\n",
       "      <td>2.803688</td>\n",
       "      <td>37.0</td>\n",
       "      <td>3.082192</td>\n",
       "    </tr>\n",
       "    <tr>\n",
       "      <th>...</th>\n",
       "      <td>...</td>\n",
       "      <td>...</td>\n",
       "      <td>...</td>\n",
       "      <td>...</td>\n",
       "      <td>...</td>\n",
       "      <td>...</td>\n",
       "      <td>...</td>\n",
       "      <td>...</td>\n",
       "      <td>...</td>\n",
       "      <td>...</td>\n",
       "      <td>...</td>\n",
       "      <td>...</td>\n",
       "      <td>...</td>\n",
       "      <td>...</td>\n",
       "      <td>...</td>\n",
       "      <td>...</td>\n",
       "      <td>...</td>\n",
       "      <td>...</td>\n",
       "    </tr>\n",
       "    <tr>\n",
       "      <th>16.0</th>\n",
       "      <td>285</td>\n",
       "      <td>2019-02-01 07:11:58.693</td>\n",
       "      <td>2019-02-01 07:16:44.367</td>\n",
       "      <td>Steuart St at Market St</td>\n",
       "      <td>37.794130</td>\n",
       "      <td>-122.394430</td>\n",
       "      <td>37.0</td>\n",
       "      <td>2nd St at Folsom St</td>\n",
       "      <td>37.785000</td>\n",
       "      <td>-122.395936</td>\n",
       "      <td>5237</td>\n",
       "      <td>Subscriber</td>\n",
       "      <td>1968.0</td>\n",
       "      <td>1.0</td>\n",
       "      <td>No</td>\n",
       "      <td>1.023826</td>\n",
       "      <td>55.0</td>\n",
       "      <td>3.063670</td>\n",
       "    </tr>\n",
       "    <tr>\n",
       "      <th>16.0</th>\n",
       "      <td>796</td>\n",
       "      <td>2019-02-01 06:37:00.298</td>\n",
       "      <td>2019-02-01 06:50:16.660</td>\n",
       "      <td>Steuart St at Market St</td>\n",
       "      <td>37.794130</td>\n",
       "      <td>-122.394430</td>\n",
       "      <td>104.0</td>\n",
       "      <td>4th St at 16th St</td>\n",
       "      <td>37.767045</td>\n",
       "      <td>-122.390833</td>\n",
       "      <td>4801</td>\n",
       "      <td>Subscriber</td>\n",
       "      <td>1970.0</td>\n",
       "      <td>0.0</td>\n",
       "      <td>No</td>\n",
       "      <td>3.028306</td>\n",
       "      <td>53.0</td>\n",
       "      <td>3.063670</td>\n",
       "    </tr>\n",
       "    <tr>\n",
       "      <th>16.0</th>\n",
       "      <td>494</td>\n",
       "      <td>2019-02-01 06:14:23.619</td>\n",
       "      <td>2019-02-01 06:22:38.226</td>\n",
       "      <td>Steuart St at Market St</td>\n",
       "      <td>37.794130</td>\n",
       "      <td>-122.394430</td>\n",
       "      <td>364.0</td>\n",
       "      <td>China Basin St at 3rd St</td>\n",
       "      <td>37.772000</td>\n",
       "      <td>-122.389970</td>\n",
       "      <td>4936</td>\n",
       "      <td>Subscriber</td>\n",
       "      <td>1982.0</td>\n",
       "      <td>1.0</td>\n",
       "      <td>No</td>\n",
       "      <td>2.491814</td>\n",
       "      <td>41.0</td>\n",
       "      <td>3.063670</td>\n",
       "    </tr>\n",
       "    <tr>\n",
       "      <th>16.0</th>\n",
       "      <td>282</td>\n",
       "      <td>2019-02-01 06:17:48.668</td>\n",
       "      <td>2019-02-01 06:22:31.384</td>\n",
       "      <td>Steuart St at Market St</td>\n",
       "      <td>37.794130</td>\n",
       "      <td>-122.394430</td>\n",
       "      <td>6.0</td>\n",
       "      <td>The Embarcadero at Sansome St</td>\n",
       "      <td>37.804770</td>\n",
       "      <td>-122.403234</td>\n",
       "      <td>5029</td>\n",
       "      <td>Subscriber</td>\n",
       "      <td>1988.0</td>\n",
       "      <td>1.0</td>\n",
       "      <td>No</td>\n",
       "      <td>1.413550</td>\n",
       "      <td>35.0</td>\n",
       "      <td>3.063670</td>\n",
       "    </tr>\n",
       "    <tr>\n",
       "      <th>16.0</th>\n",
       "      <td>351</td>\n",
       "      <td>2019-02-01 01:31:11.231</td>\n",
       "      <td>2019-02-01 01:37:02.626</td>\n",
       "      <td>Steuart St at Market St</td>\n",
       "      <td>37.794130</td>\n",
       "      <td>-122.394430</td>\n",
       "      <td>10.0</td>\n",
       "      <td>Washington St at Kearny St</td>\n",
       "      <td>37.795393</td>\n",
       "      <td>-122.404770</td>\n",
       "      <td>1106</td>\n",
       "      <td>Subscriber</td>\n",
       "      <td>1982.0</td>\n",
       "      <td>0.0</td>\n",
       "      <td>Yes</td>\n",
       "      <td>0.919362</td>\n",
       "      <td>41.0</td>\n",
       "      <td>3.063670</td>\n",
       "    </tr>\n",
       "  </tbody>\n",
       "</table>\n",
       "<p>26560 rows × 18 columns</p>\n",
       "</div>"
      ],
      "text/plain": [
       "                  duration_sec              start_time  \\\n",
       "start_station_id                                         \n",
       "58.0                      1066 2019-02-28 23:31:16.139   \n",
       "58.0                       401 2019-02-28 23:30:52.471   \n",
       "58.0                       371 2019-02-28 23:01:15.077   \n",
       "58.0                       376 2019-02-28 23:00:05.223   \n",
       "58.0                       535 2019-02-28 21:57:24.567   \n",
       "...                        ...                     ...   \n",
       "16.0                       285 2019-02-01 07:11:58.693   \n",
       "16.0                       796 2019-02-01 06:37:00.298   \n",
       "16.0                       494 2019-02-01 06:14:23.619   \n",
       "16.0                       282 2019-02-01 06:17:48.668   \n",
       "16.0                       351 2019-02-01 01:31:11.231   \n",
       "\n",
       "                                end_time       start_station_name  \\\n",
       "start_station_id                                                    \n",
       "58.0             2019-02-28 23:49:02.792     Market St at 10th St   \n",
       "58.0             2019-02-28 23:37:33.955     Market St at 10th St   \n",
       "58.0             2019-02-28 23:07:26.459     Market St at 10th St   \n",
       "58.0             2019-02-28 23:06:21.515     Market St at 10th St   \n",
       "58.0             2019-02-28 22:06:19.605     Market St at 10th St   \n",
       "...                                  ...                      ...   \n",
       "16.0             2019-02-01 07:16:44.367  Steuart St at Market St   \n",
       "16.0             2019-02-01 06:50:16.660  Steuart St at Market St   \n",
       "16.0             2019-02-01 06:22:38.226  Steuart St at Market St   \n",
       "16.0             2019-02-01 06:22:31.384  Steuart St at Market St   \n",
       "16.0             2019-02-01 01:37:02.626  Steuart St at Market St   \n",
       "\n",
       "                  start_station_latitude  start_station_longitude  \\\n",
       "start_station_id                                                    \n",
       "58.0                           37.776619              -122.417385   \n",
       "58.0                           37.776619              -122.417385   \n",
       "58.0                           37.776619              -122.417385   \n",
       "58.0                           37.776619              -122.417385   \n",
       "58.0                           37.776619              -122.417385   \n",
       "...                                  ...                      ...   \n",
       "16.0                           37.794130              -122.394430   \n",
       "16.0                           37.794130              -122.394430   \n",
       "16.0                           37.794130              -122.394430   \n",
       "16.0                           37.794130              -122.394430   \n",
       "16.0                           37.794130              -122.394430   \n",
       "\n",
       "                  end_station_id  \\\n",
       "start_station_id                   \n",
       "58.0                       145.0   \n",
       "58.0                        62.0   \n",
       "58.0                        98.0   \n",
       "58.0                        21.0   \n",
       "58.0                        16.0   \n",
       "...                          ...   \n",
       "16.0                        37.0   \n",
       "16.0                       104.0   \n",
       "16.0                       364.0   \n",
       "16.0                         6.0   \n",
       "16.0                        10.0   \n",
       "\n",
       "                                                  end_station_name  \\\n",
       "start_station_id                                                     \n",
       "58.0                                          29th St at Church St   \n",
       "58.0                                   Victoria Manalo Draves Park   \n",
       "58.0                                        Valencia St at 16th St   \n",
       "58.0              Montgomery St BART Station (Market St at 2nd St)   \n",
       "58.0                                       Steuart St at Market St   \n",
       "...                                                            ...   \n",
       "16.0                                           2nd St at Folsom St   \n",
       "16.0                                             4th St at 16th St   \n",
       "16.0                                      China Basin St at 3rd St   \n",
       "16.0                                 The Embarcadero at Sansome St   \n",
       "16.0                                    Washington St at Kearny St   \n",
       "\n",
       "                  end_station_latitude  end_station_longitude  bike_id  \\\n",
       "start_station_id                                                         \n",
       "58.0                         37.743684            -122.426806     5938   \n",
       "58.0                         37.777791            -122.406432     5407   \n",
       "58.0                         37.765052            -122.421866     6435   \n",
       "58.0                         37.789625            -122.400811     5731   \n",
       "58.0                         37.794130            -122.394430     5546   \n",
       "...                                ...                    ...      ...   \n",
       "16.0                         37.785000            -122.395936     5237   \n",
       "16.0                         37.767045            -122.390833     4801   \n",
       "16.0                         37.772000            -122.389970     4936   \n",
       "16.0                         37.804770            -122.403234     5029   \n",
       "16.0                         37.795393            -122.404770     1106   \n",
       "\n",
       "                   user_type  member_birth_year  member_gender  \\\n",
       "start_station_id                                                 \n",
       "58.0              Subscriber             1992.0            0.0   \n",
       "58.0              Subscriber             1990.0            0.0   \n",
       "58.0              Subscriber             1994.0            1.0   \n",
       "58.0              Subscriber             1982.0            1.0   \n",
       "58.0              Subscriber             1986.0            1.0   \n",
       "...                      ...                ...            ...   \n",
       "16.0              Subscriber             1968.0            1.0   \n",
       "16.0              Subscriber             1970.0            0.0   \n",
       "16.0              Subscriber             1982.0            1.0   \n",
       "16.0              Subscriber             1988.0            1.0   \n",
       "16.0              Subscriber             1982.0            0.0   \n",
       "\n",
       "                 bike_share_for_all_trip  distance  member_age  \\\n",
       "start_station_id                                                 \n",
       "58.0                                  No  3.754696        31.0   \n",
       "58.0                                  No  0.971427        33.0   \n",
       "58.0                                  No  1.345150        29.0   \n",
       "58.0                                  No  2.052599        41.0   \n",
       "58.0                                  No  2.803688        37.0   \n",
       "...                                  ...       ...         ...   \n",
       "16.0                                  No  1.023826        55.0   \n",
       "16.0                                  No  3.028306        53.0   \n",
       "16.0                                  No  2.491814        41.0   \n",
       "16.0                                  No  1.413550        35.0   \n",
       "16.0                                 Yes  0.919362        41.0   \n",
       "\n",
       "                  male/female_ratio  \n",
       "start_station_id                     \n",
       "58.0                       3.082192  \n",
       "58.0                       3.082192  \n",
       "58.0                       3.082192  \n",
       "58.0                       3.082192  \n",
       "58.0                       3.082192  \n",
       "...                             ...  \n",
       "16.0                       3.063670  \n",
       "16.0                       3.063670  \n",
       "16.0                       3.063670  \n",
       "16.0                       3.063670  \n",
       "16.0                       3.063670  \n",
       "\n",
       "[26560 rows x 18 columns]"
      ]
     },
     "execution_count": 497,
     "metadata": {},
     "output_type": "execute_result"
    }
   ],
   "source": [
    "top_trips = pDf.set_index('start_station_id').loc[start_stations]\n",
    "top_trips.dropna(how='any', axis=0, inplace=True)\n",
    "top_trips['male/female_ratio'] = pDf.set_index('start_station_id').loc[start_stations].groupby('start_station_id').sum()['member_gender'] / (pDf.set_index('start_station_id').loc[start_stations].groupby('start_station_id').count()['member_gender'] - pDf.set_index('start_station_id').loc[start_stations].groupby('start_station_id').sum()['member_gender'])\n",
    "top_trips"
   ]
  },
  {
   "cell_type": "code",
   "execution_count": 378,
   "id": "89011727",
   "metadata": {
    "ExecuteTime": {
     "end_time": "2023-03-09T00:43:22.054779Z",
     "start_time": "2023-03-09T00:43:22.043785Z"
    }
   },
   "outputs": [
    {
     "data": {
      "text/plain": [
       "0.7550335570469798"
      ]
     },
     "execution_count": 378,
     "metadata": {},
     "output_type": "execute_result"
    }
   ],
   "source": [
    "2700/3576"
   ]
  },
  {
   "cell_type": "markdown",
   "id": "45abe5a1",
   "metadata": {},
   "source": [
    "# Make a comparison to find the percentage of usage for customer and subscriber"
   ]
  },
  {
   "cell_type": "code",
   "execution_count": 398,
   "id": "9d02faae",
   "metadata": {
    "ExecuteTime": {
     "end_time": "2023-03-09T00:56:01.793878Z",
     "start_time": "2023-03-09T00:56:01.738371Z"
    }
   },
   "outputs": [
    {
     "data": {
      "text/plain": [
       "0.1214841265959008"
      ]
     },
     "execution_count": 398,
     "metadata": {},
     "output_type": "execute_result"
    }
   ],
   "source": [
    "pDf['user_type'][pDf['user_type'] == 'Customer'].count() / pDf['user_type'][pDf['user_type'] == 'Subscriber'].count()"
   ]
  },
  {
   "cell_type": "markdown",
   "id": "47eb5bd4",
   "metadata": {},
   "source": [
    "# Calculate the age of all users and show the relation between the distance and the age"
   ]
  },
  {
   "cell_type": "code",
   "execution_count": 427,
   "id": "72a7644c",
   "metadata": {
    "ExecuteTime": {
     "end_time": "2023-03-09T01:11:36.232294Z",
     "start_time": "2023-03-09T01:11:36.208459Z"
    }
   },
   "outputs": [
    {
     "data": {
      "text/html": [
       "<div>\n",
       "<style scoped>\n",
       "    .dataframe tbody tr th:only-of-type {\n",
       "        vertical-align: middle;\n",
       "    }\n",
       "\n",
       "    .dataframe tbody tr th {\n",
       "        vertical-align: top;\n",
       "    }\n",
       "\n",
       "    .dataframe thead th {\n",
       "        text-align: right;\n",
       "    }\n",
       "</style>\n",
       "<table border=\"1\" class=\"dataframe\">\n",
       "  <thead>\n",
       "    <tr style=\"text-align: right;\">\n",
       "      <th></th>\n",
       "      <th>duration_sec</th>\n",
       "      <th>start_time</th>\n",
       "      <th>end_time</th>\n",
       "      <th>start_station_id</th>\n",
       "      <th>start_station_name</th>\n",
       "      <th>start_station_latitude</th>\n",
       "      <th>start_station_longitude</th>\n",
       "      <th>end_station_id</th>\n",
       "      <th>end_station_name</th>\n",
       "      <th>end_station_latitude</th>\n",
       "      <th>end_station_longitude</th>\n",
       "      <th>bike_id</th>\n",
       "      <th>user_type</th>\n",
       "      <th>member_birth_year</th>\n",
       "      <th>member_gender</th>\n",
       "      <th>bike_share_for_all_trip</th>\n",
       "      <th>distance</th>\n",
       "      <th>member_age</th>\n",
       "    </tr>\n",
       "  </thead>\n",
       "  <tbody>\n",
       "    <tr>\n",
       "      <th>0</th>\n",
       "      <td>52185</td>\n",
       "      <td>2019-02-28 17:32:10.145</td>\n",
       "      <td>2019-03-01 08:01:55.975</td>\n",
       "      <td>21.0</td>\n",
       "      <td>Montgomery St BART Station (Market St at 2nd St)</td>\n",
       "      <td>37.789625</td>\n",
       "      <td>-122.400811</td>\n",
       "      <td>13.0</td>\n",
       "      <td>Commercial St at Montgomery St</td>\n",
       "      <td>37.794231</td>\n",
       "      <td>-122.402923</td>\n",
       "      <td>4902</td>\n",
       "      <td>Customer</td>\n",
       "      <td>1984.0</td>\n",
       "      <td>1.0</td>\n",
       "      <td>No</td>\n",
       "      <td>0.544709</td>\n",
       "      <td>39.0</td>\n",
       "    </tr>\n",
       "    <tr>\n",
       "      <th>1</th>\n",
       "      <td>42521</td>\n",
       "      <td>2019-02-28 18:53:21.789</td>\n",
       "      <td>2019-03-01 06:42:03.056</td>\n",
       "      <td>23.0</td>\n",
       "      <td>The Embarcadero at Steuart St</td>\n",
       "      <td>37.791464</td>\n",
       "      <td>-122.391034</td>\n",
       "      <td>81.0</td>\n",
       "      <td>Berry St at 4th St</td>\n",
       "      <td>37.775880</td>\n",
       "      <td>-122.393170</td>\n",
       "      <td>2535</td>\n",
       "      <td>Customer</td>\n",
       "      <td>NaN</td>\n",
       "      <td>NaN</td>\n",
       "      <td>No</td>\n",
       "      <td>1.743002</td>\n",
       "      <td>NaN</td>\n",
       "    </tr>\n",
       "    <tr>\n",
       "      <th>2</th>\n",
       "      <td>61854</td>\n",
       "      <td>2019-02-28 12:13:13.218</td>\n",
       "      <td>2019-03-01 05:24:08.146</td>\n",
       "      <td>86.0</td>\n",
       "      <td>Market St at Dolores St</td>\n",
       "      <td>37.769305</td>\n",
       "      <td>-122.426826</td>\n",
       "      <td>3.0</td>\n",
       "      <td>Powell St BART Station (Market St at 4th St)</td>\n",
       "      <td>37.786375</td>\n",
       "      <td>-122.404904</td>\n",
       "      <td>5905</td>\n",
       "      <td>Customer</td>\n",
       "      <td>1972.0</td>\n",
       "      <td>1.0</td>\n",
       "      <td>No</td>\n",
       "      <td>2.704549</td>\n",
       "      <td>51.0</td>\n",
       "    </tr>\n",
       "    <tr>\n",
       "      <th>3</th>\n",
       "      <td>36490</td>\n",
       "      <td>2019-02-28 17:54:26.010</td>\n",
       "      <td>2019-03-01 04:02:36.842</td>\n",
       "      <td>375.0</td>\n",
       "      <td>Grove St at Masonic Ave</td>\n",
       "      <td>37.774836</td>\n",
       "      <td>-122.446546</td>\n",
       "      <td>70.0</td>\n",
       "      <td>Central Ave at Fell St</td>\n",
       "      <td>37.773311</td>\n",
       "      <td>-122.444293</td>\n",
       "      <td>6638</td>\n",
       "      <td>Subscriber</td>\n",
       "      <td>1989.0</td>\n",
       "      <td>NaN</td>\n",
       "      <td>No</td>\n",
       "      <td>0.260739</td>\n",
       "      <td>34.0</td>\n",
       "    </tr>\n",
       "    <tr>\n",
       "      <th>4</th>\n",
       "      <td>1585</td>\n",
       "      <td>2019-02-28 23:54:18.549</td>\n",
       "      <td>2019-03-01 00:20:44.074</td>\n",
       "      <td>7.0</td>\n",
       "      <td>Frank H Ogawa Plaza</td>\n",
       "      <td>37.804562</td>\n",
       "      <td>-122.271738</td>\n",
       "      <td>222.0</td>\n",
       "      <td>10th Ave at E 15th St</td>\n",
       "      <td>37.792714</td>\n",
       "      <td>-122.248780</td>\n",
       "      <td>4898</td>\n",
       "      <td>Subscriber</td>\n",
       "      <td>1974.0</td>\n",
       "      <td>1.0</td>\n",
       "      <td>Yes</td>\n",
       "      <td>2.409305</td>\n",
       "      <td>49.0</td>\n",
       "    </tr>\n",
       "  </tbody>\n",
       "</table>\n",
       "</div>"
      ],
      "text/plain": [
       "   duration_sec              start_time                end_time  \\\n",
       "0         52185 2019-02-28 17:32:10.145 2019-03-01 08:01:55.975   \n",
       "1         42521 2019-02-28 18:53:21.789 2019-03-01 06:42:03.056   \n",
       "2         61854 2019-02-28 12:13:13.218 2019-03-01 05:24:08.146   \n",
       "3         36490 2019-02-28 17:54:26.010 2019-03-01 04:02:36.842   \n",
       "4          1585 2019-02-28 23:54:18.549 2019-03-01 00:20:44.074   \n",
       "\n",
       "   start_station_id                                start_station_name  \\\n",
       "0              21.0  Montgomery St BART Station (Market St at 2nd St)   \n",
       "1              23.0                     The Embarcadero at Steuart St   \n",
       "2              86.0                           Market St at Dolores St   \n",
       "3             375.0                           Grove St at Masonic Ave   \n",
       "4               7.0                               Frank H Ogawa Plaza   \n",
       "\n",
       "   start_station_latitude  start_station_longitude  end_station_id  \\\n",
       "0               37.789625              -122.400811            13.0   \n",
       "1               37.791464              -122.391034            81.0   \n",
       "2               37.769305              -122.426826             3.0   \n",
       "3               37.774836              -122.446546            70.0   \n",
       "4               37.804562              -122.271738           222.0   \n",
       "\n",
       "                               end_station_name  end_station_latitude  \\\n",
       "0                Commercial St at Montgomery St             37.794231   \n",
       "1                            Berry St at 4th St             37.775880   \n",
       "2  Powell St BART Station (Market St at 4th St)             37.786375   \n",
       "3                        Central Ave at Fell St             37.773311   \n",
       "4                         10th Ave at E 15th St             37.792714   \n",
       "\n",
       "   end_station_longitude  bike_id   user_type  member_birth_year  \\\n",
       "0            -122.402923     4902    Customer             1984.0   \n",
       "1            -122.393170     2535    Customer                NaN   \n",
       "2            -122.404904     5905    Customer             1972.0   \n",
       "3            -122.444293     6638  Subscriber             1989.0   \n",
       "4            -122.248780     4898  Subscriber             1974.0   \n",
       "\n",
       "   member_gender bike_share_for_all_trip  distance  member_age  \n",
       "0            1.0                      No  0.544709        39.0  \n",
       "1            NaN                      No  1.743002         NaN  \n",
       "2            1.0                      No  2.704549        51.0  \n",
       "3            NaN                      No  0.260739        34.0  \n",
       "4            1.0                     Yes  2.409305        49.0  "
      ]
     },
     "execution_count": 427,
     "metadata": {},
     "output_type": "execute_result"
    }
   ],
   "source": [
    "pDf.head()"
   ]
  },
  {
   "cell_type": "code",
   "execution_count": 417,
   "id": "d71424d6",
   "metadata": {
    "ExecuteTime": {
     "end_time": "2023-03-09T01:06:11.576088Z",
     "start_time": "2023-03-09T01:06:11.566091Z"
    }
   },
   "outputs": [],
   "source": [
    "this_year = int(pd.to_datetime('today').strftime('%Y'))\n",
    "pDf['member_age'] = this_year - pDf['member_birth_year']"
   ]
  },
  {
   "cell_type": "code",
   "execution_count": 418,
   "id": "e29df2f5",
   "metadata": {
    "ExecuteTime": {
     "end_time": "2023-03-09T01:06:12.579658Z",
     "start_time": "2023-03-09T01:06:12.478931Z"
    }
   },
   "outputs": [
    {
     "data": {
      "text/html": [
       "<div>\n",
       "<style scoped>\n",
       "    .dataframe tbody tr th:only-of-type {\n",
       "        vertical-align: middle;\n",
       "    }\n",
       "\n",
       "    .dataframe tbody tr th {\n",
       "        vertical-align: top;\n",
       "    }\n",
       "\n",
       "    .dataframe thead th {\n",
       "        text-align: right;\n",
       "    }\n",
       "</style>\n",
       "<table border=\"1\" class=\"dataframe\">\n",
       "  <thead>\n",
       "    <tr style=\"text-align: right;\">\n",
       "      <th></th>\n",
       "      <th>duration_sec</th>\n",
       "      <th>start_station_id</th>\n",
       "      <th>start_station_latitude</th>\n",
       "      <th>start_station_longitude</th>\n",
       "      <th>end_station_id</th>\n",
       "      <th>end_station_latitude</th>\n",
       "      <th>end_station_longitude</th>\n",
       "      <th>bike_id</th>\n",
       "      <th>member_birth_year</th>\n",
       "      <th>member_gender</th>\n",
       "      <th>distance</th>\n",
       "      <th>member_age</th>\n",
       "    </tr>\n",
       "  </thead>\n",
       "  <tbody>\n",
       "    <tr>\n",
       "      <th>count</th>\n",
       "      <td>183412.000000</td>\n",
       "      <td>183215.000000</td>\n",
       "      <td>183412.000000</td>\n",
       "      <td>183412.000000</td>\n",
       "      <td>183215.000000</td>\n",
       "      <td>183412.000000</td>\n",
       "      <td>183412.000000</td>\n",
       "      <td>183412.000000</td>\n",
       "      <td>175147.000000</td>\n",
       "      <td>171495.000000</td>\n",
       "      <td>183412.000000</td>\n",
       "      <td>175147.000000</td>\n",
       "    </tr>\n",
       "    <tr>\n",
       "      <th>mean</th>\n",
       "      <td>726.078435</td>\n",
       "      <td>138.590427</td>\n",
       "      <td>37.771223</td>\n",
       "      <td>-122.352664</td>\n",
       "      <td>136.249123</td>\n",
       "      <td>37.771427</td>\n",
       "      <td>-122.352250</td>\n",
       "      <td>4472.906375</td>\n",
       "      <td>1984.806437</td>\n",
       "      <td>0.761836</td>\n",
       "      <td>1.690661</td>\n",
       "      <td>38.193563</td>\n",
       "    </tr>\n",
       "    <tr>\n",
       "      <th>std</th>\n",
       "      <td>1794.389780</td>\n",
       "      <td>111.778864</td>\n",
       "      <td>0.099581</td>\n",
       "      <td>0.117097</td>\n",
       "      <td>111.515131</td>\n",
       "      <td>0.099490</td>\n",
       "      <td>0.116673</td>\n",
       "      <td>1664.383394</td>\n",
       "      <td>10.116689</td>\n",
       "      <td>0.425961</td>\n",
       "      <td>1.097591</td>\n",
       "      <td>10.116689</td>\n",
       "    </tr>\n",
       "    <tr>\n",
       "      <th>min</th>\n",
       "      <td>61.000000</td>\n",
       "      <td>3.000000</td>\n",
       "      <td>37.317298</td>\n",
       "      <td>-122.453704</td>\n",
       "      <td>3.000000</td>\n",
       "      <td>37.317298</td>\n",
       "      <td>-122.453704</td>\n",
       "      <td>11.000000</td>\n",
       "      <td>1878.000000</td>\n",
       "      <td>0.000000</td>\n",
       "      <td>0.000000</td>\n",
       "      <td>22.000000</td>\n",
       "    </tr>\n",
       "    <tr>\n",
       "      <th>25%</th>\n",
       "      <td>325.000000</td>\n",
       "      <td>47.000000</td>\n",
       "      <td>37.770083</td>\n",
       "      <td>-122.412408</td>\n",
       "      <td>44.000000</td>\n",
       "      <td>37.770407</td>\n",
       "      <td>-122.411726</td>\n",
       "      <td>3777.000000</td>\n",
       "      <td>1980.000000</td>\n",
       "      <td>1.000000</td>\n",
       "      <td>0.910957</td>\n",
       "      <td>31.000000</td>\n",
       "    </tr>\n",
       "    <tr>\n",
       "      <th>50%</th>\n",
       "      <td>514.000000</td>\n",
       "      <td>104.000000</td>\n",
       "      <td>37.780760</td>\n",
       "      <td>-122.398285</td>\n",
       "      <td>100.000000</td>\n",
       "      <td>37.781010</td>\n",
       "      <td>-122.398279</td>\n",
       "      <td>4958.000000</td>\n",
       "      <td>1987.000000</td>\n",
       "      <td>1.000000</td>\n",
       "      <td>1.430740</td>\n",
       "      <td>36.000000</td>\n",
       "    </tr>\n",
       "    <tr>\n",
       "      <th>75%</th>\n",
       "      <td>796.000000</td>\n",
       "      <td>239.000000</td>\n",
       "      <td>37.797280</td>\n",
       "      <td>-122.286533</td>\n",
       "      <td>235.000000</td>\n",
       "      <td>37.797320</td>\n",
       "      <td>-122.288045</td>\n",
       "      <td>5502.000000</td>\n",
       "      <td>1992.000000</td>\n",
       "      <td>1.000000</td>\n",
       "      <td>2.225690</td>\n",
       "      <td>43.000000</td>\n",
       "    </tr>\n",
       "    <tr>\n",
       "      <th>max</th>\n",
       "      <td>85444.000000</td>\n",
       "      <td>398.000000</td>\n",
       "      <td>37.880222</td>\n",
       "      <td>-121.874119</td>\n",
       "      <td>398.000000</td>\n",
       "      <td>37.880222</td>\n",
       "      <td>-121.874119</td>\n",
       "      <td>6645.000000</td>\n",
       "      <td>2001.000000</td>\n",
       "      <td>1.000000</td>\n",
       "      <td>69.469337</td>\n",
       "      <td>145.000000</td>\n",
       "    </tr>\n",
       "  </tbody>\n",
       "</table>\n",
       "</div>"
      ],
      "text/plain": [
       "        duration_sec  start_station_id  start_station_latitude  \\\n",
       "count  183412.000000     183215.000000           183412.000000   \n",
       "mean      726.078435        138.590427               37.771223   \n",
       "std      1794.389780        111.778864                0.099581   \n",
       "min        61.000000          3.000000               37.317298   \n",
       "25%       325.000000         47.000000               37.770083   \n",
       "50%       514.000000        104.000000               37.780760   \n",
       "75%       796.000000        239.000000               37.797280   \n",
       "max     85444.000000        398.000000               37.880222   \n",
       "\n",
       "       start_station_longitude  end_station_id  end_station_latitude  \\\n",
       "count            183412.000000   183215.000000         183412.000000   \n",
       "mean               -122.352664      136.249123             37.771427   \n",
       "std                   0.117097      111.515131              0.099490   \n",
       "min                -122.453704        3.000000             37.317298   \n",
       "25%                -122.412408       44.000000             37.770407   \n",
       "50%                -122.398285      100.000000             37.781010   \n",
       "75%                -122.286533      235.000000             37.797320   \n",
       "max                -121.874119      398.000000             37.880222   \n",
       "\n",
       "       end_station_longitude        bike_id  member_birth_year  member_gender  \\\n",
       "count          183412.000000  183412.000000      175147.000000  171495.000000   \n",
       "mean             -122.352250    4472.906375        1984.806437       0.761836   \n",
       "std                 0.116673    1664.383394          10.116689       0.425961   \n",
       "min              -122.453704      11.000000        1878.000000       0.000000   \n",
       "25%              -122.411726    3777.000000        1980.000000       1.000000   \n",
       "50%              -122.398279    4958.000000        1987.000000       1.000000   \n",
       "75%              -122.288045    5502.000000        1992.000000       1.000000   \n",
       "max              -121.874119    6645.000000        2001.000000       1.000000   \n",
       "\n",
       "            distance     member_age  \n",
       "count  183412.000000  175147.000000  \n",
       "mean        1.690661      38.193563  \n",
       "std         1.097591      10.116689  \n",
       "min         0.000000      22.000000  \n",
       "25%         0.910957      31.000000  \n",
       "50%         1.430740      36.000000  \n",
       "75%         2.225690      43.000000  \n",
       "max        69.469337     145.000000  "
      ]
     },
     "execution_count": 418,
     "metadata": {},
     "output_type": "execute_result"
    }
   ],
   "source": [
    "pDf.describe()"
   ]
  },
  {
   "cell_type": "code",
   "execution_count": 419,
   "id": "308c3379",
   "metadata": {
    "ExecuteTime": {
     "end_time": "2023-03-09T01:06:23.162363Z",
     "start_time": "2023-03-09T01:06:23.080351Z"
    }
   },
   "outputs": [
    {
     "data": {
      "text/html": [
       "<div>\n",
       "<style scoped>\n",
       "    .dataframe tbody tr th:only-of-type {\n",
       "        vertical-align: middle;\n",
       "    }\n",
       "\n",
       "    .dataframe tbody tr th {\n",
       "        vertical-align: top;\n",
       "    }\n",
       "\n",
       "    .dataframe thead th {\n",
       "        text-align: right;\n",
       "    }\n",
       "</style>\n",
       "<table border=\"1\" class=\"dataframe\">\n",
       "  <thead>\n",
       "    <tr style=\"text-align: right;\">\n",
       "      <th></th>\n",
       "      <th>duration_sec</th>\n",
       "      <th>start_station_id</th>\n",
       "      <th>start_station_latitude</th>\n",
       "      <th>start_station_longitude</th>\n",
       "      <th>end_station_id</th>\n",
       "      <th>end_station_latitude</th>\n",
       "      <th>end_station_longitude</th>\n",
       "      <th>bike_id</th>\n",
       "      <th>member_birth_year</th>\n",
       "      <th>member_gender</th>\n",
       "      <th>distance</th>\n",
       "      <th>member_age</th>\n",
       "    </tr>\n",
       "  </thead>\n",
       "  <tbody>\n",
       "    <tr>\n",
       "      <th>count</th>\n",
       "      <td>67537.000000</td>\n",
       "      <td>67485.000000</td>\n",
       "      <td>67537.000000</td>\n",
       "      <td>67537.000000</td>\n",
       "      <td>67485.000000</td>\n",
       "      <td>67537.000000</td>\n",
       "      <td>67537.000000</td>\n",
       "      <td>67537.000000</td>\n",
       "      <td>67537.000000</td>\n",
       "      <td>65755.000000</td>\n",
       "      <td>67537.000000</td>\n",
       "      <td>67537.000000</td>\n",
       "    </tr>\n",
       "    <tr>\n",
       "      <th>mean</th>\n",
       "      <td>708.796053</td>\n",
       "      <td>125.374350</td>\n",
       "      <td>37.780332</td>\n",
       "      <td>-122.366824</td>\n",
       "      <td>123.005112</td>\n",
       "      <td>37.780525</td>\n",
       "      <td>-122.366485</td>\n",
       "      <td>4416.893318</td>\n",
       "      <td>1974.784459</td>\n",
       "      <td>0.791347</td>\n",
       "      <td>1.696587</td>\n",
       "      <td>48.215541</td>\n",
       "    </tr>\n",
       "    <tr>\n",
       "      <th>std</th>\n",
       "      <td>1530.116874</td>\n",
       "      <td>106.840291</td>\n",
       "      <td>0.069240</td>\n",
       "      <td>0.089790</td>\n",
       "      <td>106.482355</td>\n",
       "      <td>0.069075</td>\n",
       "      <td>0.089323</td>\n",
       "      <td>1705.194726</td>\n",
       "      <td>8.804900</td>\n",
       "      <td>0.406349</td>\n",
       "      <td>1.104481</td>\n",
       "      <td>8.804900</td>\n",
       "    </tr>\n",
       "    <tr>\n",
       "      <th>min</th>\n",
       "      <td>61.000000</td>\n",
       "      <td>3.000000</td>\n",
       "      <td>37.317298</td>\n",
       "      <td>-122.453704</td>\n",
       "      <td>3.000000</td>\n",
       "      <td>37.317298</td>\n",
       "      <td>-122.453704</td>\n",
       "      <td>11.000000</td>\n",
       "      <td>1878.000000</td>\n",
       "      <td>0.000000</td>\n",
       "      <td>0.000000</td>\n",
       "      <td>39.000000</td>\n",
       "    </tr>\n",
       "    <tr>\n",
       "      <th>25%</th>\n",
       "      <td>323.000000</td>\n",
       "      <td>35.000000</td>\n",
       "      <td>37.771058</td>\n",
       "      <td>-122.412544</td>\n",
       "      <td>30.000000</td>\n",
       "      <td>37.771662</td>\n",
       "      <td>-122.411738</td>\n",
       "      <td>3498.000000</td>\n",
       "      <td>1970.000000</td>\n",
       "      <td>1.000000</td>\n",
       "      <td>0.910957</td>\n",
       "      <td>41.000000</td>\n",
       "    </tr>\n",
       "    <tr>\n",
       "      <th>50%</th>\n",
       "      <td>511.000000</td>\n",
       "      <td>92.000000</td>\n",
       "      <td>37.781074</td>\n",
       "      <td>-122.398436</td>\n",
       "      <td>90.000000</td>\n",
       "      <td>37.781270</td>\n",
       "      <td>-122.398279</td>\n",
       "      <td>4947.000000</td>\n",
       "      <td>1977.000000</td>\n",
       "      <td>1.000000</td>\n",
       "      <td>1.432475</td>\n",
       "      <td>46.000000</td>\n",
       "    </tr>\n",
       "    <tr>\n",
       "      <th>75%</th>\n",
       "      <td>796.000000</td>\n",
       "      <td>187.000000</td>\n",
       "      <td>37.795393</td>\n",
       "      <td>-122.389970</td>\n",
       "      <td>186.000000</td>\n",
       "      <td>37.795393</td>\n",
       "      <td>-122.389970</td>\n",
       "      <td>5493.000000</td>\n",
       "      <td>1982.000000</td>\n",
       "      <td>1.000000</td>\n",
       "      <td>2.228579</td>\n",
       "      <td>53.000000</td>\n",
       "    </tr>\n",
       "    <tr>\n",
       "      <th>max</th>\n",
       "      <td>84548.000000</td>\n",
       "      <td>398.000000</td>\n",
       "      <td>37.880222</td>\n",
       "      <td>-121.874119</td>\n",
       "      <td>398.000000</td>\n",
       "      <td>37.880222</td>\n",
       "      <td>-121.874119</td>\n",
       "      <td>6645.000000</td>\n",
       "      <td>1984.000000</td>\n",
       "      <td>1.000000</td>\n",
       "      <td>11.707458</td>\n",
       "      <td>145.000000</td>\n",
       "    </tr>\n",
       "  </tbody>\n",
       "</table>\n",
       "</div>"
      ],
      "text/plain": [
       "       duration_sec  start_station_id  start_station_latitude  \\\n",
       "count  67537.000000      67485.000000            67537.000000   \n",
       "mean     708.796053        125.374350               37.780332   \n",
       "std     1530.116874        106.840291                0.069240   \n",
       "min       61.000000          3.000000               37.317298   \n",
       "25%      323.000000         35.000000               37.771058   \n",
       "50%      511.000000         92.000000               37.781074   \n",
       "75%      796.000000        187.000000               37.795393   \n",
       "max    84548.000000        398.000000               37.880222   \n",
       "\n",
       "       start_station_longitude  end_station_id  end_station_latitude  \\\n",
       "count             67537.000000    67485.000000          67537.000000   \n",
       "mean               -122.366824      123.005112             37.780525   \n",
       "std                   0.089790      106.482355              0.069075   \n",
       "min                -122.453704        3.000000             37.317298   \n",
       "25%                -122.412544       30.000000             37.771662   \n",
       "50%                -122.398436       90.000000             37.781270   \n",
       "75%                -122.389970      186.000000             37.795393   \n",
       "max                -121.874119      398.000000             37.880222   \n",
       "\n",
       "       end_station_longitude       bike_id  member_birth_year  member_gender  \\\n",
       "count           67537.000000  67537.000000       67537.000000   65755.000000   \n",
       "mean             -122.366485   4416.893318        1974.784459       0.791347   \n",
       "std                 0.089323   1705.194726           8.804900       0.406349   \n",
       "min              -122.453704     11.000000        1878.000000       0.000000   \n",
       "25%              -122.411738   3498.000000        1970.000000       1.000000   \n",
       "50%              -122.398279   4947.000000        1977.000000       1.000000   \n",
       "75%              -122.389970   5493.000000        1982.000000       1.000000   \n",
       "max              -121.874119   6645.000000        1984.000000       1.000000   \n",
       "\n",
       "           distance    member_age  \n",
       "count  67537.000000  67537.000000  \n",
       "mean       1.696587     48.215541  \n",
       "std        1.104481      8.804900  \n",
       "min        0.000000     39.000000  \n",
       "25%        0.910957     41.000000  \n",
       "50%        1.432475     46.000000  \n",
       "75%        2.228579     53.000000  \n",
       "max       11.707458    145.000000  "
      ]
     },
     "execution_count": 419,
     "metadata": {},
     "output_type": "execute_result"
    }
   ],
   "source": [
    "pDf[pDf['member_age'] > 38].describe()"
   ]
  },
  {
   "cell_type": "code",
   "execution_count": 420,
   "id": "d52a7e56",
   "metadata": {
    "ExecuteTime": {
     "end_time": "2023-03-09T01:06:26.293076Z",
     "start_time": "2023-03-09T01:06:26.216721Z"
    }
   },
   "outputs": [
    {
     "data": {
      "text/html": [
       "<div>\n",
       "<style scoped>\n",
       "    .dataframe tbody tr th:only-of-type {\n",
       "        vertical-align: middle;\n",
       "    }\n",
       "\n",
       "    .dataframe tbody tr th {\n",
       "        vertical-align: top;\n",
       "    }\n",
       "\n",
       "    .dataframe thead th {\n",
       "        text-align: right;\n",
       "    }\n",
       "</style>\n",
       "<table border=\"1\" class=\"dataframe\">\n",
       "  <thead>\n",
       "    <tr style=\"text-align: right;\">\n",
       "      <th></th>\n",
       "      <th>duration_sec</th>\n",
       "      <th>start_station_id</th>\n",
       "      <th>start_station_latitude</th>\n",
       "      <th>start_station_longitude</th>\n",
       "      <th>end_station_id</th>\n",
       "      <th>end_station_latitude</th>\n",
       "      <th>end_station_longitude</th>\n",
       "      <th>bike_id</th>\n",
       "      <th>member_birth_year</th>\n",
       "      <th>member_gender</th>\n",
       "      <th>distance</th>\n",
       "      <th>member_age</th>\n",
       "    </tr>\n",
       "  </thead>\n",
       "  <tbody>\n",
       "    <tr>\n",
       "      <th>count</th>\n",
       "      <td>100582.000000</td>\n",
       "      <td>100444.000000</td>\n",
       "      <td>100582.000000</td>\n",
       "      <td>100582.000000</td>\n",
       "      <td>100444.000000</td>\n",
       "      <td>100582.000000</td>\n",
       "      <td>100582.000000</td>\n",
       "      <td>100582.000000</td>\n",
       "      <td>100582.00000</td>\n",
       "      <td>98832.000000</td>\n",
       "      <td>100582.000000</td>\n",
       "      <td>100582.00000</td>\n",
       "    </tr>\n",
       "    <tr>\n",
       "      <th>mean</th>\n",
       "      <td>700.903551</td>\n",
       "      <td>148.901268</td>\n",
       "      <td>37.763700</td>\n",
       "      <td>-122.339648</td>\n",
       "      <td>146.430061</td>\n",
       "      <td>37.763871</td>\n",
       "      <td>-122.339202</td>\n",
       "      <td>4524.660416</td>\n",
       "      <td>1991.52229</td>\n",
       "      <td>0.742958</td>\n",
       "      <td>1.678342</td>\n",
       "      <td>31.47771</td>\n",
       "    </tr>\n",
       "    <tr>\n",
       "      <th>std</th>\n",
       "      <td>1721.150046</td>\n",
       "      <td>114.017186</td>\n",
       "      <td>0.119138</td>\n",
       "      <td>0.134994</td>\n",
       "      <td>113.699012</td>\n",
       "      <td>0.119053</td>\n",
       "      <td>0.134545</td>\n",
       "      <td>1625.181451</td>\n",
       "      <td>3.69027</td>\n",
       "      <td>0.437005</td>\n",
       "      <td>1.073919</td>\n",
       "      <td>3.69027</td>\n",
       "    </tr>\n",
       "    <tr>\n",
       "      <th>min</th>\n",
       "      <td>61.000000</td>\n",
       "      <td>3.000000</td>\n",
       "      <td>37.317298</td>\n",
       "      <td>-122.453704</td>\n",
       "      <td>3.000000</td>\n",
       "      <td>37.317298</td>\n",
       "      <td>-122.453704</td>\n",
       "      <td>11.000000</td>\n",
       "      <td>1986.00000</td>\n",
       "      <td>0.000000</td>\n",
       "      <td>0.000000</td>\n",
       "      <td>22.00000</td>\n",
       "    </tr>\n",
       "    <tr>\n",
       "      <th>25%</th>\n",
       "      <td>321.000000</td>\n",
       "      <td>58.000000</td>\n",
       "      <td>37.769305</td>\n",
       "      <td>-122.411738</td>\n",
       "      <td>54.000000</td>\n",
       "      <td>37.770030</td>\n",
       "      <td>-122.411403</td>\n",
       "      <td>3967.000000</td>\n",
       "      <td>1988.00000</td>\n",
       "      <td>0.000000</td>\n",
       "      <td>0.902988</td>\n",
       "      <td>29.00000</td>\n",
       "    </tr>\n",
       "    <tr>\n",
       "      <th>50%</th>\n",
       "      <td>508.000000</td>\n",
       "      <td>114.000000</td>\n",
       "      <td>37.780450</td>\n",
       "      <td>-122.397437</td>\n",
       "      <td>112.000000</td>\n",
       "      <td>37.780526</td>\n",
       "      <td>-122.397086</td>\n",
       "      <td>4966.000000</td>\n",
       "      <td>1991.00000</td>\n",
       "      <td>1.000000</td>\n",
       "      <td>1.413550</td>\n",
       "      <td>32.00000</td>\n",
       "    </tr>\n",
       "    <tr>\n",
       "      <th>75%</th>\n",
       "      <td>783.000000</td>\n",
       "      <td>246.000000</td>\n",
       "      <td>37.798572</td>\n",
       "      <td>-122.270556</td>\n",
       "      <td>245.000000</td>\n",
       "      <td>37.799953</td>\n",
       "      <td>-122.271738</td>\n",
       "      <td>5514.000000</td>\n",
       "      <td>1994.00000</td>\n",
       "      <td>1.000000</td>\n",
       "      <td>2.205631</td>\n",
       "      <td>35.00000</td>\n",
       "    </tr>\n",
       "    <tr>\n",
       "      <th>max</th>\n",
       "      <td>83519.000000</td>\n",
       "      <td>398.000000</td>\n",
       "      <td>37.880222</td>\n",
       "      <td>-121.874119</td>\n",
       "      <td>398.000000</td>\n",
       "      <td>37.880222</td>\n",
       "      <td>-121.874119</td>\n",
       "      <td>6645.000000</td>\n",
       "      <td>2001.00000</td>\n",
       "      <td>1.000000</td>\n",
       "      <td>15.673977</td>\n",
       "      <td>37.00000</td>\n",
       "    </tr>\n",
       "  </tbody>\n",
       "</table>\n",
       "</div>"
      ],
      "text/plain": [
       "        duration_sec  start_station_id  start_station_latitude  \\\n",
       "count  100582.000000     100444.000000           100582.000000   \n",
       "mean      700.903551        148.901268               37.763700   \n",
       "std      1721.150046        114.017186                0.119138   \n",
       "min        61.000000          3.000000               37.317298   \n",
       "25%       321.000000         58.000000               37.769305   \n",
       "50%       508.000000        114.000000               37.780450   \n",
       "75%       783.000000        246.000000               37.798572   \n",
       "max     83519.000000        398.000000               37.880222   \n",
       "\n",
       "       start_station_longitude  end_station_id  end_station_latitude  \\\n",
       "count            100582.000000   100444.000000         100582.000000   \n",
       "mean               -122.339648      146.430061             37.763871   \n",
       "std                   0.134994      113.699012              0.119053   \n",
       "min                -122.453704        3.000000             37.317298   \n",
       "25%                -122.411738       54.000000             37.770030   \n",
       "50%                -122.397437      112.000000             37.780526   \n",
       "75%                -122.270556      245.000000             37.799953   \n",
       "max                -121.874119      398.000000             37.880222   \n",
       "\n",
       "       end_station_longitude        bike_id  member_birth_year  member_gender  \\\n",
       "count          100582.000000  100582.000000       100582.00000   98832.000000   \n",
       "mean             -122.339202    4524.660416         1991.52229       0.742958   \n",
       "std                 0.134545    1625.181451            3.69027       0.437005   \n",
       "min              -122.453704      11.000000         1986.00000       0.000000   \n",
       "25%              -122.411403    3967.000000         1988.00000       0.000000   \n",
       "50%              -122.397086    4966.000000         1991.00000       1.000000   \n",
       "75%              -122.271738    5514.000000         1994.00000       1.000000   \n",
       "max              -121.874119    6645.000000         2001.00000       1.000000   \n",
       "\n",
       "            distance    member_age  \n",
       "count  100582.000000  100582.00000  \n",
       "mean        1.678342      31.47771  \n",
       "std         1.073919       3.69027  \n",
       "min         0.000000      22.00000  \n",
       "25%         0.902988      29.00000  \n",
       "50%         1.413550      32.00000  \n",
       "75%         2.205631      35.00000  \n",
       "max        15.673977      37.00000  "
      ]
     },
     "execution_count": 420,
     "metadata": {},
     "output_type": "execute_result"
    }
   ],
   "source": [
    "pDf[pDf['member_age'] < 38].describe()"
   ]
  },
  {
   "cell_type": "code",
   "execution_count": 447,
   "id": "318da946",
   "metadata": {
    "ExecuteTime": {
     "end_time": "2023-03-09T01:18:10.015485Z",
     "start_time": "2023-03-09T01:18:09.985494Z"
    }
   },
   "outputs": [],
   "source": [
    "data = pDf.groupby('member_age').mean().reset_index()"
   ]
  },
  {
   "cell_type": "code",
   "execution_count": 461,
   "id": "5a60eed8",
   "metadata": {
    "ExecuteTime": {
     "end_time": "2023-03-09T01:22:34.734502Z",
     "start_time": "2023-03-09T01:22:34.450072Z"
    }
   },
   "outputs": [
    {
     "data": {
      "image/png": "[encoded data removed]",
      "text/plain": [
       "<Figure size 2000x1000 with 1 Axes>"
      ]
     },
     "metadata": {},
     "output_type": "display_data"
    }
   ],
   "source": [
    "plt.figure(figsize = (20,10))\n",
    "plt.bar(data['member_age'], data['distance'], color ='maroon',\n",
    "        width = 0.4)\n",
    "plt.xlabel(\"member_age\")\n",
    "plt.ylabel(\"distance\")\n",
    "plt.title(\"Students enrolled in different courses\")\n",
    "plt.show()"
   ]
  },
  {
   "cell_type": "code",
   "execution_count": 458,
   "id": "300d3861",
   "metadata": {
    "ExecuteTime": {
     "end_time": "2023-03-09T01:21:49.168280Z",
     "start_time": "2023-03-09T01:21:49.004517Z"
    }
   },
   "outputs": [
    {
     "data": {
      "image/png": "[encoded data removed]",
      "text/plain": [
       "<Figure size 1500x750 with 1 Axes>"
      ]
     },
     "metadata": {},
     "output_type": "display_data"
    }
   ],
   "source": [
    "plt.figure(figsize=(15,7.5))\n",
    "plt.scatter(data['member_age'], data['distance'], c =\"pink\",\n",
    "            linewidths = 2,\n",
    "            marker =\"*\",\n",
    "            edgecolor =\"green\",\n",
    "            s = 50)\n",
    "plt.xlabel(\"member_age\")\n",
    "plt.ylabel(\"distance\")\n",
    "plt.show()"
   ]
  },
  {
   "cell_type": "code",
   "execution_count": null,
   "id": "9e46b2c2",
   "metadata": {},
   "outputs": [],
   "source": []
  }
 ],
 "metadata": {
  "kernelspec": {
   "display_name": "Python 3 (ipykernel)",
   "language": "python",
   "name": "python3"
  },
  "language_info": {
   "codemirror_mode": {
    "name": "ipython",
    "version": 3
   },
   "file_extension": ".py",
   "mimetype": "text/x-python",
   "name": "python",
   "nbconvert_exporter": "python",
   "pygments_lexer": "ipython3",
   "version": "3.9.13"
  },
  "toc": {
   "base_numbering": 1,
   "nav_menu": {},
   "number_sections": true,
   "sideBar": true,
   "skip_h1_title": false,
   "title_cell": "Table of Contents",
   "title_sidebar": "Contents",
   "toc_cell": false,
   "toc_position": {},
   "toc_section_display": true,
   "toc_window_display": false
  },
  "varInspector": {
   "cols": {
    "lenName": 16,
    "lenType": 16,
    "lenVar": 40
   },
   "kernels_config": {
    "python": {
     "delete_cmd_postfix": "",
     "delete_cmd_prefix": "del ",
     "library": "var_list.py",
     "varRefreshCmd": "print(var_dic_list())"
    },
    "r": {
     "delete_cmd_postfix": ") ",
     "delete_cmd_prefix": "rm(",
     "library": "var_list.r",
     "varRefreshCmd": "cat(var_dic_list()) "
    }
   },
   "types_to_exclude": [
    "module",
    "function",
    "builtin_function_or_method",
    "instance",
    "_Feature"
   ],
   "window_display": false
  }
 },
 "nbformat": 4,
 "nbformat_minor": 5
}
