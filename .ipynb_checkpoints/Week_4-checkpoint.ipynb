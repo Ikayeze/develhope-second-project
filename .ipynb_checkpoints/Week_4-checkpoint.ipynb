{
 "cells": [
  {
   "cell_type": "code",
   "execution_count": 1,
   "id": "5d611201",
   "metadata": {
    "ExecuteTime": {
     "end_time": "2023-02-09T23:39:27.829797Z",
     "start_time": "2023-02-09T23:39:26.719954Z"
    }
   },
   "outputs": [],
   "source": [
    "import pandas as pd\n",
    "import numpy as np\n",
    "import matplotlib.pyplot as plt"
   ]
  },
  {
   "cell_type": "code",
   "execution_count": 96,
   "id": "9740c9cd",
   "metadata": {
    "ExecuteTime": {
     "end_time": "2023-02-10T00:03:47.970553Z",
     "start_time": "2023-02-10T00:03:47.940137Z"
    }
   },
   "outputs": [],
   "source": [
    "df = pd.read_csv(\"C:/Users/mkaya/OneDrive/Masaüstü/develhope-second-project/googleplaystore_cleaned.csv\")"
   ]
  },
  {
   "cell_type": "code",
   "execution_count": 97,
   "id": "6d1736ef",
   "metadata": {
    "ExecuteTime": {
     "end_time": "2023-02-10T00:03:48.159588Z",
     "start_time": "2023-02-10T00:03:48.132586Z"
    }
   },
   "outputs": [
    {
     "data": {
      "text/html": [
       "<div>\n",
       "<style scoped>\n",
       "    .dataframe tbody tr th:only-of-type {\n",
       "        vertical-align: middle;\n",
       "    }\n",
       "\n",
       "    .dataframe tbody tr th {\n",
       "        vertical-align: top;\n",
       "    }\n",
       "\n",
       "    .dataframe thead th {\n",
       "        text-align: right;\n",
       "    }\n",
       "</style>\n",
       "<table border=\"1\" class=\"dataframe\">\n",
       "  <thead>\n",
       "    <tr style=\"text-align: right;\">\n",
       "      <th></th>\n",
       "      <th>App</th>\n",
       "      <th>Category</th>\n",
       "      <th>Rating</th>\n",
       "      <th>Reviews</th>\n",
       "      <th>Size</th>\n",
       "      <th>Installs</th>\n",
       "      <th>Type</th>\n",
       "      <th>Price</th>\n",
       "      <th>Content Rating</th>\n",
       "      <th>Genres</th>\n",
       "      <th>Last Updated</th>\n",
       "      <th>Current Ver</th>\n",
       "      <th>Android Ver</th>\n",
       "      <th>R/I</th>\n",
       "    </tr>\n",
       "  </thead>\n",
       "  <tbody>\n",
       "    <tr>\n",
       "      <th>0</th>\n",
       "      <td>Photo Editor &amp; Candy Camera &amp; Grid &amp; ScrapBook</td>\n",
       "      <td>ART_AND_DESIGN</td>\n",
       "      <td>4.1</td>\n",
       "      <td>159.0</td>\n",
       "      <td>19000.0</td>\n",
       "      <td>10000.0</td>\n",
       "      <td>Free</td>\n",
       "      <td>0.0</td>\n",
       "      <td>Everyone</td>\n",
       "      <td>Art &amp; Design</td>\n",
       "      <td>January 7, 2018</td>\n",
       "      <td>1.0.0</td>\n",
       "      <td>4.0.3 and up</td>\n",
       "      <td>0.015900</td>\n",
       "    </tr>\n",
       "    <tr>\n",
       "      <th>1</th>\n",
       "      <td>Coloring book moana</td>\n",
       "      <td>ART_AND_DESIGN</td>\n",
       "      <td>3.9</td>\n",
       "      <td>967.0</td>\n",
       "      <td>14000.0</td>\n",
       "      <td>500000.0</td>\n",
       "      <td>Free</td>\n",
       "      <td>0.0</td>\n",
       "      <td>Everyone</td>\n",
       "      <td>Art &amp; Design;Pretend Play</td>\n",
       "      <td>January 15, 2018</td>\n",
       "      <td>2.0.0</td>\n",
       "      <td>4.0.3 and up</td>\n",
       "      <td>0.001934</td>\n",
       "    </tr>\n",
       "    <tr>\n",
       "      <th>2</th>\n",
       "      <td>U Launcher Lite – FREE Live Cool Themes, Hide ...</td>\n",
       "      <td>ART_AND_DESIGN</td>\n",
       "      <td>4.7</td>\n",
       "      <td>87510.0</td>\n",
       "      <td>8700.0</td>\n",
       "      <td>5000000.0</td>\n",
       "      <td>Free</td>\n",
       "      <td>0.0</td>\n",
       "      <td>Everyone</td>\n",
       "      <td>Art &amp; Design</td>\n",
       "      <td>August 1, 2018</td>\n",
       "      <td>1.2.4</td>\n",
       "      <td>4.0.3 and up</td>\n",
       "      <td>0.017502</td>\n",
       "    </tr>\n",
       "    <tr>\n",
       "      <th>3</th>\n",
       "      <td>Sketch - Draw &amp; Paint</td>\n",
       "      <td>ART_AND_DESIGN</td>\n",
       "      <td>4.5</td>\n",
       "      <td>215644.0</td>\n",
       "      <td>25000.0</td>\n",
       "      <td>50000000.0</td>\n",
       "      <td>Free</td>\n",
       "      <td>0.0</td>\n",
       "      <td>Teen</td>\n",
       "      <td>Art &amp; Design</td>\n",
       "      <td>June 8, 2018</td>\n",
       "      <td>Varies with device</td>\n",
       "      <td>4.2 and up</td>\n",
       "      <td>0.004313</td>\n",
       "    </tr>\n",
       "    <tr>\n",
       "      <th>4</th>\n",
       "      <td>Pixel Draw - Number Art Coloring Book</td>\n",
       "      <td>ART_AND_DESIGN</td>\n",
       "      <td>4.3</td>\n",
       "      <td>967.0</td>\n",
       "      <td>2800.0</td>\n",
       "      <td>100000.0</td>\n",
       "      <td>Free</td>\n",
       "      <td>0.0</td>\n",
       "      <td>Everyone</td>\n",
       "      <td>Art &amp; Design;Creativity</td>\n",
       "      <td>June 20, 2018</td>\n",
       "      <td>1.1</td>\n",
       "      <td>4.4 and up</td>\n",
       "      <td>0.009670</td>\n",
       "    </tr>\n",
       "  </tbody>\n",
       "</table>\n",
       "</div>"
      ],
      "text/plain": [
       "                                                 App        Category  Rating  \\\n",
       "0     Photo Editor & Candy Camera & Grid & ScrapBook  ART_AND_DESIGN     4.1   \n",
       "1                                Coloring book moana  ART_AND_DESIGN     3.9   \n",
       "2  U Launcher Lite – FREE Live Cool Themes, Hide ...  ART_AND_DESIGN     4.7   \n",
       "3                              Sketch - Draw & Paint  ART_AND_DESIGN     4.5   \n",
       "4              Pixel Draw - Number Art Coloring Book  ART_AND_DESIGN     4.3   \n",
       "\n",
       "    Reviews     Size    Installs  Type  Price Content Rating  \\\n",
       "0     159.0  19000.0     10000.0  Free    0.0       Everyone   \n",
       "1     967.0  14000.0    500000.0  Free    0.0       Everyone   \n",
       "2   87510.0   8700.0   5000000.0  Free    0.0       Everyone   \n",
       "3  215644.0  25000.0  50000000.0  Free    0.0           Teen   \n",
       "4     967.0   2800.0    100000.0  Free    0.0       Everyone   \n",
       "\n",
       "                      Genres      Last Updated         Current Ver  \\\n",
       "0               Art & Design   January 7, 2018               1.0.0   \n",
       "1  Art & Design;Pretend Play  January 15, 2018               2.0.0   \n",
       "2               Art & Design    August 1, 2018               1.2.4   \n",
       "3               Art & Design      June 8, 2018  Varies with device   \n",
       "4    Art & Design;Creativity     June 20, 2018                 1.1   \n",
       "\n",
       "    Android Ver       R/I  \n",
       "0  4.0.3 and up  0.015900  \n",
       "1  4.0.3 and up  0.001934  \n",
       "2  4.0.3 and up  0.017502  \n",
       "3    4.2 and up  0.004313  \n",
       "4    4.4 and up  0.009670  "
      ]
     },
     "execution_count": 97,
     "metadata": {},
     "output_type": "execute_result"
    }
   ],
   "source": [
    "df.head()"
   ]
  },
  {
   "cell_type": "markdown",
   "id": "99213647",
   "metadata": {},
   "source": [
    "# Reverse whole data set"
   ]
  },
  {
   "cell_type": "code",
   "execution_count": 98,
   "id": "bceba50b",
   "metadata": {
    "ExecuteTime": {
     "end_time": "2023-02-10T00:03:49.364544Z",
     "start_time": "2023-02-10T00:03:49.348542Z"
    },
    "scrolled": true
   },
   "outputs": [
    {
     "data": {
      "text/html": [
       "<div>\n",
       "<style scoped>\n",
       "    .dataframe tbody tr th:only-of-type {\n",
       "        vertical-align: middle;\n",
       "    }\n",
       "\n",
       "    .dataframe tbody tr th {\n",
       "        vertical-align: top;\n",
       "    }\n",
       "\n",
       "    .dataframe thead th {\n",
       "        text-align: right;\n",
       "    }\n",
       "</style>\n",
       "<table border=\"1\" class=\"dataframe\">\n",
       "  <thead>\n",
       "    <tr style=\"text-align: right;\">\n",
       "      <th></th>\n",
       "      <th>App</th>\n",
       "      <th>Category</th>\n",
       "      <th>Rating</th>\n",
       "      <th>Reviews</th>\n",
       "      <th>Size</th>\n",
       "      <th>Installs</th>\n",
       "      <th>Type</th>\n",
       "      <th>Price</th>\n",
       "      <th>Content Rating</th>\n",
       "      <th>Genres</th>\n",
       "      <th>Last Updated</th>\n",
       "      <th>Current Ver</th>\n",
       "      <th>Android Ver</th>\n",
       "      <th>R/I</th>\n",
       "    </tr>\n",
       "  </thead>\n",
       "  <tbody>\n",
       "    <tr>\n",
       "      <th>10357</th>\n",
       "      <td>iHoroscope - 2018 Daily Horoscope &amp; Astrology</td>\n",
       "      <td>LIFESTYLE</td>\n",
       "      <td>4.5</td>\n",
       "      <td>398307.0</td>\n",
       "      <td>19000.0</td>\n",
       "      <td>10000000.0</td>\n",
       "      <td>Free</td>\n",
       "      <td>0.0</td>\n",
       "      <td>Everyone</td>\n",
       "      <td>Lifestyle</td>\n",
       "      <td>July 25, 2018</td>\n",
       "      <td>Varies with device</td>\n",
       "      <td>Varies with device</td>\n",
       "      <td>0.039831</td>\n",
       "    </tr>\n",
       "    <tr>\n",
       "      <th>10356</th>\n",
       "      <td>The SCP Foundation DB fr nn5n</td>\n",
       "      <td>BOOKS_AND_REFERENCE</td>\n",
       "      <td>4.5</td>\n",
       "      <td>114.0</td>\n",
       "      <td>0.0</td>\n",
       "      <td>1000.0</td>\n",
       "      <td>Free</td>\n",
       "      <td>0.0</td>\n",
       "      <td>Mature 17+</td>\n",
       "      <td>Books &amp; Reference</td>\n",
       "      <td>January 19, 2015</td>\n",
       "      <td>Varies with device</td>\n",
       "      <td>Varies with device</td>\n",
       "      <td>0.114000</td>\n",
       "    </tr>\n",
       "    <tr>\n",
       "      <th>10355</th>\n",
       "      <td>Parkinson Exercices FR</td>\n",
       "      <td>MEDICAL</td>\n",
       "      <td>0.0</td>\n",
       "      <td>3.0</td>\n",
       "      <td>9500.0</td>\n",
       "      <td>1000.0</td>\n",
       "      <td>Free</td>\n",
       "      <td>0.0</td>\n",
       "      <td>Everyone</td>\n",
       "      <td>Medical</td>\n",
       "      <td>January 20, 2017</td>\n",
       "      <td>1.0</td>\n",
       "      <td>2.2 and up</td>\n",
       "      <td>0.003000</td>\n",
       "    </tr>\n",
       "    <tr>\n",
       "      <th>10354</th>\n",
       "      <td>Fr. Mike Schmitz Audio Teachings</td>\n",
       "      <td>FAMILY</td>\n",
       "      <td>5.0</td>\n",
       "      <td>4.0</td>\n",
       "      <td>3600.0</td>\n",
       "      <td>100.0</td>\n",
       "      <td>Free</td>\n",
       "      <td>0.0</td>\n",
       "      <td>Everyone</td>\n",
       "      <td>Education</td>\n",
       "      <td>July 6, 2018</td>\n",
       "      <td>1.0</td>\n",
       "      <td>4.1 and up</td>\n",
       "      <td>0.040000</td>\n",
       "    </tr>\n",
       "    <tr>\n",
       "      <th>10353</th>\n",
       "      <td>Sya9a Maroc - FR</td>\n",
       "      <td>FAMILY</td>\n",
       "      <td>4.5</td>\n",
       "      <td>38.0</td>\n",
       "      <td>53000.0</td>\n",
       "      <td>5000.0</td>\n",
       "      <td>Free</td>\n",
       "      <td>0.0</td>\n",
       "      <td>Everyone</td>\n",
       "      <td>Education</td>\n",
       "      <td>July 25, 2017</td>\n",
       "      <td>1.48</td>\n",
       "      <td>4.1 and up</td>\n",
       "      <td>0.007600</td>\n",
       "    </tr>\n",
       "  </tbody>\n",
       "</table>\n",
       "</div>"
      ],
      "text/plain": [
       "                                                 App             Category  \\\n",
       "10357  iHoroscope - 2018 Daily Horoscope & Astrology            LIFESTYLE   \n",
       "10356                  The SCP Foundation DB fr nn5n  BOOKS_AND_REFERENCE   \n",
       "10355                         Parkinson Exercices FR              MEDICAL   \n",
       "10354               Fr. Mike Schmitz Audio Teachings               FAMILY   \n",
       "10353                               Sya9a Maroc - FR               FAMILY   \n",
       "\n",
       "       Rating   Reviews     Size    Installs  Type  Price Content Rating  \\\n",
       "10357     4.5  398307.0  19000.0  10000000.0  Free    0.0       Everyone   \n",
       "10356     4.5     114.0      0.0      1000.0  Free    0.0     Mature 17+   \n",
       "10355     0.0       3.0   9500.0      1000.0  Free    0.0       Everyone   \n",
       "10354     5.0       4.0   3600.0       100.0  Free    0.0       Everyone   \n",
       "10353     4.5      38.0  53000.0      5000.0  Free    0.0       Everyone   \n",
       "\n",
       "                  Genres      Last Updated         Current Ver  \\\n",
       "10357          Lifestyle     July 25, 2018  Varies with device   \n",
       "10356  Books & Reference  January 19, 2015  Varies with device   \n",
       "10355            Medical  January 20, 2017                 1.0   \n",
       "10354          Education      July 6, 2018                 1.0   \n",
       "10353          Education     July 25, 2017                1.48   \n",
       "\n",
       "              Android Ver       R/I  \n",
       "10357  Varies with device  0.039831  \n",
       "10356  Varies with device  0.114000  \n",
       "10355          2.2 and up  0.003000  \n",
       "10354          4.1 and up  0.040000  \n",
       "10353          4.1 and up  0.007600  "
      ]
     },
     "execution_count": 98,
     "metadata": {},
     "output_type": "execute_result"
    }
   ],
   "source": [
    "df[::-1].head()"
   ]
  },
  {
   "cell_type": "code",
   "execution_count": 99,
   "id": "a4cbd8ae",
   "metadata": {
    "ExecuteTime": {
     "end_time": "2023-02-10T00:03:52.541995Z",
     "start_time": "2023-02-10T00:03:52.524997Z"
    }
   },
   "outputs": [],
   "source": [
    "prices_age_groups = df.groupby([\"Content Rating\"]).mean()"
   ]
  },
  {
   "cell_type": "code",
   "execution_count": 100,
   "id": "5e67ef70",
   "metadata": {
    "ExecuteTime": {
     "end_time": "2023-02-10T00:03:57.338927Z",
     "start_time": "2023-02-10T00:03:57.325922Z"
    }
   },
   "outputs": [],
   "source": [
    "prices_age_groups = prices_age_groups.T"
   ]
  },
  {
   "cell_type": "code",
   "execution_count": 101,
   "id": "dbf33de8",
   "metadata": {
    "ExecuteTime": {
     "end_time": "2023-02-10T00:03:57.495240Z",
     "start_time": "2023-02-10T00:03:57.477239Z"
    }
   },
   "outputs": [],
   "source": [
    "prices_age_groups = prices_age_groups.reset_index()"
   ]
  },
  {
   "cell_type": "code",
   "execution_count": 102,
   "id": "e24f4d7c",
   "metadata": {
    "ExecuteTime": {
     "end_time": "2023-02-10T00:03:58.136849Z",
     "start_time": "2023-02-10T00:03:58.124847Z"
    }
   },
   "outputs": [
    {
     "data": {
      "text/html": [
       "<div>\n",
       "<style scoped>\n",
       "    .dataframe tbody tr th:only-of-type {\n",
       "        vertical-align: middle;\n",
       "    }\n",
       "\n",
       "    .dataframe tbody tr th {\n",
       "        vertical-align: top;\n",
       "    }\n",
       "\n",
       "    .dataframe thead th {\n",
       "        text-align: right;\n",
       "    }\n",
       "</style>\n",
       "<table border=\"1\" class=\"dataframe\">\n",
       "  <thead>\n",
       "    <tr style=\"text-align: right;\">\n",
       "      <th>Content Rating</th>\n",
       "      <th>index</th>\n",
       "      <th>Adults only 18+</th>\n",
       "      <th>Everyone</th>\n",
       "      <th>Everyone 10+</th>\n",
       "      <th>Mature 17+</th>\n",
       "      <th>Teen</th>\n",
       "      <th>Unrated</th>\n",
       "    </tr>\n",
       "  </thead>\n",
       "  <tbody>\n",
       "    <tr>\n",
       "      <th>0</th>\n",
       "      <td>Rating</td>\n",
       "      <td>4.300000</td>\n",
       "      <td>3.538685e+00</td>\n",
       "      <td>4.062334e+00</td>\n",
       "      <td>3.792170e+00</td>\n",
       "      <td>3.780192e+00</td>\n",
       "      <td>2.05000</td>\n",
       "    </tr>\n",
       "    <tr>\n",
       "      <th>1</th>\n",
       "      <td>Reviews</td>\n",
       "      <td>27116.000000</td>\n",
       "      <td>2.938482e+05</td>\n",
       "      <td>1.564577e+06</td>\n",
       "      <td>3.387209e+05</td>\n",
       "      <td>8.719792e+05</td>\n",
       "      <td>593.50000</td>\n",
       "    </tr>\n",
       "    <tr>\n",
       "      <th>2</th>\n",
       "      <td>Size</td>\n",
       "      <td>15300.000000</td>\n",
       "      <td>1.630914e+04</td>\n",
       "      <td>3.333880e+04</td>\n",
       "      <td>2.102497e+04</td>\n",
       "      <td>2.552728e+04</td>\n",
       "      <td>4450.00000</td>\n",
       "    </tr>\n",
       "    <tr>\n",
       "      <th>3</th>\n",
       "      <td>Installs</td>\n",
       "      <td>666666.666667</td>\n",
       "      <td>1.195629e+07</td>\n",
       "      <td>2.968507e+07</td>\n",
       "      <td>9.598874e+06</td>\n",
       "      <td>2.697930e+07</td>\n",
       "      <td>25250.00000</td>\n",
       "    </tr>\n",
       "    <tr>\n",
       "      <th>4</th>\n",
       "      <td>Price</td>\n",
       "      <td>0.000000</td>\n",
       "      <td>1.165086e+00</td>\n",
       "      <td>3.890981e-01</td>\n",
       "      <td>2.373826e-01</td>\n",
       "      <td>5.726702e-01</td>\n",
       "      <td>0.00000</td>\n",
       "    </tr>\n",
       "    <tr>\n",
       "      <th>5</th>\n",
       "      <td>R/I</td>\n",
       "      <td>0.037560</td>\n",
       "      <td>3.679971e-02</td>\n",
       "      <td>4.990855e-02</td>\n",
       "      <td>3.693263e-02</td>\n",
       "      <td>4.522969e-02</td>\n",
       "      <td>0.01286</td>\n",
       "    </tr>\n",
       "  </tbody>\n",
       "</table>\n",
       "</div>"
      ],
      "text/plain": [
       "Content Rating     index  Adults only 18+      Everyone  Everyone 10+  \\\n",
       "0                 Rating         4.300000  3.538685e+00  4.062334e+00   \n",
       "1                Reviews     27116.000000  2.938482e+05  1.564577e+06   \n",
       "2                   Size     15300.000000  1.630914e+04  3.333880e+04   \n",
       "3               Installs    666666.666667  1.195629e+07  2.968507e+07   \n",
       "4                  Price         0.000000  1.165086e+00  3.890981e-01   \n",
       "5                    R/I         0.037560  3.679971e-02  4.990855e-02   \n",
       "\n",
       "Content Rating    Mature 17+          Teen      Unrated  \n",
       "0               3.792170e+00  3.780192e+00      2.05000  \n",
       "1               3.387209e+05  8.719792e+05    593.50000  \n",
       "2               2.102497e+04  2.552728e+04   4450.00000  \n",
       "3               9.598874e+06  2.697930e+07  25250.00000  \n",
       "4               2.373826e-01  5.726702e-01      0.00000  \n",
       "5               3.693263e-02  4.522969e-02      0.01286  "
      ]
     },
     "execution_count": 102,
     "metadata": {},
     "output_type": "execute_result"
    }
   ],
   "source": [
    "prices_age_groups"
   ]
  },
  {
   "cell_type": "code",
   "execution_count": 84,
   "id": "325dfed4",
   "metadata": {
    "ExecuteTime": {
     "end_time": "2023-02-10T00:02:13.957359Z",
     "start_time": "2023-02-10T00:02:13.944360Z"
    },
    "scrolled": true
   },
   "outputs": [
    {
     "data": {
      "text/plain": [
       "'you mf\\n\\nplt.figure(figsize=(10,5))\\nplt.bar(prices_age_groups[[\"Teen\", \"Mature 17+\", \"Everyone\"]], prices_age_groups[prices_age_groups[\"index\"] == \"Size\"][[\"Teen\", \"Mature 17+\", \"Everyone\"]])\\n'"
      ]
     },
     "execution_count": 84,
     "metadata": {},
     "output_type": "execute_result"
    }
   ],
   "source": [
    "\"\"\"you mf\n",
    "\n",
    "plt.figure(figsize=(10,5))\n",
    "plt.bar(prices_age_groups[[\"Teen\", \"Mature 17+\", \"Everyone\"]], prices_age_groups[prices_age_groups[\"index\"] == \"Size\"][[\"Teen\", \"Mature 17+\", \"Everyone\"]])\n",
    "\"\"\""
   ]
  },
  {
   "cell_type": "code",
   "execution_count": 106,
   "id": "ff417398",
   "metadata": {
    "ExecuteTime": {
     "end_time": "2023-02-10T00:05:40.291642Z",
     "start_time": "2023-02-10T00:05:40.281642Z"
    }
   },
   "outputs": [
    {
     "data": {
      "text/html": [
       "<div>\n",
       "<style scoped>\n",
       "    .dataframe tbody tr th:only-of-type {\n",
       "        vertical-align: middle;\n",
       "    }\n",
       "\n",
       "    .dataframe tbody tr th {\n",
       "        vertical-align: top;\n",
       "    }\n",
       "\n",
       "    .dataframe thead th {\n",
       "        text-align: right;\n",
       "    }\n",
       "</style>\n",
       "<table border=\"1\" class=\"dataframe\">\n",
       "  <thead>\n",
       "    <tr style=\"text-align: right;\">\n",
       "      <th>Content Rating</th>\n",
       "      <th>Teen</th>\n",
       "      <th>Mature 17+</th>\n",
       "      <th>Everyone</th>\n",
       "    </tr>\n",
       "  </thead>\n",
       "  <tbody>\n",
       "    <tr>\n",
       "      <th>4</th>\n",
       "      <td>0.57267</td>\n",
       "      <td>0.237383</td>\n",
       "      <td>1.165086</td>\n",
       "    </tr>\n",
       "  </tbody>\n",
       "</table>\n",
       "</div>"
      ],
      "text/plain": [
       "Content Rating     Teen  Mature 17+  Everyone\n",
       "4               0.57267    0.237383  1.165086"
      ]
     },
     "execution_count": 106,
     "metadata": {},
     "output_type": "execute_result"
    }
   ],
   "source": [
    "prices_age_groups.loc[prices_age_groups[\"index\"] == \"Price\"][[\"Teen\", \"Mature 17+\", \"Everyone\"]]"
   ]
  },
  {
   "cell_type": "code",
   "execution_count": 103,
   "id": "b6ff21ca",
   "metadata": {
    "ExecuteTime": {
     "end_time": "2023-02-10T00:04:21.286397Z",
     "start_time": "2023-02-10T00:04:21.263748Z"
    }
   },
   "outputs": [
    {
     "data": {
      "text/html": [
       "<div>\n",
       "<style scoped>\n",
       "    .dataframe tbody tr th:only-of-type {\n",
       "        vertical-align: middle;\n",
       "    }\n",
       "\n",
       "    .dataframe tbody tr th {\n",
       "        vertical-align: top;\n",
       "    }\n",
       "\n",
       "    .dataframe thead th {\n",
       "        text-align: right;\n",
       "    }\n",
       "</style>\n",
       "<table border=\"1\" class=\"dataframe\">\n",
       "  <thead>\n",
       "    <tr style=\"text-align: right;\">\n",
       "      <th>Content Rating</th>\n",
       "      <th>Teen</th>\n",
       "      <th>Mature 17+</th>\n",
       "      <th>Everyone</th>\n",
       "    </tr>\n",
       "  </thead>\n",
       "  <tbody>\n",
       "    <tr>\n",
       "      <th>0</th>\n",
       "      <td>3.780192e+00</td>\n",
       "      <td>3.792170e+00</td>\n",
       "      <td>3.538685e+00</td>\n",
       "    </tr>\n",
       "    <tr>\n",
       "      <th>1</th>\n",
       "      <td>8.719792e+05</td>\n",
       "      <td>3.387209e+05</td>\n",
       "      <td>2.938482e+05</td>\n",
       "    </tr>\n",
       "    <tr>\n",
       "      <th>2</th>\n",
       "      <td>2.552728e+04</td>\n",
       "      <td>2.102497e+04</td>\n",
       "      <td>1.630914e+04</td>\n",
       "    </tr>\n",
       "    <tr>\n",
       "      <th>3</th>\n",
       "      <td>2.697930e+07</td>\n",
       "      <td>9.598874e+06</td>\n",
       "      <td>1.195629e+07</td>\n",
       "    </tr>\n",
       "    <tr>\n",
       "      <th>4</th>\n",
       "      <td>5.726702e-01</td>\n",
       "      <td>2.373826e-01</td>\n",
       "      <td>1.165086e+00</td>\n",
       "    </tr>\n",
       "    <tr>\n",
       "      <th>5</th>\n",
       "      <td>4.522969e-02</td>\n",
       "      <td>3.693263e-02</td>\n",
       "      <td>3.679971e-02</td>\n",
       "    </tr>\n",
       "  </tbody>\n",
       "</table>\n",
       "</div>"
      ],
      "text/plain": [
       "Content Rating          Teen    Mature 17+      Everyone\n",
       "0               3.780192e+00  3.792170e+00  3.538685e+00\n",
       "1               8.719792e+05  3.387209e+05  2.938482e+05\n",
       "2               2.552728e+04  2.102497e+04  1.630914e+04\n",
       "3               2.697930e+07  9.598874e+06  1.195629e+07\n",
       "4               5.726702e-01  2.373826e-01  1.165086e+00\n",
       "5               4.522969e-02  3.693263e-02  3.679971e-02"
      ]
     },
     "execution_count": 103,
     "metadata": {},
     "output_type": "execute_result"
    }
   ],
   "source": [
    "prices_age_groups[[\"Teen\", \"Mature 17+\", \"Everyone\"]]"
   ]
  },
  {
   "cell_type": "code",
   "execution_count": 107,
   "id": "ae7ad97a",
   "metadata": {
    "ExecuteTime": {
     "end_time": "2023-02-10T00:05:51.434133Z",
     "start_time": "2023-02-10T00:05:51.420131Z"
    },
    "scrolled": true
   },
   "outputs": [],
   "source": [
    "prices_age_groups = prices_age_groups.loc[prices_age_groups[\"index\"] == \"Price\"][[\"Teen\", \"Mature 17+\", \"Everyone\"]]"
   ]
  },
  {
   "cell_type": "code",
   "execution_count": 108,
   "id": "35f4f2ee",
   "metadata": {
    "ExecuteTime": {
     "end_time": "2023-02-10T00:05:53.224270Z",
     "start_time": "2023-02-10T00:05:53.220269Z"
    }
   },
   "outputs": [
    {
     "data": {
      "text/plain": [
       "Index(['Teen', 'Mature 17+', 'Everyone'], dtype='object', name='Content Rating')"
      ]
     },
     "execution_count": 108,
     "metadata": {},
     "output_type": "execute_result"
    }
   ],
   "source": [
    "prices_age_groups.columns"
   ]
  },
  {
   "cell_type": "code",
   "execution_count": 112,
   "id": "92c65e10",
   "metadata": {
    "ExecuteTime": {
     "end_time": "2023-02-10T00:06:52.257486Z",
     "start_time": "2023-02-10T00:06:52.244487Z"
    }
   },
   "outputs": [
    {
     "data": {
      "text/html": [
       "<div>\n",
       "<style scoped>\n",
       "    .dataframe tbody tr th:only-of-type {\n",
       "        vertical-align: middle;\n",
       "    }\n",
       "\n",
       "    .dataframe tbody tr th {\n",
       "        vertical-align: top;\n",
       "    }\n",
       "\n",
       "    .dataframe thead th {\n",
       "        text-align: right;\n",
       "    }\n",
       "</style>\n",
       "<table border=\"1\" class=\"dataframe\">\n",
       "  <thead>\n",
       "    <tr style=\"text-align: right;\">\n",
       "      <th>Content Rating</th>\n",
       "      <th>Teen</th>\n",
       "      <th>Mature 17+</th>\n",
       "      <th>Everyone</th>\n",
       "    </tr>\n",
       "  </thead>\n",
       "  <tbody>\n",
       "    <tr>\n",
       "      <th>4</th>\n",
       "      <td>0.57267</td>\n",
       "      <td>0.237383</td>\n",
       "      <td>1.165086</td>\n",
       "    </tr>\n",
       "  </tbody>\n",
       "</table>\n",
       "</div>"
      ],
      "text/plain": [
       "Content Rating     Teen  Mature 17+  Everyone\n",
       "4               0.57267    0.237383  1.165086"
      ]
     },
     "execution_count": 112,
     "metadata": {},
     "output_type": "execute_result"
    }
   ],
   "source": [
    "prices_age_groups"
   ]
  },
  {
   "cell_type": "code",
   "execution_count": 121,
   "id": "6a39b475",
   "metadata": {
    "ExecuteTime": {
     "end_time": "2023-02-10T00:17:09.510103Z",
     "start_time": "2023-02-10T00:17:09.408485Z"
    }
   },
   "outputs": [
    {
     "data": {
      "image/png": "[encoded data removed]",
      "text/plain": [
       "<Figure size 1000x500 with 1 Axes>"
      ]
     },
     "metadata": {},
     "output_type": "display_data"
    }
   ],
   "source": [
    "plt.figure(figsize=(10,5))\n",
    "plt.bar(prices_age_groups.columns, prices_age_groups.iloc[0])\n",
    "plt.show()"
   ]
  },
  {
   "cell_type": "code",
   "execution_count": 117,
   "id": "5160fedf",
   "metadata": {
    "ExecuteTime": {
     "end_time": "2023-02-10T00:08:20.447822Z",
     "start_time": "2023-02-10T00:08:20.430820Z"
    }
   },
   "outputs": [
    {
     "data": {
      "text/html": [
       "<div>\n",
       "<style scoped>\n",
       "    .dataframe tbody tr th:only-of-type {\n",
       "        vertical-align: middle;\n",
       "    }\n",
       "\n",
       "    .dataframe tbody tr th {\n",
       "        vertical-align: top;\n",
       "    }\n",
       "\n",
       "    .dataframe thead th {\n",
       "        text-align: right;\n",
       "    }\n",
       "</style>\n",
       "<table border=\"1\" class=\"dataframe\">\n",
       "  <thead>\n",
       "    <tr style=\"text-align: right;\">\n",
       "      <th></th>\n",
       "      <th>App</th>\n",
       "      <th>Category</th>\n",
       "      <th>Rating</th>\n",
       "      <th>Reviews</th>\n",
       "      <th>Size</th>\n",
       "      <th>Installs</th>\n",
       "      <th>Type</th>\n",
       "      <th>Price</th>\n",
       "      <th>Content Rating</th>\n",
       "      <th>Genres</th>\n",
       "      <th>Last Updated</th>\n",
       "      <th>Current Ver</th>\n",
       "      <th>Android Ver</th>\n",
       "      <th>R/I</th>\n",
       "    </tr>\n",
       "  </thead>\n",
       "  <tbody>\n",
       "    <tr>\n",
       "      <th>265</th>\n",
       "      <td>Manga Master - Best manga &amp; comic reader</td>\n",
       "      <td>COMICS</td>\n",
       "      <td>4.6</td>\n",
       "      <td>24005.0</td>\n",
       "      <td>4900.0</td>\n",
       "      <td>500000.0</td>\n",
       "      <td>Free</td>\n",
       "      <td>0.0</td>\n",
       "      <td>Adults only 18+</td>\n",
       "      <td>Comics</td>\n",
       "      <td>July 4, 2018</td>\n",
       "      <td>1.1.7.0</td>\n",
       "      <td>4.1 and up</td>\n",
       "      <td>0.048010</td>\n",
       "    </tr>\n",
       "    <tr>\n",
       "      <th>2669</th>\n",
       "      <td>DraftKings - Daily Fantasy Sports</td>\n",
       "      <td>SPORTS</td>\n",
       "      <td>4.5</td>\n",
       "      <td>50017.0</td>\n",
       "      <td>41000.0</td>\n",
       "      <td>1000000.0</td>\n",
       "      <td>Free</td>\n",
       "      <td>0.0</td>\n",
       "      <td>Adults only 18+</td>\n",
       "      <td>Sports</td>\n",
       "      <td>July 24, 2018</td>\n",
       "      <td>3.21.324</td>\n",
       "      <td>4.4 and up</td>\n",
       "      <td>0.050017</td>\n",
       "    </tr>\n",
       "    <tr>\n",
       "      <th>5965</th>\n",
       "      <td>Manga Books</td>\n",
       "      <td>COMICS</td>\n",
       "      <td>3.8</td>\n",
       "      <td>7326.0</td>\n",
       "      <td>0.0</td>\n",
       "      <td>500000.0</td>\n",
       "      <td>Free</td>\n",
       "      <td>0.0</td>\n",
       "      <td>Adults only 18+</td>\n",
       "      <td>Comics</td>\n",
       "      <td>August 3, 2018</td>\n",
       "      <td>Varies with device</td>\n",
       "      <td>Varies with device</td>\n",
       "      <td>0.014652</td>\n",
       "    </tr>\n",
       "  </tbody>\n",
       "</table>\n",
       "</div>"
      ],
      "text/plain": [
       "                                           App Category  Rating  Reviews  \\\n",
       "265   Manga Master - Best manga & comic reader   COMICS     4.6  24005.0   \n",
       "2669         DraftKings - Daily Fantasy Sports   SPORTS     4.5  50017.0   \n",
       "5965                               Manga Books   COMICS     3.8   7326.0   \n",
       "\n",
       "         Size   Installs  Type  Price   Content Rating  Genres  \\\n",
       "265    4900.0   500000.0  Free    0.0  Adults only 18+  Comics   \n",
       "2669  41000.0  1000000.0  Free    0.0  Adults only 18+  Sports   \n",
       "5965      0.0   500000.0  Free    0.0  Adults only 18+  Comics   \n",
       "\n",
       "        Last Updated         Current Ver         Android Ver       R/I  \n",
       "265     July 4, 2018             1.1.7.0          4.1 and up  0.048010  \n",
       "2669   July 24, 2018            3.21.324          4.4 and up  0.050017  \n",
       "5965  August 3, 2018  Varies with device  Varies with device  0.014652  "
      ]
     },
     "execution_count": 117,
     "metadata": {},
     "output_type": "execute_result"
    }
   ],
   "source": [
    "df[df[\"Content Rating\"] == \"Adults only 18+\"]"
   ]
  },
  {
   "cell_type": "code",
   "execution_count": null,
   "id": "4d0b48f1",
   "metadata": {},
   "outputs": [],
   "source": []
  }
 ],
 "metadata": {
  "kernelspec": {
   "display_name": "Python 3 (ipykernel)",
   "language": "python",
   "name": "python3"
  },
  "language_info": {
   "codemirror_mode": {
    "name": "ipython",
    "version": 3
   },
   "file_extension": ".py",
   "mimetype": "text/x-python",
   "name": "python",
   "nbconvert_exporter": "python",
   "pygments_lexer": "ipython3",
   "version": "3.9.13"
  },
  "toc": {
   "base_numbering": 1,
   "nav_menu": {},
   "number_sections": true,
   "sideBar": true,
   "skip_h1_title": false,
   "title_cell": "Table of Contents",
   "title_sidebar": "Contents",
   "toc_cell": false,
   "toc_position": {},
   "toc_section_display": true,
   "toc_window_display": false
  },
  "varInspector": {
   "cols": {
    "lenName": 16,
    "lenType": 16,
    "lenVar": 40
   },
   "kernels_config": {
    "python": {
     "delete_cmd_postfix": "",
     "delete_cmd_prefix": "del ",
     "library": "var_list.py",
     "varRefreshCmd": "print(var_dic_list())"
    },
    "r": {
     "delete_cmd_postfix": ") ",
     "delete_cmd_prefix": "rm(",
     "library": "var_list.r",
     "varRefreshCmd": "cat(var_dic_list()) "
    }
   },
   "types_to_exclude": [
    "module",
    "function",
    "builtin_function_or_method",
    "instance",
    "_Feature"
   ],
   "window_display": false
  }
 },
 "nbformat": 4,
 "nbformat_minor": 5
}
