{
 "cells": [
  {
   "cell_type": "code",
   "execution_count": 225,
   "id": "7ce5f966",
   "metadata": {
    "ExecuteTime": {
     "end_time": "2023-01-19T23:47:37.293868Z",
     "start_time": "2023-01-19T23:47:37.278855Z"
    }
   },
   "outputs": [],
   "source": [
    "import numpy as np\n",
    "import pandas as pd \n",
    "import matplotlib.pyplot as plt\n",
    "import seaborn as sns"
   ]
  },
  {
   "cell_type": "code",
   "execution_count": 226,
   "id": "43934d27",
   "metadata": {
    "ExecuteTime": {
     "end_time": "2023-01-19T23:47:37.568802Z",
     "start_time": "2023-01-19T23:47:37.528656Z"
    },
    "scrolled": true
   },
   "outputs": [],
   "source": [
    "df = pd.read_csv(\"C:/Users/mkaya/Downloads/googleplaystore.csv\")"
   ]
  },
  {
   "cell_type": "code",
   "execution_count": 227,
   "id": "3ded775c",
   "metadata": {
    "ExecuteTime": {
     "end_time": "2023-01-19T23:47:39.611825Z",
     "start_time": "2023-01-19T23:47:39.583801Z"
    },
    "scrolled": true
   },
   "outputs": [
    {
     "data": {
      "text/html": [
       "<div>\n",
       "<style scoped>\n",
       "    .dataframe tbody tr th:only-of-type {\n",
       "        vertical-align: middle;\n",
       "    }\n",
       "\n",
       "    .dataframe tbody tr th {\n",
       "        vertical-align: top;\n",
       "    }\n",
       "\n",
       "    .dataframe thead th {\n",
       "        text-align: right;\n",
       "    }\n",
       "</style>\n",
       "<table border=\"1\" class=\"dataframe\">\n",
       "  <thead>\n",
       "    <tr style=\"text-align: right;\">\n",
       "      <th></th>\n",
       "      <th>App</th>\n",
       "      <th>Category</th>\n",
       "      <th>Rating</th>\n",
       "      <th>Reviews</th>\n",
       "      <th>Size</th>\n",
       "      <th>Installs</th>\n",
       "      <th>Type</th>\n",
       "      <th>Price</th>\n",
       "      <th>Content Rating</th>\n",
       "      <th>Genres</th>\n",
       "      <th>Last Updated</th>\n",
       "      <th>Current Ver</th>\n",
       "      <th>Android Ver</th>\n",
       "    </tr>\n",
       "  </thead>\n",
       "  <tbody>\n",
       "    <tr>\n",
       "      <th>0</th>\n",
       "      <td>Photo Editor &amp; Candy Camera &amp; Grid &amp; ScrapBook</td>\n",
       "      <td>ART_AND_DESIGN</td>\n",
       "      <td>4.1</td>\n",
       "      <td>159</td>\n",
       "      <td>19M</td>\n",
       "      <td>10,000+</td>\n",
       "      <td>Free</td>\n",
       "      <td>0</td>\n",
       "      <td>Everyone</td>\n",
       "      <td>Art &amp; Design</td>\n",
       "      <td>January 7, 2018</td>\n",
       "      <td>1.0.0</td>\n",
       "      <td>4.0.3 and up</td>\n",
       "    </tr>\n",
       "    <tr>\n",
       "      <th>1</th>\n",
       "      <td>Coloring book moana</td>\n",
       "      <td>ART_AND_DESIGN</td>\n",
       "      <td>3.9</td>\n",
       "      <td>967</td>\n",
       "      <td>14M</td>\n",
       "      <td>500,000+</td>\n",
       "      <td>Free</td>\n",
       "      <td>0</td>\n",
       "      <td>Everyone</td>\n",
       "      <td>Art &amp; Design;Pretend Play</td>\n",
       "      <td>January 15, 2018</td>\n",
       "      <td>2.0.0</td>\n",
       "      <td>4.0.3 and up</td>\n",
       "    </tr>\n",
       "    <tr>\n",
       "      <th>2</th>\n",
       "      <td>U Launcher Lite – FREE Live Cool Themes, Hide ...</td>\n",
       "      <td>ART_AND_DESIGN</td>\n",
       "      <td>4.7</td>\n",
       "      <td>87510</td>\n",
       "      <td>8.7M</td>\n",
       "      <td>5,000,000+</td>\n",
       "      <td>Free</td>\n",
       "      <td>0</td>\n",
       "      <td>Everyone</td>\n",
       "      <td>Art &amp; Design</td>\n",
       "      <td>August 1, 2018</td>\n",
       "      <td>1.2.4</td>\n",
       "      <td>4.0.3 and up</td>\n",
       "    </tr>\n",
       "    <tr>\n",
       "      <th>3</th>\n",
       "      <td>Sketch - Draw &amp; Paint</td>\n",
       "      <td>ART_AND_DESIGN</td>\n",
       "      <td>4.5</td>\n",
       "      <td>215644</td>\n",
       "      <td>25M</td>\n",
       "      <td>50,000,000+</td>\n",
       "      <td>Free</td>\n",
       "      <td>0</td>\n",
       "      <td>Teen</td>\n",
       "      <td>Art &amp; Design</td>\n",
       "      <td>June 8, 2018</td>\n",
       "      <td>Varies with device</td>\n",
       "      <td>4.2 and up</td>\n",
       "    </tr>\n",
       "    <tr>\n",
       "      <th>4</th>\n",
       "      <td>Pixel Draw - Number Art Coloring Book</td>\n",
       "      <td>ART_AND_DESIGN</td>\n",
       "      <td>4.3</td>\n",
       "      <td>967</td>\n",
       "      <td>2.8M</td>\n",
       "      <td>100,000+</td>\n",
       "      <td>Free</td>\n",
       "      <td>0</td>\n",
       "      <td>Everyone</td>\n",
       "      <td>Art &amp; Design;Creativity</td>\n",
       "      <td>June 20, 2018</td>\n",
       "      <td>1.1</td>\n",
       "      <td>4.4 and up</td>\n",
       "    </tr>\n",
       "    <tr>\n",
       "      <th>...</th>\n",
       "      <td>...</td>\n",
       "      <td>...</td>\n",
       "      <td>...</td>\n",
       "      <td>...</td>\n",
       "      <td>...</td>\n",
       "      <td>...</td>\n",
       "      <td>...</td>\n",
       "      <td>...</td>\n",
       "      <td>...</td>\n",
       "      <td>...</td>\n",
       "      <td>...</td>\n",
       "      <td>...</td>\n",
       "      <td>...</td>\n",
       "    </tr>\n",
       "    <tr>\n",
       "      <th>10836</th>\n",
       "      <td>Sya9a Maroc - FR</td>\n",
       "      <td>FAMILY</td>\n",
       "      <td>4.5</td>\n",
       "      <td>38</td>\n",
       "      <td>53M</td>\n",
       "      <td>5,000+</td>\n",
       "      <td>Free</td>\n",
       "      <td>0</td>\n",
       "      <td>Everyone</td>\n",
       "      <td>Education</td>\n",
       "      <td>July 25, 2017</td>\n",
       "      <td>1.48</td>\n",
       "      <td>4.1 and up</td>\n",
       "    </tr>\n",
       "    <tr>\n",
       "      <th>10837</th>\n",
       "      <td>Fr. Mike Schmitz Audio Teachings</td>\n",
       "      <td>FAMILY</td>\n",
       "      <td>5.0</td>\n",
       "      <td>4</td>\n",
       "      <td>3.6M</td>\n",
       "      <td>100+</td>\n",
       "      <td>Free</td>\n",
       "      <td>0</td>\n",
       "      <td>Everyone</td>\n",
       "      <td>Education</td>\n",
       "      <td>July 6, 2018</td>\n",
       "      <td>1.0</td>\n",
       "      <td>4.1 and up</td>\n",
       "    </tr>\n",
       "    <tr>\n",
       "      <th>10838</th>\n",
       "      <td>Parkinson Exercices FR</td>\n",
       "      <td>MEDICAL</td>\n",
       "      <td>NaN</td>\n",
       "      <td>3</td>\n",
       "      <td>9.5M</td>\n",
       "      <td>1,000+</td>\n",
       "      <td>Free</td>\n",
       "      <td>0</td>\n",
       "      <td>Everyone</td>\n",
       "      <td>Medical</td>\n",
       "      <td>January 20, 2017</td>\n",
       "      <td>1.0</td>\n",
       "      <td>2.2 and up</td>\n",
       "    </tr>\n",
       "    <tr>\n",
       "      <th>10839</th>\n",
       "      <td>The SCP Foundation DB fr nn5n</td>\n",
       "      <td>BOOKS_AND_REFERENCE</td>\n",
       "      <td>4.5</td>\n",
       "      <td>114</td>\n",
       "      <td>Varies with device</td>\n",
       "      <td>1,000+</td>\n",
       "      <td>Free</td>\n",
       "      <td>0</td>\n",
       "      <td>Mature 17+</td>\n",
       "      <td>Books &amp; Reference</td>\n",
       "      <td>January 19, 2015</td>\n",
       "      <td>Varies with device</td>\n",
       "      <td>Varies with device</td>\n",
       "    </tr>\n",
       "    <tr>\n",
       "      <th>10840</th>\n",
       "      <td>iHoroscope - 2018 Daily Horoscope &amp; Astrology</td>\n",
       "      <td>LIFESTYLE</td>\n",
       "      <td>4.5</td>\n",
       "      <td>398307</td>\n",
       "      <td>19M</td>\n",
       "      <td>10,000,000+</td>\n",
       "      <td>Free</td>\n",
       "      <td>0</td>\n",
       "      <td>Everyone</td>\n",
       "      <td>Lifestyle</td>\n",
       "      <td>July 25, 2018</td>\n",
       "      <td>Varies with device</td>\n",
       "      <td>Varies with device</td>\n",
       "    </tr>\n",
       "  </tbody>\n",
       "</table>\n",
       "<p>10841 rows × 13 columns</p>\n",
       "</div>"
      ],
      "text/plain": [
       "                                                     App             Category  \\\n",
       "0         Photo Editor & Candy Camera & Grid & ScrapBook       ART_AND_DESIGN   \n",
       "1                                    Coloring book moana       ART_AND_DESIGN   \n",
       "2      U Launcher Lite – FREE Live Cool Themes, Hide ...       ART_AND_DESIGN   \n",
       "3                                  Sketch - Draw & Paint       ART_AND_DESIGN   \n",
       "4                  Pixel Draw - Number Art Coloring Book       ART_AND_DESIGN   \n",
       "...                                                  ...                  ...   \n",
       "10836                                   Sya9a Maroc - FR               FAMILY   \n",
       "10837                   Fr. Mike Schmitz Audio Teachings               FAMILY   \n",
       "10838                             Parkinson Exercices FR              MEDICAL   \n",
       "10839                      The SCP Foundation DB fr nn5n  BOOKS_AND_REFERENCE   \n",
       "10840      iHoroscope - 2018 Daily Horoscope & Astrology            LIFESTYLE   \n",
       "\n",
       "       Rating Reviews                Size     Installs  Type Price  \\\n",
       "0         4.1     159                 19M      10,000+  Free     0   \n",
       "1         3.9     967                 14M     500,000+  Free     0   \n",
       "2         4.7   87510                8.7M   5,000,000+  Free     0   \n",
       "3         4.5  215644                 25M  50,000,000+  Free     0   \n",
       "4         4.3     967                2.8M     100,000+  Free     0   \n",
       "...       ...     ...                 ...          ...   ...   ...   \n",
       "10836     4.5      38                 53M       5,000+  Free     0   \n",
       "10837     5.0       4                3.6M         100+  Free     0   \n",
       "10838     NaN       3                9.5M       1,000+  Free     0   \n",
       "10839     4.5     114  Varies with device       1,000+  Free     0   \n",
       "10840     4.5  398307                 19M  10,000,000+  Free     0   \n",
       "\n",
       "      Content Rating                     Genres      Last Updated  \\\n",
       "0           Everyone               Art & Design   January 7, 2018   \n",
       "1           Everyone  Art & Design;Pretend Play  January 15, 2018   \n",
       "2           Everyone               Art & Design    August 1, 2018   \n",
       "3               Teen               Art & Design      June 8, 2018   \n",
       "4           Everyone    Art & Design;Creativity     June 20, 2018   \n",
       "...              ...                        ...               ...   \n",
       "10836       Everyone                  Education     July 25, 2017   \n",
       "10837       Everyone                  Education      July 6, 2018   \n",
       "10838       Everyone                    Medical  January 20, 2017   \n",
       "10839     Mature 17+          Books & Reference  January 19, 2015   \n",
       "10840       Everyone                  Lifestyle     July 25, 2018   \n",
       "\n",
       "              Current Ver         Android Ver  \n",
       "0                   1.0.0        4.0.3 and up  \n",
       "1                   2.0.0        4.0.3 and up  \n",
       "2                   1.2.4        4.0.3 and up  \n",
       "3      Varies with device          4.2 and up  \n",
       "4                     1.1          4.4 and up  \n",
       "...                   ...                 ...  \n",
       "10836                1.48          4.1 and up  \n",
       "10837                 1.0          4.1 and up  \n",
       "10838                 1.0          2.2 and up  \n",
       "10839  Varies with device  Varies with device  \n",
       "10840  Varies with device  Varies with device  \n",
       "\n",
       "[10841 rows x 13 columns]"
      ]
     },
     "execution_count": 227,
     "metadata": {},
     "output_type": "execute_result"
    }
   ],
   "source": [
    "df"
   ]
  },
  {
   "cell_type": "code",
   "execution_count": 228,
   "id": "95f18d24",
   "metadata": {
    "ExecuteTime": {
     "end_time": "2023-01-19T23:47:42.239863Z",
     "start_time": "2023-01-19T23:47:42.230586Z"
    }
   },
   "outputs": [],
   "source": [
    "df.loc[10472] = [\"Life Made WI-Fi Touchscreen Photo Frame\", np.nan, 1.9, 19.0, \"3.0M\", \"1000+\", \"Free\", 0, \"Everyone\", np.nan, \"February 11,2018\", \"1.0.19\", \"4.0 and up\"]"
   ]
  },
  {
   "cell_type": "code",
   "execution_count": 229,
   "id": "d4a84042",
   "metadata": {
    "ExecuteTime": {
     "end_time": "2023-01-19T23:47:43.003649Z",
     "start_time": "2023-01-19T23:47:42.991335Z"
    }
   },
   "outputs": [
    {
     "data": {
      "text/plain": [
       "Index(['App', 'Category', 'Rating', 'Reviews', 'Size', 'Installs', 'Type',\n",
       "       'Price', 'Content Rating', 'Genres', 'Last Updated', 'Current Ver',\n",
       "       'Android Ver'],\n",
       "      dtype='object')"
      ]
     },
     "execution_count": 229,
     "metadata": {},
     "output_type": "execute_result"
    }
   ],
   "source": [
    "df.columns"
   ]
  },
  {
   "cell_type": "code",
   "execution_count": 230,
   "id": "e91048b8",
   "metadata": {
    "ExecuteTime": {
     "end_time": "2023-01-19T23:47:44.482154Z",
     "start_time": "2023-01-19T23:47:44.471131Z"
    },
    "scrolled": true
   },
   "outputs": [
    {
     "data": {
      "text/plain": [
       "3994    500,000,000+\n",
       "3767    500,000,000+\n",
       "1920    500,000,000+\n",
       "5596    500,000,000+\n",
       "420     500,000,000+\n",
       "            ...     \n",
       "8871              0+\n",
       "9905              0+\n",
       "9934              0+\n",
       "7434              0+\n",
       "9148               0\n",
       "Name: Installs, Length: 10841, dtype: object"
      ]
     },
     "execution_count": 230,
     "metadata": {},
     "output_type": "execute_result"
    }
   ],
   "source": [
    "df[\"Installs\"].sort_values(ascending = False)"
   ]
  },
  {
   "cell_type": "code",
   "execution_count": 179,
   "id": "6cdd658e",
   "metadata": {
    "ExecuteTime": {
     "end_time": "2023-01-19T23:34:55.329403Z",
     "start_time": "2023-01-19T23:34:55.318393Z"
    },
    "scrolled": true
   },
   "outputs": [
    {
     "name": "stderr",
     "output_type": "stream",
     "text": [
      "C:\\Users\\mkaya\\AppData\\Local\\Temp\\ipykernel_14164\\1371233117.py:1: SettingWithCopyWarning: \n",
      "A value is trying to be set on a copy of a slice from a DataFrame\n",
      "\n",
      "See the caveats in the documentation: https://pandas.pydata.org/pandas-docs/stable/user_guide/indexing.html#returning-a-view-versus-a-copy\n",
      "  df.iloc[10472][\"Type\"] = \"Free\"\n"
     ]
    }
   ],
   "source": [
    "df.iloc[10472][\"Type\"] = \"Free\""
   ]
  },
  {
   "cell_type": "code",
   "execution_count": 143,
   "id": "8e1b32c9",
   "metadata": {
    "ExecuteTime": {
     "end_time": "2023-01-19T23:29:41.818944Z",
     "start_time": "2023-01-19T23:29:41.813939Z"
    }
   },
   "outputs": [
    {
     "name": "stderr",
     "output_type": "stream",
     "text": [
      "C:\\Users\\mkaya\\AppData\\Local\\Temp\\ipykernel_14164\\1177401003.py:1: SettingWithCopyWarning: \n",
      "A value is trying to be set on a copy of a slice from a DataFrame\n",
      "\n",
      "See the caveats in the documentation: https://pandas.pydata.org/pandas-docs/stable/user_guide/indexing.html#returning-a-view-versus-a-copy\n",
      "  df.iloc[10472][\"Installs\"] = 0\n"
     ]
    }
   ],
   "source": [
    "df.iloc[10472][\"Installs\"] = 0"
   ]
  },
  {
   "cell_type": "code",
   "execution_count": 180,
   "id": "7234ef57",
   "metadata": {
    "ExecuteTime": {
     "end_time": "2023-01-19T23:35:04.449392Z",
     "start_time": "2023-01-19T23:35:04.432153Z"
    },
    "scrolled": true
   },
   "outputs": [
    {
     "data": {
      "text/plain": [
       "App               Life Made WI-Fi Touchscreen Photo Frame\n",
       "Category                                              NaN\n",
       "Rating                                                1.9\n",
       "Reviews                                              19.0\n",
       "Size                                                 3.0M\n",
       "Installs                                            1000+\n",
       "Type                                                 Free\n",
       "Price                                                   0\n",
       "Content Rating                                   Everyone\n",
       "Genres                                                NaN\n",
       "Last Updated                             February 11,2018\n",
       "Current Ver                                        1.0.19\n",
       "Android Ver                                    4.0 and up\n",
       "Name: 10472, dtype: object"
      ]
     },
     "execution_count": 180,
     "metadata": {},
     "output_type": "execute_result"
    }
   ],
   "source": [
    "df.iloc[10472]"
   ]
  },
  {
   "cell_type": "code",
   "execution_count": 145,
   "id": "bbc378b2",
   "metadata": {
    "ExecuteTime": {
     "end_time": "2023-01-19T23:29:44.521842Z",
     "start_time": "2023-01-19T23:29:44.510833Z"
    }
   },
   "outputs": [
    {
     "data": {
      "text/plain": [
       "App               osmino Wi-Fi: free WiFi\n",
       "Category                            TOOLS\n",
       "Rating                                4.2\n",
       "Reviews                            134203\n",
       "Size                                 4.1M\n",
       "Installs                      10,000,000+\n",
       "Type                                 Free\n",
       "Price                                   0\n",
       "Content Rating                   Everyone\n",
       "Genres                              Tools\n",
       "Last Updated               August 7, 2018\n",
       "Current Ver                       6.06.14\n",
       "Android Ver                    4.4 and up\n",
       "Name: 10473, dtype: object"
      ]
     },
     "execution_count": 145,
     "metadata": {},
     "output_type": "execute_result"
    }
   ],
   "source": [
    "df.iloc[10473]"
   ]
  },
  {
   "cell_type": "code",
   "execution_count": 146,
   "id": "3a568d00",
   "metadata": {
    "ExecuteTime": {
     "end_time": "2023-01-19T23:29:46.357939Z",
     "start_time": "2023-01-19T23:29:46.335919Z"
    }
   },
   "outputs": [
    {
     "name": "stdout",
     "output_type": "stream",
     "text": [
      "<class 'pandas.core.frame.DataFrame'>\n",
      "RangeIndex: 10841 entries, 0 to 10840\n",
      "Data columns (total 13 columns):\n",
      " #   Column          Non-Null Count  Dtype  \n",
      "---  ------          --------------  -----  \n",
      " 0   App             10841 non-null  object \n",
      " 1   Category        10841 non-null  object \n",
      " 2   Rating          9367 non-null   float64\n",
      " 3   Reviews         10841 non-null  object \n",
      " 4   Size            10841 non-null  object \n",
      " 5   Installs        10841 non-null  object \n",
      " 6   Type            10840 non-null  object \n",
      " 7   Price           10841 non-null  object \n",
      " 8   Content Rating  10840 non-null  object \n",
      " 9   Genres          10841 non-null  object \n",
      " 10  Last Updated    10841 non-null  object \n",
      " 11  Current Ver     10833 non-null  object \n",
      " 12  Android Ver     10838 non-null  object \n",
      "dtypes: float64(1), object(12)\n",
      "memory usage: 1.1+ MB\n"
     ]
    }
   ],
   "source": [
    "df.info()"
   ]
  },
  {
   "cell_type": "code",
   "execution_count": 231,
   "id": "643786af",
   "metadata": {
    "ExecuteTime": {
     "end_time": "2023-01-19T23:47:52.172707Z",
     "start_time": "2023-01-19T23:47:52.143462Z"
    },
    "scrolled": false
   },
   "outputs": [
    {
     "data": {
      "text/html": [
       "<div>\n",
       "<style scoped>\n",
       "    .dataframe tbody tr th:only-of-type {\n",
       "        vertical-align: middle;\n",
       "    }\n",
       "\n",
       "    .dataframe tbody tr th {\n",
       "        vertical-align: top;\n",
       "    }\n",
       "\n",
       "    .dataframe thead th {\n",
       "        text-align: right;\n",
       "    }\n",
       "</style>\n",
       "<table border=\"1\" class=\"dataframe\">\n",
       "  <thead>\n",
       "    <tr style=\"text-align: right;\">\n",
       "      <th></th>\n",
       "      <th>App</th>\n",
       "      <th>Category</th>\n",
       "      <th>Rating</th>\n",
       "      <th>Reviews</th>\n",
       "      <th>Size</th>\n",
       "      <th>Installs</th>\n",
       "      <th>Type</th>\n",
       "      <th>Price</th>\n",
       "      <th>Content Rating</th>\n",
       "      <th>Genres</th>\n",
       "      <th>Last Updated</th>\n",
       "      <th>Current Ver</th>\n",
       "      <th>Android Ver</th>\n",
       "    </tr>\n",
       "  </thead>\n",
       "  <tbody>\n",
       "    <tr>\n",
       "      <th>0</th>\n",
       "      <td>Photo Editor &amp; Candy Camera &amp; Grid &amp; ScrapBook</td>\n",
       "      <td>ART_AND_DESIGN</td>\n",
       "      <td>4.1</td>\n",
       "      <td>159</td>\n",
       "      <td>19M</td>\n",
       "      <td>10,000+</td>\n",
       "      <td>Free</td>\n",
       "      <td>0</td>\n",
       "      <td>Everyone</td>\n",
       "      <td>Art &amp; Design</td>\n",
       "      <td>January 7, 2018</td>\n",
       "      <td>1.0.0</td>\n",
       "      <td>4.0.3 and up</td>\n",
       "    </tr>\n",
       "    <tr>\n",
       "      <th>1</th>\n",
       "      <td>Coloring book moana</td>\n",
       "      <td>ART_AND_DESIGN</td>\n",
       "      <td>3.9</td>\n",
       "      <td>967</td>\n",
       "      <td>14M</td>\n",
       "      <td>500,000+</td>\n",
       "      <td>Free</td>\n",
       "      <td>0</td>\n",
       "      <td>Everyone</td>\n",
       "      <td>Art &amp; Design;Pretend Play</td>\n",
       "      <td>January 15, 2018</td>\n",
       "      <td>2.0.0</td>\n",
       "      <td>4.0.3 and up</td>\n",
       "    </tr>\n",
       "    <tr>\n",
       "      <th>2</th>\n",
       "      <td>U Launcher Lite – FREE Live Cool Themes, Hide ...</td>\n",
       "      <td>ART_AND_DESIGN</td>\n",
       "      <td>4.7</td>\n",
       "      <td>87510</td>\n",
       "      <td>8.7M</td>\n",
       "      <td>5,000,000+</td>\n",
       "      <td>Free</td>\n",
       "      <td>0</td>\n",
       "      <td>Everyone</td>\n",
       "      <td>Art &amp; Design</td>\n",
       "      <td>August 1, 2018</td>\n",
       "      <td>1.2.4</td>\n",
       "      <td>4.0.3 and up</td>\n",
       "    </tr>\n",
       "    <tr>\n",
       "      <th>3</th>\n",
       "      <td>Sketch - Draw &amp; Paint</td>\n",
       "      <td>ART_AND_DESIGN</td>\n",
       "      <td>4.5</td>\n",
       "      <td>215644</td>\n",
       "      <td>25M</td>\n",
       "      <td>50,000,000+</td>\n",
       "      <td>Free</td>\n",
       "      <td>0</td>\n",
       "      <td>Teen</td>\n",
       "      <td>Art &amp; Design</td>\n",
       "      <td>June 8, 2018</td>\n",
       "      <td>Varies with device</td>\n",
       "      <td>4.2 and up</td>\n",
       "    </tr>\n",
       "    <tr>\n",
       "      <th>4</th>\n",
       "      <td>Pixel Draw - Number Art Coloring Book</td>\n",
       "      <td>ART_AND_DESIGN</td>\n",
       "      <td>4.3</td>\n",
       "      <td>967</td>\n",
       "      <td>2.8M</td>\n",
       "      <td>100,000+</td>\n",
       "      <td>Free</td>\n",
       "      <td>0</td>\n",
       "      <td>Everyone</td>\n",
       "      <td>Art &amp; Design;Creativity</td>\n",
       "      <td>June 20, 2018</td>\n",
       "      <td>1.1</td>\n",
       "      <td>4.4 and up</td>\n",
       "    </tr>\n",
       "    <tr>\n",
       "      <th>...</th>\n",
       "      <td>...</td>\n",
       "      <td>...</td>\n",
       "      <td>...</td>\n",
       "      <td>...</td>\n",
       "      <td>...</td>\n",
       "      <td>...</td>\n",
       "      <td>...</td>\n",
       "      <td>...</td>\n",
       "      <td>...</td>\n",
       "      <td>...</td>\n",
       "      <td>...</td>\n",
       "      <td>...</td>\n",
       "      <td>...</td>\n",
       "    </tr>\n",
       "    <tr>\n",
       "      <th>10836</th>\n",
       "      <td>Sya9a Maroc - FR</td>\n",
       "      <td>FAMILY</td>\n",
       "      <td>4.5</td>\n",
       "      <td>38</td>\n",
       "      <td>53M</td>\n",
       "      <td>5,000+</td>\n",
       "      <td>Free</td>\n",
       "      <td>0</td>\n",
       "      <td>Everyone</td>\n",
       "      <td>Education</td>\n",
       "      <td>July 25, 2017</td>\n",
       "      <td>1.48</td>\n",
       "      <td>4.1 and up</td>\n",
       "    </tr>\n",
       "    <tr>\n",
       "      <th>10837</th>\n",
       "      <td>Fr. Mike Schmitz Audio Teachings</td>\n",
       "      <td>FAMILY</td>\n",
       "      <td>5.0</td>\n",
       "      <td>4</td>\n",
       "      <td>3.6M</td>\n",
       "      <td>100+</td>\n",
       "      <td>Free</td>\n",
       "      <td>0</td>\n",
       "      <td>Everyone</td>\n",
       "      <td>Education</td>\n",
       "      <td>July 6, 2018</td>\n",
       "      <td>1.0</td>\n",
       "      <td>4.1 and up</td>\n",
       "    </tr>\n",
       "    <tr>\n",
       "      <th>10838</th>\n",
       "      <td>Parkinson Exercices FR</td>\n",
       "      <td>MEDICAL</td>\n",
       "      <td>NaN</td>\n",
       "      <td>3</td>\n",
       "      <td>9.5M</td>\n",
       "      <td>1,000+</td>\n",
       "      <td>Free</td>\n",
       "      <td>0</td>\n",
       "      <td>Everyone</td>\n",
       "      <td>Medical</td>\n",
       "      <td>January 20, 2017</td>\n",
       "      <td>1.0</td>\n",
       "      <td>2.2 and up</td>\n",
       "    </tr>\n",
       "    <tr>\n",
       "      <th>10839</th>\n",
       "      <td>The SCP Foundation DB fr nn5n</td>\n",
       "      <td>BOOKS_AND_REFERENCE</td>\n",
       "      <td>4.5</td>\n",
       "      <td>114</td>\n",
       "      <td>Varies with device</td>\n",
       "      <td>1,000+</td>\n",
       "      <td>Free</td>\n",
       "      <td>0</td>\n",
       "      <td>Mature 17+</td>\n",
       "      <td>Books &amp; Reference</td>\n",
       "      <td>January 19, 2015</td>\n",
       "      <td>Varies with device</td>\n",
       "      <td>Varies with device</td>\n",
       "    </tr>\n",
       "    <tr>\n",
       "      <th>10840</th>\n",
       "      <td>iHoroscope - 2018 Daily Horoscope &amp; Astrology</td>\n",
       "      <td>LIFESTYLE</td>\n",
       "      <td>4.5</td>\n",
       "      <td>398307</td>\n",
       "      <td>19M</td>\n",
       "      <td>10,000,000+</td>\n",
       "      <td>Free</td>\n",
       "      <td>0</td>\n",
       "      <td>Everyone</td>\n",
       "      <td>Lifestyle</td>\n",
       "      <td>July 25, 2018</td>\n",
       "      <td>Varies with device</td>\n",
       "      <td>Varies with device</td>\n",
       "    </tr>\n",
       "  </tbody>\n",
       "</table>\n",
       "<p>10841 rows × 13 columns</p>\n",
       "</div>"
      ],
      "text/plain": [
       "                                                     App             Category  \\\n",
       "0         Photo Editor & Candy Camera & Grid & ScrapBook       ART_AND_DESIGN   \n",
       "1                                    Coloring book moana       ART_AND_DESIGN   \n",
       "2      U Launcher Lite – FREE Live Cool Themes, Hide ...       ART_AND_DESIGN   \n",
       "3                                  Sketch - Draw & Paint       ART_AND_DESIGN   \n",
       "4                  Pixel Draw - Number Art Coloring Book       ART_AND_DESIGN   \n",
       "...                                                  ...                  ...   \n",
       "10836                                   Sya9a Maroc - FR               FAMILY   \n",
       "10837                   Fr. Mike Schmitz Audio Teachings               FAMILY   \n",
       "10838                             Parkinson Exercices FR              MEDICAL   \n",
       "10839                      The SCP Foundation DB fr nn5n  BOOKS_AND_REFERENCE   \n",
       "10840      iHoroscope - 2018 Daily Horoscope & Astrology            LIFESTYLE   \n",
       "\n",
       "       Rating Reviews                Size     Installs  Type Price  \\\n",
       "0         4.1     159                 19M      10,000+  Free     0   \n",
       "1         3.9     967                 14M     500,000+  Free     0   \n",
       "2         4.7   87510                8.7M   5,000,000+  Free     0   \n",
       "3         4.5  215644                 25M  50,000,000+  Free     0   \n",
       "4         4.3     967                2.8M     100,000+  Free     0   \n",
       "...       ...     ...                 ...          ...   ...   ...   \n",
       "10836     4.5      38                 53M       5,000+  Free     0   \n",
       "10837     5.0       4                3.6M         100+  Free     0   \n",
       "10838     NaN       3                9.5M       1,000+  Free     0   \n",
       "10839     4.5     114  Varies with device       1,000+  Free     0   \n",
       "10840     4.5  398307                 19M  10,000,000+  Free     0   \n",
       "\n",
       "      Content Rating                     Genres      Last Updated  \\\n",
       "0           Everyone               Art & Design   January 7, 2018   \n",
       "1           Everyone  Art & Design;Pretend Play  January 15, 2018   \n",
       "2           Everyone               Art & Design    August 1, 2018   \n",
       "3               Teen               Art & Design      June 8, 2018   \n",
       "4           Everyone    Art & Design;Creativity     June 20, 2018   \n",
       "...              ...                        ...               ...   \n",
       "10836       Everyone                  Education     July 25, 2017   \n",
       "10837       Everyone                  Education      July 6, 2018   \n",
       "10838       Everyone                    Medical  January 20, 2017   \n",
       "10839     Mature 17+          Books & Reference  January 19, 2015   \n",
       "10840       Everyone                  Lifestyle     July 25, 2018   \n",
       "\n",
       "              Current Ver         Android Ver  \n",
       "0                   1.0.0        4.0.3 and up  \n",
       "1                   2.0.0        4.0.3 and up  \n",
       "2                   1.2.4        4.0.3 and up  \n",
       "3      Varies with device          4.2 and up  \n",
       "4                     1.1          4.4 and up  \n",
       "...                   ...                 ...  \n",
       "10836                1.48          4.1 and up  \n",
       "10837                 1.0          4.1 and up  \n",
       "10838                 1.0          2.2 and up  \n",
       "10839  Varies with device  Varies with device  \n",
       "10840  Varies with device  Varies with device  \n",
       "\n",
       "[10841 rows x 13 columns]"
      ]
     },
     "execution_count": 231,
     "metadata": {},
     "output_type": "execute_result"
    }
   ],
   "source": [
    "df"
   ]
  },
  {
   "cell_type": "code",
   "execution_count": 232,
   "id": "9c6b2e14",
   "metadata": {
    "ExecuteTime": {
     "end_time": "2023-01-19T23:48:01.794498Z",
     "start_time": "2023-01-19T23:48:01.769476Z"
    },
    "scrolled": true
   },
   "outputs": [],
   "source": [
    "df.fillna(0, inplace = True)"
   ]
  },
  {
   "cell_type": "code",
   "execution_count": 233,
   "id": "50f2db10",
   "metadata": {
    "ExecuteTime": {
     "end_time": "2023-01-19T23:48:07.529477Z",
     "start_time": "2023-01-19T23:48:07.506780Z"
    },
    "scrolled": true
   },
   "outputs": [],
   "source": [
    "df.reset_index(inplace=True)"
   ]
  },
  {
   "cell_type": "code",
   "execution_count": 234,
   "id": "73389324",
   "metadata": {
    "ExecuteTime": {
     "end_time": "2023-01-19T23:48:08.595466Z",
     "start_time": "2023-01-19T23:48:08.570136Z"
    }
   },
   "outputs": [
    {
     "data": {
      "text/plain": [
       "True"
      ]
     },
     "execution_count": 234,
     "metadata": {},
     "output_type": "execute_result"
    }
   ],
   "source": [
    "df.drop_duplicates().shape == df.shape"
   ]
  },
  {
   "cell_type": "code",
   "execution_count": 235,
   "id": "ec2aaba8",
   "metadata": {
    "ExecuteTime": {
     "end_time": "2023-01-19T23:48:12.263716Z",
     "start_time": "2023-01-19T23:48:12.250713Z"
    }
   },
   "outputs": [],
   "source": [
    "df[\"Size\"]=df[\"Size\"].astype(\"str\")"
   ]
  },
  {
   "cell_type": "code",
   "execution_count": 236,
   "id": "25a45f91",
   "metadata": {
    "ExecuteTime": {
     "end_time": "2023-01-19T23:48:12.834863Z",
     "start_time": "2023-01-19T23:48:12.819237Z"
    }
   },
   "outputs": [
    {
     "name": "stdout",
     "output_type": "stream",
     "text": [
      "<class 'pandas.core.series.Series'>\n",
      "RangeIndex: 10841 entries, 0 to 10840\n",
      "Series name: Size\n",
      "Non-Null Count  Dtype \n",
      "--------------  ----- \n",
      "10841 non-null  object\n",
      "dtypes: object(1)\n",
      "memory usage: 84.8+ KB\n"
     ]
    }
   ],
   "source": [
    "df.Size.info()"
   ]
  },
  {
   "cell_type": "code",
   "execution_count": 237,
   "id": "edf2f8da",
   "metadata": {
    "ExecuteTime": {
     "end_time": "2023-01-19T23:48:13.531178Z",
     "start_time": "2023-01-19T23:48:13.522925Z"
    },
    "scrolled": true
   },
   "outputs": [
    {
     "data": {
      "text/plain": [
       "0                       19M\n",
       "1                       14M\n",
       "2                      8.7M\n",
       "3                       25M\n",
       "4                      2.8M\n",
       "                ...        \n",
       "10836                   53M\n",
       "10837                  3.6M\n",
       "10838                  9.5M\n",
       "10839    Varies with device\n",
       "10840                   19M\n",
       "Name: Size, Length: 10841, dtype: object"
      ]
     },
     "execution_count": 237,
     "metadata": {},
     "output_type": "execute_result"
    }
   ],
   "source": [
    "df.Size.replace(\"M\", \"\")"
   ]
  },
  {
   "cell_type": "code",
   "execution_count": 244,
   "id": "47fb494b",
   "metadata": {
    "ExecuteTime": {
     "end_time": "2023-01-19T23:49:28.809032Z",
     "start_time": "2023-01-19T23:49:28.781007Z"
    },
    "scrolled": true
   },
   "outputs": [],
   "source": [
    "liste = []\n",
    "for i in df.Size:\n",
    "    a = str(i)\n",
    "    a = a.replace(\"Varies with device\",\"0\")\n",
    "    a = a.replace(\" \", \"0\")\n",
    "    a = a.replace(\"k\",\"\")\n",
    "    if \"M\" in a:\n",
    "        a = a.replace(\"M\",\"000\")\n",
    "        a = float(a)\n",
    "        a * 1000\n",
    "    a = float(a)\n",
    "    liste.append(float(a))"
   ]
  },
  {
   "cell_type": "code",
   "execution_count": 245,
   "id": "67c1f9f9",
   "metadata": {
    "ExecuteTime": {
     "end_time": "2023-01-19T23:49:29.314142Z",
     "start_time": "2023-01-19T23:49:29.300130Z"
    }
   },
   "outputs": [],
   "source": [
    "df_copy = df.copy()"
   ]
  },
  {
   "cell_type": "code",
   "execution_count": 246,
   "id": "8a92b2b6",
   "metadata": {
    "ExecuteTime": {
     "end_time": "2023-01-19T23:49:30.026079Z",
     "start_time": "2023-01-19T23:49:30.012067Z"
    }
   },
   "outputs": [],
   "source": [
    "df[\"Size\"] = liste"
   ]
  },
  {
   "cell_type": "code",
   "execution_count": 247,
   "id": "96f5a921",
   "metadata": {
    "ExecuteTime": {
     "end_time": "2023-01-19T23:49:30.396948Z",
     "start_time": "2023-01-19T23:49:30.379933Z"
    },
    "scrolled": true
   },
   "outputs": [],
   "source": [
    "df[\"Size\"] = df[\"Size\"] / 1000"
   ]
  },
  {
   "cell_type": "code",
   "execution_count": null,
   "id": "cdb9a0e8",
   "metadata": {},
   "outputs": [],
   "source": []
  },
  {
   "cell_type": "code",
   "execution_count": 249,
   "id": "134b391e",
   "metadata": {
    "ExecuteTime": {
     "end_time": "2023-01-19T23:49:42.724893Z",
     "start_time": "2023-01-19T23:49:42.702767Z"
    },
    "scrolled": false
   },
   "outputs": [
    {
     "data": {
      "text/html": [
       "<div>\n",
       "<style scoped>\n",
       "    .dataframe tbody tr th:only-of-type {\n",
       "        vertical-align: middle;\n",
       "    }\n",
       "\n",
       "    .dataframe tbody tr th {\n",
       "        vertical-align: top;\n",
       "    }\n",
       "\n",
       "    .dataframe thead th {\n",
       "        text-align: right;\n",
       "    }\n",
       "</style>\n",
       "<table border=\"1\" class=\"dataframe\">\n",
       "  <thead>\n",
       "    <tr style=\"text-align: right;\">\n",
       "      <th></th>\n",
       "      <th>index</th>\n",
       "      <th>App</th>\n",
       "      <th>Category</th>\n",
       "      <th>Rating</th>\n",
       "      <th>Reviews</th>\n",
       "      <th>Size</th>\n",
       "      <th>Installs</th>\n",
       "      <th>Type</th>\n",
       "      <th>Price</th>\n",
       "      <th>Content Rating</th>\n",
       "      <th>Genres</th>\n",
       "      <th>Last Updated</th>\n",
       "      <th>Current Ver</th>\n",
       "      <th>Android Ver</th>\n",
       "    </tr>\n",
       "  </thead>\n",
       "  <tbody>\n",
       "    <tr>\n",
       "      <th>0</th>\n",
       "      <td>0</td>\n",
       "      <td>Photo Editor &amp; Candy Camera &amp; Grid &amp; ScrapBook</td>\n",
       "      <td>ART_AND_DESIGN</td>\n",
       "      <td>4.1</td>\n",
       "      <td>159</td>\n",
       "      <td>19.0000</td>\n",
       "      <td>10,000+</td>\n",
       "      <td>Free</td>\n",
       "      <td>0</td>\n",
       "      <td>Everyone</td>\n",
       "      <td>Art &amp; Design</td>\n",
       "      <td>January 7, 2018</td>\n",
       "      <td>1.0.0</td>\n",
       "      <td>4.0.3 and up</td>\n",
       "    </tr>\n",
       "    <tr>\n",
       "      <th>1</th>\n",
       "      <td>1</td>\n",
       "      <td>Coloring book moana</td>\n",
       "      <td>ART_AND_DESIGN</td>\n",
       "      <td>3.9</td>\n",
       "      <td>967</td>\n",
       "      <td>14.0000</td>\n",
       "      <td>500,000+</td>\n",
       "      <td>Free</td>\n",
       "      <td>0</td>\n",
       "      <td>Everyone</td>\n",
       "      <td>Art &amp; Design;Pretend Play</td>\n",
       "      <td>January 15, 2018</td>\n",
       "      <td>2.0.0</td>\n",
       "      <td>4.0.3 and up</td>\n",
       "    </tr>\n",
       "    <tr>\n",
       "      <th>2</th>\n",
       "      <td>2</td>\n",
       "      <td>U Launcher Lite – FREE Live Cool Themes, Hide ...</td>\n",
       "      <td>ART_AND_DESIGN</td>\n",
       "      <td>4.7</td>\n",
       "      <td>87510</td>\n",
       "      <td>0.0087</td>\n",
       "      <td>5,000,000+</td>\n",
       "      <td>Free</td>\n",
       "      <td>0</td>\n",
       "      <td>Everyone</td>\n",
       "      <td>Art &amp; Design</td>\n",
       "      <td>August 1, 2018</td>\n",
       "      <td>1.2.4</td>\n",
       "      <td>4.0.3 and up</td>\n",
       "    </tr>\n",
       "    <tr>\n",
       "      <th>3</th>\n",
       "      <td>3</td>\n",
       "      <td>Sketch - Draw &amp; Paint</td>\n",
       "      <td>ART_AND_DESIGN</td>\n",
       "      <td>4.5</td>\n",
       "      <td>215644</td>\n",
       "      <td>25.0000</td>\n",
       "      <td>50,000,000+</td>\n",
       "      <td>Free</td>\n",
       "      <td>0</td>\n",
       "      <td>Teen</td>\n",
       "      <td>Art &amp; Design</td>\n",
       "      <td>June 8, 2018</td>\n",
       "      <td>Varies with device</td>\n",
       "      <td>4.2 and up</td>\n",
       "    </tr>\n",
       "    <tr>\n",
       "      <th>4</th>\n",
       "      <td>4</td>\n",
       "      <td>Pixel Draw - Number Art Coloring Book</td>\n",
       "      <td>ART_AND_DESIGN</td>\n",
       "      <td>4.3</td>\n",
       "      <td>967</td>\n",
       "      <td>0.0028</td>\n",
       "      <td>100,000+</td>\n",
       "      <td>Free</td>\n",
       "      <td>0</td>\n",
       "      <td>Everyone</td>\n",
       "      <td>Art &amp; Design;Creativity</td>\n",
       "      <td>June 20, 2018</td>\n",
       "      <td>1.1</td>\n",
       "      <td>4.4 and up</td>\n",
       "    </tr>\n",
       "    <tr>\n",
       "      <th>...</th>\n",
       "      <td>...</td>\n",
       "      <td>...</td>\n",
       "      <td>...</td>\n",
       "      <td>...</td>\n",
       "      <td>...</td>\n",
       "      <td>...</td>\n",
       "      <td>...</td>\n",
       "      <td>...</td>\n",
       "      <td>...</td>\n",
       "      <td>...</td>\n",
       "      <td>...</td>\n",
       "      <td>...</td>\n",
       "      <td>...</td>\n",
       "      <td>...</td>\n",
       "    </tr>\n",
       "    <tr>\n",
       "      <th>10836</th>\n",
       "      <td>10836</td>\n",
       "      <td>Sya9a Maroc - FR</td>\n",
       "      <td>FAMILY</td>\n",
       "      <td>4.5</td>\n",
       "      <td>38</td>\n",
       "      <td>53.0000</td>\n",
       "      <td>5,000+</td>\n",
       "      <td>Free</td>\n",
       "      <td>0</td>\n",
       "      <td>Everyone</td>\n",
       "      <td>Education</td>\n",
       "      <td>July 25, 2017</td>\n",
       "      <td>1.48</td>\n",
       "      <td>4.1 and up</td>\n",
       "    </tr>\n",
       "    <tr>\n",
       "      <th>10837</th>\n",
       "      <td>10837</td>\n",
       "      <td>Fr. Mike Schmitz Audio Teachings</td>\n",
       "      <td>FAMILY</td>\n",
       "      <td>5.0</td>\n",
       "      <td>4</td>\n",
       "      <td>0.0036</td>\n",
       "      <td>100+</td>\n",
       "      <td>Free</td>\n",
       "      <td>0</td>\n",
       "      <td>Everyone</td>\n",
       "      <td>Education</td>\n",
       "      <td>July 6, 2018</td>\n",
       "      <td>1.0</td>\n",
       "      <td>4.1 and up</td>\n",
       "    </tr>\n",
       "    <tr>\n",
       "      <th>10838</th>\n",
       "      <td>10838</td>\n",
       "      <td>Parkinson Exercices FR</td>\n",
       "      <td>MEDICAL</td>\n",
       "      <td>0.0</td>\n",
       "      <td>3</td>\n",
       "      <td>0.0095</td>\n",
       "      <td>1,000+</td>\n",
       "      <td>Free</td>\n",
       "      <td>0</td>\n",
       "      <td>Everyone</td>\n",
       "      <td>Medical</td>\n",
       "      <td>January 20, 2017</td>\n",
       "      <td>1.0</td>\n",
       "      <td>2.2 and up</td>\n",
       "    </tr>\n",
       "    <tr>\n",
       "      <th>10839</th>\n",
       "      <td>10839</td>\n",
       "      <td>The SCP Foundation DB fr nn5n</td>\n",
       "      <td>BOOKS_AND_REFERENCE</td>\n",
       "      <td>4.5</td>\n",
       "      <td>114</td>\n",
       "      <td>0.0000</td>\n",
       "      <td>1,000+</td>\n",
       "      <td>Free</td>\n",
       "      <td>0</td>\n",
       "      <td>Mature 17+</td>\n",
       "      <td>Books &amp; Reference</td>\n",
       "      <td>January 19, 2015</td>\n",
       "      <td>Varies with device</td>\n",
       "      <td>Varies with device</td>\n",
       "    </tr>\n",
       "    <tr>\n",
       "      <th>10840</th>\n",
       "      <td>10840</td>\n",
       "      <td>iHoroscope - 2018 Daily Horoscope &amp; Astrology</td>\n",
       "      <td>LIFESTYLE</td>\n",
       "      <td>4.5</td>\n",
       "      <td>398307</td>\n",
       "      <td>19.0000</td>\n",
       "      <td>10,000,000+</td>\n",
       "      <td>Free</td>\n",
       "      <td>0</td>\n",
       "      <td>Everyone</td>\n",
       "      <td>Lifestyle</td>\n",
       "      <td>July 25, 2018</td>\n",
       "      <td>Varies with device</td>\n",
       "      <td>Varies with device</td>\n",
       "    </tr>\n",
       "  </tbody>\n",
       "</table>\n",
       "<p>10841 rows × 14 columns</p>\n",
       "</div>"
      ],
      "text/plain": [
       "       index                                                App  \\\n",
       "0          0     Photo Editor & Candy Camera & Grid & ScrapBook   \n",
       "1          1                                Coloring book moana   \n",
       "2          2  U Launcher Lite – FREE Live Cool Themes, Hide ...   \n",
       "3          3                              Sketch - Draw & Paint   \n",
       "4          4              Pixel Draw - Number Art Coloring Book   \n",
       "...      ...                                                ...   \n",
       "10836  10836                                   Sya9a Maroc - FR   \n",
       "10837  10837                   Fr. Mike Schmitz Audio Teachings   \n",
       "10838  10838                             Parkinson Exercices FR   \n",
       "10839  10839                      The SCP Foundation DB fr nn5n   \n",
       "10840  10840      iHoroscope - 2018 Daily Horoscope & Astrology   \n",
       "\n",
       "                  Category  Rating Reviews     Size     Installs  Type Price  \\\n",
       "0           ART_AND_DESIGN     4.1     159  19.0000      10,000+  Free     0   \n",
       "1           ART_AND_DESIGN     3.9     967  14.0000     500,000+  Free     0   \n",
       "2           ART_AND_DESIGN     4.7   87510   0.0087   5,000,000+  Free     0   \n",
       "3           ART_AND_DESIGN     4.5  215644  25.0000  50,000,000+  Free     0   \n",
       "4           ART_AND_DESIGN     4.3     967   0.0028     100,000+  Free     0   \n",
       "...                    ...     ...     ...      ...          ...   ...   ...   \n",
       "10836               FAMILY     4.5      38  53.0000       5,000+  Free     0   \n",
       "10837               FAMILY     5.0       4   0.0036         100+  Free     0   \n",
       "10838              MEDICAL     0.0       3   0.0095       1,000+  Free     0   \n",
       "10839  BOOKS_AND_REFERENCE     4.5     114   0.0000       1,000+  Free     0   \n",
       "10840            LIFESTYLE     4.5  398307  19.0000  10,000,000+  Free     0   \n",
       "\n",
       "      Content Rating                     Genres      Last Updated  \\\n",
       "0           Everyone               Art & Design   January 7, 2018   \n",
       "1           Everyone  Art & Design;Pretend Play  January 15, 2018   \n",
       "2           Everyone               Art & Design    August 1, 2018   \n",
       "3               Teen               Art & Design      June 8, 2018   \n",
       "4           Everyone    Art & Design;Creativity     June 20, 2018   \n",
       "...              ...                        ...               ...   \n",
       "10836       Everyone                  Education     July 25, 2017   \n",
       "10837       Everyone                  Education      July 6, 2018   \n",
       "10838       Everyone                    Medical  January 20, 2017   \n",
       "10839     Mature 17+          Books & Reference  January 19, 2015   \n",
       "10840       Everyone                  Lifestyle     July 25, 2018   \n",
       "\n",
       "              Current Ver         Android Ver  \n",
       "0                   1.0.0        4.0.3 and up  \n",
       "1                   2.0.0        4.0.3 and up  \n",
       "2                   1.2.4        4.0.3 and up  \n",
       "3      Varies with device          4.2 and up  \n",
       "4                     1.1          4.4 and up  \n",
       "...                   ...                 ...  \n",
       "10836                1.48          4.1 and up  \n",
       "10837                 1.0          4.1 and up  \n",
       "10838                 1.0          2.2 and up  \n",
       "10839  Varies with device  Varies with device  \n",
       "10840  Varies with device  Varies with device  \n",
       "\n",
       "[10841 rows x 14 columns]"
      ]
     },
     "execution_count": 249,
     "metadata": {},
     "output_type": "execute_result"
    }
   ],
   "source": [
    "df"
   ]
  },
  {
   "cell_type": "code",
   "execution_count": 211,
   "id": "01adfba9",
   "metadata": {
    "ExecuteTime": {
     "end_time": "2023-01-19T23:44:45.436621Z",
     "start_time": "2023-01-19T23:44:45.424611Z"
    }
   },
   "outputs": [
    {
     "name": "stdout",
     "output_type": "stream",
     "text": [
      "<class 'pandas.core.series.Series'>\n",
      "RangeIndex: 10841 entries, 0 to 10840\n",
      "Series name: Size\n",
      "Non-Null Count  Dtype  \n",
      "--------------  -----  \n",
      "10841 non-null  float64\n",
      "dtypes: float64(1)\n",
      "memory usage: 84.8 KB\n"
     ]
    }
   ],
   "source": [
    "df.Size.info()"
   ]
  },
  {
   "cell_type": "code",
   "execution_count": 251,
   "id": "8d41b361",
   "metadata": {
    "ExecuteTime": {
     "end_time": "2023-01-19T23:50:03.040872Z",
     "start_time": "2023-01-19T23:50:03.031865Z"
    }
   },
   "outputs": [],
   "source": [
    "df.set_index(\"App\", inplace=True)"
   ]
  },
  {
   "cell_type": "code",
   "execution_count": 252,
   "id": "5ba18e1e",
   "metadata": {
    "ExecuteTime": {
     "end_time": "2023-01-19T23:50:03.173457Z",
     "start_time": "2023-01-19T23:50:03.143968Z"
    }
   },
   "outputs": [
    {
     "data": {
      "text/html": [
       "<div>\n",
       "<style scoped>\n",
       "    .dataframe tbody tr th:only-of-type {\n",
       "        vertical-align: middle;\n",
       "    }\n",
       "\n",
       "    .dataframe tbody tr th {\n",
       "        vertical-align: top;\n",
       "    }\n",
       "\n",
       "    .dataframe thead th {\n",
       "        text-align: right;\n",
       "    }\n",
       "</style>\n",
       "<table border=\"1\" class=\"dataframe\">\n",
       "  <thead>\n",
       "    <tr style=\"text-align: right;\">\n",
       "      <th></th>\n",
       "      <th>index</th>\n",
       "      <th>Category</th>\n",
       "      <th>Rating</th>\n",
       "      <th>Reviews</th>\n",
       "      <th>Size</th>\n",
       "      <th>Installs</th>\n",
       "      <th>Type</th>\n",
       "      <th>Price</th>\n",
       "      <th>Content Rating</th>\n",
       "      <th>Genres</th>\n",
       "      <th>Last Updated</th>\n",
       "      <th>Current Ver</th>\n",
       "      <th>Android Ver</th>\n",
       "    </tr>\n",
       "    <tr>\n",
       "      <th>App</th>\n",
       "      <th></th>\n",
       "      <th></th>\n",
       "      <th></th>\n",
       "      <th></th>\n",
       "      <th></th>\n",
       "      <th></th>\n",
       "      <th></th>\n",
       "      <th></th>\n",
       "      <th></th>\n",
       "      <th></th>\n",
       "      <th></th>\n",
       "      <th></th>\n",
       "      <th></th>\n",
       "    </tr>\n",
       "  </thead>\n",
       "  <tbody>\n",
       "    <tr>\n",
       "      <th>Google Street View</th>\n",
       "      <td>3127</td>\n",
       "      <td>TRAVEL_AND_LOCAL</td>\n",
       "      <td>4.2</td>\n",
       "      <td>2129689</td>\n",
       "      <td>0.0</td>\n",
       "      <td>1,000,000,000+</td>\n",
       "      <td>Free</td>\n",
       "      <td>0</td>\n",
       "      <td>Everyone</td>\n",
       "      <td>Travel &amp; Local</td>\n",
       "      <td>August 6, 2018</td>\n",
       "      <td>Varies with device</td>\n",
       "      <td>Varies with device</td>\n",
       "    </tr>\n",
       "    <tr>\n",
       "      <th>Google Street View</th>\n",
       "      <td>3232</td>\n",
       "      <td>TRAVEL_AND_LOCAL</td>\n",
       "      <td>4.2</td>\n",
       "      <td>2129707</td>\n",
       "      <td>0.0</td>\n",
       "      <td>1,000,000,000+</td>\n",
       "      <td>Free</td>\n",
       "      <td>0</td>\n",
       "      <td>Everyone</td>\n",
       "      <td>Travel &amp; Local</td>\n",
       "      <td>August 6, 2018</td>\n",
       "      <td>Varies with device</td>\n",
       "      <td>Varies with device</td>\n",
       "    </tr>\n",
       "  </tbody>\n",
       "</table>\n",
       "</div>"
      ],
      "text/plain": [
       "                    index          Category  Rating  Reviews  Size  \\\n",
       "App                                                                  \n",
       "Google Street View   3127  TRAVEL_AND_LOCAL     4.2  2129689   0.0   \n",
       "Google Street View   3232  TRAVEL_AND_LOCAL     4.2  2129707   0.0   \n",
       "\n",
       "                          Installs  Type Price Content Rating          Genres  \\\n",
       "App                                                                             \n",
       "Google Street View  1,000,000,000+  Free     0       Everyone  Travel & Local   \n",
       "Google Street View  1,000,000,000+  Free     0       Everyone  Travel & Local   \n",
       "\n",
       "                      Last Updated         Current Ver         Android Ver  \n",
       "App                                                                         \n",
       "Google Street View  August 6, 2018  Varies with device  Varies with device  \n",
       "Google Street View  August 6, 2018  Varies with device  Varies with device  "
      ]
     },
     "execution_count": 252,
     "metadata": {},
     "output_type": "execute_result"
    }
   ],
   "source": [
    "df.loc[\"Google Street View\"]"
   ]
  },
  {
   "cell_type": "code",
   "execution_count": 253,
   "id": "80e41c49",
   "metadata": {
    "ExecuteTime": {
     "end_time": "2023-01-19T23:50:06.397969Z",
     "start_time": "2023-01-19T23:50:06.391964Z"
    }
   },
   "outputs": [],
   "source": [
    "df.Rating = df.Rating.astype(\"float\")"
   ]
  },
  {
   "cell_type": "code",
   "execution_count": 254,
   "id": "d606b777",
   "metadata": {
    "ExecuteTime": {
     "end_time": "2023-01-19T23:50:06.694455Z",
     "start_time": "2023-01-19T23:50:06.680915Z"
    }
   },
   "outputs": [],
   "source": [
    "df.Price = df.Price.astype(\"str\")"
   ]
  },
  {
   "cell_type": "code",
   "execution_count": 255,
   "id": "6709ccff",
   "metadata": {
    "ExecuteTime": {
     "end_time": "2023-01-19T23:50:07.194916Z",
     "start_time": "2023-01-19T23:50:07.184392Z"
    }
   },
   "outputs": [],
   "source": [
    "df.Price = df.Price.replace(\"$\", \"\")"
   ]
  },
  {
   "cell_type": "code",
   "execution_count": 256,
   "id": "7451db42",
   "metadata": {
    "ExecuteTime": {
     "end_time": "2023-01-19T23:50:07.780353Z",
     "start_time": "2023-01-19T23:50:07.761337Z"
    },
    "scrolled": true
   },
   "outputs": [],
   "source": [
    "index = 0\n",
    "liste = []\n",
    "for i in df.Price:\n",
    "    a = i.replace(\"$\",\"\")\n",
    "    liste.append(float(a))"
   ]
  },
  {
   "cell_type": "code",
   "execution_count": 257,
   "id": "64ddcb63",
   "metadata": {
    "ExecuteTime": {
     "end_time": "2023-01-19T23:50:08.338485Z",
     "start_time": "2023-01-19T23:50:08.320468Z"
    }
   },
   "outputs": [],
   "source": [
    "df[\"Price\"] = liste"
   ]
  },
  {
   "cell_type": "code",
   "execution_count": 258,
   "id": "e9e2e3fe",
   "metadata": {
    "ExecuteTime": {
     "end_time": "2023-01-19T23:50:09.693821Z",
     "start_time": "2023-01-19T23:50:09.673710Z"
    }
   },
   "outputs": [],
   "source": [
    "index = 0\n",
    "liste=[]\n",
    "for i in df[\"Installs\"]:\n",
    "    a = str(i).replace(\",\",\"\")\n",
    "    a = a.replace(\"+\",\"\")\n",
    "    a = int(a)\n",
    "    liste.append(a)\n",
    "    index += 1"
   ]
  },
  {
   "cell_type": "code",
   "execution_count": 259,
   "id": "afc4bdb1",
   "metadata": {
    "ExecuteTime": {
     "end_time": "2023-01-19T23:50:10.276395Z",
     "start_time": "2023-01-19T23:50:10.256378Z"
    }
   },
   "outputs": [],
   "source": [
    "df[\"Installs\"] = liste"
   ]
  },
  {
   "cell_type": "code",
   "execution_count": 260,
   "id": "fabc2135",
   "metadata": {
    "ExecuteTime": {
     "end_time": "2023-01-19T23:50:13.153312Z",
     "start_time": "2023-01-19T23:50:13.146306Z"
    },
    "scrolled": true
   },
   "outputs": [],
   "source": [
    "df[\"Installs\"] = df[\"Installs\"].astype(\"float\")"
   ]
  },
  {
   "cell_type": "code",
   "execution_count": 261,
   "id": "29942f28",
   "metadata": {
    "ExecuteTime": {
     "end_time": "2023-01-19T23:50:13.670391Z",
     "start_time": "2023-01-19T23:50:13.659381Z"
    }
   },
   "outputs": [],
   "source": [
    "df.Reviews = df.Reviews.astype(\"float\")"
   ]
  },
  {
   "cell_type": "code",
   "execution_count": 266,
   "id": "a2f34087",
   "metadata": {
    "ExecuteTime": {
     "end_time": "2023-01-19T23:50:45.731837Z",
     "start_time": "2023-01-19T23:50:45.718825Z"
    }
   },
   "outputs": [],
   "source": [
    "df.reset_index(inplace=True)"
   ]
  },
  {
   "cell_type": "code",
   "execution_count": 332,
   "id": "90755a93",
   "metadata": {
    "ExecuteTime": {
     "end_time": "2023-01-20T00:21:24.037926Z",
     "start_time": "2023-01-20T00:21:24.020920Z"
    }
   },
   "outputs": [],
   "source": [
    "df_top_install = df.groupby(\"App\").mean().sort_values(\"Installs\", ascending = False).head(100)"
   ]
  },
  {
   "cell_type": "code",
   "execution_count": 271,
   "id": "817f8ba7",
   "metadata": {
    "ExecuteTime": {
     "end_time": "2023-01-19T23:51:10.177369Z",
     "start_time": "2023-01-19T23:51:10.145488Z"
    }
   },
   "outputs": [
    {
     "data": {
      "text/html": [
       "<div>\n",
       "<style scoped>\n",
       "    .dataframe tbody tr th:only-of-type {\n",
       "        vertical-align: middle;\n",
       "    }\n",
       "\n",
       "    .dataframe tbody tr th {\n",
       "        vertical-align: top;\n",
       "    }\n",
       "\n",
       "    .dataframe thead th {\n",
       "        text-align: right;\n",
       "    }\n",
       "</style>\n",
       "<table border=\"1\" class=\"dataframe\">\n",
       "  <thead>\n",
       "    <tr style=\"text-align: right;\">\n",
       "      <th></th>\n",
       "      <th>index</th>\n",
       "      <th>Rating</th>\n",
       "      <th>Reviews</th>\n",
       "      <th>Size</th>\n",
       "      <th>Installs</th>\n",
       "      <th>Price</th>\n",
       "    </tr>\n",
       "    <tr>\n",
       "      <th>App</th>\n",
       "      <th></th>\n",
       "      <th></th>\n",
       "      <th></th>\n",
       "      <th></th>\n",
       "      <th></th>\n",
       "      <th></th>\n",
       "    </tr>\n",
       "  </thead>\n",
       "  <tbody>\n",
       "    <tr>\n",
       "      <th>Google Street View</th>\n",
       "      <td>3179.500000</td>\n",
       "      <td>4.2</td>\n",
       "      <td>2129698.00</td>\n",
       "      <td>0.0</td>\n",
       "      <td>1.000000e+09</td>\n",
       "      <td>0.0</td>\n",
       "    </tr>\n",
       "    <tr>\n",
       "      <th>Google Drive</th>\n",
       "      <td>3678.000000</td>\n",
       "      <td>4.4</td>\n",
       "      <td>2730633.50</td>\n",
       "      <td>0.0</td>\n",
       "      <td>1.000000e+09</td>\n",
       "      <td>0.0</td>\n",
       "    </tr>\n",
       "    <tr>\n",
       "      <th>Instagram</th>\n",
       "      <td>2917.250000</td>\n",
       "      <td>4.5</td>\n",
       "      <td>66560497.25</td>\n",
       "      <td>0.0</td>\n",
       "      <td>1.000000e+09</td>\n",
       "      <td>0.0</td>\n",
       "    </tr>\n",
       "    <tr>\n",
       "      <th>Hangouts</th>\n",
       "      <td>1336.000000</td>\n",
       "      <td>4.0</td>\n",
       "      <td>3419414.75</td>\n",
       "      <td>0.0</td>\n",
       "      <td>1.000000e+09</td>\n",
       "      <td>0.0</td>\n",
       "    </tr>\n",
       "    <tr>\n",
       "      <th>Google+</th>\n",
       "      <td>3349.000000</td>\n",
       "      <td>4.2</td>\n",
       "      <td>4829748.50</td>\n",
       "      <td>0.0</td>\n",
       "      <td>1.000000e+09</td>\n",
       "      <td>0.0</td>\n",
       "    </tr>\n",
       "    <tr>\n",
       "      <th>Skype - free IM &amp; video calls</th>\n",
       "      <td>1697.666667</td>\n",
       "      <td>4.1</td>\n",
       "      <td>10484169.00</td>\n",
       "      <td>0.0</td>\n",
       "      <td>1.000000e+09</td>\n",
       "      <td>0.0</td>\n",
       "    </tr>\n",
       "    <tr>\n",
       "      <th>Subway Surfers</th>\n",
       "      <td>2131.500000</td>\n",
       "      <td>4.5</td>\n",
       "      <td>27721993.00</td>\n",
       "      <td>76.0</td>\n",
       "      <td>1.000000e+09</td>\n",
       "      <td>0.0</td>\n",
       "    </tr>\n",
       "    <tr>\n",
       "      <th>Google Play Movies &amp; TV</th>\n",
       "      <td>3687.000000</td>\n",
       "      <td>3.7</td>\n",
       "      <td>906384.00</td>\n",
       "      <td>0.0</td>\n",
       "      <td>1.000000e+09</td>\n",
       "      <td>0.0</td>\n",
       "    </tr>\n",
       "    <tr>\n",
       "      <th>Google Play Games</th>\n",
       "      <td>3360.500000</td>\n",
       "      <td>4.3</td>\n",
       "      <td>7167048.50</td>\n",
       "      <td>0.0</td>\n",
       "      <td>1.000000e+09</td>\n",
       "      <td>0.0</td>\n",
       "    </tr>\n",
       "    <tr>\n",
       "      <th>Google Play Books</th>\n",
       "      <td>152.000000</td>\n",
       "      <td>3.9</td>\n",
       "      <td>1433233.00</td>\n",
       "      <td>0.0</td>\n",
       "      <td>1.000000e+09</td>\n",
       "      <td>0.0</td>\n",
       "    </tr>\n",
       "  </tbody>\n",
       "</table>\n",
       "</div>"
      ],
      "text/plain": [
       "                                     index  Rating      Reviews  Size  \\\n",
       "App                                                                     \n",
       "Google Street View             3179.500000     4.2   2129698.00   0.0   \n",
       "Google Drive                   3678.000000     4.4   2730633.50   0.0   \n",
       "Instagram                      2917.250000     4.5  66560497.25   0.0   \n",
       "Hangouts                       1336.000000     4.0   3419414.75   0.0   \n",
       "Google+                        3349.000000     4.2   4829748.50   0.0   \n",
       "Skype - free IM & video calls  1697.666667     4.1  10484169.00   0.0   \n",
       "Subway Surfers                 2131.500000     4.5  27721993.00  76.0   \n",
       "Google Play Movies & TV        3687.000000     3.7    906384.00   0.0   \n",
       "Google Play Games              3360.500000     4.3   7167048.50   0.0   \n",
       "Google Play Books               152.000000     3.9   1433233.00   0.0   \n",
       "\n",
       "                                   Installs  Price  \n",
       "App                                                 \n",
       "Google Street View             1.000000e+09    0.0  \n",
       "Google Drive                   1.000000e+09    0.0  \n",
       "Instagram                      1.000000e+09    0.0  \n",
       "Hangouts                       1.000000e+09    0.0  \n",
       "Google+                        1.000000e+09    0.0  \n",
       "Skype - free IM & video calls  1.000000e+09    0.0  \n",
       "Subway Surfers                 1.000000e+09    0.0  \n",
       "Google Play Movies & TV        1.000000e+09    0.0  \n",
       "Google Play Games              1.000000e+09    0.0  \n",
       "Google Play Books              1.000000e+09    0.0  "
      ]
     },
     "execution_count": 271,
     "metadata": {},
     "output_type": "execute_result"
    }
   ],
   "source": [
    "df.groupby(\"App\").mean().sort_values(\"Installs\", ascending = False).head(10)"
   ]
  },
  {
   "cell_type": "code",
   "execution_count": 272,
   "id": "20b3c1c4",
   "metadata": {
    "ExecuteTime": {
     "end_time": "2023-01-19T23:51:13.999171Z",
     "start_time": "2023-01-19T23:51:13.978152Z"
    }
   },
   "outputs": [
    {
     "data": {
      "text/html": [
       "<div>\n",
       "<style scoped>\n",
       "    .dataframe tbody tr th:only-of-type {\n",
       "        vertical-align: middle;\n",
       "    }\n",
       "\n",
       "    .dataframe tbody tr th {\n",
       "        vertical-align: top;\n",
       "    }\n",
       "\n",
       "    .dataframe thead th {\n",
       "        text-align: right;\n",
       "    }\n",
       "</style>\n",
       "<table border=\"1\" class=\"dataframe\">\n",
       "  <thead>\n",
       "    <tr style=\"text-align: right;\">\n",
       "      <th></th>\n",
       "      <th>App</th>\n",
       "      <th>index</th>\n",
       "      <th>Rating</th>\n",
       "      <th>Reviews</th>\n",
       "      <th>Size</th>\n",
       "      <th>Installs</th>\n",
       "      <th>Price</th>\n",
       "    </tr>\n",
       "  </thead>\n",
       "  <tbody>\n",
       "    <tr>\n",
       "      <th>0</th>\n",
       "      <td>Google Street View</td>\n",
       "      <td>3179.500000</td>\n",
       "      <td>4.2</td>\n",
       "      <td>2129698.00</td>\n",
       "      <td>0.0</td>\n",
       "      <td>1.000000e+09</td>\n",
       "      <td>0.0</td>\n",
       "    </tr>\n",
       "    <tr>\n",
       "      <th>1</th>\n",
       "      <td>Google Drive</td>\n",
       "      <td>3678.000000</td>\n",
       "      <td>4.4</td>\n",
       "      <td>2730633.50</td>\n",
       "      <td>0.0</td>\n",
       "      <td>1.000000e+09</td>\n",
       "      <td>0.0</td>\n",
       "    </tr>\n",
       "    <tr>\n",
       "      <th>2</th>\n",
       "      <td>Instagram</td>\n",
       "      <td>2917.250000</td>\n",
       "      <td>4.5</td>\n",
       "      <td>66560497.25</td>\n",
       "      <td>0.0</td>\n",
       "      <td>1.000000e+09</td>\n",
       "      <td>0.0</td>\n",
       "    </tr>\n",
       "    <tr>\n",
       "      <th>3</th>\n",
       "      <td>Hangouts</td>\n",
       "      <td>1336.000000</td>\n",
       "      <td>4.0</td>\n",
       "      <td>3419414.75</td>\n",
       "      <td>0.0</td>\n",
       "      <td>1.000000e+09</td>\n",
       "      <td>0.0</td>\n",
       "    </tr>\n",
       "    <tr>\n",
       "      <th>4</th>\n",
       "      <td>Google+</td>\n",
       "      <td>3349.000000</td>\n",
       "      <td>4.2</td>\n",
       "      <td>4829748.50</td>\n",
       "      <td>0.0</td>\n",
       "      <td>1.000000e+09</td>\n",
       "      <td>0.0</td>\n",
       "    </tr>\n",
       "    <tr>\n",
       "      <th>5</th>\n",
       "      <td>Skype - free IM &amp; video calls</td>\n",
       "      <td>1697.666667</td>\n",
       "      <td>4.1</td>\n",
       "      <td>10484169.00</td>\n",
       "      <td>0.0</td>\n",
       "      <td>1.000000e+09</td>\n",
       "      <td>0.0</td>\n",
       "    </tr>\n",
       "    <tr>\n",
       "      <th>6</th>\n",
       "      <td>Subway Surfers</td>\n",
       "      <td>2131.500000</td>\n",
       "      <td>4.5</td>\n",
       "      <td>27721993.00</td>\n",
       "      <td>76.0</td>\n",
       "      <td>1.000000e+09</td>\n",
       "      <td>0.0</td>\n",
       "    </tr>\n",
       "    <tr>\n",
       "      <th>7</th>\n",
       "      <td>Google Play Movies &amp; TV</td>\n",
       "      <td>3687.000000</td>\n",
       "      <td>3.7</td>\n",
       "      <td>906384.00</td>\n",
       "      <td>0.0</td>\n",
       "      <td>1.000000e+09</td>\n",
       "      <td>0.0</td>\n",
       "    </tr>\n",
       "    <tr>\n",
       "      <th>8</th>\n",
       "      <td>Google Play Games</td>\n",
       "      <td>3360.500000</td>\n",
       "      <td>4.3</td>\n",
       "      <td>7167048.50</td>\n",
       "      <td>0.0</td>\n",
       "      <td>1.000000e+09</td>\n",
       "      <td>0.0</td>\n",
       "    </tr>\n",
       "    <tr>\n",
       "      <th>9</th>\n",
       "      <td>Google Play Books</td>\n",
       "      <td>152.000000</td>\n",
       "      <td>3.9</td>\n",
       "      <td>1433233.00</td>\n",
       "      <td>0.0</td>\n",
       "      <td>1.000000e+09</td>\n",
       "      <td>0.0</td>\n",
       "    </tr>\n",
       "  </tbody>\n",
       "</table>\n",
       "</div>"
      ],
      "text/plain": [
       "                             App        index  Rating      Reviews  Size  \\\n",
       "0             Google Street View  3179.500000     4.2   2129698.00   0.0   \n",
       "1                   Google Drive  3678.000000     4.4   2730633.50   0.0   \n",
       "2                      Instagram  2917.250000     4.5  66560497.25   0.0   \n",
       "3                       Hangouts  1336.000000     4.0   3419414.75   0.0   \n",
       "4                        Google+  3349.000000     4.2   4829748.50   0.0   \n",
       "5  Skype - free IM & video calls  1697.666667     4.1  10484169.00   0.0   \n",
       "6                 Subway Surfers  2131.500000     4.5  27721993.00  76.0   \n",
       "7        Google Play Movies & TV  3687.000000     3.7    906384.00   0.0   \n",
       "8              Google Play Games  3360.500000     4.3   7167048.50   0.0   \n",
       "9              Google Play Books   152.000000     3.9   1433233.00   0.0   \n",
       "\n",
       "       Installs  Price  \n",
       "0  1.000000e+09    0.0  \n",
       "1  1.000000e+09    0.0  \n",
       "2  1.000000e+09    0.0  \n",
       "3  1.000000e+09    0.0  \n",
       "4  1.000000e+09    0.0  \n",
       "5  1.000000e+09    0.0  \n",
       "6  1.000000e+09    0.0  \n",
       "7  1.000000e+09    0.0  \n",
       "8  1.000000e+09    0.0  \n",
       "9  1.000000e+09    0.0  "
      ]
     },
     "execution_count": 272,
     "metadata": {},
     "output_type": "execute_result"
    }
   ],
   "source": [
    "df_top_install"
   ]
  },
  {
   "cell_type": "code",
   "execution_count": 273,
   "id": "3de964d1",
   "metadata": {
    "ExecuteTime": {
     "end_time": "2023-01-19T23:51:21.561153Z",
     "start_time": "2023-01-19T23:51:21.531135Z"
    }
   },
   "outputs": [
    {
     "data": {
      "text/html": [
       "<div>\n",
       "<style scoped>\n",
       "    .dataframe tbody tr th:only-of-type {\n",
       "        vertical-align: middle;\n",
       "    }\n",
       "\n",
       "    .dataframe tbody tr th {\n",
       "        vertical-align: top;\n",
       "    }\n",
       "\n",
       "    .dataframe thead th {\n",
       "        text-align: right;\n",
       "    }\n",
       "</style>\n",
       "<table border=\"1\" class=\"dataframe\">\n",
       "  <thead>\n",
       "    <tr style=\"text-align: right;\">\n",
       "      <th></th>\n",
       "      <th>index</th>\n",
       "      <th>Rating</th>\n",
       "      <th>Reviews</th>\n",
       "      <th>Size</th>\n",
       "      <th>Installs</th>\n",
       "      <th>Price</th>\n",
       "    </tr>\n",
       "  </thead>\n",
       "  <tbody>\n",
       "    <tr>\n",
       "      <th>count</th>\n",
       "      <td>10841.000000</td>\n",
       "      <td>10841.000000</td>\n",
       "      <td>1.084100e+04</td>\n",
       "      <td>10841.000000</td>\n",
       "      <td>1.084100e+04</td>\n",
       "      <td>10841.000000</td>\n",
       "    </tr>\n",
       "    <tr>\n",
       "      <th>mean</th>\n",
       "      <td>5420.000000</td>\n",
       "      <td>3.621612</td>\n",
       "      <td>4.441119e+05</td>\n",
       "      <td>16.516354</td>\n",
       "      <td>1.546291e+07</td>\n",
       "      <td>1.027273</td>\n",
       "    </tr>\n",
       "    <tr>\n",
       "      <th>std</th>\n",
       "      <td>3129.671468</td>\n",
       "      <td>1.514584</td>\n",
       "      <td>2.927629e+06</td>\n",
       "      <td>23.198715</td>\n",
       "      <td>8.502557e+07</td>\n",
       "      <td>15.948971</td>\n",
       "    </tr>\n",
       "    <tr>\n",
       "      <th>min</th>\n",
       "      <td>0.000000</td>\n",
       "      <td>0.000000</td>\n",
       "      <td>0.000000e+00</td>\n",
       "      <td>0.000000</td>\n",
       "      <td>0.000000e+00</td>\n",
       "      <td>0.000000</td>\n",
       "    </tr>\n",
       "    <tr>\n",
       "      <th>25%</th>\n",
       "      <td>2710.000000</td>\n",
       "      <td>3.700000</td>\n",
       "      <td>3.800000e+01</td>\n",
       "      <td>0.003100</td>\n",
       "      <td>1.000000e+03</td>\n",
       "      <td>0.000000</td>\n",
       "    </tr>\n",
       "    <tr>\n",
       "      <th>50%</th>\n",
       "      <td>5420.000000</td>\n",
       "      <td>4.200000</td>\n",
       "      <td>2.094000e+03</td>\n",
       "      <td>0.266000</td>\n",
       "      <td>1.000000e+05</td>\n",
       "      <td>0.000000</td>\n",
       "    </tr>\n",
       "    <tr>\n",
       "      <th>75%</th>\n",
       "      <td>8130.000000</td>\n",
       "      <td>4.500000</td>\n",
       "      <td>5.476800e+04</td>\n",
       "      <td>26.000000</td>\n",
       "      <td>5.000000e+06</td>\n",
       "      <td>0.000000</td>\n",
       "    </tr>\n",
       "    <tr>\n",
       "      <th>max</th>\n",
       "      <td>10840.000000</td>\n",
       "      <td>5.000000</td>\n",
       "      <td>7.815831e+07</td>\n",
       "      <td>100.000000</td>\n",
       "      <td>1.000000e+09</td>\n",
       "      <td>400.000000</td>\n",
       "    </tr>\n",
       "  </tbody>\n",
       "</table>\n",
       "</div>"
      ],
      "text/plain": [
       "              index        Rating       Reviews          Size      Installs  \\\n",
       "count  10841.000000  10841.000000  1.084100e+04  10841.000000  1.084100e+04   \n",
       "mean    5420.000000      3.621612  4.441119e+05     16.516354  1.546291e+07   \n",
       "std     3129.671468      1.514584  2.927629e+06     23.198715  8.502557e+07   \n",
       "min        0.000000      0.000000  0.000000e+00      0.000000  0.000000e+00   \n",
       "25%     2710.000000      3.700000  3.800000e+01      0.003100  1.000000e+03   \n",
       "50%     5420.000000      4.200000  2.094000e+03      0.266000  1.000000e+05   \n",
       "75%     8130.000000      4.500000  5.476800e+04     26.000000  5.000000e+06   \n",
       "max    10840.000000      5.000000  7.815831e+07    100.000000  1.000000e+09   \n",
       "\n",
       "              Price  \n",
       "count  10841.000000  \n",
       "mean       1.027273  \n",
       "std       15.948971  \n",
       "min        0.000000  \n",
       "25%        0.000000  \n",
       "50%        0.000000  \n",
       "75%        0.000000  \n",
       "max      400.000000  "
      ]
     },
     "execution_count": 273,
     "metadata": {},
     "output_type": "execute_result"
    }
   ],
   "source": [
    "df.describe()"
   ]
  },
  {
   "cell_type": "code",
   "execution_count": 276,
   "id": "e0297b3e",
   "metadata": {
    "ExecuteTime": {
     "end_time": "2023-01-19T23:51:40.530827Z",
     "start_time": "2023-01-19T23:51:40.499210Z"
    }
   },
   "outputs": [
    {
     "data": {
      "text/html": [
       "<div>\n",
       "<style scoped>\n",
       "    .dataframe tbody tr th:only-of-type {\n",
       "        vertical-align: middle;\n",
       "    }\n",
       "\n",
       "    .dataframe tbody tr th {\n",
       "        vertical-align: top;\n",
       "    }\n",
       "\n",
       "    .dataframe thead th {\n",
       "        text-align: right;\n",
       "    }\n",
       "</style>\n",
       "<table border=\"1\" class=\"dataframe\">\n",
       "  <thead>\n",
       "    <tr style=\"text-align: right;\">\n",
       "      <th></th>\n",
       "      <th>index</th>\n",
       "      <th>Rating</th>\n",
       "      <th>Reviews</th>\n",
       "      <th>Size</th>\n",
       "      <th>Installs</th>\n",
       "      <th>Price</th>\n",
       "    </tr>\n",
       "  </thead>\n",
       "  <tbody>\n",
       "    <tr>\n",
       "      <th>count</th>\n",
       "      <td>10.000000</td>\n",
       "      <td>10.000000</td>\n",
       "      <td>1.000000e+01</td>\n",
       "      <td>10.00000</td>\n",
       "      <td>1.000000e+01</td>\n",
       "      <td>10.0</td>\n",
       "    </tr>\n",
       "    <tr>\n",
       "      <th>mean</th>\n",
       "      <td>2548.841667</td>\n",
       "      <td>4.180000</td>\n",
       "      <td>1.273828e+07</td>\n",
       "      <td>7.60000</td>\n",
       "      <td>1.000000e+09</td>\n",
       "      <td>0.0</td>\n",
       "    </tr>\n",
       "    <tr>\n",
       "      <th>std</th>\n",
       "      <td>1179.331638</td>\n",
       "      <td>0.261619</td>\n",
       "      <td>2.051379e+07</td>\n",
       "      <td>24.03331</td>\n",
       "      <td>0.000000e+00</td>\n",
       "      <td>0.0</td>\n",
       "    </tr>\n",
       "    <tr>\n",
       "      <th>min</th>\n",
       "      <td>152.000000</td>\n",
       "      <td>3.700000</td>\n",
       "      <td>9.063840e+05</td>\n",
       "      <td>0.00000</td>\n",
       "      <td>1.000000e+09</td>\n",
       "      <td>0.0</td>\n",
       "    </tr>\n",
       "    <tr>\n",
       "      <th>25%</th>\n",
       "      <td>1806.125000</td>\n",
       "      <td>4.025000</td>\n",
       "      <td>2.279932e+06</td>\n",
       "      <td>0.00000</td>\n",
       "      <td>1.000000e+09</td>\n",
       "      <td>0.0</td>\n",
       "    </tr>\n",
       "    <tr>\n",
       "      <th>50%</th>\n",
       "      <td>3048.375000</td>\n",
       "      <td>4.200000</td>\n",
       "      <td>4.124582e+06</td>\n",
       "      <td>0.00000</td>\n",
       "      <td>1.000000e+09</td>\n",
       "      <td>0.0</td>\n",
       "    </tr>\n",
       "    <tr>\n",
       "      <th>75%</th>\n",
       "      <td>3357.625000</td>\n",
       "      <td>4.375000</td>\n",
       "      <td>9.654889e+06</td>\n",
       "      <td>0.00000</td>\n",
       "      <td>1.000000e+09</td>\n",
       "      <td>0.0</td>\n",
       "    </tr>\n",
       "    <tr>\n",
       "      <th>max</th>\n",
       "      <td>3687.000000</td>\n",
       "      <td>4.500000</td>\n",
       "      <td>6.656050e+07</td>\n",
       "      <td>76.00000</td>\n",
       "      <td>1.000000e+09</td>\n",
       "      <td>0.0</td>\n",
       "    </tr>\n",
       "  </tbody>\n",
       "</table>\n",
       "</div>"
      ],
      "text/plain": [
       "             index     Rating       Reviews      Size      Installs  Price\n",
       "count    10.000000  10.000000  1.000000e+01  10.00000  1.000000e+01   10.0\n",
       "mean   2548.841667   4.180000  1.273828e+07   7.60000  1.000000e+09    0.0\n",
       "std    1179.331638   0.261619  2.051379e+07  24.03331  0.000000e+00    0.0\n",
       "min     152.000000   3.700000  9.063840e+05   0.00000  1.000000e+09    0.0\n",
       "25%    1806.125000   4.025000  2.279932e+06   0.00000  1.000000e+09    0.0\n",
       "50%    3048.375000   4.200000  4.124582e+06   0.00000  1.000000e+09    0.0\n",
       "75%    3357.625000   4.375000  9.654889e+06   0.00000  1.000000e+09    0.0\n",
       "max    3687.000000   4.500000  6.656050e+07  76.00000  1.000000e+09    0.0"
      ]
     },
     "execution_count": 276,
     "metadata": {},
     "output_type": "execute_result"
    }
   ],
   "source": [
    "df_top_install.describe()"
   ]
  },
  {
   "cell_type": "code",
   "execution_count": 277,
   "id": "3765c838",
   "metadata": {
    "ExecuteTime": {
     "end_time": "2023-01-19T23:51:43.680538Z",
     "start_time": "2023-01-19T23:51:43.669520Z"
    },
    "scrolled": true
   },
   "outputs": [
    {
     "data": {
      "text/plain": [
       "Index(['App', 'index', 'Rating', 'Reviews', 'Size', 'Installs', 'Price'], dtype='object')"
      ]
     },
     "execution_count": 277,
     "metadata": {},
     "output_type": "execute_result"
    }
   ],
   "source": [
    "df_top_install.columns"
   ]
  },
  {
   "cell_type": "code",
   "execution_count": 278,
   "id": "491947ed",
   "metadata": {
    "ExecuteTime": {
     "end_time": "2023-01-19T23:51:43.942373Z",
     "start_time": "2023-01-19T23:51:43.913867Z"
    }
   },
   "outputs": [
    {
     "data": {
      "text/plain": [
       "Index(['App', 'index', 'Category', 'Rating', 'Reviews', 'Size', 'Installs',\n",
       "       'Type', 'Price', 'Content Rating', 'Genres', 'Last Updated',\n",
       "       'Current Ver', 'Android Ver'],\n",
       "      dtype='object')"
      ]
     },
     "execution_count": 278,
     "metadata": {},
     "output_type": "execute_result"
    }
   ],
   "source": [
    "df.columns"
   ]
  },
  {
   "cell_type": "code",
   "execution_count": 279,
   "id": "5515e798",
   "metadata": {
    "ExecuteTime": {
     "end_time": "2023-01-19T23:51:46.605547Z",
     "start_time": "2023-01-19T23:51:46.590543Z"
    }
   },
   "outputs": [
    {
     "name": "stdout",
     "output_type": "stream",
     "text": [
      "<class 'pandas.core.frame.DataFrame'>\n",
      "RangeIndex: 10 entries, 0 to 9\n",
      "Data columns (total 7 columns):\n",
      " #   Column    Non-Null Count  Dtype  \n",
      "---  ------    --------------  -----  \n",
      " 0   App       10 non-null     object \n",
      " 1   index     10 non-null     float64\n",
      " 2   Rating    10 non-null     float64\n",
      " 3   Reviews   10 non-null     float64\n",
      " 4   Size      10 non-null     float64\n",
      " 5   Installs  10 non-null     float64\n",
      " 6   Price     10 non-null     float64\n",
      "dtypes: float64(6), object(1)\n",
      "memory usage: 688.0+ bytes\n"
     ]
    }
   ],
   "source": [
    "df_top_install.info()"
   ]
  },
  {
   "cell_type": "code",
   "execution_count": 283,
   "id": "dd0c263a",
   "metadata": {
    "ExecuteTime": {
     "end_time": "2023-01-19T23:53:50.515262Z",
     "start_time": "2023-01-19T23:53:50.501249Z"
    }
   },
   "outputs": [],
   "source": [
    "df_top_install.drop(columns= \"index\", inplace=True)"
   ]
  },
  {
   "cell_type": "code",
   "execution_count": 285,
   "id": "284cd8a9",
   "metadata": {
    "ExecuteTime": {
     "end_time": "2023-01-19T23:56:22.166711Z",
     "start_time": "2023-01-19T23:56:22.152691Z"
    }
   },
   "outputs": [],
   "source": [
    "top_3 = df_top_install.head(3)"
   ]
  },
  {
   "cell_type": "code",
   "execution_count": 302,
   "id": "4f1b3665",
   "metadata": {
    "ExecuteTime": {
     "end_time": "2023-01-20T00:06:53.903556Z",
     "start_time": "2023-01-20T00:06:53.799374Z"
    }
   },
   "outputs": [
    {
     "data": {
      "text/plain": [
       "<BarContainer object of 3 artists>"
      ]
     },
     "execution_count": 302,
     "metadata": {},
     "output_type": "execute_result"
    },
    {
     "data": {
      "image/png": "[encoded data removed]",
      "text/plain": [
       "<Figure size 1000x500 with 1 Axes>"
      ]
     },
     "metadata": {},
     "output_type": "display_data"
    }
   ],
   "source": [
    "plt.figure(figsize=(10,5))\n",
    "plt.title(\"Top 3 Downloaded Apps Installs\")\n",
    "plt.xticks(rotation = 90)\n",
    "plt.bar(top_3[\"App\"], top_3[\"Installs\"])"
   ]
  },
  {
   "cell_type": "code",
   "execution_count": 310,
   "id": "f0bda78a",
   "metadata": {
    "ExecuteTime": {
     "end_time": "2023-01-20T00:11:30.805990Z",
     "start_time": "2023-01-20T00:11:30.699741Z"
    }
   },
   "outputs": [
    {
     "data": {
      "image/png": "[encoded data removed]",
      "text/plain": [
       "<Figure size 1000x500 with 1 Axes>"
      ]
     },
     "metadata": {},
     "output_type": "display_data"
    }
   ],
   "source": [
    "plt.figure(figsize=(10,5))\n",
    "plt.title(\"Top 3 Downloaded Apps Reviews / Installs\")\n",
    "plt.xticks(rotation = 90)\n",
    "plt.plot(top_3[\"App\"], top_3[\"Reviews\"] / top_3[\"Installs\"])\n",
    "\"\"\"\n",
    "Despite the nearly same amount of installs, Instagram has huge amount of reviews, that means \n",
    "Google Drive and Google Street View has very small user interaction against Instagram.\n",
    "Maybe users dont download them by their wish. Automatic Downloads?\n",
    "Maybe we should try to find top 3 apps downloaded by the users will?\n",
    "\n",
    "\"\"\"\n",
    "plt.show()\n"
   ]
  },
  {
   "cell_type": "code",
   "execution_count": 292,
   "id": "c8706d8a",
   "metadata": {
    "ExecuteTime": {
     "end_time": "2023-01-19T23:59:14.801279Z",
     "start_time": "2023-01-19T23:59:14.782262Z"
    }
   },
   "outputs": [
    {
     "data": {
      "text/html": [
       "<div>\n",
       "<style scoped>\n",
       "    .dataframe tbody tr th:only-of-type {\n",
       "        vertical-align: middle;\n",
       "    }\n",
       "\n",
       "    .dataframe tbody tr th {\n",
       "        vertical-align: top;\n",
       "    }\n",
       "\n",
       "    .dataframe thead th {\n",
       "        text-align: right;\n",
       "    }\n",
       "</style>\n",
       "<table border=\"1\" class=\"dataframe\">\n",
       "  <thead>\n",
       "    <tr style=\"text-align: right;\">\n",
       "      <th></th>\n",
       "      <th>App</th>\n",
       "      <th>Rating</th>\n",
       "      <th>Reviews</th>\n",
       "      <th>Size</th>\n",
       "      <th>Installs</th>\n",
       "      <th>Price</th>\n",
       "    </tr>\n",
       "  </thead>\n",
       "  <tbody>\n",
       "    <tr>\n",
       "      <th>0</th>\n",
       "      <td>Google Street View</td>\n",
       "      <td>4.2</td>\n",
       "      <td>2129698.00</td>\n",
       "      <td>0.0</td>\n",
       "      <td>1.000000e+09</td>\n",
       "      <td>0.0</td>\n",
       "    </tr>\n",
       "    <tr>\n",
       "      <th>1</th>\n",
       "      <td>Google Drive</td>\n",
       "      <td>4.4</td>\n",
       "      <td>2730633.50</td>\n",
       "      <td>0.0</td>\n",
       "      <td>1.000000e+09</td>\n",
       "      <td>0.0</td>\n",
       "    </tr>\n",
       "    <tr>\n",
       "      <th>2</th>\n",
       "      <td>Instagram</td>\n",
       "      <td>4.5</td>\n",
       "      <td>66560497.25</td>\n",
       "      <td>0.0</td>\n",
       "      <td>1.000000e+09</td>\n",
       "      <td>0.0</td>\n",
       "    </tr>\n",
       "  </tbody>\n",
       "</table>\n",
       "</div>"
      ],
      "text/plain": [
       "                  App  Rating      Reviews  Size      Installs  Price\n",
       "0  Google Street View     4.2   2129698.00   0.0  1.000000e+09    0.0\n",
       "1        Google Drive     4.4   2730633.50   0.0  1.000000e+09    0.0\n",
       "2           Instagram     4.5  66560497.25   0.0  1.000000e+09    0.0"
      ]
     },
     "execution_count": 292,
     "metadata": {},
     "output_type": "execute_result"
    }
   ],
   "source": [
    "top_3"
   ]
  },
  {
   "cell_type": "code",
   "execution_count": 313,
   "id": "8940f8e7",
   "metadata": {
    "ExecuteTime": {
     "end_time": "2023-01-20T00:14:29.231366Z",
     "start_time": "2023-01-20T00:14:29.215498Z"
    }
   },
   "outputs": [],
   "source": [
    "top_20 = df_top_install.copy()"
   ]
  },
  {
   "cell_type": "code",
   "execution_count": 316,
   "id": "cab8e5ff",
   "metadata": {
    "ExecuteTime": {
     "end_time": "2023-01-20T00:15:15.114837Z",
     "start_time": "2023-01-20T00:15:15.110834Z"
    }
   },
   "outputs": [],
   "source": [
    "top_20.reset_index(inplace=True)"
   ]
  },
  {
   "cell_type": "code",
   "execution_count": 325,
   "id": "8e654962",
   "metadata": {
    "ExecuteTime": {
     "end_time": "2023-01-20T00:19:47.714498Z",
     "start_time": "2023-01-20T00:19:47.705296Z"
    }
   },
   "outputs": [],
   "source": [
    "top_20.drop(columns=\"index\", inplace=True)"
   ]
  },
  {
   "cell_type": "code",
   "execution_count": 326,
   "id": "59447624",
   "metadata": {
    "ExecuteTime": {
     "end_time": "2023-01-20T00:19:52.629952Z",
     "start_time": "2023-01-20T00:19:52.601928Z"
    }
   },
   "outputs": [
    {
     "data": {
      "text/html": [
       "<div>\n",
       "<style scoped>\n",
       "    .dataframe tbody tr th:only-of-type {\n",
       "        vertical-align: middle;\n",
       "    }\n",
       "\n",
       "    .dataframe tbody tr th {\n",
       "        vertical-align: top;\n",
       "    }\n",
       "\n",
       "    .dataframe thead th {\n",
       "        text-align: right;\n",
       "    }\n",
       "</style>\n",
       "<table border=\"1\" class=\"dataframe\">\n",
       "  <thead>\n",
       "    <tr style=\"text-align: right;\">\n",
       "      <th></th>\n",
       "      <th>App</th>\n",
       "      <th>Rating</th>\n",
       "      <th>Reviews</th>\n",
       "      <th>Size</th>\n",
       "      <th>Installs</th>\n",
       "      <th>Price</th>\n",
       "    </tr>\n",
       "  </thead>\n",
       "  <tbody>\n",
       "    <tr>\n",
       "      <th>0</th>\n",
       "      <td>Google Street View</td>\n",
       "      <td>4.2</td>\n",
       "      <td>2.129698e+06</td>\n",
       "      <td>0.0</td>\n",
       "      <td>1.000000e+09</td>\n",
       "      <td>0.0</td>\n",
       "    </tr>\n",
       "    <tr>\n",
       "      <th>1</th>\n",
       "      <td>Google Drive</td>\n",
       "      <td>4.4</td>\n",
       "      <td>2.730634e+06</td>\n",
       "      <td>0.0</td>\n",
       "      <td>1.000000e+09</td>\n",
       "      <td>0.0</td>\n",
       "    </tr>\n",
       "    <tr>\n",
       "      <th>2</th>\n",
       "      <td>Instagram</td>\n",
       "      <td>4.5</td>\n",
       "      <td>6.656050e+07</td>\n",
       "      <td>0.0</td>\n",
       "      <td>1.000000e+09</td>\n",
       "      <td>0.0</td>\n",
       "    </tr>\n",
       "    <tr>\n",
       "      <th>3</th>\n",
       "      <td>Hangouts</td>\n",
       "      <td>4.0</td>\n",
       "      <td>3.419415e+06</td>\n",
       "      <td>0.0</td>\n",
       "      <td>1.000000e+09</td>\n",
       "      <td>0.0</td>\n",
       "    </tr>\n",
       "    <tr>\n",
       "      <th>4</th>\n",
       "      <td>Google+</td>\n",
       "      <td>4.2</td>\n",
       "      <td>4.829748e+06</td>\n",
       "      <td>0.0</td>\n",
       "      <td>1.000000e+09</td>\n",
       "      <td>0.0</td>\n",
       "    </tr>\n",
       "    <tr>\n",
       "      <th>5</th>\n",
       "      <td>Skype - free IM &amp; video calls</td>\n",
       "      <td>4.1</td>\n",
       "      <td>1.048417e+07</td>\n",
       "      <td>0.0</td>\n",
       "      <td>1.000000e+09</td>\n",
       "      <td>0.0</td>\n",
       "    </tr>\n",
       "    <tr>\n",
       "      <th>6</th>\n",
       "      <td>Subway Surfers</td>\n",
       "      <td>4.5</td>\n",
       "      <td>2.772199e+07</td>\n",
       "      <td>76.0</td>\n",
       "      <td>1.000000e+09</td>\n",
       "      <td>0.0</td>\n",
       "    </tr>\n",
       "    <tr>\n",
       "      <th>7</th>\n",
       "      <td>Google Play Movies &amp; TV</td>\n",
       "      <td>3.7</td>\n",
       "      <td>9.063840e+05</td>\n",
       "      <td>0.0</td>\n",
       "      <td>1.000000e+09</td>\n",
       "      <td>0.0</td>\n",
       "    </tr>\n",
       "    <tr>\n",
       "      <th>8</th>\n",
       "      <td>Google Play Games</td>\n",
       "      <td>4.3</td>\n",
       "      <td>7.167048e+06</td>\n",
       "      <td>0.0</td>\n",
       "      <td>1.000000e+09</td>\n",
       "      <td>0.0</td>\n",
       "    </tr>\n",
       "    <tr>\n",
       "      <th>9</th>\n",
       "      <td>Google Play Books</td>\n",
       "      <td>3.9</td>\n",
       "      <td>1.433233e+06</td>\n",
       "      <td>0.0</td>\n",
       "      <td>1.000000e+09</td>\n",
       "      <td>0.0</td>\n",
       "    </tr>\n",
       "    <tr>\n",
       "      <th>10</th>\n",
       "      <td>Google Photos</td>\n",
       "      <td>4.5</td>\n",
       "      <td>1.085596e+07</td>\n",
       "      <td>0.0</td>\n",
       "      <td>1.000000e+09</td>\n",
       "      <td>0.0</td>\n",
       "    </tr>\n",
       "    <tr>\n",
       "      <th>11</th>\n",
       "      <td>Google News</td>\n",
       "      <td>3.9</td>\n",
       "      <td>8.777445e+05</td>\n",
       "      <td>13.0</td>\n",
       "      <td>1.000000e+09</td>\n",
       "      <td>0.0</td>\n",
       "    </tr>\n",
       "    <tr>\n",
       "      <th>12</th>\n",
       "      <td>Maps - Navigate &amp; Explore</td>\n",
       "      <td>4.3</td>\n",
       "      <td>9.234047e+06</td>\n",
       "      <td>0.0</td>\n",
       "      <td>1.000000e+09</td>\n",
       "      <td>0.0</td>\n",
       "    </tr>\n",
       "    <tr>\n",
       "      <th>13</th>\n",
       "      <td>YouTube</td>\n",
       "      <td>4.3</td>\n",
       "      <td>2.563943e+07</td>\n",
       "      <td>0.0</td>\n",
       "      <td>1.000000e+09</td>\n",
       "      <td>0.0</td>\n",
       "    </tr>\n",
       "    <tr>\n",
       "      <th>14</th>\n",
       "      <td>Google Chrome: Fast &amp; Secure</td>\n",
       "      <td>4.3</td>\n",
       "      <td>9.642716e+06</td>\n",
       "      <td>0.0</td>\n",
       "      <td>1.000000e+09</td>\n",
       "      <td>0.0</td>\n",
       "    </tr>\n",
       "    <tr>\n",
       "      <th>15</th>\n",
       "      <td>Messenger – Text and Video Chat for Free</td>\n",
       "      <td>4.0</td>\n",
       "      <td>5.664409e+07</td>\n",
       "      <td>0.0</td>\n",
       "      <td>1.000000e+09</td>\n",
       "      <td>0.0</td>\n",
       "    </tr>\n",
       "    <tr>\n",
       "      <th>16</th>\n",
       "      <td>Google</td>\n",
       "      <td>4.4</td>\n",
       "      <td>8.027558e+06</td>\n",
       "      <td>0.0</td>\n",
       "      <td>1.000000e+09</td>\n",
       "      <td>0.0</td>\n",
       "    </tr>\n",
       "    <tr>\n",
       "      <th>17</th>\n",
       "      <td>Gmail</td>\n",
       "      <td>4.3</td>\n",
       "      <td>4.604377e+06</td>\n",
       "      <td>0.0</td>\n",
       "      <td>1.000000e+09</td>\n",
       "      <td>0.0</td>\n",
       "    </tr>\n",
       "    <tr>\n",
       "      <th>18</th>\n",
       "      <td>WhatsApp Messenger</td>\n",
       "      <td>4.4</td>\n",
       "      <td>6.911610e+07</td>\n",
       "      <td>0.0</td>\n",
       "      <td>1.000000e+09</td>\n",
       "      <td>0.0</td>\n",
       "    </tr>\n",
       "    <tr>\n",
       "      <th>19</th>\n",
       "      <td>Facebook</td>\n",
       "      <td>4.1</td>\n",
       "      <td>7.814326e+07</td>\n",
       "      <td>0.0</td>\n",
       "      <td>1.000000e+09</td>\n",
       "      <td>0.0</td>\n",
       "    </tr>\n",
       "  </tbody>\n",
       "</table>\n",
       "</div>"
      ],
      "text/plain": [
       "                                         App  Rating       Reviews  Size  \\\n",
       "0                         Google Street View     4.2  2.129698e+06   0.0   \n",
       "1                               Google Drive     4.4  2.730634e+06   0.0   \n",
       "2                                  Instagram     4.5  6.656050e+07   0.0   \n",
       "3                                   Hangouts     4.0  3.419415e+06   0.0   \n",
       "4                                    Google+     4.2  4.829748e+06   0.0   \n",
       "5              Skype - free IM & video calls     4.1  1.048417e+07   0.0   \n",
       "6                             Subway Surfers     4.5  2.772199e+07  76.0   \n",
       "7                    Google Play Movies & TV     3.7  9.063840e+05   0.0   \n",
       "8                          Google Play Games     4.3  7.167048e+06   0.0   \n",
       "9                          Google Play Books     3.9  1.433233e+06   0.0   \n",
       "10                             Google Photos     4.5  1.085596e+07   0.0   \n",
       "11                               Google News     3.9  8.777445e+05  13.0   \n",
       "12                 Maps - Navigate & Explore     4.3  9.234047e+06   0.0   \n",
       "13                                   YouTube     4.3  2.563943e+07   0.0   \n",
       "14              Google Chrome: Fast & Secure     4.3  9.642716e+06   0.0   \n",
       "15  Messenger – Text and Video Chat for Free     4.0  5.664409e+07   0.0   \n",
       "16                                    Google     4.4  8.027558e+06   0.0   \n",
       "17                                     Gmail     4.3  4.604377e+06   0.0   \n",
       "18                        WhatsApp Messenger     4.4  6.911610e+07   0.0   \n",
       "19                                  Facebook     4.1  7.814326e+07   0.0   \n",
       "\n",
       "        Installs  Price  \n",
       "0   1.000000e+09    0.0  \n",
       "1   1.000000e+09    0.0  \n",
       "2   1.000000e+09    0.0  \n",
       "3   1.000000e+09    0.0  \n",
       "4   1.000000e+09    0.0  \n",
       "5   1.000000e+09    0.0  \n",
       "6   1.000000e+09    0.0  \n",
       "7   1.000000e+09    0.0  \n",
       "8   1.000000e+09    0.0  \n",
       "9   1.000000e+09    0.0  \n",
       "10  1.000000e+09    0.0  \n",
       "11  1.000000e+09    0.0  \n",
       "12  1.000000e+09    0.0  \n",
       "13  1.000000e+09    0.0  \n",
       "14  1.000000e+09    0.0  \n",
       "15  1.000000e+09    0.0  \n",
       "16  1.000000e+09    0.0  \n",
       "17  1.000000e+09    0.0  \n",
       "18  1.000000e+09    0.0  \n",
       "19  1.000000e+09    0.0  "
      ]
     },
     "execution_count": 326,
     "metadata": {},
     "output_type": "execute_result"
    }
   ],
   "source": [
    "top_20"
   ]
  },
  {
   "cell_type": "code",
   "execution_count": 346,
   "id": "5aeea5a7",
   "metadata": {
    "ExecuteTime": {
     "end_time": "2023-01-20T00:28:51.546072Z",
     "start_time": "2023-01-20T00:28:51.302837Z"
    }
   },
   "outputs": [
    {
     "data": {
      "image/png": "[encoded data removed]",
      "text/plain": [
       "<Figure size 2000x1000 with 1 Axes>"
      ]
     },
     "metadata": {},
     "output_type": "display_data"
    }
   ],
   "source": [
    "plt.figure(figsize = (20,10))\n",
    "plt.title(\"Top 20 Reviews / Installations\")\n",
    "plt.xticks(rotation = 90)\n",
    "plt.bar(top_20[\"App\"], top_20[\"Reviews\"] / top_20[\"Installs\"] )\n",
    "\"\"\"\n",
    "As we see actually Instagram, Whatsapp Messenger and Facebook are most downloaded by users, based on review / install efficiency\n",
    "\"\"\"\n",
    "plt.show()"
   ]
  },
  {
   "cell_type": "code",
   "execution_count": 347,
   "id": "af54ea9f",
   "metadata": {
    "ExecuteTime": {
     "end_time": "2023-01-20T00:29:17.473600Z",
     "start_time": "2023-01-20T00:29:17.464473Z"
    }
   },
   "outputs": [],
   "source": [
    "top_3 = top_20.iloc[[2,18,19]].copy()"
   ]
  },
  {
   "cell_type": "code",
   "execution_count": 348,
   "id": "0548b8a4",
   "metadata": {
    "ExecuteTime": {
     "end_time": "2023-01-20T00:29:17.737498Z",
     "start_time": "2023-01-20T00:29:17.708204Z"
    }
   },
   "outputs": [
    {
     "data": {
      "text/html": [
       "<div>\n",
       "<style scoped>\n",
       "    .dataframe tbody tr th:only-of-type {\n",
       "        vertical-align: middle;\n",
       "    }\n",
       "\n",
       "    .dataframe tbody tr th {\n",
       "        vertical-align: top;\n",
       "    }\n",
       "\n",
       "    .dataframe thead th {\n",
       "        text-align: right;\n",
       "    }\n",
       "</style>\n",
       "<table border=\"1\" class=\"dataframe\">\n",
       "  <thead>\n",
       "    <tr style=\"text-align: right;\">\n",
       "      <th></th>\n",
       "      <th>App</th>\n",
       "      <th>Rating</th>\n",
       "      <th>Reviews</th>\n",
       "      <th>Size</th>\n",
       "      <th>Installs</th>\n",
       "      <th>Price</th>\n",
       "    </tr>\n",
       "  </thead>\n",
       "  <tbody>\n",
       "    <tr>\n",
       "      <th>2</th>\n",
       "      <td>Instagram</td>\n",
       "      <td>4.5</td>\n",
       "      <td>6.656050e+07</td>\n",
       "      <td>0.0</td>\n",
       "      <td>1.000000e+09</td>\n",
       "      <td>0.0</td>\n",
       "    </tr>\n",
       "    <tr>\n",
       "      <th>18</th>\n",
       "      <td>WhatsApp Messenger</td>\n",
       "      <td>4.4</td>\n",
       "      <td>6.911610e+07</td>\n",
       "      <td>0.0</td>\n",
       "      <td>1.000000e+09</td>\n",
       "      <td>0.0</td>\n",
       "    </tr>\n",
       "    <tr>\n",
       "      <th>19</th>\n",
       "      <td>Facebook</td>\n",
       "      <td>4.1</td>\n",
       "      <td>7.814326e+07</td>\n",
       "      <td>0.0</td>\n",
       "      <td>1.000000e+09</td>\n",
       "      <td>0.0</td>\n",
       "    </tr>\n",
       "  </tbody>\n",
       "</table>\n",
       "</div>"
      ],
      "text/plain": [
       "                   App  Rating       Reviews  Size      Installs  Price\n",
       "2            Instagram     4.5  6.656050e+07   0.0  1.000000e+09    0.0\n",
       "18  WhatsApp Messenger     4.4  6.911610e+07   0.0  1.000000e+09    0.0\n",
       "19            Facebook     4.1  7.814326e+07   0.0  1.000000e+09    0.0"
      ]
     },
     "execution_count": 348,
     "metadata": {},
     "output_type": "execute_result"
    }
   ],
   "source": [
    "top_3"
   ]
  },
  {
   "cell_type": "code",
   "execution_count": 350,
   "id": "251e6e66",
   "metadata": {
    "ExecuteTime": {
     "end_time": "2023-01-20T00:31:29.970946Z",
     "start_time": "2023-01-20T00:31:29.873589Z"
    }
   },
   "outputs": [
    {
     "data": {
      "text/plain": [
       "<BarContainer object of 3 artists>"
      ]
     },
     "execution_count": 350,
     "metadata": {},
     "output_type": "execute_result"
    },
    {
     "data": {
      "image/png": "[encoded data removed]",
      "text/plain": [
       "<Figure size 1000x500 with 1 Axes>"
      ]
     },
     "metadata": {},
     "output_type": "display_data"
    }
   ],
   "source": [
    "plt.figure(figsize=(10,5))\n",
    "plt.title(\"Top 3 Apps Review / Download Efficiency\")\n",
    "plt.bar(top_3[\"App\"], top_3[\"Reviews\"] / top_3[\"Installs\"])"
   ]
  },
  {
   "cell_type": "code",
   "execution_count": 351,
   "id": "f68d4a74",
   "metadata": {
    "ExecuteTime": {
     "end_time": "2023-01-20T00:32:03.596073Z",
     "start_time": "2023-01-20T00:32:03.591068Z"
    }
   },
   "outputs": [],
   "source": [
    "top_100 = df_top_install.copy()"
   ]
  },
  {
   "cell_type": "code",
   "execution_count": 352,
   "id": "9eac33f2",
   "metadata": {
    "ExecuteTime": {
     "end_time": "2023-01-20T00:32:29.611069Z",
     "start_time": "2023-01-20T00:32:28.353069Z"
    }
   },
   "outputs": [
    {
     "data": {
      "image/png": "[encoded data removed]",
      "text/plain": [
       "<Figure size 2000x1000 with 1 Axes>"
      ]
     },
     "metadata": {},
     "output_type": "display_data"
    }
   ],
   "source": [
    "plt.figure(figsize = (20,10))\n",
    "plt.title(\"Top 100 Reviews / Installations\")\n",
    "plt.xticks(rotation = 90)\n",
    "plt.bar(top_100[\"App\"], top_100[\"Reviews\"] /top_100[\"Installs\"] )\n",
    "\"\"\"\n",
    "What an interesting plot!\n",
    "\"\"\"\n",
    "plt.show()"
   ]
  },
  {
   "cell_type": "code",
   "execution_count": null,
   "id": "efa275a8",
   "metadata": {},
   "outputs": [],
   "source": []
  }
 ],
 "metadata": {
  "kernelspec": {
   "display_name": "Python 3 (ipykernel)",
   "language": "python",
   "name": "python3"
  },
  "language_info": {
   "codemirror_mode": {
    "name": "ipython",
    "version": 3
   },
   "file_extension": ".py",
   "mimetype": "text/x-python",
   "name": "python",
   "nbconvert_exporter": "python",
   "pygments_lexer": "ipython3",
   "version": "3.9.13"
  },
  "toc": {
   "base_numbering": 1,
   "nav_menu": {},
   "number_sections": true,
   "sideBar": true,
   "skip_h1_title": false,
   "title_cell": "Table of Contents",
   "title_sidebar": "Contents",
   "toc_cell": false,
   "toc_position": {},
   "toc_section_display": true,
   "toc_window_display": false
  },
  "varInspector": {
   "cols": {
    "lenName": 16,
    "lenType": 16,
    "lenVar": 40
   },
   "kernels_config": {
    "python": {
     "delete_cmd_postfix": "",
     "delete_cmd_prefix": "del ",
     "library": "var_list.py",
     "varRefreshCmd": "print(var_dic_list())"
    },
    "r": {
     "delete_cmd_postfix": ") ",
     "delete_cmd_prefix": "rm(",
     "library": "var_list.r",
     "varRefreshCmd": "cat(var_dic_list()) "
    }
   },
   "types_to_exclude": [
    "module",
    "function",
    "builtin_function_or_method",
    "instance",
    "_Feature"
   ],
   "window_display": false
  }
 },
 "nbformat": 4,
 "nbformat_minor": 5
}
