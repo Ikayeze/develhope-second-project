{
 "cells": [
  {
   "cell_type": "code",
   "execution_count": 52,
   "id": "63d2e2ad",
   "metadata": {
    "ExecuteTime": {
     "end_time": "2023-03-17T22:45:21.772373Z",
     "start_time": "2023-03-17T22:45:20.238311Z"
    }
   },
   "outputs": [],
   "source": [
    "import pyspark\n",
    "import pyspark.sql.functions\n",
    "import pyspark.sql.functions as func\n",
    "from pyspark.sql import *\n",
    "from pyspark.sql.types import StructType,StructField, StringType, IntegerType\n",
    "from pyspark.sql import functions as f\n",
    "from pyspark.sql.functions import when\n",
    "\n",
    "from pandas import Timestamp\n",
    "\n",
    "\n",
    "import time\n",
    "import datetime\n",
    "from datetime import datetime as dt, timedelta\n",
    "\n",
    "import matplotlib.pyplot as plt\n",
    "\n",
    "import pandas as pd\n",
    "from haversine import haversine, Unit"
   ]
  },
  {
   "cell_type": "code",
   "execution_count": 4,
   "id": "27b4d228",
   "metadata": {
    "ExecuteTime": {
     "end_time": "2023-03-16T15:04:33.559501Z",
     "start_time": "2023-03-16T15:04:33.552503Z"
    }
   },
   "outputs": [],
   "source": [
    "spark = SparkSession.builder.master(\"local[*]\").appName(\"ford_go_bike\").getOrCreate()"
   ]
  },
  {
   "cell_type": "code",
   "execution_count": 5,
   "id": "bda5387c",
   "metadata": {
    "ExecuteTime": {
     "end_time": "2023-03-16T15:04:34.546354Z",
     "start_time": "2023-03-16T15:04:34.521356Z"
    }
   },
   "outputs": [
    {
     "data": {
      "text/html": [
       "\n",
       "            <div>\n",
       "                <p><b>SparkSession - in-memory</b></p>\n",
       "                \n",
       "        <div>\n",
       "            <p><b>SparkContext</b></p>\n",
       "\n",
       "            <p><a href=\"http://Kepler-452b:4041\">Spark UI</a></p>\n",
       "\n",
       "            <dl>\n",
       "              <dt>Version</dt>\n",
       "                <dd><code>v3.3.2</code></dd>\n",
       "              <dt>Master</dt>\n",
       "                <dd><code>local[*]</code></dd>\n",
       "              <dt>AppName</dt>\n",
       "                <dd><code>ford_go_bike</code></dd>\n",
       "            </dl>\n",
       "        </div>\n",
       "        \n",
       "            </div>\n",
       "        "
      ],
      "text/plain": [
       "<pyspark.sql.session.SparkSession at 0x2ea62cdd850>"
      ]
     },
     "execution_count": 5,
     "metadata": {},
     "output_type": "execute_result"
    }
   ],
   "source": [
    "spark"
   ]
  },
  {
   "cell_type": "code",
   "execution_count": 42,
   "id": "ddfd8fb3",
   "metadata": {
    "ExecuteTime": {
     "end_time": "2023-03-16T15:24:02.097219Z",
     "start_time": "2023-03-16T15:24:01.987232Z"
    }
   },
   "outputs": [],
   "source": [
    "df = spark.read.option(\"header\", \"true\").format(\"csv\").load(\"2017-fordgobike-tripdata.csv\")"
   ]
  },
  {
   "cell_type": "code",
   "execution_count": 12,
   "id": "5ccbe0c1",
   "metadata": {
    "ExecuteTime": {
     "end_time": "2023-03-16T14:18:25.679691Z",
     "start_time": "2023-03-16T14:18:25.655918Z"
    }
   },
   "outputs": [
    {
     "name": "stdout",
     "output_type": "stream",
     "text": [
      "root\n",
      " |-- duration_sec: string (nullable = true)\n",
      " |-- start_time: string (nullable = true)\n",
      " |-- end_time: string (nullable = true)\n",
      " |-- start_station_id: string (nullable = true)\n",
      " |-- start_station_name: string (nullable = true)\n",
      " |-- start_station_latitude: string (nullable = true)\n",
      " |-- start_station_longitude: string (nullable = true)\n",
      " |-- end_station_id: string (nullable = true)\n",
      " |-- end_station_name: string (nullable = true)\n",
      " |-- end_station_latitude: string (nullable = true)\n",
      " |-- end_station_longitude: string (nullable = true)\n",
      " |-- bike_id: string (nullable = true)\n",
      " |-- user_type: string (nullable = true)\n",
      " |-- member_birth_year: string (nullable = true)\n",
      " |-- member_gender: string (nullable = true)\n",
      "\n"
     ]
    }
   ],
   "source": [
    "df.printSchema()"
   ]
  },
  {
   "cell_type": "code",
   "execution_count": 14,
   "id": "575163a9",
   "metadata": {
    "ExecuteTime": {
     "end_time": "2023-03-16T14:18:34.988746Z",
     "start_time": "2023-03-16T14:18:33.594843Z"
    }
   },
   "outputs": [],
   "source": [
    "pDf = pd.read_csv(\"2017-fordgobike-tripdata.csv\")"
   ]
  },
  {
   "cell_type": "code",
   "execution_count": 15,
   "id": "14366e53",
   "metadata": {
    "ExecuteTime": {
     "end_time": "2023-03-16T14:18:37.867091Z",
     "start_time": "2023-03-16T14:18:37.473547Z"
    }
   },
   "outputs": [
    {
     "name": "stdout",
     "output_type": "stream",
     "text": [
      "<class 'pandas.core.frame.DataFrame'>\n",
      "RangeIndex: 519700 entries, 0 to 519699\n",
      "Data columns (total 15 columns):\n",
      " #   Column                   Non-Null Count   Dtype  \n",
      "---  ------                   --------------   -----  \n",
      " 0   duration_sec             519700 non-null  int64  \n",
      " 1   start_time               519700 non-null  object \n",
      " 2   end_time                 519700 non-null  object \n",
      " 3   start_station_id         519700 non-null  int64  \n",
      " 4   start_station_name       519700 non-null  object \n",
      " 5   start_station_latitude   519700 non-null  float64\n",
      " 6   start_station_longitude  519700 non-null  float64\n",
      " 7   end_station_id           519700 non-null  int64  \n",
      " 8   end_station_name         519700 non-null  object \n",
      " 9   end_station_latitude     519700 non-null  float64\n",
      " 10  end_station_longitude    519700 non-null  float64\n",
      " 11  bike_id                  519700 non-null  int64  \n",
      " 12  user_type                519700 non-null  object \n",
      " 13  member_birth_year        453159 non-null  float64\n",
      " 14  member_gender            453238 non-null  object \n",
      "dtypes: float64(5), int64(4), object(6)\n",
      "memory usage: 59.5+ MB\n"
     ]
    }
   ],
   "source": [
    "pDf.info()"
   ]
  },
  {
   "cell_type": "code",
   "execution_count": 16,
   "id": "01d7fd66",
   "metadata": {
    "ExecuteTime": {
     "end_time": "2023-03-16T14:18:51.431114Z",
     "start_time": "2023-03-16T14:18:39.857784Z"
    }
   },
   "outputs": [],
   "source": [
    "pDf[\"distance\"] = pDf.apply(lambda x: haversine((x[\"start_station_latitude\"], x[\"start_station_longitude\"]), (x[\"end_station_latitude\"], x[\"end_station_longitude\"])),axis=1)"
   ]
  },
  {
   "cell_type": "code",
   "execution_count": 17,
   "id": "2b6596ed",
   "metadata": {
    "ExecuteTime": {
     "end_time": "2023-03-16T14:18:54.920673Z",
     "start_time": "2023-03-16T14:18:54.484032Z"
    }
   },
   "outputs": [
    {
     "name": "stdout",
     "output_type": "stream",
     "text": [
      "<class 'pandas.core.frame.DataFrame'>\n",
      "RangeIndex: 519700 entries, 0 to 519699\n",
      "Data columns (total 16 columns):\n",
      " #   Column                   Non-Null Count   Dtype  \n",
      "---  ------                   --------------   -----  \n",
      " 0   duration_sec             519700 non-null  int64  \n",
      " 1   start_time               519700 non-null  object \n",
      " 2   end_time                 519700 non-null  object \n",
      " 3   start_station_id         519700 non-null  int64  \n",
      " 4   start_station_name       519700 non-null  object \n",
      " 5   start_station_latitude   519700 non-null  float64\n",
      " 6   start_station_longitude  519700 non-null  float64\n",
      " 7   end_station_id           519700 non-null  int64  \n",
      " 8   end_station_name         519700 non-null  object \n",
      " 9   end_station_latitude     519700 non-null  float64\n",
      " 10  end_station_longitude    519700 non-null  float64\n",
      " 11  bike_id                  519700 non-null  int64  \n",
      " 12  user_type                519700 non-null  object \n",
      " 13  member_birth_year        453159 non-null  float64\n",
      " 14  member_gender            453238 non-null  object \n",
      " 15  distance                 519700 non-null  float64\n",
      "dtypes: float64(6), int64(4), object(6)\n",
      "memory usage: 63.4+ MB\n"
     ]
    }
   ],
   "source": [
    "pDf.info()"
   ]
  },
  {
   "cell_type": "code",
   "execution_count": 18,
   "id": "4984e55e",
   "metadata": {
    "ExecuteTime": {
     "end_time": "2023-03-16T14:18:57.486389Z",
     "start_time": "2023-03-16T14:18:57.460388Z"
    }
   },
   "outputs": [
    {
     "data": {
      "text/html": [
       "<div>\n",
       "<style scoped>\n",
       "    .dataframe tbody tr th:only-of-type {\n",
       "        vertical-align: middle;\n",
       "    }\n",
       "\n",
       "    .dataframe tbody tr th {\n",
       "        vertical-align: top;\n",
       "    }\n",
       "\n",
       "    .dataframe thead th {\n",
       "        text-align: right;\n",
       "    }\n",
       "</style>\n",
       "<table border=\"1\" class=\"dataframe\">\n",
       "  <thead>\n",
       "    <tr style=\"text-align: right;\">\n",
       "      <th></th>\n",
       "      <th>duration_sec</th>\n",
       "      <th>start_time</th>\n",
       "      <th>end_time</th>\n",
       "      <th>start_station_id</th>\n",
       "      <th>start_station_name</th>\n",
       "      <th>start_station_latitude</th>\n",
       "      <th>start_station_longitude</th>\n",
       "      <th>end_station_id</th>\n",
       "      <th>end_station_name</th>\n",
       "      <th>end_station_latitude</th>\n",
       "      <th>end_station_longitude</th>\n",
       "      <th>bike_id</th>\n",
       "      <th>user_type</th>\n",
       "      <th>member_birth_year</th>\n",
       "      <th>member_gender</th>\n",
       "      <th>distance</th>\n",
       "    </tr>\n",
       "  </thead>\n",
       "  <tbody>\n",
       "    <tr>\n",
       "      <th>0</th>\n",
       "      <td>80110</td>\n",
       "      <td>2017-12-31 16:57:39.6540</td>\n",
       "      <td>2018-01-01 15:12:50.2450</td>\n",
       "      <td>74</td>\n",
       "      <td>Laguna St at Hayes St</td>\n",
       "      <td>37.776435</td>\n",
       "      <td>-122.426244</td>\n",
       "      <td>43</td>\n",
       "      <td>San Francisco Public Library (Grove St at Hyde...</td>\n",
       "      <td>37.778768</td>\n",
       "      <td>-122.415929</td>\n",
       "      <td>96</td>\n",
       "      <td>Customer</td>\n",
       "      <td>1987.0</td>\n",
       "      <td>Male</td>\n",
       "      <td>0.942932</td>\n",
       "    </tr>\n",
       "    <tr>\n",
       "      <th>1</th>\n",
       "      <td>78800</td>\n",
       "      <td>2017-12-31 15:56:34.8420</td>\n",
       "      <td>2018-01-01 13:49:55.6170</td>\n",
       "      <td>284</td>\n",
       "      <td>Yerba Buena Center for the Arts (Howard St at ...</td>\n",
       "      <td>37.784872</td>\n",
       "      <td>-122.400876</td>\n",
       "      <td>96</td>\n",
       "      <td>Dolores St at 15th St</td>\n",
       "      <td>37.766210</td>\n",
       "      <td>-122.426614</td>\n",
       "      <td>88</td>\n",
       "      <td>Customer</td>\n",
       "      <td>1965.0</td>\n",
       "      <td>Female</td>\n",
       "      <td>3.069731</td>\n",
       "    </tr>\n",
       "    <tr>\n",
       "      <th>2</th>\n",
       "      <td>45768</td>\n",
       "      <td>2017-12-31 22:45:48.4110</td>\n",
       "      <td>2018-01-01 11:28:36.8830</td>\n",
       "      <td>245</td>\n",
       "      <td>Downtown Berkeley BART</td>\n",
       "      <td>37.870348</td>\n",
       "      <td>-122.267764</td>\n",
       "      <td>245</td>\n",
       "      <td>Downtown Berkeley BART</td>\n",
       "      <td>37.870348</td>\n",
       "      <td>-122.267764</td>\n",
       "      <td>1094</td>\n",
       "      <td>Customer</td>\n",
       "      <td>NaN</td>\n",
       "      <td>NaN</td>\n",
       "      <td>0.000000</td>\n",
       "    </tr>\n",
       "    <tr>\n",
       "      <th>3</th>\n",
       "      <td>62172</td>\n",
       "      <td>2017-12-31 17:31:10.6360</td>\n",
       "      <td>2018-01-01 10:47:23.5310</td>\n",
       "      <td>60</td>\n",
       "      <td>8th St at Ringold St</td>\n",
       "      <td>37.774520</td>\n",
       "      <td>-122.409449</td>\n",
       "      <td>5</td>\n",
       "      <td>Powell St BART Station (Market St at 5th St)</td>\n",
       "      <td>37.783899</td>\n",
       "      <td>-122.408445</td>\n",
       "      <td>2831</td>\n",
       "      <td>Customer</td>\n",
       "      <td>NaN</td>\n",
       "      <td>NaN</td>\n",
       "      <td>1.046624</td>\n",
       "    </tr>\n",
       "    <tr>\n",
       "      <th>4</th>\n",
       "      <td>43603</td>\n",
       "      <td>2017-12-31 14:23:14.0010</td>\n",
       "      <td>2018-01-01 02:29:57.5710</td>\n",
       "      <td>239</td>\n",
       "      <td>Bancroft Way at Telegraph Ave</td>\n",
       "      <td>37.868813</td>\n",
       "      <td>-122.258764</td>\n",
       "      <td>247</td>\n",
       "      <td>Fulton St at Bancroft Way</td>\n",
       "      <td>37.867789</td>\n",
       "      <td>-122.265896</td>\n",
       "      <td>3167</td>\n",
       "      <td>Subscriber</td>\n",
       "      <td>1997.0</td>\n",
       "      <td>Female</td>\n",
       "      <td>0.636340</td>\n",
       "    </tr>\n",
       "    <tr>\n",
       "      <th>...</th>\n",
       "      <td>...</td>\n",
       "      <td>...</td>\n",
       "      <td>...</td>\n",
       "      <td>...</td>\n",
       "      <td>...</td>\n",
       "      <td>...</td>\n",
       "      <td>...</td>\n",
       "      <td>...</td>\n",
       "      <td>...</td>\n",
       "      <td>...</td>\n",
       "      <td>...</td>\n",
       "      <td>...</td>\n",
       "      <td>...</td>\n",
       "      <td>...</td>\n",
       "      <td>...</td>\n",
       "      <td>...</td>\n",
       "    </tr>\n",
       "    <tr>\n",
       "      <th>519695</th>\n",
       "      <td>435</td>\n",
       "      <td>2017-06-28 10:00:54.5280</td>\n",
       "      <td>2017-06-28 10:08:10.4380</td>\n",
       "      <td>81</td>\n",
       "      <td>Berry St at 4th St</td>\n",
       "      <td>37.775880</td>\n",
       "      <td>-122.393170</td>\n",
       "      <td>45</td>\n",
       "      <td>5th St at Howard St</td>\n",
       "      <td>37.781752</td>\n",
       "      <td>-122.405127</td>\n",
       "      <td>400</td>\n",
       "      <td>Subscriber</td>\n",
       "      <td>1991.0</td>\n",
       "      <td>Male</td>\n",
       "      <td>1.237187</td>\n",
       "    </tr>\n",
       "    <tr>\n",
       "      <th>519696</th>\n",
       "      <td>431</td>\n",
       "      <td>2017-06-28 09:56:39.6310</td>\n",
       "      <td>2017-06-28 10:03:51.0900</td>\n",
       "      <td>66</td>\n",
       "      <td>3rd St at Townsend St</td>\n",
       "      <td>37.778742</td>\n",
       "      <td>-122.392741</td>\n",
       "      <td>321</td>\n",
       "      <td>5th at Folsom</td>\n",
       "      <td>37.780146</td>\n",
       "      <td>-122.403071</td>\n",
       "      <td>316</td>\n",
       "      <td>Subscriber</td>\n",
       "      <td>1973.0</td>\n",
       "      <td>Male</td>\n",
       "      <td>0.921190</td>\n",
       "    </tr>\n",
       "    <tr>\n",
       "      <th>519697</th>\n",
       "      <td>424</td>\n",
       "      <td>2017-06-28 09:47:36.3470</td>\n",
       "      <td>2017-06-28 09:54:41.1870</td>\n",
       "      <td>21</td>\n",
       "      <td>Montgomery St BART Station (Market St at 2nd St)</td>\n",
       "      <td>37.789625</td>\n",
       "      <td>-122.400811</td>\n",
       "      <td>48</td>\n",
       "      <td>2nd St at S Park St</td>\n",
       "      <td>37.782411</td>\n",
       "      <td>-122.392706</td>\n",
       "      <td>240</td>\n",
       "      <td>Subscriber</td>\n",
       "      <td>1985.0</td>\n",
       "      <td>Female</td>\n",
       "      <td>1.072757</td>\n",
       "    </tr>\n",
       "    <tr>\n",
       "      <th>519698</th>\n",
       "      <td>366</td>\n",
       "      <td>2017-06-28 09:47:41.6640</td>\n",
       "      <td>2017-06-28 09:53:47.7150</td>\n",
       "      <td>58</td>\n",
       "      <td>Market St at 10th St</td>\n",
       "      <td>37.776619</td>\n",
       "      <td>-122.417385</td>\n",
       "      <td>59</td>\n",
       "      <td>S Van Ness Ave at Market St</td>\n",
       "      <td>37.774814</td>\n",
       "      <td>-122.418954</td>\n",
       "      <td>669</td>\n",
       "      <td>Subscriber</td>\n",
       "      <td>1981.0</td>\n",
       "      <td>Male</td>\n",
       "      <td>0.243515</td>\n",
       "    </tr>\n",
       "    <tr>\n",
       "      <th>519699</th>\n",
       "      <td>188</td>\n",
       "      <td>2017-06-28 09:49:46.3770</td>\n",
       "      <td>2017-06-28 09:52:55.3380</td>\n",
       "      <td>25</td>\n",
       "      <td>Howard St at 2nd St</td>\n",
       "      <td>37.787522</td>\n",
       "      <td>-122.397405</td>\n",
       "      <td>48</td>\n",
       "      <td>2nd St at S Park St</td>\n",
       "      <td>37.782411</td>\n",
       "      <td>-122.392706</td>\n",
       "      <td>117</td>\n",
       "      <td>Subscriber</td>\n",
       "      <td>1984.0</td>\n",
       "      <td>Male</td>\n",
       "      <td>0.702462</td>\n",
       "    </tr>\n",
       "  </tbody>\n",
       "</table>\n",
       "<p>519700 rows × 16 columns</p>\n",
       "</div>"
      ],
      "text/plain": [
       "        duration_sec                start_time                  end_time  \\\n",
       "0              80110  2017-12-31 16:57:39.6540  2018-01-01 15:12:50.2450   \n",
       "1              78800  2017-12-31 15:56:34.8420  2018-01-01 13:49:55.6170   \n",
       "2              45768  2017-12-31 22:45:48.4110  2018-01-01 11:28:36.8830   \n",
       "3              62172  2017-12-31 17:31:10.6360  2018-01-01 10:47:23.5310   \n",
       "4              43603  2017-12-31 14:23:14.0010  2018-01-01 02:29:57.5710   \n",
       "...              ...                       ...                       ...   \n",
       "519695           435  2017-06-28 10:00:54.5280  2017-06-28 10:08:10.4380   \n",
       "519696           431  2017-06-28 09:56:39.6310  2017-06-28 10:03:51.0900   \n",
       "519697           424  2017-06-28 09:47:36.3470  2017-06-28 09:54:41.1870   \n",
       "519698           366  2017-06-28 09:47:41.6640  2017-06-28 09:53:47.7150   \n",
       "519699           188  2017-06-28 09:49:46.3770  2017-06-28 09:52:55.3380   \n",
       "\n",
       "        start_station_id                                 start_station_name  \\\n",
       "0                     74                              Laguna St at Hayes St   \n",
       "1                    284  Yerba Buena Center for the Arts (Howard St at ...   \n",
       "2                    245                             Downtown Berkeley BART   \n",
       "3                     60                               8th St at Ringold St   \n",
       "4                    239                      Bancroft Way at Telegraph Ave   \n",
       "...                  ...                                                ...   \n",
       "519695                81                                 Berry St at 4th St   \n",
       "519696                66                              3rd St at Townsend St   \n",
       "519697                21   Montgomery St BART Station (Market St at 2nd St)   \n",
       "519698                58                               Market St at 10th St   \n",
       "519699                25                                Howard St at 2nd St   \n",
       "\n",
       "        start_station_latitude  start_station_longitude  end_station_id  \\\n",
       "0                    37.776435              -122.426244              43   \n",
       "1                    37.784872              -122.400876              96   \n",
       "2                    37.870348              -122.267764             245   \n",
       "3                    37.774520              -122.409449               5   \n",
       "4                    37.868813              -122.258764             247   \n",
       "...                        ...                      ...             ...   \n",
       "519695               37.775880              -122.393170              45   \n",
       "519696               37.778742              -122.392741             321   \n",
       "519697               37.789625              -122.400811              48   \n",
       "519698               37.776619              -122.417385              59   \n",
       "519699               37.787522              -122.397405              48   \n",
       "\n",
       "                                         end_station_name  \\\n",
       "0       San Francisco Public Library (Grove St at Hyde...   \n",
       "1                                   Dolores St at 15th St   \n",
       "2                                  Downtown Berkeley BART   \n",
       "3            Powell St BART Station (Market St at 5th St)   \n",
       "4                               Fulton St at Bancroft Way   \n",
       "...                                                   ...   \n",
       "519695                                5th St at Howard St   \n",
       "519696                                      5th at Folsom   \n",
       "519697                                2nd St at S Park St   \n",
       "519698                        S Van Ness Ave at Market St   \n",
       "519699                                2nd St at S Park St   \n",
       "\n",
       "        end_station_latitude  end_station_longitude  bike_id   user_type  \\\n",
       "0                  37.778768            -122.415929       96    Customer   \n",
       "1                  37.766210            -122.426614       88    Customer   \n",
       "2                  37.870348            -122.267764     1094    Customer   \n",
       "3                  37.783899            -122.408445     2831    Customer   \n",
       "4                  37.867789            -122.265896     3167  Subscriber   \n",
       "...                      ...                    ...      ...         ...   \n",
       "519695             37.781752            -122.405127      400  Subscriber   \n",
       "519696             37.780146            -122.403071      316  Subscriber   \n",
       "519697             37.782411            -122.392706      240  Subscriber   \n",
       "519698             37.774814            -122.418954      669  Subscriber   \n",
       "519699             37.782411            -122.392706      117  Subscriber   \n",
       "\n",
       "        member_birth_year member_gender  distance  \n",
       "0                  1987.0          Male  0.942932  \n",
       "1                  1965.0        Female  3.069731  \n",
       "2                     NaN           NaN  0.000000  \n",
       "3                     NaN           NaN  1.046624  \n",
       "4                  1997.0        Female  0.636340  \n",
       "...                   ...           ...       ...  \n",
       "519695             1991.0          Male  1.237187  \n",
       "519696             1973.0          Male  0.921190  \n",
       "519697             1985.0        Female  1.072757  \n",
       "519698             1981.0          Male  0.243515  \n",
       "519699             1984.0          Male  0.702462  \n",
       "\n",
       "[519700 rows x 16 columns]"
      ]
     },
     "execution_count": 18,
     "metadata": {},
     "output_type": "execute_result"
    }
   ],
   "source": [
    "pDf"
   ]
  },
  {
   "cell_type": "code",
   "execution_count": 19,
   "id": "d20d8b87",
   "metadata": {
    "ExecuteTime": {
     "end_time": "2023-03-16T14:18:58.953174Z",
     "start_time": "2023-03-16T14:18:58.467964Z"
    }
   },
   "outputs": [],
   "source": [
    "pDf['start_time'] = pd.to_datetime(pDf['start_time'])"
   ]
  },
  {
   "cell_type": "code",
   "execution_count": 20,
   "id": "acff535f",
   "metadata": {
    "ExecuteTime": {
     "end_time": "2023-03-16T14:19:02.289360Z",
     "start_time": "2023-03-16T14:19:01.813064Z"
    }
   },
   "outputs": [],
   "source": [
    "pDf['end_time'] = pd.to_datetime(pDf['end_time'])"
   ]
  },
  {
   "cell_type": "code",
   "execution_count": 21,
   "id": "65d4d585",
   "metadata": {
    "ExecuteTime": {
     "end_time": "2023-03-16T14:19:05.685467Z",
     "start_time": "2023-03-16T14:19:05.677469Z"
    }
   },
   "outputs": [],
   "source": [
    "spark.conf.set(\"spark.sql.execution.arrow.enabled\",\"true\")"
   ]
  },
  {
   "cell_type": "code",
   "execution_count": 23,
   "id": "4230a3b7",
   "metadata": {
    "ExecuteTime": {
     "end_time": "2023-03-16T14:21:28.253406Z",
     "start_time": "2023-03-16T14:21:21.365967Z"
    }
   },
   "outputs": [],
   "source": [
    "pDf.to_csv('forgobike&distances.csv')"
   ]
  },
  {
   "cell_type": "code",
   "execution_count": 228,
   "id": "8d22f55b",
   "metadata": {
    "ExecuteTime": {
     "end_time": "2023-03-16T19:01:08.493735Z",
     "start_time": "2023-03-16T19:01:08.372737Z"
    }
   },
   "outputs": [],
   "source": [
    "df = spark.read.format(\"csv\").option(\"header\", \"true\").load(\"forgobike&distances.csv\")"
   ]
  },
  {
   "cell_type": "code",
   "execution_count": 229,
   "id": "9b1b2a40",
   "metadata": {
    "ExecuteTime": {
     "end_time": "2023-03-16T19:01:11.554069Z",
     "start_time": "2023-03-16T19:01:11.549058Z"
    }
   },
   "outputs": [
    {
     "name": "stdout",
     "output_type": "stream",
     "text": [
      "root\n",
      " |-- _c0: string (nullable = true)\n",
      " |-- duration_sec: string (nullable = true)\n",
      " |-- start_time: string (nullable = true)\n",
      " |-- end_time: string (nullable = true)\n",
      " |-- start_station_id: string (nullable = true)\n",
      " |-- start_station_name: string (nullable = true)\n",
      " |-- start_station_latitude: string (nullable = true)\n",
      " |-- start_station_longitude: string (nullable = true)\n",
      " |-- end_station_id: string (nullable = true)\n",
      " |-- end_station_name: string (nullable = true)\n",
      " |-- end_station_latitude: string (nullable = true)\n",
      " |-- end_station_longitude: string (nullable = true)\n",
      " |-- bike_id: string (nullable = true)\n",
      " |-- user_type: string (nullable = true)\n",
      " |-- member_birth_year: string (nullable = true)\n",
      " |-- member_gender: string (nullable = true)\n",
      " |-- distance: string (nullable = true)\n",
      "\n"
     ]
    }
   ],
   "source": [
    "df.printSchema()"
   ]
  },
  {
   "cell_type": "code",
   "execution_count": 230,
   "id": "d01ccb3d",
   "metadata": {
    "ExecuteTime": {
     "end_time": "2023-03-16T19:01:13.684778Z",
     "start_time": "2023-03-16T19:01:13.668780Z"
    }
   },
   "outputs": [],
   "source": [
    "df = df.withColumnRenamed(\"_c0\", \"index\")"
   ]
  },
  {
   "cell_type": "code",
   "execution_count": 28,
   "id": "dd45ba67",
   "metadata": {
    "ExecuteTime": {
     "end_time": "2023-03-16T14:21:37.929974Z",
     "start_time": "2023-03-16T14:21:37.808092Z"
    }
   },
   "outputs": [
    {
     "name": "stdout",
     "output_type": "stream",
     "text": [
      "+-----+------------+--------------------+--------------------+----------------+\n",
      "|index|duration_sec|          start_time|            end_time|start_station_id|\n",
      "+-----+------------+--------------------+--------------------+----------------+\n",
      "|    0|       80110|2017-12-31 16:57:...|2018-01-01 15:12:...|              74|\n",
      "|    1|       78800|2017-12-31 15:56:...|2018-01-01 13:49:...|             284|\n",
      "|    2|       45768|2017-12-31 22:45:...|2018-01-01 11:28:...|             245|\n",
      "|    3|       62172|2017-12-31 17:31:...|2018-01-01 10:47:...|              60|\n",
      "|    4|       43603|2017-12-31 14:23:...|2018-01-01 02:29:...|             239|\n",
      "|    5|        9226|2017-12-31 22:51:...|2018-01-01 01:24:...|              30|\n",
      "|    6|        4507|2017-12-31 23:49:...|2018-01-01 01:04:...|             259|\n",
      "|    7|        4334|2017-12-31 23:46:...|2018-01-01 00:58:...|             284|\n",
      "|    8|        4150|2017-12-31 23:37:...|2018-01-01 00:46:...|              20|\n",
      "|    9|        4238|2017-12-31 23:35:...|2018-01-01 00:46:...|              20|\n",
      "|   10|        3292|2017-12-31 23:46:...|2018-01-01 00:41:...|             284|\n",
      "|   11|        3177|2017-12-31 23:48:...|2018-01-01 00:41:...|             284|\n",
      "|   12|        2183|2017-12-31 23:52:...|2018-01-01 00:29:...|              67|\n",
      "|   13|        2170|2017-12-31 23:52:...|2018-01-01 00:29:...|              67|\n",
      "|   14|        2697|2017-12-31 23:35:...|2018-01-01 00:20:...|              66|\n",
      "|   15|        1544|2017-12-31 23:53:...|2018-01-01 00:19:...|              14|\n",
      "|   16|        1474|2017-12-31 23:54:...|2018-01-01 00:19:...|              14|\n",
      "|   17|        1397|2017-12-31 23:55:...|2018-01-01 00:18:...|              78|\n",
      "|   18|        1532|2017-12-31 23:52:...|2018-01-01 00:18:...|              78|\n",
      "|   19|        1216|2017-12-31 23:46:...|2018-01-01 00:06:...|               4|\n",
      "+-----+------------+--------------------+--------------------+----------------+\n",
      "only showing top 20 rows\n",
      "\n"
     ]
    }
   ],
   "source": [
    "df.select(df.columns[:5]).show()"
   ]
  },
  {
   "cell_type": "code",
   "execution_count": 29,
   "id": "cf8b00bd",
   "metadata": {
    "ExecuteTime": {
     "end_time": "2023-03-16T14:21:43.327034Z",
     "start_time": "2023-03-16T14:21:43.304035Z"
    }
   },
   "outputs": [],
   "source": [
    "df = df.withColumn(\"distance\", col(\"distance\").cast(\"float\"))"
   ]
  },
  {
   "cell_type": "markdown",
   "id": "5d54c725",
   "metadata": {},
   "source": [
    "# Calculate the total distance for each bike and list the top 10"
   ]
  },
  {
   "cell_type": "code",
   "execution_count": 30,
   "id": "5335fb85",
   "metadata": {
    "ExecuteTime": {
     "end_time": "2023-03-16T14:21:53.925252Z",
     "start_time": "2023-03-16T14:21:51.745706Z"
    }
   },
   "outputs": [
    {
     "name": "stdout",
     "output_type": "stream",
     "text": [
      "+-------+-----------------+\n",
      "|bike_id|    sum(distance)|\n",
      "+-------+-----------------+\n",
      "|     68|743.3694912344217|\n",
      "|   2178|721.1822336316109|\n",
      "|    256|671.9161504805088|\n",
      "|    235|670.1619913876057|\n",
      "|   2049|656.8280823230743|\n",
      "|    441|656.6422760337591|\n",
      "|   2226|647.8232692182064|\n",
      "|    796|646.8677228093147|\n",
      "|    190|640.2941762208939|\n",
      "|   2365|  639.41270147264|\n",
      "+-------+-----------------+\n",
      "only showing top 10 rows\n",
      "\n"
     ]
    }
   ],
   "source": [
    "df.groupby('bike_id').agg({'distance':'sum'}).orderBy('sum(distance)', ascending = False).show(10)"
   ]
  },
  {
   "cell_type": "code",
   "execution_count": 31,
   "id": "53fe5f69",
   "metadata": {
    "ExecuteTime": {
     "end_time": "2023-03-16T14:21:56.596442Z",
     "start_time": "2023-03-16T14:21:56.554385Z"
    }
   },
   "outputs": [],
   "source": [
    "df.createOrReplaceTempView(\"df\")"
   ]
  },
  {
   "cell_type": "markdown",
   "id": "5323f078",
   "metadata": {},
   "source": [
    "# Calculate the number of trips for each start station list top 10 and find the ratio of using as male or female"
   ]
  },
  {
   "cell_type": "code",
   "execution_count": 32,
   "id": "ecfc7973",
   "metadata": {
    "ExecuteTime": {
     "end_time": "2023-03-16T14:22:03.204102Z",
     "start_time": "2023-03-16T14:22:02.003104Z"
    }
   },
   "outputs": [
    {
     "data": {
      "text/plain": [
       "[15.0, 6.0, 30.0, 67.0, 58.0, 21.0, 81.0, 3.0, 22.0, 16.0]"
      ]
     },
     "execution_count": 32,
     "metadata": {},
     "output_type": "execute_result"
    }
   ],
   "source": [
    "start_stations = []\n",
    "top_stations = spark.sql(\"SELECT start_station_id, COUNT(ALL start_station_id) FROM df GROUP BY start_station_id ORDER BY count(start_station_id) desc LIMIT 10\").collect()\n",
    "for i in top_stations:\n",
    "    start_stations.append(float(i[0]))\n",
    "start_stations"
   ]
  },
  {
   "cell_type": "code",
   "execution_count": 33,
   "id": "59792449",
   "metadata": {
    "ExecuteTime": {
     "end_time": "2023-03-16T14:22:04.398317Z",
     "start_time": "2023-03-16T14:22:04.075578Z"
    }
   },
   "outputs": [
    {
     "name": "stdout",
     "output_type": "stream",
     "text": [
      "<class 'pandas.core.frame.DataFrame'>\n",
      "RangeIndex: 519700 entries, 0 to 519699\n",
      "Data columns (total 16 columns):\n",
      " #   Column                   Non-Null Count   Dtype         \n",
      "---  ------                   --------------   -----         \n",
      " 0   duration_sec             519700 non-null  int64         \n",
      " 1   start_time               519700 non-null  datetime64[ns]\n",
      " 2   end_time                 519700 non-null  datetime64[ns]\n",
      " 3   start_station_id         519700 non-null  int64         \n",
      " 4   start_station_name       519700 non-null  object        \n",
      " 5   start_station_latitude   519700 non-null  float64       \n",
      " 6   start_station_longitude  519700 non-null  float64       \n",
      " 7   end_station_id           519700 non-null  int64         \n",
      " 8   end_station_name         519700 non-null  object        \n",
      " 9   end_station_latitude     519700 non-null  float64       \n",
      " 10  end_station_longitude    519700 non-null  float64       \n",
      " 11  bike_id                  519700 non-null  int64         \n",
      " 12  user_type                519700 non-null  object        \n",
      " 13  member_birth_year        453159 non-null  float64       \n",
      " 14  member_gender            453238 non-null  object        \n",
      " 15  distance                 519700 non-null  float64       \n",
      "dtypes: datetime64[ns](2), float64(6), int64(4), object(4)\n",
      "memory usage: 63.4+ MB\n"
     ]
    }
   ],
   "source": [
    "pDf.info()"
   ]
  },
  {
   "cell_type": "code",
   "execution_count": 34,
   "id": "dbe825ed",
   "metadata": {
    "ExecuteTime": {
     "end_time": "2023-03-16T14:22:07.395752Z",
     "start_time": "2023-03-16T14:22:07.356765Z"
    }
   },
   "outputs": [
    {
     "name": "stderr",
     "output_type": "stream",
     "text": [
      "C:\\Users\\mkaya\\AppData\\Local\\Temp\\ipykernel_1692\\4292331174.py:1: SettingWithCopyWarning: \n",
      "A value is trying to be set on a copy of a slice from a DataFrame\n",
      "\n",
      "See the caveats in the documentation: https://pandas.pydata.org/pandas-docs/stable/user_guide/indexing.html#returning-a-view-versus-a-copy\n",
      "  pDf['member_gender'][pDf[\"member_gender\"] == 'Male'] = 1\n"
     ]
    }
   ],
   "source": [
    "pDf['member_gender'][pDf[\"member_gender\"] == 'Male'] = 1"
   ]
  },
  {
   "cell_type": "code",
   "execution_count": 35,
   "id": "c1e7d61d",
   "metadata": {
    "ExecuteTime": {
     "end_time": "2023-03-16T14:22:07.824674Z",
     "start_time": "2023-03-16T14:22:07.787672Z"
    }
   },
   "outputs": [
    {
     "name": "stderr",
     "output_type": "stream",
     "text": [
      "C:\\Users\\mkaya\\AppData\\Local\\Temp\\ipykernel_1692\\2226487565.py:1: SettingWithCopyWarning: \n",
      "A value is trying to be set on a copy of a slice from a DataFrame\n",
      "\n",
      "See the caveats in the documentation: https://pandas.pydata.org/pandas-docs/stable/user_guide/indexing.html#returning-a-view-versus-a-copy\n",
      "  pDf['member_gender'][pDf['member_gender'] == 'Female'] = 0\n"
     ]
    }
   ],
   "source": [
    "pDf['member_gender'][pDf['member_gender'] == 'Female'] = 0"
   ]
  },
  {
   "cell_type": "code",
   "execution_count": 36,
   "id": "7e1f2d6c",
   "metadata": {
    "ExecuteTime": {
     "end_time": "2023-03-16T14:22:08.236733Z",
     "start_time": "2023-03-16T14:22:08.171732Z"
    },
    "scrolled": true
   },
   "outputs": [
    {
     "name": "stderr",
     "output_type": "stream",
     "text": [
      "C:\\Users\\mkaya\\AppData\\Local\\Temp\\ipykernel_1692\\893596964.py:1: SettingWithCopyWarning: \n",
      "A value is trying to be set on a copy of a slice from a DataFrame\n",
      "\n",
      "See the caveats in the documentation: https://pandas.pydata.org/pandas-docs/stable/user_guide/indexing.html#returning-a-view-versus-a-copy\n",
      "  pDf['member_gender'][(pDf['member_gender'] != 1) & (pDf['member_gender'] != 0)] = None\n"
     ]
    }
   ],
   "source": [
    "pDf['member_gender'][(pDf['member_gender'] != 1) & (pDf['member_gender'] != 0)] = None"
   ]
  },
  {
   "cell_type": "code",
   "execution_count": 37,
   "id": "365c0765",
   "metadata": {
    "ExecuteTime": {
     "end_time": "2023-03-16T14:22:08.802415Z",
     "start_time": "2023-03-16T14:22:08.779426Z"
    }
   },
   "outputs": [
    {
     "data": {
      "text/plain": [
       "array([1, 0, None], dtype=object)"
      ]
     },
     "execution_count": 37,
     "metadata": {},
     "output_type": "execute_result"
    }
   ],
   "source": [
    "pDf['member_gender'].unique()"
   ]
  },
  {
   "cell_type": "code",
   "execution_count": 38,
   "id": "a9cea83d",
   "metadata": {
    "ExecuteTime": {
     "end_time": "2023-03-16T14:22:12.009307Z",
     "start_time": "2023-03-16T14:22:11.955804Z"
    }
   },
   "outputs": [],
   "source": [
    "pDf['member_gender'] = pDf['member_gender'].astype('float64')"
   ]
  },
  {
   "cell_type": "code",
   "execution_count": 39,
   "id": "70162586",
   "metadata": {
    "ExecuteTime": {
     "end_time": "2023-03-16T14:22:12.579394Z",
     "start_time": "2023-03-16T14:22:12.364187Z"
    },
    "scrolled": false
   },
   "outputs": [
    {
     "name": "stdout",
     "output_type": "stream",
     "text": [
      "<class 'pandas.core.frame.DataFrame'>\n",
      "RangeIndex: 519700 entries, 0 to 519699\n",
      "Data columns (total 16 columns):\n",
      " #   Column                   Non-Null Count   Dtype         \n",
      "---  ------                   --------------   -----         \n",
      " 0   duration_sec             519700 non-null  int64         \n",
      " 1   start_time               519700 non-null  datetime64[ns]\n",
      " 2   end_time                 519700 non-null  datetime64[ns]\n",
      " 3   start_station_id         519700 non-null  int64         \n",
      " 4   start_station_name       519700 non-null  object        \n",
      " 5   start_station_latitude   519700 non-null  float64       \n",
      " 6   start_station_longitude  519700 non-null  float64       \n",
      " 7   end_station_id           519700 non-null  int64         \n",
      " 8   end_station_name         519700 non-null  object        \n",
      " 9   end_station_latitude     519700 non-null  float64       \n",
      " 10  end_station_longitude    519700 non-null  float64       \n",
      " 11  bike_id                  519700 non-null  int64         \n",
      " 12  user_type                519700 non-null  object        \n",
      " 13  member_birth_year        453159 non-null  float64       \n",
      " 14  member_gender            446939 non-null  float64       \n",
      " 15  distance                 519700 non-null  float64       \n",
      "dtypes: datetime64[ns](2), float64(7), int64(4), object(3)\n",
      "memory usage: 63.4+ MB\n"
     ]
    }
   ],
   "source": [
    "pDf.info()"
   ]
  },
  {
   "cell_type": "code",
   "execution_count": 40,
   "id": "99ea2f3b",
   "metadata": {
    "ExecuteTime": {
     "end_time": "2023-03-16T14:22:20.052579Z",
     "start_time": "2023-03-16T14:22:19.326041Z"
    }
   },
   "outputs": [
    {
     "data": {
      "text/html": [
       "<div>\n",
       "<style scoped>\n",
       "    .dataframe tbody tr th:only-of-type {\n",
       "        vertical-align: middle;\n",
       "    }\n",
       "\n",
       "    .dataframe tbody tr th {\n",
       "        vertical-align: top;\n",
       "    }\n",
       "\n",
       "    .dataframe thead th {\n",
       "        text-align: right;\n",
       "    }\n",
       "</style>\n",
       "<table border=\"1\" class=\"dataframe\">\n",
       "  <thead>\n",
       "    <tr style=\"text-align: right;\">\n",
       "      <th></th>\n",
       "      <th>duration_sec</th>\n",
       "      <th>start_time</th>\n",
       "      <th>end_time</th>\n",
       "      <th>start_station_name</th>\n",
       "      <th>start_station_latitude</th>\n",
       "      <th>start_station_longitude</th>\n",
       "      <th>end_station_id</th>\n",
       "      <th>end_station_name</th>\n",
       "      <th>end_station_latitude</th>\n",
       "      <th>end_station_longitude</th>\n",
       "      <th>bike_id</th>\n",
       "      <th>user_type</th>\n",
       "      <th>member_birth_year</th>\n",
       "      <th>member_gender</th>\n",
       "      <th>distance</th>\n",
       "      <th>male/female_ratio</th>\n",
       "    </tr>\n",
       "    <tr>\n",
       "      <th>start_station_id</th>\n",
       "      <th></th>\n",
       "      <th></th>\n",
       "      <th></th>\n",
       "      <th></th>\n",
       "      <th></th>\n",
       "      <th></th>\n",
       "      <th></th>\n",
       "      <th></th>\n",
       "      <th></th>\n",
       "      <th></th>\n",
       "      <th></th>\n",
       "      <th></th>\n",
       "      <th></th>\n",
       "      <th></th>\n",
       "      <th></th>\n",
       "      <th></th>\n",
       "    </tr>\n",
       "  </thead>\n",
       "  <tbody>\n",
       "    <tr>\n",
       "      <th>15</th>\n",
       "      <td>814</td>\n",
       "      <td>2017-12-31 18:25:37.866</td>\n",
       "      <td>2017-12-31 18:39:12.172</td>\n",
       "      <td>San Francisco Ferry Building (Harry Bridges Pl...</td>\n",
       "      <td>37.795392</td>\n",
       "      <td>-122.394203</td>\n",
       "      <td>90</td>\n",
       "      <td>Townsend St at 7th St</td>\n",
       "      <td>37.771058</td>\n",
       "      <td>-122.402717</td>\n",
       "      <td>1518</td>\n",
       "      <td>Subscriber</td>\n",
       "      <td>1982.0</td>\n",
       "      <td>1.0</td>\n",
       "      <td>2.807366</td>\n",
       "      <td>3.045761</td>\n",
       "    </tr>\n",
       "    <tr>\n",
       "      <th>15</th>\n",
       "      <td>794</td>\n",
       "      <td>2017-12-31 17:15:08.680</td>\n",
       "      <td>2017-12-31 17:28:23.372</td>\n",
       "      <td>San Francisco Ferry Building (Harry Bridges Pl...</td>\n",
       "      <td>37.795392</td>\n",
       "      <td>-122.394203</td>\n",
       "      <td>6</td>\n",
       "      <td>The Embarcadero at Sansome St</td>\n",
       "      <td>37.804770</td>\n",
       "      <td>-122.403234</td>\n",
       "      <td>3047</td>\n",
       "      <td>Customer</td>\n",
       "      <td>1994.0</td>\n",
       "      <td>1.0</td>\n",
       "      <td>1.310347</td>\n",
       "      <td>3.045761</td>\n",
       "    </tr>\n",
       "    <tr>\n",
       "      <th>15</th>\n",
       "      <td>904</td>\n",
       "      <td>2017-12-31 17:00:43.128</td>\n",
       "      <td>2017-12-31 17:15:47.797</td>\n",
       "      <td>San Francisco Ferry Building (Harry Bridges Pl...</td>\n",
       "      <td>37.795392</td>\n",
       "      <td>-122.394203</td>\n",
       "      <td>66</td>\n",
       "      <td>3rd St at Townsend St</td>\n",
       "      <td>37.778742</td>\n",
       "      <td>-122.392741</td>\n",
       "      <td>2328</td>\n",
       "      <td>Subscriber</td>\n",
       "      <td>1986.0</td>\n",
       "      <td>1.0</td>\n",
       "      <td>1.855895</td>\n",
       "      <td>3.045761</td>\n",
       "    </tr>\n",
       "    <tr>\n",
       "      <th>15</th>\n",
       "      <td>839</td>\n",
       "      <td>2017-12-31 16:59:04.503</td>\n",
       "      <td>2017-12-31 17:13:04.356</td>\n",
       "      <td>San Francisco Ferry Building (Harry Bridges Pl...</td>\n",
       "      <td>37.795392</td>\n",
       "      <td>-122.394203</td>\n",
       "      <td>4</td>\n",
       "      <td>Cyril Magnin St at Ellis St</td>\n",
       "      <td>37.785881</td>\n",
       "      <td>-122.408915</td>\n",
       "      <td>365</td>\n",
       "      <td>Customer</td>\n",
       "      <td>1994.0</td>\n",
       "      <td>0.0</td>\n",
       "      <td>1.670281</td>\n",
       "      <td>3.045761</td>\n",
       "    </tr>\n",
       "    <tr>\n",
       "      <th>15</th>\n",
       "      <td>808</td>\n",
       "      <td>2017-12-31 16:59:00.411</td>\n",
       "      <td>2017-12-31 17:12:28.996</td>\n",
       "      <td>San Francisco Ferry Building (Harry Bridges Pl...</td>\n",
       "      <td>37.795392</td>\n",
       "      <td>-122.394203</td>\n",
       "      <td>4</td>\n",
       "      <td>Cyril Magnin St at Ellis St</td>\n",
       "      <td>37.785881</td>\n",
       "      <td>-122.408915</td>\n",
       "      <td>2848</td>\n",
       "      <td>Customer</td>\n",
       "      <td>1991.0</td>\n",
       "      <td>1.0</td>\n",
       "      <td>1.670281</td>\n",
       "      <td>3.045761</td>\n",
       "    </tr>\n",
       "    <tr>\n",
       "      <th>...</th>\n",
       "      <td>...</td>\n",
       "      <td>...</td>\n",
       "      <td>...</td>\n",
       "      <td>...</td>\n",
       "      <td>...</td>\n",
       "      <td>...</td>\n",
       "      <td>...</td>\n",
       "      <td>...</td>\n",
       "      <td>...</td>\n",
       "      <td>...</td>\n",
       "      <td>...</td>\n",
       "      <td>...</td>\n",
       "      <td>...</td>\n",
       "      <td>...</td>\n",
       "      <td>...</td>\n",
       "      <td>...</td>\n",
       "    </tr>\n",
       "    <tr>\n",
       "      <th>16</th>\n",
       "      <td>804</td>\n",
       "      <td>2017-07-10 18:28:06.560</td>\n",
       "      <td>2017-07-10 18:41:31.009</td>\n",
       "      <td>Steuart St at Market St</td>\n",
       "      <td>37.794130</td>\n",
       "      <td>-122.394430</td>\n",
       "      <td>81</td>\n",
       "      <td>Berry St at 4th St</td>\n",
       "      <td>37.775880</td>\n",
       "      <td>-122.393170</td>\n",
       "      <td>73</td>\n",
       "      <td>Subscriber</td>\n",
       "      <td>1981.0</td>\n",
       "      <td>1.0</td>\n",
       "      <td>2.032329</td>\n",
       "      <td>3.754023</td>\n",
       "    </tr>\n",
       "    <tr>\n",
       "      <th>16</th>\n",
       "      <td>263</td>\n",
       "      <td>2017-07-10 18:10:56.379</td>\n",
       "      <td>2017-07-10 18:15:20.272</td>\n",
       "      <td>Steuart St at Market St</td>\n",
       "      <td>37.794130</td>\n",
       "      <td>-122.394430</td>\n",
       "      <td>28</td>\n",
       "      <td>The Embarcadero at Bryant St</td>\n",
       "      <td>37.787168</td>\n",
       "      <td>-122.388098</td>\n",
       "      <td>871</td>\n",
       "      <td>Subscriber</td>\n",
       "      <td>1980.0</td>\n",
       "      <td>1.0</td>\n",
       "      <td>0.953356</td>\n",
       "      <td>3.754023</td>\n",
       "    </tr>\n",
       "    <tr>\n",
       "      <th>16</th>\n",
       "      <td>789</td>\n",
       "      <td>2017-07-10 17:47:26.048</td>\n",
       "      <td>2017-07-10 18:00:35.376</td>\n",
       "      <td>Steuart St at Market St</td>\n",
       "      <td>37.794130</td>\n",
       "      <td>-122.394430</td>\n",
       "      <td>30</td>\n",
       "      <td>San Francisco Caltrain (Townsend St at 4th St)</td>\n",
       "      <td>37.776598</td>\n",
       "      <td>-122.395282</td>\n",
       "      <td>360</td>\n",
       "      <td>Subscriber</td>\n",
       "      <td>1972.0</td>\n",
       "      <td>1.0</td>\n",
       "      <td>1.950909</td>\n",
       "      <td>3.754023</td>\n",
       "    </tr>\n",
       "    <tr>\n",
       "      <th>16</th>\n",
       "      <td>396</td>\n",
       "      <td>2017-07-10 17:51:04.374</td>\n",
       "      <td>2017-07-10 17:57:40.710</td>\n",
       "      <td>Steuart St at Market St</td>\n",
       "      <td>37.794130</td>\n",
       "      <td>-122.394430</td>\n",
       "      <td>323</td>\n",
       "      <td>Broadway at Kearny</td>\n",
       "      <td>37.798014</td>\n",
       "      <td>-122.405950</td>\n",
       "      <td>973</td>\n",
       "      <td>Subscriber</td>\n",
       "      <td>1989.0</td>\n",
       "      <td>0.0</td>\n",
       "      <td>1.100521</td>\n",
       "      <td>3.754023</td>\n",
       "    </tr>\n",
       "    <tr>\n",
       "      <th>16</th>\n",
       "      <td>515</td>\n",
       "      <td>2017-07-10 17:29:40.787</td>\n",
       "      <td>2017-07-10 17:38:16.283</td>\n",
       "      <td>Steuart St at Market St</td>\n",
       "      <td>37.794130</td>\n",
       "      <td>-122.394430</td>\n",
       "      <td>48</td>\n",
       "      <td>2nd St at S Park St</td>\n",
       "      <td>37.782411</td>\n",
       "      <td>-122.392706</td>\n",
       "      <td>98</td>\n",
       "      <td>Subscriber</td>\n",
       "      <td>1976.0</td>\n",
       "      <td>0.0</td>\n",
       "      <td>1.311852</td>\n",
       "      <td>3.754023</td>\n",
       "    </tr>\n",
       "  </tbody>\n",
       "</table>\n",
       "<p>100660 rows × 16 columns</p>\n",
       "</div>"
      ],
      "text/plain": [
       "                  duration_sec              start_time  \\\n",
       "start_station_id                                         \n",
       "15                         814 2017-12-31 18:25:37.866   \n",
       "15                         794 2017-12-31 17:15:08.680   \n",
       "15                         904 2017-12-31 17:00:43.128   \n",
       "15                         839 2017-12-31 16:59:04.503   \n",
       "15                         808 2017-12-31 16:59:00.411   \n",
       "...                        ...                     ...   \n",
       "16                         804 2017-07-10 18:28:06.560   \n",
       "16                         263 2017-07-10 18:10:56.379   \n",
       "16                         789 2017-07-10 17:47:26.048   \n",
       "16                         396 2017-07-10 17:51:04.374   \n",
       "16                         515 2017-07-10 17:29:40.787   \n",
       "\n",
       "                                end_time  \\\n",
       "start_station_id                           \n",
       "15               2017-12-31 18:39:12.172   \n",
       "15               2017-12-31 17:28:23.372   \n",
       "15               2017-12-31 17:15:47.797   \n",
       "15               2017-12-31 17:13:04.356   \n",
       "15               2017-12-31 17:12:28.996   \n",
       "...                                  ...   \n",
       "16               2017-07-10 18:41:31.009   \n",
       "16               2017-07-10 18:15:20.272   \n",
       "16               2017-07-10 18:00:35.376   \n",
       "16               2017-07-10 17:57:40.710   \n",
       "16               2017-07-10 17:38:16.283   \n",
       "\n",
       "                                                 start_station_name  \\\n",
       "start_station_id                                                      \n",
       "15                San Francisco Ferry Building (Harry Bridges Pl...   \n",
       "15                San Francisco Ferry Building (Harry Bridges Pl...   \n",
       "15                San Francisco Ferry Building (Harry Bridges Pl...   \n",
       "15                San Francisco Ferry Building (Harry Bridges Pl...   \n",
       "15                San Francisco Ferry Building (Harry Bridges Pl...   \n",
       "...                                                             ...   \n",
       "16                                          Steuart St at Market St   \n",
       "16                                          Steuart St at Market St   \n",
       "16                                          Steuart St at Market St   \n",
       "16                                          Steuart St at Market St   \n",
       "16                                          Steuart St at Market St   \n",
       "\n",
       "                  start_station_latitude  start_station_longitude  \\\n",
       "start_station_id                                                    \n",
       "15                             37.795392              -122.394203   \n",
       "15                             37.795392              -122.394203   \n",
       "15                             37.795392              -122.394203   \n",
       "15                             37.795392              -122.394203   \n",
       "15                             37.795392              -122.394203   \n",
       "...                                  ...                      ...   \n",
       "16                             37.794130              -122.394430   \n",
       "16                             37.794130              -122.394430   \n",
       "16                             37.794130              -122.394430   \n",
       "16                             37.794130              -122.394430   \n",
       "16                             37.794130              -122.394430   \n",
       "\n",
       "                  end_station_id  \\\n",
       "start_station_id                   \n",
       "15                            90   \n",
       "15                             6   \n",
       "15                            66   \n",
       "15                             4   \n",
       "15                             4   \n",
       "...                          ...   \n",
       "16                            81   \n",
       "16                            28   \n",
       "16                            30   \n",
       "16                           323   \n",
       "16                            48   \n",
       "\n",
       "                                                end_station_name  \\\n",
       "start_station_id                                                   \n",
       "15                                         Townsend St at 7th St   \n",
       "15                                 The Embarcadero at Sansome St   \n",
       "15                                         3rd St at Townsend St   \n",
       "15                                   Cyril Magnin St at Ellis St   \n",
       "15                                   Cyril Magnin St at Ellis St   \n",
       "...                                                          ...   \n",
       "16                                            Berry St at 4th St   \n",
       "16                                  The Embarcadero at Bryant St   \n",
       "16                San Francisco Caltrain (Townsend St at 4th St)   \n",
       "16                                            Broadway at Kearny   \n",
       "16                                           2nd St at S Park St   \n",
       "\n",
       "                  end_station_latitude  end_station_longitude  bike_id  \\\n",
       "start_station_id                                                         \n",
       "15                           37.771058            -122.402717     1518   \n",
       "15                           37.804770            -122.403234     3047   \n",
       "15                           37.778742            -122.392741     2328   \n",
       "15                           37.785881            -122.408915      365   \n",
       "15                           37.785881            -122.408915     2848   \n",
       "...                                ...                    ...      ...   \n",
       "16                           37.775880            -122.393170       73   \n",
       "16                           37.787168            -122.388098      871   \n",
       "16                           37.776598            -122.395282      360   \n",
       "16                           37.798014            -122.405950      973   \n",
       "16                           37.782411            -122.392706       98   \n",
       "\n",
       "                   user_type  member_birth_year  member_gender  distance  \\\n",
       "start_station_id                                                           \n",
       "15                Subscriber             1982.0            1.0  2.807366   \n",
       "15                  Customer             1994.0            1.0  1.310347   \n",
       "15                Subscriber             1986.0            1.0  1.855895   \n",
       "15                  Customer             1994.0            0.0  1.670281   \n",
       "15                  Customer             1991.0            1.0  1.670281   \n",
       "...                      ...                ...            ...       ...   \n",
       "16                Subscriber             1981.0            1.0  2.032329   \n",
       "16                Subscriber             1980.0            1.0  0.953356   \n",
       "16                Subscriber             1972.0            1.0  1.950909   \n",
       "16                Subscriber             1989.0            0.0  1.100521   \n",
       "16                Subscriber             1976.0            0.0  1.311852   \n",
       "\n",
       "                  male/female_ratio  \n",
       "start_station_id                     \n",
       "15                         3.045761  \n",
       "15                         3.045761  \n",
       "15                         3.045761  \n",
       "15                         3.045761  \n",
       "15                         3.045761  \n",
       "...                             ...  \n",
       "16                         3.754023  \n",
       "16                         3.754023  \n",
       "16                         3.754023  \n",
       "16                         3.754023  \n",
       "16                         3.754023  \n",
       "\n",
       "[100660 rows x 16 columns]"
      ]
     },
     "execution_count": 40,
     "metadata": {},
     "output_type": "execute_result"
    }
   ],
   "source": [
    "top_trips = pDf.set_index('start_station_id').loc[start_stations]\n",
    "top_trips.dropna(how='any', axis=0, inplace=True)\n",
    "top_trips['male/female_ratio'] = pDf.set_index('start_station_id').loc[start_stations].groupby('start_station_id').sum()['member_gender'] / (pDf.set_index('start_station_id').loc[start_stations].groupby('start_station_id').count()['member_gender'] - pDf.set_index('start_station_id').loc[start_stations].groupby('start_station_id').sum()['member_gender'])\n",
    "top_trips"
   ]
  },
  {
   "cell_type": "code",
   "execution_count": 41,
   "id": "89011727",
   "metadata": {
    "ExecuteTime": {
     "end_time": "2023-03-16T14:22:27.616089Z",
     "start_time": "2023-03-16T14:22:27.598094Z"
    }
   },
   "outputs": [
    {
     "data": {
      "text/plain": [
       "0.7550335570469798"
      ]
     },
     "execution_count": 41,
     "metadata": {},
     "output_type": "execute_result"
    }
   ],
   "source": [
    "2700/3576"
   ]
  },
  {
   "cell_type": "markdown",
   "id": "45abe5a1",
   "metadata": {},
   "source": [
    "# Make a comparison to find the percentage of usage for customer and subscriber"
   ]
  },
  {
   "cell_type": "code",
   "execution_count": 398,
   "id": "9d02faae",
   "metadata": {
    "ExecuteTime": {
     "end_time": "2023-03-09T00:56:01.793878Z",
     "start_time": "2023-03-09T00:56:01.738371Z"
    }
   },
   "outputs": [
    {
     "data": {
      "text/plain": [
       "0.1214841265959008"
      ]
     },
     "execution_count": 398,
     "metadata": {},
     "output_type": "execute_result"
    }
   ],
   "source": [
    "pDf['user_type'][pDf['user_type'] == 'Customer'].count() / pDf['user_type'][pDf['user_type'] == 'Subscriber'].count()"
   ]
  },
  {
   "cell_type": "markdown",
   "id": "47eb5bd4",
   "metadata": {},
   "source": [
    "# Calculate the age of all users and show the relation between the distance and the age"
   ]
  },
  {
   "cell_type": "code",
   "execution_count": 427,
   "id": "72a7644c",
   "metadata": {
    "ExecuteTime": {
     "end_time": "2023-03-09T01:11:36.232294Z",
     "start_time": "2023-03-09T01:11:36.208459Z"
    }
   },
   "outputs": [
    {
     "data": {
      "text/html": [
       "<div>\n",
       "<style scoped>\n",
       "    .dataframe tbody tr th:only-of-type {\n",
       "        vertical-align: middle;\n",
       "    }\n",
       "\n",
       "    .dataframe tbody tr th {\n",
       "        vertical-align: top;\n",
       "    }\n",
       "\n",
       "    .dataframe thead th {\n",
       "        text-align: right;\n",
       "    }\n",
       "</style>\n",
       "<table border=\"1\" class=\"dataframe\">\n",
       "  <thead>\n",
       "    <tr style=\"text-align: right;\">\n",
       "      <th></th>\n",
       "      <th>duration_sec</th>\n",
       "      <th>start_time</th>\n",
       "      <th>end_time</th>\n",
       "      <th>start_station_id</th>\n",
       "      <th>start_station_name</th>\n",
       "      <th>start_station_latitude</th>\n",
       "      <th>start_station_longitude</th>\n",
       "      <th>end_station_id</th>\n",
       "      <th>end_station_name</th>\n",
       "      <th>end_station_latitude</th>\n",
       "      <th>end_station_longitude</th>\n",
       "      <th>bike_id</th>\n",
       "      <th>user_type</th>\n",
       "      <th>member_birth_year</th>\n",
       "      <th>member_gender</th>\n",
       "      <th>bike_share_for_all_trip</th>\n",
       "      <th>distance</th>\n",
       "      <th>member_age</th>\n",
       "    </tr>\n",
       "  </thead>\n",
       "  <tbody>\n",
       "    <tr>\n",
       "      <th>0</th>\n",
       "      <td>52185</td>\n",
       "      <td>2019-02-28 17:32:10.145</td>\n",
       "      <td>2019-03-01 08:01:55.975</td>\n",
       "      <td>21.0</td>\n",
       "      <td>Montgomery St BART Station (Market St at 2nd St)</td>\n",
       "      <td>37.789625</td>\n",
       "      <td>-122.400811</td>\n",
       "      <td>13.0</td>\n",
       "      <td>Commercial St at Montgomery St</td>\n",
       "      <td>37.794231</td>\n",
       "      <td>-122.402923</td>\n",
       "      <td>4902</td>\n",
       "      <td>Customer</td>\n",
       "      <td>1984.0</td>\n",
       "      <td>1.0</td>\n",
       "      <td>No</td>\n",
       "      <td>0.544709</td>\n",
       "      <td>39.0</td>\n",
       "    </tr>\n",
       "    <tr>\n",
       "      <th>1</th>\n",
       "      <td>42521</td>\n",
       "      <td>2019-02-28 18:53:21.789</td>\n",
       "      <td>2019-03-01 06:42:03.056</td>\n",
       "      <td>23.0</td>\n",
       "      <td>The Embarcadero at Steuart St</td>\n",
       "      <td>37.791464</td>\n",
       "      <td>-122.391034</td>\n",
       "      <td>81.0</td>\n",
       "      <td>Berry St at 4th St</td>\n",
       "      <td>37.775880</td>\n",
       "      <td>-122.393170</td>\n",
       "      <td>2535</td>\n",
       "      <td>Customer</td>\n",
       "      <td>NaN</td>\n",
       "      <td>NaN</td>\n",
       "      <td>No</td>\n",
       "      <td>1.743002</td>\n",
       "      <td>NaN</td>\n",
       "    </tr>\n",
       "    <tr>\n",
       "      <th>2</th>\n",
       "      <td>61854</td>\n",
       "      <td>2019-02-28 12:13:13.218</td>\n",
       "      <td>2019-03-01 05:24:08.146</td>\n",
       "      <td>86.0</td>\n",
       "      <td>Market St at Dolores St</td>\n",
       "      <td>37.769305</td>\n",
       "      <td>-122.426826</td>\n",
       "      <td>3.0</td>\n",
       "      <td>Powell St BART Station (Market St at 4th St)</td>\n",
       "      <td>37.786375</td>\n",
       "      <td>-122.404904</td>\n",
       "      <td>5905</td>\n",
       "      <td>Customer</td>\n",
       "      <td>1972.0</td>\n",
       "      <td>1.0</td>\n",
       "      <td>No</td>\n",
       "      <td>2.704549</td>\n",
       "      <td>51.0</td>\n",
       "    </tr>\n",
       "    <tr>\n",
       "      <th>3</th>\n",
       "      <td>36490</td>\n",
       "      <td>2019-02-28 17:54:26.010</td>\n",
       "      <td>2019-03-01 04:02:36.842</td>\n",
       "      <td>375.0</td>\n",
       "      <td>Grove St at Masonic Ave</td>\n",
       "      <td>37.774836</td>\n",
       "      <td>-122.446546</td>\n",
       "      <td>70.0</td>\n",
       "      <td>Central Ave at Fell St</td>\n",
       "      <td>37.773311</td>\n",
       "      <td>-122.444293</td>\n",
       "      <td>6638</td>\n",
       "      <td>Subscriber</td>\n",
       "      <td>1989.0</td>\n",
       "      <td>NaN</td>\n",
       "      <td>No</td>\n",
       "      <td>0.260739</td>\n",
       "      <td>34.0</td>\n",
       "    </tr>\n",
       "    <tr>\n",
       "      <th>4</th>\n",
       "      <td>1585</td>\n",
       "      <td>2019-02-28 23:54:18.549</td>\n",
       "      <td>2019-03-01 00:20:44.074</td>\n",
       "      <td>7.0</td>\n",
       "      <td>Frank H Ogawa Plaza</td>\n",
       "      <td>37.804562</td>\n",
       "      <td>-122.271738</td>\n",
       "      <td>222.0</td>\n",
       "      <td>10th Ave at E 15th St</td>\n",
       "      <td>37.792714</td>\n",
       "      <td>-122.248780</td>\n",
       "      <td>4898</td>\n",
       "      <td>Subscriber</td>\n",
       "      <td>1974.0</td>\n",
       "      <td>1.0</td>\n",
       "      <td>Yes</td>\n",
       "      <td>2.409305</td>\n",
       "      <td>49.0</td>\n",
       "    </tr>\n",
       "  </tbody>\n",
       "</table>\n",
       "</div>"
      ],
      "text/plain": [
       "   duration_sec              start_time                end_time  \\\n",
       "0         52185 2019-02-28 17:32:10.145 2019-03-01 08:01:55.975   \n",
       "1         42521 2019-02-28 18:53:21.789 2019-03-01 06:42:03.056   \n",
       "2         61854 2019-02-28 12:13:13.218 2019-03-01 05:24:08.146   \n",
       "3         36490 2019-02-28 17:54:26.010 2019-03-01 04:02:36.842   \n",
       "4          1585 2019-02-28 23:54:18.549 2019-03-01 00:20:44.074   \n",
       "\n",
       "   start_station_id                                start_station_name  \\\n",
       "0              21.0  Montgomery St BART Station (Market St at 2nd St)   \n",
       "1              23.0                     The Embarcadero at Steuart St   \n",
       "2              86.0                           Market St at Dolores St   \n",
       "3             375.0                           Grove St at Masonic Ave   \n",
       "4               7.0                               Frank H Ogawa Plaza   \n",
       "\n",
       "   start_station_latitude  start_station_longitude  end_station_id  \\\n",
       "0               37.789625              -122.400811            13.0   \n",
       "1               37.791464              -122.391034            81.0   \n",
       "2               37.769305              -122.426826             3.0   \n",
       "3               37.774836              -122.446546            70.0   \n",
       "4               37.804562              -122.271738           222.0   \n",
       "\n",
       "                               end_station_name  end_station_latitude  \\\n",
       "0                Commercial St at Montgomery St             37.794231   \n",
       "1                            Berry St at 4th St             37.775880   \n",
       "2  Powell St BART Station (Market St at 4th St)             37.786375   \n",
       "3                        Central Ave at Fell St             37.773311   \n",
       "4                         10th Ave at E 15th St             37.792714   \n",
       "\n",
       "   end_station_longitude  bike_id   user_type  member_birth_year  \\\n",
       "0            -122.402923     4902    Customer             1984.0   \n",
       "1            -122.393170     2535    Customer                NaN   \n",
       "2            -122.404904     5905    Customer             1972.0   \n",
       "3            -122.444293     6638  Subscriber             1989.0   \n",
       "4            -122.248780     4898  Subscriber             1974.0   \n",
       "\n",
       "   member_gender bike_share_for_all_trip  distance  member_age  \n",
       "0            1.0                      No  0.544709        39.0  \n",
       "1            NaN                      No  1.743002         NaN  \n",
       "2            1.0                      No  2.704549        51.0  \n",
       "3            NaN                      No  0.260739        34.0  \n",
       "4            1.0                     Yes  2.409305        49.0  "
      ]
     },
     "execution_count": 427,
     "metadata": {},
     "output_type": "execute_result"
    }
   ],
   "source": [
    "pDf.head()"
   ]
  },
  {
   "cell_type": "code",
   "execution_count": 417,
   "id": "d71424d6",
   "metadata": {
    "ExecuteTime": {
     "end_time": "2023-03-09T01:06:11.576088Z",
     "start_time": "2023-03-09T01:06:11.566091Z"
    }
   },
   "outputs": [],
   "source": [
    "this_year = int(pd.to_datetime('today').strftime('%Y'))\n",
    "pDf['member_age'] = this_year - pDf['member_birth_year']"
   ]
  },
  {
   "cell_type": "code",
   "execution_count": 418,
   "id": "e29df2f5",
   "metadata": {
    "ExecuteTime": {
     "end_time": "2023-03-09T01:06:12.579658Z",
     "start_time": "2023-03-09T01:06:12.478931Z"
    }
   },
   "outputs": [
    {
     "data": {
      "text/html": [
       "<div>\n",
       "<style scoped>\n",
       "    .dataframe tbody tr th:only-of-type {\n",
       "        vertical-align: middle;\n",
       "    }\n",
       "\n",
       "    .dataframe tbody tr th {\n",
       "        vertical-align: top;\n",
       "    }\n",
       "\n",
       "    .dataframe thead th {\n",
       "        text-align: right;\n",
       "    }\n",
       "</style>\n",
       "<table border=\"1\" class=\"dataframe\">\n",
       "  <thead>\n",
       "    <tr style=\"text-align: right;\">\n",
       "      <th></th>\n",
       "      <th>duration_sec</th>\n",
       "      <th>start_station_id</th>\n",
       "      <th>start_station_latitude</th>\n",
       "      <th>start_station_longitude</th>\n",
       "      <th>end_station_id</th>\n",
       "      <th>end_station_latitude</th>\n",
       "      <th>end_station_longitude</th>\n",
       "      <th>bike_id</th>\n",
       "      <th>member_birth_year</th>\n",
       "      <th>member_gender</th>\n",
       "      <th>distance</th>\n",
       "      <th>member_age</th>\n",
       "    </tr>\n",
       "  </thead>\n",
       "  <tbody>\n",
       "    <tr>\n",
       "      <th>count</th>\n",
       "      <td>183412.000000</td>\n",
       "      <td>183215.000000</td>\n",
       "      <td>183412.000000</td>\n",
       "      <td>183412.000000</td>\n",
       "      <td>183215.000000</td>\n",
       "      <td>183412.000000</td>\n",
       "      <td>183412.000000</td>\n",
       "      <td>183412.000000</td>\n",
       "      <td>175147.000000</td>\n",
       "      <td>171495.000000</td>\n",
       "      <td>183412.000000</td>\n",
       "      <td>175147.000000</td>\n",
       "    </tr>\n",
       "    <tr>\n",
       "      <th>mean</th>\n",
       "      <td>726.078435</td>\n",
       "      <td>138.590427</td>\n",
       "      <td>37.771223</td>\n",
       "      <td>-122.352664</td>\n",
       "      <td>136.249123</td>\n",
       "      <td>37.771427</td>\n",
       "      <td>-122.352250</td>\n",
       "      <td>4472.906375</td>\n",
       "      <td>1984.806437</td>\n",
       "      <td>0.761836</td>\n",
       "      <td>1.690661</td>\n",
       "      <td>38.193563</td>\n",
       "    </tr>\n",
       "    <tr>\n",
       "      <th>std</th>\n",
       "      <td>1794.389780</td>\n",
       "      <td>111.778864</td>\n",
       "      <td>0.099581</td>\n",
       "      <td>0.117097</td>\n",
       "      <td>111.515131</td>\n",
       "      <td>0.099490</td>\n",
       "      <td>0.116673</td>\n",
       "      <td>1664.383394</td>\n",
       "      <td>10.116689</td>\n",
       "      <td>0.425961</td>\n",
       "      <td>1.097591</td>\n",
       "      <td>10.116689</td>\n",
       "    </tr>\n",
       "    <tr>\n",
       "      <th>min</th>\n",
       "      <td>61.000000</td>\n",
       "      <td>3.000000</td>\n",
       "      <td>37.317298</td>\n",
       "      <td>-122.453704</td>\n",
       "      <td>3.000000</td>\n",
       "      <td>37.317298</td>\n",
       "      <td>-122.453704</td>\n",
       "      <td>11.000000</td>\n",
       "      <td>1878.000000</td>\n",
       "      <td>0.000000</td>\n",
       "      <td>0.000000</td>\n",
       "      <td>22.000000</td>\n",
       "    </tr>\n",
       "    <tr>\n",
       "      <th>25%</th>\n",
       "      <td>325.000000</td>\n",
       "      <td>47.000000</td>\n",
       "      <td>37.770083</td>\n",
       "      <td>-122.412408</td>\n",
       "      <td>44.000000</td>\n",
       "      <td>37.770407</td>\n",
       "      <td>-122.411726</td>\n",
       "      <td>3777.000000</td>\n",
       "      <td>1980.000000</td>\n",
       "      <td>1.000000</td>\n",
       "      <td>0.910957</td>\n",
       "      <td>31.000000</td>\n",
       "    </tr>\n",
       "    <tr>\n",
       "      <th>50%</th>\n",
       "      <td>514.000000</td>\n",
       "      <td>104.000000</td>\n",
       "      <td>37.780760</td>\n",
       "      <td>-122.398285</td>\n",
       "      <td>100.000000</td>\n",
       "      <td>37.781010</td>\n",
       "      <td>-122.398279</td>\n",
       "      <td>4958.000000</td>\n",
       "      <td>1987.000000</td>\n",
       "      <td>1.000000</td>\n",
       "      <td>1.430740</td>\n",
       "      <td>36.000000</td>\n",
       "    </tr>\n",
       "    <tr>\n",
       "      <th>75%</th>\n",
       "      <td>796.000000</td>\n",
       "      <td>239.000000</td>\n",
       "      <td>37.797280</td>\n",
       "      <td>-122.286533</td>\n",
       "      <td>235.000000</td>\n",
       "      <td>37.797320</td>\n",
       "      <td>-122.288045</td>\n",
       "      <td>5502.000000</td>\n",
       "      <td>1992.000000</td>\n",
       "      <td>1.000000</td>\n",
       "      <td>2.225690</td>\n",
       "      <td>43.000000</td>\n",
       "    </tr>\n",
       "    <tr>\n",
       "      <th>max</th>\n",
       "      <td>85444.000000</td>\n",
       "      <td>398.000000</td>\n",
       "      <td>37.880222</td>\n",
       "      <td>-121.874119</td>\n",
       "      <td>398.000000</td>\n",
       "      <td>37.880222</td>\n",
       "      <td>-121.874119</td>\n",
       "      <td>6645.000000</td>\n",
       "      <td>2001.000000</td>\n",
       "      <td>1.000000</td>\n",
       "      <td>69.469337</td>\n",
       "      <td>145.000000</td>\n",
       "    </tr>\n",
       "  </tbody>\n",
       "</table>\n",
       "</div>"
      ],
      "text/plain": [
       "        duration_sec  start_station_id  start_station_latitude  \\\n",
       "count  183412.000000     183215.000000           183412.000000   \n",
       "mean      726.078435        138.590427               37.771223   \n",
       "std      1794.389780        111.778864                0.099581   \n",
       "min        61.000000          3.000000               37.317298   \n",
       "25%       325.000000         47.000000               37.770083   \n",
       "50%       514.000000        104.000000               37.780760   \n",
       "75%       796.000000        239.000000               37.797280   \n",
       "max     85444.000000        398.000000               37.880222   \n",
       "\n",
       "       start_station_longitude  end_station_id  end_station_latitude  \\\n",
       "count            183412.000000   183215.000000         183412.000000   \n",
       "mean               -122.352664      136.249123             37.771427   \n",
       "std                   0.117097      111.515131              0.099490   \n",
       "min                -122.453704        3.000000             37.317298   \n",
       "25%                -122.412408       44.000000             37.770407   \n",
       "50%                -122.398285      100.000000             37.781010   \n",
       "75%                -122.286533      235.000000             37.797320   \n",
       "max                -121.874119      398.000000             37.880222   \n",
       "\n",
       "       end_station_longitude        bike_id  member_birth_year  member_gender  \\\n",
       "count          183412.000000  183412.000000      175147.000000  171495.000000   \n",
       "mean             -122.352250    4472.906375        1984.806437       0.761836   \n",
       "std                 0.116673    1664.383394          10.116689       0.425961   \n",
       "min              -122.453704      11.000000        1878.000000       0.000000   \n",
       "25%              -122.411726    3777.000000        1980.000000       1.000000   \n",
       "50%              -122.398279    4958.000000        1987.000000       1.000000   \n",
       "75%              -122.288045    5502.000000        1992.000000       1.000000   \n",
       "max              -121.874119    6645.000000        2001.000000       1.000000   \n",
       "\n",
       "            distance     member_age  \n",
       "count  183412.000000  175147.000000  \n",
       "mean        1.690661      38.193563  \n",
       "std         1.097591      10.116689  \n",
       "min         0.000000      22.000000  \n",
       "25%         0.910957      31.000000  \n",
       "50%         1.430740      36.000000  \n",
       "75%         2.225690      43.000000  \n",
       "max        69.469337     145.000000  "
      ]
     },
     "execution_count": 418,
     "metadata": {},
     "output_type": "execute_result"
    }
   ],
   "source": [
    "pDf.describe()"
   ]
  },
  {
   "cell_type": "code",
   "execution_count": 419,
   "id": "308c3379",
   "metadata": {
    "ExecuteTime": {
     "end_time": "2023-03-09T01:06:23.162363Z",
     "start_time": "2023-03-09T01:06:23.080351Z"
    }
   },
   "outputs": [
    {
     "data": {
      "text/html": [
       "<div>\n",
       "<style scoped>\n",
       "    .dataframe tbody tr th:only-of-type {\n",
       "        vertical-align: middle;\n",
       "    }\n",
       "\n",
       "    .dataframe tbody tr th {\n",
       "        vertical-align: top;\n",
       "    }\n",
       "\n",
       "    .dataframe thead th {\n",
       "        text-align: right;\n",
       "    }\n",
       "</style>\n",
       "<table border=\"1\" class=\"dataframe\">\n",
       "  <thead>\n",
       "    <tr style=\"text-align: right;\">\n",
       "      <th></th>\n",
       "      <th>duration_sec</th>\n",
       "      <th>start_station_id</th>\n",
       "      <th>start_station_latitude</th>\n",
       "      <th>start_station_longitude</th>\n",
       "      <th>end_station_id</th>\n",
       "      <th>end_station_latitude</th>\n",
       "      <th>end_station_longitude</th>\n",
       "      <th>bike_id</th>\n",
       "      <th>member_birth_year</th>\n",
       "      <th>member_gender</th>\n",
       "      <th>distance</th>\n",
       "      <th>member_age</th>\n",
       "    </tr>\n",
       "  </thead>\n",
       "  <tbody>\n",
       "    <tr>\n",
       "      <th>count</th>\n",
       "      <td>67537.000000</td>\n",
       "      <td>67485.000000</td>\n",
       "      <td>67537.000000</td>\n",
       "      <td>67537.000000</td>\n",
       "      <td>67485.000000</td>\n",
       "      <td>67537.000000</td>\n",
       "      <td>67537.000000</td>\n",
       "      <td>67537.000000</td>\n",
       "      <td>67537.000000</td>\n",
       "      <td>65755.000000</td>\n",
       "      <td>67537.000000</td>\n",
       "      <td>67537.000000</td>\n",
       "    </tr>\n",
       "    <tr>\n",
       "      <th>mean</th>\n",
       "      <td>708.796053</td>\n",
       "      <td>125.374350</td>\n",
       "      <td>37.780332</td>\n",
       "      <td>-122.366824</td>\n",
       "      <td>123.005112</td>\n",
       "      <td>37.780525</td>\n",
       "      <td>-122.366485</td>\n",
       "      <td>4416.893318</td>\n",
       "      <td>1974.784459</td>\n",
       "      <td>0.791347</td>\n",
       "      <td>1.696587</td>\n",
       "      <td>48.215541</td>\n",
       "    </tr>\n",
       "    <tr>\n",
       "      <th>std</th>\n",
       "      <td>1530.116874</td>\n",
       "      <td>106.840291</td>\n",
       "      <td>0.069240</td>\n",
       "      <td>0.089790</td>\n",
       "      <td>106.482355</td>\n",
       "      <td>0.069075</td>\n",
       "      <td>0.089323</td>\n",
       "      <td>1705.194726</td>\n",
       "      <td>8.804900</td>\n",
       "      <td>0.406349</td>\n",
       "      <td>1.104481</td>\n",
       "      <td>8.804900</td>\n",
       "    </tr>\n",
       "    <tr>\n",
       "      <th>min</th>\n",
       "      <td>61.000000</td>\n",
       "      <td>3.000000</td>\n",
       "      <td>37.317298</td>\n",
       "      <td>-122.453704</td>\n",
       "      <td>3.000000</td>\n",
       "      <td>37.317298</td>\n",
       "      <td>-122.453704</td>\n",
       "      <td>11.000000</td>\n",
       "      <td>1878.000000</td>\n",
       "      <td>0.000000</td>\n",
       "      <td>0.000000</td>\n",
       "      <td>39.000000</td>\n",
       "    </tr>\n",
       "    <tr>\n",
       "      <th>25%</th>\n",
       "      <td>323.000000</td>\n",
       "      <td>35.000000</td>\n",
       "      <td>37.771058</td>\n",
       "      <td>-122.412544</td>\n",
       "      <td>30.000000</td>\n",
       "      <td>37.771662</td>\n",
       "      <td>-122.411738</td>\n",
       "      <td>3498.000000</td>\n",
       "      <td>1970.000000</td>\n",
       "      <td>1.000000</td>\n",
       "      <td>0.910957</td>\n",
       "      <td>41.000000</td>\n",
       "    </tr>\n",
       "    <tr>\n",
       "      <th>50%</th>\n",
       "      <td>511.000000</td>\n",
       "      <td>92.000000</td>\n",
       "      <td>37.781074</td>\n",
       "      <td>-122.398436</td>\n",
       "      <td>90.000000</td>\n",
       "      <td>37.781270</td>\n",
       "      <td>-122.398279</td>\n",
       "      <td>4947.000000</td>\n",
       "      <td>1977.000000</td>\n",
       "      <td>1.000000</td>\n",
       "      <td>1.432475</td>\n",
       "      <td>46.000000</td>\n",
       "    </tr>\n",
       "    <tr>\n",
       "      <th>75%</th>\n",
       "      <td>796.000000</td>\n",
       "      <td>187.000000</td>\n",
       "      <td>37.795393</td>\n",
       "      <td>-122.389970</td>\n",
       "      <td>186.000000</td>\n",
       "      <td>37.795393</td>\n",
       "      <td>-122.389970</td>\n",
       "      <td>5493.000000</td>\n",
       "      <td>1982.000000</td>\n",
       "      <td>1.000000</td>\n",
       "      <td>2.228579</td>\n",
       "      <td>53.000000</td>\n",
       "    </tr>\n",
       "    <tr>\n",
       "      <th>max</th>\n",
       "      <td>84548.000000</td>\n",
       "      <td>398.000000</td>\n",
       "      <td>37.880222</td>\n",
       "      <td>-121.874119</td>\n",
       "      <td>398.000000</td>\n",
       "      <td>37.880222</td>\n",
       "      <td>-121.874119</td>\n",
       "      <td>6645.000000</td>\n",
       "      <td>1984.000000</td>\n",
       "      <td>1.000000</td>\n",
       "      <td>11.707458</td>\n",
       "      <td>145.000000</td>\n",
       "    </tr>\n",
       "  </tbody>\n",
       "</table>\n",
       "</div>"
      ],
      "text/plain": [
       "       duration_sec  start_station_id  start_station_latitude  \\\n",
       "count  67537.000000      67485.000000            67537.000000   \n",
       "mean     708.796053        125.374350               37.780332   \n",
       "std     1530.116874        106.840291                0.069240   \n",
       "min       61.000000          3.000000               37.317298   \n",
       "25%      323.000000         35.000000               37.771058   \n",
       "50%      511.000000         92.000000               37.781074   \n",
       "75%      796.000000        187.000000               37.795393   \n",
       "max    84548.000000        398.000000               37.880222   \n",
       "\n",
       "       start_station_longitude  end_station_id  end_station_latitude  \\\n",
       "count             67537.000000    67485.000000          67537.000000   \n",
       "mean               -122.366824      123.005112             37.780525   \n",
       "std                   0.089790      106.482355              0.069075   \n",
       "min                -122.453704        3.000000             37.317298   \n",
       "25%                -122.412544       30.000000             37.771662   \n",
       "50%                -122.398436       90.000000             37.781270   \n",
       "75%                -122.389970      186.000000             37.795393   \n",
       "max                -121.874119      398.000000             37.880222   \n",
       "\n",
       "       end_station_longitude       bike_id  member_birth_year  member_gender  \\\n",
       "count           67537.000000  67537.000000       67537.000000   65755.000000   \n",
       "mean             -122.366485   4416.893318        1974.784459       0.791347   \n",
       "std                 0.089323   1705.194726           8.804900       0.406349   \n",
       "min              -122.453704     11.000000        1878.000000       0.000000   \n",
       "25%              -122.411738   3498.000000        1970.000000       1.000000   \n",
       "50%              -122.398279   4947.000000        1977.000000       1.000000   \n",
       "75%              -122.389970   5493.000000        1982.000000       1.000000   \n",
       "max              -121.874119   6645.000000        1984.000000       1.000000   \n",
       "\n",
       "           distance    member_age  \n",
       "count  67537.000000  67537.000000  \n",
       "mean       1.696587     48.215541  \n",
       "std        1.104481      8.804900  \n",
       "min        0.000000     39.000000  \n",
       "25%        0.910957     41.000000  \n",
       "50%        1.432475     46.000000  \n",
       "75%        2.228579     53.000000  \n",
       "max       11.707458    145.000000  "
      ]
     },
     "execution_count": 419,
     "metadata": {},
     "output_type": "execute_result"
    }
   ],
   "source": [
    "pDf[pDf['member_age'] > 38].describe()"
   ]
  },
  {
   "cell_type": "code",
   "execution_count": 420,
   "id": "d52a7e56",
   "metadata": {
    "ExecuteTime": {
     "end_time": "2023-03-09T01:06:26.293076Z",
     "start_time": "2023-03-09T01:06:26.216721Z"
    }
   },
   "outputs": [
    {
     "data": {
      "text/html": [
       "<div>\n",
       "<style scoped>\n",
       "    .dataframe tbody tr th:only-of-type {\n",
       "        vertical-align: middle;\n",
       "    }\n",
       "\n",
       "    .dataframe tbody tr th {\n",
       "        vertical-align: top;\n",
       "    }\n",
       "\n",
       "    .dataframe thead th {\n",
       "        text-align: right;\n",
       "    }\n",
       "</style>\n",
       "<table border=\"1\" class=\"dataframe\">\n",
       "  <thead>\n",
       "    <tr style=\"text-align: right;\">\n",
       "      <th></th>\n",
       "      <th>duration_sec</th>\n",
       "      <th>start_station_id</th>\n",
       "      <th>start_station_latitude</th>\n",
       "      <th>start_station_longitude</th>\n",
       "      <th>end_station_id</th>\n",
       "      <th>end_station_latitude</th>\n",
       "      <th>end_station_longitude</th>\n",
       "      <th>bike_id</th>\n",
       "      <th>member_birth_year</th>\n",
       "      <th>member_gender</th>\n",
       "      <th>distance</th>\n",
       "      <th>member_age</th>\n",
       "    </tr>\n",
       "  </thead>\n",
       "  <tbody>\n",
       "    <tr>\n",
       "      <th>count</th>\n",
       "      <td>100582.000000</td>\n",
       "      <td>100444.000000</td>\n",
       "      <td>100582.000000</td>\n",
       "      <td>100582.000000</td>\n",
       "      <td>100444.000000</td>\n",
       "      <td>100582.000000</td>\n",
       "      <td>100582.000000</td>\n",
       "      <td>100582.000000</td>\n",
       "      <td>100582.00000</td>\n",
       "      <td>98832.000000</td>\n",
       "      <td>100582.000000</td>\n",
       "      <td>100582.00000</td>\n",
       "    </tr>\n",
       "    <tr>\n",
       "      <th>mean</th>\n",
       "      <td>700.903551</td>\n",
       "      <td>148.901268</td>\n",
       "      <td>37.763700</td>\n",
       "      <td>-122.339648</td>\n",
       "      <td>146.430061</td>\n",
       "      <td>37.763871</td>\n",
       "      <td>-122.339202</td>\n",
       "      <td>4524.660416</td>\n",
       "      <td>1991.52229</td>\n",
       "      <td>0.742958</td>\n",
       "      <td>1.678342</td>\n",
       "      <td>31.47771</td>\n",
       "    </tr>\n",
       "    <tr>\n",
       "      <th>std</th>\n",
       "      <td>1721.150046</td>\n",
       "      <td>114.017186</td>\n",
       "      <td>0.119138</td>\n",
       "      <td>0.134994</td>\n",
       "      <td>113.699012</td>\n",
       "      <td>0.119053</td>\n",
       "      <td>0.134545</td>\n",
       "      <td>1625.181451</td>\n",
       "      <td>3.69027</td>\n",
       "      <td>0.437005</td>\n",
       "      <td>1.073919</td>\n",
       "      <td>3.69027</td>\n",
       "    </tr>\n",
       "    <tr>\n",
       "      <th>min</th>\n",
       "      <td>61.000000</td>\n",
       "      <td>3.000000</td>\n",
       "      <td>37.317298</td>\n",
       "      <td>-122.453704</td>\n",
       "      <td>3.000000</td>\n",
       "      <td>37.317298</td>\n",
       "      <td>-122.453704</td>\n",
       "      <td>11.000000</td>\n",
       "      <td>1986.00000</td>\n",
       "      <td>0.000000</td>\n",
       "      <td>0.000000</td>\n",
       "      <td>22.00000</td>\n",
       "    </tr>\n",
       "    <tr>\n",
       "      <th>25%</th>\n",
       "      <td>321.000000</td>\n",
       "      <td>58.000000</td>\n",
       "      <td>37.769305</td>\n",
       "      <td>-122.411738</td>\n",
       "      <td>54.000000</td>\n",
       "      <td>37.770030</td>\n",
       "      <td>-122.411403</td>\n",
       "      <td>3967.000000</td>\n",
       "      <td>1988.00000</td>\n",
       "      <td>0.000000</td>\n",
       "      <td>0.902988</td>\n",
       "      <td>29.00000</td>\n",
       "    </tr>\n",
       "    <tr>\n",
       "      <th>50%</th>\n",
       "      <td>508.000000</td>\n",
       "      <td>114.000000</td>\n",
       "      <td>37.780450</td>\n",
       "      <td>-122.397437</td>\n",
       "      <td>112.000000</td>\n",
       "      <td>37.780526</td>\n",
       "      <td>-122.397086</td>\n",
       "      <td>4966.000000</td>\n",
       "      <td>1991.00000</td>\n",
       "      <td>1.000000</td>\n",
       "      <td>1.413550</td>\n",
       "      <td>32.00000</td>\n",
       "    </tr>\n",
       "    <tr>\n",
       "      <th>75%</th>\n",
       "      <td>783.000000</td>\n",
       "      <td>246.000000</td>\n",
       "      <td>37.798572</td>\n",
       "      <td>-122.270556</td>\n",
       "      <td>245.000000</td>\n",
       "      <td>37.799953</td>\n",
       "      <td>-122.271738</td>\n",
       "      <td>5514.000000</td>\n",
       "      <td>1994.00000</td>\n",
       "      <td>1.000000</td>\n",
       "      <td>2.205631</td>\n",
       "      <td>35.00000</td>\n",
       "    </tr>\n",
       "    <tr>\n",
       "      <th>max</th>\n",
       "      <td>83519.000000</td>\n",
       "      <td>398.000000</td>\n",
       "      <td>37.880222</td>\n",
       "      <td>-121.874119</td>\n",
       "      <td>398.000000</td>\n",
       "      <td>37.880222</td>\n",
       "      <td>-121.874119</td>\n",
       "      <td>6645.000000</td>\n",
       "      <td>2001.00000</td>\n",
       "      <td>1.000000</td>\n",
       "      <td>15.673977</td>\n",
       "      <td>37.00000</td>\n",
       "    </tr>\n",
       "  </tbody>\n",
       "</table>\n",
       "</div>"
      ],
      "text/plain": [
       "        duration_sec  start_station_id  start_station_latitude  \\\n",
       "count  100582.000000     100444.000000           100582.000000   \n",
       "mean      700.903551        148.901268               37.763700   \n",
       "std      1721.150046        114.017186                0.119138   \n",
       "min        61.000000          3.000000               37.317298   \n",
       "25%       321.000000         58.000000               37.769305   \n",
       "50%       508.000000        114.000000               37.780450   \n",
       "75%       783.000000        246.000000               37.798572   \n",
       "max     83519.000000        398.000000               37.880222   \n",
       "\n",
       "       start_station_longitude  end_station_id  end_station_latitude  \\\n",
       "count            100582.000000   100444.000000         100582.000000   \n",
       "mean               -122.339648      146.430061             37.763871   \n",
       "std                   0.134994      113.699012              0.119053   \n",
       "min                -122.453704        3.000000             37.317298   \n",
       "25%                -122.411738       54.000000             37.770030   \n",
       "50%                -122.397437      112.000000             37.780526   \n",
       "75%                -122.270556      245.000000             37.799953   \n",
       "max                -121.874119      398.000000             37.880222   \n",
       "\n",
       "       end_station_longitude        bike_id  member_birth_year  member_gender  \\\n",
       "count          100582.000000  100582.000000       100582.00000   98832.000000   \n",
       "mean             -122.339202    4524.660416         1991.52229       0.742958   \n",
       "std                 0.134545    1625.181451            3.69027       0.437005   \n",
       "min              -122.453704      11.000000         1986.00000       0.000000   \n",
       "25%              -122.411403    3967.000000         1988.00000       0.000000   \n",
       "50%              -122.397086    4966.000000         1991.00000       1.000000   \n",
       "75%              -122.271738    5514.000000         1994.00000       1.000000   \n",
       "max              -121.874119    6645.000000         2001.00000       1.000000   \n",
       "\n",
       "            distance    member_age  \n",
       "count  100582.000000  100582.00000  \n",
       "mean        1.678342      31.47771  \n",
       "std         1.073919       3.69027  \n",
       "min         0.000000      22.00000  \n",
       "25%         0.902988      29.00000  \n",
       "50%         1.413550      32.00000  \n",
       "75%         2.205631      35.00000  \n",
       "max        15.673977      37.00000  "
      ]
     },
     "execution_count": 420,
     "metadata": {},
     "output_type": "execute_result"
    }
   ],
   "source": [
    "pDf[pDf['member_age'] < 38].describe()"
   ]
  },
  {
   "cell_type": "code",
   "execution_count": 447,
   "id": "318da946",
   "metadata": {
    "ExecuteTime": {
     "end_time": "2023-03-09T01:18:10.015485Z",
     "start_time": "2023-03-09T01:18:09.985494Z"
    }
   },
   "outputs": [],
   "source": [
    "data = pDf.groupby('member_age').mean().reset_index()"
   ]
  },
  {
   "cell_type": "code",
   "execution_count": 461,
   "id": "5a60eed8",
   "metadata": {
    "ExecuteTime": {
     "end_time": "2023-03-09T01:22:34.734502Z",
     "start_time": "2023-03-09T01:22:34.450072Z"
    }
   },
   "outputs": [
    {
     "data": {
      "image/png": "[encoded data removed]",
      "text/plain": [
       "<Figure size 2000x1000 with 1 Axes>"
      ]
     },
     "metadata": {},
     "output_type": "display_data"
    }
   ],
   "source": [
    "plt.figure(figsize = (20,10))\n",
    "plt.bar(data['member_age'], data['distance'], color ='maroon',\n",
    "        width = 0.4)\n",
    "plt.xlabel(\"member_age\")\n",
    "plt.ylabel(\"distance\")\n",
    "plt.title(\"Students enrolled in different courses\")\n",
    "plt.show()"
   ]
  },
  {
   "cell_type": "code",
   "execution_count": 458,
   "id": "300d3861",
   "metadata": {
    "ExecuteTime": {
     "end_time": "2023-03-09T01:21:49.168280Z",
     "start_time": "2023-03-09T01:21:49.004517Z"
    }
   },
   "outputs": [
    {
     "data": {
      "image/png": "[encoded data removed]",
      "text/plain": [
       "<Figure size 1500x750 with 1 Axes>"
      ]
     },
     "metadata": {},
     "output_type": "display_data"
    }
   ],
   "source": [
    "plt.figure(figsize=(15,7.5))\n",
    "plt.scatter(data['member_age'], data['distance'], c =\"pink\",\n",
    "            linewidths = 2,\n",
    "            marker =\"*\",\n",
    "            edgecolor =\"green\",\n",
    "            s = 50)\n",
    "plt.xlabel(\"member_age\")\n",
    "plt.ylabel(\"distance\")\n",
    "plt.show()"
   ]
  },
  {
   "cell_type": "code",
   "execution_count": 7,
   "id": "9e46b2c2",
   "metadata": {
    "ExecuteTime": {
     "end_time": "2023-03-16T12:45:02.991017Z",
     "start_time": "2023-03-16T12:45:02.839499Z"
    }
   },
   "outputs": [
    {
     "name": "stdout",
     "output_type": "stream",
     "text": [
      "+------------+--------------------+--------------------+----------------+--------------------+\n",
      "|duration_sec|          start_time|            end_time|start_station_id|  start_station_name|\n",
      "+------------+--------------------+--------------------+----------------+--------------------+\n",
      "|       52185|2019-02-28 17:32:...|2019-03-01 08:01:...|              21|Montgomery St BAR...|\n",
      "|       42521|2019-02-28 18:53:...|2019-03-01 06:42:...|              23|The Embarcadero a...|\n",
      "|       61854|2019-02-28 12:13:...|2019-03-01 05:24:...|              86|Market St at Dolo...|\n",
      "|       36490|2019-02-28 17:54:...|2019-03-01 04:02:...|             375|Grove St at Mason...|\n",
      "|        1585|2019-02-28 23:54:...|2019-03-01 00:20:...|               7| Frank H Ogawa Plaza|\n",
      "|        1793|2019-02-28 23:49:...|2019-03-01 00:19:...|              93|4th St at Mission...|\n",
      "|        1147|2019-02-28 23:55:...|2019-03-01 00:14:...|             300|Palm St at Willow St|\n",
      "|        1615|2019-02-28 23:41:...|2019-03-01 00:08:...|              10|Washington St at ...|\n",
      "|        1570|2019-02-28 23:41:...|2019-03-01 00:07:...|              10|Washington St at ...|\n",
      "|        1049|2019-02-28 23:49:...|2019-03-01 00:07:...|              19|Post St at Kearny St|\n",
      "+------------+--------------------+--------------------+----------------+--------------------+\n",
      "only showing top 10 rows\n",
      "\n"
     ]
    }
   ],
   "source": []
  },
  {
   "cell_type": "markdown",
   "id": "5803a977",
   "metadata": {},
   "source": [
    "# 1 - Calculate the total cost for all customers and all subscribers"
   ]
  },
  {
   "cell_type": "code",
   "execution_count": 42,
   "id": "57973664",
   "metadata": {
    "ExecuteTime": {
     "end_time": "2023-03-16T14:46:10.984626Z",
     "start_time": "2023-03-16T14:46:10.975628Z"
    }
   },
   "outputs": [
    {
     "data": {
      "text/plain": [
       "DataFrame[index: string, duration_sec: string, start_time: string, end_time: string, start_station_id: string, start_station_name: string, start_station_latitude: string, start_station_longitude: string, end_station_id: string, end_station_name: string, end_station_latitude: string, end_station_longitude: string, bike_id: string, user_type: string, member_birth_year: string, member_gender: string, distance: float]"
      ]
     },
     "execution_count": 42,
     "metadata": {},
     "output_type": "execute_result"
    }
   ],
   "source": [
    "df"
   ]
  },
  {
   "cell_type": "code",
   "execution_count": 43,
   "id": "d36c9f3c",
   "metadata": {
    "ExecuteTime": {
     "end_time": "2023-03-16T14:46:21.510034Z",
     "start_time": "2023-03-16T14:46:21.505033Z"
    }
   },
   "outputs": [
    {
     "name": "stdout",
     "output_type": "stream",
     "text": [
      "root\n",
      " |-- index: string (nullable = true)\n",
      " |-- duration_sec: string (nullable = true)\n",
      " |-- start_time: string (nullable = true)\n",
      " |-- end_time: string (nullable = true)\n",
      " |-- start_station_id: string (nullable = true)\n",
      " |-- start_station_name: string (nullable = true)\n",
      " |-- start_station_latitude: string (nullable = true)\n",
      " |-- start_station_longitude: string (nullable = true)\n",
      " |-- end_station_id: string (nullable = true)\n",
      " |-- end_station_name: string (nullable = true)\n",
      " |-- end_station_latitude: string (nullable = true)\n",
      " |-- end_station_longitude: string (nullable = true)\n",
      " |-- bike_id: string (nullable = true)\n",
      " |-- user_type: string (nullable = true)\n",
      " |-- member_birth_year: string (nullable = true)\n",
      " |-- member_gender: string (nullable = true)\n",
      " |-- distance: float (nullable = true)\n",
      "\n"
     ]
    }
   ],
   "source": [
    "df.printSchema()"
   ]
  },
  {
   "cell_type": "code",
   "execution_count": 83,
   "id": "44e1c8a4",
   "metadata": {
    "ExecuteTime": {
     "end_time": "2023-03-16T14:58:33.546636Z",
     "start_time": "2023-03-16T14:58:33.531634Z"
    }
   },
   "outputs": [],
   "source": [
    "from pandas import Timestamp\n"
   ]
  },
  {
   "cell_type": "code",
   "execution_count": 43,
   "id": "7067910d",
   "metadata": {
    "ExecuteTime": {
     "end_time": "2023-03-16T15:24:11.410558Z",
     "start_time": "2023-03-16T15:24:11.395560Z"
    },
    "scrolled": true
   },
   "outputs": [
    {
     "data": {
      "text/plain": [
       "DataFrame[duration_sec: string, start_time: string, end_time: string, start_station_id: string, start_station_name: string, start_station_latitude: string, start_station_longitude: string, end_station_id: string, end_station_name: string, end_station_latitude: string, end_station_longitude: string, bike_id: string, user_type: string, member_birth_year: string, member_gender: string]"
      ]
     },
     "execution_count": 43,
     "metadata": {},
     "output_type": "execute_result"
    }
   ],
   "source": [
    "df"
   ]
  },
  {
   "cell_type": "code",
   "execution_count": 231,
   "id": "f8b218b9",
   "metadata": {
    "ExecuteTime": {
     "end_time": "2023-03-16T19:01:27.539495Z",
     "start_time": "2023-03-16T19:01:27.518499Z"
    }
   },
   "outputs": [],
   "source": [
    "df = df.withColumn('start_time', func.to_timestamp(df['start_time'], 'yyyy-MM-dd HH:mm:ss.SSSS')).withColumn('end_time', func.to_timestamp(df['end_time'], 'yyyy-MM-dd HH:mm:ss.SSSS'))"
   ]
  },
  {
   "cell_type": "code",
   "execution_count": 232,
   "id": "5be37059",
   "metadata": {
    "ExecuteTime": {
     "end_time": "2023-03-16T19:01:27.898441Z",
     "start_time": "2023-03-16T19:01:27.886442Z"
    }
   },
   "outputs": [
    {
     "name": "stdout",
     "output_type": "stream",
     "text": [
      "root\n",
      " |-- index: string (nullable = true)\n",
      " |-- duration_sec: string (nullable = true)\n",
      " |-- start_time: timestamp (nullable = true)\n",
      " |-- end_time: timestamp (nullable = true)\n",
      " |-- start_station_id: string (nullable = true)\n",
      " |-- start_station_name: string (nullable = true)\n",
      " |-- start_station_latitude: string (nullable = true)\n",
      " |-- start_station_longitude: string (nullable = true)\n",
      " |-- end_station_id: string (nullable = true)\n",
      " |-- end_station_name: string (nullable = true)\n",
      " |-- end_station_latitude: string (nullable = true)\n",
      " |-- end_station_longitude: string (nullable = true)\n",
      " |-- bike_id: string (nullable = true)\n",
      " |-- user_type: string (nullable = true)\n",
      " |-- member_birth_year: string (nullable = true)\n",
      " |-- member_gender: string (nullable = true)\n",
      " |-- distance: string (nullable = true)\n",
      "\n"
     ]
    }
   ],
   "source": [
    "df.printSchema()"
   ]
  },
  {
   "cell_type": "code",
   "execution_count": 233,
   "id": "5af0da68",
   "metadata": {
    "ExecuteTime": {
     "end_time": "2023-03-16T19:01:32.943856Z",
     "start_time": "2023-03-16T19:01:32.894854Z"
    }
   },
   "outputs": [
    {
     "name": "stdout",
     "output_type": "stream",
     "text": [
      "+--------------------+--------------------+\n",
      "|          start_time|            end_time|\n",
      "+--------------------+--------------------+\n",
      "|2017-12-31 16:57:...|2018-01-01 15:12:...|\n",
      "|2017-12-31 15:56:...|2018-01-01 13:49:...|\n",
      "|2017-12-31 22:45:...|2018-01-01 11:28:...|\n",
      "|2017-12-31 17:31:...|2018-01-01 10:47:...|\n",
      "|2017-12-31 14:23:...|2018-01-01 02:29:...|\n",
      "|2017-12-31 22:51:...|2018-01-01 01:24:...|\n",
      "|2017-12-31 23:49:...|2018-01-01 01:04:...|\n",
      "|2017-12-31 23:46:...|2018-01-01 00:58:...|\n",
      "|2017-12-31 23:37:...|2018-01-01 00:46:...|\n",
      "|2017-12-31 23:35:...|2018-01-01 00:46:...|\n",
      "|2017-12-31 23:46:...|2018-01-01 00:41:...|\n",
      "|2017-12-31 23:48:...|2018-01-01 00:41:...|\n",
      "|2017-12-31 23:52:...|2018-01-01 00:29:...|\n",
      "|2017-12-31 23:52:...|2018-01-01 00:29:...|\n",
      "|2017-12-31 23:35:...|2018-01-01 00:20:...|\n",
      "|2017-12-31 23:53:...|2018-01-01 00:19:...|\n",
      "|2017-12-31 23:54:...|2018-01-01 00:19:...|\n",
      "|2017-12-31 23:55:...|2018-01-01 00:18:...|\n",
      "|2017-12-31 23:52:...|2018-01-01 00:18:...|\n",
      "|2017-12-31 23:46:...|2018-01-01 00:06:...|\n",
      "+--------------------+--------------------+\n",
      "only showing top 20 rows\n",
      "\n"
     ]
    }
   ],
   "source": [
    "df[['start_time', 'end_time']].show()"
   ]
  },
  {
   "cell_type": "code",
   "execution_count": 234,
   "id": "0408e841",
   "metadata": {
    "ExecuteTime": {
     "end_time": "2023-03-16T19:01:34.780693Z",
     "start_time": "2023-03-16T19:01:34.759682Z"
    }
   },
   "outputs": [],
   "source": [
    "df = df.withColumn('duration',df['end_time'] - df['start_time'] )"
   ]
  },
  {
   "cell_type": "code",
   "execution_count": 235,
   "id": "33b90da9",
   "metadata": {
    "ExecuteTime": {
     "end_time": "2023-03-16T19:01:36.320128Z",
     "start_time": "2023-03-16T19:01:36.295133Z"
    }
   },
   "outputs": [],
   "source": [
    "df = df.withColumn('duration_in_minutes', func.round(df['duration'].cast('long') / 60 , 2))"
   ]
  },
  {
   "cell_type": "code",
   "execution_count": 236,
   "id": "489dda61",
   "metadata": {
    "ExecuteTime": {
     "end_time": "2023-03-16T19:01:37.866780Z",
     "start_time": "2023-03-16T19:01:37.815793Z"
    }
   },
   "outputs": [
    {
     "name": "stdout",
     "output_type": "stream",
     "text": [
      "+-------------------+\n",
      "|duration_in_minutes|\n",
      "+-------------------+\n",
      "|            1335.17|\n",
      "|            1313.33|\n",
      "|              762.8|\n",
      "|             1036.2|\n",
      "|             726.72|\n",
      "|             153.77|\n",
      "|              75.12|\n",
      "|              72.23|\n",
      "|              69.17|\n",
      "|              70.63|\n",
      "|              54.87|\n",
      "|              52.95|\n",
      "|              36.38|\n",
      "|              36.17|\n",
      "|              44.95|\n",
      "|              25.73|\n",
      "|              24.57|\n",
      "|              23.28|\n",
      "|              25.53|\n",
      "|              20.27|\n",
      "+-------------------+\n",
      "only showing top 20 rows\n",
      "\n"
     ]
    }
   ],
   "source": [
    "df.select(['duration_in_minutes']).show()"
   ]
  },
  {
   "cell_type": "code",
   "execution_count": 237,
   "id": "688dd1cb",
   "metadata": {
    "ExecuteTime": {
     "end_time": "2023-03-16T19:01:41.496983Z",
     "start_time": "2023-03-16T19:01:41.479988Z"
    }
   },
   "outputs": [
    {
     "name": "stdout",
     "output_type": "stream",
     "text": [
      "root\n",
      " |-- index: string (nullable = true)\n",
      " |-- duration_sec: string (nullable = true)\n",
      " |-- start_time: timestamp (nullable = true)\n",
      " |-- end_time: timestamp (nullable = true)\n",
      " |-- start_station_id: string (nullable = true)\n",
      " |-- start_station_name: string (nullable = true)\n",
      " |-- start_station_latitude: string (nullable = true)\n",
      " |-- start_station_longitude: string (nullable = true)\n",
      " |-- end_station_id: string (nullable = true)\n",
      " |-- end_station_name: string (nullable = true)\n",
      " |-- end_station_latitude: string (nullable = true)\n",
      " |-- end_station_longitude: string (nullable = true)\n",
      " |-- bike_id: string (nullable = true)\n",
      " |-- user_type: string (nullable = true)\n",
      " |-- member_birth_year: string (nullable = true)\n",
      " |-- member_gender: string (nullable = true)\n",
      " |-- distance: string (nullable = true)\n",
      " |-- duration: interval day to second (nullable = true)\n",
      " |-- duration_in_minutes: double (nullable = true)\n",
      "\n"
     ]
    }
   ],
   "source": [
    "df.printSchema()"
   ]
  },
  {
   "cell_type": "code",
   "execution_count": 238,
   "id": "170c93ad",
   "metadata": {
    "ExecuteTime": {
     "end_time": "2023-03-16T19:01:43.370672Z",
     "start_time": "2023-03-16T19:01:43.351673Z"
    }
   },
   "outputs": [],
   "source": [
    "df = df.drop('duration')"
   ]
  },
  {
   "cell_type": "code",
   "execution_count": 239,
   "id": "4db302a5",
   "metadata": {
    "ExecuteTime": {
     "end_time": "2023-03-16T19:01:44.472282Z",
     "start_time": "2023-03-16T19:01:44.456283Z"
    }
   },
   "outputs": [],
   "source": [
    "df = df.withColumn('cost',func.round( df['duration_in_minutes'].cast('float') * 0.35, 2))"
   ]
  },
  {
   "cell_type": "code",
   "execution_count": 240,
   "id": "c4e06ebf",
   "metadata": {
    "ExecuteTime": {
     "end_time": "2023-03-16T19:01:46.576768Z",
     "start_time": "2023-03-16T19:01:46.040780Z"
    }
   },
   "outputs": [
    {
     "name": "stdout",
     "output_type": "stream",
     "text": [
      "+----------+\n",
      "| user_type|\n",
      "+----------+\n",
      "|Subscriber|\n",
      "|  Customer|\n",
      "+----------+\n",
      "\n"
     ]
    }
   ],
   "source": [
    "df.select('user_type').distinct().show()"
   ]
  },
  {
   "cell_type": "code",
   "execution_count": 241,
   "id": "b671cc8c",
   "metadata": {
    "ExecuteTime": {
     "end_time": "2023-03-16T19:01:49.024111Z",
     "start_time": "2023-03-16T19:01:48.528307Z"
    }
   },
   "outputs": [
    {
     "name": "stdout",
     "output_type": "stream",
     "text": [
      "+----------+----------+\n",
      "| user_type|   $ Costs|\n",
      "+----------+----------+\n",
      "|Subscriber|1683665.96|\n",
      "|  Customer|1647871.42|\n",
      "+----------+----------+\n",
      "\n"
     ]
    }
   ],
   "source": [
    "df.groupBy('user_type').sum().drop('sum(duration_in_minutes)').\\\n",
    "withColumnRenamed('sum(cost)','$ Costs').\\\n",
    "withColumn('$ Costs', func.round('$ Costs', 2)).show()"
   ]
  },
  {
   "cell_type": "code",
   "execution_count": null,
   "id": "b0809a2c",
   "metadata": {},
   "outputs": [],
   "source": []
  },
  {
   "cell_type": "code",
   "execution_count": null,
   "id": "5c64ec6d",
   "metadata": {},
   "outputs": [],
   "source": []
  },
  {
   "cell_type": "code",
   "execution_count": null,
   "id": "ac6843bc",
   "metadata": {},
   "outputs": [],
   "source": []
  },
  {
   "cell_type": "markdown",
   "id": "f4c57822",
   "metadata": {},
   "source": [
    " # 2 - Analyze how often bikes are being rented ( morning - afternoon - evening) and at what times of day"
   ]
  },
  {
   "cell_type": "code",
   "execution_count": 183,
   "id": "5f78f459",
   "metadata": {
    "ExecuteTime": {
     "end_time": "2023-03-16T18:24:31.256704Z",
     "start_time": "2023-03-16T18:24:31.251707Z"
    }
   },
   "outputs": [
    {
     "name": "stdout",
     "output_type": "stream",
     "text": [
      "root\n",
      " |-- duration_sec: string (nullable = true)\n",
      " |-- start_time: timestamp (nullable = true)\n",
      " |-- end_time: timestamp (nullable = true)\n",
      " |-- start_station_id: string (nullable = true)\n",
      " |-- start_station_name: string (nullable = true)\n",
      " |-- start_station_latitude: string (nullable = true)\n",
      " |-- start_station_longitude: string (nullable = true)\n",
      " |-- end_station_id: string (nullable = true)\n",
      " |-- end_station_name: string (nullable = true)\n",
      " |-- end_station_latitude: string (nullable = true)\n",
      " |-- end_station_longitude: string (nullable = true)\n",
      " |-- bike_id: string (nullable = true)\n",
      " |-- user_type: string (nullable = true)\n",
      " |-- member_birth_year: string (nullable = true)\n",
      " |-- member_gender: string (nullable = true)\n",
      " |-- duration_in_minutes: double (nullable = true)\n",
      " |-- cost: double (nullable = true)\n",
      "\n"
     ]
    }
   ],
   "source": [
    "df.printSchema()"
   ]
  },
  {
   "cell_type": "code",
   "execution_count": 218,
   "id": "2cc91545",
   "metadata": {
    "ExecuteTime": {
     "end_time": "2023-03-16T18:39:09.479998Z",
     "start_time": "2023-03-16T18:39:09.472989Z"
    },
    "scrolled": false
   },
   "outputs": [],
   "source": [
    "from pyspark.sql.functions import unix_timestamp, from_unixtime, date_format"
   ]
  },
  {
   "cell_type": "code",
   "execution_count": 242,
   "id": "00b89321",
   "metadata": {
    "ExecuteTime": {
     "end_time": "2023-03-16T19:02:00.448167Z",
     "start_time": "2023-03-16T19:02:00.418179Z"
    }
   },
   "outputs": [],
   "source": [
    "df = df.withColumn('start_date', date_format('start_time', 'M/d/yyyy').alias('Date')).\\\n",
    "withColumn('start_hour', date_format('start_time', 'HH:mm:ss.SSSS').alias('Time'))"
   ]
  },
  {
   "cell_type": "code",
   "execution_count": 243,
   "id": "e4f97dbe",
   "metadata": {
    "ExecuteTime": {
     "end_time": "2023-03-16T19:02:02.496262Z",
     "start_time": "2023-03-16T19:02:02.474183Z"
    }
   },
   "outputs": [],
   "source": [
    "df = df.withColumn('time_of_the_day', when(df['start_hour'] < '12:00:00.000', 'morning').when(df['start_hour'] > '18:00:00.000', 'evening').otherwise('afternoon'))"
   ]
  },
  {
   "cell_type": "code",
   "execution_count": 244,
   "id": "2f6b7bf5",
   "metadata": {
    "ExecuteTime": {
     "end_time": "2023-03-16T19:02:09.632763Z",
     "start_time": "2023-03-16T19:02:09.563763Z"
    }
   },
   "outputs": [
    {
     "name": "stdout",
     "output_type": "stream",
     "text": [
      "+-------------+---------------+\n",
      "|   start_hour|time_of_the_day|\n",
      "+-------------+---------------+\n",
      "|16:57:39.6540|      afternoon|\n",
      "|15:56:34.8420|      afternoon|\n",
      "|22:45:48.4110|        evening|\n",
      "|17:31:10.6360|      afternoon|\n",
      "|14:23:14.0010|      afternoon|\n",
      "|22:51:00.9180|        evening|\n",
      "|23:49:28.4220|        evening|\n",
      "|23:46:37.1960|        evening|\n",
      "|23:37:07.5480|        evening|\n",
      "|23:35:38.1450|        evening|\n",
      "|23:46:32.4030|        evening|\n",
      "|23:48:11.7570|        evening|\n",
      "|23:52:55.5810|        evening|\n",
      "|23:52:55.9370|        evening|\n",
      "|23:35:23.2220|        evening|\n",
      "|23:53:38.9430|        evening|\n",
      "|23:54:40.1460|        evening|\n",
      "|23:55:09.6860|        evening|\n",
      "|23:52:49.4970|        evening|\n",
      "|23:46:33.9930|        evening|\n",
      "+-------------+---------------+\n",
      "only showing top 20 rows\n",
      "\n"
     ]
    }
   ],
   "source": [
    "df.select('start_hour', 'time_of_the_day').show()"
   ]
  },
  {
   "cell_type": "code",
   "execution_count": 245,
   "id": "61806786",
   "metadata": {
    "ExecuteTime": {
     "end_time": "2023-03-16T19:02:16.057823Z",
     "start_time": "2023-03-16T19:02:15.636825Z"
    },
    "scrolled": false
   },
   "outputs": [
    {
     "name": "stdout",
     "output_type": "stream",
     "text": [
      "+---------------+------+\n",
      "|time_of_the_day| count|\n",
      "+---------------+------+\n",
      "|      afternoon|209620|\n",
      "|        morning|195925|\n",
      "|        evening|114155|\n",
      "+---------------+------+\n",
      "\n"
     ]
    }
   ],
   "source": [
    "df.groupBy('time_of_the_day').count().show()"
   ]
  },
  {
   "cell_type": "code",
   "execution_count": null,
   "id": "678dc18a",
   "metadata": {},
   "outputs": [],
   "source": []
  },
  {
   "cell_type": "code",
   "execution_count": null,
   "id": "dedcc09e",
   "metadata": {},
   "outputs": [],
   "source": []
  },
  {
   "cell_type": "code",
   "execution_count": null,
   "id": "122871c8",
   "metadata": {},
   "outputs": [],
   "source": []
  },
  {
   "cell_type": "markdown",
   "id": "d1ced03c",
   "metadata": {},
   "source": [
    "#  3 -Find if there is a relation between the time and start stations"
   ]
  },
  {
   "cell_type": "code",
   "execution_count": 247,
   "id": "692de19c",
   "metadata": {
    "ExecuteTime": {
     "end_time": "2023-03-16T19:03:48.232528Z",
     "start_time": "2023-03-16T19:03:48.223528Z"
    }
   },
   "outputs": [
    {
     "name": "stdout",
     "output_type": "stream",
     "text": [
      "root\n",
      " |-- index: string (nullable = true)\n",
      " |-- duration_sec: string (nullable = true)\n",
      " |-- start_time: timestamp (nullable = true)\n",
      " |-- end_time: timestamp (nullable = true)\n",
      " |-- start_station_id: string (nullable = true)\n",
      " |-- start_station_name: string (nullable = true)\n",
      " |-- start_station_latitude: string (nullable = true)\n",
      " |-- start_station_longitude: string (nullable = true)\n",
      " |-- end_station_id: string (nullable = true)\n",
      " |-- end_station_name: string (nullable = true)\n",
      " |-- end_station_latitude: string (nullable = true)\n",
      " |-- end_station_longitude: string (nullable = true)\n",
      " |-- bike_id: string (nullable = true)\n",
      " |-- user_type: string (nullable = true)\n",
      " |-- member_birth_year: string (nullable = true)\n",
      " |-- member_gender: string (nullable = true)\n",
      " |-- distance: string (nullable = true)\n",
      " |-- duration_in_minutes: double (nullable = true)\n",
      " |-- cost: double (nullable = true)\n",
      " |-- start_date: string (nullable = true)\n",
      " |-- start_hour: string (nullable = true)\n",
      " |-- time_of_the_day: string (nullable = false)\n",
      "\n"
     ]
    }
   ],
   "source": [
    "df.printSchema()"
   ]
  },
  {
   "cell_type": "code",
   "execution_count": 284,
   "id": "1c832e5b",
   "metadata": {
    "ExecuteTime": {
     "end_time": "2023-03-16T19:18:30.522581Z",
     "start_time": "2023-03-16T19:18:30.501593Z"
    }
   },
   "outputs": [],
   "source": [
    "df = df.withColumn('start_hour', func.to_timestamp('start_hour', 'HH:mm:ss.SSSS'))"
   ]
  },
  {
   "cell_type": "code",
   "execution_count": 285,
   "id": "77bd4f99",
   "metadata": {
    "ExecuteTime": {
     "end_time": "2023-03-16T19:18:32.155802Z",
     "start_time": "2023-03-16T19:18:32.149800Z"
    }
   },
   "outputs": [
    {
     "name": "stdout",
     "output_type": "stream",
     "text": [
      "root\n",
      " |-- index: string (nullable = true)\n",
      " |-- duration_sec: string (nullable = true)\n",
      " |-- start_time: timestamp (nullable = true)\n",
      " |-- end_time: timestamp (nullable = true)\n",
      " |-- start_station_id: string (nullable = true)\n",
      " |-- start_station_name: string (nullable = true)\n",
      " |-- start_station_latitude: string (nullable = true)\n",
      " |-- start_station_longitude: string (nullable = true)\n",
      " |-- end_station_id: string (nullable = true)\n",
      " |-- end_station_name: string (nullable = true)\n",
      " |-- end_station_latitude: string (nullable = true)\n",
      " |-- end_station_longitude: string (nullable = true)\n",
      " |-- bike_id: string (nullable = true)\n",
      " |-- user_type: string (nullable = true)\n",
      " |-- member_birth_year: string (nullable = true)\n",
      " |-- member_gender: string (nullable = true)\n",
      " |-- distance: string (nullable = true)\n",
      " |-- duration_in_minutes: double (nullable = true)\n",
      " |-- cost: double (nullable = true)\n",
      " |-- start_date: string (nullable = true)\n",
      " |-- start_hour: timestamp (nullable = true)\n",
      " |-- time_of_the_day: string (nullable = false)\n",
      "\n"
     ]
    }
   ],
   "source": [
    "df.printSchema()"
   ]
  },
  {
   "cell_type": "code",
   "execution_count": 256,
   "id": "f75e8de8",
   "metadata": {
    "ExecuteTime": {
     "end_time": "2023-03-16T19:08:56.868977Z",
     "start_time": "2023-03-16T19:08:56.862977Z"
    }
   },
   "outputs": [],
   "source": [
    "from pyspark.sql.functions import expr"
   ]
  },
  {
   "cell_type": "code",
   "execution_count": 291,
   "id": "9290ce5b",
   "metadata": {
    "ExecuteTime": {
     "end_time": "2023-03-16T19:21:44.974805Z",
     "start_time": "2023-03-16T19:21:43.845803Z"
    }
   },
   "outputs": [
    {
     "name": "stdout",
     "output_type": "stream",
     "text": [
      "+----------------+--------+\n",
      "|start_station_id|avg_hour|\n",
      "+----------------+--------+\n",
      "|             296|13:19:52|\n",
      "|             125|13:21:02|\n",
      "|               7|15:51:39|\n",
      "|             124|14:02:15|\n",
      "|             307|15:52:41|\n",
      "|             205|11:31:44|\n",
      "|             169|12:57:49|\n",
      "|             232|13:56:28|\n",
      "|              15|12:10:59|\n",
      "|             282|14:45:24|\n",
      "|             234|16:15:50|\n",
      "|             317|12:56:59|\n",
      "|             132|12:57:36|\n",
      "|             154|13:23:58|\n",
      "|             200|12:06:50|\n",
      "|              11|14:38:12|\n",
      "|             101|15:03:42|\n",
      "|             279|14:50:51|\n",
      "|             323|13:20:00|\n",
      "|             138|12:26:39|\n",
      "+----------------+--------+\n",
      "only showing top 20 rows\n",
      "\n"
     ]
    }
   ],
   "source": [
    "df.withColumn('average_hour', func.unix_timestamp(func.date_format('start_hour', 'HH:mm:ss'))) \\\n",
    "   .groupby('start_station_id') \\\n",
    "   .agg(func.from_unixtime(func.avg('start_hour'),'HH:mm:ss').alias('avg_hour')).\\\n",
    "show()"
   ]
  },
  {
   "cell_type": "code",
   "execution_count": 293,
   "id": "d183b7c2",
   "metadata": {
    "ExecuteTime": {
     "end_time": "2023-03-16T19:25:56.845020Z",
     "start_time": "2023-03-16T19:25:56.805668Z"
    }
   },
   "outputs": [],
   "source": [
    "idAvgTimes = df.withColumn('average_hour', func.unix_timestamp(func.date_format('start_hour', 'HH:mm:ss'))) \\\n",
    "   .groupby('start_station_id') \\\n",
    "   .agg(func.from_unixtime(func.avg('start_hour'),'HH:mm:ss').alias('avg_hour'))"
   ]
  },
  {
   "cell_type": "code",
   "execution_count": 294,
   "id": "751f9dc4",
   "metadata": {
    "ExecuteTime": {
     "end_time": "2023-03-16T19:26:05.642133Z",
     "start_time": "2023-03-16T19:26:04.365409Z"
    }
   },
   "outputs": [
    {
     "name": "stdout",
     "output_type": "stream",
     "text": [
      "+----------------+--------+\n",
      "|start_station_id|avg_hour|\n",
      "+----------------+--------+\n",
      "|             296|13:19:52|\n",
      "|             125|13:21:02|\n",
      "|               7|15:51:39|\n",
      "|             124|14:02:15|\n",
      "|             307|15:52:41|\n",
      "|             205|11:31:44|\n",
      "|             169|12:57:49|\n",
      "|             232|13:56:28|\n",
      "|              15|12:10:59|\n",
      "|             282|14:45:24|\n",
      "|             234|16:15:50|\n",
      "|             317|12:56:59|\n",
      "|             132|12:57:36|\n",
      "|             154|13:23:58|\n",
      "|             200|12:06:50|\n",
      "|              11|14:38:12|\n",
      "|             101|15:03:42|\n",
      "|             279|14:50:51|\n",
      "|             323|13:20:00|\n",
      "|             138|12:26:39|\n",
      "+----------------+--------+\n",
      "only showing top 20 rows\n",
      "\n"
     ]
    }
   ],
   "source": [
    "idAvgTimes.show()"
   ]
  },
  {
   "cell_type": "code",
   "execution_count": 326,
   "id": "fcce5d0f",
   "metadata": {
    "ExecuteTime": {
     "end_time": "2023-03-16T19:39:46.676681Z",
     "start_time": "2023-03-16T19:39:44.780672Z"
    }
   },
   "outputs": [],
   "source": [
    "hours = idAvgTimes.select('avg_hour').collect()\n",
    "stations= idAvgTimes.select('start_station_id').collect()"
   ]
  },
  {
   "cell_type": "code",
   "execution_count": 327,
   "id": "a1e18933",
   "metadata": {
    "ExecuteTime": {
     "end_time": "2023-03-16T19:40:42.739725Z",
     "start_time": "2023-03-16T19:40:42.723653Z"
    }
   },
   "outputs": [],
   "source": [
    "start_stations = []\n",
    "average_hours = []"
   ]
  },
  {
   "cell_type": "code",
   "execution_count": 328,
   "id": "a850695c",
   "metadata": {
    "ExecuteTime": {
     "end_time": "2023-03-16T19:40:43.321115Z",
     "start_time": "2023-03-16T19:40:43.307113Z"
    }
   },
   "outputs": [],
   "source": [
    "for i in range(len(hours)):\n",
    "    average_hours.append(hours[i][0][0:2])\n",
    "    start_stations.append(stations[i][0])"
   ]
  },
  {
   "cell_type": "code",
   "execution_count": 420,
   "id": "9412c433",
   "metadata": {
    "ExecuteTime": {
     "end_time": "2023-03-16T20:21:10.019494Z",
     "start_time": "2023-03-16T20:21:10.001504Z"
    }
   },
   "outputs": [
    {
     "data": {
      "text/plain": [
       "272"
      ]
     },
     "execution_count": 420,
     "metadata": {},
     "output_type": "execute_result"
    }
   ],
   "source": [
    "len(average_hours)"
   ]
  },
  {
   "cell_type": "code",
   "execution_count": 419,
   "id": "fb84340f",
   "metadata": {
    "ExecuteTime": {
     "end_time": "2023-03-16T20:21:05.710475Z",
     "start_time": "2023-03-16T20:21:05.705475Z"
    }
   },
   "outputs": [
    {
     "data": {
      "text/plain": [
       "272"
      ]
     },
     "execution_count": 419,
     "metadata": {},
     "output_type": "execute_result"
    }
   ],
   "source": [
    "len(start_stations)"
   ]
  },
  {
   "cell_type": "code",
   "execution_count": 346,
   "id": "ca6201ef",
   "metadata": {
    "ExecuteTime": {
     "end_time": "2023-03-16T19:47:53.621195Z",
     "start_time": "2023-03-16T19:47:53.609195Z"
    }
   },
   "outputs": [],
   "source": [
    "DF = pd.DataFrame(zip(start_stations, average_hours))"
   ]
  },
  {
   "cell_type": "code",
   "execution_count": 347,
   "id": "82446b3d",
   "metadata": {
    "ExecuteTime": {
     "end_time": "2023-03-16T19:47:57.152638Z",
     "start_time": "2023-03-16T19:47:57.136629Z"
    }
   },
   "outputs": [],
   "source": [
    "DF = DF.rename(columns={0 : 'start_stations', 1:'average_hours'})"
   ]
  },
  {
   "cell_type": "code",
   "execution_count": 349,
   "id": "a1c4b2b1",
   "metadata": {
    "ExecuteTime": {
     "end_time": "2023-03-16T19:48:00.544065Z",
     "start_time": "2023-03-16T19:48:00.529055Z"
    }
   },
   "outputs": [
    {
     "data": {
      "text/html": [
       "<div>\n",
       "<style scoped>\n",
       "    .dataframe tbody tr th:only-of-type {\n",
       "        vertical-align: middle;\n",
       "    }\n",
       "\n",
       "    .dataframe tbody tr th {\n",
       "        vertical-align: top;\n",
       "    }\n",
       "\n",
       "    .dataframe thead th {\n",
       "        text-align: right;\n",
       "    }\n",
       "</style>\n",
       "<table border=\"1\" class=\"dataframe\">\n",
       "  <thead>\n",
       "    <tr style=\"text-align: right;\">\n",
       "      <th></th>\n",
       "      <th>start_stations</th>\n",
       "      <th>average_hours</th>\n",
       "    </tr>\n",
       "  </thead>\n",
       "  <tbody>\n",
       "    <tr>\n",
       "      <th>0</th>\n",
       "      <td>296</td>\n",
       "      <td>13</td>\n",
       "    </tr>\n",
       "    <tr>\n",
       "      <th>1</th>\n",
       "      <td>125</td>\n",
       "      <td>13</td>\n",
       "    </tr>\n",
       "    <tr>\n",
       "      <th>2</th>\n",
       "      <td>7</td>\n",
       "      <td>15</td>\n",
       "    </tr>\n",
       "    <tr>\n",
       "      <th>3</th>\n",
       "      <td>124</td>\n",
       "      <td>14</td>\n",
       "    </tr>\n",
       "    <tr>\n",
       "      <th>4</th>\n",
       "      <td>307</td>\n",
       "      <td>15</td>\n",
       "    </tr>\n",
       "    <tr>\n",
       "      <th>...</th>\n",
       "      <td>...</td>\n",
       "      <td>...</td>\n",
       "    </tr>\n",
       "    <tr>\n",
       "      <th>267</th>\n",
       "      <td>50</td>\n",
       "      <td>14</td>\n",
       "    </tr>\n",
       "    <tr>\n",
       "      <th>268</th>\n",
       "      <td>184</td>\n",
       "      <td>16</td>\n",
       "    </tr>\n",
       "    <tr>\n",
       "      <th>269</th>\n",
       "      <td>199</td>\n",
       "      <td>15</td>\n",
       "    </tr>\n",
       "    <tr>\n",
       "      <th>270</th>\n",
       "      <td>185</td>\n",
       "      <td>12</td>\n",
       "    </tr>\n",
       "    <tr>\n",
       "      <th>271</th>\n",
       "      <td>131</td>\n",
       "      <td>13</td>\n",
       "    </tr>\n",
       "  </tbody>\n",
       "</table>\n",
       "<p>272 rows × 2 columns</p>\n",
       "</div>"
      ],
      "text/plain": [
       "    start_stations average_hours\n",
       "0              296            13\n",
       "1              125            13\n",
       "2                7            15\n",
       "3              124            14\n",
       "4              307            15\n",
       "..             ...           ...\n",
       "267             50            14\n",
       "268            184            16\n",
       "269            199            15\n",
       "270            185            12\n",
       "271            131            13\n",
       "\n",
       "[272 rows x 2 columns]"
      ]
     },
     "execution_count": 349,
     "metadata": {},
     "output_type": "execute_result"
    }
   ],
   "source": [
    "DF[DF['start_stations']]"
   ]
  },
  {
   "cell_type": "code",
   "execution_count": 391,
   "id": "127e783b",
   "metadata": {
    "ExecuteTime": {
     "end_time": "2023-03-16T20:16:01.181690Z",
     "start_time": "2023-03-16T20:16:01.170692Z"
    }
   },
   "outputs": [],
   "source": [
    "DF = DF.sort_values(by = 'start_stations')"
   ]
  },
  {
   "cell_type": "code",
   "execution_count": 403,
   "id": "f99a1484",
   "metadata": {
    "ExecuteTime": {
     "end_time": "2023-03-16T20:18:22.986383Z",
     "start_time": "2023-03-16T20:18:22.563381Z"
    }
   },
   "outputs": [
    {
     "data": {
      "image/png": "[encoded data removed]",
      "text/plain": [
       "<Figure size 2000x750 with 1 Axes>"
      ]
     },
     "metadata": {},
     "output_type": "display_data"
    }
   ],
   "source": [
    "plt.figure(figsize=(20,7.5))\n",
    "plt.bar(DF['start_stations'].head(50), DF['average_hours'].head(50))\n",
    "plt.xticks(rotation=90)\n",
    "plt.show()"
   ]
  },
  {
   "cell_type": "code",
   "execution_count": 364,
   "id": "3c1d0743",
   "metadata": {
    "ExecuteTime": {
     "end_time": "2023-03-16T19:57:28.299172Z",
     "start_time": "2023-03-16T19:57:28.280175Z"
    }
   },
   "outputs": [
    {
     "data": {
      "text/html": [
       "<div>\n",
       "<style scoped>\n",
       "    .dataframe tbody tr th:only-of-type {\n",
       "        vertical-align: middle;\n",
       "    }\n",
       "\n",
       "    .dataframe tbody tr th {\n",
       "        vertical-align: top;\n",
       "    }\n",
       "\n",
       "    .dataframe thead th {\n",
       "        text-align: right;\n",
       "    }\n",
       "</style>\n",
       "<table border=\"1\" class=\"dataframe\">\n",
       "  <thead>\n",
       "    <tr style=\"text-align: right;\">\n",
       "      <th></th>\n",
       "      <th>start_stations</th>\n",
       "      <th>average_hours</th>\n",
       "    </tr>\n",
       "  </thead>\n",
       "  <tbody>\n",
       "    <tr>\n",
       "      <th>1</th>\n",
       "      <td>125</td>\n",
       "      <td>13</td>\n",
       "    </tr>\n",
       "  </tbody>\n",
       "</table>\n",
       "</div>"
      ],
      "text/plain": [
       "  start_stations average_hours\n",
       "1            125            13"
      ]
     },
     "execution_count": 364,
     "metadata": {},
     "output_type": "execute_result"
    }
   ],
   "source": [
    "DF[DF['start_stations'] == '125']"
   ]
  },
  {
   "cell_type": "code",
   "execution_count": 416,
   "id": "80039b51",
   "metadata": {
    "ExecuteTime": {
     "end_time": "2023-03-16T20:20:35.512084Z",
     "start_time": "2023-03-16T20:20:35.493085Z"
    }
   },
   "outputs": [
    {
     "data": {
      "text/plain": [
       "start_stations    19\n",
       "average_hours     19\n",
       "dtype: int64"
      ]
     },
     "execution_count": 416,
     "metadata": {},
     "output_type": "execute_result"
    }
   ],
   "source": [
    "DF[DF['average_hours'] == '11'].count()"
   ]
  },
  {
   "cell_type": "code",
   "execution_count": null,
   "id": "a6c5a0d9",
   "metadata": {
    "ExecuteTime": {
     "end_time": "2023-03-16T20:13:07.745869Z",
     "start_time": "2023-03-16T20:13:07.724871Z"
    }
   },
   "outputs": [],
   "source": []
  },
  {
   "cell_type": "markdown",
   "id": "0746cc75",
   "metadata": {},
   "source": [
    "#  4 -What is the ratio of payment using cc or app wallet?"
   ]
  },
  {
   "cell_type": "code",
   "execution_count": 378,
   "id": "58308942",
   "metadata": {
    "ExecuteTime": {
     "end_time": "2023-03-16T20:08:36.316176Z",
     "start_time": "2023-03-16T20:08:36.307178Z"
    }
   },
   "outputs": [
    {
     "name": "stdout",
     "output_type": "stream",
     "text": [
      "root\n",
      " |-- index: string (nullable = true)\n",
      " |-- duration_sec: string (nullable = true)\n",
      " |-- start_time: timestamp (nullable = true)\n",
      " |-- end_time: timestamp (nullable = true)\n",
      " |-- start_station_id: string (nullable = true)\n",
      " |-- start_station_name: string (nullable = true)\n",
      " |-- start_station_latitude: string (nullable = true)\n",
      " |-- start_station_longitude: string (nullable = true)\n",
      " |-- end_station_id: string (nullable = true)\n",
      " |-- end_station_name: string (nullable = true)\n",
      " |-- end_station_latitude: string (nullable = true)\n",
      " |-- end_station_longitude: string (nullable = true)\n",
      " |-- bike_id: string (nullable = true)\n",
      " |-- user_type: string (nullable = true)\n",
      " |-- member_birth_year: string (nullable = true)\n",
      " |-- member_gender: string (nullable = true)\n",
      " |-- distance: string (nullable = true)\n",
      " |-- duration_in_minutes: double (nullable = true)\n",
      " |-- cost: double (nullable = true)\n",
      " |-- start_date: string (nullable = true)\n",
      " |-- start_hour: timestamp (nullable = true)\n",
      " |-- time_of_the_day: string (nullable = false)\n",
      "\n"
     ]
    }
   ],
   "source": [
    "df.printSchema()"
   ]
  },
  {
   "cell_type": "code",
   "execution_count": 425,
   "id": "278c2cb4",
   "metadata": {
    "ExecuteTime": {
     "end_time": "2023-03-16T20:40:45.348657Z",
     "start_time": "2023-03-16T20:40:45.267658Z"
    }
   },
   "outputs": [],
   "source": [
    "df = spark.read.format('csv').option('header', 'True').load('C:/Users/mkaya/Downloads/2017-fordgobike-tripdata.csv')"
   ]
  },
  {
   "cell_type": "code",
   "execution_count": 426,
   "id": "c3a56bbb",
   "metadata": {
    "ExecuteTime": {
     "end_time": "2023-03-16T20:40:48.662026Z",
     "start_time": "2023-03-16T20:40:48.643029Z"
    }
   },
   "outputs": [
    {
     "name": "stdout",
     "output_type": "stream",
     "text": [
      "root\n",
      " |-- start_time: string (nullable = true)\n",
      " |-- end_time: string (nullable = true)\n",
      " |-- start_station_id: string (nullable = true)\n",
      " |-- start_station_name: string (nullable = true)\n",
      " |-- start_station_latitude: string (nullable = true)\n",
      " |-- start_station_longitude: string (nullable = true)\n",
      " |-- end_station_id: string (nullable = true)\n",
      " |-- end_station_name: string (nullable = true)\n",
      " |-- end_station_latitude: string (nullable = true)\n",
      " |-- end_station_longitude: string (nullable = true)\n",
      " |-- bike_id: string (nullable = true)\n",
      " |-- user_type: string (nullable = true)\n",
      " |-- member_birth_year: string (nullable = true)\n",
      " |-- member_gender: string (nullable = true)\n",
      " |-- pyment: string (nullable = true)\n",
      "\n"
     ]
    }
   ],
   "source": [
    "df.printSchema()"
   ]
  },
  {
   "cell_type": "code",
   "execution_count": 427,
   "id": "6249aea3",
   "metadata": {
    "ExecuteTime": {
     "end_time": "2023-03-16T20:40:57.080047Z",
     "start_time": "2023-03-16T20:40:57.068037Z"
    }
   },
   "outputs": [],
   "source": [
    "df = df.withColumnRenamed('pyment', 'payment_type')"
   ]
  },
  {
   "cell_type": "code",
   "execution_count": 428,
   "id": "3e1f83c9",
   "metadata": {
    "ExecuteTime": {
     "end_time": "2023-03-16T20:41:01.769785Z",
     "start_time": "2023-03-16T20:41:01.764783Z"
    }
   },
   "outputs": [
    {
     "name": "stdout",
     "output_type": "stream",
     "text": [
      "root\n",
      " |-- start_time: string (nullable = true)\n",
      " |-- end_time: string (nullable = true)\n",
      " |-- start_station_id: string (nullable = true)\n",
      " |-- start_station_name: string (nullable = true)\n",
      " |-- start_station_latitude: string (nullable = true)\n",
      " |-- start_station_longitude: string (nullable = true)\n",
      " |-- end_station_id: string (nullable = true)\n",
      " |-- end_station_name: string (nullable = true)\n",
      " |-- end_station_latitude: string (nullable = true)\n",
      " |-- end_station_longitude: string (nullable = true)\n",
      " |-- bike_id: string (nullable = true)\n",
      " |-- user_type: string (nullable = true)\n",
      " |-- member_birth_year: string (nullable = true)\n",
      " |-- member_gender: string (nullable = true)\n",
      " |-- payment_type: string (nullable = true)\n",
      "\n"
     ]
    }
   ],
   "source": [
    "df.printSchema()"
   ]
  },
  {
   "cell_type": "code",
   "execution_count": 446,
   "id": "13c23d1d",
   "metadata": {
    "ExecuteTime": {
     "end_time": "2023-03-16T20:45:31.163012Z",
     "start_time": "2023-03-16T20:45:30.719015Z"
    }
   },
   "outputs": [
    {
     "data": {
      "text/plain": [
       "0.49959399653646336"
      ]
     },
     "execution_count": 446,
     "metadata": {},
     "output_type": "execute_result"
    }
   ],
   "source": [
    "credit_card_payments = df[df['payment_type'].isin('credit card')].select('payment_type').count()\n",
    "app_wallet_payments = df[df['payment_type'].isin('app wallet')].select('payment_type').count()\n",
    "credit_card_ratio = credit_card_payments / (credit_card_payments + app_wallet_payments)\n",
    "\n",
    "credit_card_ratio"
   ]
  },
  {
   "cell_type": "code",
   "execution_count": null,
   "id": "acce8019",
   "metadata": {},
   "outputs": [],
   "source": []
  },
  {
   "cell_type": "code",
   "execution_count": null,
   "id": "b3ab03b3",
   "metadata": {},
   "outputs": [],
   "source": []
  },
  {
   "cell_type": "code",
   "execution_count": null,
   "id": "2ff0572d",
   "metadata": {},
   "outputs": [],
   "source": []
  },
  {
   "cell_type": "markdown",
   "id": "97d6c4f3",
   "metadata": {},
   "source": [
    "#  5-What is the preferred way to pay for customers and subscriber?"
   ]
  },
  {
   "cell_type": "code",
   "execution_count": 452,
   "id": "4ab64e3c",
   "metadata": {
    "ExecuteTime": {
     "end_time": "2023-03-16T20:50:41.767699Z",
     "start_time": "2023-03-16T20:50:41.428709Z"
    }
   },
   "outputs": [
    {
     "name": "stdout",
     "output_type": "stream",
     "text": [
      "+----------+------------+------+\n",
      "| user_type|payment_type| count|\n",
      "+----------+------------+------+\n",
      "|Subscriber|  app wallet|204727|\n",
      "|Subscriber| credit card|204503|\n",
      "|  Customer|  app wallet| 55334|\n",
      "|  Customer| credit card| 55136|\n",
      "+----------+------------+------+\n",
      "\n"
     ]
    }
   ],
   "source": [
    "df.groupBy('user_type', 'payment_type').count().orderBy('user_type', 'count', ascending = False).show()"
   ]
  },
  {
   "cell_type": "markdown",
   "id": "c726d226",
   "metadata": {},
   "source": [
    "# 1 - What are the worst starting stations for the business?"
   ]
  },
  {
   "cell_type": "code",
   "execution_count": 6,
   "id": "47bda813",
   "metadata": {
    "ExecuteTime": {
     "end_time": "2023-03-17T22:22:14.226744Z",
     "start_time": "2023-03-17T22:22:14.217744Z"
    }
   },
   "outputs": [],
   "source": [
    "import pyspark\n",
    "from pyspark.sql import *\n",
    "import pyspark.sql.functions as func\n",
    "from pyspark.sql.functions import *\n",
    "\n",
    "import datetime\n",
    "from datetime import datetime, timedelta"
   ]
  },
  {
   "cell_type": "code",
   "execution_count": 7,
   "id": "6f0011b6",
   "metadata": {
    "ExecuteTime": {
     "end_time": "2023-03-17T22:22:16.114825Z",
     "start_time": "2023-03-17T22:22:16.104824Z"
    }
   },
   "outputs": [],
   "source": [
    "spark = SparkSession.builder.master('local[*]').appName('Week_4').getOrCreate()"
   ]
  },
  {
   "cell_type": "code",
   "execution_count": 8,
   "id": "6c50e8a5",
   "metadata": {
    "ExecuteTime": {
     "end_time": "2023-03-17T22:22:16.627955Z",
     "start_time": "2023-03-17T22:22:16.623954Z"
    }
   },
   "outputs": [
    {
     "data": {
      "text/html": [
       "\n",
       "            <div>\n",
       "                <p><b>SparkSession - in-memory</b></p>\n",
       "                \n",
       "        <div>\n",
       "            <p><b>SparkContext</b></p>\n",
       "\n",
       "            <p><a href=\"http://Kepler-452b:4040\">Spark UI</a></p>\n",
       "\n",
       "            <dl>\n",
       "              <dt>Version</dt>\n",
       "                <dd><code>v3.3.2</code></dd>\n",
       "              <dt>Master</dt>\n",
       "                <dd><code>local[*]</code></dd>\n",
       "              <dt>AppName</dt>\n",
       "                <dd><code>Week_4</code></dd>\n",
       "            </dl>\n",
       "        </div>\n",
       "        \n",
       "            </div>\n",
       "        "
      ],
      "text/plain": [
       "<pyspark.sql.session.SparkSession at 0x1663822bbb0>"
      ]
     },
     "execution_count": 8,
     "metadata": {},
     "output_type": "execute_result"
    }
   ],
   "source": [
    "spark"
   ]
  },
  {
   "cell_type": "code",
   "execution_count": 9,
   "id": "88476ac2",
   "metadata": {
    "ExecuteTime": {
     "end_time": "2023-03-17T22:23:19.244635Z",
     "start_time": "2023-03-17T22:23:15.257365Z"
    }
   },
   "outputs": [],
   "source": [
    "df = spark.read.format('csv').option('header', 'True').load('2017-fordgobike-tripdata.csv')"
   ]
  },
  {
   "cell_type": "code",
   "execution_count": 11,
   "id": "3b52cee0",
   "metadata": {
    "ExecuteTime": {
     "end_time": "2023-03-17T22:23:30.785898Z",
     "start_time": "2023-03-17T22:23:30.770900Z"
    }
   },
   "outputs": [
    {
     "data": {
      "text/plain": [
       "['duration_sec',\n",
       " 'start_time',\n",
       " 'end_time',\n",
       " 'start_station_id',\n",
       " 'start_station_name',\n",
       " 'start_station_latitude',\n",
       " 'start_station_longitude',\n",
       " 'end_station_id',\n",
       " 'end_station_name',\n",
       " 'end_station_latitude',\n",
       " 'end_station_longitude',\n",
       " 'bike_id',\n",
       " 'user_type',\n",
       " 'member_birth_year',\n",
       " 'member_gender']"
      ]
     },
     "execution_count": 11,
     "metadata": {},
     "output_type": "execute_result"
    }
   ],
   "source": [
    "df.columns"
   ]
  },
  {
   "cell_type": "code",
   "execution_count": 12,
   "id": "124a57cd",
   "metadata": {
    "ExecuteTime": {
     "end_time": "2023-03-17T22:23:44.818129Z",
     "start_time": "2023-03-17T22:23:44.811129Z"
    }
   },
   "outputs": [
    {
     "name": "stdout",
     "output_type": "stream",
     "text": [
      "root\n",
      " |-- duration_sec: string (nullable = true)\n",
      " |-- start_time: string (nullable = true)\n",
      " |-- end_time: string (nullable = true)\n",
      " |-- start_station_id: string (nullable = true)\n",
      " |-- start_station_name: string (nullable = true)\n",
      " |-- start_station_latitude: string (nullable = true)\n",
      " |-- start_station_longitude: string (nullable = true)\n",
      " |-- end_station_id: string (nullable = true)\n",
      " |-- end_station_name: string (nullable = true)\n",
      " |-- end_station_latitude: string (nullable = true)\n",
      " |-- end_station_longitude: string (nullable = true)\n",
      " |-- bike_id: string (nullable = true)\n",
      " |-- user_type: string (nullable = true)\n",
      " |-- member_birth_year: string (nullable = true)\n",
      " |-- member_gender: string (nullable = true)\n",
      "\n"
     ]
    }
   ],
   "source": [
    "df.printSchema()"
   ]
  },
  {
   "cell_type": "code",
   "execution_count": 15,
   "id": "516f9dab",
   "metadata": {
    "ExecuteTime": {
     "end_time": "2023-03-17T22:26:37.258119Z",
     "start_time": "2023-03-17T22:26:36.217943Z"
    }
   },
   "outputs": [
    {
     "name": "stdout",
     "output_type": "stream",
     "text": [
      "+----------------+-----+\n",
      "|start_station_id|count|\n",
      "+----------------+-----+\n",
      "|              15|15187|\n",
      "|               6|13664|\n",
      "|              30|12546|\n",
      "|              67|12055|\n",
      "|              58|11960|\n",
      "|              21|11334|\n",
      "|              81|10956|\n",
      "|               3|10142|\n",
      "|              22| 9926|\n",
      "|              16| 9347|\n",
      "|               5| 7987|\n",
      "|              17| 7649|\n",
      "|              50| 6605|\n",
      "|              66| 6414|\n",
      "|              90| 6223|\n",
      "|              23| 5980|\n",
      "|              48| 5785|\n",
      "|              25| 5732|\n",
      "|             324| 5609|\n",
      "|             182| 5558|\n",
      "+----------------+-----+\n",
      "only showing top 20 rows\n",
      "\n"
     ]
    }
   ],
   "source": [
    "df.groupBy('start_station_id').count().orderBy('count', ascending = False).show()"
   ]
  },
  {
   "cell_type": "code",
   "execution_count": 50,
   "id": "417bb772",
   "metadata": {
    "ExecuteTime": {
     "end_time": "2023-03-17T22:43:15.517808Z",
     "start_time": "2023-03-17T22:43:15.502805Z"
    }
   },
   "outputs": [],
   "source": [
    "from pandas import Timestamp"
   ]
  },
  {
   "cell_type": "code",
   "execution_count": 56,
   "id": "f97969ab",
   "metadata": {
    "ExecuteTime": {
     "end_time": "2023-03-17T22:46:32.394858Z",
     "start_time": "2023-03-17T22:46:32.374858Z"
    }
   },
   "outputs": [],
   "source": [
    "df = df.withColumn('start_time', func.to_timestamp(df['start_time'], 'yyyy-MM-dd HH:mm:ss.SSSS')).\\\n",
    "withColumn('end_time', func.to_timestamp(df['end_time'], 'yyyy-MM-dd HH:mm:ss.SSSS'))"
   ]
  },
  {
   "cell_type": "code",
   "execution_count": 60,
   "id": "61d12f8d",
   "metadata": {
    "ExecuteTime": {
     "end_time": "2023-03-17T22:47:08.859832Z",
     "start_time": "2023-03-17T22:47:08.834826Z"
    }
   },
   "outputs": [],
   "source": [
    "df = df.withColumn('duration_minutes', func.round(((df['end_time'] - df['start_time']).cast('long')) / 60 , 2))"
   ]
  },
  {
   "cell_type": "code",
   "execution_count": 62,
   "id": "768f9cf8",
   "metadata": {
    "ExecuteTime": {
     "end_time": "2023-03-17T22:48:40.790829Z",
     "start_time": "2023-03-17T22:48:40.766831Z"
    }
   },
   "outputs": [],
   "source": [
    "df = df.withColumn('revenue', func.round(df['duration_minutes'] * 0.35 , 2))"
   ]
  },
  {
   "cell_type": "code",
   "execution_count": 63,
   "id": "cf404d65",
   "metadata": {
    "ExecuteTime": {
     "end_time": "2023-03-17T22:48:56.598388Z",
     "start_time": "2023-03-17T22:48:56.593387Z"
    }
   },
   "outputs": [
    {
     "name": "stdout",
     "output_type": "stream",
     "text": [
      "root\n",
      " |-- duration_sec: string (nullable = true)\n",
      " |-- start_time: timestamp (nullable = true)\n",
      " |-- end_time: timestamp (nullable = true)\n",
      " |-- start_station_id: string (nullable = true)\n",
      " |-- start_station_name: string (nullable = true)\n",
      " |-- start_station_latitude: string (nullable = true)\n",
      " |-- start_station_longitude: string (nullable = true)\n",
      " |-- end_station_id: string (nullable = true)\n",
      " |-- end_station_name: string (nullable = true)\n",
      " |-- end_station_latitude: string (nullable = true)\n",
      " |-- end_station_longitude: string (nullable = true)\n",
      " |-- bike_id: string (nullable = true)\n",
      " |-- user_type: string (nullable = true)\n",
      " |-- member_birth_year: string (nullable = true)\n",
      " |-- member_gender: string (nullable = true)\n",
      " |-- duration_minutes: double (nullable = true)\n",
      " |-- revenue: double (nullable = true)\n",
      "\n"
     ]
    }
   ],
   "source": [
    "df.printSchema()"
   ]
  },
  {
   "cell_type": "code",
   "execution_count": 75,
   "id": "950cc606",
   "metadata": {
    "ExecuteTime": {
     "end_time": "2023-03-17T22:54:44.781297Z",
     "start_time": "2023-03-17T22:54:43.795184Z"
    }
   },
   "outputs": [
    {
     "name": "stdout",
     "output_type": "stream",
     "text": [
      "+----------------+--------------------+-------------+\n",
      "|start_station_id|  start_station_name|total_revenue|\n",
      "+----------------+--------------------+-------------+\n",
      "|             268|Ellsworth St at R...|         2.82|\n",
      "|             339|Jackson St at 11t...|         5.68|\n",
      "|             292| Empire St at 1st St|        20.03|\n",
      "|             294|Pierce Ave at Mar...|        40.51|\n",
      "|             340|Harmon St at Adel...|        52.63|\n",
      "|             237|Fruitvale BART St...|         70.7|\n",
      "|             267|Derby St at Colle...|        73.36|\n",
      "|             293|W St John St at G...|        76.42|\n",
      "|             299|     Bestor Art Park|       105.33|\n",
      "|             337|Webster St at 19t...|       171.38|\n",
      "|             301|Willow St at Vine St|       199.84|\n",
      "|             338|13th St at Frankl...|        234.4|\n",
      "|             216|San Pablo Ave at ...|       234.46|\n",
      "|             131|Dolores St at 22n...|        244.9|\n",
      "|             265|Ninth St at Parke...|       277.76|\n",
      "|             288|Mission St at 1st St|       285.67|\n",
      "|             206|College Ave at Br...|       322.96|\n",
      "|             258|University Ave at...|        330.6|\n",
      "|             263|Channing Way at S...|        343.0|\n",
      "|             254|Vine St at Shattu...|       373.02|\n",
      "+----------------+--------------------+-------------+\n",
      "only showing top 20 rows\n",
      "\n"
     ]
    }
   ],
   "source": [
    "df.groupBy('start_station_id', 'start_station_name').agg({'revenue' : 'sum'}).\\\n",
    "withColumn('total_revenue', func.round('sum(revenue)', 2)).\\\n",
    "orderBy('total_revenue', ascending = True).\\\n",
    "drop('sum(revenue)').\\\n",
    "show()"
   ]
  },
  {
   "cell_type": "code",
   "execution_count": null,
   "id": "08de12aa",
   "metadata": {},
   "outputs": [],
   "source": []
  },
  {
   "cell_type": "code",
   "execution_count": null,
   "id": "8e97b225",
   "metadata": {},
   "outputs": [],
   "source": []
  },
  {
   "cell_type": "code",
   "execution_count": null,
   "id": "b2800fd9",
   "metadata": {},
   "outputs": [],
   "source": []
  },
  {
   "cell_type": "markdown",
   "id": "f0b32df6",
   "metadata": {},
   "source": [
    "# 2 - What type of customer should we attract to increase our revenue?"
   ]
  },
  {
   "cell_type": "code",
   "execution_count": 76,
   "id": "c6c8bb55",
   "metadata": {
    "ExecuteTime": {
     "end_time": "2023-03-17T22:55:37.407353Z",
     "start_time": "2023-03-17T22:55:37.402355Z"
    }
   },
   "outputs": [
    {
     "name": "stdout",
     "output_type": "stream",
     "text": [
      "root\n",
      " |-- duration_sec: string (nullable = true)\n",
      " |-- start_time: timestamp (nullable = true)\n",
      " |-- end_time: timestamp (nullable = true)\n",
      " |-- start_station_id: string (nullable = true)\n",
      " |-- start_station_name: string (nullable = true)\n",
      " |-- start_station_latitude: string (nullable = true)\n",
      " |-- start_station_longitude: string (nullable = true)\n",
      " |-- end_station_id: string (nullable = true)\n",
      " |-- end_station_name: string (nullable = true)\n",
      " |-- end_station_latitude: string (nullable = true)\n",
      " |-- end_station_longitude: string (nullable = true)\n",
      " |-- bike_id: string (nullable = true)\n",
      " |-- user_type: string (nullable = true)\n",
      " |-- member_birth_year: string (nullable = true)\n",
      " |-- member_gender: string (nullable = true)\n",
      " |-- duration_minutes: double (nullable = true)\n",
      " |-- revenue: double (nullable = true)\n",
      "\n"
     ]
    }
   ],
   "source": [
    "df.printSchema()"
   ]
  },
  {
   "cell_type": "code",
   "execution_count": 83,
   "id": "887ba61b",
   "metadata": {
    "ExecuteTime": {
     "end_time": "2023-03-17T22:57:40.871992Z",
     "start_time": "2023-03-17T22:57:39.866132Z"
    }
   },
   "outputs": [
    {
     "name": "stdout",
     "output_type": "stream",
     "text": [
      "+----------+-----------------+-------------+------------------+\n",
      "| user_type|member_birth_year|member_gender|      sum(revenue)|\n",
      "+----------+-----------------+-------------+------------------+\n",
      "|  Customer|             null|         null|1110665.1700000002|\n",
      "|Subscriber|             1985|         Male| 65985.81000000003|\n",
      "|Subscriber|             1982|         Male|59135.889999999985|\n",
      "|Subscriber|             1984|         Male|          55889.19|\n",
      "|Subscriber|             1988|         Male| 55795.19999999999|\n",
      "|Subscriber|             1987|         Male| 54366.89000000002|\n",
      "|Subscriber|             1983|         Male|53105.909999999996|\n",
      "|Subscriber|             1986|         Male| 52586.86000000001|\n",
      "|Subscriber|             1989|         Male|46748.989999999976|\n",
      "|Subscriber|             1980|         Male| 42171.77000000001|\n",
      "|Subscriber|             1981|         Male| 39461.00000000001|\n",
      "|Subscriber|             1991|         Male|           39313.4|\n",
      "|Subscriber|             1975|         Male|          37299.39|\n",
      "|Subscriber|             1990|         Male|37222.029999999984|\n",
      "|Subscriber|             1993|         Male|35116.729999999996|\n",
      "|Subscriber|             1979|         Male| 33569.33000000001|\n",
      "|Subscriber|             1977|         Male|30527.929999999993|\n",
      "|Subscriber|             1978|         Male|29241.119999999995|\n",
      "|Subscriber|             1992|         Male|29151.429999999982|\n",
      "|Subscriber|             1973|         Male|28311.559999999998|\n",
      "+----------+-----------------+-------------+------------------+\n",
      "only showing top 20 rows\n",
      "\n"
     ]
    }
   ],
   "source": [
    "df.groupBy('user_type', 'member_birth_year', 'member_gender').agg({'revenue':'sum'}).orderBy('sum(revenue)', ascending = False).show()"
   ]
  },
  {
   "cell_type": "code",
   "execution_count": 84,
   "id": "38bd1bb0",
   "metadata": {
    "ExecuteTime": {
     "end_time": "2023-03-17T22:58:07.463270Z",
     "start_time": "2023-03-17T22:58:06.364158Z"
    }
   },
   "outputs": [
    {
     "name": "stdout",
     "output_type": "stream",
     "text": [
      "+----------+-----------------+-------------+------------------+\n",
      "| user_type|member_birth_year|member_gender|      sum(revenue)|\n",
      "+----------+-----------------+-------------+------------------+\n",
      "|Subscriber|             1946|       Female|              2.84|\n",
      "|Subscriber|             1961|        Other|              4.29|\n",
      "|  Customer|             1901|         Male|              5.09|\n",
      "|  Customer|             1960|        Other|               5.5|\n",
      "|Subscriber|             1944|       Female|              6.35|\n",
      "|  Customer|             1958|        Other|              7.78|\n",
      "|  Customer|             1964|        Other|              8.03|\n",
      "|Subscriber|             1911|        Other|              8.39|\n",
      "|  Customer|             1900|         Male|              9.43|\n",
      "|  Customer|             1934|         Male|             10.22|\n",
      "|  Customer|             1957|        Other|10.329999999999998|\n",
      "|  Customer|             1901|        Other|10.370000000000001|\n",
      "|  Customer|             1961|        Other|             10.48|\n",
      "|  Customer|             1999|        Other|             11.78|\n",
      "|  Customer|             1947|        Other|             16.72|\n",
      "|  Customer|             1959|        Other|             18.95|\n",
      "|  Customer|             1997|        Other|             20.59|\n",
      "|  Customer|             1944|         Male|             22.66|\n",
      "|  Customer|             1940|         Male|              24.0|\n",
      "|  Customer|             1939|         Male|             24.36|\n",
      "+----------+-----------------+-------------+------------------+\n",
      "only showing top 20 rows\n",
      "\n"
     ]
    }
   ],
   "source": [
    "df.groupBy('user_type', 'member_birth_year', 'member_gender').agg({'revenue':'sum'}).orderBy('sum(revenue)', ascending = True).show()"
   ]
  },
  {
   "cell_type": "code",
   "execution_count": 85,
   "id": "f2a034cb",
   "metadata": {
    "ExecuteTime": {
     "end_time": "2023-03-17T22:59:28.953709Z",
     "start_time": "2023-03-17T22:59:28.311801Z"
    }
   },
   "outputs": [
    {
     "name": "stdout",
     "output_type": "stream",
     "text": [
      "+-------------+------------------+\n",
      "|member_gender|      sum(revenue)|\n",
      "+-------------+------------------+\n",
      "|         Male|1573530.7900000021|\n",
      "|         null|1129278.0999999999|\n",
      "|       Female| 591319.3199999998|\n",
      "|        Other|          37431.06|\n",
      "+-------------+------------------+\n",
      "\n"
     ]
    }
   ],
   "source": [
    "df.groupBy('member_gender').agg({'revenue':'sum'}).orderBy('sum(revenue)',ascending = False).show()"
   ]
  },
  {
   "cell_type": "code",
   "execution_count": 86,
   "id": "5e24b21c",
   "metadata": {
    "ExecuteTime": {
     "end_time": "2023-03-17T22:59:47.921422Z",
     "start_time": "2023-03-17T22:59:47.242421Z"
    }
   },
   "outputs": [
    {
     "name": "stdout",
     "output_type": "stream",
     "text": [
      "+-----------------+------------------+\n",
      "|member_birth_year|      sum(revenue)|\n",
      "+-----------------+------------------+\n",
      "|             null|        1129815.45|\n",
      "|             1987|118012.13000000002|\n",
      "|             1985|115359.60999999999|\n",
      "|             1988| 103050.2800000001|\n",
      "|             1982| 96167.28000000004|\n",
      "|             1986| 95738.18999999999|\n",
      "|             1984| 95327.69999999997|\n",
      "|             1983|          90454.41|\n",
      "|             1989| 89464.04000000005|\n",
      "|             1990|          86062.25|\n",
      "|             1991| 76758.10000000002|\n",
      "|             1980|          71545.36|\n",
      "|             1981|          70904.18|\n",
      "|             1992| 66489.86000000002|\n",
      "|             1993| 62918.08000000001|\n",
      "|             1975| 56164.21000000001|\n",
      "|             1979| 55250.36000000002|\n",
      "|             1977| 53776.43000000001|\n",
      "|             1994| 53523.82000000001|\n",
      "|             1978| 48094.99999999998|\n",
      "+-----------------+------------------+\n",
      "only showing top 20 rows\n",
      "\n"
     ]
    }
   ],
   "source": [
    "df.groupBy('member_birth_year').agg({'revenue':'sum'}).orderBy('sum(revenue)',ascending = False).show()"
   ]
  },
  {
   "cell_type": "code",
   "execution_count": 87,
   "id": "c190294c",
   "metadata": {
    "ExecuteTime": {
     "end_time": "2023-03-17T23:00:52.806204Z",
     "start_time": "2023-03-17T23:00:52.129253Z"
    }
   },
   "outputs": [
    {
     "name": "stdout",
     "output_type": "stream",
     "text": [
      "+-----------------+------------------+\n",
      "|member_birth_year|      sum(revenue)|\n",
      "+-----------------+------------------+\n",
      "|             1901|             15.46|\n",
      "|             1886|             25.16|\n",
      "|             1911|             49.86|\n",
      "|             1928|             74.29|\n",
      "|             1934|124.50999999999999|\n",
      "|             1938|            130.63|\n",
      "|             1933|            177.77|\n",
      "|             1940|181.89999999999998|\n",
      "|             1939|            190.09|\n",
      "|             1935|211.41999999999996|\n",
      "|             1924|            286.49|\n",
      "|             1942|            314.01|\n",
      "|             1907|            331.61|\n",
      "|             1943|            557.66|\n",
      "|             1941|            635.69|\n",
      "|             1902| 674.1600000000001|\n",
      "|             1900| 722.9200000000001|\n",
      "|             1946|1400.4299999999996|\n",
      "|             1945|1451.3899999999999|\n",
      "|             1944|1535.2399999999998|\n",
      "+-----------------+------------------+\n",
      "only showing top 20 rows\n",
      "\n"
     ]
    }
   ],
   "source": [
    "df.groupBy('member_birth_year').agg({'revenue':'sum'}).orderBy('sum(revenue)',ascending = True).show()"
   ]
  },
  {
   "cell_type": "code",
   "execution_count": 88,
   "id": "4b10ba05",
   "metadata": {
    "ExecuteTime": {
     "end_time": "2023-03-17T23:01:20.313022Z",
     "start_time": "2023-03-17T23:01:19.781577Z"
    }
   },
   "outputs": [
    {
     "name": "stdout",
     "output_type": "stream",
     "text": [
      "+----------+------------------+\n",
      "| user_type|      sum(revenue)|\n",
      "+----------+------------------+\n",
      "|  Customer|1647876.9500000007|\n",
      "|Subscriber|1683682.3200000015|\n",
      "+----------+------------------+\n",
      "\n"
     ]
    }
   ],
   "source": [
    "df.groupBy('user_type').agg({'revenue':'sum'}).orderBy('sum(revenue)',ascending = True).show()"
   ]
  },
  {
   "cell_type": "code",
   "execution_count": null,
   "id": "0f01ab78",
   "metadata": {},
   "outputs": [],
   "source": []
  }
 ],
 "metadata": {
  "kernelspec": {
   "display_name": "Python 3 (ipykernel)",
   "language": "python",
   "name": "python3"
  },
  "language_info": {
   "codemirror_mode": {
    "name": "ipython",
    "version": 3
   },
   "file_extension": ".py",
   "mimetype": "text/x-python",
   "name": "python",
   "nbconvert_exporter": "python",
   "pygments_lexer": "ipython3",
   "version": "3.9.13"
  },
  "toc": {
   "base_numbering": 1,
   "nav_menu": {},
   "number_sections": true,
   "sideBar": true,
   "skip_h1_title": false,
   "title_cell": "Table of Contents",
   "title_sidebar": "Contents",
   "toc_cell": false,
   "toc_position": {},
   "toc_section_display": true,
   "toc_window_display": false
  },
  "varInspector": {
   "cols": {
    "lenName": 16,
    "lenType": 16,
    "lenVar": 40
   },
   "kernels_config": {
    "python": {
     "delete_cmd_postfix": "",
     "delete_cmd_prefix": "del ",
     "library": "var_list.py",
     "varRefreshCmd": "print(var_dic_list())"
    },
    "r": {
     "delete_cmd_postfix": ") ",
     "delete_cmd_prefix": "rm(",
     "library": "var_list.r",
     "varRefreshCmd": "cat(var_dic_list()) "
    }
   },
   "types_to_exclude": [
    "module",
    "function",
    "builtin_function_or_method",
    "instance",
    "_Feature"
   ],
   "window_display": false
  }
 },
 "nbformat": 4,
 "nbformat_minor": 5
}
