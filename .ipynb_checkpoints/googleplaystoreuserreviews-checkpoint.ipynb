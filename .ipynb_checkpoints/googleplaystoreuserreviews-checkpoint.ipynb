{
 "cells": [
  {
   "cell_type": "code",
   "execution_count": 5,
   "id": "0711b040",
   "metadata": {
    "ExecuteTime": {
     "end_time": "2023-01-19T15:26:02.049024Z",
     "start_time": "2023-01-19T15:26:02.039774Z"
    }
   },
   "outputs": [],
   "source": [
    "import numpy as np\n",
    "import pandas as pd\n",
    "import seaborn as sns\n",
    "import matplotlib.pyplot as plt"
   ]
  },
  {
   "cell_type": "code",
   "execution_count": 6,
   "id": "6d0bf411",
   "metadata": {
    "ExecuteTime": {
     "end_time": "2023-01-19T15:26:03.788170Z",
     "start_time": "2023-01-19T15:26:03.590945Z"
    },
    "scrolled": true
   },
   "outputs": [],
   "source": [
    "df = pd.read_csv(\"C:/Users/mkaya/Downloads/googleplaystore_user_reviews.csv\")"
   ]
  },
  {
   "cell_type": "code",
   "execution_count": 7,
   "id": "fc0e71be",
   "metadata": {
    "ExecuteTime": {
     "end_time": "2023-01-19T15:26:05.657186Z",
     "start_time": "2023-01-19T15:26:05.640706Z"
    }
   },
   "outputs": [
    {
     "data": {
      "text/html": [
       "<div>\n",
       "<style scoped>\n",
       "    .dataframe tbody tr th:only-of-type {\n",
       "        vertical-align: middle;\n",
       "    }\n",
       "\n",
       "    .dataframe tbody tr th {\n",
       "        vertical-align: top;\n",
       "    }\n",
       "\n",
       "    .dataframe thead th {\n",
       "        text-align: right;\n",
       "    }\n",
       "</style>\n",
       "<table border=\"1\" class=\"dataframe\">\n",
       "  <thead>\n",
       "    <tr style=\"text-align: right;\">\n",
       "      <th></th>\n",
       "      <th>App</th>\n",
       "      <th>Translated_Review</th>\n",
       "      <th>Sentiment</th>\n",
       "      <th>Sentiment_Polarity</th>\n",
       "      <th>Sentiment_Subjectivity</th>\n",
       "    </tr>\n",
       "  </thead>\n",
       "  <tbody>\n",
       "    <tr>\n",
       "      <th>0</th>\n",
       "      <td>10 Best Foods for You</td>\n",
       "      <td>I like eat delicious food. That's I'm cooking ...</td>\n",
       "      <td>Positive</td>\n",
       "      <td>1.00</td>\n",
       "      <td>0.533333</td>\n",
       "    </tr>\n",
       "    <tr>\n",
       "      <th>1</th>\n",
       "      <td>10 Best Foods for You</td>\n",
       "      <td>This help eating healthy exercise regular basis</td>\n",
       "      <td>Positive</td>\n",
       "      <td>0.25</td>\n",
       "      <td>0.288462</td>\n",
       "    </tr>\n",
       "    <tr>\n",
       "      <th>2</th>\n",
       "      <td>10 Best Foods for You</td>\n",
       "      <td>NaN</td>\n",
       "      <td>NaN</td>\n",
       "      <td>NaN</td>\n",
       "      <td>NaN</td>\n",
       "    </tr>\n",
       "    <tr>\n",
       "      <th>3</th>\n",
       "      <td>10 Best Foods for You</td>\n",
       "      <td>Works great especially going grocery store</td>\n",
       "      <td>Positive</td>\n",
       "      <td>0.40</td>\n",
       "      <td>0.875000</td>\n",
       "    </tr>\n",
       "    <tr>\n",
       "      <th>4</th>\n",
       "      <td>10 Best Foods for You</td>\n",
       "      <td>Best idea us</td>\n",
       "      <td>Positive</td>\n",
       "      <td>1.00</td>\n",
       "      <td>0.300000</td>\n",
       "    </tr>\n",
       "    <tr>\n",
       "      <th>...</th>\n",
       "      <td>...</td>\n",
       "      <td>...</td>\n",
       "      <td>...</td>\n",
       "      <td>...</td>\n",
       "      <td>...</td>\n",
       "    </tr>\n",
       "    <tr>\n",
       "      <th>64290</th>\n",
       "      <td>Houzz Interior Design Ideas</td>\n",
       "      <td>NaN</td>\n",
       "      <td>NaN</td>\n",
       "      <td>NaN</td>\n",
       "      <td>NaN</td>\n",
       "    </tr>\n",
       "    <tr>\n",
       "      <th>64291</th>\n",
       "      <td>Houzz Interior Design Ideas</td>\n",
       "      <td>NaN</td>\n",
       "      <td>NaN</td>\n",
       "      <td>NaN</td>\n",
       "      <td>NaN</td>\n",
       "    </tr>\n",
       "    <tr>\n",
       "      <th>64292</th>\n",
       "      <td>Houzz Interior Design Ideas</td>\n",
       "      <td>NaN</td>\n",
       "      <td>NaN</td>\n",
       "      <td>NaN</td>\n",
       "      <td>NaN</td>\n",
       "    </tr>\n",
       "    <tr>\n",
       "      <th>64293</th>\n",
       "      <td>Houzz Interior Design Ideas</td>\n",
       "      <td>NaN</td>\n",
       "      <td>NaN</td>\n",
       "      <td>NaN</td>\n",
       "      <td>NaN</td>\n",
       "    </tr>\n",
       "    <tr>\n",
       "      <th>64294</th>\n",
       "      <td>Houzz Interior Design Ideas</td>\n",
       "      <td>NaN</td>\n",
       "      <td>NaN</td>\n",
       "      <td>NaN</td>\n",
       "      <td>NaN</td>\n",
       "    </tr>\n",
       "  </tbody>\n",
       "</table>\n",
       "<p>64295 rows × 5 columns</p>\n",
       "</div>"
      ],
      "text/plain": [
       "                               App  \\\n",
       "0            10 Best Foods for You   \n",
       "1            10 Best Foods for You   \n",
       "2            10 Best Foods for You   \n",
       "3            10 Best Foods for You   \n",
       "4            10 Best Foods for You   \n",
       "...                            ...   \n",
       "64290  Houzz Interior Design Ideas   \n",
       "64291  Houzz Interior Design Ideas   \n",
       "64292  Houzz Interior Design Ideas   \n",
       "64293  Houzz Interior Design Ideas   \n",
       "64294  Houzz Interior Design Ideas   \n",
       "\n",
       "                                       Translated_Review Sentiment  \\\n",
       "0      I like eat delicious food. That's I'm cooking ...  Positive   \n",
       "1        This help eating healthy exercise regular basis  Positive   \n",
       "2                                                    NaN       NaN   \n",
       "3             Works great especially going grocery store  Positive   \n",
       "4                                           Best idea us  Positive   \n",
       "...                                                  ...       ...   \n",
       "64290                                                NaN       NaN   \n",
       "64291                                                NaN       NaN   \n",
       "64292                                                NaN       NaN   \n",
       "64293                                                NaN       NaN   \n",
       "64294                                                NaN       NaN   \n",
       "\n",
       "       Sentiment_Polarity  Sentiment_Subjectivity  \n",
       "0                    1.00                0.533333  \n",
       "1                    0.25                0.288462  \n",
       "2                     NaN                     NaN  \n",
       "3                    0.40                0.875000  \n",
       "4                    1.00                0.300000  \n",
       "...                   ...                     ...  \n",
       "64290                 NaN                     NaN  \n",
       "64291                 NaN                     NaN  \n",
       "64292                 NaN                     NaN  \n",
       "64293                 NaN                     NaN  \n",
       "64294                 NaN                     NaN  \n",
       "\n",
       "[64295 rows x 5 columns]"
      ]
     },
     "execution_count": 7,
     "metadata": {},
     "output_type": "execute_result"
    }
   ],
   "source": [
    "df"
   ]
  },
  {
   "cell_type": "code",
   "execution_count": 8,
   "id": "b487f313",
   "metadata": {
    "ExecuteTime": {
     "end_time": "2023-01-19T15:26:12.908031Z",
     "start_time": "2023-01-19T15:26:12.870315Z"
    }
   },
   "outputs": [
    {
     "name": "stdout",
     "output_type": "stream",
     "text": [
      "<class 'pandas.core.frame.DataFrame'>\n",
      "RangeIndex: 64295 entries, 0 to 64294\n",
      "Data columns (total 5 columns):\n",
      " #   Column                  Non-Null Count  Dtype  \n",
      "---  ------                  --------------  -----  \n",
      " 0   App                     64295 non-null  object \n",
      " 1   Translated_Review       37427 non-null  object \n",
      " 2   Sentiment               37432 non-null  object \n",
      " 3   Sentiment_Polarity      37432 non-null  float64\n",
      " 4   Sentiment_Subjectivity  37432 non-null  float64\n",
      "dtypes: float64(2), object(3)\n",
      "memory usage: 2.5+ MB\n"
     ]
    }
   ],
   "source": [
    "df.info()"
   ]
  },
  {
   "cell_type": "code",
   "execution_count": 14,
   "id": "3e3d905f",
   "metadata": {
    "ExecuteTime": {
     "end_time": "2023-01-19T15:27:22.623998Z",
     "start_time": "2023-01-19T15:27:22.586603Z"
    }
   },
   "outputs": [
    {
     "data": {
      "text/plain": [
       "App                           0\n",
       "Translated_Review         26868\n",
       "Sentiment                 26863\n",
       "Sentiment_Polarity        26863\n",
       "Sentiment_Subjectivity    26863\n",
       "dtype: int64"
      ]
     },
     "execution_count": 14,
     "metadata": {},
     "output_type": "execute_result"
    }
   ],
   "source": [
    "df.isna().sum()"
   ]
  },
  {
   "cell_type": "code",
   "execution_count": 15,
   "id": "b13ec06a",
   "metadata": {
    "ExecuteTime": {
     "end_time": "2023-01-19T15:28:53.080489Z",
     "start_time": "2023-01-19T15:28:53.061472Z"
    }
   },
   "outputs": [
    {
     "data": {
      "text/html": [
       "<div>\n",
       "<style scoped>\n",
       "    .dataframe tbody tr th:only-of-type {\n",
       "        vertical-align: middle;\n",
       "    }\n",
       "\n",
       "    .dataframe tbody tr th {\n",
       "        vertical-align: top;\n",
       "    }\n",
       "\n",
       "    .dataframe thead th {\n",
       "        text-align: right;\n",
       "    }\n",
       "</style>\n",
       "<table border=\"1\" class=\"dataframe\">\n",
       "  <thead>\n",
       "    <tr style=\"text-align: right;\">\n",
       "      <th></th>\n",
       "      <th>Sentiment_Polarity</th>\n",
       "      <th>Sentiment_Subjectivity</th>\n",
       "    </tr>\n",
       "  </thead>\n",
       "  <tbody>\n",
       "    <tr>\n",
       "      <th>count</th>\n",
       "      <td>37432.000000</td>\n",
       "      <td>37432.000000</td>\n",
       "    </tr>\n",
       "    <tr>\n",
       "      <th>mean</th>\n",
       "      <td>0.182146</td>\n",
       "      <td>0.492704</td>\n",
       "    </tr>\n",
       "    <tr>\n",
       "      <th>std</th>\n",
       "      <td>0.351301</td>\n",
       "      <td>0.259949</td>\n",
       "    </tr>\n",
       "    <tr>\n",
       "      <th>min</th>\n",
       "      <td>-1.000000</td>\n",
       "      <td>0.000000</td>\n",
       "    </tr>\n",
       "    <tr>\n",
       "      <th>25%</th>\n",
       "      <td>0.000000</td>\n",
       "      <td>0.357143</td>\n",
       "    </tr>\n",
       "    <tr>\n",
       "      <th>50%</th>\n",
       "      <td>0.150000</td>\n",
       "      <td>0.514286</td>\n",
       "    </tr>\n",
       "    <tr>\n",
       "      <th>75%</th>\n",
       "      <td>0.400000</td>\n",
       "      <td>0.650000</td>\n",
       "    </tr>\n",
       "    <tr>\n",
       "      <th>max</th>\n",
       "      <td>1.000000</td>\n",
       "      <td>1.000000</td>\n",
       "    </tr>\n",
       "  </tbody>\n",
       "</table>\n",
       "</div>"
      ],
      "text/plain": [
       "       Sentiment_Polarity  Sentiment_Subjectivity\n",
       "count        37432.000000            37432.000000\n",
       "mean             0.182146                0.492704\n",
       "std              0.351301                0.259949\n",
       "min             -1.000000                0.000000\n",
       "25%              0.000000                0.357143\n",
       "50%              0.150000                0.514286\n",
       "75%              0.400000                0.650000\n",
       "max              1.000000                1.000000"
      ]
     },
     "execution_count": 15,
     "metadata": {},
     "output_type": "execute_result"
    }
   ],
   "source": [
    "df.describe()"
   ]
  },
  {
   "cell_type": "code",
   "execution_count": 20,
   "id": "db053b23",
   "metadata": {
    "ExecuteTime": {
     "end_time": "2023-01-19T15:30:56.150199Z",
     "start_time": "2023-01-19T15:30:56.132449Z"
    },
    "scrolled": false
   },
   "outputs": [
    {
     "data": {
      "text/html": [
       "<div>\n",
       "<style scoped>\n",
       "    .dataframe tbody tr th:only-of-type {\n",
       "        vertical-align: middle;\n",
       "    }\n",
       "\n",
       "    .dataframe tbody tr th {\n",
       "        vertical-align: top;\n",
       "    }\n",
       "\n",
       "    .dataframe thead th {\n",
       "        text-align: right;\n",
       "    }\n",
       "</style>\n",
       "<table border=\"1\" class=\"dataframe\">\n",
       "  <thead>\n",
       "    <tr style=\"text-align: right;\">\n",
       "      <th></th>\n",
       "      <th>Sentiment_Polarity</th>\n",
       "      <th>Sentiment_Subjectivity</th>\n",
       "    </tr>\n",
       "    <tr>\n",
       "      <th>App</th>\n",
       "      <th></th>\n",
       "      <th></th>\n",
       "    </tr>\n",
       "  </thead>\n",
       "  <tbody>\n",
       "    <tr>\n",
       "      <th>10 Best Foods for You</th>\n",
       "      <td>0.470733</td>\n",
       "      <td>0.495455</td>\n",
       "    </tr>\n",
       "    <tr>\n",
       "      <th>104 找工作 - 找工作 找打工 找兼職 履歷健檢 履歷診療室</th>\n",
       "      <td>0.392405</td>\n",
       "      <td>0.545516</td>\n",
       "    </tr>\n",
       "    <tr>\n",
       "      <th>11st</th>\n",
       "      <td>0.181294</td>\n",
       "      <td>0.443957</td>\n",
       "    </tr>\n",
       "    <tr>\n",
       "      <th>1800 Contacts - Lens Store</th>\n",
       "      <td>0.318145</td>\n",
       "      <td>0.591098</td>\n",
       "    </tr>\n",
       "    <tr>\n",
       "      <th>1LINE – One Line with One Touch</th>\n",
       "      <td>0.196290</td>\n",
       "      <td>0.557315</td>\n",
       "    </tr>\n",
       "    <tr>\n",
       "      <th>...</th>\n",
       "      <td>...</td>\n",
       "      <td>...</td>\n",
       "    </tr>\n",
       "    <tr>\n",
       "      <th>Hotspot Shield Free VPN Proxy &amp; Wi-Fi Security</th>\n",
       "      <td>0.251765</td>\n",
       "      <td>0.393284</td>\n",
       "    </tr>\n",
       "    <tr>\n",
       "      <th>Hotstar</th>\n",
       "      <td>0.038178</td>\n",
       "      <td>0.493964</td>\n",
       "    </tr>\n",
       "    <tr>\n",
       "      <th>Hotwire Hotel &amp; Car Rental App</th>\n",
       "      <td>0.187029</td>\n",
       "      <td>0.459717</td>\n",
       "    </tr>\n",
       "    <tr>\n",
       "      <th>Housing-Real Estate &amp; Property</th>\n",
       "      <td>-0.021427</td>\n",
       "      <td>0.378532</td>\n",
       "    </tr>\n",
       "    <tr>\n",
       "      <th>Houzz Interior Design Ideas</th>\n",
       "      <td>NaN</td>\n",
       "      <td>NaN</td>\n",
       "    </tr>\n",
       "  </tbody>\n",
       "</table>\n",
       "<p>1074 rows × 2 columns</p>\n",
       "</div>"
      ],
      "text/plain": [
       "                                                Sentiment_Polarity  \\\n",
       "App                                                                  \n",
       "10 Best Foods for You                                     0.470733   \n",
       "104 找工作 - 找工作 找打工 找兼職 履歷健檢 履歷診療室                          0.392405   \n",
       "11st                                                      0.181294   \n",
       "1800 Contacts - Lens Store                                0.318145   \n",
       "1LINE – One Line with One Touch                           0.196290   \n",
       "...                                                            ...   \n",
       "Hotspot Shield Free VPN Proxy & Wi-Fi Security            0.251765   \n",
       "Hotstar                                                   0.038178   \n",
       "Hotwire Hotel & Car Rental App                            0.187029   \n",
       "Housing-Real Estate & Property                           -0.021427   \n",
       "Houzz Interior Design Ideas                                    NaN   \n",
       "\n",
       "                                                Sentiment_Subjectivity  \n",
       "App                                                                     \n",
       "10 Best Foods for You                                         0.495455  \n",
       "104 找工作 - 找工作 找打工 找兼職 履歷健檢 履歷診療室                              0.545516  \n",
       "11st                                                          0.443957  \n",
       "1800 Contacts - Lens Store                                    0.591098  \n",
       "1LINE – One Line with One Touch                               0.557315  \n",
       "...                                                                ...  \n",
       "Hotspot Shield Free VPN Proxy & Wi-Fi Security                0.393284  \n",
       "Hotstar                                                       0.493964  \n",
       "Hotwire Hotel & Car Rental App                                0.459717  \n",
       "Housing-Real Estate & Property                                0.378532  \n",
       "Houzz Interior Design Ideas                                        NaN  \n",
       "\n",
       "[1074 rows x 2 columns]"
      ]
     },
     "execution_count": 20,
     "metadata": {},
     "output_type": "execute_result"
    }
   ],
   "source": [
    "df.groupby(\"App\").mean()"
   ]
  },
  {
   "cell_type": "code",
   "execution_count": 215,
   "id": "bc29e274",
   "metadata": {
    "ExecuteTime": {
     "end_time": "2023-01-19T16:49:46.724017Z",
     "start_time": "2023-01-19T16:49:46.713008Z"
    }
   },
   "outputs": [
    {
     "data": {
      "text/plain": [
       "(1074, 2)"
      ]
     },
     "execution_count": 215,
     "metadata": {},
     "output_type": "execute_result"
    }
   ],
   "source": [
    "df.groupby(\"App\").mean().shape"
   ]
  },
  {
   "cell_type": "code",
   "execution_count": 27,
   "id": "23f7e159",
   "metadata": {
    "ExecuteTime": {
     "end_time": "2023-01-19T15:33:16.118716Z",
     "start_time": "2023-01-19T15:33:16.078933Z"
    }
   },
   "outputs": [
    {
     "name": "stdout",
     "output_type": "stream",
     "text": [
      "(64295, 5) (30679, 5)\n"
     ]
    }
   ],
   "source": [
    "print(df.shape,df.drop_duplicates().shape)"
   ]
  },
  {
   "cell_type": "code",
   "execution_count": 139,
   "id": "d728dff4",
   "metadata": {
    "ExecuteTime": {
     "end_time": "2023-01-19T16:15:22.216980Z",
     "start_time": "2023-01-19T16:15:22.212976Z"
    }
   },
   "outputs": [],
   "source": [
    "df_copy = df.copy()"
   ]
  },
  {
   "cell_type": "code",
   "execution_count": 140,
   "id": "aeaa0e04",
   "metadata": {
    "ExecuteTime": {
     "end_time": "2023-01-19T16:15:26.178910Z",
     "start_time": "2023-01-19T16:15:26.149319Z"
    }
   },
   "outputs": [],
   "source": [
    "df_copy.drop_duplicates(inplace = True)"
   ]
  },
  {
   "cell_type": "code",
   "execution_count": 141,
   "id": "e6c35b8a",
   "metadata": {
    "ExecuteTime": {
     "end_time": "2023-01-19T16:15:27.886577Z",
     "start_time": "2023-01-19T16:15:27.876568Z"
    }
   },
   "outputs": [
    {
     "data": {
      "text/plain": [
       "(30679, 5)"
      ]
     },
     "execution_count": 141,
     "metadata": {},
     "output_type": "execute_result"
    }
   ],
   "source": [
    "df_copy.shape"
   ]
  },
  {
   "cell_type": "code",
   "execution_count": 32,
   "id": "8502022e",
   "metadata": {
    "ExecuteTime": {
     "end_time": "2023-01-19T15:34:45.130105Z",
     "start_time": "2023-01-19T15:34:45.114480Z"
    }
   },
   "outputs": [
    {
     "data": {
      "text/html": [
       "<div>\n",
       "<style scoped>\n",
       "    .dataframe tbody tr th:only-of-type {\n",
       "        vertical-align: middle;\n",
       "    }\n",
       "\n",
       "    .dataframe tbody tr th {\n",
       "        vertical-align: top;\n",
       "    }\n",
       "\n",
       "    .dataframe thead th {\n",
       "        text-align: right;\n",
       "    }\n",
       "</style>\n",
       "<table border=\"1\" class=\"dataframe\">\n",
       "  <thead>\n",
       "    <tr style=\"text-align: right;\">\n",
       "      <th></th>\n",
       "      <th>Sentiment_Polarity</th>\n",
       "      <th>Sentiment_Subjectivity</th>\n",
       "    </tr>\n",
       "    <tr>\n",
       "      <th>App</th>\n",
       "      <th></th>\n",
       "      <th></th>\n",
       "    </tr>\n",
       "  </thead>\n",
       "  <tbody>\n",
       "    <tr>\n",
       "      <th>10 Best Foods for You</th>\n",
       "      <td>0.465906</td>\n",
       "      <td>0.493254</td>\n",
       "    </tr>\n",
       "    <tr>\n",
       "      <th>104 找工作 - 找工作 找打工 找兼職 履歷健檢 履歷診療室</th>\n",
       "      <td>0.358227</td>\n",
       "      <td>0.508907</td>\n",
       "    </tr>\n",
       "    <tr>\n",
       "      <th>11st</th>\n",
       "      <td>0.181294</td>\n",
       "      <td>0.443957</td>\n",
       "    </tr>\n",
       "    <tr>\n",
       "      <th>1800 Contacts - Lens Store</th>\n",
       "      <td>0.318145</td>\n",
       "      <td>0.591098</td>\n",
       "    </tr>\n",
       "    <tr>\n",
       "      <th>1LINE – One Line with One Touch</th>\n",
       "      <td>0.196290</td>\n",
       "      <td>0.557315</td>\n",
       "    </tr>\n",
       "    <tr>\n",
       "      <th>...</th>\n",
       "      <td>...</td>\n",
       "      <td>...</td>\n",
       "    </tr>\n",
       "    <tr>\n",
       "      <th>Hotspot Shield Free VPN Proxy &amp; Wi-Fi Security</th>\n",
       "      <td>0.223750</td>\n",
       "      <td>0.380365</td>\n",
       "    </tr>\n",
       "    <tr>\n",
       "      <th>Hotstar</th>\n",
       "      <td>0.038178</td>\n",
       "      <td>0.493964</td>\n",
       "    </tr>\n",
       "    <tr>\n",
       "      <th>Hotwire Hotel &amp; Car Rental App</th>\n",
       "      <td>0.187029</td>\n",
       "      <td>0.459717</td>\n",
       "    </tr>\n",
       "    <tr>\n",
       "      <th>Housing-Real Estate &amp; Property</th>\n",
       "      <td>-0.021427</td>\n",
       "      <td>0.378532</td>\n",
       "    </tr>\n",
       "    <tr>\n",
       "      <th>Houzz Interior Design Ideas</th>\n",
       "      <td>NaN</td>\n",
       "      <td>NaN</td>\n",
       "    </tr>\n",
       "  </tbody>\n",
       "</table>\n",
       "<p>1074 rows × 2 columns</p>\n",
       "</div>"
      ],
      "text/plain": [
       "                                                Sentiment_Polarity  \\\n",
       "App                                                                  \n",
       "10 Best Foods for You                                     0.465906   \n",
       "104 找工作 - 找工作 找打工 找兼職 履歷健檢 履歷診療室                          0.358227   \n",
       "11st                                                      0.181294   \n",
       "1800 Contacts - Lens Store                                0.318145   \n",
       "1LINE – One Line with One Touch                           0.196290   \n",
       "...                                                            ...   \n",
       "Hotspot Shield Free VPN Proxy & Wi-Fi Security            0.223750   \n",
       "Hotstar                                                   0.038178   \n",
       "Hotwire Hotel & Car Rental App                            0.187029   \n",
       "Housing-Real Estate & Property                           -0.021427   \n",
       "Houzz Interior Design Ideas                                    NaN   \n",
       "\n",
       "                                                Sentiment_Subjectivity  \n",
       "App                                                                     \n",
       "10 Best Foods for You                                         0.493254  \n",
       "104 找工作 - 找工作 找打工 找兼職 履歷健檢 履歷診療室                              0.508907  \n",
       "11st                                                          0.443957  \n",
       "1800 Contacts - Lens Store                                    0.591098  \n",
       "1LINE – One Line with One Touch                               0.557315  \n",
       "...                                                                ...  \n",
       "Hotspot Shield Free VPN Proxy & Wi-Fi Security                0.380365  \n",
       "Hotstar                                                       0.493964  \n",
       "Hotwire Hotel & Car Rental App                                0.459717  \n",
       "Housing-Real Estate & Property                                0.378532  \n",
       "Houzz Interior Design Ideas                                        NaN  \n",
       "\n",
       "[1074 rows x 2 columns]"
      ]
     },
     "execution_count": 32,
     "metadata": {},
     "output_type": "execute_result"
    }
   ],
   "source": [
    "df_copy.groupby(\"App\").mean()"
   ]
  },
  {
   "cell_type": "code",
   "execution_count": 48,
   "id": "538bb712",
   "metadata": {
    "ExecuteTime": {
     "end_time": "2023-01-19T15:38:49.710212Z",
     "start_time": "2023-01-19T15:38:49.689089Z"
    }
   },
   "outputs": [],
   "source": [
    "missing = df_copy.isnull().sum()"
   ]
  },
  {
   "cell_type": "code",
   "execution_count": 49,
   "id": "705bd698",
   "metadata": {
    "ExecuteTime": {
     "end_time": "2023-01-19T15:38:49.925606Z",
     "start_time": "2023-01-19T15:38:49.911785Z"
    }
   },
   "outputs": [
    {
     "data": {
      "text/plain": [
       "array(['10 Best Foods for You', '104 找工作 - 找工作 找打工 找兼職 履歷健檢 履歷診療室',\n",
       "       '11st', ..., 'Hotwire Hotel & Car Rental App',\n",
       "       'Housing-Real Estate & Property', 'Houzz Interior Design Ideas'],\n",
       "      dtype=object)"
      ]
     },
     "execution_count": 49,
     "metadata": {},
     "output_type": "execute_result"
    }
   ],
   "source": [
    "df_copy.App.unique()"
   ]
  },
  {
   "cell_type": "code",
   "execution_count": 50,
   "id": "3d5c36e0",
   "metadata": {
    "ExecuteTime": {
     "end_time": "2023-01-19T15:38:50.337323Z",
     "start_time": "2023-01-19T15:38:50.310454Z"
    }
   },
   "outputs": [
    {
     "data": {
      "text/plain": [
       "Translated_Review         987\n",
       "Sentiment                 982\n",
       "Sentiment_Polarity        982\n",
       "Sentiment_Subjectivity    982\n",
       "dtype: int64"
      ]
     },
     "execution_count": 50,
     "metadata": {},
     "output_type": "execute_result"
    }
   ],
   "source": [
    "missing[missing > 0]"
   ]
  },
  {
   "cell_type": "code",
   "execution_count": 51,
   "id": "2770cd11",
   "metadata": {
    "ExecuteTime": {
     "end_time": "2023-01-19T15:38:53.037671Z",
     "start_time": "2023-01-19T15:38:53.032666Z"
    }
   },
   "outputs": [
    {
     "data": {
      "text/plain": [
       "App                         0\n",
       "Translated_Review         987\n",
       "Sentiment                 982\n",
       "Sentiment_Polarity        982\n",
       "Sentiment_Subjectivity    982\n",
       "dtype: int64"
      ]
     },
     "execution_count": 51,
     "metadata": {},
     "output_type": "execute_result"
    }
   ],
   "source": [
    "missing"
   ]
  },
  {
   "cell_type": "code",
   "execution_count": 52,
   "id": "694505bd",
   "metadata": {
    "ExecuteTime": {
     "end_time": "2023-01-19T15:38:58.005479Z",
     "start_time": "2023-01-19T15:38:57.992128Z"
    }
   },
   "outputs": [
    {
     "data": {
      "text/plain": [
       "Index(['App', 'Translated_Review', 'Sentiment', 'Sentiment_Polarity',\n",
       "       'Sentiment_Subjectivity'],\n",
       "      dtype='object')"
      ]
     },
     "execution_count": 52,
     "metadata": {},
     "output_type": "execute_result"
    }
   ],
   "source": [
    "df_copy.columns"
   ]
  },
  {
   "cell_type": "code",
   "execution_count": 142,
   "id": "0445d5db",
   "metadata": {
    "ExecuteTime": {
     "end_time": "2023-01-19T16:15:42.070699Z",
     "start_time": "2023-01-19T16:15:42.055402Z"
    }
   },
   "outputs": [
    {
     "data": {
      "text/html": [
       "<div>\n",
       "<style scoped>\n",
       "    .dataframe tbody tr th:only-of-type {\n",
       "        vertical-align: middle;\n",
       "    }\n",
       "\n",
       "    .dataframe tbody tr th {\n",
       "        vertical-align: top;\n",
       "    }\n",
       "\n",
       "    .dataframe thead th {\n",
       "        text-align: right;\n",
       "    }\n",
       "</style>\n",
       "<table border=\"1\" class=\"dataframe\">\n",
       "  <thead>\n",
       "    <tr style=\"text-align: right;\">\n",
       "      <th></th>\n",
       "      <th>Sentiment_Polarity</th>\n",
       "      <th>Sentiment_Subjectivity</th>\n",
       "    </tr>\n",
       "    <tr>\n",
       "      <th>App</th>\n",
       "      <th></th>\n",
       "      <th></th>\n",
       "    </tr>\n",
       "  </thead>\n",
       "  <tbody>\n",
       "    <tr>\n",
       "      <th>10 Best Foods for You</th>\n",
       "      <td>0.465906</td>\n",
       "      <td>0.493254</td>\n",
       "    </tr>\n",
       "    <tr>\n",
       "      <th>104 找工作 - 找工作 找打工 找兼職 履歷健檢 履歷診療室</th>\n",
       "      <td>0.358227</td>\n",
       "      <td>0.508907</td>\n",
       "    </tr>\n",
       "    <tr>\n",
       "      <th>11st</th>\n",
       "      <td>0.181294</td>\n",
       "      <td>0.443957</td>\n",
       "    </tr>\n",
       "    <tr>\n",
       "      <th>1800 Contacts - Lens Store</th>\n",
       "      <td>0.318145</td>\n",
       "      <td>0.591098</td>\n",
       "    </tr>\n",
       "    <tr>\n",
       "      <th>1LINE – One Line with One Touch</th>\n",
       "      <td>0.196290</td>\n",
       "      <td>0.557315</td>\n",
       "    </tr>\n",
       "    <tr>\n",
       "      <th>...</th>\n",
       "      <td>...</td>\n",
       "      <td>...</td>\n",
       "    </tr>\n",
       "    <tr>\n",
       "      <th>Hotspot Shield Free VPN Proxy &amp; Wi-Fi Security</th>\n",
       "      <td>0.223750</td>\n",
       "      <td>0.380365</td>\n",
       "    </tr>\n",
       "    <tr>\n",
       "      <th>Hotstar</th>\n",
       "      <td>0.038178</td>\n",
       "      <td>0.493964</td>\n",
       "    </tr>\n",
       "    <tr>\n",
       "      <th>Hotwire Hotel &amp; Car Rental App</th>\n",
       "      <td>0.187029</td>\n",
       "      <td>0.459717</td>\n",
       "    </tr>\n",
       "    <tr>\n",
       "      <th>Housing-Real Estate &amp; Property</th>\n",
       "      <td>-0.021427</td>\n",
       "      <td>0.378532</td>\n",
       "    </tr>\n",
       "    <tr>\n",
       "      <th>Houzz Interior Design Ideas</th>\n",
       "      <td>NaN</td>\n",
       "      <td>NaN</td>\n",
       "    </tr>\n",
       "  </tbody>\n",
       "</table>\n",
       "<p>1074 rows × 2 columns</p>\n",
       "</div>"
      ],
      "text/plain": [
       "                                                Sentiment_Polarity  \\\n",
       "App                                                                  \n",
       "10 Best Foods for You                                     0.465906   \n",
       "104 找工作 - 找工作 找打工 找兼職 履歷健檢 履歷診療室                          0.358227   \n",
       "11st                                                      0.181294   \n",
       "1800 Contacts - Lens Store                                0.318145   \n",
       "1LINE – One Line with One Touch                           0.196290   \n",
       "...                                                            ...   \n",
       "Hotspot Shield Free VPN Proxy & Wi-Fi Security            0.223750   \n",
       "Hotstar                                                   0.038178   \n",
       "Hotwire Hotel & Car Rental App                            0.187029   \n",
       "Housing-Real Estate & Property                           -0.021427   \n",
       "Houzz Interior Design Ideas                                    NaN   \n",
       "\n",
       "                                                Sentiment_Subjectivity  \n",
       "App                                                                     \n",
       "10 Best Foods for You                                         0.493254  \n",
       "104 找工作 - 找工作 找打工 找兼職 履歷健檢 履歷診療室                              0.508907  \n",
       "11st                                                          0.443957  \n",
       "1800 Contacts - Lens Store                                    0.591098  \n",
       "1LINE – One Line with One Touch                               0.557315  \n",
       "...                                                                ...  \n",
       "Hotspot Shield Free VPN Proxy & Wi-Fi Security                0.380365  \n",
       "Hotstar                                                       0.493964  \n",
       "Hotwire Hotel & Car Rental App                                0.459717  \n",
       "Housing-Real Estate & Property                                0.378532  \n",
       "Houzz Interior Design Ideas                                        NaN  \n",
       "\n",
       "[1074 rows x 2 columns]"
      ]
     },
     "execution_count": 142,
     "metadata": {},
     "output_type": "execute_result"
    }
   ],
   "source": [
    "df_copy.groupby(\"App\").mean()"
   ]
  },
  {
   "cell_type": "code",
   "execution_count": 143,
   "id": "7eea853d",
   "metadata": {
    "ExecuteTime": {
     "end_time": "2023-01-19T16:15:45.375446Z",
     "start_time": "2023-01-19T16:15:45.344201Z"
    }
   },
   "outputs": [],
   "source": [
    "df_copy.sort_values([\"Sentiment_Subjectivity\"], inplace = True)"
   ]
  },
  {
   "cell_type": "code",
   "execution_count": 153,
   "id": "edf7a40a",
   "metadata": {
    "ExecuteTime": {
     "end_time": "2023-01-19T16:20:28.884958Z",
     "start_time": "2023-01-19T16:20:28.387190Z"
    },
    "scrolled": false
   },
   "outputs": [
    {
     "data": {
      "image/png": "[encoded data removed]",
      "text/plain": [
       "<Figure size 1000x500 with 1 Axes>"
      ]
     },
     "metadata": {},
     "output_type": "display_data"
    }
   ],
   "source": [
    "plt.figure(figsize = (10,5))\n",
    "plt.title(\"Sentiment Polarity vs Sentiment Subjectivity Graph\")\n",
    "plt.xlabel(\"Sentiment Polarity\")\n",
    "plt.ylabel(\"Sentiment Subjectivity\")\n",
    "plt.scatter(df_copy[\"Sentiment_Polarity\"], df_copy[\"Sentiment_Subjectivity\"], marker = \"*\", label=\"Polarity and Subjectivity\")\n",
    "plt.legend()\n",
    "plt.show()"
   ]
  },
  {
   "cell_type": "code",
   "execution_count": 154,
   "id": "3d5a3b0d",
   "metadata": {
    "ExecuteTime": {
     "end_time": "2023-01-19T16:23:02.444701Z",
     "start_time": "2023-01-19T16:23:02.430704Z"
    }
   },
   "outputs": [],
   "source": [
    "df_copy[\"Subjecticivity/Polarity\"] = df_copy[\"Sentiment_Subjectivity\"] / df[\"Sentiment_Polarity\"]"
   ]
  },
  {
   "cell_type": "code",
   "execution_count": 174,
   "id": "8980e34a",
   "metadata": {
    "ExecuteTime": {
     "end_time": "2023-01-19T16:31:42.624041Z",
     "start_time": "2023-01-19T16:31:42.607027Z"
    }
   },
   "outputs": [
    {
     "data": {
      "text/html": [
       "<div>\n",
       "<style scoped>\n",
       "    .dataframe tbody tr th:only-of-type {\n",
       "        vertical-align: middle;\n",
       "    }\n",
       "\n",
       "    .dataframe tbody tr th {\n",
       "        vertical-align: top;\n",
       "    }\n",
       "\n",
       "    .dataframe thead th {\n",
       "        text-align: right;\n",
       "    }\n",
       "</style>\n",
       "<table border=\"1\" class=\"dataframe\">\n",
       "  <thead>\n",
       "    <tr style=\"text-align: right;\">\n",
       "      <th></th>\n",
       "      <th>App</th>\n",
       "      <th>Translated_Review</th>\n",
       "      <th>Sentiment</th>\n",
       "      <th>Sentiment_Polarity</th>\n",
       "      <th>Sentiment_Subjectivity</th>\n",
       "      <th>Subjecticivity/Polarity</th>\n",
       "    </tr>\n",
       "  </thead>\n",
       "  <tbody>\n",
       "    <tr>\n",
       "      <th>39346</th>\n",
       "      <td>Edmodo</td>\n",
       "      <td>This useful me..</td>\n",
       "      <td>Positive</td>\n",
       "      <td>0.300</td>\n",
       "      <td>0.0</td>\n",
       "      <td>0.000000</td>\n",
       "    </tr>\n",
       "    <tr>\n",
       "      <th>39351</th>\n",
       "      <td>Edmodo</td>\n",
       "      <td>Very Useful</td>\n",
       "      <td>Positive</td>\n",
       "      <td>0.390</td>\n",
       "      <td>0.0</td>\n",
       "      <td>0.000000</td>\n",
       "    </tr>\n",
       "    <tr>\n",
       "      <th>10638</th>\n",
       "      <td>BELONG Beating Cancer Together</td>\n",
       "      <td>It useful</td>\n",
       "      <td>Positive</td>\n",
       "      <td>0.300</td>\n",
       "      <td>0.0</td>\n",
       "      <td>0.000000</td>\n",
       "    </tr>\n",
       "    <tr>\n",
       "      <th>52898</th>\n",
       "      <td>Garmin Connect™</td>\n",
       "      <td>It's useful but, I find friends connections up...</td>\n",
       "      <td>Positive</td>\n",
       "      <td>0.375</td>\n",
       "      <td>0.0</td>\n",
       "      <td>0.000000</td>\n",
       "    </tr>\n",
       "    <tr>\n",
       "      <th>39408</th>\n",
       "      <td>Educational Games for Kids</td>\n",
       "      <td>It useful childrens</td>\n",
       "      <td>Positive</td>\n",
       "      <td>0.300</td>\n",
       "      <td>0.0</td>\n",
       "      <td>0.000000</td>\n",
       "    </tr>\n",
       "    <tr>\n",
       "      <th>...</th>\n",
       "      <td>...</td>\n",
       "      <td>...</td>\n",
       "      <td>...</td>\n",
       "      <td>...</td>\n",
       "      <td>...</td>\n",
       "      <td>...</td>\n",
       "    </tr>\n",
       "    <tr>\n",
       "      <th>51697</th>\n",
       "      <td>GPS Traffic Speedcam Route Planner by ViaMichelin</td>\n",
       "      <td>Nice</td>\n",
       "      <td>Positive</td>\n",
       "      <td>0.600</td>\n",
       "      <td>1.0</td>\n",
       "      <td>1.666667</td>\n",
       "    </tr>\n",
       "    <tr>\n",
       "      <th>41963</th>\n",
       "      <td>EyeEm - Camera &amp; Photo Filter</td>\n",
       "      <td>Perfect photographer anyone likes sharing mome...</td>\n",
       "      <td>Positive</td>\n",
       "      <td>1.000</td>\n",
       "      <td>1.0</td>\n",
       "      <td>1.000000</td>\n",
       "    </tr>\n",
       "    <tr>\n",
       "      <th>41961</th>\n",
       "      <td>EyeEm - Camera &amp; Photo Filter</td>\n",
       "      <td>This changed photography beautiful way. The co...</td>\n",
       "      <td>Positive</td>\n",
       "      <td>0.850</td>\n",
       "      <td>1.0</td>\n",
       "      <td>1.176471</td>\n",
       "    </tr>\n",
       "    <tr>\n",
       "      <th>60703</th>\n",
       "      <td>Healthy Recipes Free</td>\n",
       "      <td>No bad,just nice</td>\n",
       "      <td>Positive</td>\n",
       "      <td>0.600</td>\n",
       "      <td>1.0</td>\n",
       "      <td>1.666667</td>\n",
       "    </tr>\n",
       "    <tr>\n",
       "      <th>59460</th>\n",
       "      <td>HTC Weather</td>\n",
       "      <td>HTC Quietly Brilliant, Brilliance HTC,??? I up...</td>\n",
       "      <td>Positive</td>\n",
       "      <td>0.900</td>\n",
       "      <td>1.0</td>\n",
       "      <td>1.111111</td>\n",
       "    </tr>\n",
       "  </tbody>\n",
       "</table>\n",
       "<p>19015 rows × 6 columns</p>\n",
       "</div>"
      ],
      "text/plain": [
       "                                                     App  \\\n",
       "39346                                             Edmodo   \n",
       "39351                                             Edmodo   \n",
       "10638                     BELONG Beating Cancer Together   \n",
       "52898                                    Garmin Connect™   \n",
       "39408                         Educational Games for Kids   \n",
       "...                                                  ...   \n",
       "51697  GPS Traffic Speedcam Route Planner by ViaMichelin   \n",
       "41963                      EyeEm - Camera & Photo Filter   \n",
       "41961                      EyeEm - Camera & Photo Filter   \n",
       "60703                               Healthy Recipes Free   \n",
       "59460                                        HTC Weather   \n",
       "\n",
       "                                       Translated_Review Sentiment  \\\n",
       "39346                                   This useful me..  Positive   \n",
       "39351                                        Very Useful  Positive   \n",
       "10638                                          It useful  Positive   \n",
       "52898  It's useful but, I find friends connections up...  Positive   \n",
       "39408                                It useful childrens  Positive   \n",
       "...                                                  ...       ...   \n",
       "51697                                               Nice  Positive   \n",
       "41963  Perfect photographer anyone likes sharing mome...  Positive   \n",
       "41961  This changed photography beautiful way. The co...  Positive   \n",
       "60703                                   No bad,just nice  Positive   \n",
       "59460  HTC Quietly Brilliant, Brilliance HTC,??? I up...  Positive   \n",
       "\n",
       "       Sentiment_Polarity  Sentiment_Subjectivity  Subjecticivity/Polarity  \n",
       "39346               0.300                     0.0                 0.000000  \n",
       "39351               0.390                     0.0                 0.000000  \n",
       "10638               0.300                     0.0                 0.000000  \n",
       "52898               0.375                     0.0                 0.000000  \n",
       "39408               0.300                     0.0                 0.000000  \n",
       "...                   ...                     ...                      ...  \n",
       "51697               0.600                     1.0                 1.666667  \n",
       "41963               1.000                     1.0                 1.000000  \n",
       "41961               0.850                     1.0                 1.176471  \n",
       "60703               0.600                     1.0                 1.666667  \n",
       "59460               0.900                     1.0                 1.111111  \n",
       "\n",
       "[19015 rows x 6 columns]"
      ]
     },
     "execution_count": 174,
     "metadata": {},
     "output_type": "execute_result"
    }
   ],
   "source": [
    "df_copy[polarity_mask]"
   ]
  },
  {
   "cell_type": "code",
   "execution_count": 180,
   "id": "78ee1197",
   "metadata": {
    "ExecuteTime": {
     "end_time": "2023-01-19T16:33:51.162042Z",
     "start_time": "2023-01-19T16:33:51.134727Z"
    }
   },
   "outputs": [
    {
     "name": "stderr",
     "output_type": "stream",
     "text": [
      "C:\\Users\\mkaya\\AppData\\Local\\Temp\\ipykernel_9308\\1973061622.py:1: FutureWarning: Dropping of nuisance columns in DataFrame reductions (with 'numeric_only=None') is deprecated; in a future version this will raise TypeError.  Select only valid columns before calling the reduction.\n",
      "  df_copy.std()\n"
     ]
    },
    {
     "data": {
      "text/plain": [
       "Sentiment_Polarity         0.355672\n",
       "Sentiment_Subjectivity     0.266029\n",
       "Subjecticivity/Polarity         NaN\n",
       "dtype: float64"
      ]
     },
     "execution_count": 180,
     "metadata": {},
     "output_type": "execute_result"
    }
   ],
   "source": [
    "df_copy.std()"
   ]
  },
  {
   "cell_type": "code",
   "execution_count": 219,
   "id": "1bb63f6d",
   "metadata": {
    "ExecuteTime": {
     "end_time": "2023-01-19T16:52:14.715660Z",
     "start_time": "2023-01-19T16:52:14.699192Z"
    },
    "scrolled": false
   },
   "outputs": [
    {
     "data": {
      "text/html": [
       "<div>\n",
       "<style scoped>\n",
       "    .dataframe tbody tr th:only-of-type {\n",
       "        vertical-align: middle;\n",
       "    }\n",
       "\n",
       "    .dataframe tbody tr th {\n",
       "        vertical-align: top;\n",
       "    }\n",
       "\n",
       "    .dataframe thead th {\n",
       "        text-align: right;\n",
       "    }\n",
       "</style>\n",
       "<table border=\"1\" class=\"dataframe\">\n",
       "  <thead>\n",
       "    <tr style=\"text-align: right;\">\n",
       "      <th></th>\n",
       "      <th>App</th>\n",
       "      <th>Translated_Review</th>\n",
       "      <th>Sentiment</th>\n",
       "      <th>Sentiment_Polarity</th>\n",
       "      <th>Sentiment_Subjectivity</th>\n",
       "      <th>Subjecticivity/Polarity</th>\n",
       "    </tr>\n",
       "  </thead>\n",
       "  <tbody>\n",
       "    <tr>\n",
       "      <th>10279</th>\n",
       "      <td>BBM - Free Calls &amp; Messages</td>\n",
       "      <td>Send multimedia receipt, please increase again</td>\n",
       "      <td>Neutral</td>\n",
       "      <td>0.0</td>\n",
       "      <td>0.0</td>\n",
       "      <td>NaN</td>\n",
       "    </tr>\n",
       "    <tr>\n",
       "      <th>10682</th>\n",
       "      <td>BEST CAR SOUNDS</td>\n",
       "      <td>Thx preciate even phone almost full☺☺☺</td>\n",
       "      <td>Neutral</td>\n",
       "      <td>0.0</td>\n",
       "      <td>0.0</td>\n",
       "      <td>NaN</td>\n",
       "    </tr>\n",
       "    <tr>\n",
       "      <th>10680</th>\n",
       "      <td>BEST CAR SOUNDS</td>\n",
       "      <td>Wnloads goes back zero wont</td>\n",
       "      <td>Neutral</td>\n",
       "      <td>0.0</td>\n",
       "      <td>0.0</td>\n",
       "      <td>NaN</td>\n",
       "    </tr>\n",
       "    <tr>\n",
       "      <th>10678</th>\n",
       "      <td>BEST CAR SOUNDS</td>\n",
       "      <td>I'm going to give Ronnie a hp</td>\n",
       "      <td>Neutral</td>\n",
       "      <td>0.0</td>\n",
       "      <td>0.0</td>\n",
       "      <td>NaN</td>\n",
       "    </tr>\n",
       "    <tr>\n",
       "      <th>10677</th>\n",
       "      <td>BEST CAR SOUNDS</td>\n",
       "      <td>The acceleration sounds just like start sound....</td>\n",
       "      <td>Neutral</td>\n",
       "      <td>0.0</td>\n",
       "      <td>0.0</td>\n",
       "      <td>NaN</td>\n",
       "    </tr>\n",
       "    <tr>\n",
       "      <th>...</th>\n",
       "      <td>...</td>\n",
       "      <td>...</td>\n",
       "      <td>...</td>\n",
       "      <td>...</td>\n",
       "      <td>...</td>\n",
       "      <td>...</td>\n",
       "    </tr>\n",
       "    <tr>\n",
       "      <th>64082</th>\n",
       "      <td>Hotspot Shield Free VPN Proxy &amp; Wi-Fi Security</td>\n",
       "      <td>NaN</td>\n",
       "      <td>NaN</td>\n",
       "      <td>NaN</td>\n",
       "      <td>NaN</td>\n",
       "      <td>NaN</td>\n",
       "    </tr>\n",
       "    <tr>\n",
       "      <th>64119</th>\n",
       "      <td>Hotstar</td>\n",
       "      <td>NaN</td>\n",
       "      <td>NaN</td>\n",
       "      <td>NaN</td>\n",
       "      <td>NaN</td>\n",
       "      <td>NaN</td>\n",
       "    </tr>\n",
       "    <tr>\n",
       "      <th>64156</th>\n",
       "      <td>Hotwire Hotel &amp; Car Rental App</td>\n",
       "      <td>NaN</td>\n",
       "      <td>NaN</td>\n",
       "      <td>NaN</td>\n",
       "      <td>NaN</td>\n",
       "      <td>NaN</td>\n",
       "    </tr>\n",
       "    <tr>\n",
       "      <th>64202</th>\n",
       "      <td>Housing-Real Estate &amp; Property</td>\n",
       "      <td>NaN</td>\n",
       "      <td>NaN</td>\n",
       "      <td>NaN</td>\n",
       "      <td>NaN</td>\n",
       "      <td>NaN</td>\n",
       "    </tr>\n",
       "    <tr>\n",
       "      <th>64236</th>\n",
       "      <td>Houzz Interior Design Ideas</td>\n",
       "      <td>NaN</td>\n",
       "      <td>NaN</td>\n",
       "      <td>NaN</td>\n",
       "      <td>NaN</td>\n",
       "      <td>NaN</td>\n",
       "    </tr>\n",
       "  </tbody>\n",
       "</table>\n",
       "<p>30679 rows × 6 columns</p>\n",
       "</div>"
      ],
      "text/plain": [
       "                                                  App  \\\n",
       "10279                     BBM - Free Calls & Messages   \n",
       "10682                                 BEST CAR SOUNDS   \n",
       "10680                                 BEST CAR SOUNDS   \n",
       "10678                                 BEST CAR SOUNDS   \n",
       "10677                                 BEST CAR SOUNDS   \n",
       "...                                               ...   \n",
       "64082  Hotspot Shield Free VPN Proxy & Wi-Fi Security   \n",
       "64119                                         Hotstar   \n",
       "64156                  Hotwire Hotel & Car Rental App   \n",
       "64202                  Housing-Real Estate & Property   \n",
       "64236                     Houzz Interior Design Ideas   \n",
       "\n",
       "                                       Translated_Review Sentiment  \\\n",
       "10279     Send multimedia receipt, please increase again   Neutral   \n",
       "10682             Thx preciate even phone almost full☺☺☺   Neutral   \n",
       "10680                        Wnloads goes back zero wont   Neutral   \n",
       "10678                      I'm going to give Ronnie a hp   Neutral   \n",
       "10677  The acceleration sounds just like start sound....   Neutral   \n",
       "...                                                  ...       ...   \n",
       "64082                                                NaN       NaN   \n",
       "64119                                                NaN       NaN   \n",
       "64156                                                NaN       NaN   \n",
       "64202                                                NaN       NaN   \n",
       "64236                                                NaN       NaN   \n",
       "\n",
       "       Sentiment_Polarity  Sentiment_Subjectivity  Subjecticivity/Polarity  \n",
       "10279                 0.0                     0.0                      NaN  \n",
       "10682                 0.0                     0.0                      NaN  \n",
       "10680                 0.0                     0.0                      NaN  \n",
       "10678                 0.0                     0.0                      NaN  \n",
       "10677                 0.0                     0.0                      NaN  \n",
       "...                   ...                     ...                      ...  \n",
       "64082                 NaN                     NaN                      NaN  \n",
       "64119                 NaN                     NaN                      NaN  \n",
       "64156                 NaN                     NaN                      NaN  \n",
       "64202                 NaN                     NaN                      NaN  \n",
       "64236                 NaN                     NaN                      NaN  \n",
       "\n",
       "[30679 rows x 6 columns]"
      ]
     },
     "execution_count": 219,
     "metadata": {},
     "output_type": "execute_result"
    }
   ],
   "source": [
    "df_copy"
   ]
  },
  {
   "cell_type": "code",
   "execution_count": 203,
   "id": "79b2fce3",
   "metadata": {
    "ExecuteTime": {
     "end_time": "2023-01-19T16:42:01.247455Z",
     "start_time": "2023-01-19T16:42:01.222144Z"
    }
   },
   "outputs": [
    {
     "name": "stdout",
     "output_type": "stream",
     "text": [
      "<class 'pandas.core.frame.DataFrame'>\n",
      "Int64Index: 30679 entries, 10279 to 64236\n",
      "Data columns (total 6 columns):\n",
      " #   Column                   Non-Null Count  Dtype  \n",
      "---  ------                   --------------  -----  \n",
      " 0   App                      30679 non-null  object \n",
      " 1   Translated_Review        29692 non-null  object \n",
      " 2   Sentiment                29697 non-null  object \n",
      " 3   Sentiment_Polarity       29697 non-null  float64\n",
      " 4   Sentiment_Subjectivity   29697 non-null  float64\n",
      " 5   Subjecticivity/Polarity  26110 non-null  float64\n",
      "dtypes: float64(3), object(3)\n",
      "memory usage: 2.6+ MB\n"
     ]
    }
   ],
   "source": [
    "df_copy.info()"
   ]
  },
  {
   "cell_type": "code",
   "execution_count": 243,
   "id": "e8d95450",
   "metadata": {
    "ExecuteTime": {
     "end_time": "2023-01-19T16:59:21.553032Z",
     "start_time": "2023-01-19T16:59:21.535928Z"
    }
   },
   "outputs": [],
   "source": [
    "df_grouped = df_copy.groupby(\"App\").mean().sort_values([\"Sentiment_Subjectivity\",\"Sentiment_Polarity\"], ascending = False)"
   ]
  },
  {
   "cell_type": "code",
   "execution_count": 233,
   "id": "c0ce7c55",
   "metadata": {
    "ExecuteTime": {
     "end_time": "2023-01-19T16:57:27.393989Z",
     "start_time": "2023-01-19T16:57:27.385981Z"
    }
   },
   "outputs": [],
   "source": [
    "df_copy.drop(\"Subjecticivity/Polarity\", axis=1, inplace = True)"
   ]
  },
  {
   "cell_type": "code",
   "execution_count": 234,
   "id": "18407ff2",
   "metadata": {
    "ExecuteTime": {
     "end_time": "2023-01-19T16:57:30.775794Z",
     "start_time": "2023-01-19T16:57:30.762783Z"
    }
   },
   "outputs": [
    {
     "data": {
      "text/html": [
       "<div>\n",
       "<style scoped>\n",
       "    .dataframe tbody tr th:only-of-type {\n",
       "        vertical-align: middle;\n",
       "    }\n",
       "\n",
       "    .dataframe tbody tr th {\n",
       "        vertical-align: top;\n",
       "    }\n",
       "\n",
       "    .dataframe thead th {\n",
       "        text-align: right;\n",
       "    }\n",
       "</style>\n",
       "<table border=\"1\" class=\"dataframe\">\n",
       "  <thead>\n",
       "    <tr style=\"text-align: right;\">\n",
       "      <th></th>\n",
       "      <th>App</th>\n",
       "      <th>Translated_Review</th>\n",
       "      <th>Sentiment</th>\n",
       "      <th>Sentiment_Polarity</th>\n",
       "      <th>Sentiment_Subjectivity</th>\n",
       "    </tr>\n",
       "  </thead>\n",
       "  <tbody>\n",
       "    <tr>\n",
       "      <th>10279</th>\n",
       "      <td>BBM - Free Calls &amp; Messages</td>\n",
       "      <td>Send multimedia receipt, please increase again</td>\n",
       "      <td>Neutral</td>\n",
       "      <td>0.0</td>\n",
       "      <td>0.0</td>\n",
       "    </tr>\n",
       "    <tr>\n",
       "      <th>10682</th>\n",
       "      <td>BEST CAR SOUNDS</td>\n",
       "      <td>Thx preciate even phone almost full☺☺☺</td>\n",
       "      <td>Neutral</td>\n",
       "      <td>0.0</td>\n",
       "      <td>0.0</td>\n",
       "    </tr>\n",
       "    <tr>\n",
       "      <th>10680</th>\n",
       "      <td>BEST CAR SOUNDS</td>\n",
       "      <td>Wnloads goes back zero wont</td>\n",
       "      <td>Neutral</td>\n",
       "      <td>0.0</td>\n",
       "      <td>0.0</td>\n",
       "    </tr>\n",
       "    <tr>\n",
       "      <th>10678</th>\n",
       "      <td>BEST CAR SOUNDS</td>\n",
       "      <td>I'm going to give Ronnie a hp</td>\n",
       "      <td>Neutral</td>\n",
       "      <td>0.0</td>\n",
       "      <td>0.0</td>\n",
       "    </tr>\n",
       "    <tr>\n",
       "      <th>10677</th>\n",
       "      <td>BEST CAR SOUNDS</td>\n",
       "      <td>The acceleration sounds just like start sound....</td>\n",
       "      <td>Neutral</td>\n",
       "      <td>0.0</td>\n",
       "      <td>0.0</td>\n",
       "    </tr>\n",
       "    <tr>\n",
       "      <th>...</th>\n",
       "      <td>...</td>\n",
       "      <td>...</td>\n",
       "      <td>...</td>\n",
       "      <td>...</td>\n",
       "      <td>...</td>\n",
       "    </tr>\n",
       "    <tr>\n",
       "      <th>64082</th>\n",
       "      <td>Hotspot Shield Free VPN Proxy &amp; Wi-Fi Security</td>\n",
       "      <td>NaN</td>\n",
       "      <td>NaN</td>\n",
       "      <td>NaN</td>\n",
       "      <td>NaN</td>\n",
       "    </tr>\n",
       "    <tr>\n",
       "      <th>64119</th>\n",
       "      <td>Hotstar</td>\n",
       "      <td>NaN</td>\n",
       "      <td>NaN</td>\n",
       "      <td>NaN</td>\n",
       "      <td>NaN</td>\n",
       "    </tr>\n",
       "    <tr>\n",
       "      <th>64156</th>\n",
       "      <td>Hotwire Hotel &amp; Car Rental App</td>\n",
       "      <td>NaN</td>\n",
       "      <td>NaN</td>\n",
       "      <td>NaN</td>\n",
       "      <td>NaN</td>\n",
       "    </tr>\n",
       "    <tr>\n",
       "      <th>64202</th>\n",
       "      <td>Housing-Real Estate &amp; Property</td>\n",
       "      <td>NaN</td>\n",
       "      <td>NaN</td>\n",
       "      <td>NaN</td>\n",
       "      <td>NaN</td>\n",
       "    </tr>\n",
       "    <tr>\n",
       "      <th>64236</th>\n",
       "      <td>Houzz Interior Design Ideas</td>\n",
       "      <td>NaN</td>\n",
       "      <td>NaN</td>\n",
       "      <td>NaN</td>\n",
       "      <td>NaN</td>\n",
       "    </tr>\n",
       "  </tbody>\n",
       "</table>\n",
       "<p>30679 rows × 5 columns</p>\n",
       "</div>"
      ],
      "text/plain": [
       "                                                  App  \\\n",
       "10279                     BBM - Free Calls & Messages   \n",
       "10682                                 BEST CAR SOUNDS   \n",
       "10680                                 BEST CAR SOUNDS   \n",
       "10678                                 BEST CAR SOUNDS   \n",
       "10677                                 BEST CAR SOUNDS   \n",
       "...                                               ...   \n",
       "64082  Hotspot Shield Free VPN Proxy & Wi-Fi Security   \n",
       "64119                                         Hotstar   \n",
       "64156                  Hotwire Hotel & Car Rental App   \n",
       "64202                  Housing-Real Estate & Property   \n",
       "64236                     Houzz Interior Design Ideas   \n",
       "\n",
       "                                       Translated_Review Sentiment  \\\n",
       "10279     Send multimedia receipt, please increase again   Neutral   \n",
       "10682             Thx preciate even phone almost full☺☺☺   Neutral   \n",
       "10680                        Wnloads goes back zero wont   Neutral   \n",
       "10678                      I'm going to give Ronnie a hp   Neutral   \n",
       "10677  The acceleration sounds just like start sound....   Neutral   \n",
       "...                                                  ...       ...   \n",
       "64082                                                NaN       NaN   \n",
       "64119                                                NaN       NaN   \n",
       "64156                                                NaN       NaN   \n",
       "64202                                                NaN       NaN   \n",
       "64236                                                NaN       NaN   \n",
       "\n",
       "       Sentiment_Polarity  Sentiment_Subjectivity  \n",
       "10279                 0.0                     0.0  \n",
       "10682                 0.0                     0.0  \n",
       "10680                 0.0                     0.0  \n",
       "10678                 0.0                     0.0  \n",
       "10677                 0.0                     0.0  \n",
       "...                   ...                     ...  \n",
       "64082                 NaN                     NaN  \n",
       "64119                 NaN                     NaN  \n",
       "64156                 NaN                     NaN  \n",
       "64202                 NaN                     NaN  \n",
       "64236                 NaN                     NaN  \n",
       "\n",
       "[30679 rows x 5 columns]"
      ]
     },
     "execution_count": 234,
     "metadata": {},
     "output_type": "execute_result"
    }
   ],
   "source": [
    "df_copy"
   ]
  },
  {
   "cell_type": "code",
   "execution_count": 238,
   "id": "e05f0d33",
   "metadata": {
    "ExecuteTime": {
     "end_time": "2023-01-19T16:58:22.388903Z",
     "start_time": "2023-01-19T16:58:22.376896Z"
    }
   },
   "outputs": [],
   "source": [
    "df_grouped.reset_index(inplace=True)"
   ]
  },
  {
   "cell_type": "code",
   "execution_count": 244,
   "id": "6a15c946",
   "metadata": {
    "ExecuteTime": {
     "end_time": "2023-01-19T16:59:24.275970Z",
     "start_time": "2023-01-19T16:59:24.256112Z"
    }
   },
   "outputs": [
    {
     "data": {
      "text/html": [
       "<div>\n",
       "<style scoped>\n",
       "    .dataframe tbody tr th:only-of-type {\n",
       "        vertical-align: middle;\n",
       "    }\n",
       "\n",
       "    .dataframe tbody tr th {\n",
       "        vertical-align: top;\n",
       "    }\n",
       "\n",
       "    .dataframe thead th {\n",
       "        text-align: right;\n",
       "    }\n",
       "</style>\n",
       "<table border=\"1\" class=\"dataframe\">\n",
       "  <thead>\n",
       "    <tr style=\"text-align: right;\">\n",
       "      <th></th>\n",
       "      <th>Sentiment_Polarity</th>\n",
       "      <th>Sentiment_Subjectivity</th>\n",
       "    </tr>\n",
       "    <tr>\n",
       "      <th>App</th>\n",
       "      <th></th>\n",
       "      <th></th>\n",
       "    </tr>\n",
       "  </thead>\n",
       "  <tbody>\n",
       "    <tr>\n",
       "      <th>Google Slides</th>\n",
       "      <td>0.933333</td>\n",
       "      <td>0.916667</td>\n",
       "    </tr>\n",
       "    <tr>\n",
       "      <th>Daily Workouts - Exercise Fitness Routine Trainer</th>\n",
       "      <td>0.800000</td>\n",
       "      <td>0.750000</td>\n",
       "    </tr>\n",
       "    <tr>\n",
       "      <th>Choice Hotels</th>\n",
       "      <td>0.298790</td>\n",
       "      <td>0.719206</td>\n",
       "    </tr>\n",
       "    <tr>\n",
       "      <th>HTC Calendar</th>\n",
       "      <td>-0.037626</td>\n",
       "      <td>0.694949</td>\n",
       "    </tr>\n",
       "    <tr>\n",
       "      <th>Hitwe - meet people and chat</th>\n",
       "      <td>-0.139456</td>\n",
       "      <td>0.694105</td>\n",
       "    </tr>\n",
       "    <tr>\n",
       "      <th>...</th>\n",
       "      <td>...</td>\n",
       "      <td>...</td>\n",
       "    </tr>\n",
       "    <tr>\n",
       "      <th>Hiya - Caller ID &amp; Block</th>\n",
       "      <td>NaN</td>\n",
       "      <td>NaN</td>\n",
       "    </tr>\n",
       "    <tr>\n",
       "      <th>Hola Launcher- Theme,Wallpaper</th>\n",
       "      <td>NaN</td>\n",
       "      <td>NaN</td>\n",
       "    </tr>\n",
       "    <tr>\n",
       "      <th>HomeAway Vacation Rentals</th>\n",
       "      <td>NaN</td>\n",
       "      <td>NaN</td>\n",
       "    </tr>\n",
       "    <tr>\n",
       "      <th>Hot or Not - Find someone right now</th>\n",
       "      <td>NaN</td>\n",
       "      <td>NaN</td>\n",
       "    </tr>\n",
       "    <tr>\n",
       "      <th>Houzz Interior Design Ideas</th>\n",
       "      <td>NaN</td>\n",
       "      <td>NaN</td>\n",
       "    </tr>\n",
       "  </tbody>\n",
       "</table>\n",
       "<p>1074 rows × 2 columns</p>\n",
       "</div>"
      ],
      "text/plain": [
       "                                                   Sentiment_Polarity  \\\n",
       "App                                                                     \n",
       "Google Slides                                                0.933333   \n",
       "Daily Workouts - Exercise Fitness Routine Trainer            0.800000   \n",
       "Choice Hotels                                                0.298790   \n",
       "HTC Calendar                                                -0.037626   \n",
       "Hitwe - meet people and chat                                -0.139456   \n",
       "...                                                               ...   \n",
       "Hiya - Caller ID & Block                                          NaN   \n",
       "Hola Launcher- Theme,Wallpaper                                    NaN   \n",
       "HomeAway Vacation Rentals                                         NaN   \n",
       "Hot or Not - Find someone right now                               NaN   \n",
       "Houzz Interior Design Ideas                                       NaN   \n",
       "\n",
       "                                                   Sentiment_Subjectivity  \n",
       "App                                                                        \n",
       "Google Slides                                                    0.916667  \n",
       "Daily Workouts - Exercise Fitness Routine Trainer                0.750000  \n",
       "Choice Hotels                                                    0.719206  \n",
       "HTC Calendar                                                     0.694949  \n",
       "Hitwe - meet people and chat                                     0.694105  \n",
       "...                                                                   ...  \n",
       "Hiya - Caller ID & Block                                              NaN  \n",
       "Hola Launcher- Theme,Wallpaper                                        NaN  \n",
       "HomeAway Vacation Rentals                                             NaN  \n",
       "Hot or Not - Find someone right now                                   NaN  \n",
       "Houzz Interior Design Ideas                                           NaN  \n",
       "\n",
       "[1074 rows x 2 columns]"
      ]
     },
     "execution_count": 244,
     "metadata": {},
     "output_type": "execute_result"
    }
   ],
   "source": [
    "df_grouped"
   ]
  },
  {
   "cell_type": "code",
   "execution_count": 255,
   "id": "00a8dfea",
   "metadata": {
    "ExecuteTime": {
     "end_time": "2023-01-19T17:01:57.470471Z",
     "start_time": "2023-01-19T17:01:57.454544Z"
    }
   },
   "outputs": [
    {
     "data": {
      "text/plain": [
       "True"
      ]
     },
     "execution_count": 255,
     "metadata": {},
     "output_type": "execute_result"
    }
   ],
   "source": [
    "df_grouped.shape == df_grouped.drop_duplicates().shape"
   ]
  },
  {
   "cell_type": "code",
   "execution_count": 252,
   "id": "345a8c84",
   "metadata": {
    "ExecuteTime": {
     "end_time": "2023-01-19T17:01:37.732053Z",
     "start_time": "2023-01-19T17:01:37.714028Z"
    }
   },
   "outputs": [],
   "source": [
    "df_grouped.reset_index(\"App\", inplace = True)"
   ]
  },
  {
   "cell_type": "code",
   "execution_count": 262,
   "id": "bb484326",
   "metadata": {
    "ExecuteTime": {
     "end_time": "2023-01-19T17:07:42.608054Z",
     "start_time": "2023-01-19T17:07:42.599045Z"
    }
   },
   "outputs": [
    {
     "data": {
      "text/html": [
       "<div>\n",
       "<style scoped>\n",
       "    .dataframe tbody tr th:only-of-type {\n",
       "        vertical-align: middle;\n",
       "    }\n",
       "\n",
       "    .dataframe tbody tr th {\n",
       "        vertical-align: top;\n",
       "    }\n",
       "\n",
       "    .dataframe thead th {\n",
       "        text-align: right;\n",
       "    }\n",
       "</style>\n",
       "<table border=\"1\" class=\"dataframe\">\n",
       "  <thead>\n",
       "    <tr style=\"text-align: right;\">\n",
       "      <th></th>\n",
       "      <th>App</th>\n",
       "      <th>Sentiment_Polarity</th>\n",
       "      <th>Sentiment_Subjectivity</th>\n",
       "    </tr>\n",
       "  </thead>\n",
       "  <tbody>\n",
       "    <tr>\n",
       "      <th>0</th>\n",
       "      <td>Google Slides</td>\n",
       "      <td>0.933333</td>\n",
       "      <td>0.916667</td>\n",
       "    </tr>\n",
       "    <tr>\n",
       "      <th>1</th>\n",
       "      <td>Daily Workouts - Exercise Fitness Routine Trainer</td>\n",
       "      <td>0.800000</td>\n",
       "      <td>0.750000</td>\n",
       "    </tr>\n",
       "    <tr>\n",
       "      <th>2</th>\n",
       "      <td>Choice Hotels</td>\n",
       "      <td>0.298790</td>\n",
       "      <td>0.719206</td>\n",
       "    </tr>\n",
       "    <tr>\n",
       "      <th>3</th>\n",
       "      <td>HTC Calendar</td>\n",
       "      <td>-0.037626</td>\n",
       "      <td>0.694949</td>\n",
       "    </tr>\n",
       "    <tr>\n",
       "      <th>4</th>\n",
       "      <td>Hitwe - meet people and chat</td>\n",
       "      <td>-0.139456</td>\n",
       "      <td>0.694105</td>\n",
       "    </tr>\n",
       "    <tr>\n",
       "      <th>...</th>\n",
       "      <td>...</td>\n",
       "      <td>...</td>\n",
       "      <td>...</td>\n",
       "    </tr>\n",
       "    <tr>\n",
       "      <th>1069</th>\n",
       "      <td>Hiya - Caller ID &amp; Block</td>\n",
       "      <td>NaN</td>\n",
       "      <td>NaN</td>\n",
       "    </tr>\n",
       "    <tr>\n",
       "      <th>1070</th>\n",
       "      <td>Hola Launcher- Theme,Wallpaper</td>\n",
       "      <td>NaN</td>\n",
       "      <td>NaN</td>\n",
       "    </tr>\n",
       "    <tr>\n",
       "      <th>1071</th>\n",
       "      <td>HomeAway Vacation Rentals</td>\n",
       "      <td>NaN</td>\n",
       "      <td>NaN</td>\n",
       "    </tr>\n",
       "    <tr>\n",
       "      <th>1072</th>\n",
       "      <td>Hot or Not - Find someone right now</td>\n",
       "      <td>NaN</td>\n",
       "      <td>NaN</td>\n",
       "    </tr>\n",
       "    <tr>\n",
       "      <th>1073</th>\n",
       "      <td>Houzz Interior Design Ideas</td>\n",
       "      <td>NaN</td>\n",
       "      <td>NaN</td>\n",
       "    </tr>\n",
       "  </tbody>\n",
       "</table>\n",
       "<p>1074 rows × 3 columns</p>\n",
       "</div>"
      ],
      "text/plain": [
       "                                                    App  Sentiment_Polarity  \\\n",
       "0                                         Google Slides            0.933333   \n",
       "1     Daily Workouts - Exercise Fitness Routine Trainer            0.800000   \n",
       "2                                         Choice Hotels            0.298790   \n",
       "3                                          HTC Calendar           -0.037626   \n",
       "4                          Hitwe - meet people and chat           -0.139456   \n",
       "...                                                 ...                 ...   \n",
       "1069                           Hiya - Caller ID & Block                 NaN   \n",
       "1070                     Hola Launcher- Theme,Wallpaper                 NaN   \n",
       "1071                          HomeAway Vacation Rentals                 NaN   \n",
       "1072                Hot or Not - Find someone right now                 NaN   \n",
       "1073                        Houzz Interior Design Ideas                 NaN   \n",
       "\n",
       "      Sentiment_Subjectivity  \n",
       "0                   0.916667  \n",
       "1                   0.750000  \n",
       "2                   0.719206  \n",
       "3                   0.694949  \n",
       "4                   0.694105  \n",
       "...                      ...  \n",
       "1069                     NaN  \n",
       "1070                     NaN  \n",
       "1071                     NaN  \n",
       "1072                     NaN  \n",
       "1073                     NaN  \n",
       "\n",
       "[1074 rows x 3 columns]"
      ]
     },
     "execution_count": 262,
     "metadata": {},
     "output_type": "execute_result"
    }
   ],
   "source": [
    "df_grouped"
   ]
  },
  {
   "cell_type": "code",
   "execution_count": 271,
   "id": "ba76f88d",
   "metadata": {
    "ExecuteTime": {
     "end_time": "2023-01-19T17:11:01.740796Z",
     "start_time": "2023-01-19T17:11:01.576216Z"
    }
   },
   "outputs": [
    {
     "data": {
      "image/png": "[encoded data removed]",
      "text/plain": [
       "<Figure size 1000x500 with 1 Axes>"
      ]
     },
     "metadata": {},
     "output_type": "display_data"
    }
   ],
   "source": [
    "plt.figure(figsize=(10,5))\n",
    "plt.xticks(rotation = 90)\n",
    "plt.ylabel(\"Top 10 Subjectivity / Polarity\")\n",
    "plt.bar(df_grouped[\"App\"].head(10), df_grouped[\"Sentiment_Subjectivity\"].head(10) / df_grouped[\"Sentiment_Polarity\"].head(10))\n",
    "plt.show()"
   ]
  },
  {
   "cell_type": "code",
   "execution_count": null,
   "id": "a1d83aae",
   "metadata": {},
   "outputs": [],
   "source": []
  }
 ],
 "metadata": {
  "kernelspec": {
   "display_name": "Python 3 (ipykernel)",
   "language": "python",
   "name": "python3"
  },
  "language_info": {
   "codemirror_mode": {
    "name": "ipython",
    "version": 3
   },
   "file_extension": ".py",
   "mimetype": "text/x-python",
   "name": "python",
   "nbconvert_exporter": "python",
   "pygments_lexer": "ipython3",
   "version": "3.9.13"
  },
  "toc": {
   "base_numbering": 1,
   "nav_menu": {},
   "number_sections": true,
   "sideBar": true,
   "skip_h1_title": false,
   "title_cell": "Table of Contents",
   "title_sidebar": "Contents",
   "toc_cell": false,
   "toc_position": {},
   "toc_section_display": true,
   "toc_window_display": false
  },
  "varInspector": {
   "cols": {
    "lenName": 16,
    "lenType": 16,
    "lenVar": 40
   },
   "kernels_config": {
    "python": {
     "delete_cmd_postfix": "",
     "delete_cmd_prefix": "del ",
     "library": "var_list.py",
     "varRefreshCmd": "print(var_dic_list())"
    },
    "r": {
     "delete_cmd_postfix": ") ",
     "delete_cmd_prefix": "rm(",
     "library": "var_list.r",
     "varRefreshCmd": "cat(var_dic_list()) "
    }
   },
   "types_to_exclude": [
    "module",
    "function",
    "builtin_function_or_method",
    "instance",
    "_Feature"
   ],
   "window_display": false
  }
 },
 "nbformat": 4,
 "nbformat_minor": 5
}
