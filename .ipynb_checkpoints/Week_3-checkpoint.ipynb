{
 "cells": [
  {
   "cell_type": "code",
   "execution_count": 1,
   "id": "cf408085",
   "metadata": {
    "ExecuteTime": {
     "end_time": "2023-02-01T22:42:07.965500Z",
     "start_time": "2023-02-01T22:42:05.061159Z"
    }
   },
   "outputs": [],
   "source": [
    "import pandas as pd\n",
    "import numpy as np\n",
    "import matplotlib.pyplot as plt\n",
    "import seaborn as sns\n",
    "import plotly.express as px\n",
    "\n",
    "%matplotlib inline"
   ]
  },
  {
   "cell_type": "code",
   "execution_count": 2,
   "id": "ef69f1d6",
   "metadata": {
    "ExecuteTime": {
     "end_time": "2023-02-01T22:42:08.028145Z",
     "start_time": "2023-02-01T22:42:07.965500Z"
    }
   },
   "outputs": [],
   "source": [
    "df = pd.read_csv(\"C:/Users/mkaya/Downloads/googleplaystore.csv\")"
   ]
  },
  {
   "cell_type": "code",
   "execution_count": 3,
   "id": "58fbb040",
   "metadata": {
    "ExecuteTime": {
     "end_time": "2023-02-01T22:42:08.050795Z",
     "start_time": "2023-02-01T22:42:08.030148Z"
    }
   },
   "outputs": [
    {
     "data": {
      "text/html": [
       "<div>\n",
       "<style scoped>\n",
       "    .dataframe tbody tr th:only-of-type {\n",
       "        vertical-align: middle;\n",
       "    }\n",
       "\n",
       "    .dataframe tbody tr th {\n",
       "        vertical-align: top;\n",
       "    }\n",
       "\n",
       "    .dataframe thead th {\n",
       "        text-align: right;\n",
       "    }\n",
       "</style>\n",
       "<table border=\"1\" class=\"dataframe\">\n",
       "  <thead>\n",
       "    <tr style=\"text-align: right;\">\n",
       "      <th></th>\n",
       "      <th>App</th>\n",
       "      <th>Category</th>\n",
       "      <th>Rating</th>\n",
       "      <th>Reviews</th>\n",
       "      <th>Size</th>\n",
       "      <th>Installs</th>\n",
       "      <th>Type</th>\n",
       "      <th>Price</th>\n",
       "      <th>Content Rating</th>\n",
       "      <th>Genres</th>\n",
       "      <th>Last Updated</th>\n",
       "      <th>Current Ver</th>\n",
       "      <th>Android Ver</th>\n",
       "    </tr>\n",
       "  </thead>\n",
       "  <tbody>\n",
       "    <tr>\n",
       "      <th>0</th>\n",
       "      <td>Photo Editor &amp; Candy Camera &amp; Grid &amp; ScrapBook</td>\n",
       "      <td>ART_AND_DESIGN</td>\n",
       "      <td>4.1</td>\n",
       "      <td>159</td>\n",
       "      <td>19M</td>\n",
       "      <td>10,000+</td>\n",
       "      <td>Free</td>\n",
       "      <td>0</td>\n",
       "      <td>Everyone</td>\n",
       "      <td>Art &amp; Design</td>\n",
       "      <td>January 7, 2018</td>\n",
       "      <td>1.0.0</td>\n",
       "      <td>4.0.3 and up</td>\n",
       "    </tr>\n",
       "    <tr>\n",
       "      <th>1</th>\n",
       "      <td>Coloring book moana</td>\n",
       "      <td>ART_AND_DESIGN</td>\n",
       "      <td>3.9</td>\n",
       "      <td>967</td>\n",
       "      <td>14M</td>\n",
       "      <td>500,000+</td>\n",
       "      <td>Free</td>\n",
       "      <td>0</td>\n",
       "      <td>Everyone</td>\n",
       "      <td>Art &amp; Design;Pretend Play</td>\n",
       "      <td>January 15, 2018</td>\n",
       "      <td>2.0.0</td>\n",
       "      <td>4.0.3 and up</td>\n",
       "    </tr>\n",
       "    <tr>\n",
       "      <th>2</th>\n",
       "      <td>U Launcher Lite – FREE Live Cool Themes, Hide ...</td>\n",
       "      <td>ART_AND_DESIGN</td>\n",
       "      <td>4.7</td>\n",
       "      <td>87510</td>\n",
       "      <td>8.7M</td>\n",
       "      <td>5,000,000+</td>\n",
       "      <td>Free</td>\n",
       "      <td>0</td>\n",
       "      <td>Everyone</td>\n",
       "      <td>Art &amp; Design</td>\n",
       "      <td>August 1, 2018</td>\n",
       "      <td>1.2.4</td>\n",
       "      <td>4.0.3 and up</td>\n",
       "    </tr>\n",
       "    <tr>\n",
       "      <th>3</th>\n",
       "      <td>Sketch - Draw &amp; Paint</td>\n",
       "      <td>ART_AND_DESIGN</td>\n",
       "      <td>4.5</td>\n",
       "      <td>215644</td>\n",
       "      <td>25M</td>\n",
       "      <td>50,000,000+</td>\n",
       "      <td>Free</td>\n",
       "      <td>0</td>\n",
       "      <td>Teen</td>\n",
       "      <td>Art &amp; Design</td>\n",
       "      <td>June 8, 2018</td>\n",
       "      <td>Varies with device</td>\n",
       "      <td>4.2 and up</td>\n",
       "    </tr>\n",
       "    <tr>\n",
       "      <th>4</th>\n",
       "      <td>Pixel Draw - Number Art Coloring Book</td>\n",
       "      <td>ART_AND_DESIGN</td>\n",
       "      <td>4.3</td>\n",
       "      <td>967</td>\n",
       "      <td>2.8M</td>\n",
       "      <td>100,000+</td>\n",
       "      <td>Free</td>\n",
       "      <td>0</td>\n",
       "      <td>Everyone</td>\n",
       "      <td>Art &amp; Design;Creativity</td>\n",
       "      <td>June 20, 2018</td>\n",
       "      <td>1.1</td>\n",
       "      <td>4.4 and up</td>\n",
       "    </tr>\n",
       "  </tbody>\n",
       "</table>\n",
       "</div>"
      ],
      "text/plain": [
       "                                                 App        Category  Rating  \\\n",
       "0     Photo Editor & Candy Camera & Grid & ScrapBook  ART_AND_DESIGN     4.1   \n",
       "1                                Coloring book moana  ART_AND_DESIGN     3.9   \n",
       "2  U Launcher Lite – FREE Live Cool Themes, Hide ...  ART_AND_DESIGN     4.7   \n",
       "3                              Sketch - Draw & Paint  ART_AND_DESIGN     4.5   \n",
       "4              Pixel Draw - Number Art Coloring Book  ART_AND_DESIGN     4.3   \n",
       "\n",
       "  Reviews  Size     Installs  Type Price Content Rating  \\\n",
       "0     159   19M      10,000+  Free     0       Everyone   \n",
       "1     967   14M     500,000+  Free     0       Everyone   \n",
       "2   87510  8.7M   5,000,000+  Free     0       Everyone   \n",
       "3  215644   25M  50,000,000+  Free     0           Teen   \n",
       "4     967  2.8M     100,000+  Free     0       Everyone   \n",
       "\n",
       "                      Genres      Last Updated         Current Ver  \\\n",
       "0               Art & Design   January 7, 2018               1.0.0   \n",
       "1  Art & Design;Pretend Play  January 15, 2018               2.0.0   \n",
       "2               Art & Design    August 1, 2018               1.2.4   \n",
       "3               Art & Design      June 8, 2018  Varies with device   \n",
       "4    Art & Design;Creativity     June 20, 2018                 1.1   \n",
       "\n",
       "    Android Ver  \n",
       "0  4.0.3 and up  \n",
       "1  4.0.3 and up  \n",
       "2  4.0.3 and up  \n",
       "3    4.2 and up  \n",
       "4    4.4 and up  "
      ]
     },
     "execution_count": 3,
     "metadata": {},
     "output_type": "execute_result"
    }
   ],
   "source": [
    "df.head()"
   ]
  },
  {
   "cell_type": "code",
   "execution_count": 4,
   "id": "673c579c",
   "metadata": {
    "ExecuteTime": {
     "end_time": "2023-02-01T22:42:08.065941Z",
     "start_time": "2023-02-01T22:42:08.050795Z"
    }
   },
   "outputs": [],
   "source": [
    "df.loc[10472] = [\"Life Made WI-Fi Touchscreen Photo Frame\", np.nan, 1.9, 19.0, \"3.0M\", \"1000+\", \"Free\", 0, \"Everyone\", np.nan, \"February 11,2018\", \"1.0.19\", \"4.0 and up\"]"
   ]
  },
  {
   "cell_type": "code",
   "execution_count": 5,
   "id": "ce15a959",
   "metadata": {
    "ExecuteTime": {
     "end_time": "2023-02-01T22:42:08.078316Z",
     "start_time": "2023-02-01T22:42:08.067943Z"
    }
   },
   "outputs": [],
   "source": [
    "df[\"Installs\"] = df[\"Installs\"].astype(\"str\")"
   ]
  },
  {
   "cell_type": "code",
   "execution_count": 6,
   "id": "64aecb00",
   "metadata": {
    "ExecuteTime": {
     "end_time": "2023-02-01T22:42:08.100293Z",
     "start_time": "2023-02-01T22:42:08.078316Z"
    }
   },
   "outputs": [
    {
     "data": {
      "text/html": [
       "<div>\n",
       "<style scoped>\n",
       "    .dataframe tbody tr th:only-of-type {\n",
       "        vertical-align: middle;\n",
       "    }\n",
       "\n",
       "    .dataframe tbody tr th {\n",
       "        vertical-align: top;\n",
       "    }\n",
       "\n",
       "    .dataframe thead th {\n",
       "        text-align: right;\n",
       "    }\n",
       "</style>\n",
       "<table border=\"1\" class=\"dataframe\">\n",
       "  <thead>\n",
       "    <tr style=\"text-align: right;\">\n",
       "      <th></th>\n",
       "      <th>App</th>\n",
       "      <th>Category</th>\n",
       "      <th>Rating</th>\n",
       "      <th>Reviews</th>\n",
       "      <th>Size</th>\n",
       "      <th>Installs</th>\n",
       "      <th>Type</th>\n",
       "      <th>Price</th>\n",
       "      <th>Content Rating</th>\n",
       "      <th>Genres</th>\n",
       "      <th>Last Updated</th>\n",
       "      <th>Current Ver</th>\n",
       "      <th>Android Ver</th>\n",
       "    </tr>\n",
       "  </thead>\n",
       "  <tbody>\n",
       "    <tr>\n",
       "      <th>0</th>\n",
       "      <td>Photo Editor &amp; Candy Camera &amp; Grid &amp; ScrapBook</td>\n",
       "      <td>ART_AND_DESIGN</td>\n",
       "      <td>4.1</td>\n",
       "      <td>159</td>\n",
       "      <td>19M</td>\n",
       "      <td>10,000+</td>\n",
       "      <td>Free</td>\n",
       "      <td>0</td>\n",
       "      <td>Everyone</td>\n",
       "      <td>Art &amp; Design</td>\n",
       "      <td>January 7, 2018</td>\n",
       "      <td>1.0.0</td>\n",
       "      <td>4.0.3 and up</td>\n",
       "    </tr>\n",
       "    <tr>\n",
       "      <th>1</th>\n",
       "      <td>Coloring book moana</td>\n",
       "      <td>ART_AND_DESIGN</td>\n",
       "      <td>3.9</td>\n",
       "      <td>967</td>\n",
       "      <td>14M</td>\n",
       "      <td>500,000+</td>\n",
       "      <td>Free</td>\n",
       "      <td>0</td>\n",
       "      <td>Everyone</td>\n",
       "      <td>Art &amp; Design;Pretend Play</td>\n",
       "      <td>January 15, 2018</td>\n",
       "      <td>2.0.0</td>\n",
       "      <td>4.0.3 and up</td>\n",
       "    </tr>\n",
       "    <tr>\n",
       "      <th>2</th>\n",
       "      <td>U Launcher Lite – FREE Live Cool Themes, Hide ...</td>\n",
       "      <td>ART_AND_DESIGN</td>\n",
       "      <td>4.7</td>\n",
       "      <td>87510</td>\n",
       "      <td>8.7M</td>\n",
       "      <td>5,000,000+</td>\n",
       "      <td>Free</td>\n",
       "      <td>0</td>\n",
       "      <td>Everyone</td>\n",
       "      <td>Art &amp; Design</td>\n",
       "      <td>August 1, 2018</td>\n",
       "      <td>1.2.4</td>\n",
       "      <td>4.0.3 and up</td>\n",
       "    </tr>\n",
       "    <tr>\n",
       "      <th>3</th>\n",
       "      <td>Sketch - Draw &amp; Paint</td>\n",
       "      <td>ART_AND_DESIGN</td>\n",
       "      <td>4.5</td>\n",
       "      <td>215644</td>\n",
       "      <td>25M</td>\n",
       "      <td>50,000,000+</td>\n",
       "      <td>Free</td>\n",
       "      <td>0</td>\n",
       "      <td>Teen</td>\n",
       "      <td>Art &amp; Design</td>\n",
       "      <td>June 8, 2018</td>\n",
       "      <td>Varies with device</td>\n",
       "      <td>4.2 and up</td>\n",
       "    </tr>\n",
       "    <tr>\n",
       "      <th>4</th>\n",
       "      <td>Pixel Draw - Number Art Coloring Book</td>\n",
       "      <td>ART_AND_DESIGN</td>\n",
       "      <td>4.3</td>\n",
       "      <td>967</td>\n",
       "      <td>2.8M</td>\n",
       "      <td>100,000+</td>\n",
       "      <td>Free</td>\n",
       "      <td>0</td>\n",
       "      <td>Everyone</td>\n",
       "      <td>Art &amp; Design;Creativity</td>\n",
       "      <td>June 20, 2018</td>\n",
       "      <td>1.1</td>\n",
       "      <td>4.4 and up</td>\n",
       "    </tr>\n",
       "  </tbody>\n",
       "</table>\n",
       "</div>"
      ],
      "text/plain": [
       "                                                 App        Category  Rating  \\\n",
       "0     Photo Editor & Candy Camera & Grid & ScrapBook  ART_AND_DESIGN     4.1   \n",
       "1                                Coloring book moana  ART_AND_DESIGN     3.9   \n",
       "2  U Launcher Lite – FREE Live Cool Themes, Hide ...  ART_AND_DESIGN     4.7   \n",
       "3                              Sketch - Draw & Paint  ART_AND_DESIGN     4.5   \n",
       "4              Pixel Draw - Number Art Coloring Book  ART_AND_DESIGN     4.3   \n",
       "\n",
       "  Reviews  Size     Installs  Type Price Content Rating  \\\n",
       "0     159   19M      10,000+  Free     0       Everyone   \n",
       "1     967   14M     500,000+  Free     0       Everyone   \n",
       "2   87510  8.7M   5,000,000+  Free     0       Everyone   \n",
       "3  215644   25M  50,000,000+  Free     0           Teen   \n",
       "4     967  2.8M     100,000+  Free     0       Everyone   \n",
       "\n",
       "                      Genres      Last Updated         Current Ver  \\\n",
       "0               Art & Design   January 7, 2018               1.0.0   \n",
       "1  Art & Design;Pretend Play  January 15, 2018               2.0.0   \n",
       "2               Art & Design    August 1, 2018               1.2.4   \n",
       "3               Art & Design      June 8, 2018  Varies with device   \n",
       "4    Art & Design;Creativity     June 20, 2018                 1.1   \n",
       "\n",
       "    Android Ver  \n",
       "0  4.0.3 and up  \n",
       "1  4.0.3 and up  \n",
       "2  4.0.3 and up  \n",
       "3    4.2 and up  \n",
       "4    4.4 and up  "
      ]
     },
     "execution_count": 6,
     "metadata": {},
     "output_type": "execute_result"
    }
   ],
   "source": [
    "df.head()"
   ]
  },
  {
   "cell_type": "code",
   "execution_count": 7,
   "id": "8d4ebdda",
   "metadata": {
    "ExecuteTime": {
     "end_time": "2023-02-01T22:42:08.142929Z",
     "start_time": "2023-02-01T22:42:08.100293Z"
    }
   },
   "outputs": [
    {
     "name": "stdout",
     "output_type": "stream",
     "text": [
      "<class 'pandas.core.frame.DataFrame'>\n",
      "RangeIndex: 10841 entries, 0 to 10840\n",
      "Data columns (total 13 columns):\n",
      " #   Column          Non-Null Count  Dtype  \n",
      "---  ------          --------------  -----  \n",
      " 0   App             10841 non-null  object \n",
      " 1   Category        10840 non-null  object \n",
      " 2   Rating          9367 non-null   float64\n",
      " 3   Reviews         10841 non-null  object \n",
      " 4   Size            10841 non-null  object \n",
      " 5   Installs        10841 non-null  object \n",
      " 6   Type            10840 non-null  object \n",
      " 7   Price           10841 non-null  object \n",
      " 8   Content Rating  10841 non-null  object \n",
      " 9   Genres          10840 non-null  object \n",
      " 10  Last Updated    10841 non-null  object \n",
      " 11  Current Ver     10833 non-null  object \n",
      " 12  Android Ver     10839 non-null  object \n",
      "dtypes: float64(1), object(12)\n",
      "memory usage: 1.1+ MB\n"
     ]
    }
   ],
   "source": [
    "df.info()"
   ]
  },
  {
   "cell_type": "code",
   "execution_count": 8,
   "id": "0fe04d16",
   "metadata": {
    "ExecuteTime": {
     "end_time": "2023-02-01T22:42:08.148825Z",
     "start_time": "2023-02-01T22:42:08.143931Z"
    }
   },
   "outputs": [],
   "source": [
    "my_list = []"
   ]
  },
  {
   "cell_type": "code",
   "execution_count": 9,
   "id": "1f4a8e81",
   "metadata": {
    "ExecuteTime": {
     "end_time": "2023-02-01T22:42:08.172104Z",
     "start_time": "2023-02-01T22:42:08.148825Z"
    }
   },
   "outputs": [],
   "source": [
    "for i in df.Installs:\n",
    "    a = i.replace(\"+\", \"\")\n",
    "    a = a.replace(\",\", \"\")\n",
    "    my_list.append(a)"
   ]
  },
  {
   "cell_type": "code",
   "execution_count": 10,
   "id": "ac26052b",
   "metadata": {
    "ExecuteTime": {
     "end_time": "2023-02-01T22:42:08.184457Z",
     "start_time": "2023-02-01T22:42:08.172104Z"
    }
   },
   "outputs": [],
   "source": [
    "df.Installs = my_list"
   ]
  },
  {
   "cell_type": "code",
   "execution_count": 11,
   "id": "a348eb70",
   "metadata": {
    "ExecuteTime": {
     "end_time": "2023-02-01T22:42:08.197561Z",
     "start_time": "2023-02-01T22:42:08.184457Z"
    }
   },
   "outputs": [],
   "source": [
    "df.Installs = df[\"Installs\"].astype(\"float\")"
   ]
  },
  {
   "cell_type": "code",
   "execution_count": 12,
   "id": "f7be1f42",
   "metadata": {
    "ExecuteTime": {
     "end_time": "2023-02-01T22:42:08.212712Z",
     "start_time": "2023-02-01T22:42:08.197561Z"
    }
   },
   "outputs": [
    {
     "data": {
      "text/html": [
       "<div>\n",
       "<style scoped>\n",
       "    .dataframe tbody tr th:only-of-type {\n",
       "        vertical-align: middle;\n",
       "    }\n",
       "\n",
       "    .dataframe tbody tr th {\n",
       "        vertical-align: top;\n",
       "    }\n",
       "\n",
       "    .dataframe thead th {\n",
       "        text-align: right;\n",
       "    }\n",
       "</style>\n",
       "<table border=\"1\" class=\"dataframe\">\n",
       "  <thead>\n",
       "    <tr style=\"text-align: right;\">\n",
       "      <th></th>\n",
       "      <th>App</th>\n",
       "      <th>Category</th>\n",
       "      <th>Rating</th>\n",
       "      <th>Reviews</th>\n",
       "      <th>Size</th>\n",
       "      <th>Installs</th>\n",
       "      <th>Type</th>\n",
       "      <th>Price</th>\n",
       "      <th>Content Rating</th>\n",
       "      <th>Genres</th>\n",
       "      <th>Last Updated</th>\n",
       "      <th>Current Ver</th>\n",
       "      <th>Android Ver</th>\n",
       "    </tr>\n",
       "  </thead>\n",
       "  <tbody>\n",
       "    <tr>\n",
       "      <th>0</th>\n",
       "      <td>Photo Editor &amp; Candy Camera &amp; Grid &amp; ScrapBook</td>\n",
       "      <td>ART_AND_DESIGN</td>\n",
       "      <td>4.1</td>\n",
       "      <td>159</td>\n",
       "      <td>19M</td>\n",
       "      <td>10000.0</td>\n",
       "      <td>Free</td>\n",
       "      <td>0</td>\n",
       "      <td>Everyone</td>\n",
       "      <td>Art &amp; Design</td>\n",
       "      <td>January 7, 2018</td>\n",
       "      <td>1.0.0</td>\n",
       "      <td>4.0.3 and up</td>\n",
       "    </tr>\n",
       "    <tr>\n",
       "      <th>1</th>\n",
       "      <td>Coloring book moana</td>\n",
       "      <td>ART_AND_DESIGN</td>\n",
       "      <td>3.9</td>\n",
       "      <td>967</td>\n",
       "      <td>14M</td>\n",
       "      <td>500000.0</td>\n",
       "      <td>Free</td>\n",
       "      <td>0</td>\n",
       "      <td>Everyone</td>\n",
       "      <td>Art &amp; Design;Pretend Play</td>\n",
       "      <td>January 15, 2018</td>\n",
       "      <td>2.0.0</td>\n",
       "      <td>4.0.3 and up</td>\n",
       "    </tr>\n",
       "    <tr>\n",
       "      <th>2</th>\n",
       "      <td>U Launcher Lite – FREE Live Cool Themes, Hide ...</td>\n",
       "      <td>ART_AND_DESIGN</td>\n",
       "      <td>4.7</td>\n",
       "      <td>87510</td>\n",
       "      <td>8.7M</td>\n",
       "      <td>5000000.0</td>\n",
       "      <td>Free</td>\n",
       "      <td>0</td>\n",
       "      <td>Everyone</td>\n",
       "      <td>Art &amp; Design</td>\n",
       "      <td>August 1, 2018</td>\n",
       "      <td>1.2.4</td>\n",
       "      <td>4.0.3 and up</td>\n",
       "    </tr>\n",
       "    <tr>\n",
       "      <th>3</th>\n",
       "      <td>Sketch - Draw &amp; Paint</td>\n",
       "      <td>ART_AND_DESIGN</td>\n",
       "      <td>4.5</td>\n",
       "      <td>215644</td>\n",
       "      <td>25M</td>\n",
       "      <td>50000000.0</td>\n",
       "      <td>Free</td>\n",
       "      <td>0</td>\n",
       "      <td>Teen</td>\n",
       "      <td>Art &amp; Design</td>\n",
       "      <td>June 8, 2018</td>\n",
       "      <td>Varies with device</td>\n",
       "      <td>4.2 and up</td>\n",
       "    </tr>\n",
       "    <tr>\n",
       "      <th>4</th>\n",
       "      <td>Pixel Draw - Number Art Coloring Book</td>\n",
       "      <td>ART_AND_DESIGN</td>\n",
       "      <td>4.3</td>\n",
       "      <td>967</td>\n",
       "      <td>2.8M</td>\n",
       "      <td>100000.0</td>\n",
       "      <td>Free</td>\n",
       "      <td>0</td>\n",
       "      <td>Everyone</td>\n",
       "      <td>Art &amp; Design;Creativity</td>\n",
       "      <td>June 20, 2018</td>\n",
       "      <td>1.1</td>\n",
       "      <td>4.4 and up</td>\n",
       "    </tr>\n",
       "  </tbody>\n",
       "</table>\n",
       "</div>"
      ],
      "text/plain": [
       "                                                 App        Category  Rating  \\\n",
       "0     Photo Editor & Candy Camera & Grid & ScrapBook  ART_AND_DESIGN     4.1   \n",
       "1                                Coloring book moana  ART_AND_DESIGN     3.9   \n",
       "2  U Launcher Lite – FREE Live Cool Themes, Hide ...  ART_AND_DESIGN     4.7   \n",
       "3                              Sketch - Draw & Paint  ART_AND_DESIGN     4.5   \n",
       "4              Pixel Draw - Number Art Coloring Book  ART_AND_DESIGN     4.3   \n",
       "\n",
       "  Reviews  Size    Installs  Type Price Content Rating  \\\n",
       "0     159   19M     10000.0  Free     0       Everyone   \n",
       "1     967   14M    500000.0  Free     0       Everyone   \n",
       "2   87510  8.7M   5000000.0  Free     0       Everyone   \n",
       "3  215644   25M  50000000.0  Free     0           Teen   \n",
       "4     967  2.8M    100000.0  Free     0       Everyone   \n",
       "\n",
       "                      Genres      Last Updated         Current Ver  \\\n",
       "0               Art & Design   January 7, 2018               1.0.0   \n",
       "1  Art & Design;Pretend Play  January 15, 2018               2.0.0   \n",
       "2               Art & Design    August 1, 2018               1.2.4   \n",
       "3               Art & Design      June 8, 2018  Varies with device   \n",
       "4    Art & Design;Creativity     June 20, 2018                 1.1   \n",
       "\n",
       "    Android Ver  \n",
       "0  4.0.3 and up  \n",
       "1  4.0.3 and up  \n",
       "2  4.0.3 and up  \n",
       "3    4.2 and up  \n",
       "4    4.4 and up  "
      ]
     },
     "execution_count": 12,
     "metadata": {},
     "output_type": "execute_result"
    }
   ],
   "source": [
    "df.head()"
   ]
  },
  {
   "cell_type": "code",
   "execution_count": 13,
   "id": "ca648d58",
   "metadata": {
    "ExecuteTime": {
     "end_time": "2023-02-01T22:42:08.245341Z",
     "start_time": "2023-02-01T22:42:08.213713Z"
    }
   },
   "outputs": [
    {
     "data": {
      "text/html": [
       "<div>\n",
       "<style scoped>\n",
       "    .dataframe tbody tr th:only-of-type {\n",
       "        vertical-align: middle;\n",
       "    }\n",
       "\n",
       "    .dataframe tbody tr th {\n",
       "        vertical-align: top;\n",
       "    }\n",
       "\n",
       "    .dataframe thead th {\n",
       "        text-align: right;\n",
       "    }\n",
       "</style>\n",
       "<table border=\"1\" class=\"dataframe\">\n",
       "  <thead>\n",
       "    <tr style=\"text-align: right;\">\n",
       "      <th></th>\n",
       "      <th>App</th>\n",
       "      <th>Category</th>\n",
       "      <th>Rating</th>\n",
       "      <th>Reviews</th>\n",
       "      <th>Size</th>\n",
       "      <th>Installs</th>\n",
       "      <th>Type</th>\n",
       "      <th>Price</th>\n",
       "      <th>Content Rating</th>\n",
       "      <th>Genres</th>\n",
       "      <th>Last Updated</th>\n",
       "      <th>Current Ver</th>\n",
       "      <th>Android Ver</th>\n",
       "    </tr>\n",
       "  </thead>\n",
       "  <tbody>\n",
       "    <tr>\n",
       "      <th>7074</th>\n",
       "      <td>WISE- MOBILE PORTAL</td>\n",
       "      <td>TOOLS</td>\n",
       "      <td>NaN</td>\n",
       "      <td>3</td>\n",
       "      <td>1.0M</td>\n",
       "      <td>500.0</td>\n",
       "      <td>Free</td>\n",
       "      <td>0</td>\n",
       "      <td>Everyone</td>\n",
       "      <td>Tools</td>\n",
       "      <td>July 30, 2015</td>\n",
       "      <td>1.0.0.4</td>\n",
       "      <td>2.2 and up</td>\n",
       "    </tr>\n",
       "    <tr>\n",
       "      <th>6446</th>\n",
       "      <td>BL PowerPoint Remote</td>\n",
       "      <td>TOOLS</td>\n",
       "      <td>4.3</td>\n",
       "      <td>33</td>\n",
       "      <td>1.0M</td>\n",
       "      <td>500.0</td>\n",
       "      <td>Paid</td>\n",
       "      <td>$3.99</td>\n",
       "      <td>Everyone</td>\n",
       "      <td>Tools</td>\n",
       "      <td>February 25, 2015</td>\n",
       "      <td>2.6.150226</td>\n",
       "      <td>2.3 and up</td>\n",
       "    </tr>\n",
       "    <tr>\n",
       "      <th>10043</th>\n",
       "      <td>Remote EX for NISSAN</td>\n",
       "      <td>COMMUNICATION</td>\n",
       "      <td>2.3</td>\n",
       "      <td>223</td>\n",
       "      <td>1.0M</td>\n",
       "      <td>5000.0</td>\n",
       "      <td>Paid</td>\n",
       "      <td>$1.49</td>\n",
       "      <td>Everyone</td>\n",
       "      <td>Communication</td>\n",
       "      <td>July 26, 2014</td>\n",
       "      <td>1.3</td>\n",
       "      <td>3.0 and up</td>\n",
       "    </tr>\n",
       "    <tr>\n",
       "      <th>9973</th>\n",
       "      <td>German Vocabulary Trainer</td>\n",
       "      <td>FAMILY</td>\n",
       "      <td>3.3</td>\n",
       "      <td>1218</td>\n",
       "      <td>1.0M</td>\n",
       "      <td>100000.0</td>\n",
       "      <td>Free</td>\n",
       "      <td>0</td>\n",
       "      <td>Everyone</td>\n",
       "      <td>Education</td>\n",
       "      <td>August 24, 2012</td>\n",
       "      <td>1.0</td>\n",
       "      <td>2.1 and up</td>\n",
       "    </tr>\n",
       "    <tr>\n",
       "      <th>8077</th>\n",
       "      <td>go41cx</td>\n",
       "      <td>FAMILY</td>\n",
       "      <td>4.8</td>\n",
       "      <td>171</td>\n",
       "      <td>1.0M</td>\n",
       "      <td>1000.0</td>\n",
       "      <td>Paid</td>\n",
       "      <td>$10.00</td>\n",
       "      <td>Everyone</td>\n",
       "      <td>Education</td>\n",
       "      <td>October 18, 2016</td>\n",
       "      <td>1.7.0</td>\n",
       "      <td>2.2 and up</td>\n",
       "    </tr>\n",
       "    <tr>\n",
       "      <th>...</th>\n",
       "      <td>...</td>\n",
       "      <td>...</td>\n",
       "      <td>...</td>\n",
       "      <td>...</td>\n",
       "      <td>...</td>\n",
       "      <td>...</td>\n",
       "      <td>...</td>\n",
       "      <td>...</td>\n",
       "      <td>...</td>\n",
       "      <td>...</td>\n",
       "      <td>...</td>\n",
       "      <td>...</td>\n",
       "      <td>...</td>\n",
       "    </tr>\n",
       "    <tr>\n",
       "      <th>3542</th>\n",
       "      <td>Ultimate Notepad</td>\n",
       "      <td>PRODUCTIVITY</td>\n",
       "      <td>4.0</td>\n",
       "      <td>10643</td>\n",
       "      <td>Varies with device</td>\n",
       "      <td>5000000.0</td>\n",
       "      <td>Free</td>\n",
       "      <td>0</td>\n",
       "      <td>Everyone</td>\n",
       "      <td>Productivity</td>\n",
       "      <td>May 19, 2018</td>\n",
       "      <td>Varies with device</td>\n",
       "      <td>Varies with device</td>\n",
       "    </tr>\n",
       "    <tr>\n",
       "      <th>526</th>\n",
       "      <td>NoBuffDating - Free Dating App</td>\n",
       "      <td>DATING</td>\n",
       "      <td>4.2</td>\n",
       "      <td>1939</td>\n",
       "      <td>Varies with device</td>\n",
       "      <td>100000.0</td>\n",
       "      <td>Free</td>\n",
       "      <td>0</td>\n",
       "      <td>Mature 17+</td>\n",
       "      <td>Dating</td>\n",
       "      <td>January 8, 2017</td>\n",
       "      <td>1.0.0</td>\n",
       "      <td>4.0 and up</td>\n",
       "    </tr>\n",
       "    <tr>\n",
       "      <th>8819</th>\n",
       "      <td>Synology Drive</td>\n",
       "      <td>PRODUCTIVITY</td>\n",
       "      <td>3.2</td>\n",
       "      <td>368</td>\n",
       "      <td>Varies with device</td>\n",
       "      <td>100000.0</td>\n",
       "      <td>Free</td>\n",
       "      <td>0</td>\n",
       "      <td>Everyone</td>\n",
       "      <td>Productivity</td>\n",
       "      <td>August 2, 2018</td>\n",
       "      <td>Varies with device</td>\n",
       "      <td>5.0 and up</td>\n",
       "    </tr>\n",
       "    <tr>\n",
       "      <th>8823</th>\n",
       "      <td>DS Helpdesk Plus</td>\n",
       "      <td>BUSINESS</td>\n",
       "      <td>3.6</td>\n",
       "      <td>21</td>\n",
       "      <td>Varies with device</td>\n",
       "      <td>100.0</td>\n",
       "      <td>Paid</td>\n",
       "      <td>$12.99</td>\n",
       "      <td>Everyone</td>\n",
       "      <td>Business</td>\n",
       "      <td>January 30, 2017</td>\n",
       "      <td>Varies with device</td>\n",
       "      <td>Varies with device</td>\n",
       "    </tr>\n",
       "    <tr>\n",
       "      <th>2076</th>\n",
       "      <td>Happy Street</td>\n",
       "      <td>FAMILY</td>\n",
       "      <td>4.5</td>\n",
       "      <td>110877</td>\n",
       "      <td>Varies with device</td>\n",
       "      <td>1000000.0</td>\n",
       "      <td>Free</td>\n",
       "      <td>0</td>\n",
       "      <td>Everyone 10+</td>\n",
       "      <td>Casual;Action &amp; Adventure</td>\n",
       "      <td>March 28, 2018</td>\n",
       "      <td>Varies with device</td>\n",
       "      <td>Varies with device</td>\n",
       "    </tr>\n",
       "  </tbody>\n",
       "</table>\n",
       "<p>10841 rows × 13 columns</p>\n",
       "</div>"
      ],
      "text/plain": [
       "                                  App       Category  Rating Reviews  \\\n",
       "7074              WISE- MOBILE PORTAL          TOOLS     NaN       3   \n",
       "6446             BL PowerPoint Remote          TOOLS     4.3      33   \n",
       "10043            Remote EX for NISSAN  COMMUNICATION     2.3     223   \n",
       "9973        German Vocabulary Trainer         FAMILY     3.3    1218   \n",
       "8077                           go41cx         FAMILY     4.8     171   \n",
       "...                               ...            ...     ...     ...   \n",
       "3542                 Ultimate Notepad   PRODUCTIVITY     4.0   10643   \n",
       "526    NoBuffDating - Free Dating App         DATING     4.2    1939   \n",
       "8819                   Synology Drive   PRODUCTIVITY     3.2     368   \n",
       "8823                 DS Helpdesk Plus       BUSINESS     3.6      21   \n",
       "2076                     Happy Street         FAMILY     4.5  110877   \n",
       "\n",
       "                     Size   Installs  Type   Price Content Rating  \\\n",
       "7074                 1.0M      500.0  Free       0       Everyone   \n",
       "6446                 1.0M      500.0  Paid   $3.99       Everyone   \n",
       "10043                1.0M     5000.0  Paid   $1.49       Everyone   \n",
       "9973                 1.0M   100000.0  Free       0       Everyone   \n",
       "8077                 1.0M     1000.0  Paid  $10.00       Everyone   \n",
       "...                   ...        ...   ...     ...            ...   \n",
       "3542   Varies with device  5000000.0  Free       0       Everyone   \n",
       "526    Varies with device   100000.0  Free       0     Mature 17+   \n",
       "8819   Varies with device   100000.0  Free       0       Everyone   \n",
       "8823   Varies with device      100.0  Paid  $12.99       Everyone   \n",
       "2076   Varies with device  1000000.0  Free       0   Everyone 10+   \n",
       "\n",
       "                          Genres       Last Updated         Current Ver  \\\n",
       "7074                       Tools      July 30, 2015             1.0.0.4   \n",
       "6446                       Tools  February 25, 2015          2.6.150226   \n",
       "10043              Communication      July 26, 2014                 1.3   \n",
       "9973                   Education    August 24, 2012                 1.0   \n",
       "8077                   Education   October 18, 2016               1.7.0   \n",
       "...                          ...                ...                 ...   \n",
       "3542                Productivity       May 19, 2018  Varies with device   \n",
       "526                       Dating    January 8, 2017               1.0.0   \n",
       "8819                Productivity     August 2, 2018  Varies with device   \n",
       "8823                    Business   January 30, 2017  Varies with device   \n",
       "2076   Casual;Action & Adventure     March 28, 2018  Varies with device   \n",
       "\n",
       "              Android Ver  \n",
       "7074           2.2 and up  \n",
       "6446           2.3 and up  \n",
       "10043          3.0 and up  \n",
       "9973           2.1 and up  \n",
       "8077           2.2 and up  \n",
       "...                   ...  \n",
       "3542   Varies with device  \n",
       "526            4.0 and up  \n",
       "8819           5.0 and up  \n",
       "8823   Varies with device  \n",
       "2076   Varies with device  \n",
       "\n",
       "[10841 rows x 13 columns]"
      ]
     },
     "execution_count": 13,
     "metadata": {},
     "output_type": "execute_result"
    }
   ],
   "source": [
    "df.sort_values(\"Size\")"
   ]
  },
  {
   "cell_type": "code",
   "execution_count": 14,
   "id": "ade624b4",
   "metadata": {
    "ExecuteTime": {
     "end_time": "2023-02-01T22:42:08.264738Z",
     "start_time": "2023-02-01T22:42:08.246342Z"
    }
   },
   "outputs": [],
   "source": [
    "liste = []\n",
    "for i in df[\"Size\"]:\n",
    "    if \"M\" in i:\n",
    "        i = i.replace(\"M\", \"\")\n",
    "        i = float(i)\n",
    "        i *= 1000\n",
    "        i = str(i)\n",
    "        liste.append(i)\n",
    "    if \"k\" in i:\n",
    "        i = i.replace(\"k\", \"\")\n",
    "        i = str(i)\n",
    "        liste.append(i)\n",
    "    if \"Varies with device\" in i:\n",
    "        i = 0\n",
    "        i = str(i)\n",
    "        liste.append(i)"
   ]
  },
  {
   "cell_type": "code",
   "execution_count": 15,
   "id": "0d104428",
   "metadata": {
    "ExecuteTime": {
     "end_time": "2023-02-01T22:42:08.277998Z",
     "start_time": "2023-02-01T22:42:08.264738Z"
    }
   },
   "outputs": [],
   "source": [
    "df[\"Size\"] = liste"
   ]
  },
  {
   "cell_type": "code",
   "execution_count": 16,
   "id": "871652a6",
   "metadata": {
    "ExecuteTime": {
     "end_time": "2023-02-01T22:42:08.292862Z",
     "start_time": "2023-02-01T22:42:08.277998Z"
    }
   },
   "outputs": [],
   "source": [
    "df[\"Size\"] = df[\"Size\"].astype(\"float\")"
   ]
  },
  {
   "cell_type": "code",
   "execution_count": 17,
   "id": "6ddd0aee",
   "metadata": {
    "ExecuteTime": {
     "end_time": "2023-02-01T22:42:08.322219Z",
     "start_time": "2023-02-01T22:42:08.292862Z"
    }
   },
   "outputs": [
    {
     "name": "stdout",
     "output_type": "stream",
     "text": [
      "<class 'pandas.core.frame.DataFrame'>\n",
      "RangeIndex: 10841 entries, 0 to 10840\n",
      "Data columns (total 13 columns):\n",
      " #   Column          Non-Null Count  Dtype  \n",
      "---  ------          --------------  -----  \n",
      " 0   App             10841 non-null  object \n",
      " 1   Category        10840 non-null  object \n",
      " 2   Rating          9367 non-null   float64\n",
      " 3   Reviews         10841 non-null  object \n",
      " 4   Size            10841 non-null  float64\n",
      " 5   Installs        10841 non-null  float64\n",
      " 6   Type            10840 non-null  object \n",
      " 7   Price           10841 non-null  object \n",
      " 8   Content Rating  10841 non-null  object \n",
      " 9   Genres          10840 non-null  object \n",
      " 10  Last Updated    10841 non-null  object \n",
      " 11  Current Ver     10833 non-null  object \n",
      " 12  Android Ver     10839 non-null  object \n",
      "dtypes: float64(3), object(10)\n",
      "memory usage: 1.1+ MB\n"
     ]
    }
   ],
   "source": [
    "df.info()"
   ]
  },
  {
   "cell_type": "code",
   "execution_count": 18,
   "id": "4caedbc1",
   "metadata": {
    "ExecuteTime": {
     "end_time": "2023-02-01T22:42:08.336613Z",
     "start_time": "2023-02-01T22:42:08.323222Z"
    }
   },
   "outputs": [],
   "source": [
    "df[\"Rating\"].fillna(0, inplace=True)"
   ]
  },
  {
   "cell_type": "code",
   "execution_count": 19,
   "id": "741fbf7b",
   "metadata": {
    "ExecuteTime": {
     "end_time": "2023-02-01T22:42:08.345702Z",
     "start_time": "2023-02-01T22:42:08.336613Z"
    }
   },
   "outputs": [],
   "source": [
    "df[\"Rating\"] = df[\"Rating\"].astype(\"float\")"
   ]
  },
  {
   "cell_type": "code",
   "execution_count": 20,
   "id": "cce1bd94",
   "metadata": {
    "ExecuteTime": {
     "end_time": "2023-02-01T22:42:08.358615Z",
     "start_time": "2023-02-01T22:42:08.345702Z"
    }
   },
   "outputs": [
    {
     "data": {
      "text/html": [
       "<div>\n",
       "<style scoped>\n",
       "    .dataframe tbody tr th:only-of-type {\n",
       "        vertical-align: middle;\n",
       "    }\n",
       "\n",
       "    .dataframe tbody tr th {\n",
       "        vertical-align: top;\n",
       "    }\n",
       "\n",
       "    .dataframe thead th {\n",
       "        text-align: right;\n",
       "    }\n",
       "</style>\n",
       "<table border=\"1\" class=\"dataframe\">\n",
       "  <thead>\n",
       "    <tr style=\"text-align: right;\">\n",
       "      <th></th>\n",
       "      <th>App</th>\n",
       "      <th>Category</th>\n",
       "      <th>Rating</th>\n",
       "      <th>Reviews</th>\n",
       "      <th>Size</th>\n",
       "      <th>Installs</th>\n",
       "      <th>Type</th>\n",
       "      <th>Price</th>\n",
       "      <th>Content Rating</th>\n",
       "      <th>Genres</th>\n",
       "      <th>Last Updated</th>\n",
       "      <th>Current Ver</th>\n",
       "      <th>Android Ver</th>\n",
       "    </tr>\n",
       "  </thead>\n",
       "  <tbody>\n",
       "    <tr>\n",
       "      <th>0</th>\n",
       "      <td>Photo Editor &amp; Candy Camera &amp; Grid &amp; ScrapBook</td>\n",
       "      <td>ART_AND_DESIGN</td>\n",
       "      <td>4.1</td>\n",
       "      <td>159</td>\n",
       "      <td>19000.0</td>\n",
       "      <td>10000.0</td>\n",
       "      <td>Free</td>\n",
       "      <td>0</td>\n",
       "      <td>Everyone</td>\n",
       "      <td>Art &amp; Design</td>\n",
       "      <td>January 7, 2018</td>\n",
       "      <td>1.0.0</td>\n",
       "      <td>4.0.3 and up</td>\n",
       "    </tr>\n",
       "    <tr>\n",
       "      <th>1</th>\n",
       "      <td>Coloring book moana</td>\n",
       "      <td>ART_AND_DESIGN</td>\n",
       "      <td>3.9</td>\n",
       "      <td>967</td>\n",
       "      <td>14000.0</td>\n",
       "      <td>500000.0</td>\n",
       "      <td>Free</td>\n",
       "      <td>0</td>\n",
       "      <td>Everyone</td>\n",
       "      <td>Art &amp; Design;Pretend Play</td>\n",
       "      <td>January 15, 2018</td>\n",
       "      <td>2.0.0</td>\n",
       "      <td>4.0.3 and up</td>\n",
       "    </tr>\n",
       "    <tr>\n",
       "      <th>2</th>\n",
       "      <td>U Launcher Lite – FREE Live Cool Themes, Hide ...</td>\n",
       "      <td>ART_AND_DESIGN</td>\n",
       "      <td>4.7</td>\n",
       "      <td>87510</td>\n",
       "      <td>8700.0</td>\n",
       "      <td>5000000.0</td>\n",
       "      <td>Free</td>\n",
       "      <td>0</td>\n",
       "      <td>Everyone</td>\n",
       "      <td>Art &amp; Design</td>\n",
       "      <td>August 1, 2018</td>\n",
       "      <td>1.2.4</td>\n",
       "      <td>4.0.3 and up</td>\n",
       "    </tr>\n",
       "    <tr>\n",
       "      <th>3</th>\n",
       "      <td>Sketch - Draw &amp; Paint</td>\n",
       "      <td>ART_AND_DESIGN</td>\n",
       "      <td>4.5</td>\n",
       "      <td>215644</td>\n",
       "      <td>25000.0</td>\n",
       "      <td>50000000.0</td>\n",
       "      <td>Free</td>\n",
       "      <td>0</td>\n",
       "      <td>Teen</td>\n",
       "      <td>Art &amp; Design</td>\n",
       "      <td>June 8, 2018</td>\n",
       "      <td>Varies with device</td>\n",
       "      <td>4.2 and up</td>\n",
       "    </tr>\n",
       "    <tr>\n",
       "      <th>4</th>\n",
       "      <td>Pixel Draw - Number Art Coloring Book</td>\n",
       "      <td>ART_AND_DESIGN</td>\n",
       "      <td>4.3</td>\n",
       "      <td>967</td>\n",
       "      <td>2800.0</td>\n",
       "      <td>100000.0</td>\n",
       "      <td>Free</td>\n",
       "      <td>0</td>\n",
       "      <td>Everyone</td>\n",
       "      <td>Art &amp; Design;Creativity</td>\n",
       "      <td>June 20, 2018</td>\n",
       "      <td>1.1</td>\n",
       "      <td>4.4 and up</td>\n",
       "    </tr>\n",
       "  </tbody>\n",
       "</table>\n",
       "</div>"
      ],
      "text/plain": [
       "                                                 App        Category  Rating  \\\n",
       "0     Photo Editor & Candy Camera & Grid & ScrapBook  ART_AND_DESIGN     4.1   \n",
       "1                                Coloring book moana  ART_AND_DESIGN     3.9   \n",
       "2  U Launcher Lite – FREE Live Cool Themes, Hide ...  ART_AND_DESIGN     4.7   \n",
       "3                              Sketch - Draw & Paint  ART_AND_DESIGN     4.5   \n",
       "4              Pixel Draw - Number Art Coloring Book  ART_AND_DESIGN     4.3   \n",
       "\n",
       "  Reviews     Size    Installs  Type Price Content Rating  \\\n",
       "0     159  19000.0     10000.0  Free     0       Everyone   \n",
       "1     967  14000.0    500000.0  Free     0       Everyone   \n",
       "2   87510   8700.0   5000000.0  Free     0       Everyone   \n",
       "3  215644  25000.0  50000000.0  Free     0           Teen   \n",
       "4     967   2800.0    100000.0  Free     0       Everyone   \n",
       "\n",
       "                      Genres      Last Updated         Current Ver  \\\n",
       "0               Art & Design   January 7, 2018               1.0.0   \n",
       "1  Art & Design;Pretend Play  January 15, 2018               2.0.0   \n",
       "2               Art & Design    August 1, 2018               1.2.4   \n",
       "3               Art & Design      June 8, 2018  Varies with device   \n",
       "4    Art & Design;Creativity     June 20, 2018                 1.1   \n",
       "\n",
       "    Android Ver  \n",
       "0  4.0.3 and up  \n",
       "1  4.0.3 and up  \n",
       "2  4.0.3 and up  \n",
       "3    4.2 and up  \n",
       "4    4.4 and up  "
      ]
     },
     "execution_count": 20,
     "metadata": {},
     "output_type": "execute_result"
    }
   ],
   "source": [
    "df.head()"
   ]
  },
  {
   "cell_type": "code",
   "execution_count": 21,
   "id": "2e705019",
   "metadata": {
    "ExecuteTime": {
     "end_time": "2023-02-01T22:42:08.373878Z",
     "start_time": "2023-02-01T22:42:08.358615Z"
    }
   },
   "outputs": [
    {
     "data": {
      "text/html": [
       "<div>\n",
       "<style scoped>\n",
       "    .dataframe tbody tr th:only-of-type {\n",
       "        vertical-align: middle;\n",
       "    }\n",
       "\n",
       "    .dataframe tbody tr th {\n",
       "        vertical-align: top;\n",
       "    }\n",
       "\n",
       "    .dataframe thead th {\n",
       "        text-align: right;\n",
       "    }\n",
       "</style>\n",
       "<table border=\"1\" class=\"dataframe\">\n",
       "  <thead>\n",
       "    <tr style=\"text-align: right;\">\n",
       "      <th></th>\n",
       "      <th>App</th>\n",
       "      <th>Category</th>\n",
       "      <th>Rating</th>\n",
       "      <th>Reviews</th>\n",
       "      <th>Size</th>\n",
       "      <th>Installs</th>\n",
       "      <th>Type</th>\n",
       "      <th>Price</th>\n",
       "      <th>Content Rating</th>\n",
       "      <th>Genres</th>\n",
       "      <th>Last Updated</th>\n",
       "      <th>Current Ver</th>\n",
       "      <th>Android Ver</th>\n",
       "    </tr>\n",
       "  </thead>\n",
       "  <tbody>\n",
       "    <tr>\n",
       "      <th>427</th>\n",
       "      <td>Puffin Browser Pro</td>\n",
       "      <td>COMMUNICATION</td>\n",
       "      <td>4.0</td>\n",
       "      <td>18247</td>\n",
       "      <td>0.0</td>\n",
       "      <td>100000.0</td>\n",
       "      <td>Paid</td>\n",
       "      <td>$3.99</td>\n",
       "      <td>Everyone</td>\n",
       "      <td>Communication</td>\n",
       "      <td>July 5, 2018</td>\n",
       "      <td>7.5.3.20547</td>\n",
       "      <td>4.1 and up</td>\n",
       "    </tr>\n",
       "    <tr>\n",
       "      <th>476</th>\n",
       "      <td>Moco+ - Chat, Meet People</td>\n",
       "      <td>DATING</td>\n",
       "      <td>4.2</td>\n",
       "      <td>1545</td>\n",
       "      <td>0.0</td>\n",
       "      <td>10000.0</td>\n",
       "      <td>Paid</td>\n",
       "      <td>$3.99</td>\n",
       "      <td>Mature 17+</td>\n",
       "      <td>Dating</td>\n",
       "      <td>June 19, 2018</td>\n",
       "      <td>2.6.139</td>\n",
       "      <td>4.1 and up</td>\n",
       "    </tr>\n",
       "    <tr>\n",
       "      <th>480</th>\n",
       "      <td>Ad Blocker for SayHi</td>\n",
       "      <td>DATING</td>\n",
       "      <td>0.0</td>\n",
       "      <td>4</td>\n",
       "      <td>1200.0</td>\n",
       "      <td>100.0</td>\n",
       "      <td>Paid</td>\n",
       "      <td>$3.99</td>\n",
       "      <td>Teen</td>\n",
       "      <td>Dating</td>\n",
       "      <td>August 2, 2018</td>\n",
       "      <td>1.2</td>\n",
       "      <td>4.0.3 and up</td>\n",
       "    </tr>\n",
       "    <tr>\n",
       "      <th>571</th>\n",
       "      <td>Moco+ - Chat, Meet People</td>\n",
       "      <td>DATING</td>\n",
       "      <td>4.2</td>\n",
       "      <td>1546</td>\n",
       "      <td>0.0</td>\n",
       "      <td>10000.0</td>\n",
       "      <td>Paid</td>\n",
       "      <td>$3.99</td>\n",
       "      <td>Mature 17+</td>\n",
       "      <td>Dating</td>\n",
       "      <td>June 19, 2018</td>\n",
       "      <td>2.6.139</td>\n",
       "      <td>4.1 and up</td>\n",
       "    </tr>\n",
       "    <tr>\n",
       "      <th>851</th>\n",
       "      <td>Sago Mini Hat Maker</td>\n",
       "      <td>EDUCATION</td>\n",
       "      <td>4.9</td>\n",
       "      <td>11</td>\n",
       "      <td>63000.0</td>\n",
       "      <td>1000.0</td>\n",
       "      <td>Paid</td>\n",
       "      <td>$3.99</td>\n",
       "      <td>Everyone</td>\n",
       "      <td>Education;Pretend Play</td>\n",
       "      <td>July 24, 2017</td>\n",
       "      <td>1.0</td>\n",
       "      <td>4.0.3 and up</td>\n",
       "    </tr>\n",
       "  </tbody>\n",
       "</table>\n",
       "</div>"
      ],
      "text/plain": [
       "                           App       Category  Rating Reviews     Size  \\\n",
       "427         Puffin Browser Pro  COMMUNICATION     4.0   18247      0.0   \n",
       "476  Moco+ - Chat, Meet People         DATING     4.2    1545      0.0   \n",
       "480       Ad Blocker for SayHi         DATING     0.0       4   1200.0   \n",
       "571  Moco+ - Chat, Meet People         DATING     4.2    1546      0.0   \n",
       "851        Sago Mini Hat Maker      EDUCATION     4.9      11  63000.0   \n",
       "\n",
       "     Installs  Type  Price Content Rating                  Genres  \\\n",
       "427  100000.0  Paid  $3.99       Everyone           Communication   \n",
       "476   10000.0  Paid  $3.99     Mature 17+                  Dating   \n",
       "480     100.0  Paid  $3.99           Teen                  Dating   \n",
       "571   10000.0  Paid  $3.99     Mature 17+                  Dating   \n",
       "851    1000.0  Paid  $3.99       Everyone  Education;Pretend Play   \n",
       "\n",
       "       Last Updated  Current Ver   Android Ver  \n",
       "427    July 5, 2018  7.5.3.20547    4.1 and up  \n",
       "476   June 19, 2018      2.6.139    4.1 and up  \n",
       "480  August 2, 2018          1.2  4.0.3 and up  \n",
       "571   June 19, 2018      2.6.139    4.1 and up  \n",
       "851   July 24, 2017          1.0  4.0.3 and up  "
      ]
     },
     "execution_count": 21,
     "metadata": {},
     "output_type": "execute_result"
    }
   ],
   "source": [
    "df[df[\"Price\"] == \"$3.99\"].head()"
   ]
  },
  {
   "cell_type": "code",
   "execution_count": 22,
   "id": "a704408a",
   "metadata": {
    "ExecuteTime": {
     "end_time": "2023-02-01T22:42:08.392211Z",
     "start_time": "2023-02-01T22:42:08.374879Z"
    }
   },
   "outputs": [],
   "source": [
    "liste = []\n",
    "for i in df[\"Price\"]:\n",
    "    i = str(i)\n",
    "    i = i.replace(\"$\", \"\")\n",
    "    liste.append(i)"
   ]
  },
  {
   "cell_type": "code",
   "execution_count": 23,
   "id": "20b97ace",
   "metadata": {
    "ExecuteTime": {
     "end_time": "2023-02-01T22:42:08.398166Z",
     "start_time": "2023-02-01T22:42:08.394215Z"
    }
   },
   "outputs": [],
   "source": [
    "df[\"Price\"] = liste"
   ]
  },
  {
   "cell_type": "code",
   "execution_count": 24,
   "id": "9120423a",
   "metadata": {
    "ExecuteTime": {
     "end_time": "2023-02-01T22:42:08.407273Z",
     "start_time": "2023-02-01T22:42:08.398166Z"
    }
   },
   "outputs": [],
   "source": [
    "df[\"Price\"] = df.Price.astype(\"float\")"
   ]
  },
  {
   "cell_type": "code",
   "execution_count": 25,
   "id": "0b691087",
   "metadata": {
    "ExecuteTime": {
     "end_time": "2023-02-01T22:42:08.433999Z",
     "start_time": "2023-02-01T22:42:08.407273Z"
    }
   },
   "outputs": [
    {
     "data": {
      "text/html": [
       "<div>\n",
       "<style scoped>\n",
       "    .dataframe tbody tr th:only-of-type {\n",
       "        vertical-align: middle;\n",
       "    }\n",
       "\n",
       "    .dataframe tbody tr th {\n",
       "        vertical-align: top;\n",
       "    }\n",
       "\n",
       "    .dataframe thead th {\n",
       "        text-align: right;\n",
       "    }\n",
       "</style>\n",
       "<table border=\"1\" class=\"dataframe\">\n",
       "  <thead>\n",
       "    <tr style=\"text-align: right;\">\n",
       "      <th></th>\n",
       "      <th>App</th>\n",
       "      <th>Category</th>\n",
       "      <th>Rating</th>\n",
       "      <th>Reviews</th>\n",
       "      <th>Size</th>\n",
       "      <th>Installs</th>\n",
       "      <th>Type</th>\n",
       "      <th>Price</th>\n",
       "      <th>Content Rating</th>\n",
       "      <th>Genres</th>\n",
       "      <th>Last Updated</th>\n",
       "      <th>Current Ver</th>\n",
       "      <th>Android Ver</th>\n",
       "    </tr>\n",
       "  </thead>\n",
       "  <tbody>\n",
       "    <tr>\n",
       "      <th>427</th>\n",
       "      <td>Puffin Browser Pro</td>\n",
       "      <td>COMMUNICATION</td>\n",
       "      <td>4.0</td>\n",
       "      <td>18247</td>\n",
       "      <td>0.0</td>\n",
       "      <td>100000.0</td>\n",
       "      <td>Paid</td>\n",
       "      <td>3.99</td>\n",
       "      <td>Everyone</td>\n",
       "      <td>Communication</td>\n",
       "      <td>July 5, 2018</td>\n",
       "      <td>7.5.3.20547</td>\n",
       "      <td>4.1 and up</td>\n",
       "    </tr>\n",
       "    <tr>\n",
       "      <th>476</th>\n",
       "      <td>Moco+ - Chat, Meet People</td>\n",
       "      <td>DATING</td>\n",
       "      <td>4.2</td>\n",
       "      <td>1545</td>\n",
       "      <td>0.0</td>\n",
       "      <td>10000.0</td>\n",
       "      <td>Paid</td>\n",
       "      <td>3.99</td>\n",
       "      <td>Mature 17+</td>\n",
       "      <td>Dating</td>\n",
       "      <td>June 19, 2018</td>\n",
       "      <td>2.6.139</td>\n",
       "      <td>4.1 and up</td>\n",
       "    </tr>\n",
       "    <tr>\n",
       "      <th>480</th>\n",
       "      <td>Ad Blocker for SayHi</td>\n",
       "      <td>DATING</td>\n",
       "      <td>0.0</td>\n",
       "      <td>4</td>\n",
       "      <td>1200.0</td>\n",
       "      <td>100.0</td>\n",
       "      <td>Paid</td>\n",
       "      <td>3.99</td>\n",
       "      <td>Teen</td>\n",
       "      <td>Dating</td>\n",
       "      <td>August 2, 2018</td>\n",
       "      <td>1.2</td>\n",
       "      <td>4.0.3 and up</td>\n",
       "    </tr>\n",
       "    <tr>\n",
       "      <th>571</th>\n",
       "      <td>Moco+ - Chat, Meet People</td>\n",
       "      <td>DATING</td>\n",
       "      <td>4.2</td>\n",
       "      <td>1546</td>\n",
       "      <td>0.0</td>\n",
       "      <td>10000.0</td>\n",
       "      <td>Paid</td>\n",
       "      <td>3.99</td>\n",
       "      <td>Mature 17+</td>\n",
       "      <td>Dating</td>\n",
       "      <td>June 19, 2018</td>\n",
       "      <td>2.6.139</td>\n",
       "      <td>4.1 and up</td>\n",
       "    </tr>\n",
       "    <tr>\n",
       "      <th>851</th>\n",
       "      <td>Sago Mini Hat Maker</td>\n",
       "      <td>EDUCATION</td>\n",
       "      <td>4.9</td>\n",
       "      <td>11</td>\n",
       "      <td>63000.0</td>\n",
       "      <td>1000.0</td>\n",
       "      <td>Paid</td>\n",
       "      <td>3.99</td>\n",
       "      <td>Everyone</td>\n",
       "      <td>Education;Pretend Play</td>\n",
       "      <td>July 24, 2017</td>\n",
       "      <td>1.0</td>\n",
       "      <td>4.0.3 and up</td>\n",
       "    </tr>\n",
       "    <tr>\n",
       "      <th>...</th>\n",
       "      <td>...</td>\n",
       "      <td>...</td>\n",
       "      <td>...</td>\n",
       "      <td>...</td>\n",
       "      <td>...</td>\n",
       "      <td>...</td>\n",
       "      <td>...</td>\n",
       "      <td>...</td>\n",
       "      <td>...</td>\n",
       "      <td>...</td>\n",
       "      <td>...</td>\n",
       "      <td>...</td>\n",
       "      <td>...</td>\n",
       "    </tr>\n",
       "    <tr>\n",
       "      <th>9064</th>\n",
       "      <td>Differential Dx</td>\n",
       "      <td>MEDICAL</td>\n",
       "      <td>4.0</td>\n",
       "      <td>8</td>\n",
       "      <td>0.0</td>\n",
       "      <td>500.0</td>\n",
       "      <td>Paid</td>\n",
       "      <td>3.99</td>\n",
       "      <td>Everyone</td>\n",
       "      <td>Medical</td>\n",
       "      <td>January 19, 2018</td>\n",
       "      <td>Varies with device</td>\n",
       "      <td>Varies with device</td>\n",
       "    </tr>\n",
       "    <tr>\n",
       "      <th>9337</th>\n",
       "      <td>EG | Explore Folegandros</td>\n",
       "      <td>TRAVEL_AND_LOCAL</td>\n",
       "      <td>0.0</td>\n",
       "      <td>0</td>\n",
       "      <td>56000.0</td>\n",
       "      <td>0.0</td>\n",
       "      <td>Paid</td>\n",
       "      <td>3.99</td>\n",
       "      <td>Everyone</td>\n",
       "      <td>Travel &amp; Local</td>\n",
       "      <td>January 22, 2017</td>\n",
       "      <td>1.1.1</td>\n",
       "      <td>4.1 and up</td>\n",
       "    </tr>\n",
       "    <tr>\n",
       "      <th>9586</th>\n",
       "      <td>EM Launcher Pro</td>\n",
       "      <td>PERSONALIZATION</td>\n",
       "      <td>4.2</td>\n",
       "      <td>35</td>\n",
       "      <td>24.0</td>\n",
       "      <td>1000.0</td>\n",
       "      <td>Paid</td>\n",
       "      <td>3.99</td>\n",
       "      <td>Everyone</td>\n",
       "      <td>Personalization</td>\n",
       "      <td>April 2, 2016</td>\n",
       "      <td>1.0</td>\n",
       "      <td>4.1 and up</td>\n",
       "    </tr>\n",
       "    <tr>\n",
       "      <th>9710</th>\n",
       "      <td>Superbrothers Sword &amp; Sworcery</td>\n",
       "      <td>GAME</td>\n",
       "      <td>4.4</td>\n",
       "      <td>11023</td>\n",
       "      <td>16000.0</td>\n",
       "      <td>100000.0</td>\n",
       "      <td>Paid</td>\n",
       "      <td>3.99</td>\n",
       "      <td>Teen</td>\n",
       "      <td>Adventure</td>\n",
       "      <td>January 26, 2018</td>\n",
       "      <td>1.0.20</td>\n",
       "      <td>2.3 and up</td>\n",
       "    </tr>\n",
       "    <tr>\n",
       "      <th>10072</th>\n",
       "      <td>ExDialer PRO Key</td>\n",
       "      <td>COMMUNICATION</td>\n",
       "      <td>4.5</td>\n",
       "      <td>5474</td>\n",
       "      <td>17.0</td>\n",
       "      <td>100000.0</td>\n",
       "      <td>Paid</td>\n",
       "      <td>3.99</td>\n",
       "      <td>Everyone</td>\n",
       "      <td>Communication</td>\n",
       "      <td>January 15, 2014</td>\n",
       "      <td>81</td>\n",
       "      <td>2.1 and up</td>\n",
       "    </tr>\n",
       "  </tbody>\n",
       "</table>\n",
       "<p>63 rows × 13 columns</p>\n",
       "</div>"
      ],
      "text/plain": [
       "                                  App          Category  Rating Reviews  \\\n",
       "427                Puffin Browser Pro     COMMUNICATION     4.0   18247   \n",
       "476         Moco+ - Chat, Meet People            DATING     4.2    1545   \n",
       "480              Ad Blocker for SayHi            DATING     0.0       4   \n",
       "571         Moco+ - Chat, Meet People            DATING     4.2    1546   \n",
       "851               Sago Mini Hat Maker         EDUCATION     4.9      11   \n",
       "...                               ...               ...     ...     ...   \n",
       "9064                  Differential Dx           MEDICAL     4.0       8   \n",
       "9337         EG | Explore Folegandros  TRAVEL_AND_LOCAL     0.0       0   \n",
       "9586                  EM Launcher Pro   PERSONALIZATION     4.2      35   \n",
       "9710   Superbrothers Sword & Sworcery              GAME     4.4   11023   \n",
       "10072                ExDialer PRO Key     COMMUNICATION     4.5    5474   \n",
       "\n",
       "          Size  Installs  Type  Price Content Rating                  Genres  \\\n",
       "427        0.0  100000.0  Paid   3.99       Everyone           Communication   \n",
       "476        0.0   10000.0  Paid   3.99     Mature 17+                  Dating   \n",
       "480     1200.0     100.0  Paid   3.99           Teen                  Dating   \n",
       "571        0.0   10000.0  Paid   3.99     Mature 17+                  Dating   \n",
       "851    63000.0    1000.0  Paid   3.99       Everyone  Education;Pretend Play   \n",
       "...        ...       ...   ...    ...            ...                     ...   \n",
       "9064       0.0     500.0  Paid   3.99       Everyone                 Medical   \n",
       "9337   56000.0       0.0  Paid   3.99       Everyone          Travel & Local   \n",
       "9586      24.0    1000.0  Paid   3.99       Everyone         Personalization   \n",
       "9710   16000.0  100000.0  Paid   3.99           Teen               Adventure   \n",
       "10072     17.0  100000.0  Paid   3.99       Everyone           Communication   \n",
       "\n",
       "           Last Updated         Current Ver         Android Ver  \n",
       "427        July 5, 2018         7.5.3.20547          4.1 and up  \n",
       "476       June 19, 2018             2.6.139          4.1 and up  \n",
       "480      August 2, 2018                 1.2        4.0.3 and up  \n",
       "571       June 19, 2018             2.6.139          4.1 and up  \n",
       "851       July 24, 2017                 1.0        4.0.3 and up  \n",
       "...                 ...                 ...                 ...  \n",
       "9064   January 19, 2018  Varies with device  Varies with device  \n",
       "9337   January 22, 2017               1.1.1          4.1 and up  \n",
       "9586      April 2, 2016                 1.0          4.1 and up  \n",
       "9710   January 26, 2018              1.0.20          2.3 and up  \n",
       "10072  January 15, 2014                  81          2.1 and up  \n",
       "\n",
       "[63 rows x 13 columns]"
      ]
     },
     "execution_count": 25,
     "metadata": {},
     "output_type": "execute_result"
    }
   ],
   "source": [
    "df[df[\"Price\"] == 3.99]"
   ]
  },
  {
   "cell_type": "code",
   "execution_count": 26,
   "id": "bcdf42ba",
   "metadata": {
    "ExecuteTime": {
     "end_time": "2023-02-01T22:42:08.460646Z",
     "start_time": "2023-02-01T22:42:08.433999Z"
    }
   },
   "outputs": [
    {
     "name": "stdout",
     "output_type": "stream",
     "text": [
      "<class 'pandas.core.frame.DataFrame'>\n",
      "RangeIndex: 10841 entries, 0 to 10840\n",
      "Data columns (total 13 columns):\n",
      " #   Column          Non-Null Count  Dtype  \n",
      "---  ------          --------------  -----  \n",
      " 0   App             10841 non-null  object \n",
      " 1   Category        10840 non-null  object \n",
      " 2   Rating          10841 non-null  float64\n",
      " 3   Reviews         10841 non-null  object \n",
      " 4   Size            10841 non-null  float64\n",
      " 5   Installs        10841 non-null  float64\n",
      " 6   Type            10840 non-null  object \n",
      " 7   Price           10841 non-null  float64\n",
      " 8   Content Rating  10841 non-null  object \n",
      " 9   Genres          10840 non-null  object \n",
      " 10  Last Updated    10841 non-null  object \n",
      " 11  Current Ver     10833 non-null  object \n",
      " 12  Android Ver     10839 non-null  object \n",
      "dtypes: float64(4), object(9)\n",
      "memory usage: 1.1+ MB\n"
     ]
    }
   ],
   "source": [
    "df.info()"
   ]
  },
  {
   "cell_type": "code",
   "execution_count": 27,
   "id": "92eccf79",
   "metadata": {
    "ExecuteTime": {
     "end_time": "2023-02-01T22:42:08.474055Z",
     "start_time": "2023-02-01T22:42:08.460646Z"
    }
   },
   "outputs": [],
   "source": [
    "df[\"Reviews\"] = df[\"Reviews\"].astype(\"float\")"
   ]
  },
  {
   "cell_type": "code",
   "execution_count": 28,
   "id": "74a53590",
   "metadata": {
    "ExecuteTime": {
     "end_time": "2023-02-01T22:42:08.500692Z",
     "start_time": "2023-02-01T22:42:08.474055Z"
    }
   },
   "outputs": [
    {
     "name": "stdout",
     "output_type": "stream",
     "text": [
      "<class 'pandas.core.frame.DataFrame'>\n",
      "RangeIndex: 10841 entries, 0 to 10840\n",
      "Data columns (total 13 columns):\n",
      " #   Column          Non-Null Count  Dtype  \n",
      "---  ------          --------------  -----  \n",
      " 0   App             10841 non-null  object \n",
      " 1   Category        10840 non-null  object \n",
      " 2   Rating          10841 non-null  float64\n",
      " 3   Reviews         10841 non-null  float64\n",
      " 4   Size            10841 non-null  float64\n",
      " 5   Installs        10841 non-null  float64\n",
      " 6   Type            10840 non-null  object \n",
      " 7   Price           10841 non-null  float64\n",
      " 8   Content Rating  10841 non-null  object \n",
      " 9   Genres          10840 non-null  object \n",
      " 10  Last Updated    10841 non-null  object \n",
      " 11  Current Ver     10833 non-null  object \n",
      " 12  Android Ver     10839 non-null  object \n",
      "dtypes: float64(5), object(8)\n",
      "memory usage: 1.1+ MB\n"
     ]
    }
   ],
   "source": [
    "df.info()"
   ]
  },
  {
   "cell_type": "code",
   "execution_count": 29,
   "id": "9c6e79a4",
   "metadata": {
    "ExecuteTime": {
     "end_time": "2023-02-01T22:42:08.527331Z",
     "start_time": "2023-02-01T22:42:08.500692Z"
    }
   },
   "outputs": [
    {
     "data": {
      "text/plain": [
       "False"
      ]
     },
     "execution_count": 29,
     "metadata": {},
     "output_type": "execute_result"
    }
   ],
   "source": [
    "df.drop_duplicates().shape == df.shape"
   ]
  },
  {
   "cell_type": "code",
   "execution_count": 30,
   "id": "b0eb3086",
   "metadata": {
    "ExecuteTime": {
     "end_time": "2023-02-01T22:42:08.554098Z",
     "start_time": "2023-02-01T22:42:08.527331Z"
    }
   },
   "outputs": [],
   "source": [
    "df = df.drop_duplicates()"
   ]
  },
  {
   "cell_type": "code",
   "execution_count": 31,
   "id": "bd39c66f",
   "metadata": {
    "ExecuteTime": {
     "end_time": "2023-02-01T22:42:08.570080Z",
     "start_time": "2023-02-01T22:42:08.554098Z"
    }
   },
   "outputs": [
    {
     "data": {
      "text/plain": [
       "True"
      ]
     },
     "execution_count": 31,
     "metadata": {},
     "output_type": "execute_result"
    }
   ],
   "source": [
    "df.shape == df.drop_duplicates().shape"
   ]
  },
  {
   "cell_type": "code",
   "execution_count": 32,
   "id": "d0b8011c",
   "metadata": {
    "ExecuteTime": {
     "end_time": "2023-02-01T22:42:08.587405Z",
     "start_time": "2023-02-01T22:42:08.571082Z"
    }
   },
   "outputs": [],
   "source": [
    "df[\"R/I\"] = df[\"Reviews\"] / df[\"Installs\"]"
   ]
  },
  {
   "cell_type": "code",
   "execution_count": 33,
   "id": "f6c51ff4",
   "metadata": {
    "ExecuteTime": {
     "end_time": "2023-02-01T22:42:08.614080Z",
     "start_time": "2023-02-01T22:42:08.588407Z"
    }
   },
   "outputs": [
    {
     "name": "stdout",
     "output_type": "stream",
     "text": [
      "<class 'pandas.core.frame.DataFrame'>\n",
      "Int64Index: 10358 entries, 0 to 10840\n",
      "Data columns (total 14 columns):\n",
      " #   Column          Non-Null Count  Dtype  \n",
      "---  ------          --------------  -----  \n",
      " 0   App             10358 non-null  object \n",
      " 1   Category        10357 non-null  object \n",
      " 2   Rating          10358 non-null  float64\n",
      " 3   Reviews         10358 non-null  float64\n",
      " 4   Size            10358 non-null  float64\n",
      " 5   Installs        10358 non-null  float64\n",
      " 6   Type            10357 non-null  object \n",
      " 7   Price           10358 non-null  float64\n",
      " 8   Content Rating  10358 non-null  object \n",
      " 9   Genres          10357 non-null  object \n",
      " 10  Last Updated    10358 non-null  object \n",
      " 11  Current Ver     10350 non-null  object \n",
      " 12  Android Ver     10356 non-null  object \n",
      " 13  R/I             10343 non-null  float64\n",
      "dtypes: float64(6), object(8)\n",
      "memory usage: 1.2+ MB\n"
     ]
    }
   ],
   "source": [
    "df.info()"
   ]
  },
  {
   "cell_type": "code",
   "execution_count": 34,
   "id": "594b1349",
   "metadata": {
    "ExecuteTime": {
     "end_time": "2023-02-01T22:42:08.626711Z",
     "start_time": "2023-02-01T22:42:08.615717Z"
    }
   },
   "outputs": [],
   "source": [
    "mask1 = df.sort_values(by=[\"Size\", \"Installs\"], ascending=[True, False]).head(5)"
   ]
  },
  {
   "cell_type": "code",
   "execution_count": 35,
   "id": "6560184b",
   "metadata": {
    "ExecuteTime": {
     "end_time": "2023-02-01T22:42:08.655156Z",
     "start_time": "2023-02-01T22:42:08.626711Z"
    }
   },
   "outputs": [
    {
     "data": {
      "text/html": [
       "<div>\n",
       "<style scoped>\n",
       "    .dataframe tbody tr th:only-of-type {\n",
       "        vertical-align: middle;\n",
       "    }\n",
       "\n",
       "    .dataframe tbody tr th {\n",
       "        vertical-align: top;\n",
       "    }\n",
       "\n",
       "    .dataframe thead th {\n",
       "        text-align: right;\n",
       "    }\n",
       "</style>\n",
       "<table border=\"1\" class=\"dataframe\">\n",
       "  <thead>\n",
       "    <tr style=\"text-align: right;\">\n",
       "      <th></th>\n",
       "      <th>App</th>\n",
       "      <th>Category</th>\n",
       "      <th>Rating</th>\n",
       "      <th>Reviews</th>\n",
       "      <th>Size</th>\n",
       "      <th>Installs</th>\n",
       "      <th>Type</th>\n",
       "      <th>Price</th>\n",
       "      <th>Content Rating</th>\n",
       "      <th>Genres</th>\n",
       "      <th>Last Updated</th>\n",
       "      <th>Current Ver</th>\n",
       "      <th>Android Ver</th>\n",
       "      <th>R/I</th>\n",
       "    </tr>\n",
       "  </thead>\n",
       "  <tbody>\n",
       "    <tr>\n",
       "      <th>152</th>\n",
       "      <td>Google Play Books</td>\n",
       "      <td>BOOKS_AND_REFERENCE</td>\n",
       "      <td>3.9</td>\n",
       "      <td>1433233.0</td>\n",
       "      <td>0.0</td>\n",
       "      <td>1.000000e+09</td>\n",
       "      <td>Free</td>\n",
       "      <td>0.0</td>\n",
       "      <td>Teen</td>\n",
       "      <td>Books &amp; Reference</td>\n",
       "      <td>August 3, 2018</td>\n",
       "      <td>Varies with device</td>\n",
       "      <td>Varies with device</td>\n",
       "      <td>0.001433</td>\n",
       "    </tr>\n",
       "    <tr>\n",
       "      <th>335</th>\n",
       "      <td>Messenger – Text and Video Chat for Free</td>\n",
       "      <td>COMMUNICATION</td>\n",
       "      <td>4.0</td>\n",
       "      <td>56642847.0</td>\n",
       "      <td>0.0</td>\n",
       "      <td>1.000000e+09</td>\n",
       "      <td>Free</td>\n",
       "      <td>0.0</td>\n",
       "      <td>Everyone</td>\n",
       "      <td>Communication</td>\n",
       "      <td>August 1, 2018</td>\n",
       "      <td>Varies with device</td>\n",
       "      <td>Varies with device</td>\n",
       "      <td>0.056643</td>\n",
       "    </tr>\n",
       "    <tr>\n",
       "      <th>336</th>\n",
       "      <td>WhatsApp Messenger</td>\n",
       "      <td>COMMUNICATION</td>\n",
       "      <td>4.4</td>\n",
       "      <td>69119316.0</td>\n",
       "      <td>0.0</td>\n",
       "      <td>1.000000e+09</td>\n",
       "      <td>Free</td>\n",
       "      <td>0.0</td>\n",
       "      <td>Everyone</td>\n",
       "      <td>Communication</td>\n",
       "      <td>August 3, 2018</td>\n",
       "      <td>Varies with device</td>\n",
       "      <td>Varies with device</td>\n",
       "      <td>0.069119</td>\n",
       "    </tr>\n",
       "    <tr>\n",
       "      <th>338</th>\n",
       "      <td>Google Chrome: Fast &amp; Secure</td>\n",
       "      <td>COMMUNICATION</td>\n",
       "      <td>4.3</td>\n",
       "      <td>9642995.0</td>\n",
       "      <td>0.0</td>\n",
       "      <td>1.000000e+09</td>\n",
       "      <td>Free</td>\n",
       "      <td>0.0</td>\n",
       "      <td>Everyone</td>\n",
       "      <td>Communication</td>\n",
       "      <td>August 1, 2018</td>\n",
       "      <td>Varies with device</td>\n",
       "      <td>Varies with device</td>\n",
       "      <td>0.009643</td>\n",
       "    </tr>\n",
       "    <tr>\n",
       "      <th>340</th>\n",
       "      <td>Gmail</td>\n",
       "      <td>COMMUNICATION</td>\n",
       "      <td>4.3</td>\n",
       "      <td>4604324.0</td>\n",
       "      <td>0.0</td>\n",
       "      <td>1.000000e+09</td>\n",
       "      <td>Free</td>\n",
       "      <td>0.0</td>\n",
       "      <td>Everyone</td>\n",
       "      <td>Communication</td>\n",
       "      <td>August 2, 2018</td>\n",
       "      <td>Varies with device</td>\n",
       "      <td>Varies with device</td>\n",
       "      <td>0.004604</td>\n",
       "    </tr>\n",
       "  </tbody>\n",
       "</table>\n",
       "</div>"
      ],
      "text/plain": [
       "                                          App             Category  Rating  \\\n",
       "152                         Google Play Books  BOOKS_AND_REFERENCE     3.9   \n",
       "335  Messenger – Text and Video Chat for Free        COMMUNICATION     4.0   \n",
       "336                        WhatsApp Messenger        COMMUNICATION     4.4   \n",
       "338              Google Chrome: Fast & Secure        COMMUNICATION     4.3   \n",
       "340                                     Gmail        COMMUNICATION     4.3   \n",
       "\n",
       "        Reviews  Size      Installs  Type  Price Content Rating  \\\n",
       "152   1433233.0   0.0  1.000000e+09  Free    0.0           Teen   \n",
       "335  56642847.0   0.0  1.000000e+09  Free    0.0       Everyone   \n",
       "336  69119316.0   0.0  1.000000e+09  Free    0.0       Everyone   \n",
       "338   9642995.0   0.0  1.000000e+09  Free    0.0       Everyone   \n",
       "340   4604324.0   0.0  1.000000e+09  Free    0.0       Everyone   \n",
       "\n",
       "                Genres    Last Updated         Current Ver  \\\n",
       "152  Books & Reference  August 3, 2018  Varies with device   \n",
       "335      Communication  August 1, 2018  Varies with device   \n",
       "336      Communication  August 3, 2018  Varies with device   \n",
       "338      Communication  August 1, 2018  Varies with device   \n",
       "340      Communication  August 2, 2018  Varies with device   \n",
       "\n",
       "            Android Ver       R/I  \n",
       "152  Varies with device  0.001433  \n",
       "335  Varies with device  0.056643  \n",
       "336  Varies with device  0.069119  \n",
       "338  Varies with device  0.009643  \n",
       "340  Varies with device  0.004604  "
      ]
     },
     "execution_count": 35,
     "metadata": {},
     "output_type": "execute_result"
    }
   ],
   "source": [
    "mask1"
   ]
  },
  {
   "cell_type": "code",
   "execution_count": 36,
   "id": "c1b0eba6",
   "metadata": {
    "ExecuteTime": {
     "end_time": "2023-02-01T22:42:08.681796Z",
     "start_time": "2023-02-01T22:42:08.656573Z"
    }
   },
   "outputs": [],
   "source": [
    "mask2 = df[df[\"Size\"] != 0].groupby(\"App\").mean().sort_values([\"Size\", \"Installs\"], ascending=[True, False]).head(5)"
   ]
  },
  {
   "cell_type": "code",
   "execution_count": 37,
   "id": "684ba2fa",
   "metadata": {
    "ExecuteTime": {
     "end_time": "2023-02-01T22:42:08.706564Z",
     "start_time": "2023-02-01T22:42:08.682797Z"
    }
   },
   "outputs": [
    {
     "data": {
      "text/html": [
       "<div>\n",
       "<style scoped>\n",
       "    .dataframe tbody tr th:only-of-type {\n",
       "        vertical-align: middle;\n",
       "    }\n",
       "\n",
       "    .dataframe tbody tr th {\n",
       "        vertical-align: top;\n",
       "    }\n",
       "\n",
       "    .dataframe thead th {\n",
       "        text-align: right;\n",
       "    }\n",
       "</style>\n",
       "<table border=\"1\" class=\"dataframe\">\n",
       "  <thead>\n",
       "    <tr style=\"text-align: right;\">\n",
       "      <th></th>\n",
       "      <th>Rating</th>\n",
       "      <th>Reviews</th>\n",
       "      <th>Size</th>\n",
       "      <th>Installs</th>\n",
       "      <th>Price</th>\n",
       "      <th>R/I</th>\n",
       "    </tr>\n",
       "    <tr>\n",
       "      <th>App</th>\n",
       "      <th></th>\n",
       "      <th></th>\n",
       "      <th></th>\n",
       "      <th></th>\n",
       "      <th></th>\n",
       "      <th></th>\n",
       "    </tr>\n",
       "  </thead>\n",
       "  <tbody>\n",
       "    <tr>\n",
       "      <th>Essential Resources</th>\n",
       "      <td>4.6</td>\n",
       "      <td>237.0</td>\n",
       "      <td>8.5</td>\n",
       "      <td>50000.0</td>\n",
       "      <td>0.00</td>\n",
       "      <td>0.004740</td>\n",
       "    </tr>\n",
       "    <tr>\n",
       "      <th>Market Update Helper</th>\n",
       "      <td>4.1</td>\n",
       "      <td>20145.0</td>\n",
       "      <td>11.0</td>\n",
       "      <td>1000000.0</td>\n",
       "      <td>0.00</td>\n",
       "      <td>0.020145</td>\n",
       "    </tr>\n",
       "    <tr>\n",
       "      <th>My baby firework (Remove ad)</th>\n",
       "      <td>4.1</td>\n",
       "      <td>30.0</td>\n",
       "      <td>14.0</td>\n",
       "      <td>1000.0</td>\n",
       "      <td>0.99</td>\n",
       "      <td>0.030000</td>\n",
       "    </tr>\n",
       "    <tr>\n",
       "      <th>ExDialer PRO Key</th>\n",
       "      <td>4.5</td>\n",
       "      <td>5474.0</td>\n",
       "      <td>17.0</td>\n",
       "      <td>100000.0</td>\n",
       "      <td>3.99</td>\n",
       "      <td>0.054740</td>\n",
       "    </tr>\n",
       "    <tr>\n",
       "      <th>Ad Remove Plugin for App2SD</th>\n",
       "      <td>4.1</td>\n",
       "      <td>66.0</td>\n",
       "      <td>17.0</td>\n",
       "      <td>1000.0</td>\n",
       "      <td>1.29</td>\n",
       "      <td>0.066000</td>\n",
       "    </tr>\n",
       "  </tbody>\n",
       "</table>\n",
       "</div>"
      ],
      "text/plain": [
       "                              Rating  Reviews  Size   Installs  Price  \\\n",
       "App                                                                     \n",
       "Essential Resources              4.6    237.0   8.5    50000.0   0.00   \n",
       "Market Update Helper             4.1  20145.0  11.0  1000000.0   0.00   \n",
       "My baby firework (Remove ad)     4.1     30.0  14.0     1000.0   0.99   \n",
       "ExDialer PRO Key                 4.5   5474.0  17.0   100000.0   3.99   \n",
       "Ad Remove Plugin for App2SD      4.1     66.0  17.0     1000.0   1.29   \n",
       "\n",
       "                                   R/I  \n",
       "App                                     \n",
       "Essential Resources           0.004740  \n",
       "Market Update Helper          0.020145  \n",
       "My baby firework (Remove ad)  0.030000  \n",
       "ExDialer PRO Key              0.054740  \n",
       "Ad Remove Plugin for App2SD   0.066000  "
      ]
     },
     "execution_count": 37,
     "metadata": {},
     "output_type": "execute_result"
    }
   ],
   "source": [
    "mask2"
   ]
  },
  {
   "cell_type": "code",
   "execution_count": 38,
   "id": "c437c5c9",
   "metadata": {
    "ExecuteTime": {
     "end_time": "2023-02-01T22:42:08.740021Z",
     "start_time": "2023-02-01T22:42:08.707566Z"
    },
    "scrolled": true
   },
   "outputs": [
    {
     "data": {
      "text/html": [
       "<div>\n",
       "<style scoped>\n",
       "    .dataframe tbody tr th:only-of-type {\n",
       "        vertical-align: middle;\n",
       "    }\n",
       "\n",
       "    .dataframe tbody tr th {\n",
       "        vertical-align: top;\n",
       "    }\n",
       "\n",
       "    .dataframe thead th {\n",
       "        text-align: right;\n",
       "    }\n",
       "</style>\n",
       "<table border=\"1\" class=\"dataframe\">\n",
       "  <thead>\n",
       "    <tr style=\"text-align: right;\">\n",
       "      <th></th>\n",
       "      <th>App</th>\n",
       "      <th>Category</th>\n",
       "      <th>Rating</th>\n",
       "      <th>Reviews</th>\n",
       "      <th>Size</th>\n",
       "      <th>Installs</th>\n",
       "      <th>Type</th>\n",
       "      <th>Price</th>\n",
       "      <th>Content Rating</th>\n",
       "      <th>Genres</th>\n",
       "      <th>Last Updated</th>\n",
       "      <th>Current Ver</th>\n",
       "      <th>Android Ver</th>\n",
       "      <th>R/I</th>\n",
       "    </tr>\n",
       "  </thead>\n",
       "  <tbody>\n",
       "    <tr>\n",
       "      <th>1532</th>\n",
       "      <td>Essential Resources</td>\n",
       "      <td>LIBRARIES_AND_DEMO</td>\n",
       "      <td>4.6</td>\n",
       "      <td>237.0</td>\n",
       "      <td>8.5</td>\n",
       "      <td>50000.0</td>\n",
       "      <td>Free</td>\n",
       "      <td>0.00</td>\n",
       "      <td>Everyone</td>\n",
       "      <td>Libraries &amp; Demo</td>\n",
       "      <td>September 27, 2017</td>\n",
       "      <td>1.02</td>\n",
       "      <td>7.1 and up</td>\n",
       "      <td>0.004740</td>\n",
       "    </tr>\n",
       "    <tr>\n",
       "      <th>1553</th>\n",
       "      <td>Market Update Helper</td>\n",
       "      <td>LIBRARIES_AND_DEMO</td>\n",
       "      <td>4.1</td>\n",
       "      <td>20145.0</td>\n",
       "      <td>11.0</td>\n",
       "      <td>1000000.0</td>\n",
       "      <td>Free</td>\n",
       "      <td>0.00</td>\n",
       "      <td>Everyone</td>\n",
       "      <td>Libraries &amp; Demo</td>\n",
       "      <td>February 12, 2013</td>\n",
       "      <td>NaN</td>\n",
       "      <td>1.5 and up</td>\n",
       "      <td>0.020145</td>\n",
       "    </tr>\n",
       "    <tr>\n",
       "      <th>4983</th>\n",
       "      <td>My baby firework (Remove ad)</td>\n",
       "      <td>FAMILY</td>\n",
       "      <td>4.1</td>\n",
       "      <td>30.0</td>\n",
       "      <td>14.0</td>\n",
       "      <td>1000.0</td>\n",
       "      <td>Paid</td>\n",
       "      <td>0.99</td>\n",
       "      <td>Everyone</td>\n",
       "      <td>Entertainment</td>\n",
       "      <td>April 25, 2013</td>\n",
       "      <td>Varies with device</td>\n",
       "      <td>Varies with device</td>\n",
       "      <td>0.030000</td>\n",
       "    </tr>\n",
       "    <tr>\n",
       "      <th>4977</th>\n",
       "      <td>Ad Remove Plugin for App2SD</td>\n",
       "      <td>PRODUCTIVITY</td>\n",
       "      <td>4.1</td>\n",
       "      <td>66.0</td>\n",
       "      <td>17.0</td>\n",
       "      <td>1000.0</td>\n",
       "      <td>Paid</td>\n",
       "      <td>1.29</td>\n",
       "      <td>Everyone</td>\n",
       "      <td>Productivity</td>\n",
       "      <td>September 25, 2013</td>\n",
       "      <td>1.0.0</td>\n",
       "      <td>2.2 and up</td>\n",
       "      <td>0.066000</td>\n",
       "    </tr>\n",
       "    <tr>\n",
       "      <th>10072</th>\n",
       "      <td>ExDialer PRO Key</td>\n",
       "      <td>COMMUNICATION</td>\n",
       "      <td>4.5</td>\n",
       "      <td>5474.0</td>\n",
       "      <td>17.0</td>\n",
       "      <td>100000.0</td>\n",
       "      <td>Paid</td>\n",
       "      <td>3.99</td>\n",
       "      <td>Everyone</td>\n",
       "      <td>Communication</td>\n",
       "      <td>January 15, 2014</td>\n",
       "      <td>81</td>\n",
       "      <td>2.1 and up</td>\n",
       "      <td>0.054740</td>\n",
       "    </tr>\n",
       "    <tr>\n",
       "      <th>...</th>\n",
       "      <td>...</td>\n",
       "      <td>...</td>\n",
       "      <td>...</td>\n",
       "      <td>...</td>\n",
       "      <td>...</td>\n",
       "      <td>...</td>\n",
       "      <td>...</td>\n",
       "      <td>...</td>\n",
       "      <td>...</td>\n",
       "      <td>...</td>\n",
       "      <td>...</td>\n",
       "      <td>...</td>\n",
       "      <td>...</td>\n",
       "      <td>...</td>\n",
       "    </tr>\n",
       "    <tr>\n",
       "      <th>5427</th>\n",
       "      <td>Ultimate Tennis</td>\n",
       "      <td>SPORTS</td>\n",
       "      <td>4.3</td>\n",
       "      <td>183004.0</td>\n",
       "      <td>100000.0</td>\n",
       "      <td>10000000.0</td>\n",
       "      <td>Free</td>\n",
       "      <td>0.00</td>\n",
       "      <td>Everyone</td>\n",
       "      <td>Sports</td>\n",
       "      <td>July 19, 2018</td>\n",
       "      <td>2.29.3118</td>\n",
       "      <td>4.0.3 and up</td>\n",
       "      <td>0.018300</td>\n",
       "    </tr>\n",
       "    <tr>\n",
       "      <th>5865</th>\n",
       "      <td>Gangster Town: Vice District</td>\n",
       "      <td>FAMILY</td>\n",
       "      <td>4.3</td>\n",
       "      <td>65146.0</td>\n",
       "      <td>100000.0</td>\n",
       "      <td>10000000.0</td>\n",
       "      <td>Free</td>\n",
       "      <td>0.00</td>\n",
       "      <td>Mature 17+</td>\n",
       "      <td>Simulation</td>\n",
       "      <td>May 31, 2018</td>\n",
       "      <td>2.1</td>\n",
       "      <td>4.0 and up</td>\n",
       "      <td>0.006515</td>\n",
       "    </tr>\n",
       "    <tr>\n",
       "      <th>5862</th>\n",
       "      <td>Miami crime simulator</td>\n",
       "      <td>GAME</td>\n",
       "      <td>4.0</td>\n",
       "      <td>254518.0</td>\n",
       "      <td>100000.0</td>\n",
       "      <td>10000000.0</td>\n",
       "      <td>Free</td>\n",
       "      <td>0.00</td>\n",
       "      <td>Mature 17+</td>\n",
       "      <td>Action</td>\n",
       "      <td>July 9, 2018</td>\n",
       "      <td>2.0</td>\n",
       "      <td>4.0 and up</td>\n",
       "      <td>0.025452</td>\n",
       "    </tr>\n",
       "    <tr>\n",
       "      <th>1793</th>\n",
       "      <td>Mini Golf King - Multiplayer Game</td>\n",
       "      <td>GAME</td>\n",
       "      <td>4.5</td>\n",
       "      <td>531458.0</td>\n",
       "      <td>100000.0</td>\n",
       "      <td>5000000.0</td>\n",
       "      <td>Free</td>\n",
       "      <td>0.00</td>\n",
       "      <td>Everyone</td>\n",
       "      <td>Sports</td>\n",
       "      <td>July 20, 2018</td>\n",
       "      <td>3.04.1</td>\n",
       "      <td>4.0.3 and up</td>\n",
       "      <td>0.106292</td>\n",
       "    </tr>\n",
       "    <tr>\n",
       "      <th>2299</th>\n",
       "      <td>Navi Radiography Pro</td>\n",
       "      <td>MEDICAL</td>\n",
       "      <td>4.7</td>\n",
       "      <td>11.0</td>\n",
       "      <td>100000.0</td>\n",
       "      <td>500.0</td>\n",
       "      <td>Paid</td>\n",
       "      <td>15.99</td>\n",
       "      <td>Everyone</td>\n",
       "      <td>Medical</td>\n",
       "      <td>January 14, 2018</td>\n",
       "      <td>1.2.0</td>\n",
       "      <td>4.0.3 and up</td>\n",
       "      <td>0.022000</td>\n",
       "    </tr>\n",
       "  </tbody>\n",
       "</table>\n",
       "<p>8832 rows × 14 columns</p>\n",
       "</div>"
      ],
      "text/plain": [
       "                                     App            Category  Rating  \\\n",
       "1532                 Essential Resources  LIBRARIES_AND_DEMO     4.6   \n",
       "1553                Market Update Helper  LIBRARIES_AND_DEMO     4.1   \n",
       "4983        My baby firework (Remove ad)              FAMILY     4.1   \n",
       "4977         Ad Remove Plugin for App2SD        PRODUCTIVITY     4.1   \n",
       "10072                   ExDialer PRO Key       COMMUNICATION     4.5   \n",
       "...                                  ...                 ...     ...   \n",
       "5427                     Ultimate Tennis              SPORTS     4.3   \n",
       "5865        Gangster Town: Vice District              FAMILY     4.3   \n",
       "5862               Miami crime simulator                GAME     4.0   \n",
       "1793   Mini Golf King - Multiplayer Game                GAME     4.5   \n",
       "2299                Navi Radiography Pro             MEDICAL     4.7   \n",
       "\n",
       "        Reviews      Size    Installs  Type  Price Content Rating  \\\n",
       "1532      237.0       8.5     50000.0  Free   0.00       Everyone   \n",
       "1553    20145.0      11.0   1000000.0  Free   0.00       Everyone   \n",
       "4983       30.0      14.0      1000.0  Paid   0.99       Everyone   \n",
       "4977       66.0      17.0      1000.0  Paid   1.29       Everyone   \n",
       "10072    5474.0      17.0    100000.0  Paid   3.99       Everyone   \n",
       "...         ...       ...         ...   ...    ...            ...   \n",
       "5427   183004.0  100000.0  10000000.0  Free   0.00       Everyone   \n",
       "5865    65146.0  100000.0  10000000.0  Free   0.00     Mature 17+   \n",
       "5862   254518.0  100000.0  10000000.0  Free   0.00     Mature 17+   \n",
       "1793   531458.0  100000.0   5000000.0  Free   0.00       Everyone   \n",
       "2299       11.0  100000.0       500.0  Paid  15.99       Everyone   \n",
       "\n",
       "                 Genres        Last Updated         Current Ver  \\\n",
       "1532   Libraries & Demo  September 27, 2017                1.02   \n",
       "1553   Libraries & Demo   February 12, 2013                 NaN   \n",
       "4983      Entertainment      April 25, 2013  Varies with device   \n",
       "4977       Productivity  September 25, 2013               1.0.0   \n",
       "10072     Communication    January 15, 2014                  81   \n",
       "...                 ...                 ...                 ...   \n",
       "5427             Sports       July 19, 2018           2.29.3118   \n",
       "5865         Simulation        May 31, 2018                 2.1   \n",
       "5862             Action        July 9, 2018                 2.0   \n",
       "1793             Sports       July 20, 2018              3.04.1   \n",
       "2299            Medical    January 14, 2018               1.2.0   \n",
       "\n",
       "              Android Ver       R/I  \n",
       "1532           7.1 and up  0.004740  \n",
       "1553           1.5 and up  0.020145  \n",
       "4983   Varies with device  0.030000  \n",
       "4977           2.2 and up  0.066000  \n",
       "10072          2.1 and up  0.054740  \n",
       "...                   ...       ...  \n",
       "5427         4.0.3 and up  0.018300  \n",
       "5865           4.0 and up  0.006515  \n",
       "5862           4.0 and up  0.025452  \n",
       "1793         4.0.3 and up  0.106292  \n",
       "2299         4.0.3 and up  0.022000  \n",
       "\n",
       "[8832 rows x 14 columns]"
      ]
     },
     "execution_count": 38,
     "metadata": {},
     "output_type": "execute_result"
    }
   ],
   "source": [
    "df[df[\"Size\"] != 0].sort_values(\"Size\")"
   ]
  },
  {
   "cell_type": "code",
   "execution_count": 39,
   "id": "4b2ae966",
   "metadata": {
    "ExecuteTime": {
     "end_time": "2023-02-01T22:42:08.996612Z",
     "start_time": "2023-02-01T22:42:08.741023Z"
    }
   },
   "outputs": [
    {
     "data": {
      "image/png": "[encoded data removed]",
      "text/plain": [
       "<Figure size 1000x500 with 1 Axes>"
      ]
     },
     "metadata": {},
     "output_type": "display_data"
    }
   ],
   "source": [
    "plt.figure(figsize=(10,5))\n",
    "plt.bar(mask1[\"App\"], mask1[\"Reviews\"] / mask1[\"Installs\"])\n",
    "plt.xticks(rotation = 90)\n",
    "plt.show()"
   ]
  },
  {
   "cell_type": "code",
   "execution_count": 40,
   "id": "f7684dd7",
   "metadata": {
    "ExecuteTime": {
     "end_time": "2023-02-01T22:42:09.013934Z",
     "start_time": "2023-02-01T22:42:08.997613Z"
    }
   },
   "outputs": [
    {
     "data": {
      "text/plain": [
       "array(['ART_AND_DESIGN', 'AUTO_AND_VEHICLES', 'BEAUTY',\n",
       "       'BOOKS_AND_REFERENCE', 'BUSINESS', 'COMICS', 'COMMUNICATION',\n",
       "       'DATING', 'EDUCATION', 'ENTERTAINMENT', 'EVENTS', 'FINANCE',\n",
       "       'FOOD_AND_DRINK', 'HEALTH_AND_FITNESS', 'HOUSE_AND_HOME',\n",
       "       'LIBRARIES_AND_DEMO', 'LIFESTYLE', 'GAME', 'FAMILY', 'MEDICAL',\n",
       "       'SOCIAL', 'SHOPPING', 'PHOTOGRAPHY', 'SPORTS', 'TRAVEL_AND_LOCAL',\n",
       "       'TOOLS', 'PERSONALIZATION', 'PRODUCTIVITY', 'PARENTING', 'WEATHER',\n",
       "       'VIDEO_PLAYERS', 'NEWS_AND_MAGAZINES', 'MAPS_AND_NAVIGATION', nan],\n",
       "      dtype=object)"
      ]
     },
     "execution_count": 40,
     "metadata": {},
     "output_type": "execute_result"
    }
   ],
   "source": [
    "df[\"Category\"].unique()"
   ]
  },
  {
   "cell_type": "code",
   "execution_count": 41,
   "id": "673950bf",
   "metadata": {
    "ExecuteTime": {
     "end_time": "2023-02-01T22:42:09.040198Z",
     "start_time": "2023-02-01T22:42:09.013934Z"
    }
   },
   "outputs": [
    {
     "data": {
      "text/html": [
       "<div>\n",
       "<style scoped>\n",
       "    .dataframe tbody tr th:only-of-type {\n",
       "        vertical-align: middle;\n",
       "    }\n",
       "\n",
       "    .dataframe tbody tr th {\n",
       "        vertical-align: top;\n",
       "    }\n",
       "\n",
       "    .dataframe thead th {\n",
       "        text-align: right;\n",
       "    }\n",
       "</style>\n",
       "<table border=\"1\" class=\"dataframe\">\n",
       "  <thead>\n",
       "    <tr style=\"text-align: right;\">\n",
       "      <th></th>\n",
       "      <th>Rating</th>\n",
       "      <th>Reviews</th>\n",
       "      <th>Size</th>\n",
       "      <th>Installs</th>\n",
       "      <th>Price</th>\n",
       "      <th>R/I</th>\n",
       "    </tr>\n",
       "  </thead>\n",
       "  <tbody>\n",
       "    <tr>\n",
       "      <th>count</th>\n",
       "      <td>10358.000000</td>\n",
       "      <td>1.035800e+04</td>\n",
       "      <td>10358.000000</td>\n",
       "      <td>1.035800e+04</td>\n",
       "      <td>10358.000000</td>\n",
       "      <td>10343.000000</td>\n",
       "    </tr>\n",
       "    <tr>\n",
       "      <th>mean</th>\n",
       "      <td>3.595337</td>\n",
       "      <td>4.058654e+05</td>\n",
       "      <td>18149.783597</td>\n",
       "      <td>1.415639e+07</td>\n",
       "      <td>1.030701</td>\n",
       "      <td>0.038210</td>\n",
       "    </tr>\n",
       "    <tr>\n",
       "      <th>std</th>\n",
       "      <td>1.537667</td>\n",
       "      <td>2.696651e+06</td>\n",
       "      <td>22138.429505</td>\n",
       "      <td>8.023580e+07</td>\n",
       "      <td>16.277843</td>\n",
       "      <td>0.097281</td>\n",
       "    </tr>\n",
       "    <tr>\n",
       "      <th>min</th>\n",
       "      <td>0.000000</td>\n",
       "      <td>0.000000e+00</td>\n",
       "      <td>0.000000</td>\n",
       "      <td>0.000000e+00</td>\n",
       "      <td>0.000000</td>\n",
       "      <td>0.000000</td>\n",
       "    </tr>\n",
       "    <tr>\n",
       "      <th>25%</th>\n",
       "      <td>3.700000</td>\n",
       "      <td>3.200000e+01</td>\n",
       "      <td>2700.000000</td>\n",
       "      <td>1.000000e+03</td>\n",
       "      <td>0.000000</td>\n",
       "      <td>0.007800</td>\n",
       "    </tr>\n",
       "    <tr>\n",
       "      <th>50%</th>\n",
       "      <td>4.200000</td>\n",
       "      <td>1.678500e+03</td>\n",
       "      <td>9100.000000</td>\n",
       "      <td>1.000000e+05</td>\n",
       "      <td>0.000000</td>\n",
       "      <td>0.017800</td>\n",
       "    </tr>\n",
       "    <tr>\n",
       "      <th>75%</th>\n",
       "      <td>4.500000</td>\n",
       "      <td>4.640425e+04</td>\n",
       "      <td>26000.000000</td>\n",
       "      <td>1.000000e+06</td>\n",
       "      <td>0.000000</td>\n",
       "      <td>0.039655</td>\n",
       "    </tr>\n",
       "    <tr>\n",
       "      <th>max</th>\n",
       "      <td>5.000000</td>\n",
       "      <td>7.815831e+07</td>\n",
       "      <td>100000.000000</td>\n",
       "      <td>1.000000e+09</td>\n",
       "      <td>400.000000</td>\n",
       "      <td>4.000000</td>\n",
       "    </tr>\n",
       "  </tbody>\n",
       "</table>\n",
       "</div>"
      ],
      "text/plain": [
       "             Rating       Reviews           Size      Installs         Price  \\\n",
       "count  10358.000000  1.035800e+04   10358.000000  1.035800e+04  10358.000000   \n",
       "mean       3.595337  4.058654e+05   18149.783597  1.415639e+07      1.030701   \n",
       "std        1.537667  2.696651e+06   22138.429505  8.023580e+07     16.277843   \n",
       "min        0.000000  0.000000e+00       0.000000  0.000000e+00      0.000000   \n",
       "25%        3.700000  3.200000e+01    2700.000000  1.000000e+03      0.000000   \n",
       "50%        4.200000  1.678500e+03    9100.000000  1.000000e+05      0.000000   \n",
       "75%        4.500000  4.640425e+04   26000.000000  1.000000e+06      0.000000   \n",
       "max        5.000000  7.815831e+07  100000.000000  1.000000e+09    400.000000   \n",
       "\n",
       "                R/I  \n",
       "count  10343.000000  \n",
       "mean       0.038210  \n",
       "std        0.097281  \n",
       "min        0.000000  \n",
       "25%        0.007800  \n",
       "50%        0.017800  \n",
       "75%        0.039655  \n",
       "max        4.000000  "
      ]
     },
     "execution_count": 41,
     "metadata": {},
     "output_type": "execute_result"
    }
   ],
   "source": [
    "df.describe()"
   ]
  },
  {
   "cell_type": "code",
   "execution_count": 42,
   "id": "5e75d4e1",
   "metadata": {
    "ExecuteTime": {
     "end_time": "2023-02-01T22:42:09.131611Z",
     "start_time": "2023-02-01T22:42:09.041199Z"
    }
   },
   "outputs": [],
   "source": [
    "df.to_csv(\"googleplaystore_cleaned.csv\", index=False)"
   ]
  },
  {
   "cell_type": "code",
   "execution_count": 43,
   "id": "67a72971",
   "metadata": {
    "ExecuteTime": {
     "end_time": "2023-02-01T22:42:09.157369Z",
     "start_time": "2023-02-01T22:42:09.132612Z"
    },
    "scrolled": true
   },
   "outputs": [
    {
     "data": {
      "text/html": [
       "<div>\n",
       "<style scoped>\n",
       "    .dataframe tbody tr th:only-of-type {\n",
       "        vertical-align: middle;\n",
       "    }\n",
       "\n",
       "    .dataframe tbody tr th {\n",
       "        vertical-align: top;\n",
       "    }\n",
       "\n",
       "    .dataframe thead th {\n",
       "        text-align: right;\n",
       "    }\n",
       "</style>\n",
       "<table border=\"1\" class=\"dataframe\">\n",
       "  <thead>\n",
       "    <tr style=\"text-align: right;\">\n",
       "      <th></th>\n",
       "      <th>App</th>\n",
       "      <th>Category</th>\n",
       "      <th>Rating</th>\n",
       "      <th>Reviews</th>\n",
       "      <th>Size</th>\n",
       "      <th>Installs</th>\n",
       "      <th>Type</th>\n",
       "      <th>Price</th>\n",
       "      <th>Content Rating</th>\n",
       "      <th>Genres</th>\n",
       "      <th>Last Updated</th>\n",
       "      <th>Current Ver</th>\n",
       "      <th>Android Ver</th>\n",
       "      <th>R/I</th>\n",
       "    </tr>\n",
       "  </thead>\n",
       "  <tbody>\n",
       "    <tr>\n",
       "      <th>5856</th>\n",
       "      <td>Google Play Games</td>\n",
       "      <td>FAMILY</td>\n",
       "      <td>4.3</td>\n",
       "      <td>7168735.0</td>\n",
       "      <td>0.0</td>\n",
       "      <td>1.000000e+09</td>\n",
       "      <td>Free</td>\n",
       "      <td>0.0</td>\n",
       "      <td>Teen</td>\n",
       "      <td>Entertainment</td>\n",
       "      <td>July 16, 2018</td>\n",
       "      <td>Varies with device</td>\n",
       "      <td>Varies with device</td>\n",
       "      <td>0.007169</td>\n",
       "    </tr>\n",
       "    <tr>\n",
       "      <th>4098</th>\n",
       "      <td>Maps - Navigate &amp; Explore</td>\n",
       "      <td>TRAVEL_AND_LOCAL</td>\n",
       "      <td>4.3</td>\n",
       "      <td>9231613.0</td>\n",
       "      <td>0.0</td>\n",
       "      <td>1.000000e+09</td>\n",
       "      <td>Free</td>\n",
       "      <td>0.0</td>\n",
       "      <td>Everyone</td>\n",
       "      <td>Travel &amp; Local</td>\n",
       "      <td>July 31, 2018</td>\n",
       "      <td>Varies with device</td>\n",
       "      <td>Varies with device</td>\n",
       "      <td>0.009232</td>\n",
       "    </tr>\n",
       "    <tr>\n",
       "      <th>4150</th>\n",
       "      <td>Google</td>\n",
       "      <td>TOOLS</td>\n",
       "      <td>4.4</td>\n",
       "      <td>8021623.0</td>\n",
       "      <td>0.0</td>\n",
       "      <td>1.000000e+09</td>\n",
       "      <td>Free</td>\n",
       "      <td>0.0</td>\n",
       "      <td>Everyone</td>\n",
       "      <td>Tools</td>\n",
       "      <td>August 3, 2018</td>\n",
       "      <td>Varies with device</td>\n",
       "      <td>Varies with device</td>\n",
       "      <td>0.008022</td>\n",
       "    </tr>\n",
       "    <tr>\n",
       "      <th>3943</th>\n",
       "      <td>Facebook</td>\n",
       "      <td>SOCIAL</td>\n",
       "      <td>4.1</td>\n",
       "      <td>78128208.0</td>\n",
       "      <td>0.0</td>\n",
       "      <td>1.000000e+09</td>\n",
       "      <td>Free</td>\n",
       "      <td>0.0</td>\n",
       "      <td>Teen</td>\n",
       "      <td>Social</td>\n",
       "      <td>August 3, 2018</td>\n",
       "      <td>Varies with device</td>\n",
       "      <td>Varies with device</td>\n",
       "      <td>0.078128</td>\n",
       "    </tr>\n",
       "    <tr>\n",
       "      <th>4144</th>\n",
       "      <td>Google+</td>\n",
       "      <td>SOCIAL</td>\n",
       "      <td>4.2</td>\n",
       "      <td>4828372.0</td>\n",
       "      <td>0.0</td>\n",
       "      <td>1.000000e+09</td>\n",
       "      <td>Free</td>\n",
       "      <td>0.0</td>\n",
       "      <td>Teen</td>\n",
       "      <td>Social</td>\n",
       "      <td>July 26, 2018</td>\n",
       "      <td>Varies with device</td>\n",
       "      <td>Varies with device</td>\n",
       "      <td>0.004828</td>\n",
       "    </tr>\n",
       "    <tr>\n",
       "      <th>...</th>\n",
       "      <td>...</td>\n",
       "      <td>...</td>\n",
       "      <td>...</td>\n",
       "      <td>...</td>\n",
       "      <td>...</td>\n",
       "      <td>...</td>\n",
       "      <td>...</td>\n",
       "      <td>...</td>\n",
       "      <td>...</td>\n",
       "      <td>...</td>\n",
       "      <td>...</td>\n",
       "      <td>...</td>\n",
       "      <td>...</td>\n",
       "      <td>...</td>\n",
       "    </tr>\n",
       "    <tr>\n",
       "      <th>3597</th>\n",
       "      <td>Family Album Mitene: Private Photo &amp; Video Sha...</td>\n",
       "      <td>PARENTING</td>\n",
       "      <td>4.7</td>\n",
       "      <td>34336.0</td>\n",
       "      <td>0.0</td>\n",
       "      <td>1.000000e+06</td>\n",
       "      <td>Free</td>\n",
       "      <td>0.0</td>\n",
       "      <td>Everyone</td>\n",
       "      <td>Parenting</td>\n",
       "      <td>July 31, 2018</td>\n",
       "      <td>Varies with device</td>\n",
       "      <td>Varies with device</td>\n",
       "      <td>0.034336</td>\n",
       "    </tr>\n",
       "    <tr>\n",
       "      <th>3592</th>\n",
       "      <td>Baby Sleep: White noise lullabies for newborns</td>\n",
       "      <td>PARENTING</td>\n",
       "      <td>4.6</td>\n",
       "      <td>62386.0</td>\n",
       "      <td>3400.0</td>\n",
       "      <td>1.000000e+06</td>\n",
       "      <td>Free</td>\n",
       "      <td>0.0</td>\n",
       "      <td>Everyone</td>\n",
       "      <td>Parenting</td>\n",
       "      <td>June 12, 2018</td>\n",
       "      <td>2.7</td>\n",
       "      <td>4.0 and up</td>\n",
       "      <td>0.062386</td>\n",
       "    </tr>\n",
       "    <tr>\n",
       "      <th>1014</th>\n",
       "      <td>Vivid Seats – Event Tickets</td>\n",
       "      <td>EVENTS</td>\n",
       "      <td>4.6</td>\n",
       "      <td>8232.0</td>\n",
       "      <td>53000.0</td>\n",
       "      <td>1.000000e+06</td>\n",
       "      <td>Free</td>\n",
       "      <td>0.0</td>\n",
       "      <td>Everyone</td>\n",
       "      <td>Events</td>\n",
       "      <td>July 31, 2018</td>\n",
       "      <td>Varies with device</td>\n",
       "      <td>5.0 and up</td>\n",
       "      <td>0.008232</td>\n",
       "    </tr>\n",
       "    <tr>\n",
       "      <th>1020</th>\n",
       "      <td>Gametime - Tickets to Sports, Concerts, Theater</td>\n",
       "      <td>EVENTS</td>\n",
       "      <td>4.5</td>\n",
       "      <td>8800.0</td>\n",
       "      <td>24000.0</td>\n",
       "      <td>1.000000e+06</td>\n",
       "      <td>Free</td>\n",
       "      <td>0.0</td>\n",
       "      <td>Everyone</td>\n",
       "      <td>Events</td>\n",
       "      <td>July 17, 2018</td>\n",
       "      <td>11.1.1</td>\n",
       "      <td>5.0 and up</td>\n",
       "      <td>0.008800</td>\n",
       "    </tr>\n",
       "    <tr>\n",
       "      <th>1009</th>\n",
       "      <td>Fever</td>\n",
       "      <td>EVENTS</td>\n",
       "      <td>4.0</td>\n",
       "      <td>20611.0</td>\n",
       "      <td>12000.0</td>\n",
       "      <td>1.000000e+06</td>\n",
       "      <td>Free</td>\n",
       "      <td>0.0</td>\n",
       "      <td>Teen</td>\n",
       "      <td>Events</td>\n",
       "      <td>July 18, 2018</td>\n",
       "      <td>4.3.6</td>\n",
       "      <td>4.1 and up</td>\n",
       "      <td>0.020611</td>\n",
       "    </tr>\n",
       "  </tbody>\n",
       "</table>\n",
       "<p>165 rows × 14 columns</p>\n",
       "</div>"
      ],
      "text/plain": [
       "                                                    App          Category  \\\n",
       "5856                                  Google Play Games            FAMILY   \n",
       "4098                          Maps - Navigate & Explore  TRAVEL_AND_LOCAL   \n",
       "4150                                             Google             TOOLS   \n",
       "3943                                           Facebook            SOCIAL   \n",
       "4144                                            Google+            SOCIAL   \n",
       "...                                                 ...               ...   \n",
       "3597  Family Album Mitene: Private Photo & Video Sha...         PARENTING   \n",
       "3592     Baby Sleep: White noise lullabies for newborns         PARENTING   \n",
       "1014                        Vivid Seats – Event Tickets            EVENTS   \n",
       "1020    Gametime - Tickets to Sports, Concerts, Theater            EVENTS   \n",
       "1009                                              Fever            EVENTS   \n",
       "\n",
       "      Rating     Reviews     Size      Installs  Type  Price Content Rating  \\\n",
       "5856     4.3   7168735.0      0.0  1.000000e+09  Free    0.0           Teen   \n",
       "4098     4.3   9231613.0      0.0  1.000000e+09  Free    0.0       Everyone   \n",
       "4150     4.4   8021623.0      0.0  1.000000e+09  Free    0.0       Everyone   \n",
       "3943     4.1  78128208.0      0.0  1.000000e+09  Free    0.0           Teen   \n",
       "4144     4.2   4828372.0      0.0  1.000000e+09  Free    0.0           Teen   \n",
       "...      ...         ...      ...           ...   ...    ...            ...   \n",
       "3597     4.7     34336.0      0.0  1.000000e+06  Free    0.0       Everyone   \n",
       "3592     4.6     62386.0   3400.0  1.000000e+06  Free    0.0       Everyone   \n",
       "1014     4.6      8232.0  53000.0  1.000000e+06  Free    0.0       Everyone   \n",
       "1020     4.5      8800.0  24000.0  1.000000e+06  Free    0.0       Everyone   \n",
       "1009     4.0     20611.0  12000.0  1.000000e+06  Free    0.0           Teen   \n",
       "\n",
       "              Genres    Last Updated         Current Ver         Android Ver  \\\n",
       "5856   Entertainment   July 16, 2018  Varies with device  Varies with device   \n",
       "4098  Travel & Local   July 31, 2018  Varies with device  Varies with device   \n",
       "4150           Tools  August 3, 2018  Varies with device  Varies with device   \n",
       "3943          Social  August 3, 2018  Varies with device  Varies with device   \n",
       "4144          Social   July 26, 2018  Varies with device  Varies with device   \n",
       "...              ...             ...                 ...                 ...   \n",
       "3597       Parenting   July 31, 2018  Varies with device  Varies with device   \n",
       "3592       Parenting   June 12, 2018                 2.7          4.0 and up   \n",
       "1014          Events   July 31, 2018  Varies with device          5.0 and up   \n",
       "1020          Events   July 17, 2018              11.1.1          5.0 and up   \n",
       "1009          Events   July 18, 2018               4.3.6          4.1 and up   \n",
       "\n",
       "           R/I  \n",
       "5856  0.007169  \n",
       "4098  0.009232  \n",
       "4150  0.008022  \n",
       "3943  0.078128  \n",
       "4144  0.004828  \n",
       "...        ...  \n",
       "3597  0.034336  \n",
       "3592  0.062386  \n",
       "1014  0.008232  \n",
       "1020  0.008800  \n",
       "1009  0.020611  \n",
       "\n",
       "[165 rows x 14 columns]"
      ]
     },
     "execution_count": 43,
     "metadata": {},
     "output_type": "execute_result"
    }
   ],
   "source": [
    "df.sort_values(\"Installs\", ascending=False).groupby(\"Category\").head(5)"
   ]
  },
  {
   "cell_type": "code",
   "execution_count": 95,
   "id": "d60586d4",
   "metadata": {
    "ExecuteTime": {
     "end_time": "2023-02-01T23:01:55.867268Z",
     "start_time": "2023-02-01T23:01:55.850253Z"
    }
   },
   "outputs": [],
   "source": [
    "df_not_0 = df[df[\"Size\"] != 0]"
   ]
  },
  {
   "cell_type": "code",
   "execution_count": 99,
   "id": "e88638e0",
   "metadata": {
    "ExecuteTime": {
     "end_time": "2023-02-01T23:04:49.156569Z",
     "start_time": "2023-02-01T23:04:49.135550Z"
    }
   },
   "outputs": [],
   "source": [
    "df_not_0 = df_not_0.sort_values([\"Size\", \"Installs\"], ascending=[True, False])"
   ]
  },
  {
   "cell_type": "code",
   "execution_count": 105,
   "id": "4e61619e",
   "metadata": {
    "ExecuteTime": {
     "end_time": "2023-02-01T23:07:17.347016Z",
     "start_time": "2023-02-01T23:07:17.233177Z"
    }
   },
   "outputs": [
    {
     "data": {
      "image/png": "[encoded data removed]",
      "text/plain": [
       "<Figure size 1000x500 with 1 Axes>"
      ]
     },
     "metadata": {},
     "output_type": "display_data"
    }
   ],
   "source": [
    "data = df_not_0.head(5)\n",
    "plt.figure(figsize=(10,5))\n",
    "plt.bar(data[\"App\"], data[\"Installs\"])\n",
    "plt.xticks(rotation=90)\n",
    "plt.show()"
   ]
  },
  {
   "cell_type": "code",
   "execution_count": 44,
   "id": "805d4ea1",
   "metadata": {
    "ExecuteTime": {
     "end_time": "2023-02-01T22:42:09.190975Z",
     "start_time": "2023-02-01T22:42:09.157369Z"
    }
   },
   "outputs": [
    {
     "data": {
      "text/html": [
       "<div>\n",
       "<style scoped>\n",
       "    .dataframe tbody tr th:only-of-type {\n",
       "        vertical-align: middle;\n",
       "    }\n",
       "\n",
       "    .dataframe tbody tr th {\n",
       "        vertical-align: top;\n",
       "    }\n",
       "\n",
       "    .dataframe thead th {\n",
       "        text-align: right;\n",
       "    }\n",
       "</style>\n",
       "<table border=\"1\" class=\"dataframe\">\n",
       "  <thead>\n",
       "    <tr style=\"text-align: right;\">\n",
       "      <th></th>\n",
       "      <th></th>\n",
       "      <th>Installs</th>\n",
       "    </tr>\n",
       "    <tr>\n",
       "      <th>Category</th>\n",
       "      <th></th>\n",
       "      <th></th>\n",
       "    </tr>\n",
       "  </thead>\n",
       "  <tbody>\n",
       "    <tr>\n",
       "      <th rowspan=\"3\" valign=\"top\">ART_AND_DESIGN</th>\n",
       "      <th>4759</th>\n",
       "      <td>10000.0</td>\n",
       "    </tr>\n",
       "    <tr>\n",
       "      <th>4755</th>\n",
       "      <td>5000.0</td>\n",
       "    </tr>\n",
       "    <tr>\n",
       "      <th>4764</th>\n",
       "      <td>1000.0</td>\n",
       "    </tr>\n",
       "    <tr>\n",
       "      <th rowspan=\"2\" valign=\"top\">AUTO_AND_VEHICLES</th>\n",
       "      <th>4216</th>\n",
       "      <td>50000.0</td>\n",
       "    </tr>\n",
       "    <tr>\n",
       "      <th>7183</th>\n",
       "      <td>100.0</td>\n",
       "    </tr>\n",
       "    <tr>\n",
       "      <th>...</th>\n",
       "      <th>...</th>\n",
       "      <td>...</td>\n",
       "    </tr>\n",
       "    <tr>\n",
       "      <th rowspan=\"5\" valign=\"top\">WEATHER</th>\n",
       "      <th>4133</th>\n",
       "      <td>500000.0</td>\n",
       "    </tr>\n",
       "    <tr>\n",
       "      <th>3658</th>\n",
       "      <td>100000.0</td>\n",
       "    </tr>\n",
       "    <tr>\n",
       "      <th>4962</th>\n",
       "      <td>100000.0</td>\n",
       "    </tr>\n",
       "    <tr>\n",
       "      <th>8912</th>\n",
       "      <td>100000.0</td>\n",
       "    </tr>\n",
       "    <tr>\n",
       "      <th>4955</th>\n",
       "      <td>10000.0</td>\n",
       "    </tr>\n",
       "  </tbody>\n",
       "</table>\n",
       "<p>119 rows × 1 columns</p>\n",
       "</div>"
      ],
      "text/plain": [
       "                        Installs\n",
       "Category                        \n",
       "ART_AND_DESIGN    4759   10000.0\n",
       "                  4755    5000.0\n",
       "                  4764    1000.0\n",
       "AUTO_AND_VEHICLES 4216   50000.0\n",
       "                  7183     100.0\n",
       "...                          ...\n",
       "WEATHER           4133  500000.0\n",
       "                  3658  100000.0\n",
       "                  4962  100000.0\n",
       "                  8912  100000.0\n",
       "                  4955   10000.0\n",
       "\n",
       "[119 rows x 1 columns]"
      ]
     },
     "execution_count": 44,
     "metadata": {},
     "output_type": "execute_result"
    }
   ],
   "source": [
    "df[df[\"Price\"]>0].groupby(\"Category\")[\"Installs\"].nlargest(5).to_frame()"
   ]
  },
  {
   "cell_type": "code",
   "execution_count": 45,
   "id": "5c581744",
   "metadata": {
    "ExecuteTime": {
     "end_time": "2023-02-01T22:42:09.226133Z",
     "start_time": "2023-02-01T22:42:09.191976Z"
    }
   },
   "outputs": [],
   "source": [
    "free_by_category = df[df[\"Price\"] == 0].groupby(\"Category\").apply(lambda x: x.sort_values(\"Installs\", ascending = False).head(5))"
   ]
  },
  {
   "cell_type": "code",
   "execution_count": 46,
   "id": "4191a39b",
   "metadata": {
    "ExecuteTime": {
     "end_time": "2023-02-01T22:42:09.250548Z",
     "start_time": "2023-02-01T22:42:09.227134Z"
    }
   },
   "outputs": [],
   "source": [
    "paid_by_category = df[df[\"Price\"] >0].groupby(\"Category\").apply(lambda x : x.sort_values(\"Installs\", ascending=False).head(5))"
   ]
  },
  {
   "cell_type": "code",
   "execution_count": 47,
   "id": "f913ef34",
   "metadata": {
    "ExecuteTime": {
     "end_time": "2023-02-01T22:42:09.280426Z",
     "start_time": "2023-02-01T22:42:09.250548Z"
    }
   },
   "outputs": [
    {
     "data": {
      "text/html": [
       "<div>\n",
       "<style scoped>\n",
       "    .dataframe tbody tr th:only-of-type {\n",
       "        vertical-align: middle;\n",
       "    }\n",
       "\n",
       "    .dataframe tbody tr th {\n",
       "        vertical-align: top;\n",
       "    }\n",
       "\n",
       "    .dataframe thead th {\n",
       "        text-align: right;\n",
       "    }\n",
       "</style>\n",
       "<table border=\"1\" class=\"dataframe\">\n",
       "  <thead>\n",
       "    <tr style=\"text-align: right;\">\n",
       "      <th></th>\n",
       "      <th></th>\n",
       "      <th>App</th>\n",
       "      <th>Category</th>\n",
       "      <th>Rating</th>\n",
       "      <th>Reviews</th>\n",
       "      <th>Size</th>\n",
       "      <th>Installs</th>\n",
       "      <th>Type</th>\n",
       "      <th>Price</th>\n",
       "      <th>Content Rating</th>\n",
       "      <th>Genres</th>\n",
       "      <th>Last Updated</th>\n",
       "      <th>Current Ver</th>\n",
       "      <th>Android Ver</th>\n",
       "      <th>R/I</th>\n",
       "    </tr>\n",
       "    <tr>\n",
       "      <th>Category</th>\n",
       "      <th></th>\n",
       "      <th></th>\n",
       "      <th></th>\n",
       "      <th></th>\n",
       "      <th></th>\n",
       "      <th></th>\n",
       "      <th></th>\n",
       "      <th></th>\n",
       "      <th></th>\n",
       "      <th></th>\n",
       "      <th></th>\n",
       "      <th></th>\n",
       "      <th></th>\n",
       "      <th></th>\n",
       "      <th></th>\n",
       "    </tr>\n",
       "  </thead>\n",
       "  <tbody>\n",
       "    <tr>\n",
       "      <th rowspan=\"5\" valign=\"top\">ART_AND_DESIGN</th>\n",
       "      <th>3</th>\n",
       "      <td>Sketch - Draw &amp; Paint</td>\n",
       "      <td>ART_AND_DESIGN</td>\n",
       "      <td>4.5</td>\n",
       "      <td>215644.0</td>\n",
       "      <td>25000.0</td>\n",
       "      <td>50000000.0</td>\n",
       "      <td>Free</td>\n",
       "      <td>0.0</td>\n",
       "      <td>Teen</td>\n",
       "      <td>Art &amp; Design</td>\n",
       "      <td>June 8, 2018</td>\n",
       "      <td>Varies with device</td>\n",
       "      <td>4.2 and up</td>\n",
       "      <td>0.004313</td>\n",
       "    </tr>\n",
       "    <tr>\n",
       "      <th>19</th>\n",
       "      <td>ibis Paint X</td>\n",
       "      <td>ART_AND_DESIGN</td>\n",
       "      <td>4.6</td>\n",
       "      <td>224399.0</td>\n",
       "      <td>31000.0</td>\n",
       "      <td>10000000.0</td>\n",
       "      <td>Free</td>\n",
       "      <td>0.0</td>\n",
       "      <td>Everyone</td>\n",
       "      <td>Art &amp; Design</td>\n",
       "      <td>July 30, 2018</td>\n",
       "      <td>5.5.4</td>\n",
       "      <td>4.1 and up</td>\n",
       "      <td>0.022440</td>\n",
       "    </tr>\n",
       "    <tr>\n",
       "      <th>42</th>\n",
       "      <td>Textgram - write on photos</td>\n",
       "      <td>ART_AND_DESIGN</td>\n",
       "      <td>4.4</td>\n",
       "      <td>295221.0</td>\n",
       "      <td>0.0</td>\n",
       "      <td>10000000.0</td>\n",
       "      <td>Free</td>\n",
       "      <td>0.0</td>\n",
       "      <td>Everyone</td>\n",
       "      <td>Art &amp; Design</td>\n",
       "      <td>July 30, 2018</td>\n",
       "      <td>Varies with device</td>\n",
       "      <td>Varies with device</td>\n",
       "      <td>0.029522</td>\n",
       "    </tr>\n",
       "    <tr>\n",
       "      <th>45</th>\n",
       "      <td>Canva: Poster, banner, card maker &amp; graphic de...</td>\n",
       "      <td>ART_AND_DESIGN</td>\n",
       "      <td>4.7</td>\n",
       "      <td>174531.0</td>\n",
       "      <td>24000.0</td>\n",
       "      <td>10000000.0</td>\n",
       "      <td>Free</td>\n",
       "      <td>0.0</td>\n",
       "      <td>Everyone</td>\n",
       "      <td>Art &amp; Design</td>\n",
       "      <td>July 31, 2018</td>\n",
       "      <td>1.6.1</td>\n",
       "      <td>4.1 and up</td>\n",
       "      <td>0.017453</td>\n",
       "    </tr>\n",
       "    <tr>\n",
       "      <th>12</th>\n",
       "      <td>Tattoo Name On My Photo Editor</td>\n",
       "      <td>ART_AND_DESIGN</td>\n",
       "      <td>4.2</td>\n",
       "      <td>44829.0</td>\n",
       "      <td>20000.0</td>\n",
       "      <td>10000000.0</td>\n",
       "      <td>Free</td>\n",
       "      <td>0.0</td>\n",
       "      <td>Teen</td>\n",
       "      <td>Art &amp; Design</td>\n",
       "      <td>April 2, 2018</td>\n",
       "      <td>3.8</td>\n",
       "      <td>4.1 and up</td>\n",
       "      <td>0.004483</td>\n",
       "    </tr>\n",
       "    <tr>\n",
       "      <th>...</th>\n",
       "      <th>...</th>\n",
       "      <td>...</td>\n",
       "      <td>...</td>\n",
       "      <td>...</td>\n",
       "      <td>...</td>\n",
       "      <td>...</td>\n",
       "      <td>...</td>\n",
       "      <td>...</td>\n",
       "      <td>...</td>\n",
       "      <td>...</td>\n",
       "      <td>...</td>\n",
       "      <td>...</td>\n",
       "      <td>...</td>\n",
       "      <td>...</td>\n",
       "      <td>...</td>\n",
       "    </tr>\n",
       "    <tr>\n",
       "      <th rowspan=\"5\" valign=\"top\">WEATHER</th>\n",
       "      <th>3626</th>\n",
       "      <td>The Weather Channel: Rain Forecast &amp; Storm Alerts</td>\n",
       "      <td>WEATHER</td>\n",
       "      <td>4.4</td>\n",
       "      <td>1558437.0</td>\n",
       "      <td>0.0</td>\n",
       "      <td>50000000.0</td>\n",
       "      <td>Free</td>\n",
       "      <td>0.0</td>\n",
       "      <td>Everyone</td>\n",
       "      <td>Weather</td>\n",
       "      <td>August 1, 2018</td>\n",
       "      <td>Varies with device</td>\n",
       "      <td>Varies with device</td>\n",
       "      <td>0.031169</td>\n",
       "    </tr>\n",
       "    <tr>\n",
       "      <th>3628</th>\n",
       "      <td>AccuWeather: Daily Forecast &amp; Live Weather Rep...</td>\n",
       "      <td>WEATHER</td>\n",
       "      <td>4.4</td>\n",
       "      <td>2053404.0</td>\n",
       "      <td>0.0</td>\n",
       "      <td>50000000.0</td>\n",
       "      <td>Free</td>\n",
       "      <td>0.0</td>\n",
       "      <td>Everyone</td>\n",
       "      <td>Weather</td>\n",
       "      <td>August 6, 2018</td>\n",
       "      <td>Varies with device</td>\n",
       "      <td>Varies with device</td>\n",
       "      <td>0.041068</td>\n",
       "    </tr>\n",
       "    <tr>\n",
       "      <th>4725</th>\n",
       "      <td>Weather &amp; Clock Widget for Android</td>\n",
       "      <td>WEATHER</td>\n",
       "      <td>4.4</td>\n",
       "      <td>2371543.0</td>\n",
       "      <td>11000.0</td>\n",
       "      <td>50000000.0</td>\n",
       "      <td>Free</td>\n",
       "      <td>0.0</td>\n",
       "      <td>Everyone</td>\n",
       "      <td>Weather</td>\n",
       "      <td>June 4, 2018</td>\n",
       "      <td>5.9.4.0</td>\n",
       "      <td>4.0.3 and up</td>\n",
       "      <td>0.047431</td>\n",
       "    </tr>\n",
       "    <tr>\n",
       "      <th>5512</th>\n",
       "      <td>AccuWeather: Daily Forecast &amp; Live Weather Rep...</td>\n",
       "      <td>WEATHER</td>\n",
       "      <td>4.4</td>\n",
       "      <td>2052407.0</td>\n",
       "      <td>0.0</td>\n",
       "      <td>50000000.0</td>\n",
       "      <td>Free</td>\n",
       "      <td>0.0</td>\n",
       "      <td>Everyone</td>\n",
       "      <td>Weather</td>\n",
       "      <td>August 2, 2018</td>\n",
       "      <td>Varies with device</td>\n",
       "      <td>Varies with device</td>\n",
       "      <td>0.041048</td>\n",
       "    </tr>\n",
       "    <tr>\n",
       "      <th>3649</th>\n",
       "      <td>GO Weather - Widget, Theme, Wallpaper, Efficient</td>\n",
       "      <td>WEATHER</td>\n",
       "      <td>4.5</td>\n",
       "      <td>1422858.0</td>\n",
       "      <td>0.0</td>\n",
       "      <td>50000000.0</td>\n",
       "      <td>Free</td>\n",
       "      <td>0.0</td>\n",
       "      <td>Everyone</td>\n",
       "      <td>Weather</td>\n",
       "      <td>August 3, 2018</td>\n",
       "      <td>Varies with device</td>\n",
       "      <td>Varies with device</td>\n",
       "      <td>0.028457</td>\n",
       "    </tr>\n",
       "  </tbody>\n",
       "</table>\n",
       "<p>165 rows × 14 columns</p>\n",
       "</div>"
      ],
      "text/plain": [
       "                                                                   App  \\\n",
       "Category                                                                 \n",
       "ART_AND_DESIGN 3                                 Sketch - Draw & Paint   \n",
       "               19                                         ibis Paint X   \n",
       "               42                           Textgram - write on photos   \n",
       "               45    Canva: Poster, banner, card maker & graphic de...   \n",
       "               12                       Tattoo Name On My Photo Editor   \n",
       "...                                                                ...   \n",
       "WEATHER        3626  The Weather Channel: Rain Forecast & Storm Alerts   \n",
       "               3628  AccuWeather: Daily Forecast & Live Weather Rep...   \n",
       "               4725                 Weather & Clock Widget for Android   \n",
       "               5512  AccuWeather: Daily Forecast & Live Weather Rep...   \n",
       "               3649   GO Weather - Widget, Theme, Wallpaper, Efficient   \n",
       "\n",
       "                           Category  Rating    Reviews     Size    Installs  \\\n",
       "Category                                                                      \n",
       "ART_AND_DESIGN 3     ART_AND_DESIGN     4.5   215644.0  25000.0  50000000.0   \n",
       "               19    ART_AND_DESIGN     4.6   224399.0  31000.0  10000000.0   \n",
       "               42    ART_AND_DESIGN     4.4   295221.0      0.0  10000000.0   \n",
       "               45    ART_AND_DESIGN     4.7   174531.0  24000.0  10000000.0   \n",
       "               12    ART_AND_DESIGN     4.2    44829.0  20000.0  10000000.0   \n",
       "...                             ...     ...        ...      ...         ...   \n",
       "WEATHER        3626         WEATHER     4.4  1558437.0      0.0  50000000.0   \n",
       "               3628         WEATHER     4.4  2053404.0      0.0  50000000.0   \n",
       "               4725         WEATHER     4.4  2371543.0  11000.0  50000000.0   \n",
       "               5512         WEATHER     4.4  2052407.0      0.0  50000000.0   \n",
       "               3649         WEATHER     4.5  1422858.0      0.0  50000000.0   \n",
       "\n",
       "                     Type  Price Content Rating        Genres    Last Updated  \\\n",
       "Category                                                                        \n",
       "ART_AND_DESIGN 3     Free    0.0           Teen  Art & Design    June 8, 2018   \n",
       "               19    Free    0.0       Everyone  Art & Design   July 30, 2018   \n",
       "               42    Free    0.0       Everyone  Art & Design   July 30, 2018   \n",
       "               45    Free    0.0       Everyone  Art & Design   July 31, 2018   \n",
       "               12    Free    0.0           Teen  Art & Design   April 2, 2018   \n",
       "...                   ...    ...            ...           ...             ...   \n",
       "WEATHER        3626  Free    0.0       Everyone       Weather  August 1, 2018   \n",
       "               3628  Free    0.0       Everyone       Weather  August 6, 2018   \n",
       "               4725  Free    0.0       Everyone       Weather    June 4, 2018   \n",
       "               5512  Free    0.0       Everyone       Weather  August 2, 2018   \n",
       "               3649  Free    0.0       Everyone       Weather  August 3, 2018   \n",
       "\n",
       "                            Current Ver         Android Ver       R/I  \n",
       "Category                                                               \n",
       "ART_AND_DESIGN 3     Varies with device          4.2 and up  0.004313  \n",
       "               19                 5.5.4          4.1 and up  0.022440  \n",
       "               42    Varies with device  Varies with device  0.029522  \n",
       "               45                 1.6.1          4.1 and up  0.017453  \n",
       "               12                   3.8          4.1 and up  0.004483  \n",
       "...                                 ...                 ...       ...  \n",
       "WEATHER        3626  Varies with device  Varies with device  0.031169  \n",
       "               3628  Varies with device  Varies with device  0.041068  \n",
       "               4725             5.9.4.0        4.0.3 and up  0.047431  \n",
       "               5512  Varies with device  Varies with device  0.041048  \n",
       "               3649  Varies with device  Varies with device  0.028457  \n",
       "\n",
       "[165 rows x 14 columns]"
      ]
     },
     "execution_count": 47,
     "metadata": {},
     "output_type": "execute_result"
    }
   ],
   "source": [
    "free_by_category"
   ]
  },
  {
   "cell_type": "code",
   "execution_count": 48,
   "id": "6f585638",
   "metadata": {
    "ExecuteTime": {
     "end_time": "2023-02-01T22:42:09.307115Z",
     "start_time": "2023-02-01T22:42:09.281427Z"
    }
   },
   "outputs": [
    {
     "data": {
      "text/html": [
       "<div>\n",
       "<style scoped>\n",
       "    .dataframe tbody tr th:only-of-type {\n",
       "        vertical-align: middle;\n",
       "    }\n",
       "\n",
       "    .dataframe tbody tr th {\n",
       "        vertical-align: top;\n",
       "    }\n",
       "\n",
       "    .dataframe thead th {\n",
       "        text-align: right;\n",
       "    }\n",
       "</style>\n",
       "<table border=\"1\" class=\"dataframe\">\n",
       "  <thead>\n",
       "    <tr style=\"text-align: right;\">\n",
       "      <th></th>\n",
       "      <th></th>\n",
       "      <th>App</th>\n",
       "      <th>Category</th>\n",
       "      <th>Rating</th>\n",
       "      <th>Reviews</th>\n",
       "      <th>Size</th>\n",
       "      <th>Installs</th>\n",
       "      <th>Type</th>\n",
       "      <th>Price</th>\n",
       "      <th>Content Rating</th>\n",
       "      <th>Genres</th>\n",
       "      <th>Last Updated</th>\n",
       "      <th>Current Ver</th>\n",
       "      <th>Android Ver</th>\n",
       "      <th>R/I</th>\n",
       "    </tr>\n",
       "    <tr>\n",
       "      <th>Category</th>\n",
       "      <th></th>\n",
       "      <th></th>\n",
       "      <th></th>\n",
       "      <th></th>\n",
       "      <th></th>\n",
       "      <th></th>\n",
       "      <th></th>\n",
       "      <th></th>\n",
       "      <th></th>\n",
       "      <th></th>\n",
       "      <th></th>\n",
       "      <th></th>\n",
       "      <th></th>\n",
       "      <th></th>\n",
       "      <th></th>\n",
       "    </tr>\n",
       "  </thead>\n",
       "  <tbody>\n",
       "    <tr>\n",
       "      <th rowspan=\"3\" valign=\"top\">ART_AND_DESIGN</th>\n",
       "      <th>4759</th>\n",
       "      <td>X Launcher Pro - IOS Style Theme &amp; Control Center</td>\n",
       "      <td>ART_AND_DESIGN</td>\n",
       "      <td>4.8</td>\n",
       "      <td>1216.0</td>\n",
       "      <td>8600.0</td>\n",
       "      <td>10000.0</td>\n",
       "      <td>Paid</td>\n",
       "      <td>1.99</td>\n",
       "      <td>Everyone</td>\n",
       "      <td>Art &amp; Design</td>\n",
       "      <td>June 26, 2018</td>\n",
       "      <td>1.0.0</td>\n",
       "      <td>4.1 and up</td>\n",
       "      <td>0.121600</td>\n",
       "    </tr>\n",
       "    <tr>\n",
       "      <th>4755</th>\n",
       "      <td>X Launcher Pro: PhoneX Theme, OS11 Control Center</td>\n",
       "      <td>ART_AND_DESIGN</td>\n",
       "      <td>4.7</td>\n",
       "      <td>801.0</td>\n",
       "      <td>3500.0</td>\n",
       "      <td>5000.0</td>\n",
       "      <td>Paid</td>\n",
       "      <td>1.99</td>\n",
       "      <td>Everyone</td>\n",
       "      <td>Art &amp; Design</td>\n",
       "      <td>July 30, 2018</td>\n",
       "      <td>2.1.2</td>\n",
       "      <td>4.1 and up</td>\n",
       "      <td>0.160200</td>\n",
       "    </tr>\n",
       "    <tr>\n",
       "      <th>4764</th>\n",
       "      <td>X Launcher Prime: With OS Style Theme &amp; No Ads</td>\n",
       "      <td>ART_AND_DESIGN</td>\n",
       "      <td>4.7</td>\n",
       "      <td>149.0</td>\n",
       "      <td>3500.0</td>\n",
       "      <td>1000.0</td>\n",
       "      <td>Paid</td>\n",
       "      <td>1.99</td>\n",
       "      <td>Everyone</td>\n",
       "      <td>Art &amp; Design</td>\n",
       "      <td>July 30, 2018</td>\n",
       "      <td>1.2.2</td>\n",
       "      <td>4.1 and up</td>\n",
       "      <td>0.149000</td>\n",
       "    </tr>\n",
       "    <tr>\n",
       "      <th rowspan=\"2\" valign=\"top\">AUTO_AND_VEHICLES</th>\n",
       "      <th>4216</th>\n",
       "      <td>Ulysse Speedometer Pro</td>\n",
       "      <td>AUTO_AND_VEHICLES</td>\n",
       "      <td>4.6</td>\n",
       "      <td>4140.0</td>\n",
       "      <td>0.0</td>\n",
       "      <td>50000.0</td>\n",
       "      <td>Paid</td>\n",
       "      <td>1.99</td>\n",
       "      <td>Everyone</td>\n",
       "      <td>Auto &amp; Vehicles</td>\n",
       "      <td>May 13, 2018</td>\n",
       "      <td>Varies with device</td>\n",
       "      <td>Varies with device</td>\n",
       "      <td>0.082800</td>\n",
       "    </tr>\n",
       "    <tr>\n",
       "      <th>7183</th>\n",
       "      <td>Билеты ПДД CD 2019 PRO</td>\n",
       "      <td>AUTO_AND_VEHICLES</td>\n",
       "      <td>0.0</td>\n",
       "      <td>21.0</td>\n",
       "      <td>16000.0</td>\n",
       "      <td>100.0</td>\n",
       "      <td>Paid</td>\n",
       "      <td>1.49</td>\n",
       "      <td>Everyone</td>\n",
       "      <td>Auto &amp; Vehicles</td>\n",
       "      <td>July 27, 2018</td>\n",
       "      <td>1.49</td>\n",
       "      <td>4.0 and up</td>\n",
       "      <td>0.210000</td>\n",
       "    </tr>\n",
       "    <tr>\n",
       "      <th>...</th>\n",
       "      <th>...</th>\n",
       "      <td>...</td>\n",
       "      <td>...</td>\n",
       "      <td>...</td>\n",
       "      <td>...</td>\n",
       "      <td>...</td>\n",
       "      <td>...</td>\n",
       "      <td>...</td>\n",
       "      <td>...</td>\n",
       "      <td>...</td>\n",
       "      <td>...</td>\n",
       "      <td>...</td>\n",
       "      <td>...</td>\n",
       "      <td>...</td>\n",
       "      <td>...</td>\n",
       "    </tr>\n",
       "    <tr>\n",
       "      <th rowspan=\"5\" valign=\"top\">WEATHER</th>\n",
       "      <th>4133</th>\n",
       "      <td>Weather Live</td>\n",
       "      <td>WEATHER</td>\n",
       "      <td>4.5</td>\n",
       "      <td>76593.0</td>\n",
       "      <td>0.0</td>\n",
       "      <td>500000.0</td>\n",
       "      <td>Paid</td>\n",
       "      <td>5.99</td>\n",
       "      <td>Everyone</td>\n",
       "      <td>Weather</td>\n",
       "      <td>November 21, 2017</td>\n",
       "      <td>Varies with device</td>\n",
       "      <td>Varies with device</td>\n",
       "      <td>0.153186</td>\n",
       "    </tr>\n",
       "    <tr>\n",
       "      <th>3658</th>\n",
       "      <td>Weather Live Pro</td>\n",
       "      <td>WEATHER</td>\n",
       "      <td>4.8</td>\n",
       "      <td>17493.0</td>\n",
       "      <td>11000.0</td>\n",
       "      <td>100000.0</td>\n",
       "      <td>Paid</td>\n",
       "      <td>4.49</td>\n",
       "      <td>Everyone</td>\n",
       "      <td>Weather</td>\n",
       "      <td>April 20, 2018</td>\n",
       "      <td>1.3</td>\n",
       "      <td>4.4 and up</td>\n",
       "      <td>0.174930</td>\n",
       "    </tr>\n",
       "    <tr>\n",
       "      <th>4962</th>\n",
       "      <td>Weather &amp; Radar Pro - Ad-Free</td>\n",
       "      <td>WEATHER</td>\n",
       "      <td>4.5</td>\n",
       "      <td>25243.0</td>\n",
       "      <td>26000.0</td>\n",
       "      <td>100000.0</td>\n",
       "      <td>Paid</td>\n",
       "      <td>2.99</td>\n",
       "      <td>Everyone</td>\n",
       "      <td>Weather</td>\n",
       "      <td>August 1, 2018</td>\n",
       "      <td>4.34.0</td>\n",
       "      <td>4.4 and up</td>\n",
       "      <td>0.252430</td>\n",
       "    </tr>\n",
       "    <tr>\n",
       "      <th>8912</th>\n",
       "      <td>Weather Forecast Pro</td>\n",
       "      <td>WEATHER</td>\n",
       "      <td>4.7</td>\n",
       "      <td>14051.0</td>\n",
       "      <td>8700.0</td>\n",
       "      <td>100000.0</td>\n",
       "      <td>Paid</td>\n",
       "      <td>3.99</td>\n",
       "      <td>Everyone</td>\n",
       "      <td>Weather</td>\n",
       "      <td>August 4, 2018</td>\n",
       "      <td>8.5</td>\n",
       "      <td>4.0 and up</td>\n",
       "      <td>0.140510</td>\n",
       "    </tr>\n",
       "    <tr>\n",
       "      <th>4955</th>\n",
       "      <td>MyRadar NOAA Weather Radar Ad Free</td>\n",
       "      <td>WEATHER</td>\n",
       "      <td>4.5</td>\n",
       "      <td>3005.0</td>\n",
       "      <td>26000.0</td>\n",
       "      <td>10000.0</td>\n",
       "      <td>Paid</td>\n",
       "      <td>2.99</td>\n",
       "      <td>Everyone</td>\n",
       "      <td>Weather</td>\n",
       "      <td>August 4, 2018</td>\n",
       "      <td>7.1.4</td>\n",
       "      <td>4.0.3 and up</td>\n",
       "      <td>0.300500</td>\n",
       "    </tr>\n",
       "  </tbody>\n",
       "</table>\n",
       "<p>119 rows × 14 columns</p>\n",
       "</div>"
      ],
      "text/plain": [
       "                                                                      App  \\\n",
       "Category                                                                    \n",
       "ART_AND_DESIGN    4759  X Launcher Pro - IOS Style Theme & Control Center   \n",
       "                  4755  X Launcher Pro: PhoneX Theme, OS11 Control Center   \n",
       "                  4764     X Launcher Prime: With OS Style Theme & No Ads   \n",
       "AUTO_AND_VEHICLES 4216                             Ulysse Speedometer Pro   \n",
       "                  7183                             Билеты ПДД CD 2019 PRO   \n",
       "...                                                                   ...   \n",
       "WEATHER           4133                                       Weather Live   \n",
       "                  3658                                   Weather Live Pro   \n",
       "                  4962                      Weather & Radar Pro - Ad-Free   \n",
       "                  8912                               Weather Forecast Pro   \n",
       "                  4955                 MyRadar NOAA Weather Radar Ad Free   \n",
       "\n",
       "                                 Category  Rating  Reviews     Size  Installs  \\\n",
       "Category                                                                        \n",
       "ART_AND_DESIGN    4759     ART_AND_DESIGN     4.8   1216.0   8600.0   10000.0   \n",
       "                  4755     ART_AND_DESIGN     4.7    801.0   3500.0    5000.0   \n",
       "                  4764     ART_AND_DESIGN     4.7    149.0   3500.0    1000.0   \n",
       "AUTO_AND_VEHICLES 4216  AUTO_AND_VEHICLES     4.6   4140.0      0.0   50000.0   \n",
       "                  7183  AUTO_AND_VEHICLES     0.0     21.0  16000.0     100.0   \n",
       "...                                   ...     ...      ...      ...       ...   \n",
       "WEATHER           4133            WEATHER     4.5  76593.0      0.0  500000.0   \n",
       "                  3658            WEATHER     4.8  17493.0  11000.0  100000.0   \n",
       "                  4962            WEATHER     4.5  25243.0  26000.0  100000.0   \n",
       "                  8912            WEATHER     4.7  14051.0   8700.0  100000.0   \n",
       "                  4955            WEATHER     4.5   3005.0  26000.0   10000.0   \n",
       "\n",
       "                        Type  Price Content Rating           Genres  \\\n",
       "Category                                                              \n",
       "ART_AND_DESIGN    4759  Paid   1.99       Everyone     Art & Design   \n",
       "                  4755  Paid   1.99       Everyone     Art & Design   \n",
       "                  4764  Paid   1.99       Everyone     Art & Design   \n",
       "AUTO_AND_VEHICLES 4216  Paid   1.99       Everyone  Auto & Vehicles   \n",
       "                  7183  Paid   1.49       Everyone  Auto & Vehicles   \n",
       "...                      ...    ...            ...              ...   \n",
       "WEATHER           4133  Paid   5.99       Everyone          Weather   \n",
       "                  3658  Paid   4.49       Everyone          Weather   \n",
       "                  4962  Paid   2.99       Everyone          Weather   \n",
       "                  8912  Paid   3.99       Everyone          Weather   \n",
       "                  4955  Paid   2.99       Everyone          Weather   \n",
       "\n",
       "                             Last Updated         Current Ver  \\\n",
       "Category                                                        \n",
       "ART_AND_DESIGN    4759      June 26, 2018               1.0.0   \n",
       "                  4755      July 30, 2018               2.1.2   \n",
       "                  4764      July 30, 2018               1.2.2   \n",
       "AUTO_AND_VEHICLES 4216       May 13, 2018  Varies with device   \n",
       "                  7183      July 27, 2018                1.49   \n",
       "...                                   ...                 ...   \n",
       "WEATHER           4133  November 21, 2017  Varies with device   \n",
       "                  3658     April 20, 2018                 1.3   \n",
       "                  4962     August 1, 2018              4.34.0   \n",
       "                  8912     August 4, 2018                 8.5   \n",
       "                  4955     August 4, 2018               7.1.4   \n",
       "\n",
       "                               Android Ver       R/I  \n",
       "Category                                              \n",
       "ART_AND_DESIGN    4759          4.1 and up  0.121600  \n",
       "                  4755          4.1 and up  0.160200  \n",
       "                  4764          4.1 and up  0.149000  \n",
       "AUTO_AND_VEHICLES 4216  Varies with device  0.082800  \n",
       "                  7183          4.0 and up  0.210000  \n",
       "...                                    ...       ...  \n",
       "WEATHER           4133  Varies with device  0.153186  \n",
       "                  3658          4.4 and up  0.174930  \n",
       "                  4962          4.4 and up  0.252430  \n",
       "                  8912          4.0 and up  0.140510  \n",
       "                  4955        4.0.3 and up  0.300500  \n",
       "\n",
       "[119 rows x 14 columns]"
      ]
     },
     "execution_count": 48,
     "metadata": {},
     "output_type": "execute_result"
    }
   ],
   "source": [
    "paid_by_category"
   ]
  },
  {
   "cell_type": "code",
   "execution_count": 56,
   "id": "ccbe2c98",
   "metadata": {
    "ExecuteTime": {
     "end_time": "2023-02-01T22:44:35.621125Z",
     "start_time": "2023-02-01T22:44:35.603108Z"
    }
   },
   "outputs": [],
   "source": [
    "paid_by_category.rename(columns={\"Category\":\"Categories\"}, inplace=True)"
   ]
  },
  {
   "cell_type": "code",
   "execution_count": 64,
   "id": "f38bb0bc",
   "metadata": {
    "ExecuteTime": {
     "end_time": "2023-02-01T22:50:05.440728Z",
     "start_time": "2023-02-01T22:50:05.426592Z"
    }
   },
   "outputs": [],
   "source": [
    "paid_by_category = paid_by_category.reset_index()"
   ]
  },
  {
   "cell_type": "code",
   "execution_count": 73,
   "id": "31d2fd6b",
   "metadata": {
    "ExecuteTime": {
     "end_time": "2023-02-01T22:53:03.635403Z",
     "start_time": "2023-02-01T22:53:03.616384Z"
    }
   },
   "outputs": [
    {
     "data": {
      "text/html": [
       "<div>\n",
       "<style scoped>\n",
       "    .dataframe tbody tr th:only-of-type {\n",
       "        vertical-align: middle;\n",
       "    }\n",
       "\n",
       "    .dataframe tbody tr th {\n",
       "        vertical-align: top;\n",
       "    }\n",
       "\n",
       "    .dataframe thead th {\n",
       "        text-align: right;\n",
       "    }\n",
       "</style>\n",
       "<table border=\"1\" class=\"dataframe\">\n",
       "  <thead>\n",
       "    <tr style=\"text-align: right;\">\n",
       "      <th></th>\n",
       "      <th>Category</th>\n",
       "      <th>level_1</th>\n",
       "      <th>App</th>\n",
       "      <th>Categories</th>\n",
       "      <th>Rating</th>\n",
       "      <th>Reviews</th>\n",
       "      <th>Size</th>\n",
       "      <th>Installs</th>\n",
       "      <th>Type</th>\n",
       "      <th>Price</th>\n",
       "      <th>Content Rating</th>\n",
       "      <th>Genres</th>\n",
       "      <th>Last Updated</th>\n",
       "      <th>Current Ver</th>\n",
       "      <th>Android Ver</th>\n",
       "      <th>R/I</th>\n",
       "    </tr>\n",
       "  </thead>\n",
       "  <tbody>\n",
       "    <tr>\n",
       "      <th>0</th>\n",
       "      <td>ART_AND_DESIGN</td>\n",
       "      <td>4759</td>\n",
       "      <td>X Launcher Pro - IOS Style Theme &amp; Control Center</td>\n",
       "      <td>ART_AND_DESIGN</td>\n",
       "      <td>4.8</td>\n",
       "      <td>1216.0</td>\n",
       "      <td>8600.0</td>\n",
       "      <td>10000.0</td>\n",
       "      <td>Paid</td>\n",
       "      <td>1.99</td>\n",
       "      <td>Everyone</td>\n",
       "      <td>Art &amp; Design</td>\n",
       "      <td>June 26, 2018</td>\n",
       "      <td>1.0.0</td>\n",
       "      <td>4.1 and up</td>\n",
       "      <td>0.121600</td>\n",
       "    </tr>\n",
       "    <tr>\n",
       "      <th>1</th>\n",
       "      <td>ART_AND_DESIGN</td>\n",
       "      <td>4755</td>\n",
       "      <td>X Launcher Pro: PhoneX Theme, OS11 Control Center</td>\n",
       "      <td>ART_AND_DESIGN</td>\n",
       "      <td>4.7</td>\n",
       "      <td>801.0</td>\n",
       "      <td>3500.0</td>\n",
       "      <td>5000.0</td>\n",
       "      <td>Paid</td>\n",
       "      <td>1.99</td>\n",
       "      <td>Everyone</td>\n",
       "      <td>Art &amp; Design</td>\n",
       "      <td>July 30, 2018</td>\n",
       "      <td>2.1.2</td>\n",
       "      <td>4.1 and up</td>\n",
       "      <td>0.160200</td>\n",
       "    </tr>\n",
       "    <tr>\n",
       "      <th>2</th>\n",
       "      <td>ART_AND_DESIGN</td>\n",
       "      <td>4764</td>\n",
       "      <td>X Launcher Prime: With OS Style Theme &amp; No Ads</td>\n",
       "      <td>ART_AND_DESIGN</td>\n",
       "      <td>4.7</td>\n",
       "      <td>149.0</td>\n",
       "      <td>3500.0</td>\n",
       "      <td>1000.0</td>\n",
       "      <td>Paid</td>\n",
       "      <td>1.99</td>\n",
       "      <td>Everyone</td>\n",
       "      <td>Art &amp; Design</td>\n",
       "      <td>July 30, 2018</td>\n",
       "      <td>1.2.2</td>\n",
       "      <td>4.1 and up</td>\n",
       "      <td>0.149000</td>\n",
       "    </tr>\n",
       "    <tr>\n",
       "      <th>3</th>\n",
       "      <td>AUTO_AND_VEHICLES</td>\n",
       "      <td>4216</td>\n",
       "      <td>Ulysse Speedometer Pro</td>\n",
       "      <td>AUTO_AND_VEHICLES</td>\n",
       "      <td>4.6</td>\n",
       "      <td>4140.0</td>\n",
       "      <td>0.0</td>\n",
       "      <td>50000.0</td>\n",
       "      <td>Paid</td>\n",
       "      <td>1.99</td>\n",
       "      <td>Everyone</td>\n",
       "      <td>Auto &amp; Vehicles</td>\n",
       "      <td>May 13, 2018</td>\n",
       "      <td>Varies with device</td>\n",
       "      <td>Varies with device</td>\n",
       "      <td>0.082800</td>\n",
       "    </tr>\n",
       "    <tr>\n",
       "      <th>4</th>\n",
       "      <td>AUTO_AND_VEHICLES</td>\n",
       "      <td>7183</td>\n",
       "      <td>Билеты ПДД CD 2019 PRO</td>\n",
       "      <td>AUTO_AND_VEHICLES</td>\n",
       "      <td>0.0</td>\n",
       "      <td>21.0</td>\n",
       "      <td>16000.0</td>\n",
       "      <td>100.0</td>\n",
       "      <td>Paid</td>\n",
       "      <td>1.49</td>\n",
       "      <td>Everyone</td>\n",
       "      <td>Auto &amp; Vehicles</td>\n",
       "      <td>July 27, 2018</td>\n",
       "      <td>1.49</td>\n",
       "      <td>4.0 and up</td>\n",
       "      <td>0.210000</td>\n",
       "    </tr>\n",
       "    <tr>\n",
       "      <th>...</th>\n",
       "      <td>...</td>\n",
       "      <td>...</td>\n",
       "      <td>...</td>\n",
       "      <td>...</td>\n",
       "      <td>...</td>\n",
       "      <td>...</td>\n",
       "      <td>...</td>\n",
       "      <td>...</td>\n",
       "      <td>...</td>\n",
       "      <td>...</td>\n",
       "      <td>...</td>\n",
       "      <td>...</td>\n",
       "      <td>...</td>\n",
       "      <td>...</td>\n",
       "      <td>...</td>\n",
       "      <td>...</td>\n",
       "    </tr>\n",
       "    <tr>\n",
       "      <th>114</th>\n",
       "      <td>WEATHER</td>\n",
       "      <td>4133</td>\n",
       "      <td>Weather Live</td>\n",
       "      <td>WEATHER</td>\n",
       "      <td>4.5</td>\n",
       "      <td>76593.0</td>\n",
       "      <td>0.0</td>\n",
       "      <td>500000.0</td>\n",
       "      <td>Paid</td>\n",
       "      <td>5.99</td>\n",
       "      <td>Everyone</td>\n",
       "      <td>Weather</td>\n",
       "      <td>November 21, 2017</td>\n",
       "      <td>Varies with device</td>\n",
       "      <td>Varies with device</td>\n",
       "      <td>0.153186</td>\n",
       "    </tr>\n",
       "    <tr>\n",
       "      <th>115</th>\n",
       "      <td>WEATHER</td>\n",
       "      <td>3658</td>\n",
       "      <td>Weather Live Pro</td>\n",
       "      <td>WEATHER</td>\n",
       "      <td>4.8</td>\n",
       "      <td>17493.0</td>\n",
       "      <td>11000.0</td>\n",
       "      <td>100000.0</td>\n",
       "      <td>Paid</td>\n",
       "      <td>4.49</td>\n",
       "      <td>Everyone</td>\n",
       "      <td>Weather</td>\n",
       "      <td>April 20, 2018</td>\n",
       "      <td>1.3</td>\n",
       "      <td>4.4 and up</td>\n",
       "      <td>0.174930</td>\n",
       "    </tr>\n",
       "    <tr>\n",
       "      <th>116</th>\n",
       "      <td>WEATHER</td>\n",
       "      <td>4962</td>\n",
       "      <td>Weather &amp; Radar Pro - Ad-Free</td>\n",
       "      <td>WEATHER</td>\n",
       "      <td>4.5</td>\n",
       "      <td>25243.0</td>\n",
       "      <td>26000.0</td>\n",
       "      <td>100000.0</td>\n",
       "      <td>Paid</td>\n",
       "      <td>2.99</td>\n",
       "      <td>Everyone</td>\n",
       "      <td>Weather</td>\n",
       "      <td>August 1, 2018</td>\n",
       "      <td>4.34.0</td>\n",
       "      <td>4.4 and up</td>\n",
       "      <td>0.252430</td>\n",
       "    </tr>\n",
       "    <tr>\n",
       "      <th>117</th>\n",
       "      <td>WEATHER</td>\n",
       "      <td>8912</td>\n",
       "      <td>Weather Forecast Pro</td>\n",
       "      <td>WEATHER</td>\n",
       "      <td>4.7</td>\n",
       "      <td>14051.0</td>\n",
       "      <td>8700.0</td>\n",
       "      <td>100000.0</td>\n",
       "      <td>Paid</td>\n",
       "      <td>3.99</td>\n",
       "      <td>Everyone</td>\n",
       "      <td>Weather</td>\n",
       "      <td>August 4, 2018</td>\n",
       "      <td>8.5</td>\n",
       "      <td>4.0 and up</td>\n",
       "      <td>0.140510</td>\n",
       "    </tr>\n",
       "    <tr>\n",
       "      <th>118</th>\n",
       "      <td>WEATHER</td>\n",
       "      <td>4955</td>\n",
       "      <td>MyRadar NOAA Weather Radar Ad Free</td>\n",
       "      <td>WEATHER</td>\n",
       "      <td>4.5</td>\n",
       "      <td>3005.0</td>\n",
       "      <td>26000.0</td>\n",
       "      <td>10000.0</td>\n",
       "      <td>Paid</td>\n",
       "      <td>2.99</td>\n",
       "      <td>Everyone</td>\n",
       "      <td>Weather</td>\n",
       "      <td>August 4, 2018</td>\n",
       "      <td>7.1.4</td>\n",
       "      <td>4.0.3 and up</td>\n",
       "      <td>0.300500</td>\n",
       "    </tr>\n",
       "  </tbody>\n",
       "</table>\n",
       "<p>119 rows × 16 columns</p>\n",
       "</div>"
      ],
      "text/plain": [
       "              Category  level_1  \\\n",
       "0       ART_AND_DESIGN     4759   \n",
       "1       ART_AND_DESIGN     4755   \n",
       "2       ART_AND_DESIGN     4764   \n",
       "3    AUTO_AND_VEHICLES     4216   \n",
       "4    AUTO_AND_VEHICLES     7183   \n",
       "..                 ...      ...   \n",
       "114            WEATHER     4133   \n",
       "115            WEATHER     3658   \n",
       "116            WEATHER     4962   \n",
       "117            WEATHER     8912   \n",
       "118            WEATHER     4955   \n",
       "\n",
       "                                                   App         Categories  \\\n",
       "0    X Launcher Pro - IOS Style Theme & Control Center     ART_AND_DESIGN   \n",
       "1    X Launcher Pro: PhoneX Theme, OS11 Control Center     ART_AND_DESIGN   \n",
       "2       X Launcher Prime: With OS Style Theme & No Ads     ART_AND_DESIGN   \n",
       "3                               Ulysse Speedometer Pro  AUTO_AND_VEHICLES   \n",
       "4                               Билеты ПДД CD 2019 PRO  AUTO_AND_VEHICLES   \n",
       "..                                                 ...                ...   \n",
       "114                                       Weather Live            WEATHER   \n",
       "115                                   Weather Live Pro            WEATHER   \n",
       "116                      Weather & Radar Pro - Ad-Free            WEATHER   \n",
       "117                               Weather Forecast Pro            WEATHER   \n",
       "118                 MyRadar NOAA Weather Radar Ad Free            WEATHER   \n",
       "\n",
       "     Rating  Reviews     Size  Installs  Type  Price Content Rating  \\\n",
       "0       4.8   1216.0   8600.0   10000.0  Paid   1.99       Everyone   \n",
       "1       4.7    801.0   3500.0    5000.0  Paid   1.99       Everyone   \n",
       "2       4.7    149.0   3500.0    1000.0  Paid   1.99       Everyone   \n",
       "3       4.6   4140.0      0.0   50000.0  Paid   1.99       Everyone   \n",
       "4       0.0     21.0  16000.0     100.0  Paid   1.49       Everyone   \n",
       "..      ...      ...      ...       ...   ...    ...            ...   \n",
       "114     4.5  76593.0      0.0  500000.0  Paid   5.99       Everyone   \n",
       "115     4.8  17493.0  11000.0  100000.0  Paid   4.49       Everyone   \n",
       "116     4.5  25243.0  26000.0  100000.0  Paid   2.99       Everyone   \n",
       "117     4.7  14051.0   8700.0  100000.0  Paid   3.99       Everyone   \n",
       "118     4.5   3005.0  26000.0   10000.0  Paid   2.99       Everyone   \n",
       "\n",
       "              Genres       Last Updated         Current Ver  \\\n",
       "0       Art & Design      June 26, 2018               1.0.0   \n",
       "1       Art & Design      July 30, 2018               2.1.2   \n",
       "2       Art & Design      July 30, 2018               1.2.2   \n",
       "3    Auto & Vehicles       May 13, 2018  Varies with device   \n",
       "4    Auto & Vehicles      July 27, 2018                1.49   \n",
       "..               ...                ...                 ...   \n",
       "114          Weather  November 21, 2017  Varies with device   \n",
       "115          Weather     April 20, 2018                 1.3   \n",
       "116          Weather     August 1, 2018              4.34.0   \n",
       "117          Weather     August 4, 2018                 8.5   \n",
       "118          Weather     August 4, 2018               7.1.4   \n",
       "\n",
       "            Android Ver       R/I  \n",
       "0            4.1 and up  0.121600  \n",
       "1            4.1 and up  0.160200  \n",
       "2            4.1 and up  0.149000  \n",
       "3    Varies with device  0.082800  \n",
       "4            4.0 and up  0.210000  \n",
       "..                  ...       ...  \n",
       "114  Varies with device  0.153186  \n",
       "115          4.4 and up  0.174930  \n",
       "116          4.4 and up  0.252430  \n",
       "117          4.0 and up  0.140510  \n",
       "118        4.0.3 and up  0.300500  \n",
       "\n",
       "[119 rows x 16 columns]"
      ]
     },
     "execution_count": 73,
     "metadata": {},
     "output_type": "execute_result"
    }
   ],
   "source": [
    "paid_by_category"
   ]
  },
  {
   "cell_type": "code",
   "execution_count": 79,
   "id": "a3e8b1fb",
   "metadata": {
    "ExecuteTime": {
     "end_time": "2023-02-01T22:55:35.996625Z",
     "start_time": "2023-02-01T22:55:35.978600Z"
    }
   },
   "outputs": [],
   "source": [
    "import plotly.express as px\n",
    "import numpy as np\n",
    "import plotly.graph_objects as go"
   ]
  },
  {
   "cell_type": "code",
   "execution_count": 92,
   "id": "640cc773",
   "metadata": {
    "ExecuteTime": {
     "end_time": "2023-02-01T22:59:30.282932Z",
     "start_time": "2023-02-01T22:59:30.255916Z"
    }
   },
   "outputs": [
    {
     "data": {
      "text/html": [
       "<div>\n",
       "<style scoped>\n",
       "    .dataframe tbody tr th:only-of-type {\n",
       "        vertical-align: middle;\n",
       "    }\n",
       "\n",
       "    .dataframe tbody tr th {\n",
       "        vertical-align: top;\n",
       "    }\n",
       "\n",
       "    .dataframe thead th {\n",
       "        text-align: right;\n",
       "    }\n",
       "</style>\n",
       "<table border=\"1\" class=\"dataframe\">\n",
       "  <thead>\n",
       "    <tr style=\"text-align: right;\">\n",
       "      <th></th>\n",
       "      <th>Category</th>\n",
       "      <th>level_1</th>\n",
       "      <th>Rating</th>\n",
       "      <th>Reviews</th>\n",
       "      <th>Size</th>\n",
       "      <th>Installs</th>\n",
       "      <th>Price</th>\n",
       "      <th>R/I</th>\n",
       "    </tr>\n",
       "  </thead>\n",
       "  <tbody>\n",
       "    <tr>\n",
       "      <th>0</th>\n",
       "      <td>ART_AND_DESIGN</td>\n",
       "      <td>4764</td>\n",
       "      <td>4.8</td>\n",
       "      <td>1216.0</td>\n",
       "      <td>8600.0</td>\n",
       "      <td>10000.0</td>\n",
       "      <td>1.99</td>\n",
       "      <td>0.16020</td>\n",
       "    </tr>\n",
       "    <tr>\n",
       "      <th>1</th>\n",
       "      <td>AUTO_AND_VEHICLES</td>\n",
       "      <td>7183</td>\n",
       "      <td>4.6</td>\n",
       "      <td>4140.0</td>\n",
       "      <td>17000.0</td>\n",
       "      <td>50000.0</td>\n",
       "      <td>9.99</td>\n",
       "      <td>0.21000</td>\n",
       "    </tr>\n",
       "    <tr>\n",
       "      <th>2</th>\n",
       "      <td>BOOKS_AND_REFERENCE</td>\n",
       "      <td>8927</td>\n",
       "      <td>4.7</td>\n",
       "      <td>1340.0</td>\n",
       "      <td>48000.0</td>\n",
       "      <td>10000.0</td>\n",
       "      <td>4.60</td>\n",
       "      <td>0.13400</td>\n",
       "    </tr>\n",
       "    <tr>\n",
       "      <th>3</th>\n",
       "      <td>BUSINESS</td>\n",
       "      <td>7962</td>\n",
       "      <td>4.8</td>\n",
       "      <td>11442.0</td>\n",
       "      <td>39000.0</td>\n",
       "      <td>100000.0</td>\n",
       "      <td>4.99</td>\n",
       "      <td>0.72600</td>\n",
       "    </tr>\n",
       "    <tr>\n",
       "      <th>4</th>\n",
       "      <td>COMMUNICATION</td>\n",
       "      <td>10072</td>\n",
       "      <td>4.6</td>\n",
       "      <td>51110.0</td>\n",
       "      <td>2600.0</td>\n",
       "      <td>1000000.0</td>\n",
       "      <td>3.99</td>\n",
       "      <td>0.18247</td>\n",
       "    </tr>\n",
       "  </tbody>\n",
       "</table>\n",
       "</div>"
      ],
      "text/plain": [
       "              Category  level_1  Rating  Reviews     Size   Installs  Price  \\\n",
       "0       ART_AND_DESIGN     4764     4.8   1216.0   8600.0    10000.0   1.99   \n",
       "1    AUTO_AND_VEHICLES     7183     4.6   4140.0  17000.0    50000.0   9.99   \n",
       "2  BOOKS_AND_REFERENCE     8927     4.7   1340.0  48000.0    10000.0   4.60   \n",
       "3             BUSINESS     7962     4.8  11442.0  39000.0   100000.0   4.99   \n",
       "4        COMMUNICATION    10072     4.6  51110.0   2600.0  1000000.0   3.99   \n",
       "\n",
       "       R/I  \n",
       "0  0.16020  \n",
       "1  0.21000  \n",
       "2  0.13400  \n",
       "3  0.72600  \n",
       "4  0.18247  "
      ]
     },
     "execution_count": 92,
     "metadata": {},
     "output_type": "execute_result"
    }
   ],
   "source": [
    "paid_by_category.groupby(\"Category\").max(\"Size\").reset_index().copy()"
   ]
  },
  {
   "cell_type": "code",
   "execution_count": 93,
   "id": "ddfa74bb",
   "metadata": {
    "ExecuteTime": {
     "end_time": "2023-02-01T22:59:40.757799Z",
     "start_time": "2023-02-01T22:59:40.721188Z"
    }
   },
   "outputs": [
    {
     "data": {
      "application/vnd.plotly.v1+json": {
       "config": {
        "plotlyServerURL": "https://plot.ly"
       },
       "data": [
        {
         "domain": {
          "x": [
           0,
           1
          ],
          "y": [
           0,
           1
          ]
         },
         "hovertemplate": "label=%{label}<br>value=%{value}<br>parent=%{parent}<extra></extra>",
         "labels": [
          4764,
          7183,
          8927,
          7962,
          10072,
          571,
          854,
          1001,
          6624,
          9678,
          10540,
          1228,
          9170,
          8164,
          6567,
          5578,
          7798,
          9574,
          9828,
          7658,
          10036,
          8449,
          9785,
          8362,
          5307,
          10645,
          10531,
          10037,
          8141,
          8912
         ],
         "name": "",
         "parents": [
          "ART_AND_DESIGN",
          "AUTO_AND_VEHICLES",
          "BOOKS_AND_REFERENCE",
          "BUSINESS",
          "COMMUNICATION",
          "DATING",
          "EDUCATION",
          "ENTERTAINMENT",
          "EVENTS",
          "FAMILY",
          "FINANCE",
          "FOOD_AND_DRINK",
          "GAME",
          "HEALTH_AND_FITNESS",
          "LIBRARIES_AND_DEMO",
          "LIFESTYLE",
          "MAPS_AND_NAVIGATION",
          "MEDICAL",
          "NEWS_AND_MAGAZINES",
          "PARENTING",
          "PERSONALIZATION",
          "PHOTOGRAPHY",
          "PRODUCTIVITY",
          "SHOPPING",
          "SOCIAL",
          "SPORTS",
          "TOOLS",
          "TRAVEL_AND_LOCAL",
          "VIDEO_PLAYERS",
          "WEATHER"
         ],
         "type": "sunburst",
         "values": [
          8600,
          17000,
          48000,
          39000,
          2600,
          6200,
          63000,
          53000,
          6700,
          69000,
          7300,
          2300,
          100000,
          13000,
          4700,
          26000,
          36000,
          42000,
          26000,
          8300,
          26000,
          48000,
          15000,
          4100,
          9400,
          73000,
          35000,
          70000,
          2000,
          26000
         ]
        }
       ],
       "layout": {
        "legend": {
         "tracegroupgap": 0
        },
        "margin": {
         "t": 60
        },
        "template": {
         "data": {
          "bar": [
           {
            "error_x": {
             "color": "#2a3f5f"
            },
            "error_y": {
             "color": "#2a3f5f"
            },
            "marker": {
             "line": {
              "color": "#E5ECF6",
              "width": 0.5
             },
             "pattern": {
              "fillmode": "overlay",
              "size": 10,
              "solidity": 0.2
             }
            },
            "type": "bar"
           }
          ],
          "barpolar": [
           {
            "marker": {
             "line": {
              "color": "#E5ECF6",
              "width": 0.5
             },
             "pattern": {
              "fillmode": "overlay",
              "size": 10,
              "solidity": 0.2
             }
            },
            "type": "barpolar"
           }
          ],
          "carpet": [
           {
            "aaxis": {
             "endlinecolor": "#2a3f5f",
             "gridcolor": "white",
             "linecolor": "white",
             "minorgridcolor": "white",
             "startlinecolor": "#2a3f5f"
            },
            "baxis": {
             "endlinecolor": "#2a3f5f",
             "gridcolor": "white",
             "linecolor": "white",
             "minorgridcolor": "white",
             "startlinecolor": "#2a3f5f"
            },
            "type": "carpet"
           }
          ],
          "choropleth": [
           {
            "colorbar": {
             "outlinewidth": 0,
             "ticks": ""
            },
            "type": "choropleth"
           }
          ],
          "contour": [
           {
            "colorbar": {
             "outlinewidth": 0,
             "ticks": ""
            },
            "colorscale": [
             [
              0,
              "#0d0887"
             ],
             [
              0.1111111111111111,
              "#46039f"
             ],
             [
              0.2222222222222222,
              "#7201a8"
             ],
             [
              0.3333333333333333,
              "#9c179e"
             ],
             [
              0.4444444444444444,
              "#bd3786"
             ],
             [
              0.5555555555555556,
              "#d8576b"
             ],
             [
              0.6666666666666666,
              "#ed7953"
             ],
             [
              0.7777777777777778,
              "#fb9f3a"
             ],
             [
              0.8888888888888888,
              "#fdca26"
             ],
             [
              1,
              "#f0f921"
             ]
            ],
            "type": "contour"
           }
          ],
          "contourcarpet": [
           {
            "colorbar": {
             "outlinewidth": 0,
             "ticks": ""
            },
            "type": "contourcarpet"
           }
          ],
          "heatmap": [
           {
            "colorbar": {
             "outlinewidth": 0,
             "ticks": ""
            },
            "colorscale": [
             [
              0,
              "#0d0887"
             ],
             [
              0.1111111111111111,
              "#46039f"
             ],
             [
              0.2222222222222222,
              "#7201a8"
             ],
             [
              0.3333333333333333,
              "#9c179e"
             ],
             [
              0.4444444444444444,
              "#bd3786"
             ],
             [
              0.5555555555555556,
              "#d8576b"
             ],
             [
              0.6666666666666666,
              "#ed7953"
             ],
             [
              0.7777777777777778,
              "#fb9f3a"
             ],
             [
              0.8888888888888888,
              "#fdca26"
             ],
             [
              1,
              "#f0f921"
             ]
            ],
            "type": "heatmap"
           }
          ],
          "heatmapgl": [
           {
            "colorbar": {
             "outlinewidth": 0,
             "ticks": ""
            },
            "colorscale": [
             [
              0,
              "#0d0887"
             ],
             [
              0.1111111111111111,
              "#46039f"
             ],
             [
              0.2222222222222222,
              "#7201a8"
             ],
             [
              0.3333333333333333,
              "#9c179e"
             ],
             [
              0.4444444444444444,
              "#bd3786"
             ],
             [
              0.5555555555555556,
              "#d8576b"
             ],
             [
              0.6666666666666666,
              "#ed7953"
             ],
             [
              0.7777777777777778,
              "#fb9f3a"
             ],
             [
              0.8888888888888888,
              "#fdca26"
             ],
             [
              1,
              "#f0f921"
             ]
            ],
            "type": "heatmapgl"
           }
          ],
          "histogram": [
           {
            "marker": {
             "pattern": {
              "fillmode": "overlay",
              "size": 10,
              "solidity": 0.2
             }
            },
            "type": "histogram"
           }
          ],
          "histogram2d": [
           {
            "colorbar": {
             "outlinewidth": 0,
             "ticks": ""
            },
            "colorscale": [
             [
              0,
              "#0d0887"
             ],
             [
              0.1111111111111111,
              "#46039f"
             ],
             [
              0.2222222222222222,
              "#7201a8"
             ],
             [
              0.3333333333333333,
              "#9c179e"
             ],
             [
              0.4444444444444444,
              "#bd3786"
             ],
             [
              0.5555555555555556,
              "#d8576b"
             ],
             [
              0.6666666666666666,
              "#ed7953"
             ],
             [
              0.7777777777777778,
              "#fb9f3a"
             ],
             [
              0.8888888888888888,
              "#fdca26"
             ],
             [
              1,
              "#f0f921"
             ]
            ],
            "type": "histogram2d"
           }
          ],
          "histogram2dcontour": [
           {
            "colorbar": {
             "outlinewidth": 0,
             "ticks": ""
            },
            "colorscale": [
             [
              0,
              "#0d0887"
             ],
             [
              0.1111111111111111,
              "#46039f"
             ],
             [
              0.2222222222222222,
              "#7201a8"
             ],
             [
              0.3333333333333333,
              "#9c179e"
             ],
             [
              0.4444444444444444,
              "#bd3786"
             ],
             [
              0.5555555555555556,
              "#d8576b"
             ],
             [
              0.6666666666666666,
              "#ed7953"
             ],
             [
              0.7777777777777778,
              "#fb9f3a"
             ],
             [
              0.8888888888888888,
              "#fdca26"
             ],
             [
              1,
              "#f0f921"
             ]
            ],
            "type": "histogram2dcontour"
           }
          ],
          "mesh3d": [
           {
            "colorbar": {
             "outlinewidth": 0,
             "ticks": ""
            },
            "type": "mesh3d"
           }
          ],
          "parcoords": [
           {
            "line": {
             "colorbar": {
              "outlinewidth": 0,
              "ticks": ""
             }
            },
            "type": "parcoords"
           }
          ],
          "pie": [
           {
            "automargin": true,
            "type": "pie"
           }
          ],
          "scatter": [
           {
            "fillpattern": {
             "fillmode": "overlay",
             "size": 10,
             "solidity": 0.2
            },
            "type": "scatter"
           }
          ],
          "scatter3d": [
           {
            "line": {
             "colorbar": {
              "outlinewidth": 0,
              "ticks": ""
             }
            },
            "marker": {
             "colorbar": {
              "outlinewidth": 0,
              "ticks": ""
             }
            },
            "type": "scatter3d"
           }
          ],
          "scattercarpet": [
           {
            "marker": {
             "colorbar": {
              "outlinewidth": 0,
              "ticks": ""
             }
            },
            "type": "scattercarpet"
           }
          ],
          "scattergeo": [
           {
            "marker": {
             "colorbar": {
              "outlinewidth": 0,
              "ticks": ""
             }
            },
            "type": "scattergeo"
           }
          ],
          "scattergl": [
           {
            "marker": {
             "colorbar": {
              "outlinewidth": 0,
              "ticks": ""
             }
            },
            "type": "scattergl"
           }
          ],
          "scattermapbox": [
           {
            "marker": {
             "colorbar": {
              "outlinewidth": 0,
              "ticks": ""
             }
            },
            "type": "scattermapbox"
           }
          ],
          "scatterpolar": [
           {
            "marker": {
             "colorbar": {
              "outlinewidth": 0,
              "ticks": ""
             }
            },
            "type": "scatterpolar"
           }
          ],
          "scatterpolargl": [
           {
            "marker": {
             "colorbar": {
              "outlinewidth": 0,
              "ticks": ""
             }
            },
            "type": "scatterpolargl"
           }
          ],
          "scatterternary": [
           {
            "marker": {
             "colorbar": {
              "outlinewidth": 0,
              "ticks": ""
             }
            },
            "type": "scatterternary"
           }
          ],
          "surface": [
           {
            "colorbar": {
             "outlinewidth": 0,
             "ticks": ""
            },
            "colorscale": [
             [
              0,
              "#0d0887"
             ],
             [
              0.1111111111111111,
              "#46039f"
             ],
             [
              0.2222222222222222,
              "#7201a8"
             ],
             [
              0.3333333333333333,
              "#9c179e"
             ],
             [
              0.4444444444444444,
              "#bd3786"
             ],
             [
              0.5555555555555556,
              "#d8576b"
             ],
             [
              0.6666666666666666,
              "#ed7953"
             ],
             [
              0.7777777777777778,
              "#fb9f3a"
             ],
             [
              0.8888888888888888,
              "#fdca26"
             ],
             [
              1,
              "#f0f921"
             ]
            ],
            "type": "surface"
           }
          ],
          "table": [
           {
            "cells": {
             "fill": {
              "color": "#EBF0F8"
             },
             "line": {
              "color": "white"
             }
            },
            "header": {
             "fill": {
              "color": "#C8D4E3"
             },
             "line": {
              "color": "white"
             }
            },
            "type": "table"
           }
          ]
         },
         "layout": {
          "annotationdefaults": {
           "arrowcolor": "#2a3f5f",
           "arrowhead": 0,
           "arrowwidth": 1
          },
          "autotypenumbers": "strict",
          "coloraxis": {
           "colorbar": {
            "outlinewidth": 0,
            "ticks": ""
           }
          },
          "colorscale": {
           "diverging": [
            [
             0,
             "#8e0152"
            ],
            [
             0.1,
             "#c51b7d"
            ],
            [
             0.2,
             "#de77ae"
            ],
            [
             0.3,
             "#f1b6da"
            ],
            [
             0.4,
             "#fde0ef"
            ],
            [
             0.5,
             "#f7f7f7"
            ],
            [
             0.6,
             "#e6f5d0"
            ],
            [
             0.7,
             "#b8e186"
            ],
            [
             0.8,
             "#7fbc41"
            ],
            [
             0.9,
             "#4d9221"
            ],
            [
             1,
             "#276419"
            ]
           ],
           "sequential": [
            [
             0,
             "#0d0887"
            ],
            [
             0.1111111111111111,
             "#46039f"
            ],
            [
             0.2222222222222222,
             "#7201a8"
            ],
            [
             0.3333333333333333,
             "#9c179e"
            ],
            [
             0.4444444444444444,
             "#bd3786"
            ],
            [
             0.5555555555555556,
             "#d8576b"
            ],
            [
             0.6666666666666666,
             "#ed7953"
            ],
            [
             0.7777777777777778,
             "#fb9f3a"
            ],
            [
             0.8888888888888888,
             "#fdca26"
            ],
            [
             1,
             "#f0f921"
            ]
           ],
           "sequentialminus": [
            [
             0,
             "#0d0887"
            ],
            [
             0.1111111111111111,
             "#46039f"
            ],
            [
             0.2222222222222222,
             "#7201a8"
            ],
            [
             0.3333333333333333,
             "#9c179e"
            ],
            [
             0.4444444444444444,
             "#bd3786"
            ],
            [
             0.5555555555555556,
             "#d8576b"
            ],
            [
             0.6666666666666666,
             "#ed7953"
            ],
            [
             0.7777777777777778,
             "#fb9f3a"
            ],
            [
             0.8888888888888888,
             "#fdca26"
            ],
            [
             1,
             "#f0f921"
            ]
           ]
          },
          "colorway": [
           "#636efa",
           "#EF553B",
           "#00cc96",
           "#ab63fa",
           "#FFA15A",
           "#19d3f3",
           "#FF6692",
           "#B6E880",
           "#FF97FF",
           "#FECB52"
          ],
          "font": {
           "color": "#2a3f5f"
          },
          "geo": {
           "bgcolor": "white",
           "lakecolor": "white",
           "landcolor": "#E5ECF6",
           "showlakes": true,
           "showland": true,
           "subunitcolor": "white"
          },
          "hoverlabel": {
           "align": "left"
          },
          "hovermode": "closest",
          "mapbox": {
           "style": "light"
          },
          "paper_bgcolor": "white",
          "plot_bgcolor": "#E5ECF6",
          "polar": {
           "angularaxis": {
            "gridcolor": "white",
            "linecolor": "white",
            "ticks": ""
           },
           "bgcolor": "#E5ECF6",
           "radialaxis": {
            "gridcolor": "white",
            "linecolor": "white",
            "ticks": ""
           }
          },
          "scene": {
           "xaxis": {
            "backgroundcolor": "#E5ECF6",
            "gridcolor": "white",
            "gridwidth": 2,
            "linecolor": "white",
            "showbackground": true,
            "ticks": "",
            "zerolinecolor": "white"
           },
           "yaxis": {
            "backgroundcolor": "#E5ECF6",
            "gridcolor": "white",
            "gridwidth": 2,
            "linecolor": "white",
            "showbackground": true,
            "ticks": "",
            "zerolinecolor": "white"
           },
           "zaxis": {
            "backgroundcolor": "#E5ECF6",
            "gridcolor": "white",
            "gridwidth": 2,
            "linecolor": "white",
            "showbackground": true,
            "ticks": "",
            "zerolinecolor": "white"
           }
          },
          "shapedefaults": {
           "line": {
            "color": "#2a3f5f"
           }
          },
          "ternary": {
           "aaxis": {
            "gridcolor": "white",
            "linecolor": "white",
            "ticks": ""
           },
           "baxis": {
            "gridcolor": "white",
            "linecolor": "white",
            "ticks": ""
           },
           "bgcolor": "#E5ECF6",
           "caxis": {
            "gridcolor": "white",
            "linecolor": "white",
            "ticks": ""
           }
          },
          "title": {
           "x": 0.05
          },
          "xaxis": {
           "automargin": true,
           "gridcolor": "white",
           "linecolor": "white",
           "ticks": "",
           "title": {
            "standoff": 15
           },
           "zerolinecolor": "white",
           "zerolinewidth": 2
          },
          "yaxis": {
           "automargin": true,
           "gridcolor": "white",
           "linecolor": "white",
           "ticks": "",
           "title": {
            "standoff": 15
           },
           "zerolinecolor": "white",
           "zerolinewidth": 2
          }
         }
        }
       }
      },
      "text/html": [
       "<div>                            <div id=\"f6b93931-ff27-4d66-8ddd-6cba68c50a1a\" class=\"plotly-graph-div\" style=\"height:525px; width:100%;\"></div>            <script type=\"text/javascript\">                require([\"plotly\"], function(Plotly) {                    window.PLOTLYENV=window.PLOTLYENV || {};                                    if (document.getElementById(\"f6b93931-ff27-4d66-8ddd-6cba68c50a1a\")) {                    Plotly.newPlot(                        \"f6b93931-ff27-4d66-8ddd-6cba68c50a1a\",                        [{\"domain\":{\"x\":[0.0,1.0],\"y\":[0.0,1.0]},\"hovertemplate\":\"label=%{label}<br>value=%{value}<br>parent=%{parent}<extra></extra>\",\"labels\":[4764,7183,8927,7962,10072,571,854,1001,6624,9678,10540,1228,9170,8164,6567,5578,7798,9574,9828,7658,10036,8449,9785,8362,5307,10645,10531,10037,8141,8912],\"name\":\"\",\"parents\":[\"ART_AND_DESIGN\",\"AUTO_AND_VEHICLES\",\"BOOKS_AND_REFERENCE\",\"BUSINESS\",\"COMMUNICATION\",\"DATING\",\"EDUCATION\",\"ENTERTAINMENT\",\"EVENTS\",\"FAMILY\",\"FINANCE\",\"FOOD_AND_DRINK\",\"GAME\",\"HEALTH_AND_FITNESS\",\"LIBRARIES_AND_DEMO\",\"LIFESTYLE\",\"MAPS_AND_NAVIGATION\",\"MEDICAL\",\"NEWS_AND_MAGAZINES\",\"PARENTING\",\"PERSONALIZATION\",\"PHOTOGRAPHY\",\"PRODUCTIVITY\",\"SHOPPING\",\"SOCIAL\",\"SPORTS\",\"TOOLS\",\"TRAVEL_AND_LOCAL\",\"VIDEO_PLAYERS\",\"WEATHER\"],\"values\":[8600.0,17000.0,48000.0,39000.0,2600.0,6200.0,63000.0,53000.0,6700.0,69000.0,7300.0,2300.0,100000.0,13000.0,4700.0,26000.0,36000.0,42000.0,26000.0,8300.0,26000.0,48000.0,15000.0,4100.0,9400.0,73000.0,35000.0,70000.0,2000.0,26000.0],\"type\":\"sunburst\"}],                        {\"template\":{\"data\":{\"histogram2dcontour\":[{\"type\":\"histogram2dcontour\",\"colorbar\":{\"outlinewidth\":0,\"ticks\":\"\"},\"colorscale\":[[0.0,\"#0d0887\"],[0.1111111111111111,\"#46039f\"],[0.2222222222222222,\"#7201a8\"],[0.3333333333333333,\"#9c179e\"],[0.4444444444444444,\"#bd3786\"],[0.5555555555555556,\"#d8576b\"],[0.6666666666666666,\"#ed7953\"],[0.7777777777777778,\"#fb9f3a\"],[0.8888888888888888,\"#fdca26\"],[1.0,\"#f0f921\"]]}],\"choropleth\":[{\"type\":\"choropleth\",\"colorbar\":{\"outlinewidth\":0,\"ticks\":\"\"}}],\"histogram2d\":[{\"type\":\"histogram2d\",\"colorbar\":{\"outlinewidth\":0,\"ticks\":\"\"},\"colorscale\":[[0.0,\"#0d0887\"],[0.1111111111111111,\"#46039f\"],[0.2222222222222222,\"#7201a8\"],[0.3333333333333333,\"#9c179e\"],[0.4444444444444444,\"#bd3786\"],[0.5555555555555556,\"#d8576b\"],[0.6666666666666666,\"#ed7953\"],[0.7777777777777778,\"#fb9f3a\"],[0.8888888888888888,\"#fdca26\"],[1.0,\"#f0f921\"]]}],\"heatmap\":[{\"type\":\"heatmap\",\"colorbar\":{\"outlinewidth\":0,\"ticks\":\"\"},\"colorscale\":[[0.0,\"#0d0887\"],[0.1111111111111111,\"#46039f\"],[0.2222222222222222,\"#7201a8\"],[0.3333333333333333,\"#9c179e\"],[0.4444444444444444,\"#bd3786\"],[0.5555555555555556,\"#d8576b\"],[0.6666666666666666,\"#ed7953\"],[0.7777777777777778,\"#fb9f3a\"],[0.8888888888888888,\"#fdca26\"],[1.0,\"#f0f921\"]]}],\"heatmapgl\":[{\"type\":\"heatmapgl\",\"colorbar\":{\"outlinewidth\":0,\"ticks\":\"\"},\"colorscale\":[[0.0,\"#0d0887\"],[0.1111111111111111,\"#46039f\"],[0.2222222222222222,\"#7201a8\"],[0.3333333333333333,\"#9c179e\"],[0.4444444444444444,\"#bd3786\"],[0.5555555555555556,\"#d8576b\"],[0.6666666666666666,\"#ed7953\"],[0.7777777777777778,\"#fb9f3a\"],[0.8888888888888888,\"#fdca26\"],[1.0,\"#f0f921\"]]}],\"contourcarpet\":[{\"type\":\"contourcarpet\",\"colorbar\":{\"outlinewidth\":0,\"ticks\":\"\"}}],\"contour\":[{\"type\":\"contour\",\"colorbar\":{\"outlinewidth\":0,\"ticks\":\"\"},\"colorscale\":[[0.0,\"#0d0887\"],[0.1111111111111111,\"#46039f\"],[0.2222222222222222,\"#7201a8\"],[0.3333333333333333,\"#9c179e\"],[0.4444444444444444,\"#bd3786\"],[0.5555555555555556,\"#d8576b\"],[0.6666666666666666,\"#ed7953\"],[0.7777777777777778,\"#fb9f3a\"],[0.8888888888888888,\"#fdca26\"],[1.0,\"#f0f921\"]]}],\"surface\":[{\"type\":\"surface\",\"colorbar\":{\"outlinewidth\":0,\"ticks\":\"\"},\"colorscale\":[[0.0,\"#0d0887\"],[0.1111111111111111,\"#46039f\"],[0.2222222222222222,\"#7201a8\"],[0.3333333333333333,\"#9c179e\"],[0.4444444444444444,\"#bd3786\"],[0.5555555555555556,\"#d8576b\"],[0.6666666666666666,\"#ed7953\"],[0.7777777777777778,\"#fb9f3a\"],[0.8888888888888888,\"#fdca26\"],[1.0,\"#f0f921\"]]}],\"mesh3d\":[{\"type\":\"mesh3d\",\"colorbar\":{\"outlinewidth\":0,\"ticks\":\"\"}}],\"scatter\":[{\"fillpattern\":{\"fillmode\":\"overlay\",\"size\":10,\"solidity\":0.2},\"type\":\"scatter\"}],\"parcoords\":[{\"type\":\"parcoords\",\"line\":{\"colorbar\":{\"outlinewidth\":0,\"ticks\":\"\"}}}],\"scatterpolargl\":[{\"type\":\"scatterpolargl\",\"marker\":{\"colorbar\":{\"outlinewidth\":0,\"ticks\":\"\"}}}],\"bar\":[{\"error_x\":{\"color\":\"#2a3f5f\"},\"error_y\":{\"color\":\"#2a3f5f\"},\"marker\":{\"line\":{\"color\":\"#E5ECF6\",\"width\":0.5},\"pattern\":{\"fillmode\":\"overlay\",\"size\":10,\"solidity\":0.2}},\"type\":\"bar\"}],\"scattergeo\":[{\"type\":\"scattergeo\",\"marker\":{\"colorbar\":{\"outlinewidth\":0,\"ticks\":\"\"}}}],\"scatterpolar\":[{\"type\":\"scatterpolar\",\"marker\":{\"colorbar\":{\"outlinewidth\":0,\"ticks\":\"\"}}}],\"histogram\":[{\"marker\":{\"pattern\":{\"fillmode\":\"overlay\",\"size\":10,\"solidity\":0.2}},\"type\":\"histogram\"}],\"scattergl\":[{\"type\":\"scattergl\",\"marker\":{\"colorbar\":{\"outlinewidth\":0,\"ticks\":\"\"}}}],\"scatter3d\":[{\"type\":\"scatter3d\",\"line\":{\"colorbar\":{\"outlinewidth\":0,\"ticks\":\"\"}},\"marker\":{\"colorbar\":{\"outlinewidth\":0,\"ticks\":\"\"}}}],\"scattermapbox\":[{\"type\":\"scattermapbox\",\"marker\":{\"colorbar\":{\"outlinewidth\":0,\"ticks\":\"\"}}}],\"scatterternary\":[{\"type\":\"scatterternary\",\"marker\":{\"colorbar\":{\"outlinewidth\":0,\"ticks\":\"\"}}}],\"scattercarpet\":[{\"type\":\"scattercarpet\",\"marker\":{\"colorbar\":{\"outlinewidth\":0,\"ticks\":\"\"}}}],\"carpet\":[{\"aaxis\":{\"endlinecolor\":\"#2a3f5f\",\"gridcolor\":\"white\",\"linecolor\":\"white\",\"minorgridcolor\":\"white\",\"startlinecolor\":\"#2a3f5f\"},\"baxis\":{\"endlinecolor\":\"#2a3f5f\",\"gridcolor\":\"white\",\"linecolor\":\"white\",\"minorgridcolor\":\"white\",\"startlinecolor\":\"#2a3f5f\"},\"type\":\"carpet\"}],\"table\":[{\"cells\":{\"fill\":{\"color\":\"#EBF0F8\"},\"line\":{\"color\":\"white\"}},\"header\":{\"fill\":{\"color\":\"#C8D4E3\"},\"line\":{\"color\":\"white\"}},\"type\":\"table\"}],\"barpolar\":[{\"marker\":{\"line\":{\"color\":\"#E5ECF6\",\"width\":0.5},\"pattern\":{\"fillmode\":\"overlay\",\"size\":10,\"solidity\":0.2}},\"type\":\"barpolar\"}],\"pie\":[{\"automargin\":true,\"type\":\"pie\"}]},\"layout\":{\"autotypenumbers\":\"strict\",\"colorway\":[\"#636efa\",\"#EF553B\",\"#00cc96\",\"#ab63fa\",\"#FFA15A\",\"#19d3f3\",\"#FF6692\",\"#B6E880\",\"#FF97FF\",\"#FECB52\"],\"font\":{\"color\":\"#2a3f5f\"},\"hovermode\":\"closest\",\"hoverlabel\":{\"align\":\"left\"},\"paper_bgcolor\":\"white\",\"plot_bgcolor\":\"#E5ECF6\",\"polar\":{\"bgcolor\":\"#E5ECF6\",\"angularaxis\":{\"gridcolor\":\"white\",\"linecolor\":\"white\",\"ticks\":\"\"},\"radialaxis\":{\"gridcolor\":\"white\",\"linecolor\":\"white\",\"ticks\":\"\"}},\"ternary\":{\"bgcolor\":\"#E5ECF6\",\"aaxis\":{\"gridcolor\":\"white\",\"linecolor\":\"white\",\"ticks\":\"\"},\"baxis\":{\"gridcolor\":\"white\",\"linecolor\":\"white\",\"ticks\":\"\"},\"caxis\":{\"gridcolor\":\"white\",\"linecolor\":\"white\",\"ticks\":\"\"}},\"coloraxis\":{\"colorbar\":{\"outlinewidth\":0,\"ticks\":\"\"}},\"colorscale\":{\"sequential\":[[0.0,\"#0d0887\"],[0.1111111111111111,\"#46039f\"],[0.2222222222222222,\"#7201a8\"],[0.3333333333333333,\"#9c179e\"],[0.4444444444444444,\"#bd3786\"],[0.5555555555555556,\"#d8576b\"],[0.6666666666666666,\"#ed7953\"],[0.7777777777777778,\"#fb9f3a\"],[0.8888888888888888,\"#fdca26\"],[1.0,\"#f0f921\"]],\"sequentialminus\":[[0.0,\"#0d0887\"],[0.1111111111111111,\"#46039f\"],[0.2222222222222222,\"#7201a8\"],[0.3333333333333333,\"#9c179e\"],[0.4444444444444444,\"#bd3786\"],[0.5555555555555556,\"#d8576b\"],[0.6666666666666666,\"#ed7953\"],[0.7777777777777778,\"#fb9f3a\"],[0.8888888888888888,\"#fdca26\"],[1.0,\"#f0f921\"]],\"diverging\":[[0,\"#8e0152\"],[0.1,\"#c51b7d\"],[0.2,\"#de77ae\"],[0.3,\"#f1b6da\"],[0.4,\"#fde0ef\"],[0.5,\"#f7f7f7\"],[0.6,\"#e6f5d0\"],[0.7,\"#b8e186\"],[0.8,\"#7fbc41\"],[0.9,\"#4d9221\"],[1,\"#276419\"]]},\"xaxis\":{\"gridcolor\":\"white\",\"linecolor\":\"white\",\"ticks\":\"\",\"title\":{\"standoff\":15},\"zerolinecolor\":\"white\",\"automargin\":true,\"zerolinewidth\":2},\"yaxis\":{\"gridcolor\":\"white\",\"linecolor\":\"white\",\"ticks\":\"\",\"title\":{\"standoff\":15},\"zerolinecolor\":\"white\",\"automargin\":true,\"zerolinewidth\":2},\"scene\":{\"xaxis\":{\"backgroundcolor\":\"#E5ECF6\",\"gridcolor\":\"white\",\"linecolor\":\"white\",\"showbackground\":true,\"ticks\":\"\",\"zerolinecolor\":\"white\",\"gridwidth\":2},\"yaxis\":{\"backgroundcolor\":\"#E5ECF6\",\"gridcolor\":\"white\",\"linecolor\":\"white\",\"showbackground\":true,\"ticks\":\"\",\"zerolinecolor\":\"white\",\"gridwidth\":2},\"zaxis\":{\"backgroundcolor\":\"#E5ECF6\",\"gridcolor\":\"white\",\"linecolor\":\"white\",\"showbackground\":true,\"ticks\":\"\",\"zerolinecolor\":\"white\",\"gridwidth\":2}},\"shapedefaults\":{\"line\":{\"color\":\"#2a3f5f\"}},\"annotationdefaults\":{\"arrowcolor\":\"#2a3f5f\",\"arrowhead\":0,\"arrowwidth\":1},\"geo\":{\"bgcolor\":\"white\",\"landcolor\":\"#E5ECF6\",\"subunitcolor\":\"white\",\"showland\":true,\"showlakes\":true,\"lakecolor\":\"white\"},\"title\":{\"x\":0.05},\"mapbox\":{\"style\":\"light\"}}},\"legend\":{\"tracegroupgap\":0},\"margin\":{\"t\":60}},                        {\"responsive\": true}                    ).then(function(){\n",
       "                            \n",
       "var gd = document.getElementById('f6b93931-ff27-4d66-8ddd-6cba68c50a1a');\n",
       "var x = new MutationObserver(function (mutations, observer) {{\n",
       "        var display = window.getComputedStyle(gd).display;\n",
       "        if (!display || display === 'none') {{\n",
       "            console.log([gd, 'removed!']);\n",
       "            Plotly.purge(gd);\n",
       "            observer.disconnect();\n",
       "        }}\n",
       "}});\n",
       "\n",
       "// Listen for the removal of the full notebook cells\n",
       "var notebookContainer = gd.closest('#notebook-container');\n",
       "if (notebookContainer) {{\n",
       "    x.observe(notebookContainer, {childList: true});\n",
       "}}\n",
       "\n",
       "// Listen for the clearing of the current output cell\n",
       "var outputEl = gd.closest('.output');\n",
       "if (outputEl) {{\n",
       "    x.observe(outputEl, {childList: true});\n",
       "}}\n",
       "\n",
       "                        })                };                });            </script>        </div>"
      ]
     },
     "metadata": {},
     "output_type": "display_data"
    }
   ],
   "source": [
    "data = paid_by_category.groupby(\"Category\").max(\"Size\").reset_index().copy()\n",
    "fig = px.sunburst(names = data.level_1,parents = data.Category,values = data.Size)\n",
    "fig.show()"
   ]
  },
  {
   "cell_type": "code",
   "execution_count": 94,
   "id": "254aff0d",
   "metadata": {
    "ExecuteTime": {
     "end_time": "2023-02-01T22:59:46.960256Z",
     "start_time": "2023-02-01T22:59:46.931230Z"
    }
   },
   "outputs": [
    {
     "data": {
      "text/html": [
       "<div>\n",
       "<style scoped>\n",
       "    .dataframe tbody tr th:only-of-type {\n",
       "        vertical-align: middle;\n",
       "    }\n",
       "\n",
       "    .dataframe tbody tr th {\n",
       "        vertical-align: top;\n",
       "    }\n",
       "\n",
       "    .dataframe thead th {\n",
       "        text-align: right;\n",
       "    }\n",
       "</style>\n",
       "<table border=\"1\" class=\"dataframe\">\n",
       "  <thead>\n",
       "    <tr style=\"text-align: right;\">\n",
       "      <th></th>\n",
       "      <th>Category</th>\n",
       "      <th>level_1</th>\n",
       "      <th>Rating</th>\n",
       "      <th>Reviews</th>\n",
       "      <th>Size</th>\n",
       "      <th>Installs</th>\n",
       "      <th>Price</th>\n",
       "      <th>R/I</th>\n",
       "    </tr>\n",
       "  </thead>\n",
       "  <tbody>\n",
       "    <tr>\n",
       "      <th>0</th>\n",
       "      <td>ART_AND_DESIGN</td>\n",
       "      <td>4764</td>\n",
       "      <td>4.8</td>\n",
       "      <td>1216.0</td>\n",
       "      <td>8600.0</td>\n",
       "      <td>10000.0</td>\n",
       "      <td>1.99</td>\n",
       "      <td>0.160200</td>\n",
       "    </tr>\n",
       "    <tr>\n",
       "      <th>1</th>\n",
       "      <td>AUTO_AND_VEHICLES</td>\n",
       "      <td>7183</td>\n",
       "      <td>4.6</td>\n",
       "      <td>4140.0</td>\n",
       "      <td>17000.0</td>\n",
       "      <td>50000.0</td>\n",
       "      <td>9.99</td>\n",
       "      <td>0.210000</td>\n",
       "    </tr>\n",
       "    <tr>\n",
       "      <th>2</th>\n",
       "      <td>BOOKS_AND_REFERENCE</td>\n",
       "      <td>8927</td>\n",
       "      <td>4.7</td>\n",
       "      <td>1340.0</td>\n",
       "      <td>48000.0</td>\n",
       "      <td>10000.0</td>\n",
       "      <td>4.60</td>\n",
       "      <td>0.134000</td>\n",
       "    </tr>\n",
       "    <tr>\n",
       "      <th>3</th>\n",
       "      <td>BUSINESS</td>\n",
       "      <td>7962</td>\n",
       "      <td>4.8</td>\n",
       "      <td>11442.0</td>\n",
       "      <td>39000.0</td>\n",
       "      <td>100000.0</td>\n",
       "      <td>4.99</td>\n",
       "      <td>0.726000</td>\n",
       "    </tr>\n",
       "    <tr>\n",
       "      <th>4</th>\n",
       "      <td>COMMUNICATION</td>\n",
       "      <td>10072</td>\n",
       "      <td>4.6</td>\n",
       "      <td>51110.0</td>\n",
       "      <td>2600.0</td>\n",
       "      <td>1000000.0</td>\n",
       "      <td>3.99</td>\n",
       "      <td>0.182470</td>\n",
       "    </tr>\n",
       "    <tr>\n",
       "      <th>5</th>\n",
       "      <td>DATING</td>\n",
       "      <td>571</td>\n",
       "      <td>4.2</td>\n",
       "      <td>1546.0</td>\n",
       "      <td>6200.0</td>\n",
       "      <td>10000.0</td>\n",
       "      <td>6.99</td>\n",
       "      <td>0.154600</td>\n",
       "    </tr>\n",
       "    <tr>\n",
       "      <th>6</th>\n",
       "      <td>EDUCATION</td>\n",
       "      <td>854</td>\n",
       "      <td>4.9</td>\n",
       "      <td>31085.0</td>\n",
       "      <td>63000.0</td>\n",
       "      <td>500000.0</td>\n",
       "      <td>5.99</td>\n",
       "      <td>0.062170</td>\n",
       "    </tr>\n",
       "    <tr>\n",
       "      <th>7</th>\n",
       "      <td>ENTERTAINMENT</td>\n",
       "      <td>1001</td>\n",
       "      <td>4.6</td>\n",
       "      <td>6238.0</td>\n",
       "      <td>53000.0</td>\n",
       "      <td>100000.0</td>\n",
       "      <td>4.99</td>\n",
       "      <td>0.062380</td>\n",
       "    </tr>\n",
       "    <tr>\n",
       "      <th>8</th>\n",
       "      <td>EVENTS</td>\n",
       "      <td>6624</td>\n",
       "      <td>0.0</td>\n",
       "      <td>0.0</td>\n",
       "      <td>6700.0</td>\n",
       "      <td>1.0</td>\n",
       "      <td>109.99</td>\n",
       "      <td>0.000000</td>\n",
       "    </tr>\n",
       "    <tr>\n",
       "      <th>9</th>\n",
       "      <td>FAMILY</td>\n",
       "      <td>9678</td>\n",
       "      <td>4.7</td>\n",
       "      <td>2376564.0</td>\n",
       "      <td>69000.0</td>\n",
       "      <td>10000000.0</td>\n",
       "      <td>6.99</td>\n",
       "      <td>0.237656</td>\n",
       "    </tr>\n",
       "    <tr>\n",
       "      <th>10</th>\n",
       "      <td>FINANCE</td>\n",
       "      <td>10540</td>\n",
       "      <td>4.7</td>\n",
       "      <td>19784.0</td>\n",
       "      <td>7300.0</td>\n",
       "      <td>100000.0</td>\n",
       "      <td>399.99</td>\n",
       "      <td>0.197840</td>\n",
       "    </tr>\n",
       "    <tr>\n",
       "      <th>11</th>\n",
       "      <td>FOOD_AND_DRINK</td>\n",
       "      <td>1228</td>\n",
       "      <td>4.6</td>\n",
       "      <td>2129.0</td>\n",
       "      <td>2300.0</td>\n",
       "      <td>50000.0</td>\n",
       "      <td>4.99</td>\n",
       "      <td>0.212900</td>\n",
       "    </tr>\n",
       "    <tr>\n",
       "      <th>12</th>\n",
       "      <td>GAME</td>\n",
       "      <td>9170</td>\n",
       "      <td>4.6</td>\n",
       "      <td>408292.0</td>\n",
       "      <td>100000.0</td>\n",
       "      <td>10000000.0</td>\n",
       "      <td>4.99</td>\n",
       "      <td>0.087766</td>\n",
       "    </tr>\n",
       "    <tr>\n",
       "      <th>13</th>\n",
       "      <td>HEALTH_AND_FITNESS</td>\n",
       "      <td>8164</td>\n",
       "      <td>4.8</td>\n",
       "      <td>19543.0</td>\n",
       "      <td>13000.0</td>\n",
       "      <td>100000.0</td>\n",
       "      <td>3.49</td>\n",
       "      <td>0.195430</td>\n",
       "    </tr>\n",
       "    <tr>\n",
       "      <th>14</th>\n",
       "      <td>LIBRARIES_AND_DEMO</td>\n",
       "      <td>6567</td>\n",
       "      <td>0.0</td>\n",
       "      <td>4.0</td>\n",
       "      <td>4700.0</td>\n",
       "      <td>100.0</td>\n",
       "      <td>0.99</td>\n",
       "      <td>0.040000</td>\n",
       "    </tr>\n",
       "    <tr>\n",
       "      <th>15</th>\n",
       "      <td>LIFESTYLE</td>\n",
       "      <td>5578</td>\n",
       "      <td>4.8</td>\n",
       "      <td>23966.0</td>\n",
       "      <td>26000.0</td>\n",
       "      <td>1000000.0</td>\n",
       "      <td>400.00</td>\n",
       "      <td>1.024900</td>\n",
       "    </tr>\n",
       "    <tr>\n",
       "      <th>16</th>\n",
       "      <td>MAPS_AND_NAVIGATION</td>\n",
       "      <td>7798</td>\n",
       "      <td>4.5</td>\n",
       "      <td>6230.0</td>\n",
       "      <td>36000.0</td>\n",
       "      <td>100000.0</td>\n",
       "      <td>11.99</td>\n",
       "      <td>0.062300</td>\n",
       "    </tr>\n",
       "    <tr>\n",
       "      <th>17</th>\n",
       "      <td>MEDICAL</td>\n",
       "      <td>9574</td>\n",
       "      <td>4.5</td>\n",
       "      <td>4207.0</td>\n",
       "      <td>42000.0</td>\n",
       "      <td>100000.0</td>\n",
       "      <td>24.99</td>\n",
       "      <td>0.084140</td>\n",
       "    </tr>\n",
       "    <tr>\n",
       "      <th>18</th>\n",
       "      <td>NEWS_AND_MAGAZINES</td>\n",
       "      <td>9828</td>\n",
       "      <td>4.9</td>\n",
       "      <td>143.0</td>\n",
       "      <td>26000.0</td>\n",
       "      <td>5000.0</td>\n",
       "      <td>2.99</td>\n",
       "      <td>0.116000</td>\n",
       "    </tr>\n",
       "    <tr>\n",
       "      <th>19</th>\n",
       "      <td>PARENTING</td>\n",
       "      <td>7658</td>\n",
       "      <td>4.7</td>\n",
       "      <td>8343.0</td>\n",
       "      <td>8300.0</td>\n",
       "      <td>50000.0</td>\n",
       "      <td>4.99</td>\n",
       "      <td>0.230000</td>\n",
       "    </tr>\n",
       "    <tr>\n",
       "      <th>20</th>\n",
       "      <td>PERSONALIZATION</td>\n",
       "      <td>10036</td>\n",
       "      <td>4.6</td>\n",
       "      <td>97890.0</td>\n",
       "      <td>26000.0</td>\n",
       "      <td>1000000.0</td>\n",
       "      <td>2.49</td>\n",
       "      <td>0.140260</td>\n",
       "    </tr>\n",
       "    <tr>\n",
       "      <th>21</th>\n",
       "      <td>PHOTOGRAPHY</td>\n",
       "      <td>8449</td>\n",
       "      <td>4.6</td>\n",
       "      <td>49553.0</td>\n",
       "      <td>48000.0</td>\n",
       "      <td>1000000.0</td>\n",
       "      <td>5.99</td>\n",
       "      <td>0.163200</td>\n",
       "    </tr>\n",
       "    <tr>\n",
       "      <th>22</th>\n",
       "      <td>PRODUCTIVITY</td>\n",
       "      <td>9785</td>\n",
       "      <td>4.8</td>\n",
       "      <td>81614.0</td>\n",
       "      <td>15000.0</td>\n",
       "      <td>500000.0</td>\n",
       "      <td>5.99</td>\n",
       "      <td>0.271350</td>\n",
       "    </tr>\n",
       "    <tr>\n",
       "      <th>23</th>\n",
       "      <td>SHOPPING</td>\n",
       "      <td>8362</td>\n",
       "      <td>4.8</td>\n",
       "      <td>470.0</td>\n",
       "      <td>4100.0</td>\n",
       "      <td>10000.0</td>\n",
       "      <td>2.99</td>\n",
       "      <td>0.140000</td>\n",
       "    </tr>\n",
       "    <tr>\n",
       "      <th>24</th>\n",
       "      <td>SOCIAL</td>\n",
       "      <td>5307</td>\n",
       "      <td>4.2</td>\n",
       "      <td>204.0</td>\n",
       "      <td>9400.0</td>\n",
       "      <td>5000.0</td>\n",
       "      <td>13.99</td>\n",
       "      <td>0.040800</td>\n",
       "    </tr>\n",
       "    <tr>\n",
       "      <th>25</th>\n",
       "      <td>SPORTS</td>\n",
       "      <td>10645</td>\n",
       "      <td>4.4</td>\n",
       "      <td>129409.0</td>\n",
       "      <td>73000.0</td>\n",
       "      <td>1000000.0</td>\n",
       "      <td>29.99</td>\n",
       "      <td>0.129409</td>\n",
       "    </tr>\n",
       "    <tr>\n",
       "      <th>26</th>\n",
       "      <td>TOOLS</td>\n",
       "      <td>10531</td>\n",
       "      <td>4.8</td>\n",
       "      <td>57076.0</td>\n",
       "      <td>35000.0</td>\n",
       "      <td>1000000.0</td>\n",
       "      <td>4.49</td>\n",
       "      <td>0.570760</td>\n",
       "    </tr>\n",
       "    <tr>\n",
       "      <th>27</th>\n",
       "      <td>TRAVEL_AND_LOCAL</td>\n",
       "      <td>10037</td>\n",
       "      <td>4.7</td>\n",
       "      <td>15209.0</td>\n",
       "      <td>70000.0</td>\n",
       "      <td>100000.0</td>\n",
       "      <td>8.99</td>\n",
       "      <td>0.152090</td>\n",
       "    </tr>\n",
       "    <tr>\n",
       "      <th>28</th>\n",
       "      <td>VIDEO_PLAYERS</td>\n",
       "      <td>8141</td>\n",
       "      <td>4.8</td>\n",
       "      <td>5639.0</td>\n",
       "      <td>2000.0</td>\n",
       "      <td>50000.0</td>\n",
       "      <td>5.99</td>\n",
       "      <td>0.563900</td>\n",
       "    </tr>\n",
       "    <tr>\n",
       "      <th>29</th>\n",
       "      <td>WEATHER</td>\n",
       "      <td>8912</td>\n",
       "      <td>4.8</td>\n",
       "      <td>76593.0</td>\n",
       "      <td>26000.0</td>\n",
       "      <td>500000.0</td>\n",
       "      <td>5.99</td>\n",
       "      <td>0.300500</td>\n",
       "    </tr>\n",
       "  </tbody>\n",
       "</table>\n",
       "</div>"
      ],
      "text/plain": [
       "               Category  level_1  Rating    Reviews      Size    Installs  \\\n",
       "0        ART_AND_DESIGN     4764     4.8     1216.0    8600.0     10000.0   \n",
       "1     AUTO_AND_VEHICLES     7183     4.6     4140.0   17000.0     50000.0   \n",
       "2   BOOKS_AND_REFERENCE     8927     4.7     1340.0   48000.0     10000.0   \n",
       "3              BUSINESS     7962     4.8    11442.0   39000.0    100000.0   \n",
       "4         COMMUNICATION    10072     4.6    51110.0    2600.0   1000000.0   \n",
       "5                DATING      571     4.2     1546.0    6200.0     10000.0   \n",
       "6             EDUCATION      854     4.9    31085.0   63000.0    500000.0   \n",
       "7         ENTERTAINMENT     1001     4.6     6238.0   53000.0    100000.0   \n",
       "8                EVENTS     6624     0.0        0.0    6700.0         1.0   \n",
       "9                FAMILY     9678     4.7  2376564.0   69000.0  10000000.0   \n",
       "10              FINANCE    10540     4.7    19784.0    7300.0    100000.0   \n",
       "11       FOOD_AND_DRINK     1228     4.6     2129.0    2300.0     50000.0   \n",
       "12                 GAME     9170     4.6   408292.0  100000.0  10000000.0   \n",
       "13   HEALTH_AND_FITNESS     8164     4.8    19543.0   13000.0    100000.0   \n",
       "14   LIBRARIES_AND_DEMO     6567     0.0        4.0    4700.0       100.0   \n",
       "15            LIFESTYLE     5578     4.8    23966.0   26000.0   1000000.0   \n",
       "16  MAPS_AND_NAVIGATION     7798     4.5     6230.0   36000.0    100000.0   \n",
       "17              MEDICAL     9574     4.5     4207.0   42000.0    100000.0   \n",
       "18   NEWS_AND_MAGAZINES     9828     4.9      143.0   26000.0      5000.0   \n",
       "19            PARENTING     7658     4.7     8343.0    8300.0     50000.0   \n",
       "20      PERSONALIZATION    10036     4.6    97890.0   26000.0   1000000.0   \n",
       "21          PHOTOGRAPHY     8449     4.6    49553.0   48000.0   1000000.0   \n",
       "22         PRODUCTIVITY     9785     4.8    81614.0   15000.0    500000.0   \n",
       "23             SHOPPING     8362     4.8      470.0    4100.0     10000.0   \n",
       "24               SOCIAL     5307     4.2      204.0    9400.0      5000.0   \n",
       "25               SPORTS    10645     4.4   129409.0   73000.0   1000000.0   \n",
       "26                TOOLS    10531     4.8    57076.0   35000.0   1000000.0   \n",
       "27     TRAVEL_AND_LOCAL    10037     4.7    15209.0   70000.0    100000.0   \n",
       "28        VIDEO_PLAYERS     8141     4.8     5639.0    2000.0     50000.0   \n",
       "29              WEATHER     8912     4.8    76593.0   26000.0    500000.0   \n",
       "\n",
       "     Price       R/I  \n",
       "0     1.99  0.160200  \n",
       "1     9.99  0.210000  \n",
       "2     4.60  0.134000  \n",
       "3     4.99  0.726000  \n",
       "4     3.99  0.182470  \n",
       "5     6.99  0.154600  \n",
       "6     5.99  0.062170  \n",
       "7     4.99  0.062380  \n",
       "8   109.99  0.000000  \n",
       "9     6.99  0.237656  \n",
       "10  399.99  0.197840  \n",
       "11    4.99  0.212900  \n",
       "12    4.99  0.087766  \n",
       "13    3.49  0.195430  \n",
       "14    0.99  0.040000  \n",
       "15  400.00  1.024900  \n",
       "16   11.99  0.062300  \n",
       "17   24.99  0.084140  \n",
       "18    2.99  0.116000  \n",
       "19    4.99  0.230000  \n",
       "20    2.49  0.140260  \n",
       "21    5.99  0.163200  \n",
       "22    5.99  0.271350  \n",
       "23    2.99  0.140000  \n",
       "24   13.99  0.040800  \n",
       "25   29.99  0.129409  \n",
       "26    4.49  0.570760  \n",
       "27    8.99  0.152090  \n",
       "28    5.99  0.563900  \n",
       "29    5.99  0.300500  "
      ]
     },
     "execution_count": 94,
     "metadata": {},
     "output_type": "execute_result"
    }
   ],
   "source": [
    "paid_by_category.groupby(\"Category\").max(\"Size\").reset_index()"
   ]
  },
  {
   "cell_type": "code",
   "execution_count": null,
   "id": "b35c06e8",
   "metadata": {},
   "outputs": [],
   "source": []
  }
 ],
 "metadata": {
  "kernelspec": {
   "display_name": "Python 3 (ipykernel)",
   "language": "python",
   "name": "python3"
  },
  "language_info": {
   "codemirror_mode": {
    "name": "ipython",
    "version": 3
   },
   "file_extension": ".py",
   "mimetype": "text/x-python",
   "name": "python",
   "nbconvert_exporter": "python",
   "pygments_lexer": "ipython3",
   "version": "3.9.13"
  },
  "toc": {
   "base_numbering": 1,
   "nav_menu": {},
   "number_sections": true,
   "sideBar": true,
   "skip_h1_title": false,
   "title_cell": "Table of Contents",
   "title_sidebar": "Contents",
   "toc_cell": false,
   "toc_position": {},
   "toc_section_display": true,
   "toc_window_display": false
  },
  "varInspector": {
   "cols": {
    "lenName": 16,
    "lenType": 16,
    "lenVar": 40
   },
   "kernels_config": {
    "python": {
     "delete_cmd_postfix": "",
     "delete_cmd_prefix": "del ",
     "library": "var_list.py",
     "varRefreshCmd": "print(var_dic_list())"
    },
    "r": {
     "delete_cmd_postfix": ") ",
     "delete_cmd_prefix": "rm(",
     "library": "var_list.r",
     "varRefreshCmd": "cat(var_dic_list()) "
    }
   },
   "types_to_exclude": [
    "module",
    "function",
    "builtin_function_or_method",
    "instance",
    "_Feature"
   ],
   "window_display": false
  }
 },
 "nbformat": 4,
 "nbformat_minor": 5
}
